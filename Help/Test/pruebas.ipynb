{
 "cells": [
  {
   "cell_type": "markdown",
   "id": "bf58a38f-0297-4271-814c-3378a7c01091",
   "metadata": {},
   "source": [
    "Lo que se aprecia aquí son test para ciertas partes de la extracción o limpieza de datos."
   ]
  },
  {
   "cell_type": "code",
   "execution_count": 1,
   "id": "caa537c5-b1ab-4e86-8d61-cb7832988c9c",
   "metadata": {},
   "outputs": [],
   "source": [
    "import requests\n",
    "from bs4 import BeautifulSoup\n",
    "import pandas as pd"
   ]
  },
  {
   "cell_type": "code",
   "execution_count": 2,
   "id": "3d4c0903-02c3-4db5-9727-384148e2f5f7",
   "metadata": {},
   "outputs": [
    {
     "name": "stdout",
     "output_type": "stream",
     "text": [
      "Jeffrie Epstein no se suicidó :u\n"
     ]
    }
   ],
   "source": [
    "s9 = \"Jeffrie Epstein no se suicidó :u\"\n",
    "print(s9)"
   ]
  },
  {
   "cell_type": "code",
   "execution_count": 3,
   "id": "6eac903c-523d-4b5f-97f9-36f5e4738f1f",
   "metadata": {},
   "outputs": [
    {
     "name": "stdout",
     "output_type": "stream",
     "text": [
      "Jeffrie Epsteisi sio se suicidó :u\n"
     ]
    }
   ],
   "source": [
    "s10 = s9.replace('n', 'si')\n",
    "print(s10)"
   ]
  },
  {
   "cell_type": "code",
   "execution_count": 4,
   "id": "9d94442e-27a9-4bf8-9ab7-74c959369bf8",
   "metadata": {},
   "outputs": [],
   "source": [
    "strings = [\"a\", \"ab\", \"aa\", \"c\"]"
   ]
  },
  {
   "cell_type": "code",
   "execution_count": 5,
   "id": "0b5e1ed6-c305-47c4-9a6d-755e018b65ac",
   "metadata": {},
   "outputs": [
    {
     "name": "stdout",
     "output_type": "stream",
     "text": [
      "['1', '1b', '11', 'c']\n"
     ]
    }
   ],
   "source": [
    "new_strings = []\n",
    "\n",
    "for string in strings:\n",
    "\n",
    "    new_string = string.replace(\"a\", \"1\")\n",
    "    new_strings.append(new_string)\n",
    "\n",
    "print(new_strings)"
   ]
  },
  {
   "cell_type": "markdown",
   "id": "7eff0b26-9000-4896-8204-2a0d19eaf52b",
   "metadata": {},
   "source": [
    "Vectores de equipos:"
   ]
  },
  {
   "cell_type": "code",
   "execution_count": 6,
   "id": "bd4c93cd-cc15-406e-a04c-17ca5b191d3c",
   "metadata": {},
   "outputs": [],
   "source": [
    "teams = ['arizona-diamondbacks',\n",
    "         'atlanta-braves',\n",
    "         'baltimore-orioles',\n",
    "         'boston-red-sox',\n",
    "         'chicago-cubs',\n",
    "         'chicago-white-sox',\n",
    "         'cincinnati-reds',\n",
    "         'cleveland-guardians',\n",
    "         'colorado-rockies',\n",
    "         'detroit-tigers',\n",
    "         'houston-astros',\n",
    "         'kansas-city-royals',\n",
    "         'los-angeles-angels',\n",
    "         'los-angeles-dodgers',\n",
    "         'miami-marlins',\n",
    "         'milwaukee-brewers',\n",
    "         'minnesota-twins',\n",
    "         'new-york-mets',\n",
    "         'new-york-yankees',\n",
    "         'oakland-athletics',\n",
    "         'philadelphia-phillies',\n",
    "         'pittsburgh-pirates',\n",
    "         'san-diego-padres',\n",
    "         'san-francisco-giants',\n",
    "         'seattle-mariners',\n",
    "         'st-louis-cardinals',\n",
    "         'tampa-bay-rays',\n",
    "         'texas-rangers',\n",
    "         'toronto-blue-jays',\n",
    "         'washington-nationals'\n",
    "        ]"
   ]
  },
  {
   "cell_type": "code",
   "execution_count": 8,
   "id": "3a5e0656-3b18-428b-b136-e0fbc53e4f34",
   "metadata": {},
   "outputs": [
    {
     "data": {
      "text/plain": [
       "<Response [200]>"
      ]
     },
     "execution_count": 8,
     "metadata": {},
     "output_type": "execute_result"
    }
   ],
   "source": [
    "url = 'https://www.spotrac.com/mlb/' + teams[0] + '/payroll/'\n",
    "page = requests.get(url)\n",
    "page"
   ]
  },
  {
   "cell_type": "code",
   "execution_count": 14,
   "id": "db98d7ac-7b44-496c-ac92-8ddc1c5aab19",
   "metadata": {},
   "outputs": [
    {
     "name": "stdout",
     "output_type": "stream",
     "text": [
      "1<class 'str'>\n",
      "2<class 'str'>\n",
      " <class 'str'>\n",
      "2<class 'str'>\n",
      " <class 'str'>\n",
      "3<class 'str'>\n",
      " <class 'str'>\n",
      "4<class 'str'>\n",
      " <class 'str'>\n",
      "5<class 'str'>\n"
     ]
    }
   ],
   "source": [
    "lista = [12,2,3,4,5]\n",
    "lista_str = ' '.join(str(wrd) for wrd in lista)\n",
    "\n",
    "for i in lista_str:\n",
    "    print(str(i) + str(type(i)))"
   ]
  },
  {
   "cell_type": "code",
   "execution_count": 22,
   "id": "5989cefa-adc7-4177-bfc8-beef33374d7f",
   "metadata": {},
   "outputs": [
    {
     "name": "stdout",
     "output_type": "stream",
     "text": [
      "5000\n"
     ]
    }
   ],
   "source": [
    "str = \"pythonpool\" + teams[0]\n",
    " \n",
    "globals()[str] = 5000\n",
    "print(pythonpool)"
   ]
  },
  {
   "cell_type": "code",
   "execution_count": 23,
   "id": "bd5d5122-e346-490e-bf5a-27c8e8698d17",
   "metadata": {},
   "outputs": [],
   "source": [
    "lista = []"
   ]
  },
  {
   "cell_type": "code",
   "execution_count": 32,
   "id": "4ccde83e-0da9-4169-9946-679d97ed5888",
   "metadata": {},
   "outputs": [
    {
     "name": "stdout",
     "output_type": "stream",
     "text": [
      "[[0, 3, 4], [0, 3, 4], [0, 3, 4], [0, 3, 4], [0, 3, 4], [0, 3, 4], [0, 3, 4]]\n"
     ]
    }
   ],
   "source": [
    "lista.append([0,3,4])\n",
    "print(lista)"
   ]
  },
  {
   "cell_type": "code",
   "execution_count": 33,
   "id": "567b743e-b623-423a-acb6-e047eebadb08",
   "metadata": {},
   "outputs": [
    {
     "ename": "NameError",
     "evalue": "name 'mlb' is not defined",
     "output_type": "error",
     "traceback": [
      "\u001b[0;31m---------------------------------------------------------------------------\u001b[0m",
      "\u001b[0;31mNameError\u001b[0m                                 Traceback (most recent call last)",
      "\u001b[0;32m<ipython-input-33-2d15aaed37bc>\u001b[0m in \u001b[0;36m<module>\u001b[0;34m\u001b[0m\n\u001b[0;32m----> 1\u001b[0;31m \u001b[0murl_prueba\u001b[0m \u001b[0;34m=\u001b[0m \u001b[0mmlb\u001b[0m \u001b[0;34m+\u001b[0m \u001b[0mteams\u001b[0m\u001b[0;34m[\u001b[0m\u001b[0;36m0\u001b[0m\u001b[0;34m]\u001b[0m \u001b[0;34m+\u001b[0m \u001b[0;34m'/'\u001b[0m \u001b[0;34m+\u001b[0m \u001b[0mkind\u001b[0m\u001b[0;34m[\u001b[0m\u001b[0;36m0\u001b[0m\u001b[0;34m]\u001b[0m \u001b[0;34m+\u001b[0m \u001b[0;34m'/'\u001b[0m\u001b[0;34m\u001b[0m\u001b[0;34m\u001b[0m\u001b[0m\n\u001b[0m\u001b[1;32m      2\u001b[0m \u001b[0mpage\u001b[0m \u001b[0;34m=\u001b[0m \u001b[0mrequests\u001b[0m\u001b[0;34m.\u001b[0m\u001b[0mget\u001b[0m\u001b[0;34m(\u001b[0m\u001b[0murl_prueba\u001b[0m\u001b[0;34m)\u001b[0m\u001b[0;34m\u001b[0m\u001b[0;34m\u001b[0m\u001b[0m\n\u001b[1;32m      3\u001b[0m \u001b[0mprint\u001b[0m\u001b[0;34m(\u001b[0m\u001b[0mpage\u001b[0m\u001b[0;34m)\u001b[0m\u001b[0;34m\u001b[0m\u001b[0;34m\u001b[0m\u001b[0m\n\u001b[1;32m      4\u001b[0m \u001b[0;31m# parser-lxml = Change html to Python friendly format\u001b[0m\u001b[0;34m\u001b[0m\u001b[0;34m\u001b[0m\u001b[0;34m\u001b[0m\u001b[0m\n\u001b[1;32m      5\u001b[0m \u001b[0;31m# Obtain page's information\u001b[0m\u001b[0;34m\u001b[0m\u001b[0;34m\u001b[0m\u001b[0;34m\u001b[0m\u001b[0m\n",
      "\u001b[0;31mNameError\u001b[0m: name 'mlb' is not defined"
     ]
    }
   ],
   "source": [
    "url_prueba = mlb + teams[0] + '/' + kind[0] + '/'\n",
    "page = requests.get(url_prueba)\n",
    "print(page)\n",
    "# parser-lxml = Change html to Python friendly format\n",
    "# Obtain page's information\n",
    "soup = BeautifulSoup(page.text, 'lxml')\n",
    "# General table\n",
    "table = soup.find_all(\"table\", class_= \"datatable rtable\")\n",
    "print(len(table))\n",
    "payroll = soup.find(\"table\", class_= \"datatable captotal rtable rtable-notsticky\")\n",
    "print(len(payroll))\n",
    "balance = soup.find(\"table\", class_= \"datatable captotal\")\n",
    "print(len(balance))\n",
    "list_aux = [None]*(len(table)+2)\n",
    "for j in range(len(table)-1):\n",
    "    list_aux[j] = table[j]\n",
    "list_aux[len(table)] = payroll\n",
    "list_aux[len(table)+1] = balance"
   ]
  },
  {
   "cell_type": "code",
   "execution_count": null,
   "id": "4ba9f5ee-c621-4aa1-89da-d0b6b26b4dee",
   "metadata": {},
   "outputs": [],
   "source": [
    "url_prueba = mlb + teams[0] + '/' + kind[0] + '/'\n",
    "page = requests.get(url_prueba)\n",
    "print(page)\n",
    "\n",
    "soup = BeautifulSoup(page.text, 'lxml')\n",
    "\n",
    "table = soup.find_all(\"table\", class_= \"datatable rtable\")\n",
    "print(len(table))\n",
    "payroll = soup.find(\"table\", class_= \"datatable captotal rtable rtable-notsticky\")\n",
    "print(len(payroll))\n",
    "balance = soup.find(\"table\", class_= \"datatable captotal\")\n",
    "print(len(balance))\n",
    "\n",
    "list_aux_main = [None]*3\n",
    "list_aux_sub = [None]*(len(table))\n",
    "\n",
    "for j in range(len(table)-1):\n",
    "    list_aux_sub[j] = table[j]\n",
    "    \n",
    "list_aux_main[0] = list_aux_sub\n",
    "list_aux_main[1] = payroll\n",
    "list_aux_main[2] = balance"
   ]
  }
 ],
 "metadata": {
  "kernelspec": {
   "display_name": "Python 3",
   "language": "python",
   "name": "python3"
  },
  "language_info": {
   "codemirror_mode": {
    "name": "ipython",
    "version": 3
   },
   "file_extension": ".py",
   "mimetype": "text/x-python",
   "name": "python",
   "nbconvert_exporter": "python",
   "pygments_lexer": "ipython3",
   "version": "3.8.8"
  }
 },
 "nbformat": 4,
 "nbformat_minor": 5
}
