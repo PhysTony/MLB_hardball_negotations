





import pandas as pd
import numpy as np
import math
import os
import warnings
import statsmodels.api as sm
from matplotlib.colors import ListedColormap
from sklearn.preprocessing import MinMaxScaler
from termcolor import colored
print('Modulos importados')


# Configuraciones
warnings.filterwarnings('ignore')


# Directorio de trabajo
print("Directorio de trabajo previo: " + str(os.getcwd()))
# Cambiemoslo
os.chdir('C:/Users/metal/Documents/Github/MLB_hardball_negotations/')


# Veamos el directorio actual de trabajo
print(os.getcwd())
# El directorio anterior es el correcto, pero si no lo fuese, hacemos lo sigueinte:
path = "C:/Users/metal/Documents/Github/MLB_hardball_negotations"
print("Nuevo directorio de trabajo: " + str(os.chdir(path)))








states = 'Data/Teams/team_states.csv'
df_states = pd.read_csv(states)


df_states.head()





acronym = 'Data/Teams/team_acronym.csv'
df_acronym = pd.read_csv(acronym)


df_acronym.head()





acronym_state = pd.merge(df_states, df_acronym, on = 'Estado')


acronym_state.head()





team_acronyms = {
    "Arizona Diamondbacks": "ARI",
    "Atlanta Braves": "ATL",
    "Baltimore Orioles": "BAL",
    "Boston Red Sox": "BOS",
    "Chicago Cubs": "CHC",
    "Chicago White Sox": "CHW",
    "Cincinnati Reds": "CIN",
    "Cleveland Guardians": "CLE",
    "Cleveland Indians": "CLE",
    "Colorado Rockies": "COL",
    "Detroit Tigers": "DET",
    "Houston Astros": "HOU",
    "Kansas City Royals": "KC",
    "Los Angeles Angels": "LAA",
    "LA Angels of Anaheim": "LAA",
    "Los Angeles Angels of Anaheim": "LAA",
    "Los Angeles Dodgers": "LAD",
    "Miami Marlins": "MIA",
    "Florida Marlins": "MIA",
    "Milwaukee Brewers": "MIL",
    "Minnesota Twins": "MIN",
    "New York Mets": "NYM",
    "New York Yankees": "NYY",
    "Oakland Athletics": "OAK",
    "Philadelphia Phillies": "PHI",
    "Pittsburgh Pirates": "PIT",
    "San Diego Padres": "SD",
    "Seattle Mariners": "SEA",
    "San Francisco Giants": "SF",
    "St. Louis Cardinals": "STL",
    "St Louis Cardinals": "STL",
    "Tampa Bay Rays": "TB",
    "Texas Rangers": "TEX",
    "Toronto Blue Jays": "TOR",
    "Washington Nationals": "WSH"
}


# Definición de los dataframes para cada año
period = 12
teams_revenue = [None]*period

for year in range(0,period):
    team_path = 'Data/Teams/team_revenues.xlsx'
    teams_revenue[year] = pd.read_excel(team_path, sheet_name=str(2010 + year))
    teams_revenue[year]["Team"] = teams_revenue[year]["Team"].replace(team_acronyms)
    teams_revenue[year].columns = teams_revenue[year].columns.str.strip()
    teams_revenue[year].rename(columns={
        'Rank': 'Rango',
        'Team': 'Acronimo',
        'Current Value ($mil)': 'Valor_Corriente',
        'Current Value ($ mil)': 'Valor_Corriente',
        '1-Yr Value Change (%)': '1An_Cambio_Valor%',
        '1-year Value Change (%)': '1An_Cambio_Valor%',
        'Debt/Value (%)': 'Valor%',
        'Debt/Value': 'Valor%',
        'Revenue ($mil)': 'Ingresos',
        'Revenue ($ mil)': 'Ingresos',
        'Operating Income ($mil)': 'Ingresos_Operando',
        'Operating Income ($ mil)': 'Ingresos_Operando'
    }, inplace=True)
    teams_revenue[year]['Anio'] = 2011 + year
    
    # Casos especiales
    value_change_columns = [col for col in teams_revenue[year].columns if 'Value Change' in col]
    renamed_columns = {col: '1An_Cambio_Valor%' for col in value_change_columns}
    teams_revenue[year].rename(columns=renamed_columns, inplace=True)


teams_revenue[11].head(30)


# Definición de los dataframes para cada año
period = 12
teams_payroll = [None]*period

teams_payroll[12-1] = pd.DataFrame({
    'Team': ["COL", "BAL", "TEX", "MIN", "TB", "STL", "DET", "CIN", "CHW", "SD", 
             "MIA", "KC", "SEA", "BOS", "PIT", "NYY", "CLE", "NYM", "HOU", "OAK", 
             "LAD", "LAA", "WSH", "PHI", "ATL", "MIL", "TOR", "SF", "CHC", "ARI"],
    'teams_payroll': [140012218, 44888388, 150037446, 149030158, 98342073, 156428325, 136287588, 115467321, 203205326, 224511694, 
                     82954422, 92613711, 115838907, 211812131, 56184032, 252957200, 66477492, 268292506, 183791796, 48443900, 
                     270381426, 179877811, 126809535, 244484097, 179938888, 130769325, 177013980, 162453046, 151054737, 85964090],
    'Year': [2022] * 30
})

teams_payroll[11-1] = pd.DataFrame({
    'Team': ["TB", "SF", "MIL", "OAK", "SEA", "CHW", "HOU", "TOR", "CIN", 
             "ATL", "DET", "LAD", "BOS", "MIA", "SD", "STL", "MIN", "COL", 
             "KC", "NYY", "PHI", "LAA", "CHC", "PIT", "BAL", "WSH", "TEX", 
             "ARI", "NYM"],
    'teams_payroll': [70836327, 171890308, 99377415, 90400598, 83822113, 140926169, 194222042, 150140253, 50670534, 
                     152750691, 86348945, 265343390, 187100784, 58157900, 179764272, 151469994, 120084606, 116408966, 
                     91595545, 205669863, 197263223, 183849560, 144037170, 54356609, 42421870, 144415187, 95788819, 
                     91632929, 201189189],
    'Year': [2021] * 29
})

# Por ejemplo, para 2020:
teams_payroll[10-1] = pd.DataFrame({
    'Team': ["TB", "OAK", "ATL", "CHW", "SD", "CLE", "MIN", "LAD", "TOR", "MIA", 
             "BAL", "MIL", "CIN", "KC", "SF", "CHC", "PHI", "SEA", "LAA", "NYY", 
             "STL", "HOU", "DET", "WSH", "COL", "NYM", "ARI", "PIT", "BOS", "TEX"],
    'teams_payroll': [28290689, 36720178, 63561931, 53665251, 73097954, 39299107, 55679689, 124917397, 54997060, 34222260, 
                     23478635, 41434086, 55535890, 34812194, 73408817, 86596171, 73543547, 51433829, 67040893, 111939081, 
                     73246343, 82890957, 43164880, 75067703, 67808533, 81945598, 65598752, 25337837, 84210390, 64214137],
    'Year': [2020] * 30
})

# Data for 2019
teams_payroll[9-1] = pd.DataFrame({
    'Team': ["TB", "MIN", "OAK", "HOU", "CLE", "ATL", "LAD", "ARI", "MIL", "WSH", 
             "NYY", "NYM", "PIT", "STL", "CHW", "TEX", "CIN", "PHI", "SD", "TOR", 
             "BAL", "COL", "SEA", "BOS", "LAA", "CHC", "MIA", "KC", "SF", "DET"],
    'teams_payroll': [64178722, 125256003, 98644531, 167138259, 106838693, 143947963, 207000814, 119327905, 135889019, 172307808, 
                     223019037, 146835812, 72176474, 173762164, 91371201, 148538766, 128691569, 159637244, 103699790, 111371067, 
                     73316689, 157091013, 144391293, 229166880, 160270385, 221580085, 75596271, 104773003, 178582126, 114631137],
    'Year': [2019]*30
})

# Data for 2018
teams_payroll[8-1] = pd.DataFrame({
    'Team': ["OAK", "TB", "MIL", "HOU", "CLE", "ATL", "LAD", "ARI", "WSH", "NYY", 
             "NYM", "PIT", "BOS", "COL", "PHI", "STL", "CHW", "TEX", "CIN", "SD", 
             "TOR", "LAA", "SEA", "CHC", "MIA", "DET", "KC", "SF", "BAL"],
    'teams_payroll': [80315288, 68810167, 108982016, 163524216, 143104703, 130849395, 199582045, 141724597, 181382609, 
                     180098151, 150187987, 91025861, 227398860, 143968544, 104297471, 163534311, 71839808, 140625018, 
                     100305768, 103773315, 150946147, 173717599, 160993827, 194259933, 91665500, 130959889, 129944821, 
                     205665348, 130413607],
    'Year': [2018]*29
})

# Data for 2017
teams_payroll[7-1] = pd.DataFrame({
    'Team': ["HOU", "CLE", "ARI", "MIL", "WSH", "MIN", "TB", "CHC", "COL", "OAK", 
             "NYY", "STL", "MIA", "LAD", "BOS", "CIN", "PIT", "ATL", "TEX", "SD", 
             "SEA", "CHW", "KC", "LAA", "PHI", "NYM", "TOR", "BAL", "DET", "SF"],
    'teams_payroll': [138344211, 132258928, 102619475, 68945179, 182238854, 121048871, 77811205, 172092536, 139324341, 
                     73477080, 209044502, 145256085, 110765599, 259166393, 209872508, 96436003, 100503030, 105218575, 
                     163400840, 76921678, 160797330, 85495238, 148227822, 166161209, 104020808, 143990158, 175617487, 
                     175295707, 188498884, 189806809],
    'Year': [2017]*30
})

# Data for 2016
teams_payroll[6-1] = pd.DataFrame({
    'Team': ["STL", "CLE", "WSH", "MIL", "HOU", "CHC", "COL", "MIA", "PIT", "TB", 
             "TOR", "TEX", "SEA", "ARI", "BOS", "BAL", "CIN", "NYM", "SD", "OAK", 
             "CHW", "ATL", "MIN", "KC", "SF", "PHI", "DET", "LAA", "NYY", "LAD"],
    'teams_payroll': [0, 105971268, 139383852, 62161191, 103328742, 184352494, 107902280, 77715306, 99518136, 63908549, 
                     148385479, 163021690, 146536553, 97874482, 207758836, 150248832, 88626437, 147738514, 83435559, 83109288, 
                     129715686, 96080633, 97244457, 141587358, 178834344, 103898809, 200179285, 174295919, 220743376, 266745494],
    'Year': [2016]*30
})

# Data for 2015
teams_payroll[5-1] = pd.DataFrame({
    'Team': ["PIT", "TOR", "HOU", "STL", "CHC", "KC", "ARI", "NYM", "TB", "TEX", 
             "MIN", "BAL", "LAA", "NYY", "OAK", "WSH", "SEA", "MIA", "SD", "COL", 
             "CHW", "BOS", "MIL", "DET", "CIN", "LAD", "ATL", "PHI"],
    'teams_payroll': [99435606, 138309664, 81450835, 132178951, 132993810, 126529835, 76781801, 115698927, 76582652, 
                     156445607, 106431818, 117784476, 143348162, 221242659, 80376830, 165655095, 126045473, 76090525, 
                     107915272, 107102051, 118875487, 183481478, 94010873, 162160921, 116333097, 302735080, 110913266, 141722639],
    'Year': [2015]*28
})

# Data for 2014
teams_payroll[4-1] = pd.DataFrame({
    'Team': ["BAL", "PIT", "OAK", "LAA", "WSH", "CLE", "KC", "DET", "MIA", "STL", 
             "SEA", "MIL", "TOR", "NYM", "TB", "HOU", "LAD", "SF", "MIN", "CHW", 
             "COL", "CHC", "ATL", "SD", "CIN", "NYY", "ARI", "PHI", "BOS", "TEX"],
    'teams_payroll': [113562943, 76974115, 92888412, 165244781, 143278577, 84481929, 98558300, 172143106, 50559679, 
                     121340470, 115534174, 108777046, 141812172, 94478037, 76821046, 51679490, 242157818, 160336782, 
                     87494478, 89297302, 96772365, 89539741, 116865707, 85001967, 113351318, 212512317, 106343190, 
                     175061605, 170095758, 139630583],
    'Year': [2014]*30
})

# Data for 2013
teams_payroll[3-1] = pd.DataFrame({
    'Team': ["OAK", "PIT", "TB", "ATL", "CLE", "BOS", "STL", "CIN", "DET", "BAL", 
             "KC", "TEX", "ARI", "WSH", "COL", "SD", "MIL", "LAA", "NYM", "SEA", 
             "TOR", "MIN", "MIA", "SF", "LAD", "CHC", "HOU", "CHW", "NYY", "PHI"],
    'teams_payroll': [67055517, 71480984, 72600703, 94947950, 93008897, 170734264, 120192638, 106804640, 155032966, 
                     99630869, 85398434, 137937146, 88316478, 116584094, 79017288, 73286341, 88221045, 141542644, 
                     101300814, 82720022, 131771168, 96080633, 36209554, 140280186, 236694375, 100052899, 35077913, 
                     111777595, 235957526, 163536898],
    'Year': [2013]*30
})

# Data for 2012
teams_payroll[2-1] = pd.DataFrame({
    'Team': ["OAK", "WSH", "TB", "CIN", "BAL", "ATL", "TEX", "STL", "MIL", "ARI", 
             "CHW", "SF", "PIT", "SD", "LAA", "KC", "DET", "LAD", "NYY", "TOR", 
             "SEA", "CLE", "COL", "NYM", "MIA", "MIN", "PHI", "HOU", "BOS", "CHC"],
    'teams_payroll': [60470192, 98044359, 69854135, 89901498, 82932168, 97928056, 138312903, 119957765, 110595795, 
                     82411013, 108841055, 137043205, 61118682, 63828925, 157168625, 70344235, 143782286, 117584717, 
                     226799742, 96031627, 84289928, 77057243, 87232529, 104988166, 98120191, 107939507, 178822491, 
                     54547239, 173216551, 116341526],
    'Year': [2012]*30
})

# Data for 2011
teams_payroll[1-1] = pd.DataFrame({
    'Team': ["Rays", "Rangers", "Diamondbacks", "Brewers", "Tigers", "Cardinals", "Blue Jays", "Braves", "Red Sox", 
             "Phillies", "Royals", "Reds", "Yankees", "Rockies", "Padres", "Pirates", "Athletics", "Dodgers", "Angels", 
             "Giants", "Orioles", "White Sox", "Mets", "Cubs", "Mariners", "Astros", "Twins"],
    'teams_payroll': [45386925, 103741721, 65189970, 92277138, 111521015, 0, 73491604, 98696230, 170490761, 170018182, 
                     52072804, 81920546, 210950685, 82897934, 48018810, 48393645, 75655048, 115174517, 146648559, 
                     125242452, 94751399, 127263027, 142245841, 138083584, 101429148, 85323388, 113979594],
    'Year': [2011]*27
})

# Data for 2010
'''teams_payroll[0] = pd.DataFrame({
    'Team': ["TB", "STL", "CIN", "SD", "MIN", "TEX", "TOR", "COL", "SF", 
             "PHI", "KC", "BOS", "DET", "WSH", "LAA", "CLE", "LAD", "NYY", 
             "ARI", "HOU", "NYM", "BAL", "CHC", "PIT", "SEA"],
    'teams_payroll': [73111908, 0, 76183915, 43679800, 88115519, 84947880, 72167275, 77433135, 98178333, 
                     137297541, 51104192, 157778541, 106838066, 48521480, 101667618, 51045206, 101450867, 
                     223310889, 61398736, 80184822, 127702202, 70097445, 131052537, 28219000, 84907671],
    'Year': [2010]*25
})'''

teams_payroll[0].head()


for year in range(0,period):
    teams_revenue[year].rename(columns={'Team': 'Acronimo', 'Year': 'Anio', 'Ingresos': 'Ingresos_equipo'}, inplace=True)


teams_revenue[1].head(30)


# Crear el objeto scaler
scaler = MinMaxScaler()

for year in range(0,period):
    print(year)
    print(teams_revenue[year].columns)

    #teams_revenue[year]['Ingresos_equipo'] = scaler.fit_transform(teams_revenue[year][['Ingresos_equipo']])





# Auxiliares:
free_agents = 'Data/Free_Agents/free_agents_'
hitting = 'Data/Statistics/Cumulative/Hitting/hitting_'
pitching = 'Data/Statistics/Cumulative/Pitching/pitching_'
salary = 'Data/Salary/salary_'
teams = 'ETL_Data/Transversal/Teams/free_agents_team_'
csv = '.csv'
period = 12
# Originales:
df_free_agents = [None]*period
df_hitting = [None]*period
df_pitching = [None]*period
df_salary = [None]*period
df_teams = [None]*period
# Copias:
df_free_agents_copy = [None]*period
df_hitting_copy = [None]*period
df_pitching_copy = [None]*period
df_salary_copy = [None]*period
df_teams_copy = [None]*period
# Producto final:
df_pitchers = [None]*period
df_hitters = [None]*period
df_pitchers_free_agents = [None]*period
df_hitters_free_agents = [None]*period
df_pitchers_no_free_agents = [None]*period
df_hitters_no_free_agents = [None]*period
df_panel_hitters = [None]*period
df_panel_pitchers = [None]*period





for year in range(0,period):    
    df_free_agents[year] = pd.read_csv(free_agents + str(2011 + year) + csv)
    df_hitting[year] = pd.read_csv(hitting + str(2011 + year) + csv)
    df_pitching[year] = pd.read_csv(pitching + str(2011 + year) + csv)
    df_salary[year] = pd.read_csv(salary + str(2011 + year) + csv)
    df_teams[year] = pd.read_csv(teams + str(2011 + year) + csv)
    
    df_free_agents_copy[year] = df_free_agents[year].copy()
    df_hitting_copy[year] = df_hitting[year].copy()
    df_pitching_copy[year] = df_pitching[year].copy()
    df_salary_copy[year] = df_salary[year].copy()
    df_teams_copy[year] = pd.read_csv(teams + str(2011 + year) + csv)





for year in range(0,period):
    # Drop columns:
    if any(name in df_free_agents_copy[year].columns for name in ['Rank','Pos','Year','Team From To']):
        df_free_agents_copy[year].drop('Rank', axis = 1, inplace = True)
        df_free_agents_copy[year].drop('Year', axis = 1, inplace = True)
        df_free_agents_copy[year].drop('Pos', axis = 1, inplace = True)
        df_free_agents_copy[year].drop('Team From To', axis = 1, inplace = True)
    if 'Rank' in df_salary_copy[year].columns:
        df_salary_copy[year].drop('Rank', axis = 1, inplace = True)
    if any(name in df_hitting_copy[year].columns for name in ['Rank','Year','Cash2023','Team','Pos']):
        df_hitting_copy[year].drop('Rank', axis = 1, inplace = True)
        df_hitting_copy[year].drop('Cash2023', axis = 1, inplace = True)
        df_hitting_copy[year].drop('Team', axis = 1, inplace = True)
        df_hitting_copy[year].drop('Pos', axis = 1, inplace = True)
    if any(name in df_pitching_copy[year].columns for name in ['Rank','Year','Cash2023','Team','Pos']):
        df_pitching_copy[year].drop('Rank', axis = 1, inplace = True)
        df_pitching_copy[year].drop('Cash2023', axis = 1, inplace = True)
        df_pitching_copy[year].drop('Team', axis = 1, inplace = True)
        df_pitching_copy[year].drop('Pos', axis = 1, inplace = True)





for year in range(0,period):
    # Base de datos de agentes libres:
    df_free_agents_copy[year].drop(df_free_agents_copy[year].columns[df_free_agents_copy[year].columns.str.contains('Unnamed',case = False)],axis = 1, inplace = True)
    
    # Base de datos de los salarios:
    df_salary_copy[year].drop(df_salary_copy[year].columns[df_salary_copy[year].columns.str.contains('Unnamed',case = False)],axis = 1, inplace = True)
    
    # Base de datos de los hitters:
    df_hitting_copy[year].drop(df_hitting_copy[year].columns[df_hitting_copy[year].columns.str.contains('Unnamed',case = False)],axis = 1, inplace = True)
    
    # Base de datos de los pitchers:
    df_pitching_copy[year].drop(df_pitching_copy[year].columns[df_pitching_copy[year].columns.str.contains('Unnamed',case = False)],axis = 1, inplace = True)





df_free_agents_copy[9].columns


df_salary_copy[11].columns


df_hitting_copy[2].columns


df_pitching_copy[5].columns





for year in range(0,period):
    df_free_agents_copy[year] = df_free_agents_copy[year].rename(columns = {'Player':'Jugador',
                                'Status':'Status_agente_libre', 'Team From':'Equipo_anterior',
                                'Value':'Valor_contrato', 'AAV':'Valor_promedio_contrato',
                                'YRS':'Anios_de_contrato'})
    
    free_agents_aux_1 = df_free_agents_copy[year]['Valor_contrato'].str.replace("$","")
    free_agents_aux_2 = free_agents_aux_1.str.replace(",","")
    free_agents_aux_3 = df_free_agents_copy[year]['Valor_promedio_contrato'].str.replace("$","")
    free_agents_aux_4 = free_agents_aux_3.str.replace(",","")
    df_free_agents_copy[year]['Valor_contrato'] = free_agents_aux_2
    df_free_agents_copy[year]['Valor_promedio_contrato'] = free_agents_aux_4
    
    df_free_agents_copy[year]['Valor_contrato'] = pd.to_numeric(df_free_agents_copy[year]['Valor_contrato'])
    df_free_agents_copy[year]['Valor_promedio_contrato'] = pd.to_numeric(df_free_agents_copy[year]['Valor_promedio_contrato'])





for year in range(0,period):
    print(df_free_agents_copy[year].shape)





df_free_agents_copy[6].info()





for year in range(0,period):
    # Cambio de nombres
    df_salary_copy[year] = df_salary_copy[year].rename(columns = {'Player':'Jugador',
                            'BaseSalary':'Sueldo_base', 'SigningBonus':'Bono_por_firma',
                            'Payroll Salary':'Sueldo_regular', 'Adj Salary':'Sueldo_ajustado',
                            'CONT YR':'Anios_de_contrato', 'CONT VALUE':'Valor_del_contrato',
                            'Earnings':'Ganancias', 'FA Year':'Anio_de_agente_libre',
                            'Sign Age':'Edad_al_firmar', 'Age':'Edad', 'Weight':'Peso',
                            'Height':'Altura', 'Year':'Anio', 'Pos':'Posicion',
                            'Salary%':'Sueldo_porcentual', 'Cash':'Pago_efectivo',
                            'AAV':'Valor_contrato_promedio', 'Team':'Acronimo'})
    
    # Tranformando al tipo de dato apropiado
    salary_aux_1 = df_salary_copy[year]['Sueldo_base'].str.replace("$","")
    salary_aux_2 = salary_aux_1.str.replace(",","")
    df_salary_copy[year]['Sueldo_base'] = salary_aux_2
    df_salary_copy[year]['Sueldo_base'] = pd.to_numeric(df_salary_copy[year]['Sueldo_base'])
    
    salary_aux_3 = df_salary_copy[year]['Sueldo_regular'].str.replace("$","")
    salary_aux_4 = salary_aux_3.str.replace(",","")
    df_salary_copy[year]['Sueldo_regular'] = salary_aux_4
    df_salary_copy[year]['Sueldo_regular'] = pd.to_numeric(df_salary_copy[year]['Sueldo_regular'])
    
    salary_aux_5 = df_salary_copy[year]['Sueldo_ajustado'].str.replace("$","")
    salary_aux_6 = salary_aux_5.str.replace(",","")
    df_salary_copy[year]['Sueldo_ajustado'] = salary_aux_6
    df_salary_copy[year]['Sueldo_ajustado'] = pd.to_numeric(df_salary_copy[year]['Sueldo_ajustado'])
    
    salary_aux_7 = df_salary_copy[year]['Valor_del_contrato'].str.replace("$","")
    salary_aux_8 = salary_aux_7.str.replace(",","")
    df_salary_copy[year]['Valor_del_contrato'] = salary_aux_8
    df_salary_copy[year]['Valor_del_contrato'] = pd.to_numeric(df_salary_copy[year]['Valor_del_contrato'])
    
    salary_aux_9 = df_salary_copy[year]['Bono_por_firma'].str.replace("$","")
    salary_aux_10 = salary_aux_9.str.replace(",","")
    df_salary_copy[year]['Bono_por_firma'] = salary_aux_10
    df_salary_copy[year]['Bono_por_firma'] = pd.to_numeric(df_salary_copy[year]['Bono_por_firma'])
    
    salary_aux_11 = df_salary_copy[year]['Ganancias'].str.replace("$","")
    salary_aux_12 = salary_aux_11.str.replace(",","")
    df_salary_copy[year]['Ganancias'] = salary_aux_12
    df_salary_copy[year]['Ganancias'] = pd.to_numeric(df_salary_copy[year]['Ganancias'])
    
    salary_aux_13 = df_salary_copy[year]['Pago_efectivo'].str.replace("$","")
    salary_aux_14 = salary_aux_13.str.replace(",","")
    df_salary_copy[year]['Pago_efectivo'] = salary_aux_14
    df_salary_copy[year]['Pago_efectivo'] = pd.to_numeric(df_salary_copy[year]['Pago_efectivo'])
    
    salary_aux_15 = df_salary_copy[year]['Valor_contrato_promedio'].str.replace("$","")
    salary_aux_16 = salary_aux_15.str.replace(",","")
    df_salary_copy[year]['Valor_contrato_promedio'] = salary_aux_16
    df_salary_copy[year]['Valor_contrato_promedio'] = pd.to_numeric(df_salary_copy[year]['Valor_contrato_promedio'])
    
    salary_aux_17 = df_salary_copy[year]['Altura'].str.replace("\"","")
    salary_aux_18 = salary_aux_17.str.replace("'","")
    df_salary_copy[year]['Altura'] = salary_aux_18
    df_salary_copy[year]['Altura'] = pd.to_numeric(df_salary_copy[year]['Altura'])/10
    # SUstitullamos los xeros
    height_mean = df_salary_copy[year]['Altura'].mean(skipna=True)
    df_salary_copy[year]['Altura'] = df_salary_copy[year].Altura.mask(df_salary_copy[year].Altura == 0, height_mean)
    
    df_salary_copy[year]['Anio_de_agente_libre'] = pd.to_numeric(df_salary_copy[year]['Anio_de_agente_libre'])
    df_salary_copy[year]['Anios_de_contrato'] = pd.to_numeric(df_salary_copy[year]['Anios_de_contrato'])
    df_salary_copy[year]['Edad'] = pd.to_numeric(df_salary_copy[year]['Edad'])





for year in range (0,period):
    df_salary_copy[year]['Edad_al_firmar'] = df_salary_copy[year]['Edad_al_firmar'].map(str)

    for edad in range(0,df_salary_copy[year].shape[0]):
        # String es mayor que 0:
        if len(df_salary_copy[year]['Edad_al_firmar'].iloc[edad]) == 2:
            df_salary_copy[year].iloc[edad, df_salary_copy[year].columns.get_loc('Edad_al_firmar')] = pd.to_numeric(df_salary_copy[year]['Edad_al_firmar'].iloc[edad])
            
        # String es menor o igual que 0:
        elif len(df_salary_copy[year]['Edad_al_firmar'].iloc[edad]) != 2:
            # Si la columna de la edad contiene datos correctos
            if df_salary_copy[year]['Edad'].iloc[edad] > 0:
                if df_salary_copy[year]['Anio_de_agente_libre'].iloc[edad] == 0:
                    ag_year = year + 2011 + 1
                else:
                    ag_year = df_salary_copy[year]['Anio_de_agente_libre'].iloc[edad]
                # Get first year of contract
                ini_year = ag_year - df_salary_copy[year]['Anios_de_contrato'].iloc[edad]
                # Años desde el el año inicial
                dif_years = year + 2011 - ini_year
                # Edad al firmar:
                sign_age = df_salary_copy[year]['Edad'].iloc[edad] - dif_years
                # Cambio de dato:
                df_salary_copy[year].iloc[edad, df_salary_copy[year].columns.get_loc('Edad_al_firmar')] = pd.to_numeric(sign_age)
                
            # Si la columna de edad no contiene un dato coherente
            else:
                # Cambio de dato:
                df_salary_copy[year].iloc[edad, df_salary_copy[year].columns.get_loc('Edad_al_firmar')] = pd.to_numeric(18)    
    
        # Entero  menor a 0:
        if df_salary_copy[year]['Edad_al_firmar'].iloc[edad] < 0:
            # Si la columna de la edad contiene datos correctos
            if df_salary_copy[year]['Edad'].iloc[edad] > 0:
                if df_salary_copy[year]['Anio_de_agente_libre'].iloc[edad] == 0:
                    ag_year = year + 2011 + 1
                else:
                    ag_year = df_salary_copy[year]['Anio_de_agente_libre'].iloc[edad]
                # Get first year of contract
                ini_year = ag_year - df_salary_copy[year]['Anios_de_contrato'].iloc[edad]
                # Años desde el el año inicial
                dif_years = year + 2011 - ini_year
                # Edad al firmar:
                sign_age = df_salary_copy[year]['Edad'].iloc[edad] - dif_years
                # Cambio de dato:
                df_salary_copy[year].iloc[edad, df_salary_copy[year].columns.get_loc('Edad_al_firmar')] = pd.to_numeric(sign_age)
                
            # Si la columna de edad no contiene un dato coherente
            else:
                # Cambio de dato:
                df_salary_copy[year].iloc[edad, df_salary_copy[year].columns.get_loc('Edad_al_firmar')] = pd.to_numeric(18)
         
    # Transformemos los datos a enteros
    df_salary_copy[year]['Edad_al_firmar'] = pd.to_numeric(df_salary_copy[year]['Edad_al_firmar'])





for year in range(0,period):
    for edad in range(0,df_salary_copy[year]['Edad_al_firmar'].shape[0]):
        if type(df_salary_copy[year]['Edad_al_firmar'].iloc[edad]) != np.int64:
            print(type(df_salary_copy[year]['Edad_al_firmar'].iloc[edad]))


for year in range(0,period):
    for edad in range(0,df_salary_copy[year]['Edad_al_firmar'].shape[0]):
        if df_salary_copy[year]['Edad_al_firmar'].iloc[edad] < 0:
            print(df_salary_copy[year]['Edad_al_firmar'].iloc[edad])


#for year in range(0,period):
#    print(type(df_salary_copy[year][['Edad_al_firmar']].info()))


#for year in range(0,period):
#    print(year)
#    for edad in range(0,df_salary_copy[year]['Edad_al_firmar'].shape[0]):
#        print(str(df_salary_copy[year]['Edad_al_firmar'].iloc[edad]) + ' ' + str(edad))





for year in range(0,period):
    for edad in range(0,df_salary_copy[year]['Edad'].shape[0]):
        if df_salary_copy[year]['Edad'].iloc[edad] < 0:
            print(year)
            print(df_salary_copy[year]['Edad'].iloc[edad])


for year in range(0,period):
    for edad in range(0,df_salary_copy[year].shape[0]):
        # Condición para imputar:
        if df_salary_copy[year]['Edad'].iloc[edad] <= 0:
            # Si no se indica si tendrá año de agencia libre:
            if df_salary_copy[year]['Anio_de_agente_libre'].iloc[edad] == 0:
                        ag_year = year + 2011 + 1
            # Si tendrá año de agencia libre
            else:
                ag_year = df_salary_copy[year]['Anio_de_agente_libre'].iloc[edad]
            # Get first year of contract
            ini_year = ag_year - df_salary_copy[year]['Anios_de_contrato'].iloc[edad]
            # Años desde el el año inicial
            dif_years = year + 2011 - ini_year
            # Edad en la temporada:
            seasson_age = df_salary_copy[year]['Edad_al_firmar'].iloc[edad] + dif_years
            # Asignación
            df_salary_copy[year]['Edad'].iloc[edad] = seasson_age





for year in range(0,period):
    for edad in range(0,df_salary_copy[year]['Edad'].shape[0]):
        if df_salary_copy[year]['Edad'].iloc[edad] < 0:
            print(year)
            print(str(df_salary_copy[year]['Edad'].iloc[edad]) + ' ' + str(edad))





for year in range(0,period):
    df_salary_copy[year]['Antiguedad'] = df_salary_copy[year]['Edad'] - df_salary_copy[year]['Edad_al_firmar']





for year in range(0,period):
    df_salary_copy[year]['Anio'] = df_salary_copy[year]['Anio'].map(str)


df_salary_copy[5].info()





for year in range(0,period):
    # Cambio de nombres
    df_hitting_copy[year] = df_hitting_copy[year].rename(columns = {'Player':'Jugador',
                            'GP':'Juegos', 'GP%':'Porcentaje_juegos',
                            'AB':'At_bats', 'H':'Bateos', 'GS':'Juegos_iniciados',
                            'GS%':'Porcentaje_juegos_iniciados', 'RBI':'Runs_batted_in',
                            'HR':'Home_runs', 'AVG':'Bateos_promedio',
                            '2B':'Dobles', '3B':'Triples', 'OPS':'Porcentaje_On_base_plus_slugging',
                            'SLG':'Porcentaje_slugging', 'OBP':'Porcentaje_on_base'})


for year in range(0,period):
    print(df_hitting_copy[year].shape)


df_hitting_copy[5].info()


df_hitting_copy[5].columns





for year in range(0,period):
    # Cambio de nombres
    df_pitching_copy[year] = df_pitching_copy[year].rename(columns = {'Player':'Jugador',
                             'GP':'Juegos', 'GS':'Juegos_iniciados', 'IP':'Inning_pitched',
                             'H':'Bateos', 'R':'Carreras', 'ER':'Carreras_ganadas',
                             'BB':'Walks', 'SO':'Strike_outs', 'W':'Wins', 'L':'Losses',
                             'SV':'Saves'})


for year in range(0,period):
    print(df_pitching_copy[year].shape)


df_pitching_copy[5].info()





for year in range(0,period):
    df_pitching_copy[year]['Dominio'] = df_pitching_copy[year]['Strike_outs']/(df_pitching_copy[year]['Inning_pitched'])
    df_pitching_copy[year]['Control'] = df_pitching_copy[year]['Walks']/(df_pitching_copy[year]['Inning_pitched'])
    df_pitching_copy[year]['Comando'] = df_pitching_copy[year]['Strike_outs']/df_pitching_copy[year]['Walks']


for year in range(0,period):
    print(df_pitching_copy[year].shape)


df_pitching_copy[2].info()





"""
for year in range(0,period):
    print(str(2011 + year))
    for name in df_pitching_copy[year].columns:
        print(name)
        if type(name) != str:
            for element in range(0,len(df_pitching_copy[year][name])):
                if math.isinf(df_pitching_copy[year][name].iloc[element]) == True:
                    print(str(element) +  '  ' + str(df_pitching_copy[year][name].iloc[element]))
    print("")
"""





for year in range(0,period):
    df_salary_copy[year]['ln_Sueldo_base'] = np.log(df_salary_copy[year]['Sueldo_base'])
    df_salary_copy[year]['ln_Sueldo_ajustado'] = np.log(df_salary_copy[year]['Sueldo_ajustado'])
    df_salary_copy[year]['ln_Sueldo_regular'] = np.log(df_salary_copy[year]['Sueldo_regular'])


df_salary_copy[2].info()





for year in range(0,period):
    # Salaries
    mean_hgt = df_salary_copy[year].loc[df_salary_copy[year]['Altura'] > 4.9].Altura.mean()
    mean_wgh = df_salary_copy[year].loc[df_salary_copy[year]['Peso'] > 0].Peso.mean()
    df_salary_copy[year]['Altura'].fillna(value = mean_hgt, inplace = True)
    df_salary_copy[year]['Altura'].mask(df_salary_copy[year]['Altura'] <= 4.9, mean_hgt, inplace = True)
    df_salary_copy[year]['Peso'].fillna(value = mean_wgh, inplace = True)
    df_salary_copy[year]['Peso'].mask(df_salary_copy[year]['Peso'] <= 0, mean_wgh, inplace = True)
    
    # Pitchers
    mean_war = df_pitching_copy[year].loc[df_pitching_copy[year]['WAR'] > 0].WAR.mean()
    mean_dom = df_pitching_copy[year].loc[df_pitching_copy[year]['Dominio'] > 0].Dominio.mean()
    mean_con = df_pitching_copy[year].loc[df_pitching_copy[year]['Control'] > 0].Control.mean()
    mean_com = df_pitching_copy[year].loc[df_pitching_copy[year]['Comando'] > 0].Comando.mean()
    df_pitching_copy[year]['WAR'].fillna(value = mean_war, inplace = True)
    df_pitching_copy[year]['WAR'].mask(df_pitching_copy[year]['WAR'] <= 0, mean_war, inplace = True)
    df_pitching_copy[year]['Dominio'].fillna(value = mean_dom, inplace = True)
    df_pitching_copy[year]['Dominio'].mask(df_pitching_copy[year]['Dominio'] <= 0, mean_dom, inplace = True)
    df_pitching_copy[year]['Control'].fillna(value = mean_con, inplace = True)
    df_pitching_copy[year]['Control'].mask(df_pitching_copy[year]['Control'] <= 0, mean_con, inplace = True)
    df_pitching_copy[year]['Comando'].fillna(value = mean_com, inplace = True)
    df_pitching_copy[year]['Comando'].mask(df_pitching_copy[year]['Comando'] <= 0, mean_com, inplace = True)
    
    # Hitters
    mean_war = df_hitting_copy[year].loc[df_hitting_copy[year]['WAR'] > 0].WAR.mean()
    df_hitting_copy[year]['WAR'].fillna(value = mean_war, inplace = True)
    df_hitting_copy[year]['WAR'].mask(df_hitting_copy[year]['WAR'] <= 0, mean_war, inplace = True)


for year in range(0,period):   
    # Condiciones
    con_dom_1 = df_pitching_copy[year]['Strike_outs'] == 0
    con_con_1 = df_pitching_copy[year]['Walks'] == 0
    con_com_1 = df_pitching_copy[year]['Strike_outs'] == 0
                 
    # Imputación caso 0/0
    df_pitching_copy[year].loc[con_dom_1, "Dominio"] = 0
    df_pitching_copy[year].loc[con_con_1, "Control"] = 0
    df_pitching_copy[year].loc[con_com_1, "Comando"] = 0


for year in range(0,period):   
    # Máximos
    max_dom = df_pitching_copy[year]['Strike_outs'].max()/9
    max_con = df_pitching_copy[year]['Walks'].max()/9
    max_com = df_pitching_copy[year]['Strike_outs'].max()
    
    # Cambianfdo infinitos a NaNs
    df_pitching_copy[year]["Dominio"].replace([np.inf, -np.inf], np.nan, inplace = True)
    df_pitching_copy[year]["Control"].replace([np.inf, -np.inf], np.nan, inplace = True)
    df_pitching_copy[year]["Comando"].replace([np.inf, -np.inf], np.nan, inplace = True)
    
    # Imputación
    df_pitching_copy[year]['Dominio'].fillna(value = max_dom, inplace = True)
    df_pitching_copy[year]['Control'].fillna(value = max_con, inplace = True)
    df_pitching_copy[year]['Comando'].fillna(value = max_com, inplace = True)





"""
for year in range(0,period):
    print(str(2011 + year))
    for name in df_pitching_copy[year].columns:
        print(name)
        if type(name) != str:
            for element in range(0,len(df_pitching_copy[year][name])):
                if math.isinf(df_pitching_copy[year][name].iloc[element]) == True:
                    print(str(element) +  '  ' + str(df_pitching_copy[year][name].iloc[element]))
    print("")
"""





for year in range(0,period):
    print('Año: ' + str(2011 + year))
    print('Hitters:')
    df_hitting_copy[year].isna().sum()
    print('Pitchers:')
    df_pitching_copy[year].isna().sum()
    print('Free agents:')
    df_free_agents_copy[year].isna().sum()
    print('Salaries:')
    df_salary_copy[year].isna().sum()
    print("")





salary_names = ['ln_Sueldo_ajustado', 'ln_Sueldo_base', 'ln_Sueldo_regular']


for name in salary_names:
    print(name)
    
    for year in range(0,period):
        print(str(2011 + year))
        for element in range(0,len(df_salary_copy[year][name])):
            if df_salary_copy[year][name].iloc[element] <= 0:
                print(str(element) +  '  ' + str(df_salary_copy[year][name].iloc[element]))
        print("")





for year in range(0,period):
    df_salary_copy[year]['ln_Sueldo_ajustado'].mask(df_salary_copy[year]['ln_Sueldo_ajustado'] < 0,
                                                    df_salary_copy[year]['ln_Sueldo_regular'],
                                                    inplace = True)


for year in range(0,period):
    print(str(2011 + year))
    for element in range(0,len(df_salary_copy[year]['ln_Sueldo_ajustado'])):
        if df_salary_copy[year]['ln_Sueldo_ajustado'].iloc[element] <= 0:
            print(str(element) +  '  ' + str(df_salary_copy[year]['ln_Sueldo_ajustado'].iloc[element]))
    print("")


for year in range(0,period):
    print("Ajustado: " + str(df_salary_copy[year]['ln_Sueldo_ajustado'].mean())
          + 'n'
          + 'Regular: ' + str(df_salary_copy[year]['ln_Sueldo_regular'].mean()))





df_hitting_copy[0].columns


df_pitching_copy[1].columns


def get_col_indices(df, names):
    return df.columns.get_indexer(names)


hitting_names = ['Juegos_iniciados', 'Porcentaje_juegos_iniciados', 'At_bats', 'Bateos',
                  'Dobles', 'Triples', 'Home_runs', 'Runs_batted_in', 'Bateos_promedio',
                  'Porcentaje_on_base', 'Porcentaje_slugging', 'TVS',
                  'Porcentaje_On_base_plus_slugging', 'WAR','Ingresos_equipo']	
pitching_names = ['Inning_pitched', 'Bateos', 'Carreras',
                  'Carreras_ganadas', 'Walks', 'Strike_outs', 'Wins', 'Losses',
                  'Saves', 'WHIP', 'ERA', 'WAR', 'TVS', 'Dominio', 'Control',
                  'Comando', 'Ingresos_equipo']





print('Hitters:')
for year in range(0,period):
    print(get_col_indices(df_hitting_copy[year], hitting_names))
    
print('Pitchers:')
for year in range(0,period):
    print(get_col_indices(df_pitching_copy[year], pitching_names))


hitting_indexes = list(get_col_indices(df_hitting_copy[0], hitting_names))
pitching_indexes = list(get_col_indices(df_pitching_copy[0], pitching_names))


for year in range(0,period):
    # Hitters:
    for hitter_name in hitting_indexes:
        df_hitting_copy[year][df_hitting_copy[year].columns[hitter_name] + '_2'] = np.power(df_hitting_copy[year][df_hitting_copy[year].columns[hitter_name]], 2)
    # Pitchers:
    for pitcher_name in pitching_indexes:
        df_pitching_copy[year][df_pitching_copy[year].columns[pitcher_name] + '_2'] = np.power(df_pitching_copy[year][df_pitching_copy[year].columns[pitcher_name]], 2)





df_hitting_copy[2].info()


df_pitching_copy[2].info()





df_teams_copy[7].info()


acronym_state.info()


for year in range(0,period):
    df_teams_copy[year] = pd.merge(df_teams_copy[year], acronym_state, on = ['Equipo','Acronimo'])


df_teams_copy[7].info()


df_salary_copy[7].info()


df_salary[7].head()





for year in range(0,period):
    df_salary_copy[year] = pd.merge(df_teams_copy[year], df_salary_copy[year], on = 'Acronimo')


for year in range(0,period):
    teams_revenue[year]['Anio'] = teams_revenue[year]['Anio'].astype('object')
    df_salary_copy[year] = pd.merge(teams_revenue[year], df_salary_copy[year], on = ['Anio', 'Acronimo'])


df_salary_copy[0].info()





for year in range(0,period):
    df_hitting_copy[year] = pd.merge(df_hitting_copy[year], df_salary_copy[year], on = 'Jugador')
    df_pitching_copy[year] = pd.merge(df_pitching_copy[year], df_salary_copy[year], on = 'Jugador')


for year in range(0,period):
    df_pitching_copy[year]['Porcentaje_juegos'] = df_pitching_copy[year]['Juegos']/df_pitching_copy[year]['Juegos totales']


for year in range(0,period):
    df_hitting_copy[year]['Ingresos_equipo_2'] = np.power(df_hitting_copy[year]['Ingresos_equipo'],2)
    df_pitching_copy[year]['Ingresos_equipo_2'] = np.power(df_pitching_copy[year]['Ingresos_equipo'],2)


df_hitting_copy[3].info()


df_pitching_copy[3].info()





for year in range(0,period):
    # Ordenando alfabéticamente
    df_salary_copy[year].sort_index(axis = 1, inplace = True)
    df_hitting_copy[year].sort_index(axis = 1, inplace = True)
    df_pitching_copy[year].sort_index(axis = 1, inplace = True)
    df_free_agents_copy[year].sort_index(axis = 1, inplace = True)
    
    # Reiniciando los índices
    df_salary_copy[year].reset_index(drop = True, inplace = True)
    df_hitting_copy[year].reset_index(drop = True, inplace = True)
    df_pitching_copy[year].reset_index(drop = True, inplace = True)
    df_free_agents_copy[year].reset_index(drop = True, inplace = True)





hitting_merge = ['Juegos_iniciados', 'Porcentaje_juegos_iniciados', 'At-bats', 'Bateos',
                 'Dobles', 'Triples', 'Home-runs', 'Runs-batted-in', 'Bateos_promedio',
                 'Porcentaje_on-base', 'Porcentaje_slugging', 'TVS',
                 'Porcentaje_On-base-plus-slugging', 'WAR',
                 'Juegos_iniciados_2', 'Porcentaje_juegos_iniciados_2', 'At-bats_2', 'Bateos_2',
                 'Dobles_2', 'Triples_2', 'Home-runs_2', 'Runs-batted-in_2', 'Bateos_promedio_2',
                 'Porcentaje_on-base_2', 'Porcentaje_slugging_2', 'TVS_2',
                 'Porcentaje_On-base-plus-slugging_2', 'WAR_2']	
pitching_merge = ['Inning_pitched', 'Bateos_en_contra', 'Carreras_en_contra',
                  'Carreras_ganadas', 'Walks', 'Strike-outs', 'Wins', 'Losses',
                  'Saves', 'WHIP', 'ERA', 'WAR', 'TVS', 'Dominio', 'Control',
                  'Comando',
                  'Inning_pitched_2', 'Bateos_2', 'Carreras_2',
                  'Carreras_ganadas_2', 'Walks_2', 'Strike-outs_2', 'Wins_2', 'Losses_2',
                  'Saves_2', 'WHIP_2', 'ERA_2', 'WAR_2', 'TVS_2', 'Dominio_2', 'Control_2',
                  'Comando_2']


df_hitters_copy = [None]*period
df_pitchers_copy = [None]*period


for year in range(0,period):
    df_hitters_copy[year] = df_hitting_copy[year].copy()
    df_pitchers_copy[year] = df_pitching_copy[year].copy()


for year in range(1,period):    
    df_hitting_copy[year] = pd.merge(df_hitters_copy[year], df_hitters_copy[year-1], on = 'Jugador')
    df_pitching_copy[year] = pd.merge(df_pitchers_copy[year], df_pitchers_copy[year-1], on = 'Jugador')


for year in range(0,period):
    df_hitters_copy[year] = df_hitting_copy[year].copy()
    df_pitchers_copy[year] = df_pitching_copy[year].copy()





"""for name in df_pitching_copy[11].columns:
    print(name)"""


for year in range(0,period):
    print(df_hitting_copy[year].columns.shape)
    
for year in range(0,period):    
    print(df_pitching_copy[year].columns.shape)





for year in range(1,period):       
    df_pitching_copy[year].columns = df_pitching_copy[year].columns.str.replace('_x', '_t')
    df_pitching_copy[year].columns = df_pitching_copy[year].columns.str.replace('_y', '_t_1')
    df_pitching_copy[year].columns = df_pitching_copy[year].columns.str.replace('-', '_')
    df_pitching_copy[year].columns = df_pitching_copy[year].columns.str.replace(' ', '_')
    print(df_pitching_copy[year].columns)
    df_pitching_copy[year].drop(['ln_Sueldo_base_t_1', 'ln_Sueldo_ajustado_t_1', 'ln_Sueldo_regular_t_1'],
                           axis = 1, inplace = True)
    df_pitching_copy[year] = df_pitching_copy[year].sort_values(by = 'Jugador', ascending = True)
    df_pitching_copy[year].reset_index(drop = True, inplace = True)
    
    df_hitting_copy[year].columns = df_hitting_copy[year].columns.str.replace('_x', '_t')
    df_hitting_copy[year].columns = df_hitting_copy[year].columns.str.replace('_y', '_t_1')
    df_hitting_copy[year].columns = df_hitting_copy[year].columns.str.replace('-', '_')
    df_hitting_copy[year].columns = df_hitting_copy[year].columns.str.replace(' ', '_')
    df_hitting_copy[year].drop(['ln_Sueldo_base_t_1', 'ln_Sueldo_ajustado_t_1', 'ln_Sueldo_regular_t_1'],
                          axis = 1, inplace = True)
    df_hitting_copy[year] = df_hitting_copy[year].sort_values(by = 'Jugador', ascending = True)
    df_hitting_copy[year].reset_index(drop = True, inplace = True)
    
    # Reordenando las columnas
    df_hitting_copy[year].sort_index(axis = 1, inplace = True)
    df_pitching_copy[year].sort_index(axis = 1, inplace = True)


for name in df_pitching_copy[11].columns:
    print(name)





for year in range(1,period):
    df_pitching_copy[year].drop(['Anio_t_1', 'Estado_t_1', 'Edad_t_1'],
                           axis = 1, inplace = True)
    
    df_hitting_copy[year].drop(['Anio_t_1', 'Estado_t_1', 'Edad_t_1'],
                           axis = 1, inplace = True)
    
    # Reordenando las columnas
    df_hitting_copy[year].sort_index(axis = 1, inplace = True)
    df_pitching_copy[year].sort_index(axis = 1, inplace = True)
    
    # Reiniciando índice
    df_hitting_copy[year].reset_index(drop = True, inplace = True)
    df_pitching_copy[year].reset_index(drop = True, inplace = True)





year = 0
# Reiniciando los índices
df_hitting_copy[year] = df_hitting_copy[year].add_suffix('_t')
df_pitching_copy[year] = df_pitching_copy[year].add_suffix('_t')
# Corrección de columna del jugador
df_hitting_copy[year].columns = df_hitting_copy[year].columns.str.replace('Jugador_t', 'Jugador')
df_pitching_copy[year].columns = df_pitching_copy[year].columns.str.replace('Jugador_t', 'Jugador')


print("Salarios")
print(df_salary_copy[year].columns)
print("\n")
print("Hitters")
print(df_hitting_copy[year].columns)
print("\n")
print("Pitchers")
print(df_pitching_copy[year].columns)
print("\n")
print("Free agents")
print(df_free_agents_copy[year].columns)
print("\n")





for year in range(0,period):
    # Filtrando los agentes libres
    df_hitters_free_agents[year] = pd.merge(df_free_agents_copy[year],
                                            df_hitting_copy[year], on = 'Jugador')
    df_pitchers_free_agents[year] = pd.merge(df_free_agents_copy[year],
                                             df_pitching_copy[year], on = 'Jugador')
    
    # Omitiendo la columna de años de contrato extra si ya existe en el DataFrame
    if 'Anios_de_contrato_y' in df_hitters_free_agents[year].columns:
        df_hitters_free_agents[year].drop('Anios_de_contrato_y',
                                          axis=1,
                                          inplace=True)

    if 'Anios_de_contrato_y' in df_pitchers_free_agents[year].columns:
        df_pitchers_free_agents[year].drop('Anios_de_contrato_y',
                                            axis=1,
                                            inplace=True)

    # Renombrando variable de años de contrato
    df_hitters_free_agents[year] = df_hitters_free_agents[year].rename(columns = {'Anios_de_contrato_x':'Anios_de_contrato'})
    df_pitchers_free_agents[year] = df_pitchers_free_agents[year].rename(columns = {'Anios_de_contrato_x':'Anios_de_contrato'})
    
    # FIltrando los que no son agentes libres
    df_hitters_no_free_agents[year] = df_hitting_copy[year][~df_hitting_copy[year].Jugador.isin(df_hitters_free_agents[year].Jugador)]
    df_pitchers_no_free_agents[year] = df_pitching_copy[year][~df_pitching_copy[year].Jugador.isin(df_pitchers_free_agents[year].Jugador)]
    
    # Reiniciando el índice
    df_hitters_free_agents[year] = df_hitters_free_agents[year].reindex(sorted(df_hitters_free_agents[year].columns), axis=1)
    df_pitchers_free_agents[year] = df_pitchers_free_agents[year].reindex(sorted(df_pitchers_free_agents[year].columns), axis=1)
    df_hitters_no_free_agents[year] = df_hitters_no_free_agents[year].reindex(sorted(df_hitters_no_free_agents[year].columns), axis=1)
    df_pitchers_no_free_agents[year] = df_pitchers_no_free_agents[year].reindex(sorted(df_pitchers_no_free_agents[year].columns), axis=1)    





print("FA - Hitters:")
df_hitters_free_agents[9].info()
print("\n FA - Pitchers:")
df_pitchers_free_agents[9].info()
print("\n No FA - Hitters:")
df_hitters_no_free_agents[9].info()
print("\n No FA - Hitters:")
df_pitchers_no_free_agents[9].info()


print("FA - Hitters:")
for year in range(0,period):
    print(df_hitters_free_agents[year].shape)
print("\n FA - Pitchers:")
for year in range(0,period):
    print(df_pitchers_free_agents[year].shape)





for year in range(0,period):
    df_hitters_free_agents[year].rename(columns = str.lower)
    df_pitchers_free_agents[year].rename(columns = str.lower)
    df_hitters_no_free_agents[year].rename(columns = str.lower)
    df_pitchers_no_free_agents[year].rename(columns = str.lower)


start_year = 2011
end_year = 2022
general_trans_path = 'ETL_Data/Transversal/Cumulative/'


for year in range(0,period):    
    # Exportemos los dataframes por separado
    df_hitters_free_agents[year].to_csv(general_trans_path + '/Hitters/Free_Agent/hitters_' + str(start_year + year) + '.csv',
                                        index = False)
    df_pitchers_free_agents[year].to_csv(general_trans_path + '/Fielders/Free_Agent/fielders_' + str(start_year + year) + '.csv',
                                         index = False)
    df_hitters_no_free_agents[year].to_csv(general_trans_path + '/Hitters/No_Free_Agent/hitters_' + str(start_year + year) + '.csv',
                                           index = False)
    df_pitchers_no_free_agents[year].to_csv(general_trans_path + '/Fielders/No_Free_Agent/fielders_' + str(start_year + year) + '.csv',
                                            index = False)





for year in range(0,period):
    # Condiciones
    condicion_hitter = [df_hitting_copy[year].Jugador.isin(df_free_agents_copy[year].Jugador)]
    condicion_pitcher = [df_pitching_copy[year].Jugador.isin(df_free_agents_copy[year].Jugador)]
    
    # Etiquetas
    etiquetas = ['Si']
    
    df_hitting_copy[year]['Agente_libre'] = np.select(condicion_hitter, etiquetas, default = 'No')
    df_pitching_copy[year]['Agente_libre'] = np.select(condicion_pitcher, etiquetas, default = 'No')
    
    df_hitting_copy[year] = df_hitting_copy[year].reindex(sorted(df_hitting_copy[year].columns), axis=1)
    df_pitching_copy[year] = df_pitching_copy[year].reindex(sorted(df_pitching_copy[year].columns), axis=1)


for year in range(0,period):
    df_hitting_copy[year].rename(columns = str.lower)
    df_pitching_copy[year].rename(columns = str.lower)


for year in range(0,period):
    # Exportemos los dataframes
    df_hitting_copy[year].to_csv(general_trans_path + '/Hitters/All/hitters_' + str(start_year + year) + '.csv',
                                        index = False)
    df_pitching_copy[year].to_csv(general_trans_path + '/Fielders/All/hitters_' + str(start_year + year) + '.csv',
                                        index = False)





# Inicialización del panel
df_panel_all_hitter = df_hitting_copy[0]
df_panel_all_pitcher = df_pitching_copy[0]

for year in range(1,period):
    # Hitter
    df_panel_all_hitter = pd.concat([df_panel_all_hitter, df_hitting_copy[year]])
    
    # Pitcher
    df_panel_all_pitcher = pd.concat([df_panel_all_pitcher, df_pitching_copy[year]])





df_panel_all_hitter[['ln_Sueldo_ajustado_t']].describe()


df_panel_all_pitcher.describe()


df_panel_all_hitter.info()


df_panel_all_pitcher.info()





"""for name in df_panel_all_hitter.columns:
    print(name)
    if type(name) != str:
        for element in range(0,len(df_panel_all_hitter[name])):
            if pd.isna(df_panel_all_hitter[name].iloc[element]) == True:
                print(str(element) +  '  ' + str(df_panel_all_hitter[name].iloc[element]))"""


"""for name in df_panel_all_pitcher.columns:
    print(name)
    if type(name) != str:
        for element in range(0,len(df_panel_all_pitcher[name])):
            if pd.isna(df_panel_all_pitcher[name].iloc[element]) == True:
                print(str(element) +  '  ' + str(df_panel_all_pitcher[name].iloc[element]))"""





for name in df_panel_all_hitter.columns:
    print(name)
    if type(name) != str:
        for element in range(0,len(df_panel_all_hitter[name])):
            if math.isinf(df_panel_all_hitter[name].iloc[element]) == True:
                print(str(element) +  '  ' + str(df_panel_all_hitter[name].iloc[element]))


for name in df_panel_all_pitcher.columns:
    print(name)
    if type(name) != str:
        for element in range(0,len(df_panel_all_pitcher[name])):
            if math.isinf(df_panel_all_pitcher[name].iloc[element]) == True:
                print(str(element) +  '  ' + str(df_panel_all_pitcher[name].iloc[element]))


df_panel_all_hitter.sort_index(axis = 1,
                               inplace = True)
df_panel_all_pitcher.sort_index(axis = 1,
                                inplace = True)





general_panel_path = 'ETL_Data/Panel/Cumulative/Visualizations/'


df_panel_all_hitter.to_csv(general_panel_path + 'hitters_' + '.csv',
                           index = False)
df_panel_all_pitcher.to_csv(general_panel_path + 'fielders_' + '.csv',
                            index = False)





# Inicialización del panel
df_panel_fa_hitter = df_hitters_free_agents[0]
df_panel_fa_pitcher = df_pitchers_free_agents[0]

for year in range(1,period):
    # Hitter
    df_panel_fa_hitter = pd.concat([df_panel_fa_hitter, df_hitters_free_agents[year]])
    
    # Pitcher
    df_panel_fa_pitcher = pd.concat([df_panel_fa_pitcher, df_pitchers_free_agents[year]])


df_panel_fa_hitter.info()


df_panel_fa_pitcher.info()


df_panel_fa_hitter.sort_index(axis = 1, inplace = True)
df_panel_fa_pitcher.sort_index(axis = 1, inplace = True)





empiric_panel_hitter = df_panel_fa_hitter.copy()
empiric_panel_pitcher = df_panel_fa_pitcher.copy()





print(empiric_panel_hitter.shape)


print(empiric_panel_pitcher.shape)





empiric_panel_hitter['Posicion_t_1'].unique()


empiric_panel_pitcher['Posicion_t'].unique()





print(empiric_panel_hitter.columns)


# Hitter
empiric_panel_hitter = empiric_panel_hitter.sort_values(by = ['Jugador','Anio_t'], ascending=True)
empiric_panel_hitter.reset_index(drop = True, inplace = True)

# Pitcher
empiric_panel_pitcher = empiric_panel_pitcher.sort_values(by = ['Jugador','Anio_t'], ascending=True)
empiric_panel_pitcher.reset_index(drop = True, inplace = True)


empiric_panel_hitter[['Jugador','Anio_t']].head()


empiric_panel_pitcher[['Jugador','Anio_t']].head()


"""hitter_names = empiric_panel_hitter.columns
for index in range(0,len(hitter_names)):
    print("Name: " + str(hitter_names[index]))
    print("index: " + str(index))"""








hitter_regular_stats = ['At_bats_2_t', 'At_bats_t',
                        'Bateos_2_t', 'Bateos_t',
                        'Bateos_promedio_2_t', 'Bateos_promedio_t',
                        'Dobles_2_t', 'Dobles_t',
                        'Home_runs_2_t', 'Home_runs_t',
                        'Ingresos_equipo_2_t', 'Ingresos_equipo_t',
                        'Juegos_iniciados_2_t', 'Juegos_iniciados_t', 
                        'Porcentaje_On_base_plus_slugging_2_t', 'Porcentaje_On_base_plus_slugging_t',
                        'Porcentaje_on_base_2_t', 'Porcentaje_on_base_t',
                        'Porcentaje_slugging_2_t', 'Porcentaje_slugging_t',
                        'Runs_batted_in_2_t', 'Runs_batted_in_t',
                        'Triples_2_t', 'Triples_t',
                        'WAR_2_t', 'WAR_t',
                        'At_bats_2_t_1', 'At_bats_t_1',
                        'Bateos_2_t_1', 'Bateos_t_1',
                        'Bateos_promedio_2_t_1', 'Bateos_promedio_t_1',
                        'Dobles_2_t_1', 'Dobles_t_1',
                        'Home_runs_2_t_1', 'Home_runs_t_1',
                        'Ingresos_equipo_2_t_1', 'Ingresos_equipo_t_1',
                        'Juegos_iniciados_2_t_1', 'Juegos_iniciados_t_1', 
                        'Porcentaje_On_base_plus_slugging_2_t_1', 'Porcentaje_On_base_plus_slugging_t_1',
                        'Porcentaje_on_base_2_t_1', 'Porcentaje_on_base_t_1',
                        'Porcentaje_slugging_2_t_1', 'Porcentaje_slugging_t_1',
                        'Runs_batted_in_2_t_1', 'Runs_batted_in_t_1',
                        'Triples_2_t_1', 'Triples_t_1',
                        'WAR_2_t_1', 'WAR_t_1']
hitter_regular_stats = sorted(hitter_regular_stats)


# Hitter
for stat in range(0,len(hitter_regular_stats)):
    # Variables auxiliares
    stat_name = hitter_regular_stats[stat]
    max_stat_name = stat_name + '_H'
    min_stat_name = stat_name + '_L'
    
    # Máximos por equipo
    max_stat = pd.DataFrame({"Acronimo_t":empiric_panel_hitter.groupby(by = "Acronimo_t")[stat_name].max().index,
                             max_stat_name: empiric_panel_hitter.groupby(by = "Acronimo_t")[stat_name].max().values})
    # Mínimos por equipo
    min_stat = pd.DataFrame({"Acronimo_t":empiric_panel_hitter.groupby(by = "Acronimo_t")[stat_name].min().index,
                             min_stat_name: empiric_panel_hitter.groupby(by = "Acronimo_t")[stat_name].min().values})
    empiric_panel_hitter = empiric_panel_hitter.merge(max_stat, on = "Acronimo_t",
                                                      how = "left")
    empiric_panel_hitter = empiric_panel_hitter.merge(min_stat, on = "Acronimo_t",
                                                      how = "left")


"""hitter_names = empiric_panel_hitter.columns
for index in range(0,len(hitter_names)):
    print("Name: " + str(hitter_names[index]))
    print("index: " + str(index))"""


start = empiric_panel_hitter.columns.get_loc('At_bats_2_t_1_H')
end = empiric_panel_hitter.columns.get_loc('WAR_t_1_L') + 1
empiric_panel_hitter.iloc[:,start:end]





"""pitcher_names = empiric_panel_pitcher.columns
for index in range(0,len(pitcher_names)):
    print("Name: " + str(pitcher_names[index]))
    print("index: " + str(index))"""





pitcher_regular_stats = ['Bateos_2', 'Bateos',
                        'Carreras_2', 'Carreras',
                        'Carreras_ganadas_2', 'Carreras_ganadas',
                        'Comando_2', 'Comando',
                        'Control_2', 'Control',
                        'Dominio_2', 'Dominio', 
                        'ERA_2', 'ERA',
                        'Ingresos_equipo_2', 'Ingresos_equipo',
                        'Inning_pitched_2', 'Inning_pitched',
                        'Losses_2', 'Losses',
                        'Saves_2', 'Saves',
                        'Strike_outs_2', 'Strike_outs',
                        'WAR_2', 'WAR',
                        'WHIP_2', 'WHIP',
                        'Walks_2', 'Walks',
                        'Wins_2', 'Wins']

# Agregar sufijo "_t" a cada variable
pitcher_regular_stats_t = [var + "_t" for var in pitcher_regular_stats]

# Agregar sufijo "_t_1" a cada variable
pitcher_regular_stats_t_1 = [var + "_t_1" for var in pitcher_regular_stats]

pitcher_regular_stats = pitcher_regular_stats_t + pitcher_regular_stats_t_1
pitcher_regular_stats = sorted(pitcher_regular_stats)

print(pitcher_regular_stats)


# Pitcheer
for stat in range(0,len(pitcher_regular_stats)):
    # Variables auxiliares
    stat_name = pitcher_regular_stats[stat]
    max_stat_name = stat_name + '_H'
    min_stat_name = stat_name + '_L'
    
    # Máximos por equipo
    max_stat = pd.DataFrame({"Acronimo_t":empiric_panel_pitcher.groupby(by = "Acronimo_t")[stat_name].max().index,
                             max_stat_name: empiric_panel_pitcher.groupby(by = "Acronimo_t")[stat_name].max().values})
    # Mínimos por equipo
    min_stat = pd.DataFrame({"Acronimo_t":empiric_panel_pitcher.groupby(by = "Acronimo_t")[stat_name].min().index,
                             min_stat_name: empiric_panel_pitcher.groupby(by = "Acronimo_t")[stat_name].min().values})
    empiric_panel_pitcher = empiric_panel_pitcher.merge(max_stat, on = "Acronimo_t",
                                                        how = "left")
    empiric_panel_pitcher = empiric_panel_pitcher.merge(min_stat, on = "Acronimo_t",
                                                        how = "left")


"""pitcher_names = empiric_panel_pitcher.columns
for index in range(0,len(pitcher_names)):
    print("Name: " + str(pitcher_names[index]))
    print("index: " + str(index))"""


start = empiric_panel_pitcher.columns.get_loc('Bateos_2_t_1_H')
end = empiric_panel_pitcher.columns.get_loc('Wins_t_1_L') + 1
empiric_panel_pitcher.iloc[:,start:end]


empiric_panel_hitter.shape


empiric_panel_pitcher.shape





# Hitter
empiric_panel_hitter = empiric_panel_hitter["Anio_t"].drop_duplicates().to_frame().merge(empiric_panel_hitter["Jugador"].drop_duplicates(),
                                                                                         how = "cross").merge(empiric_panel_hitter,
                                                                                                              how = "left")
empiric_panel_hitter.reset_index(drop = True, inplace = True)

# Pitcher
empiric_panel_pitcher = empiric_panel_pitcher["Anio_t"].drop_duplicates().to_frame().merge(empiric_panel_pitcher["Jugador"].drop_duplicates(),
                                                                                           how = "cross").merge(empiric_panel_pitcher,
                                                                                                                how = "left")
empiric_panel_pitcher.reset_index(drop = True, inplace = True)





empiric_panel_hitter.shape


empiric_panel_pitcher.shape





# Hitters:
# count number of observations for each player
counts_hitters = empiric_panel_hitter.groupby('Jugador').size()
# filter players with more than one year of observations
filtered_hitters = counts_hitters[counts_hitters > 2].index.tolist()

# Fielders:
# count number of observations for each player
counts_filders = empiric_panel_pitcher.groupby('Jugador').size()
# filter players with more than one year of observations
filtered_fielders = counts_filders[counts_filders > 2].index.tolist()


# Filter observations according to the previous list
# Hitter
empiric_panel_hitter = empiric_panel_hitter[empiric_panel_hitter['Jugador'].isin(filtered_hitters)]
empiric_panel_hitter.reset_index(drop = True,
                                 inplace = True)

# Pitcher
empiric_panel_pitcher = empiric_panel_pitcher[empiric_panel_pitcher['Jugador'].isin(filtered_fielders)]
empiric_panel_pitcher.reset_index(drop = True,
                                  inplace = True)


empiric_panel_hitter


empiric_panel_pitcher





empiric_panel_hitter.select_dtypes(include =['object'],
                                   exclude = ['int64','float64']).info()


empiric_panel_hitter['Posicion_t'].value_counts()


# Fill the NaN values with the previous non-null value
empiric_panel_hitter['Posicion_t'] = empiric_panel_hitter['Posicion_t'].fillna(method = 'ffill')


empiric_panel_hitter[['Acronimo_t',
                      'Equipo_anterior',
                      'Equipo_t',
                      'Estado_t',
                      'Posicion_t',
                      'Status_agente_libre',
                      'Acronimo_t_1',
                      'Equipo_t_1',
                      'Posicion_t_1']] = \
empiric_panel_hitter[['Acronimo_t',
                      'Equipo_anterior',
                      'Equipo_t',
                      'Estado_t',
                      'Posicion_t',
                      'Status_agente_libre',
                      'Acronimo_t_1',
                      'Equipo_t_1',
                      'Posicion_t_1']].fillna('No')





empiric_panel_hitter.select_dtypes(include = ['object'],
                                   exclude = ['int64','float64']).info()





empiric_panel_pitcher.select_dtypes(include =['object'],
                                    exclude = ['int64','float64']).info()


empiric_panel_pitcher['Posicion_t'].value_counts()


# Fill the NaN values with the previous non-null value
empiric_panel_pitcher['Posicion_t'] = empiric_panel_pitcher['Posicion_t'].fillna(method = 'ffill')


empiric_panel_pitcher[['Acronimo_t',
                       'Equipo_anterior',
                       'Equipo_t',
                       'Estado_t',
                       'Posicion_t',
                       'Status_agente_libre',
                       'Acronimo_t_1',
                       'Equipo_t_1',
                       'Posicion_t_1']] = \
empiric_panel_pitcher[['Acronimo_t',
                       'Equipo_anterior',
                       'Equipo_t',
                       'Estado_t',
                       'Posicion_t',
                       'Status_agente_libre',
                       'Acronimo_t_1',
                       'Equipo_t_1',
                       'Posicion_t_1']].fillna('No')


empiric_panel_pitcher.select_dtypes(include =['object'],
                                    exclude = ['int64','float64']).info()





# Add string to every element in a list
# Hitter
hitter_high_stat = [stat + '_H' for stat in hitter_regular_stats]
hitter_low_stat = [stat + '_L' for stat in hitter_regular_stats]
# Fielder
pitcher_high_stat = [stat + '_H' for stat in pitcher_regular_stats]
pitcher_low_stat = [stat + '_L' for stat in pitcher_regular_stats]


empiric_panel_hitter[hitter_high_stat] = empiric_panel_hitter[hitter_high_stat].fillna(method = 'ffill')
empiric_panel_pitcher[pitcher_high_stat] = empiric_panel_pitcher[pitcher_high_stat].fillna(method = 'ffill')


empiric_panel_hitter[hitter_high_stat].head(20)


empiric_panel_hitter.fillna(0, inplace = True)
empiric_panel_pitcher.fillna(0, inplace = True)





# Hitter
hitter_nan = empiric_panel_hitter.isna().any()
hitter_name = empiric_panel_hitter.columns
for con in range(0, len(hitter_nan)):
    if hitter_nan[con]:
        print("Name: " + str(hitter_name[con]))


# Pitcher
pitcher_nan = empiric_panel_pitcher.isna().any()
pitcher_name = empiric_panel_pitcher.columns
for con in range(0, len(pitcher_nan)):
    if pitcher_nan[con]:
        print("Name: " + str(pitcher_name[con]))








# Hitter
empiric_panel_hitter['id'] =  empiric_panel_hitter.groupby(['Jugador']).ngroup()
empiric_panel_hitter.reset_index(drop = True, inplace = True)
# Pitcher
empiric_panel_pitcher['id'] =  empiric_panel_pitcher.groupby(['Jugador']).ngroup()
empiric_panel_pitcher.reset_index(drop = True, inplace = True)





# Función de rezagos de raices
def sqrt_dif(X):
    S = []
    for i in range(0, len(X)-1):
        d = np.sqrt(X[i+1])-np.sqrt(X[i])
        S.append(d)
    try:
        S.append(d)
    except: 
        S.append(0)
    return S


Y_hitter = []
for p in empiric_panel_hitter["id"].unique():
    # Filtremos todos los sueldos (ln) de cada jugador por separado
    X = empiric_panel_hitter[empiric_panel_hitter["id"] == p]["ln_Sueldo_ajustado_t"].values
    # Aplicación de la función
    S = sqrt_dif(X)
    # Añadimos los datos de manera ordenada
    Y_hitter = np.concatenate((Y_hitter, S))
# Agregamos la columna:
empiric_panel_hitter["Y"] = Y_hitter


empiric_panel_hitter["Y"]


Y_pitcher = []
for p in empiric_panel_pitcher["id"].unique():
    # Filtremos todos los sueldos (ln) de cada jugador por separado
    X = empiric_panel_pitcher[empiric_panel_pitcher["id"] == p]["ln_Sueldo_ajustado_t"].values
    # Aplicación de la función
    S = sqrt_dif(X)
    # Añadimos los datos de manera ordenada
    Y_pitcher = np.concatenate((Y_pitcher, S))
# Agregamos la columna:
empiric_panel_pitcher["Y"] = Y_pitcher


empiric_panel_pitcher["Y"]





# Long of the stats
end_hitter_name = int((len(hitter_high_stat) + len(hitter_low_stat))/2)


hitter_regular_stats


# Hitter
for sport_stat in range(0,end_hitter_name):
    I_hitter = []
    for y,max_stat,min_stat in zip(empiric_panel_hitter[hitter_regular_stats[sport_stat]],
                                   empiric_panel_hitter[hitter_high_stat[sport_stat]],
                                   empiric_panel_hitter[hitter_low_stat[sport_stat]]):
        # Dummy condition
        if y > (max_stat + min_stat)/2:
            I_hitter.append(0)
        else: 
            I_hitter.append(1)
    
    I_name = hitter_regular_stats[sport_stat] + '_I'
    empiric_panel_hitter[I_name] = I_hitter





"""hitter_names = empiric_panel_hitter.columns
for index in range(0,len(hitter_names)):
    print("Name: " + str(hitter_names[index]))
    print("index: " + str(index))"""


# Hitter
hitter_nan = empiric_panel_hitter.isna().any()
hitter_name = empiric_panel_hitter.columns
for con in range(0, len(hitter_nan)):
    if hitter_nan[con]:
        print("Name: " + str(hitter_name[con]))


start = empiric_panel_hitter.columns.get_loc('At_bats_2_t_1_I')
end = empiric_panel_hitter.columns.get_loc('WAR_t_1_I') + 1
empiric_panel_hitter.iloc[:,start:end]





# Long of stats
end_pitcher_name = int((len(pitcher_high_stat) + len(pitcher_low_stat))/2)


# Pitcher
for sport_stat in range(0,end_pitcher_name):
    I_pitcher = []
    for y,max_stat,min_stat in zip(empiric_panel_pitcher[pitcher_regular_stats[sport_stat]],
                                   empiric_panel_pitcher[pitcher_high_stat[sport_stat]],
                                   empiric_panel_pitcher[pitcher_low_stat[sport_stat]]):
        if y > (max_stat + min_stat)/2:
            I_pitcher.append(0)
        else: 
            I_pitcher.append(1)
    
    I_name = pitcher_regular_stats[sport_stat] + '_I'
    empiric_panel_pitcher[I_name] = I_pitcher


"""pitcher_names = empiric_panel_pitcher.columns
for index in range(0,len(pitcher_names)):
    print("Name: " + str(pitcher_names[index]))
    print("index: " + str(index))"""


# Pitcher
pitcher_nan = empiric_panel_pitcher.isna().any()
pitcher_name = empiric_panel_pitcher.columns
for con in range(0, len(pitcher_nan)):
    if pitcher_nan[con]:
        print("Name: " + str(pitcher_name[con]))


start = empiric_panel_pitcher.columns.get_loc('Bateos_2_t_1_I')
end = empiric_panel_pitcher.columns.get_loc('Wins_t_1_I') + 1
empiric_panel_pitcher.iloc[:,start:end]





# Good practice
hitter_high_stat = sorted(hitter_high_stat)
# Dummy
I_hitter = sorted([stat + '_I' for stat in hitter_regular_stats])





len(I_hitter) == len(hitter_high_stat) == len(hitter_regular_stats)


# Pitcher
for stat in range(0,len(hitter_regular_stats)):
    # Variable auxiliar
    X_hitter = []
    
    # Variables 
    i = (-1)**(empiric_panel_hitter[I_hitter[stat]])
    x = empiric_panel_hitter[hitter_regular_stats[stat]]/np.sqrt(empiric_panel_hitter[hitter_high_stat[stat]])
    X_hitter = i*x
    
    # X name
    name = 'X_' + hitter_regular_stats[stat]
    empiric_panel_hitter[name] = X_hitter


# Pitcher
hitter_nan = empiric_panel_hitter.isna().any()
hitter_name = empiric_panel_hitter.columns
for con in range(0, len(hitter_nan)):
    if hitter_nan[con]:
        print("Name: " + str(hitter_name[con]))


# define a list of suffixes to drop
drop_suffix = ['_I', '_L', '_H']

# Use a list comprehension to filter the columns to drop
hitter_cols_to_drop = [col for col in empiric_panel_hitter.columns if col.endswith(tuple(drop_suffix))]

# Drop the selected columns
empiric_panel_hitter = empiric_panel_hitter.drop(hitter_cols_to_drop,
                                                 axis=1)


empiric_panel_hitter.shape


empiric_panel_hitter['Posicion_t'].value_counts()





panel_columns = empiric_panel_hitter.columns

for name in panel_columns:
    print(name)


general_dynamic_path = 'ETL_Data/Panel/Cumulative/Dynamic_model/'


empiric_panel_hitter.to_csv(general_dynamic_path + 'panel_hitters' + '.csv',
                            index = False)





# Good practice
pitcher_high_stat = sorted(pitcher_high_stat)
# Dummy
I_pitcher = sorted([stat + '_I' for stat in pitcher_regular_stats])





len(I_pitcher) == len(pitcher_high_stat) == len(pitcher_regular_stats)


# Pitcher
for stat in range(0,len(pitcher_regular_stats)):
    # Variable auxiliar
    X_pitcher = []
    
    # Variables 
    i = (-1)**(empiric_panel_pitcher[I_pitcher[stat]])
    x = empiric_panel_pitcher[pitcher_regular_stats[stat]]/np.sqrt(empiric_panel_pitcher[pitcher_high_stat[stat]])
    X_pitcher = i*x
    
    # X name
    name = 'X_' + pitcher_regular_stats[stat]
    empiric_panel_pitcher[name] = X_pitcher


# Pitcher
pitcher_nan = empiric_panel_pitcher.isna().any()
pitcher_name = empiric_panel_pitcher.columns
for con in range(0, len(pitcher_nan)):
    if pitcher_nan[con]:
        print("Name: " + str(pitcher_name[con]))





# define a list of suffixes to drop
drop_suffix = ['_I', '_L', '_H']

# Use a list comprehension to filter the columns to drop
fielder_cols_to_drop = [col for col in empiric_panel_pitcher.columns if col.endswith(tuple(drop_suffix))]

# Drop the selected columns
empiric_panel_pitcher = empiric_panel_pitcher.drop(fielder_cols_to_drop,
                                                   axis=1)


empiric_panel_pitcher.shape


empiric_panel_pitcher['Posicion_t'].value_counts()


panel_columns = empiric_panel_pitcher.columns

for name in panel_columns:
    print(name)


empiric_panel_pitcher.to_csv(general_dynamic_path + 'panel_fielders' + '.csv',
                             index = False)





# Concatenar todos los dataframes en uno solo
teams_data = pd.concat(teams_revenue, ignore_index=True)

# Verificar el nuevo dataframe
print(teams_data)


# Suponiendo que `acronym_state` es el DataFrame que contiene la información del estado de los acrónimos
# Aquí debes cargar o definir el DataFrame `acronym_state` con los datos apropiados

# Realizar el merge
merged_data = pd.merge(teams_data, acronym_state, on="Acronimo", how="inner")

# Verificar el nuevo DataFrame fusionado
print(merged_data)


# Definición de los dataframes para cada año
period = 12
teams_victories = [None]*period

for year in range(0,period):
    team_path = 'Data/Teams/team_victories_'
    teams_victories[year] = pd.read_csv(team_path + str(2011 + year) + '.csv')
    teams_victories[year]['Anio'] = 2011 + year


# Concatenar todos los dataframes en uno solo
teams_victories_panel = pd.concat(teams_victories, ignore_index=True)

# Verificar el nuevo dataframe
print(teams_victories_panel)


# Suponiendo que `acronym_state` es el DataFrame que contiene la información del estado de los acrónimos
# Aquí debes cargar o definir el DataFrame `acronym_state` con los datos apropiados

# Realizar el merge
teams_panel = pd.merge(teams_victories_panel, merged_data, on=["Acronimo","Equipo","Anio"], how="inner")
teams_panel.drop_duplicates(inplace=True)

# Verificar el nuevo DataFrame fusionado
print(teams_panel)


teams_panel.to_csv('ETL_Data/Panel/General/Teams/teams_panel.csv', index=False)
