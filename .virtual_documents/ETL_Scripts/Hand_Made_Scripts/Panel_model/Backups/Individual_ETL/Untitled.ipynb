import pandas as pd
import numpy as np
import math
import os
import warnings
import statsmodels.api as sm
from matplotlib.colors import ListedColormap
from sklearn.preprocessing import MinMaxScaler
from termcolor import colored
print('Modulos importados')


# Configuraciones
warnings.filterwarnings('ignore')


# Configuraciones
warnings.filterwarnings('ignore')


# Veamos el directorio actual de trabajo
print(os.getcwd())
# El directorio anterior es el correcto, pero si no lo fuese, hacemos lo sigueinte:
path = "C:/Users/metal/Documents/Github/MLB_hardball_negotations"
print("Nuevo directorio de trabajo: " + str(os.chdir(path)))
