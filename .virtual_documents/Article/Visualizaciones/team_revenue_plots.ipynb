


import pandas as pd
import numpy as np
import math
import os
import warnings
import statsmodels.api as sm
from matplotlib.colors import ListedColormap
from termcolor import colored
print('Modulos importados')


# Configuraciones
warnings.filterwarnings('ignore')


# Define la ruta del directorio
path = r'C:\Users\metal\Documents\Github\MLB_hardball_negotations'

# Cambia el directorio de trabajo actual al directorio especificado
os.chdir(path)

# Verifica que el directorio de trabajo actual haya cambiado
print("Directorio de trabajo actual:", os.getcwd())
