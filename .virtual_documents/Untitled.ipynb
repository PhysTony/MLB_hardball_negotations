import numpy as np
from statistics import mean 


aux = [10.6, 7.8, 8.1, 7.1, 4.4]


mean(aux)


simple_hitter = [0.266,0.282,0.266,0.267]
print(mean(simple_hitter))
print(np.std(simple_hitter))
print(np.var(simple_hitter))


import pandas as pd

# Crear un diccionario con los datos proporcionados
data = {
    'Rank': list(range(1, 31)),
    'Team': [
        "New York Yankees", "Los Angeles Dodgers", "Boston Red Sox", "Chicago Cubs", "Philadelphia Phillies",
        "New York Mets", "Texas Rangers", "Los Angeles Angels of Anaheim", "San Francisco Giants",
        "Chicago White Sox", "St Louis Cardinals", "Seattle Mariners", "Houston Astros", "Minnesota Twins",
        "Atlanta Braves", "Washington Nationals", "Detroit Tigers", "Colorado Rockies", "Baltimore Orioles",
        "San Diego Padres", "Miami Marlins", "Milwaukee Brewers", "Arizona Diamondbacks", "Cincinnati Reds",
        "Toronto Blue Jays", "Cleveland Indians", "Kansas City Royals", "Pittsburgh Pirates", "Tampa Bay Rays",
        "Oakland Athletics"
    ],
    'Current Value ($mil)': [
        1850, 1400, 1000, 879, 723, 719, 674, 656, 643, 600, 591, 585, 549, 510, 508, 480, 478, 464, 460, 458,
        450, 448, 447, 424, 413, 410, 354, 336, 323, 321
    ],
    '1-Yr Value Change (%)': [
        9, 75, 10, 14, 19, -4, 20, 18, 14, 14, 14, 30, 16, 4, 5, 15, 24, 12, 12, 13, 25, 19, 13, 13, 23, 16, 1,
        11, -2, 5
    ],
    'Debt/Value (%)': [
        2, 41, 24, 66, 24, 69, 55, 3, 16, 7, 47, 0, 41, 20, 0, 52, 39, 15, 33, 44, 32, 27, 39, 10, 0, 27, 14,
        38, 36, 28
    ],
    'Revenue ($mil)': [
        439, 230, 310, 266, 249, 225, 233, 226, 230, 214, 233, 210, 196, 213, 203, 200, 217, 193, 179, 163,
        148, 195, 186, 185, 188, 178, 161, 168, 161, 160
    ],
    'Operating Income ($mil)': [
        10.0, 1.2, 25.4, 28.1, -11.6, -40.8, 15.3, -1.2, 8.8, 10.7, 25.0, 2.2, 24.3, 16.6, 20.7, 25.9, 8.2, 14.4,
        12.9, 23.2, 8.9, 19.2, 27.2, 17.1, 24.9, 30.1, 28.5, 15.9, 26.2, 14.6
    ]
}

# Crear el DataFrame
df = pd.DataFrame(data)

# Agregar la columna 'Year' con el valor constante 2011
df['Year'] = 2012

# Mostrar el DataFrame
print(df)


import pandas as pd

# Crear un diccionario con los datos proporcionados
data = {
    'Rank': list(range(1, 31)),
    'Team': [
        "New York Yankees", "Boston Red Sox", "Los Angeles Dodgers", "Chicago Cubs", "New York Mets",
        "Philadelphia Phillies", "San Francisco Giants", "Texas Rangers", "LA Angels of Anaheim", 
        "Chicago White Sox", "St. Louis Cardinals", "Minnesota Twins", "Atlanta Braves", "Houston Astros", 
        "Seattle Mariners", "Washington Nationals", "Colorado Rockies", "Baltimore Orioles", 
        "San Diego Padres", "Arizona Diamondbacks", "Detroit Tigers", "Milwaukee Brewers", "Cincinnati Reds", 
        "Florida Marlins", "Cleveland Indians", "Kansas City Royals", "Toronto Blue Jays", "Tampa Bay Rays", 
        "Oakland Athletics", "Pittsburgh Pirates"
    ],
    'Current Value ($ mil)': [
        1700, 912, 800, 773, 747, 609, 563, 561, 554, 526, 518, 490, 482, 474, 449, 417, 414, 411, 406, 
        396, 385, 376, 375, 360, 353, 351, 337, 331, 307, 304
    ],
    '1-year Value Change (%)': [
        6, 5, 10, 6, -13, 13, 16, 25, 6, 13, 6, 21, 7, 5, 2, 8, 8, 9, 0, 4, 3, 7, 13, 13, -10, 3, 5, 3, 4, 5
    ],
    'Debt/Value (%)': [
        4, 26, 54, 75, 60, 29, 21, 66, 10, 8, 53, 20, 0, 12, 15, 60, 19, 37, 49, 25, 55, 32, 11, 40, 31, 14, 
        0, 35, 29, 42
    ],
    'Revenue ($ mil)': [
        427, 272, 246, 258, 233, 239, 230, 206, 222, 210, 207, 213, 201, 197, 204, 194, 188, 175, 159, 180, 
        192, 179, 179, 143, 168, 160, 168, 166, 161, 160
    ],
    'Operating Income ($ mil)': [
        25.7, -1.1, 32.8, 23.4, -6.2, 8.9, 29.9, 22.6, 11.8, 27.6, 19.8, 26.5, 22.2, 14.4, 9.9, 36.6, 16.3, 25.5, 
        37.2, 6.2, -29.1, 12.4, 20.1, 20.2, 12.1, 10.3, 3.6, 6.8, 23.2, 26.4
    ]
}

# Crear el DataFrame
df = pd.DataFrame(data)

# Agregar la columna 'Year' con el valor constante 2011
df['Year'] = 2011

# Mostrar el DataFrame
print(df)



import pandas as pd

# Crear un diccionario con los datos proporcionados
data = {
    'Rank': list(range(1, 31)),
    'Team': [
        "New York Yankees", "Los Angeles Dodgers", "Boston Red Sox", "Chicago Cubs", "Philadelphia Phillies",
        "New York Mets", "San Francisco Giants", "Texas Rangers", "Los Angeles Angels of Anaheim", 
        "St Louis Cardinals", "Chicago White Sox", "Seattle Mariners", "Detroit Tigers", "Washington Nationals", 
        "Atlanta Braves", "Houston Astros", "Baltimore Orioles", "San Diego Padres", "Arizona Diamondbacks", 
        "Minnesota Twins", "Toronto Blue Jays", "Milwaukee Brewers", "Cleveland Indians", "Cincinnati Reds", 
        "Colorado Rockies", "Miami Marlins", "Pittsburgh Pirates", "Oakland Athletics", "Kansas City Royals",
        "Tampa Bay Rays"
    ],
    'Current Value ($mil)': [
        2300, 1615, 1312, 1000, 893, 811, 786, 764, 718, 716, 692, 644, 643, 631, 629, 626, 618, 600, 584, 
        578, 568, 562, 559, 546, 537, 520, 479, 468, 457, 451
    ],
    '1-Yr Value Change (%)': [
        24, 15, 31, 14, 24, 13, 22, 13, 9, 21, 15, 10, 35, 31, 24, 14, 34, 31, 31, 13, 38, 25, 36, 29, 16, 16, 
        43, 46, 29, 40
    ],
    'Debt/Value (%)': [
        2, 26, 18, 58, 20, 53, 12, 48, 3, 38, 6, 0, 28, 40, 0, 36, 24, 50, 24, 17, 0, 21, 20, 9, 13, 29, 27, 
        19, 11, 26
    ],
    'Revenue ($mil)': [
        471, 245, 336, 274, 279, 232, 262, 239, 239, 239, 216, 215, 238, 225, 225, 196, 206, 189, 195, 214, 
        203, 201, 186, 202, 199, 195, 178, 173, 169, 167
    ],
    'Operating Income ($mil)': [
        1.4, 3.2, 23.9, 32.1, 0.6, -2.4, 17.6, -8.7, -12.9, 19.9, 22.9, 12.9, -0.4, 28.4, 12.4, 24.7, 30.1, 
        29.9, 7.6, 10.8, -4.8, 9.0, 22.9, 20.9, 18.7, -7.1, 26.8, 27.5, 16.3, 10.0
    ]
}

# Crear el DataFrame
df = pd.DataFrame(data)

# Agregar la columna 'Year' con el valor constante 2013
df['Year'] = 2013

# Mostrar el DataFrame
print(df)



import pandas as pd

# Crear un diccionario con los datos proporcionados
data = {
    'Rank': list(range(1, 31)),
    'Team': [
        "New York Yankees", "Los Angeles Dodgers", "Boston Red Sox", "Chicago Cubs", "San Francisco Giants",
        "Philadelphia Phillies", "Texas Rangers", "St Louis Cardinals", "New York Mets", 
        "Los Angeles Angels of Anaheim", "Atlanta Braves", "Seattle Mariners", "Washington Nationals", 
        "Chicago White Sox", "Detroit Tigers", "Baltimore Orioles", "San Diego Padres", "Toronto Blue Jays", 
        "Minnesota Twins", "Cincinnati Reds", "Arizona Diamondbacks", "Colorado Rockies", "Pittsburgh Pirates", 
        "Cleveland Indians", "Milwaukee Brewers", "Houston Astros", "Miami Marlins", "Oakland Athletics", 
        "Kansas City Royals", "Tampa Bay Rays"
    ],
    'Current Value ($mil)': [
        2500, 2000, 1500, 1200, 1000, 975, 825, 820, 800, 775, 730, 710, 700, 695, 680, 620, 615, 610, 605, 
        600, 585, 575, 572, 570, 565, 530, 500, 495, 490, 485
    ],
    '1-Yr Value Change (%)': [
        9, 24, 14, 20, 27, 9, 8, 15, -1, 8, 16, 10, 11, 0, 6, 0, 2, 7, 5, 10, 0, 7, 19, 2, 1, -15, -4, 6, 7, 
        8
    ],
    'Debt/Value (%)': [
        1, 20, 0, 35, 9, 10, 20, 35, 44, 4, 0, 2, 49, 1, 26, 24, 31, 0, 37, 7, 25, 11, 16, 15, 9, 49, 44, 13, 
        11, 28
    ],
    'Revenue ($mil)': [
        461, 293, 357, 266, 316, 265, 257, 283, 238, 253, 253, 210, 244, 210, 262, 198, 207, 218, 221, 209, 
        192, 197, 204, 196, 197, 186, 159, 187, 178, 181
    ],
    'Operating Income ($mil)': [
        -9.1, -80.9, 25.3, 27.3, 53.3, -20.9, -4.9, 65.2, 1.6, 5.8, 38.4, 5.3, 22.4, -2.7, 7.5, 1.6, 33.0, -14.9,
        30.2, -11.6, -5.8, 13.7, 21.8, -1.9, 6.8, 55.9, -8.0, 27.4, -6.5, 15.3
    ]
}

# Crear el DataFrame
df = pd.DataFrame(data)

# Agregar la columna 'Year' con el valor constante 2014
df['Year'] = 2014

# Mostrar el DataFrame
print(df)


import pandas as pd

# Crear un diccionario con los datos proporcionados
data = {
    'Rank': list(range(1, 31)),
    'Team': [
        "New York Yankees", "Los Angeles Dodgers", "Boston Red Sox", "San Francisco Giants", "Chicago Cubs",
        "St Louis Cardinals", "New York Mets", "Los Angeles Angels of Anaheim", "Washington Nationals", 
        "Philadelphia Phillies", "Texas Rangers", "Atlanta Braves", "Detroit Tigers", "Seattle Mariners", 
        "Baltimore Orioles", "Chicago White Sox", "Pittsburgh Pirates", "Minnesota Twins", "San Diego Padres", 
        "Cincinnati Reds", "Milwaukee Brewers", "Toronto Blue Jays", "Colorado Rockies", "Arizona Diamondbacks", 
        "Cleveland Indians", "Houston Astros", "Oakland Athletics", "Kansas City Royals", "Miami Marlins", 
        "Tampa Bay Rays"
    ],
    'Current Value ($mil)': [
        3200, 2400, 2100, 2000, 1800, 1400, 1350, 1300, 1280, 1250, 1220, 1150, 1125, 1100, 1000, 975, 900, 
        895, 890, 885, 875, 870, 855, 840, 825, 800, 725, 700, 650, 625
    ],
    '1-Yr Value Change (%)': [
        28, 20, 40, 100, 50, 71, 69, 68, 83, 28, 48, 58, 65, 55, 61, 40, 57, 48, 45, 48, 55, 43, 49, 44, 45, 
        51, 46, 43, 30, 29
    ],
    'Debt/Value (%)': [
        0, 17, 0, 4, 24, 21, 26, 0, 27, 8, 13, 0, 15, 0, 15, 5, 10, 25, 22, 6, 6, 0, 7, 17, 6, 34, 8, 8, 34, 22
    ],
    'Revenue ($mil)': [
        508, 403, 370, 387, 302, 294, 263, 304, 287, 265, 266, 267, 254, 250, 245, 227, 229, 223, 224, 227, 
        226, 227, 214, 211, 207, 175, 202, 231, 188, 188
    ],
    'Operating Income ($mil)': [
        8.1, -12.2, 49.2, 68.4, 73.3, 73.6, 25.0, 16.7, 41.4, -39.0, 3.5, 33.2, -20.7, 26.4, 31.4, 31.9, 43.6, 
        21.3, 35.0, 2.2, 11.3, -17.9, 12.6, -2.2, 8.9, 21.6, 20.8, 26.6, 15.4, 7.9
    ]
}

# Crear el DataFrame
df = pd.DataFrame(data)

# Agregar la columna 'Year' con el valor constante 2015
df['Year'] = 2015

# Mostrar el DataFrame
print(df)



import pandas as pd

# Crear un diccionario con los datos proporcionados
data = {
    'Rank': list(range(1, 31)),
    'Team': [
        "New York Yankees", "Los Angeles Dodgers", "Boston Red Sox", "San Francisco Giants", "Chicago Cubs",
        "New York Mets", "St Louis Cardinals", "Los Angeles Angels of Anaheim", "Washington Nationals", 
        "Philadelphia Phillies", "Texas Rangers", "Seattle Mariners", "Atlanta Braves", "Detroit Tigers", 
        "Houston Astros", "Chicago White Sox", "Baltimore Orioles", "Pittsburgh Pirates", "Arizona Diamondbacks", 
        "Minnesota Twins", "Cincinnati Reds", "Toronto Blue Jays", "San Diego Padres", "Milwaukee Brewers", 
        "Kansas City Royals", "Colorado Rockies", "Cleveland Indians", "Oakland Athletics", "Miami Marlins", 
        "Tampa Bay Rays", "New Team"
    ],
    'Current Value ($mil)': [
        3400, 2500, 2300, 2250, 2200, 1650, 1600, 1340, 1300, 1235, 1225, 1200, 1175, 1150, 1100, 1050, 
        1000, 975, 925, 910, 905, 900, 890, 875, 865, 860, 800, 725, 675, 650
    ],
    '1-Yr Value Change (%)': [
        6, 4, 10, 12, 22, 22, 14, 3, 2, -1, 0, 9, 2, 2, 38, 8, 0, 8, 10, 2, 2, 3, 0, 0, 24, 1, -3, 0, 4, 4
    ],
    'Debt/Value (%)': [
        0, 16, 0, 2, 19, 18, 16, 0, 26, 7, 13, 0, 0, 15, 25, 7, 18, 10, 15, 22, 8, 0, 20, 6, 7, 9, 8, 31, 21
    ],
    'Revenue ($mil)': [
        516, 438, 398, 409, 340, 313, 300, 312, 293, 263, 275, 271, 266, 268, 270, 240, 239, 244, 223, 240, 
        237, 241, 244, 234, 273, 227, 220, 208, 199, 193
    ],
    'Operating Income ($mil)': [
        13, -73.2, 43.2, 72.6, 50.8, 46.8, 59.8, 41.7, 22.5, -8.9, -4.7, 16.8, 27.8, 11, 66.6, 20.2, 8.8, 35.3, 
        17.4, 18.5, 9, 1.2, 32.9, 27, 39, 5.5, 18, 32.7, 15.8, 8.2
    ]
}

# Crear el DataFrame
df = pd.DataFrame(data)

# Agregar la columna 'Year' con el valor constante 2016
df['Year'] = 2016

# Mostrar el DataFrame
print(df)


data_2017 = {
    'Rank': list(range(1, 31)),
    'Team': [
        "New York Yankees", "Los Angeles Dodgers", "Boston Red Sox", "Chicago Cubs", "San Francisco Giants",
        "New York Mets", "St Louis Cardinals", "Los Angeles Angels of Anaheim", "Philadelphia Phillies", 
        "Washington Nationals", "Texas Rangers", "Atlanta Braves", "Houston Astros", "Seattle Mariners", 
        "Chicago White Sox", "Toronto Blue Jays", "Pittsburgh Pirates", "Detroit Tigers", "Baltimore Orioles", 
        "Arizona Diamondbacks", "San Diego Padres", "Minnesota Twins", "Colorado Rockies", "Kansas City Royals", 
        "Miami Marlins", "Milwaukee Brewers", "Cleveland Indians", "Cincinnati Reds", "Oakland Athletics", 
        "Tampa Bay Rays"
    ],
    'Current Value ($mil)': [
        3700, 2750, 2700, 2675, 2650, 2000, 1800, 1750, 1650, 1600, 1550, 1500, 1450, 1400, 1350, 1300, 1250, 
        1200, 1175, 1150, 1150, 1125, 1025, 1000, 950, 940, 925, 920, 915, 880, 825
    ],
    '1-Yr Value Change (%)': [
        9, 10, 17, 22, 18, 21, 12, 31, 34, 23, 27, 28, 32, 17, 29, 44, 28, 4, 18, 24, 26, 13, 16, 10, 39, 6, 15, 
        1, 21, 27
    ],
    'Debt/Value (%)': [
        0, 15, 0, 16, 0, 15, 13, 0, 5, 21, 10, 14, 19, 0, 7, 0, 8, 14, 15, 12, 16, 20, 8, 8, 22, 8, 11, 11, 9, 
        17
    ],
    'Revenue ($mil)': [
        526, 462, 434, 434, 428, 332, 310, 350, 325, 304, 298, 275, 299, 289, 269, 278, 265, 275, 253, 253, 
        259, 249, 248, 246, 206, 239, 271, 229, 216, 205
    ],
    'Operating Income ($mil)': [
        39, -20.5, 78.6, 83.8, 78.1, 31.7, 40.5, 68.1, 87.7, 37.6, 18.6, 15.2, 75.9, 11.6, 41.9, 22.9, 51, -36.4, 
        -2.1, 47.2, 22.8, 29.9, 26.6, -0.9, -2.2, 58.2, 46.9, 15.9, 25.5, 32.1
    ],
    'Year': [2017] * 30
}

df_2017 = pd.DataFrame(data_2017)
print(df_2017)

