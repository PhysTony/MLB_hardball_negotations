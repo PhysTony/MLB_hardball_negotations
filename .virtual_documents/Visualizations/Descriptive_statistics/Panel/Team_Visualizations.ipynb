


import pandas as pd
import numpy as np
import math
import os
import warnings
import statsmodels.api as sm
from matplotlib.colors import ListedColormap
import matplotlib.pyplot as plt
from matplotlib import rc, rcParams
from matplotlib import ticker
from matplotlib import cm
import matplotlib.gridspec as gridspec
import seaborn as sns
import plotly
from termcolor import colored
print('Modulos importados')


# Configuraciones
warnings.filterwarnings('ignore')


# Directorio de trabajo
print("Directorio de trabajo previo: " + str(os.getcwd()))
# Cambiemoslo
os.chdir('C:/Users/metal/Documents/Github/MLB_hardball_negotations/')


# Veamos el directorio actual de trabajo
print(os.getcwd())
# El directorio anterior es el correcto, pero si no lo fuese, hacemos lo sigueinte:
path = "C:/Users/metal/Documents/Github/MLB_hardball_negotations"
print("Nuevo directorio de trabajo: " + str(os.chdir(path)))





import_path = 'ETL_Data/Panel/General/Teams/teams_panel.csv'
export_path = 'ETL_Data/Panel/General/Teams/'


general_panel = pd.read_csv(import_path)
print("Las dimensiones del panel son: " + str(general_panel.shape))
general_panel.head()


column_names = ['Victorias', 'Playoffs', 'Pennants won', 'WS ganadas', 
                'Rango', 'Valor_Corriente', '1An_Cambio_Valor%', 'Valor%',
                'Ingresos_Operando']
ylabel_names = ['Victorias', 'Playoffs', 'Pennants ganados', 'Mundiales ganados', 
                'Rango', 'Valor Corriente [BDD]', 'Cambio de Valor Anual%', 'Valor%',
                'Ingresos Operando [MDD]']


for index,name in zip(range(0,len(column_names)),column_names):
    plt.figure(figsize=(12, 8))
    plt.scatter(general_panel[name], general_panel['Ingresos_equipo'],
                color="#005A9C", s=70, alpha=0.5)
    #plt.title("Ingresos del equipo vs " + str(name), fontsize=20, fontweight='bold', color='black')
    plt.xlabel('Ingresos del equipo [MDD]', fontsize=16, color='black', fontweight='bold')
    plt.ylabel(ylabel_names[index], fontsize=16, color='black', fontweight='bold')
    plt.xticks(fontsize=12, color='black')
    plt.yticks(fontsize=12, color='black')
    plt.grid(False)  # Desactivar la 
    plt.savefig(export_path + 'team_scatter_' + name + '.png')
    plt.show()


import matplotlib.pyplot as plt

# Calcular el coeficiente de correlación de Pearson para cada variable con "Ingresos_equipo"
pearson_coeffs = {}
for name in column_names:
    pearson_coeffs[name] = general_panel[name].corr(general_panel['Ingresos_equipo'])

# Graficar los coeficientes en un histograma
plt.figure(figsize=(12, 8))
plt.bar(pearson_coeffs.keys(), pearson_coeffs.values(), color='magenta')
plt.title("Coeficiente de Correlación de Pearson para cada Variable", fontsize=20, fontweight='bold', color='black')
plt.xlabel('Variable', fontsize=16, color='black', fontweight='bold')
plt.ylabel('Coeficiente de Correlación de Pearson', fontsize=16, color='black', fontweight='bold')
plt.xticks(rotation=45, ha='right', fontsize=12, color='black')
plt.yticks(fontsize=12, color='black')
plt.grid(False)  # Desactivar la cuadrícula
plt.tight_layout()
plt.show()

# Imprimir los coeficientes y sus respectivas variables
for name, coeff in pearson_coeffs.items():
    print(f"Coeficiente de Pearson para '{name}': {coeff}")



import numpy as np

# Crear una copia del DataFrame para evitar modificar el original
general_panel_log = general_panel.copy()

# Eliminar filas que contienen ceros numéricos en las variables que no son "Ingresos_equipo"
for name in column_names:
    if name != "Ingresos_equipo":
        general_panel_log = general_panel_log[general_panel_log[name] != 0]

# Aplicar np.log a las variables que no son "Ingresos_equipo"
for name in column_names:
    if name != "Ingresos_equipo":
        general_panel_log[name] = np.log(general_panel_log[name])

# Graficar las variables transformadas
for name in column_names:
    plt.figure(figsize=(12, 8))
    plt.scatter(general_panel_log[name], general_panel_log['Ingresos_equipo'], color="magenta", s=50)
    plt.title("Ingresos del equipo vs " + str(name), fontsize=20, fontweight='bold', color='black')
    plt.xlabel('Ingresos del equipo [MDD]', fontsize=16, color='black', fontweight='bold')
    plt.ylabel(f"Log({name})", fontsize=16, color='black', fontweight='bold')
    plt.xticks(fontsize=12, color='black')
    plt.yticks(fontsize=12, color='black')
    plt.grid(False)  # Desactivar la cuadrícula
    plt.show()
