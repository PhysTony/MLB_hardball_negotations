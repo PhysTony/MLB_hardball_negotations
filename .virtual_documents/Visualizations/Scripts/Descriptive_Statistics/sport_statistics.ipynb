


import pandas as pd
import numpy as np
import math
import plotly.express as px
import plotly.graph_objects as go
import matplotlib as mpl
import matplotlib.pyplot as plt
from matplotlib import rc, rcParams
from matplotlib import ticker
from matplotlib import cm
import matplotlib.gridspec as gridspec
from matplotlib import rcParams
import seaborn as sns
import plotly
import warnings
import os
from sklearn.impute import SimpleImputer
from sklearn.datasets import make_blobs
from sklearn.model_selection import train_test_split
from sklearn import metrics
from sklearn.preprocessing import StandardScaler
from sklearn.linear_model import LinearRegression
from sklearn.preprocessing import LabelEncoder, OneHotEncoder
from sklearn.compose import ColumnTransformer
from sklearn.neighbors import KNeighborsClassifier
from sklearn.model_selection import cross_val_score
from sklearn.metrics import confusion_matrix
from matplotlib.colors import ListedColormap
from sklearn.cluster import KMeans
from sklearn.ensemble import RandomForestClassifier
from sklearn.ensemble import GradientBoostingClassifier
from sklearn.model_selection import cross_val_score
print('Modulos importados')


# Configuraciones
warnings.filterwarnings('ignore')
# Reduzcamos el número de línea a leer
pd.options.display.max_rows = 5


# Directorio de trabajo
print("Directorio de trabajo previo: " + str(os.getcwd()))
# Cambiemoslo
os.chdir('/home/usuario/Documentos/Github/Proyectos/MLB_HN/')


# Veamos el directorio actual de trabajo
print(os.getcwd())
# El directorio anterior es el correcto, pero si no lo fuese, hacemos lo sigueinte:
path = '/home/usuario/Documentos/Github/Proyectos/MLB_HN'
print("Nuevo directorio de trabajo: " + str(os.chdir(path)))





panel_hitter_path = 'ETL_Data/Cumulative/Panel/Hitter/visual_panel' + '.csv'
panel_pitcher_path = 'ETL_Data/Cumulative/Panel/Pitcher/visual_panel' + '.csv'


df_panel_hitter = pd.read_csv(panel_hitter_path)
df_panel_pitcher = pd.read_csv(panel_pitcher_path)





df_panel_hitter.head()


df_panel_hitter.info()


df_panel_pitcher.head()


df_panel_pitcher.info()





hitter_statistics = ['at-bats', 'bateos_promedio', 'dobles',
                     'home-runs', 'porcentaje_on-base-plus-slugging',
                     'porcentaje_juegos', 'porcentaje_juegos_iniciados',
                     'porcentaje_on-base', 'porcentaje_slugging', 'runs-batted-in',
                     'triples', 'war']
pitcher_statistics = ['bateos', 'carreras', 'carreras_ganadas',
                      'comando', 'control', 'dominio', 'era', 'inning_pitched',
                      'porcentaje_juegos', 'juegos_iniciados', 'losses', 'saves',
                      'strike-outs', 'war', 'whip', 'walks', 'wins']


hitter_labels = ['Al bate', 'Bateos promedio', 'Dobles',
                 'Home-runs', '%On-base-plus-slugging',
                 '%Partidos jugados', '%Juegos iniciados',
                 '%Embasado', '%Slugging', 'Carreras limpias',
                 'Triples', 'WAR']
pitcher_labels = ['Bateos permitidos', 'Carreras permitidas', 'Carreras ganadas',
                  'Comando', 'Control', 'Dominio', '%Carreras ganadas', 'Inning pitched',
                  'Partidos jugados', 'Juegos iniciados', 'Losses', 'Salvamentos',
                  'Strike-outs', 'WAR', 'WHIP', 'Bases por bola permitidas', 'Wins']


hitter_labels_save = ['At-bats', 'Bateos promedio', 'Dobles',
                      'Home-runs', 'pOn-base-plus-slugging',
                      'pPartidos jugados', 'pJuegos iniciados',
                      'pOn-base', 'pSlugging', 'Runs-batted-in',
                      'Triples', 'WAR']
pitcher_labels_save = ['Bateos en contra', 'Carreras en contra', 'Carreras ganadas',
                       'Comando', 'Control', 'Dominio', 'ERA', 'Inning pitched',
                       'Partidos jugados', 'Juegos iniciados', 'Losses', 'Saves',
                       'Strike-outs', 'WAR', 'WHIP', 'Walks', 'Wins']





hitter_positions = [0.1, -0.3, 0.2, 0.4, -0.4,
                    0.05, 0.08, -0.25, -0.5, 0.2,
                    1, -0.4]
hitter_positions_adjustment = [0, 0, 0, 0, 0,
                               0, 0, 0, 0, 0,
                               0.2, 0]
pitcher_positions = [0.1, 0.1, 0.1, 0.5, -3,
                    0.23, -2.5, 0.1, 0.1, 2,
                    0.05, 0.08, 0.1, -0.48, -1.73,
                    0.1, 0.2]
pitcher_positions_adjustment = [0, 0, 0, 50, 2,
                                0.01, -3, 0, 0, 0,
                                0, -1, 0, 0, 0,
                                0, 0]


# Estilos para los boxplots usando los kwargs para guardar los estilos de los distintos parámetros que componen el gráfico
kws_1 = {'boxprops':{'facecolor':(239/255,173/255,1/255,0.5),
                     'edgecolor':'black',
                     'linestyle':'solid',
                     'linewidth':3},
         'medianprops':{'color':'red',
                        'linewidth':3},
         'whiskerprops':{'color':'black'},
         'flierprops' :{'marker':'o',
                        'markerfacecolor':'#efad01',
                        'markersize':15,
                        'linewidth':5,
                        'markeredgecolor':'red'},
         'capprops':{'color':'black'}}


for i in range(0,len(hitter_statistics)):
    sns.set_style('white')
    fig,axes = plt.subplots(figsize = (13,9))

    g_1 = sns.boxplot(x = 'agente_libre',
                      y = hitter_statistics[i],
                      data = df_panel_hitter, 
                      notch = True, 
                      **kws_1)
    g_1.set_title(hitter_labels[i] + '\n',
                  fontsize = 35,
                  fontweight = 'bold',
                  color = 'black')
    g_1.set_ylabel(hitter_labels[i],
                   fontsize = 26,
                   fontweight = 'bold',
                   color = 'black')
    g_1.set_xlabel('Agentes libres',
                   fontsize = 18,
                   fontweight = 'bold',
                   color = 'black')  
    g_1.tick_params(labelsize = 30,
                    labelcolor = 'black')
    g_1.set(xlabel = None)
    g_1.set(ylabel = None)
    """g_1.grid(color = 'navy',
             linestyle = '-',
             alpha = 0.4)"""

    mybox = g_1.artists[1]

    # Change the appearance of that box
    mybox.set_facecolor((0/255,64/255,196/255,0.5))

    medians = df_panel_hitter.groupby(['agente_libre'])[hitter_statistics[i]].median()
    medians[0] = round(medians[0], 3)
    medians[1] = round(medians[1], 3)
    vertical_offset = df_panel_hitter[hitter_statistics[i]].median()

    for xtick in g_1.get_xticks():
        g_1.text(xtick,
                 medians[xtick] + vertical_offset*hitter_positions[i]
                 + hitter_positions_adjustment[i],
                 medians[xtick], 
                 horizontalalignment = 'center',
                 size = 28,
                 color = 'black',
                 weight = 'bold')
    g_1.patch.set_facecolor('white')
    
    plt.savefig(path + "/Visualizations/Descriptive_statistics/Hitters/Boxplot/Cumulative/boxplot_hitter_" + str(hitter_labels_save[i]).lower() + ".pdf",
                format = "pdf")


for i in range(0,len(pitcher_statistics)):
    sns.set_style('white')
    fig,axes = plt.subplots(figsize = (13,9))

    g_1 = sns.boxplot(x = 'agente_libre',
                      y = pitcher_statistics[i],
                      data = df_panel_pitcher, 
                      notch = True, 
                      **kws_1)
    g_1.set_title(pitcher_labels[i] + '\n',
                  fontsize = 35,
                  fontweight = 'bold',
                  color = 'black')
    g_1.set_ylabel(pitcher_labels[i],
                   fontsize = 26,
                   fontweight = 'bold',
                   color = 'black')
    g_1.set_xlabel('Agentes libres',
                   fontsize = 19,
                   fontweight = 'bold',
                   color = 'black')  
    g_1.tick_params(labelsize = 30,
                    labelcolor = 'black')
    g_1.set(xlabel = None)
    g_1.set(ylabel = None)
    """g_1.grid(color = 'navy',
             linestyle = '-',
             alpha = 0.8)"""

    mybox = g_1.artists[1]

    # Change the appearance of that box
    mybox.set_facecolor((0/255,64/255,196/255,0.5))

    medians = df_panel_pitcher.groupby(['agente_libre'])[pitcher_statistics[i]].median()
    medians[0] = round(medians[0], 3)
    medians[1] = round(medians[1], 3)
    vertical_offset = df_panel_pitcher[pitcher_statistics[i]].median()

    for xtick in g_1.get_xticks():
        g_1.text(xtick,
                 medians[xtick] + vertical_offset*pitcher_positions[i] + pitcher_positions_adjustment[i],
                 medians[xtick], 
                 horizontalalignment = 'center',
                 size = 28,
                 color = 'black',
                 weight = 'bold')
    g_1.patch.set_facecolor('white')
    
    plt.savefig(path + "/Visualizations/Descriptive_statistics/Pitchers/Boxplot/Cumulative/boxplot_pitcher_" + str(pitcher_labels_save[i]).lower() + ".pdf",
                format = "pdf")


sns.set_style('white')
fig,axes = plt.subplots(figsize = (13,9))

g_1 = sns.boxplot(x = 'agente_libre',
                  y = 'ln_sueldo_ajustado',
                  data = df_panel_pitcher, 
                  notch = True, 
                  **kws_1)
g_1.set_title('ln(Sueldo ajustado)' + '\n',
              fontsize = 35,
              fontweight = 'bold',
              color = 'black')
g_1.set_ylabel('ln(Sueldo ajustado)',
               fontsize = 26,
               fontweight = 'bold',
               color = 'black')
g_1.set_xlabel('Agentes libres',
               fontsize = 19,
               fontweight = 'bold',
               color = 'black')
g_1.tick_params(labelsize = 28,
                labelcolor = 'black')
g_1.set(xlabel = None)
g_1.set(ylabel = None)
"""g_1.grid(color = 'navy',
         linestyle = '-',
         alpha = 0.4)"""

# Cambiar color del segundo boxplot
mybox = g_1.artists[1]
mybox.set_facecolor((0/255,64/255,196/255,0.5))

medians = df_panel_pitcher.groupby(['agente_libre'])['ln_sueldo_ajustado'].median()
medians[0] = round(medians[0], 3)
medians[1] = round(medians[1], 3)
vertical_offset = df_panel_pitcher['ln_sueldo_ajustado'].median()

for xtick in g_1.get_xticks():
    g_1.text(xtick,
             medians[xtick] + vertical_offset*0.011,
             medians[xtick], 
             horizontalalignment = 'center',
             size = 28,
             color = 'black',
             weight = 'bold')
g_1.patch.set_facecolor('white')

plt.savefig(path + "/Visualizations/Descriptive_statistics/Hitters/Boxplot/boxplot_hitter_ln_salario_ajustado.pdf",
            format = "pdf")


sns.set_style('white')
fig,axes = plt.subplots(figsize = (13,9))

g_1 = sns.boxplot(x = 'agente_libre',
                  y = 'ln_sueldo_regular',
                  data = df_panel_pitcher, 
                  notch = True, 
                  **kws_1)
g_1.set_title('ln(Sueldo regular)' + '\n',
              fontsize = 35,
              fontweight = 'bold',
              color = 'black')
g_1.set_ylabel('ln(Sueldo regular)',
               fontsize = 26,
               fontweight = 'bold',
               color = 'black')
g_1.set_xlabel('Agentes libres',
               fontsize = 19,
               fontweight = 'bold',
               color = 'black')
g_1.tick_params(labelsize = 28,
                labelcolor = 'black')
g_1.set(xlabel = None)
g_1.set(ylabel = None)
"""g_1.grid(color = 'navy',
         linestyle = '-',
         alpha = 0.4)"""

# Cambiar color del segundo boxplot
mybox = g_1.artists[1]
mybox.set_facecolor((0/255,64/255,196/255,0.5))

medians = df_panel_pitcher.groupby(['agente_libre'])['ln_sueldo_regular'].median()
medians[0] = round(medians[0], 3)
medians[1] = round(medians[1], 3)
vertical_offset = df_panel_pitcher['ln_sueldo_regular'].median()

for xtick in g_1.get_xticks():
    g_1.text(xtick,
             medians[xtick] + vertical_offset*0.011,
             medians[xtick], 
             horizontalalignment = 'center',
             size = 28,
             color = 'black',
             weight = 'bold')
g_1.patch.set_facecolor('white')

plt.savefig(path + "/Visualizations/Descriptive_statistics/Hitters/Boxplot/boxplot_hitter_ln_salario_regular.pdf",
            format = "pdf")


sns.set_style('white')
fig,axes = plt.subplots(figsize = (13,9))

g_1 = sns.boxplot(x = 'agente_libre',
                  y = 'ln_sueldo_ajustado',
                  data = df_panel_hitter, 
                  notch = True, 
                  **kws_1)
g_1.set_title('ln(Sueldo ajustado)' + '\n',
              fontsize = 35,
              fontweight = 'bold',
              color = 'black')
g_1.set_ylabel('ln(Sueldo ajustado)',
               fontsize = 26,
               fontweight = 'bold',
               color = 'black')
g_1.set_xlabel('Agentes libres',
               fontsize = 19,
               fontweight = 'bold',
               color = 'black')  
g_1.tick_params(labelsize = 28,
                labelcolor = 'black')
g_1.set(xlabel = None)
g_1.set(ylabel = None)
"""g_1.grid(color = 'navy',
         linestyle = '-',
         alpha = 0.4)"""

# Cambiar color del segundo boxplot
mybox = g_1.artists[1]
mybox.set_facecolor((0/255,64/255,196/255,0.5))

medians = df_panel_hitter.groupby(['agente_libre'])['ln_sueldo_ajustado'].median()
medians[0] = round(medians[0], 3)
medians[1] = round(medians[1], 3)
vertical_offset = df_panel_hitter['ln_sueldo_ajustado'].median()

for xtick in g_1.get_xticks():
    g_1.text(xtick,
             medians[xtick] + vertical_offset*0.015,
             medians[xtick], 
             horizontalalignment = 'center',
             size = 28,
             color = 'black',
             weight = 'bold')
g_1.patch.set_facecolor('white')
plt.savefig(path + "/Visualizations/Descriptive_statistics/Pitchers/Boxplot/boxplot_pitcher_ln_salario_ajustado.pdf",
            format = "pdf")


sns.set_style('white')
fig,axes = plt.subplots(figsize = (13,9))

g_1 = sns.boxplot(x = 'agente_libre',
                  y = 'ln_sueldo_regular',
                  data = df_panel_hitter, 
                  notch = True, 
                  **kws_1)
g_1.set_title('ln(Sueldo regular)' + '\n',
              fontsize = 35,
              fontweight = 'bold',
              color = 'black')
g_1.set_ylabel('ln(Sueldo regular)',
               fontsize = 26,
               fontweight = 'bold',
               color = 'black')
g_1.set_xlabel('Agentes libres',
               fontsize = 19,
               fontweight = 'bold',
               color = 'black')  
g_1.tick_params(labelsize = 28,
                labelcolor = 'black')
g_1.set(xlabel = None)
g_1.set(ylabel = None)
"""g_1.grid(color = 'navy',
         linestyle = '-',
         alpha = 0.4)"""

# Cambiar color del segundo boxplot
mybox = g_1.artists[1]
mybox.set_facecolor((0/255,64/255,196/255,0.5))

medians = df_panel_hitter.groupby(['agente_libre'])['ln_sueldo_regular'].median()
medians[0] = round(medians[0], 3)
medians[1] = round(medians[1], 3)
vertical_offset = df_panel_hitter['ln_sueldo_regular'].median()

for xtick in g_1.get_xticks():
    g_1.text(xtick,
             medians[xtick] + vertical_offset*0.015,
             medians[xtick], 
             horizontalalignment = 'center',
             size = 28,
             color = 'black',
             weight = 'bold')
g_1.patch.set_facecolor('white')
plt.savefig(path + "/Visualizations/Descriptive_statistics/Pitchers/Boxplot/boxplot_pitcher_ln_sueldo_regular.pdf",
            format = "pdf")





general_data = ['altura',
                'anios_de_contrato',
                'antiguedad',
                'bono_por_firma',
                'edad',
                'peso']
labels_gen = ['Altura[ft]',
              'Años de contrato',
              'Antigüedad',
              'Bono por firma[10G$]',
              'Edad',
              'Peso[lbs]']
labels_gen_save = ['Altura',
                   'Anios de contrato',
                   'Antiguedad',
                   'Bono por firma',
                   'Edad',
                   'Peso']


gen_positions = [0.004, 0.1, -0.7, 0, 0.01,
                 0.01, 0.01]
gen_positions_adjustments = [0, 0, 0, -3, 0,
                             0, 0]


for i in range(0,len(general_data)):
    sns.set_style('white')
    fig,axes = plt.subplots(figsize = (13,9))

    g_2 = sns.boxplot(x = 'agente_libre',
                      y = general_data[i],
                      data = df_panel_hitter, 
                      notch = True, 
                      **kws_1)
    g_2.set_title(labels_gen[i] + '\n',
                  fontsize = 35,
                  fontweight = 'bold',
                  color = 'black')
    g_2.set_ylabel(labels_gen[i],
                   fontsize = 26,
                   fontweight = 'bold',
                   color = 'black')
    g_2.set_xlabel('agentes libres',
                   fontsize = 18,
                   fontweight = 'bold',
                   color = 'black')  
    g_2.tick_params(labelsize = 30,
                    labelcolor = 'black')
    g_2.set(xlabel = None)
    g_2.set(ylabel = None)
    """g_2.grid(color = 'navy',
             linestyle = '-',
             alpha = 0.4)"""

    mybox = g_2.artists[1]

    # Change the appearance of that box
    mybox.set_facecolor((0/255,64/255,196/255,0.5))

    medians = df_panel_hitter.groupby(['agente_libre'])[general_data[i]].median()
    medians[0] = round(medians[0], 3)
    medians[1] = round(medians[1], 3)
    vertical_offset = df_panel_hitter[general_data[i]].median()

    for xtick in g_2.get_xticks():
        g_2.text(xtick,
                 medians[xtick] + vertical_offset*gen_positions[i]
                 + gen_positions_adjustments[i],
                 medians[xtick], 
                 horizontalalignment = 'center',
                 size = 28,
                 color = 'black',
                 weight = 'bold')
    g_1.patch.set_facecolor('white')
    
    plt.savefig(path + "/Visualizations/Descriptive_statistics/Hitters/Boxplot/boxplot_hitter_" + str(labels_gen_save[i]).lower() + ".pdf",
                format = "pdf")


for i in range(0,len(general_data)):
    sns.set_style('white')
    fig,axes = plt.subplots(figsize = (13,9))

    g_2 = sns.boxplot(x = 'agente_libre',
                      y = general_data[i],
                      data = df_panel_pitcher, 
                      notch = True, 
                      **kws_1)
    g_2.set_title(labels_gen[i] + '\n',
                  fontsize = 35,
                  fontweight = 'bold',
                  color = 'black')
    g_2.set_ylabel(labels_gen[i],
                   fontsize = 26,
                   fontweight = 'bold',
                   color = 'black')
    g_2.set_xlabel('Agentes libres',
                   fontsize = 18,
                   fontweight = 'bold',
                   color = 'black')  
    g_2.tick_params(labelsize = 30,
                    labelcolor = 'black')
    g_2.set(xlabel = None)
    g_2.set(ylabel = None)
    """g_2.grid(color = 'navy',
             linestyle = '-',Mi aprendizaje
             alpha = 0.4)"""

    mybox = g_2.artists[1]

    # Change the appearance of that box
    mybox.set_facecolor((0/255,64/255,196/255,0.5))

    medians = df_panel_pitcher.groupby(['agente_libre'])[general_data[i]].median()
    medians[0] = round(medians[0], 3)
    medians[1] = round(medians[1], 3)
    vertical_offset = df_panel_pitcher[general_data[i]].median()

    for xtick in g_2.get_xticks():
        g_2.text(xtick,
                 medians[xtick] + vertical_offset*gen_positions[i]
                 + gen_positions_adjustments[i],
                 medians[xtick], 
                 horizontalalignment = 'center',
                 size = 28,
                 color = 'black',
                 weight = 'bold')
    g_1.patch.set_facecolor('white')
    
    plt.savefig(path + "/Visualizations/Descriptive_statistics/Pitchers/Boxplot/boxplot_pitcher_" + str(labels_gen_save[i]).lower() + ".pdf",
                format = "pdf")





temporadas = [str(year) for year in range(2012,2023)]


mean_panel_hitter = df_panel_hitter.groupby(['agente_libre','anio']).mean()
mean_panel_hitter.reset_index(inplace = True)
mean_panel_pitcher = df_panel_pitcher.groupby(['agente_libre','anio']).mean()
mean_panel_pitcher.reset_index(inplace = True)


mean_panel_hitter[mean_panel_hitter['anio'] >= 2018].head()


for i in range(0,len(hitter_statistics)):
    sns.set_style('white')
    fig,axes = plt.subplots(figsize = (22,9))
    
    # Bases de datos
    mean_hitter_fa = mean_panel_hitter[(mean_panel_hitter['agente_libre'] == 'Si') & (mean_panel_hitter['anio'] > 2011)][hitter_statistics[i]]
    mean_hitter_no = mean_panel_hitter[(mean_panel_hitter['agente_libre'] == 'No') & (mean_panel_hitter['anio'] > 2011)][hitter_statistics[i]]
    # Máximos
    max_hitter = mean_panel_hitter[hitter_statistics[i]].max()
    # Mínimos
    min_hitter = mean_panel_hitter[hitter_statistics[i]].min()
    # Bases normalizadas
    normalized_fa = (mean_hitter_fa - min_hitter)/(max_hitter - min_hitter)
    normalized_no = (mean_hitter_no - min_hitter)/(max_hitter - min_hitter)
    
    axes.plot(temporadas,
              normalized_fa,
              color = (0/255,64/255,196/255,0.85),
              markerfacecolor = (205/255,114/255,220/255,0.6),
              marker = 'o',
              markersize = 10,
              markeredgecolor = 'red',
              markeredgewidth = 2,
              linewidth = 5,
              label = 'Agente libre')
    axes.plot(temporadas,
              normalized_no,
              color = (239/255,173/255,1/255,0.85),
              markerfacecolor = (205/255,114/255,220/255,0.6),
              marker = 'D',
              markersize = 10,
              markeredgecolor = 'red',
              markeredgewidth = 2,
              linewidth = 5,
              label = 'No-agente libre')
    axes.set_title(hitter_labels[i] + '\n',
                   fontsize = 35,
                   fontweight = 'bold',
                   color = 'black')
    axes.set_xlabel('Temporadas',
                    fontsize = 16,
                    color = 'black',
                    fontweight = 'bold')
    axes.set_ylabel(hitter_labels[i], 
                    fontsize = 26,
                    color = 'black',
                    fontweight = 'bold')
    axes.tick_params(labelsize = 30,
                     labelcolor = 'black')
    axes.tick_params(axis = 'x',
                     labelrotation = 90)
    legend = plt.legend(loc = 'best', 
                    labelcolor = 'black', 
                    fontsize = 30,
                    facecolor = 'white',
                    framealpha = 0.3,
                    fancybox = True,
                    frameon = True)
    axes.set(xlabel = None)
    axes.set(ylabel = None)
    axes.patch.set_facecolor('white')
    
    plt.savefig(path + "/Visualizations/Descriptive_statistics/Hitters/Line_plot/Cumulative/plot_hitter_" + str(hitter_labels_save[i]).lower() + ".pdf",
                format = "pdf")


for i in range(0,len(pitcher_statistics)):
    sns.set_style('white')
    fig,axes = plt.subplots(figsize = (22,9))
    
    # Bases de datos
    mean_pitcher_fa = mean_panel_pitcher[(mean_panel_pitcher['agente_libre'] == 'Si') & (mean_panel_pitcher['anio'] > 2011)][pitcher_statistics[i]]
    mean_pitcher_no = mean_panel_pitcher[(mean_panel_pitcher['agente_libre'] == 'No') & (mean_panel_pitcher['anio'] > 2011)][pitcher_statistics[i]]
    # Máximos
    max_pitcher = mean_panel_pitcher[pitcher_statistics[i]].max()
    # Mínimos
    min_pitcher = mean_panel_pitcher[pitcher_statistics[i]].min()
    # Bases normalizadas
    normalized_fa = (mean_pitcher_fa - min_pitcher)/(max_pitcher - min_pitcher)
    normalized_no = (mean_pitcher_no - min_pitcher)/(max_pitcher - min_pitcher)
    
    axes.plot(temporadas,
              normalized_fa,
              color = (0/255,64/255,196/255,0.85),
              markerfacecolor = (205/255,114/255,220/255,0.6),
              marker = 'o',
              markersize = 10,
              markeredgecolor = 'red',
              markeredgewidth = 2,
              linewidth = 5,
              label = 'Agente libre')
    axes.plot(temporadas,
              normalized_no,
              color = (239/255,173/255,1/255,0.85),
              markerfacecolor = (205/255,114/255,220/255,0.6),
              marker = 'D',
              markersize = 10,
              markeredgecolor = 'red',
              markeredgewidth = 2,
              linewidth = 5,
              label = 'No-agente libre')
    axes.set_title(pitcher_labels[i] + '\n',
                   fontsize = 35,
                   fontweight = 'bold',
                   color = 'black')
    axes.set_xlabel('Temporadas',
                    fontsize = 16,
                    color = 'black',
                    fontweight = 'bold')
    axes.set_ylabel(pitcher_labels[i], 
                    fontsize = 26,
                    color = 'black',
                    fontweight = 'bold')
    axes.tick_params(labelsize = 30,
                     labelcolor = 'black')
    axes.tick_params(axis = 'x',
                     labelrotation = 90)
    legend = plt.legend(loc = 'best', 
                    labelcolor = 'black',
                    fontsize = 30,
                    facecolor = 'white',
                    framealpha = 0.3,
                    fancybox = True,
                    frameon = True)
    axes.set(xlabel = None)
    axes.set(ylabel = None)
    axes.patch.set_facecolor('white')
    
    plt.savefig(path + "/Visualizations/Descriptive_statistics/Pitchers/Line_plot/Cumulative/plot_pitcher_" + str(pitcher_labels_save[i]).lower() + ".pdf",
                format = "pdf")


sns.set_style('white')
fig,axes = plt.subplots(figsize = (22,9)) 
# Bases de datos
mean_hitter_fa = mean_panel_hitter[(mean_panel_hitter['agente_libre'] == 'Si') & (mean_panel_hitter['anio'] > 2011)]['ln_sueldo_ajustado']
mean_hitter_no = mean_panel_hitter[(mean_panel_hitter['agente_libre'] == 'No') & (mean_panel_hitter['anio'] > 2011)]['ln_sueldo_ajustado']
# Máximos
max_hitter = mean_panel_hitter['ln_sueldo_ajustado'].max()
# Mínimos
min_hitter = mean_panel_hitter['ln_sueldo_ajustado'].min()
# Bases normalizadas
normalized_fa = (mean_hitter_fa - min_hitter)/(max_hitter - min_hitter)
normalized_no = (mean_hitter_no - min_hitter)/(max_hitter - min_hitter)

axes.plot(temporadas,
          normalized_fa,
          color = (0/255,64/255,196/255,0.85),
          markerfacecolor = (205/255,114/255,220/255,0.6),
          marker = 'o',
          markersize = 10,
          markeredgecolor = 'red',
          markeredgewidth = 2,
          linewidth = 5,
          label = 'Agente libre')
axes.plot(temporadas,
          normalized_no,
          color = (239/255,173/255,1/255,0.85),
          markerfacecolor = (205/255,114/255,220/255,0.6),
          marker = 'D',
          markersize = 10,
          markeredgecolor = 'red',
          markeredgewidth = 2,
          linewidth = 5,
          label = 'No-agente libre')
axes.set_title('ln(Sueldo ajustado)' + '\n',
               fontsize = 35,
               fontweight = 'bold',
               color = 'black')
axes.set_xlabel('Temporadas',
                fontsize = 16,
                color = 'black',
                fontweight = 'bold')
axes.set_ylabel('ln(Sueldo ajustado)', 
                fontsize = 26,
                color = 'black',
                fontweight = 'bold')
axes.tick_params(labelsize = 30,
                 labelcolor = 'black')
axes.tick_params(axis = 'x',
                 labelrotation = 90)
legend = plt.legend(loc = 'upper left', 
                labelcolor = 'black',
                fontsize = 30,
                facecolor = 'white',
                framealpha = 0.3,
                fancybox = True,
                frameon = True)
axes.set(xlabel = None)
axes.set(ylabel = None)
axes.patch.set_facecolor('white')

plt.savefig(path + "/Visualizations/Descriptive_statistics/Hitters/Line_plot/plot_hitter_ln_sueldo_regular.pdf",
            format = "pdf")


sns.set_style('white')
fig,axes = plt.subplots(figsize = (22,9))
# Bases de datos
mean_pitcher_fa = mean_panel_pitcher[(mean_panel_pitcher['agente_libre'] == 'Si') & (mean_panel_pitcher['anio'] > 2011)]['ln_sueldo_ajustado']
mean_pitcher_no = mean_panel_pitcher[(mean_panel_pitcher['agente_libre'] == 'No') & (mean_panel_pitcher['anio'] > 2011)]['ln_sueldo_ajustado']
# Máximos
max_pitcher = mean_panel_pitcher['ln_sueldo_ajustado'].max()
# Mínimos
min_pitcher = mean_panel_pitcher['ln_sueldo_ajustado'].min()
# Bases normalizadas
normalized_fa = (mean_pitcher_fa - min_pitcher)/(max_pitcher - min_pitcher)
normalized_no = (mean_pitcher_no - min_pitcher)/(max_pitcher - min_pitcher)

axes.plot(temporadas,
          normalized_fa,
          color = (0/255,64/255,196/255,0.85),
          markerfacecolor = (205/255,114/255,220/255,0.6),
          marker = 'o',
          markersize = 10,
          markeredgecolor = 'red',
          markeredgewidth = 2,
          linewidth = 5,
          label = 'Agente libre')
axes.plot(temporadas,
          normalized_no,
          color = (239/255,173/255,1/255,0.85),
          markerfacecolor = (205/255,114/255,220/255,0.6),
          marker = 'D',
          markersize = 10,
          markeredgecolor = 'red',
          markeredgewidth = 2,
          linewidth = 5,
          label = 'No-agente libre')
axes.set_title('ln(Sueldo ajustado)' + '\n',
               fontsize = 35,
               fontweight = 'bold',
               color = 'black')
axes.set_xlabel('Temporadas',
                fontsize = 16,
                color = 'black',
                fontweight = 'bold')
axes.set_ylabel('ln(Sueldo ajustado)', 
                fontsize = 26,
                color = 'black',
                fontweight = 'bold')
axes.tick_params(labelsize = 26,
                 labelcolor = 'black')
axes.tick_params(axis = 'x',
                 labelrotation = 90)
legend = plt.legend(loc = 'upper left', 
                labelcolor = 'black',
                fontsize = 26,
                facecolor = 'white',
                framealpha = 0.3,
                fancybox = True,
                frameon = True)
axes.set(xlabel = None)
axes.set(ylabel = None)
axes.patch.set_facecolor('white')

plt.savefig(path + "/Visualizations/Descriptive_statistics/Pitchers/Line_plot/plot_pitcher_ln_sueldo_regular.pdf",
            format = "pdf")








# Agentes libres
fa_pitcher_binwidth = [0]*len(pitcher_statistics)
fa_hitter_binwidth = [0]*len(hitter_statistics)
# Mo agentes libres
no_pitcher_binwidth = [0]*len(pitcher_statistics)
no_hitter_binwidth = [0]*len(hitter_statistics)

# Pitchers dataframes
fa_pitcher = mean_panel_pitcher[mean_panel_pitcher['agente_libre'] == 'Si']
no_pitcher = mean_panel_pitcher[mean_panel_pitcher['agente_libre'] == 'No']
# Filtered dataframes
fa_hitter = mean_panel_hitter[mean_panel_hitter['agente_libre'] == 'Si']
no_hitter = mean_panel_hitter[mean_panel_hitter['agente_libre'] == 'No']


# Pitchers:
for i in range(0,len(pitcher_statistics)):    
    # Agentes libres pitchers:
    # Obteniendo percentiles
    fa_pitcher_aux = fa_pitcher[pitcher_statistics[i]]
    P = np.percentile(fa_pitcher_aux, [10, 90])
    fa_pitcher_filtered = fa_pitcher[(fa_pitcher_aux > P[0]) & (fa_pitcher_aux < P[1])]
    # Ventana óptima
    delta = 1.7188 # Ver CT
    w_sd = fa_pitcher_filtered[pitcher_statistics[i]].std()
    q1, q3 = np.percentile(fa_pitcher_filtered[pitcher_statistics[i]], [25,75])
    w_iqr_adj = (q3 - q1)/1.349
    w_N = fa_pitcher_filtered.shape[0]
    constante = 1.3643
    ajuste = min([w_sd,w_iqr_adj])
    fa_pitcher_binwidth[i] = constante*delta*ajuste*w_N**(-0.2) # ancho de banda
    
    # No-agentes libres pitchers:
    # Obteniendo percentiles
    no_pitcher_aux = no_pitcher[pitcher_statistics[i]]
    P = np.percentile(no_pitcher_aux, [5, 95])
    no_pitcher_filtered = no_pitcher[(no_pitcher_aux > P[0]) & (no_pitcher_aux < P[1])]
    # Ventana óptima
    delta = 1.7188 # Ver CT
    w_sd = no_pitcher_filtered[pitcher_statistics[i]].std()
    q1, q3 = np.percentile(no_pitcher_filtered[pitcher_statistics[i]], [25,75])
    w_iqr_adj = (q3 - q1)/1.349
    w_N = no_pitcher_filtered.shape[0]
    constante = 1.3643
    ajuste = min([w_sd,w_iqr_adj])
    no_pitcher_binwidth[i] = constante*delta*ajuste*w_N**(-0.2) # ancho de banda

# Hitters:
for i in range(0,len(hitter_statistics)): 
    # Agentes libres pitchers:
    # Obteniendo percentiles
    fa_hitter_aux = fa_hitter[hitter_statistics[i]]
    P = np.percentile(fa_hitter_aux, [10, 90])
    fa_hitter_filtered = fa_hitter[(fa_hitter_aux > P[0]) & (fa_hitter_aux < P[1])]
    # Ventana óptima
    delta = 1.7188 # Ver CT
    w_sd = fa_hitter_filtered[hitter_statistics[i]].std()
    q1, q3 = np.percentile(fa_hitter_filtered[hitter_statistics[i]], [25,75])
    w_iqr_adj = (q3 - q1)/1.349
    w_N = fa_hitter_filtered.shape[0]
    constante = 1.3643
    ajuste = min([w_sd,w_iqr_adj])
    fa_hitter_binwidth[i] = constante*delta*ajuste*w_N**(-0.2) # ancho de banda
    
    # No-agentes libres:
    # Obteniendo percentiles
    no_hitter_aux = no_hitter[hitter_statistics[i]]
    P = np.percentile(no_hitter_aux, [10, 90])
    no_hitter_filtered = no_hitter[(no_hitter_aux > P[0]) & (no_hitter_aux < P[1])]
    # Ventana óptima
    delta = 1.7188 # Ver CT
    w_sd = no_hitter_filtered[hitter_statistics[i]].std()
    q1, q3 = np.percentile(no_hitter_filtered[hitter_statistics[i]], [25,75])
    w_iqr_adj = (q3 - q1)/1.349
    w_N = no_hitter_filtered.shape[0]
    constante = 1.3643
    ajuste = min([w_sd,w_iqr_adj])
    no_hitter_binwidth[i] = constante*delta*ajuste*w_N**(-0.2) # ancho de banda


hitter_positions = [0.1, -0.3, 0.2, 0.4, -0.4,
                    0.05, 0.08, -0.25, -0.5, 0.2,
                    1, -0.4]
hitter_positions_adjustment = [0, 0, 0, 0, 0,
                               0, 0, 0, 0, 0,
                               0.2, 0]
pitcher_positions = [0.1, 0.1, 0.1, 0.5, -3,
                    0.23, -2.5, 0.1, 0.1, 2,
                    0.05, 0.08, 0.1, -0.48, -1.73,
                    0.1, 0.2]
pitcher_positions_adjustment = [0, 0, 0, 50, 2,
                                0.01, -3, 0, 0, 0,
                                0, -1, 0, 0, 0,
                                0, 0]


for i in range(0,len(hitter_statistics)):
    sns.set_style('white')
    fig,axes = plt.subplots(figsize = (22,9))
    
    g = sns.distplot(mean_panel_hitter[mean_panel_hitter['agente_libre'] == 'Si'][hitter_statistics[i]],
                     #bins = 20,
                     hist_kws = {'color': (0/255,64/255,196/255,0.7),
                                 'edgecolor': (0/255,64/255,196/255,1),
                                 'linewidth': 5,
                                 'linestyle': 'solid'},
                     kde_kws = {"color": "navy",
                                "linewidth": 5,
                                "bw": 0.1},
                     bins = 20,
                     label = 'Agente libre')
    g = sns.distplot(mean_panel_hitter[mean_panel_hitter['agente_libre'] == 'No'][hitter_statistics[i]],
                     #bins = 20,
                     hist_kws = {'color': (239/255,173/255,1/255,0.8),
                                 'edgecolor': (239/255,173/255,1/255,1),
                                 'linewidth': 5,
                                 'linestyle': 'solid'},
                     kde_kws = {"color": "orange",
                                "linewidth": 5,
                                "bw": 0.1},
                     bins = 20,
                     label = 'No-agente libre')
    g.set_title(hitter_labels[i] + '\n',
                fontsize = 35,
                fontweight = 'bold',
                color = 'black')
    g.set_xlabel('Temporadas',
                 fontsize = 26,
                 color = 'black',
                 fontweight = 'bold')
    g.set_ylabel(hitter_labels[i], 
                 fontsize = 26,
                 color = 'black',
                 fontweight = 'bold')
    axes.tick_params(labelsize = 30,
                     labelcolor = 'black')
    legend = plt.legend(loc = 'best', 
                        labelcolor = 'black',
                        fontsize = 30,
                        facecolor = 'white',
                        framealpha = 0.3,
                        fancybox = True,
                        frameon = True)
    g.set(xlabel = None)
    g.set(ylabel = None)
    g.patch.set_facecolor('white')
    
    plt.savefig(path + "/Visualizations/Descriptive_statistics/Hitters/Density_plot/Cumulative/density_hitter_" + str(hitter_labels_save[i]).lower() + ".pdf",
                format = "pdf")


for i in range(0,len(pitcher_statistics)):
    sns.set_style('white')
    fig,axes = plt.subplots(figsize = (22,9))
    
    g = sns.distplot(mean_panel_pitcher[mean_panel_pitcher['agente_libre'] == 'Si'][pitcher_statistics[i]],
                     #bins = 20,
                     hist_kws = {'color': (0/255,64/255,196/255,0.7),
                                 'edgecolor': (0/255,64/255,196/255,1),
                                 'linewidth': 5,
                                 'linestyle': 'solid'},
                     kde_kws = {"color": "navy",
                                "linewidth": 5,
                                "bw": 0.1},
                     bins = 20,
                     label = 'Agente libre')
    g = sns.distplot(mean_panel_pitcher[mean_panel_pitcher['agente_libre'] == 'No'][pitcher_statistics[i]],
                     #bins = 20,
                     hist_kws = {'color': (239/255,173/255,1/255,0.8),
                                 'edgecolor': (239/255,173/255,1/255,1),
                                 'linewidth': 5,
                                 'linestyle': 'solid'},
                     kde_kws = {"color": "orange",
                                "linewidth": 5,
                                "bw": 0.1},
                     bins = 20,
                     label = 'No-agente libre')
    g.set_title(pitcher_labels[i] + '\n',
                fontsize = 35,
                fontweight = 'bold',
                color = 'black')
    g.set_xlabel('Temporadas',
                 fontsize = 26,
                 color = 'black',
                 fontweight = 'bold')
    g.set_ylabel(pitcher_labels[i], 
                 fontsize = 26,
                 color = 'black',
                 fontweight = 'bold')
    axes.tick_params(labelsize = 30,
                     labelcolor = 'black')
    legend = plt.legend(loc = 'best', 
                        labelcolor = 'black',
                        fontsize = 30,
                        facecolor = 'white',
                        framealpha = 0.3,
                        fancybox = True,
                        frameon = True)
    g.set(xlabel = None)
    g.set(ylabel = None)
    g.patch.set_facecolor('white')
    
    
    plt.savefig(path + "/Visualizations/Descriptive_statistics/Pitchers/Density_plot/Cumulative/density_pitcher_" + str(pitcher_labels_save[i]).lower() + ".pdf",
                format = "pdf")


general_data = ['altura',
                'anios_de_contrato',
                'antiguedad',
                'bono_por_firma',
                'edad',
                'peso']
labels_gen = ['Altura[ft]',
              'Años de contrato',
              'Antigüedad',
              'Bono por firma[100k$]',
              'Edad',
              'Peso[lbs]']
labels_gen_save = ['Altura',
                   'Anios de contrato',
                   'Antiguedad',
                   'Bono por firma',
                   'Edad',
                   'Peso']


for i in range(0,len(general_data)):
    sns.set_style('white')
    fig,axes = plt.subplots(figsize = (22,9))
    
    g = sns.distplot(mean_panel_hitter[mean_panel_hitter['agente_libre'] == 'Si'][general_data[i]],
                     #bins = 20,
                     hist_kws = {'color': (0/255,64/255,196/255,0.7),
                                 'edgecolor': (0/255,64/255,196/255,1),
                                 'linewidth': 5,
                                 'linestyle': 'solid'},
                     kde_kws = {"color": "navy",
                                "linewidth": 5,
                                "bw": 0.17},
                     # bins = 20,
                     label = 'Agente libre')
    g = sns.distplot(mean_panel_hitter[mean_panel_hitter['agente_libre'] == 'No'][general_data[i]],
                     #bins = 20,
                     hist_kws = {'color': (239/255,173/255,1/255,0.8),
                                 'edgecolor': (239/255,173/255,1/255,1),
                                 'linewidth': 5,
                                 'linestyle': 'solid'},
                     kde_kws = {"color": "orange",
                                "linewidth": 5,
                                "bw": 0.25},
                     # bins = 20,
                     label = 'No-agente libre')
    g.set_title(labels_gen[i] + '\n',
                fontsize = 35,
                fontweight = 'bold',
                color = 'black')
    g.set_xlabel('Temporadas',
                 fontsize = 26,
                 color = 'black',
                 fontweight = 'bold')
    g.set_ylabel(labels_gen[i], 
                 fontsize = 26,
                 color = 'black',
                 fontweight = 'bold')
    axes.tick_params(labelsize = 30,
                     labelcolor = 'black')
    legend = plt.legend(loc = 'best', 
                        labelcolor = 'black',
                        fontsize = 30,
                        facecolor = 'white',
                        framealpha = 0.3,
                        fancybox = True,
                        frameon = True)
    g.set(xlabel = None)
    g.set(ylabel = None)
    g.patch.set_facecolor('white')
    
    plt.savefig(path + "/Visualizations/Descriptive_statistics/Hitters/Density_plot/density_hitter_" + str(labels_gen_save[i]).lower() + ".pdf",
                format = "pdf")


for i in range(0,len(general_data)):
    sns.set_style('white')
    fig,axes = plt.subplots(figsize = (22,9))
    
    g = sns.distplot(mean_panel_pitcher[mean_panel_pitcher['agente_libre'] == 'Si'][general_data[i]],
                     #bins = 20,
                     hist_kws = {'color': (0/255,64/255,196/255,0.7),
                                 'edgecolor': (0/255,64/255,196/255,1),
                                 'linewidth': 5,
                                 'linestyle': 'solid'},
                     kde_kws = {"color": "navy",
                                "linewidth": 5,
                                "bw": 0.25},
                     # bins = 10,
                     label = 'Agente libre')
    g = sns.distplot(mean_panel_pitcher[mean_panel_pitcher['agente_libre'] == 'No'][general_data[i]],
                     #bins = 20,
                     hist_kws = {'color': (239/255,173/255,1/255,0.8),
                                 'edgecolor': (239/255,173/255,1/255,1),
                                 'linewidth': 5,
                                 'linestyle': 'solid'},
                     kde_kws = {"color": "orange",
                                "linewidth": 5,
                                "bw": 0.25},
                     # bins = 10,
                     label = 'No-agente libre')
    g.set_title(labels_gen[i] + '\n',
                fontsize = 35,
                fontweight = 'bold',
                color = 'black')
    g.set_xlabel('Temporadas',
                 fontsize = 26,
                 color = 'black',
                 fontweight = 'bold')
    g.set_ylabel(pitcher_labels[i], 
                 fontsize = 26,
                 color = 'black',
                 fontweight = 'bold')
    axes.tick_params(labelsize = 30,
                     labelcolor = 'black')
    legend = plt.legend(loc = 'best', 
                        labelcolor = 'black',
                        fontsize = 30,
                        facecolor = 'white',
                        framealpha = 0.3,
                        fancybox = True,
                        frameon = True)
    g.set(xlabel = None)
    g.set(ylabel = None)
    g.patch.set_facecolor('white')
    
    
    plt.savefig(path + "/Visualizations/Descriptive_statistics/Pitchers/Density_plot/density_pitcher_" + str(labels_gen_save[i]).lower() + ".pdf",
                format = "pdf")


sns.set_style('white')
fig,axes = plt.subplots(figsize = (22,9))

g = sns.distplot(mean_panel_hitter[mean_panel_hitter['agente_libre'] == 'Si']['ln_sueldo_ajustado'],
                 #bins = 20,
                 hist_kws = {'color': (0/255,64/255,196/255,0.7),
                             'edgecolor': (0/255,64/255,196/255,1),
                             'linewidth': 5,
                             'linestyle': 'solid'},
                 kde_kws = {"color": "navy",
                            "linewidth": 5,
                            "bw": 0.25},
                 bins = 8,
                 label = 'Agente libre')
g = sns.distplot(mean_panel_hitter[mean_panel_hitter['agente_libre'] == 'No']['ln_sueldo_ajustado'],
                 #bins = 20,
                 hist_kws = {'color': (239/255,173/255,1/255,0.8),
                             'edgecolor': (239/255,173/255,1/255,1),
                             'linewidth': 5,
                             'linestyle': 'solid'},
                 kde_kws = {"color": "orange",
                            "linewidth": 5,
                            "bw": 0.2},
                 bins = 8,
                 label = 'No-agente libre')
g.set_title('ln(Sueldo ajustado) \n',
            fontsize = 35,
            fontweight = 'bold',
            color = 'black')
g.set_xlabel('Temporadas',
             fontsize = 26,
             color = 'black',
             fontweight = 'bold')
g.set_ylabel('ln(Sueldo ajustado)', 
             fontsize = 26,
             color = 'black',
             fontweight = 'bold')
axes.tick_params(labelsize = 30,
                 labelcolor = 'black')
legend = plt.legend(loc = 'best', 
                    labelcolor = 'black',
                    fontsize = 30,
                    facecolor = 'white',
                    framealpha = 0.3,
                    fancybox = True,
                    frameon = True)
g.set(xlabel = None)
g.set(ylabel = None)
g.patch.set_facecolor('white')


plt.savefig(path + "/Visualizations/Descriptive_statistics/Hitters/Density_plot/density_hitter_ln_sueldo_ajustado.pdf",
            format = "pdf")


sns.set_style('white')
fig,axes = plt.subplots(figsize = (22,9))

g = sns.distplot(mean_panel_pitcher[mean_panel_pitcher['agente_libre'] == 'Si']['ln_sueldo_ajustado'],
                 #bins = 20,
                 hist_kws = {'color': (0/255,64/255,196/255,0.7),
                             'edgecolor': (0/255,64/255,196/255,1),
                             'linewidth': 5,
                             'linestyle': 'solid'},
                 kde_kws = {"color": "navy",
                            "linewidth": 5,
                            "bw": 0.25},
                 bins = 8,
                 label = 'Agente libre')
g = sns.distplot(mean_panel_pitcher[mean_panel_pitcher['agente_libre'] == 'No']['ln_sueldo_ajustado'],
                 #bins = 20,
                 hist_kws = {'color': (239/255,173/255,1/255,0.8),
                             'edgecolor': (239/255,173/255,1/255,1),
                             'linewidth': 5,
                             'linestyle': 'solid'},
                 kde_kws = {"color": "orange",
                            "linewidth": 5,
                            "bw": 0.2},
                 bins = 8,
                 label = 'No-agente libre')
g.set_title('ln(Sueldo ajustado) \n',
            fontsize = 35,
            fontweight = 'bold',
            color = 'black')
g.set_xlabel('Temporadas',
             fontsize = 26,
             color = 'black',
             fontweight = 'bold')
g.set_ylabel('ln(Sueldo ajustado)', 
             fontsize = 26,
             color = 'black',
             fontweight = 'bold')
axes.tick_params(labelsize = 30,
                 labelcolor = 'black')
legend = plt.legend(loc = 'best', 
                    labelcolor = 'black',
                    fontsize = 30,
                    facecolor = 'white',
                    framealpha = 0.3,
                    fancybox = True,
                    frameon = True)
g.set(xlabel = None)
g.set(ylabel = None)
g.patch.set_facecolor('white')


plt.savefig(path + "/Visualizations/Descriptive_statistics/Pitchers/Density_plot/density_pitcher_ln_sueldo_ajustado.pdf",
            format = "pdf")
