{
 "cells": [
  {
   "cell_type": "code",
   "execution_count": 4,
   "id": "8cb65957-5a23-463b-86db-e0d4f4e482a6",
   "metadata": {},
   "outputs": [],
   "source": [
    "import numpy as np\n",
    "from statistics import mean "
   ]
  },
  {
   "cell_type": "code",
   "execution_count": 1,
   "id": "1060719b-205c-4227-b943-b4c4ff92b9e1",
   "metadata": {},
   "outputs": [],
   "source": [
    "aux = [10.6, 7.8, 8.1, 7.1, 4.4]"
   ]
  },
  {
   "cell_type": "code",
   "execution_count": 5,
   "id": "b731fb26-aa66-4a2e-a2e7-59e39dbee531",
   "metadata": {},
   "outputs": [
    {
     "data": {
      "text/plain": [
       "7.6"
      ]
     },
     "execution_count": 5,
     "metadata": {},
     "output_type": "execute_result"
    }
   ],
   "source": [
    "mean(aux)"
   ]
  },
  {
   "cell_type": "code",
   "execution_count": 9,
   "id": "1d3dd889-564d-4d76-9e2c-c4cb8d6e35d9",
   "metadata": {},
   "outputs": [
    {
     "name": "stdout",
     "output_type": "stream",
     "text": [
      "0.27025\n",
      "0.006796138609534075\n",
      "4.6187499999999754e-05\n"
     ]
    }
   ],
   "source": [
    "simple_hitter = [0.266,0.282,0.266,0.267]\n",
    "print(mean(simple_hitter))\n",
    "print(np.std(simple_hitter))\n",
    "print(np.var(simple_hitter))"
   ]
  },
  {
   "cell_type": "code",
   "execution_count": null,
   "id": "8a305657-00ae-4ee0-87a4-01388a57bd88",
   "metadata": {},
   "outputs": [],
   "source": []
  }
 ],
 "metadata": {
  "kernelspec": {
   "display_name": "Python 3 (ipykernel)",
   "language": "python",
   "name": "python3"
  },
  "language_info": {
   "codemirror_mode": {
    "name": "ipython",
    "version": 3
   },
   "file_extension": ".py",
   "mimetype": "text/x-python",
   "name": "python",
   "nbconvert_exporter": "python",
   "pygments_lexer": "ipython3",
   "version": "3.9.16"
  }
 },
 "nbformat": 4,
 "nbformat_minor": 5
}
