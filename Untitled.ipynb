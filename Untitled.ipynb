{
 "cells": [
  {
   "cell_type": "code",
   "execution_count": null,
   "id": "485fd6ef-2d3c-4557-bbff-9c0ee8db5ca4",
   "metadata": {},
   "outputs": [],
   "source": [
    "sport_st_pitcher = [12,14, 23,29, 25,27,\n",
    "                    31,33, 35,37, 39,41,\n",
    "                    43,45, 56,58, 68,70,\n",
    "                    87,89, 94,96, 120,122,\n",
    "                    124,126, 131,133, 135,137]"
   ]
  }
 ],
 "metadata": {
  "kernelspec": {
   "display_name": "Python 3",
   "language": "python",
   "name": "python3"
  },
  "language_info": {
   "codemirror_mode": {
    "name": "ipython",
    "version": 3
   },
   "file_extension": ".py",
   "mimetype": "text/x-python",
   "name": "python",
   "nbconvert_exporter": "python",
   "pygments_lexer": "ipython3",
   "version": "3.8.8"
  }
 },
 "nbformat": 4,
 "nbformat_minor": 5
}
