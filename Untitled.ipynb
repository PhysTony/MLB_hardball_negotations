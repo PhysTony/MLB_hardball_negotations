{
 "cells": [
  {
   "cell_type": "code",
   "execution_count": null,
   "id": "485fd6ef-2d3c-4557-bbff-9c0ee8db5ca4",
   "metadata": {},
   "outputs": [],
   "source": [
    "sport_st_pitcher = [14,16,27,29,25,31,\n",
    "                    33,35,37,39,41,43,\n",
    "                    45,47,58,60,69,71,\n",
    "                    88,90,95,97,121,123,\n",
    "                    125,127,132,134,136,138]"
   ]
  }
 ],
 "metadata": {
  "kernelspec": {
   "display_name": "Python 3",
   "language": "python",
   "name": "python3"
  },
  "language_info": {
   "codemirror_mode": {
    "name": "ipython",
    "version": 3
   },
   "file_extension": ".py",
   "mimetype": "text/x-python",
   "name": "python",
   "nbconvert_exporter": "python",
   "pygments_lexer": "ipython3",
   "version": "3.8.8"
  }
 },
 "nbformat": 4,
 "nbformat_minor": 5
}
