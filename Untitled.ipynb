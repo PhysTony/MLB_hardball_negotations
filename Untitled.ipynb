{
 "cells": [
  {
   "cell_type": "markdown",
   "id": "053fe725-66cf-4455-a010-bb5b10fbc2f3",
   "metadata": {},
   "source": [
    "# Regresiones lineales"
   ]
  }
 ],
 "metadata": {
  "kernelspec": {
   "display_name": "Python 3",
   "language": "python",
   "name": "python3"
  },
  "language_info": {
   "codemirror_mode": {
    "name": "ipython",
    "version": 3
   },
   "file_extension": ".py",
   "mimetype": "text/x-python",
   "name": "python",
   "nbconvert_exporter": "python",
   "pygments_lexer": "ipython3",
   "version": "3.8.8"
  }
 },
 "nbformat": 4,
 "nbformat_minor": 5
}
