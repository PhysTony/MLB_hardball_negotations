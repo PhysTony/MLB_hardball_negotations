{
 "cells": [
  {
   "cell_type": "markdown",
   "id": "3481df67-8ebf-44c0-98da-c7e63225ed69",
   "metadata": {},
   "source": [
    "## Generalización del código\n",
    "\n",
    "Se aplicarán tres loops para obtener los distintos datasets por equipos, años y el otro parámetro extra. Sin embargo, esto solo por página, por lo que se tendrá que repetir el loop para distintas páginas. Se planea usar beatifulsoup, pandas y globals para usar dataframe con variable dinámicas."
   ]
  },
  {
   "cell_type": "code",
   "execution_count": 1,
   "id": "2129c574-8cdf-4754-bb5d-be6f9d254152",
   "metadata": {},
   "outputs": [],
   "source": [
    "import requests\n",
    "from bs4 import BeautifulSoup\n",
    "import pandas as pd"
   ]
  },
  {
   "cell_type": "markdown",
   "id": "9effd90d-3fcc-4a1e-baef-2b7f48ab37f8",
   "metadata": {},
   "source": [
    "Las páginas para los equipos dentro de la pagina funcionan con un prefijo de hipervínculo dado por ```'https://www.spotrac.com/mlb/'``` + ```nombre-del-equipo``` + ```tipo-de-nómina``` + ```año``` (si es el año actual, no se indica el año). Con esto en mente, podemos crear un busqueda generalizada para el apartado de tablas de cada equipo. Por otro lado, para el algorítmo se toma en cuenta que en el año actual no se encuentra la tabla _Injured list_ que contiene la lista de los jugadores del equipo que se lastimaron a lo largo de dicho año.\n",
    "\n",
    "Creemos las listas necesarias para esto:"
   ]
  },
  {
   "cell_type": "code",
   "execution_count": 2,
   "id": "83e66a08-0534-4c7a-a2b8-e10bf55b4f5a",
   "metadata": {},
   "outputs": [],
   "source": [
    "# Texto base\n",
    "mlb = 'https://www.spotrac.com/mlb/'"
   ]
  },
  {
   "cell_type": "code",
   "execution_count": 3,
   "id": "c8a8222d-b05e-4193-a773-13419c205244",
   "metadata": {},
   "outputs": [],
   "source": [
    "# lista de equipos:\n",
    "teams = ['arizona-diamondbacks',\n",
    "         'atlanta-braves',\n",
    "         'baltimore-orioles',\n",
    "         'boston-red-sox',\n",
    "         'chicago-cubs',\n",
    "         'chicago-white-sox',\n",
    "         'cincinnati-reds',\n",
    "         'cleveland-guardians',\n",
    "         'colorado-rockies',\n",
    "         'detroit-tigers',\n",
    "         'houston-astros',\n",
    "         'kansas-city-royals',\n",
    "         'los-angeles-angels',\n",
    "         'los-angeles-dodgers',\n",
    "         'miami-marlins',\n",
    "         'milwaukee-brewers',\n",
    "         'minnesota-twins',\n",
    "         'new-york-mets',\n",
    "         'new-york-yankees',\n",
    "         'oakland-athletics',\n",
    "         'philadelphia-phillies',\n",
    "         'pittsburgh-pirates',\n",
    "         'san-diego-padres',\n",
    "         'san-francisco-giants',\n",
    "         'seattle-mariners',\n",
    "         'st-louis-cardinals',\n",
    "         'tampa-bay-rays',\n",
    "         'texas-rangers',\n",
    "         'toronto-blue-jays',\n",
    "         'washington-nationals'\n",
    "        ]"
   ]
  },
  {
   "cell_type": "code",
   "execution_count": 4,
   "id": "fd547714-8a70-469e-9ccd-686882944b0d",
   "metadata": {},
   "outputs": [
    {
     "name": "stdout",
     "output_type": "stream",
     "text": [
      "[2012, 2013, 2014, 2015, 2016, 2017, 2018, 2019, 2020, 2021, 2022]\n"
     ]
    }
   ],
   "source": [
    "# lista de años\n",
    "years_aux = list(range(2012,2023))\n",
    "print(years_aux)"
   ]
  },
  {
   "cell_type": "code",
   "execution_count": 7,
   "id": "813b5261-417b-4015-a2e4-5f47f4d4defe",
   "metadata": {},
   "outputs": [
    {
     "name": "stdout",
     "output_type": "stream",
     "text": [
      "['2012', '2013', '2014', '2015', '2016', '2017', '2018', '2019', '2020', '2021', 2022]\n"
     ]
    }
   ],
   "source": [
    "years = years_aux\n",
    "for i in range(len(years_aux)-1):\n",
    "    years[i] = str(years_aux[i])\n",
    "print(years)"
   ]
  },
  {
   "cell_type": "code",
   "execution_count": 28,
   "id": "6c5fa010-0343-462c-a6d9-186e70c6c1c5",
   "metadata": {},
   "outputs": [],
   "source": [
    "kind = ['payroll','cash']"
   ]
  },
  {
   "cell_type": "markdown",
   "id": "0aff3472-6313-46c0-a4f8-6ef2b87f44a1",
   "metadata": {},
   "source": [
    "Puesto que es más eficiente guardar todo en listas dentro de listas para este caso, crearemos primero una lista del tamaño de _teams_. Esto para localizar las tablas de acuerdo al equipo."
   ]
  },
  {
   "cell_type": "code",
   "execution_count": 54,
   "id": "36408f22-f9f8-4387-894e-b17a4ae6c06a",
   "metadata": {},
   "outputs": [
    {
     "name": "stdout",
     "output_type": "stream",
     "text": [
      "30\n"
     ]
    }
   ],
   "source": [
    "main_list = [None]*len(teams)\n",
    "print(len(main_list))"
   ]
  },
  {
   "cell_type": "markdown",
   "id": "b151b6df-21c0-4546-b1cb-6e0a116ef8e4",
   "metadata": {},
   "source": [
    "Veamos de manera ilustrativa cómo funcionará el algoritmo "
   ]
  },
  {
   "cell_type": "code",
   "execution_count": 31,
   "id": "2e5601b0-8752-4c06-8cf0-a938cabca98c",
   "metadata": {},
   "outputs": [
    {
     "data": {
      "text/plain": [
       "<Response [200]>"
      ]
     },
     "execution_count": 31,
     "metadata": {},
     "output_type": "execute_result"
    }
   ],
   "source": [
    "url_ejemplo = mlb + teams[3] + '/' + years[8] + '/' + kind[0] + '/'\n",
    "page = requests.get(url_ejemplo)\n",
    "page"
   ]
  },
  {
   "cell_type": "markdown",
   "id": "54b54438-7902-4350-a205-08306d91066d",
   "metadata": {},
   "source": [
    "Como se puede apreciar, la técnica funciona. \n",
    "\n",
    "Ahora, se creará una función para el año actual y otra para los años posteriores para poder extraer los datos. Esto se debe a que las bases de datos de los años anteriores son distintas a las del año en curso.\n",
    "\n",
    "Primero, creemos una función que genere los dataframes url por url. Luego, se podrá usar un bucle y la función ```globals[]()``` para obtener de todos los equipos, años y tipo de nómina."
   ]
  },
  {
   "cell_type": "code",
   "execution_count": 61,
   "id": "032f1e42-59f1-4d9c-a723-04c8c029bc4a",
   "metadata": {
    "tags": []
   },
   "outputs": [
    {
     "name": "stdout",
     "output_type": "stream",
     "text": [
      "<Response [200]>\n",
      "4\n",
      "5\n",
      "5\n",
      "<Response [200]>\n",
      "4\n",
      "5\n",
      "5\n",
      "<Response [200]>\n",
      "5\n",
      "5\n",
      "5\n",
      "<Response [200]>\n",
      "5\n",
      "5\n",
      "5\n",
      "<Response [200]>\n",
      "4\n",
      "5\n",
      "5\n",
      "<Response [200]>\n",
      "3\n",
      "5\n",
      "5\n",
      "<Response [200]>\n",
      "4\n",
      "5\n",
      "5\n",
      "<Response [200]>\n",
      "4\n",
      "5\n",
      "5\n",
      "<Response [200]>\n",
      "5\n",
      "5\n",
      "5\n",
      "<Response [200]>\n",
      "3\n",
      "5\n",
      "5\n",
      "<Response [200]>\n",
      "4\n",
      "5\n",
      "5\n",
      "<Response [200]>\n",
      "4\n",
      "5\n",
      "5\n",
      "<Response [200]>\n",
      "3\n",
      "5\n",
      "5\n",
      "<Response [200]>\n",
      "3\n",
      "5\n",
      "5\n",
      "<Response [200]>\n",
      "4\n",
      "5\n",
      "5\n",
      "<Response [200]>\n",
      "4\n",
      "5\n",
      "5\n",
      "<Response [200]>\n",
      "3\n",
      "5\n",
      "5\n",
      "<Response [200]>\n",
      "4\n",
      "5\n",
      "5\n",
      "<Response [200]>\n",
      "4\n",
      "5\n",
      "5\n",
      "<Response [200]>\n",
      "4\n",
      "5\n",
      "5\n",
      "<Response [200]>\n",
      "4\n",
      "5\n",
      "5\n",
      "<Response [200]>\n",
      "5\n",
      "5\n",
      "5\n",
      "<Response [200]>\n",
      "3\n",
      "5\n",
      "5\n",
      "<Response [200]>\n",
      "4\n",
      "5\n",
      "5\n",
      "<Response [200]>\n",
      "4\n",
      "5\n",
      "5\n",
      "<Response [200]>\n",
      "2\n",
      "5\n",
      "5\n",
      "<Response [200]>\n",
      "3\n",
      "5\n",
      "5\n",
      "<Response [200]>\n",
      "4\n",
      "5\n",
      "5\n",
      "<Response [200]>\n",
      "3\n",
      "5\n",
      "5\n"
     ]
    }
   ],
   "source": [
    "for i in range(len(teams)-1):\n",
    "    url = mlb + teams[i] + '/' + kind[0] + '/'\n",
    "    page = requests.get(url)\n",
    "    print(page)\n",
    "    \n",
    "    soup = BeautifulSoup(page.text, 'lxml')\n",
    "    \n",
    "    table = soup.find_all(\"table\", class_= \"datatable rtable\")\n",
    "    print(len(table))\n",
    "    payroll = soup.find(\"table\", class_= \"datatable captotal rtable rtable-notsticky\")\n",
    "    print(len(payroll))\n",
    "    balance = soup.find(\"table\", class_= \"datatable captotal\")\n",
    "    print(len(balance))\n",
    "    \n",
    "    list_aux_main = [None]*3\n",
    "    list_aux_sub = [None]*(len(table))\n",
    "\n",
    "    for j in range(len(table)-1):\n",
    "        list_aux_sub[j] = table[j]\n",
    "\n",
    "    list_aux_main[0] = list_aux_sub\n",
    "    list_aux_main[1] = payroll\n",
    "    list_aux_main[2] = balance\n",
    "    \n",
    "    main_list[i] = list_aux_main"
   ]
  },
  {
   "cell_type": "markdown",
   "id": "21b93f50-f3d6-4a0e-9bb1-9bfc8faeedd3",
   "metadata": {},
   "source": [
    "## Consulta\n",
    "\n",
    "Características _Premium_: https://www.spotrac.com/register/\n",
    "\n",
    "### Términos:\n",
    "Arbitration - https://www.sportingnews.com/us/mlb/news/what-is-arbitration-mlb-what-does-it-mean-baseball-eligibility-process/1atg6pycmf69o1x5yy2v31o03w\n",
    "\n",
    "### Posibles bases de datos:\n",
    "- MLB Free Agents 2020: https://www.spotrac.com/mlb/free-agents/2020/\n",
    "- MLB Contracts Active All - Start Years: https://www.spotrac.com/mlb/contracts/sort-value/limit-2000/\n",
    "- MLB Contracts All Times - Start Years: https://www.spotrac.com/mlb/contracts/sort-value/all-time/limit-2000/\n",
    "- MLB Salary RAnkings 2021: https://www.spotrac.com/mlb/rankings/2021/contract-value/\n",
    "- MLB Base Salary 2022: https://www.spotrac.com/mlb/rankings/base//"
   ]
  }
 ],
 "metadata": {
  "kernelspec": {
   "display_name": "Python 3",
   "language": "python",
   "name": "python3"
  },
  "language_info": {
   "codemirror_mode": {
    "name": "ipython",
    "version": 3
   },
   "file_extension": ".py",
   "mimetype": "text/x-python",
   "name": "python",
   "nbconvert_exporter": "python",
   "pygments_lexer": "ipython3",
   "version": "3.8.8"
  }
 },
 "nbformat": 4,
 "nbformat_minor": 5
}
