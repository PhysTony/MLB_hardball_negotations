{
 "cells": [
  {
   "cell_type": "markdown",
   "id": "645dee07-f525-4e79-ad68-d72ec2d581af",
   "metadata": {},
   "source": [
    "## Team database\n",
    "\n",
    "En este apartado creamos la base de datos de los agente libres, pero agregada por equipo."
   ]
  },
  {
   "cell_type": "code",
   "execution_count": 1,
   "id": "e6fe22e8-28fe-44e0-80c1-2b82952b481b",
   "metadata": {},
   "outputs": [
    {
     "name": "stdout",
     "output_type": "stream",
     "text": [
      "Modulos importados\n"
     ]
    }
   ],
   "source": [
    "import pandas as pd\n",
    "import numpy as np\n",
    "import math\n",
    "import os\n",
    "import warnings\n",
    "print('Modulos importados')"
   ]
  },
  {
   "cell_type": "code",
   "execution_count": 2,
   "id": "b0494034-36fc-4249-a681-39bf89f6d635",
   "metadata": {},
   "outputs": [],
   "source": [
    "# Configuraciones\n",
    "warnings.filterwarnings('ignore')\n",
    "# Reduzcamos el número de línea a leer\n",
    "pd.options.display.max_rows = 10"
   ]
  },
  {
   "cell_type": "markdown",
   "id": "36899655-f3f9-4cad-9a0c-c80939c218da",
   "metadata": {},
   "source": [
    "Lo que se hará ahora es crear listas donde guardaremos los datos de interes de las bases de datos a lo largo del periodo de interes."
   ]
  },
  {
   "cell_type": "code",
   "execution_count": 3,
   "id": "207f9bd9-76f5-44a3-8844-67b29ca5aee6",
   "metadata": {},
   "outputs": [],
   "source": [
    "# Años de análisis\n",
    "period = 10\n",
    "# Equipos\n",
    "teams = []\n",
    "# Originales:\n",
    "df_team = [None]*period"
   ]
  },
  {
   "cell_type": "markdown",
   "id": "37d1241a-1b90-4f14-b7cb-7afa815f67bb",
   "metadata": {},
   "source": [
    "### Equipos\n",
    "\n",
    "Se obtendrán los equipos que están solo en las bases de datos para reducir el número de equipos y tiempo de análisis a lo largo del trabajo."
   ]
  },
  {
   "cell_type": "code",
   "execution_count": 4,
   "id": "315a84b9-1188-41cc-baa1-e603e82ee0e7",
   "metadata": {},
   "outputs": [],
   "source": [
    "for i in range(0,period):\n",
    "    csv = '.csv'\n",
    "    team = 'Data/Free_Agent_Team_Salary/team_salary_'\n",
    "    \n",
    "    df_team[i] = pd.read_csv(team + str(2011 + i) + csv)\n",
    "    values = df_team[i].Team.unique().tolist()\n",
    "    \n",
    "    teams.append(values)"
   ]
  },
  {
   "cell_type": "markdown",
   "id": "3ff2bd50-7041-48ec-b140-79135fc6fd6b",
   "metadata": {},
   "source": [
    "Ya se guardaron en cada entrada de lista *teams* cada una de las listas que contiene los nombres (sin repetir) de los equipos en las distintas bases de datos. Ahora se tiene que pasar a una lista plana que no contenga listas, sino solo el contenido de todas estas"
   ]
  },
  {
   "cell_type": "code",
   "execution_count": 5,
   "id": "3e6ca518-5356-4f56-97cf-9dfc9e9e5078",
   "metadata": {},
   "outputs": [
    {
     "data": {
      "text/plain": [
       "(10,)"
      ]
     },
     "execution_count": 5,
     "metadata": {},
     "output_type": "execute_result"
    }
   ],
   "source": [
    "# Veamos que la dimensión de la lista es igual al número de bases de datos\n",
    "np.shape(teams)"
   ]
  },
  {
   "cell_type": "code",
   "execution_count": 21,
   "id": "c41ed97a-3210-4fcc-831d-1c957b3d88a4",
   "metadata": {},
   "outputs": [],
   "source": [
    "# Guardaremos el contenido de todas las listas en otra lista\n",
    "# Esta lista solo contendrá valores númericos y no listas\n",
    "all_teams = [name for team in teams for name in team]"
   ]
  },
  {
   "cell_type": "markdown",
   "id": "4b1412f9-2bf9-4dbf-8034-23b55c8dbb69",
   "metadata": {},
   "source": [
    "Nótese que ahora incrementa el número de entradas en la lista como e ra de esperarse"
   ]
  },
  {
   "cell_type": "code",
   "execution_count": 22,
   "id": "5af07cec-0c25-48db-a2b0-6685951da7cc",
   "metadata": {},
   "outputs": [
    {
     "data": {
      "text/plain": [
       "(256,)"
      ]
     },
     "execution_count": 22,
     "metadata": {},
     "output_type": "execute_result"
    }
   ],
   "source": [
    "np.shape(all_teams)"
   ]
  },
  {
   "cell_type": "markdown",
   "id": "52e63c74-571f-4996-ac51-d3c36936f40c",
   "metadata": {},
   "source": [
    "Para contruir la base de datos de los acrónimos tenemos que auxiliarnos solo de los equipos que están en nuestras bases de datos ya que han existido muchos acrónimos y equipos a lo largo de la historia y no necesariamente todos los equipos actuales están en nuestras bases de datos. Por otro lado, nos serviría de guía para crear de manera eficiente la base de datos de los acrónimos."
   ]
  },
  {
   "cell_type": "code",
   "execution_count": 23,
   "id": "263ceb8d-7b7a-4766-979e-37157b0fbc26",
   "metadata": {},
   "outputs": [
    {
     "name": "stdout",
     "output_type": "stream",
     "text": [
      "['Arizona Diamondbacks' 'Atlanta Braves' 'Baltimore Orioles'\n",
      " 'Boston Red Sox' 'Chicago Cubs' 'Chicago White Sox' 'Cincinnati Reds'\n",
      " 'Colorado Rockies' 'Detroit Tigers' 'Houston Astros' 'Kansas City Royals'\n",
      " 'Los Angeles Angels' 'Los Angeles Dodgers' 'Miami Marlins'\n",
      " 'Milwaukee Brewers' 'Minnesota Twins' 'New York Mets' 'New York Yankees'\n",
      " 'Oakland Athletics' 'Philadelphia Phillies' 'Pittsburgh Pirates'\n",
      " 'San Diego Padres' 'San Francisco Giants' 'Seattle Mariners'\n",
      " 'St. Louis Cardinals' 'Tampa Bay Rays' 'Texas Rangers'\n",
      " 'Toronto Blue Jays' 'Washington Nationals']\n"
     ]
    }
   ],
   "source": [
    "unique_teams = np.unique(np.array(all_teams))\n",
    "print(unique_teams)"
   ]
  },
  {
   "cell_type": "code",
   "execution_count": 24,
   "id": "758a5df2-c9f1-4dfe-8d53-acad9cc1b2f9",
   "metadata": {},
   "outputs": [
    {
     "name": "stdout",
     "output_type": "stream",
     "text": [
      "(29,)\n"
     ]
    }
   ],
   "source": [
    "# Cuya dimensión es\n",
    "print(np.shape(unique_teams))"
   ]
  },
  {
   "cell_type": "markdown",
   "id": "26a32e74-871b-4e5e-9fdb-6693ae071b86",
   "metadata": {},
   "source": [
    "Por otro lado, hay equipos que no han tenido el mismo acrónimo a lo largo de los años, por lo que repetiremos el proceso anterior para los acrónimos contenidos en las bases de datos que contiene a todos los jugadores. Esta se creo en el *script* llamado *Players.ipynb*."
   ]
  },
  {
   "cell_type": "code",
   "execution_count": 34,
   "id": "668ede3d-9a1b-42f3-9699-7793e9c62a49",
   "metadata": {},
   "outputs": [],
   "source": [
    "# Jugadores\n",
    "hitters = []\n",
    "pitchers = []\n",
    "# Originales:\n",
    "df_total_hitters = [None]*period\n",
    "df_total_pitchers = [None]*period"
   ]
  },
  {
   "cell_type": "markdown",
   "id": "d7ece993-8cde-46f0-a076-8e7700df09c6",
   "metadata": {},
   "source": [
    "El proceso que se muestra a continuación es totalmente análogo al que se hizo para obtener los acrónimos de los equipos en las bases de datos con prefijo \"team_salary\"."
   ]
  },
  {
   "cell_type": "code",
   "execution_count": 35,
   "id": "cc8112d5-2f2a-41b2-8a2e-fc66542ab961",
   "metadata": {},
   "outputs": [],
   "source": [
    "for i in range(0,period):\n",
    "    csv = '.csv'\n",
    "    total_hitters = 'Data/New_Data/batters_'\n",
    "    total_pitchers = 'Data/New_Data/pitchers_'\n",
    "    \n",
    "    df_total_hitters[i] = pd.read_csv(total_hitters + str(2011 + i) + csv)\n",
    "    df_total_pitchers[i] = pd.read_csv(total_pitchers + str(2011 + i) + csv)\n",
    "    values_1 = df_total_hitters[i]['Equipo_'+str(2011 + i)].unique().tolist()\n",
    "    values_2 = df_total_pitchers[i]['Equipo_'+str(2011 + i)].unique().tolist()\n",
    "    \n",
    "    hitters.append(values_1)\n",
    "    pitchers.append(values_2)"
   ]
  },
  {
   "cell_type": "code",
   "execution_count": 36,
   "id": "04fa7521-57cd-43b2-9d4c-80a6eee9d8eb",
   "metadata": {},
   "outputs": [],
   "source": [
    "# Ahora obtendremos el total de acrónimos relacionados a los jugadores\n",
    "all_hitters = [name for hitter in hitters for name in hitter]\n",
    "all_pitchers = [name for pitcher in pitchers for name in pitcher]\n",
    "players = [all_hitters, all_pitchers]\n",
    "all_players = [name for player in players for name in player]\n",
    "unique_players = np.unique(np.array(all_players))"
   ]
  },
  {
   "cell_type": "code",
   "execution_count": 37,
   "id": "828ca50f-0961-4bf2-9d2b-418f0b1d34d9",
   "metadata": {},
   "outputs": [
    {
     "name": "stdout",
     "output_type": "stream",
     "text": [
      "(29,)\n",
      "['ARI' 'ATL' 'BAL' 'BOS' 'CHC' 'CHW' 'CIN' 'COL' 'DET' 'HOU' 'KC' 'LAA'\n",
      " 'LAD' 'MIA' 'MIL' 'MIN' 'NYM' 'NYY' 'OAK' 'PHI' 'PIT' 'SD' 'SEA' 'SF'\n",
      " 'STL' 'TB' 'TEX' 'TOR' 'WSH']\n"
     ]
    }
   ],
   "source": [
    "# Chequemos la dimensión y valores\n",
    "print(np.shape(unique_players))\n",
    "print(unique_players)"
   ]
  },
  {
   "cell_type": "markdown",
   "id": "c12da598-2dac-433a-b7ea-69380148e1be",
   "metadata": {},
   "source": [
    "Se aprecia que tienen el mismo número de acrónimos que equipos en ambas listas obtenidas con valores únicos. Falta ver que sí correspondan los acrónimos a los equipos en las distintas bases de datos.\n",
    "\n",
    "Debido a que no hay una base de datos con los acrónimos de los equipos, el nombre usual de los equipos y las victorias; se tendrá que construir manuealmente, lo cual se hará fuera de este *script*.\n",
    "\n",
    "El resultado obtenido fue el siguiente:"
   ]
  },
  {
   "cell_type": "code",
   "execution_count": 43,
   "id": "8818e8d5-f501-4125-8ee4-3a23e6eb9014",
   "metadata": {},
   "outputs": [],
   "source": [
    "acronym_path = 'Data/Teams/team_acronym.csv'\n",
    "acronyms = pd.read_csv(acronym_path)"
   ]
  },
  {
   "cell_type": "code",
   "execution_count": 44,
   "id": "fd942bc6-1461-4d3b-97bb-713b3e9c2df6",
   "metadata": {},
   "outputs": [
    {
     "data": {
      "text/html": [
       "<div>\n",
       "<style scoped>\n",
       "    .dataframe tbody tr th:only-of-type {\n",
       "        vertical-align: middle;\n",
       "    }\n",
       "\n",
       "    .dataframe tbody tr th {\n",
       "        vertical-align: top;\n",
       "    }\n",
       "\n",
       "    .dataframe thead th {\n",
       "        text-align: right;\n",
       "    }\n",
       "</style>\n",
       "<table border=\"1\" class=\"dataframe\">\n",
       "  <thead>\n",
       "    <tr style=\"text-align: right;\">\n",
       "      <th></th>\n",
       "      <th>Acronimo</th>\n",
       "      <th>Equipo</th>\n",
       "    </tr>\n",
       "  </thead>\n",
       "  <tbody>\n",
       "    <tr>\n",
       "      <th>0</th>\n",
       "      <td>ARI</td>\n",
       "      <td>Arizona Diamondbacks</td>\n",
       "    </tr>\n",
       "    <tr>\n",
       "      <th>1</th>\n",
       "      <td>ATL</td>\n",
       "      <td>Atlanta Braves</td>\n",
       "    </tr>\n",
       "    <tr>\n",
       "      <th>2</th>\n",
       "      <td>BAL</td>\n",
       "      <td>Baltimore Orioles</td>\n",
       "    </tr>\n",
       "    <tr>\n",
       "      <th>3</th>\n",
       "      <td>BOS</td>\n",
       "      <td>Boston Red Sox</td>\n",
       "    </tr>\n",
       "    <tr>\n",
       "      <th>4</th>\n",
       "      <td>CHC</td>\n",
       "      <td>Chicago Cubs</td>\n",
       "    </tr>\n",
       "  </tbody>\n",
       "</table>\n",
       "</div>"
      ],
      "text/plain": [
       "  Acronimo                Equipo\n",
       "0      ARI  Arizona Diamondbacks\n",
       "1      ATL        Atlanta Braves\n",
       "2      BAL     Baltimore Orioles\n",
       "3      BOS        Boston Red Sox\n",
       "4      CHC          Chicago Cubs"
      ]
     },
     "execution_count": 44,
     "metadata": {},
     "output_type": "execute_result"
    }
   ],
   "source": [
    "acronyms.head()"
   ]
  },
  {
   "cell_type": "markdown",
   "id": "8a039331-8fbe-4c5f-8bca-4ac17ea644a8",
   "metadata": {},
   "source": [
    "Con el mismo formato se crearán bases de datos que correspondan a los mismo años y que contengas las victorias de cada equipo en cada año.\n",
    "\n",
    "Veamos el resultados final"
   ]
  },
  {
   "cell_type": "code",
   "execution_count": null,
   "id": "1e73707b-90b1-477b-a16c-af19832f02e4",
   "metadata": {},
   "outputs": [],
   "source": []
  },
  {
   "cell_type": "markdown",
   "id": "46b19684-c5c4-4686-9320-af956ace0cec",
   "metadata": {},
   "source": [
    "### Creación del dataframe"
   ]
  },
  {
   "cell_type": "code",
   "execution_count": 9,
   "id": "c3152c14-087b-4fc6-9c94-1fe90632372b",
   "metadata": {},
   "outputs": [],
   "source": [
    "i = 3\n",
    "csv = '.csv'\n",
    "team = 'Data/Free_Agent_Team_Salary/team_salary_20'"
   ]
  },
  {
   "cell_type": "code",
   "execution_count": 12,
   "id": "af558230-775c-4469-8fca-71c118de4748",
   "metadata": {},
   "outputs": [],
   "source": [
    "df_team[i] = pd.read_csv(team + str(11 + i) + csv)\n",
    "df_team_copy[i] = df_team[i].copy()"
   ]
  },
  {
   "cell_type": "code",
   "execution_count": 16,
   "id": "f35cce34-fd46-41a8-9530-656bb4f7dd09",
   "metadata": {},
   "outputs": [
    {
     "data": {
      "text/html": [
       "<div>\n",
       "<style scoped>\n",
       "    .dataframe tbody tr th:only-of-type {\n",
       "        vertical-align: middle;\n",
       "    }\n",
       "\n",
       "    .dataframe tbody tr th {\n",
       "        vertical-align: top;\n",
       "    }\n",
       "\n",
       "    .dataframe thead th {\n",
       "        text-align: right;\n",
       "    }\n",
       "</style>\n",
       "<table border=\"1\" class=\"dataframe\">\n",
       "  <thead>\n",
       "    <tr style=\"text-align: right;\">\n",
       "      <th></th>\n",
       "      <th>Team</th>\n",
       "      <th>Players</th>\n",
       "      <th>Value</th>\n",
       "    </tr>\n",
       "  </thead>\n",
       "  <tbody>\n",
       "    <tr>\n",
       "      <th>0</th>\n",
       "      <td>New York Yankees</td>\n",
       "      <td>9</td>\n",
       "      <td>$311,500,000</td>\n",
       "    </tr>\n",
       "    <tr>\n",
       "      <th>1</th>\n",
       "      <td>Seattle Mariners</td>\n",
       "      <td>8</td>\n",
       "      <td>$267,800,000</td>\n",
       "    </tr>\n",
       "    <tr>\n",
       "      <th>2</th>\n",
       "      <td>Texas Rangers</td>\n",
       "      <td>7</td>\n",
       "      <td>$136,050,000</td>\n",
       "    </tr>\n",
       "    <tr>\n",
       "      <th>3</th>\n",
       "      <td>Minnesota Twins</td>\n",
       "      <td>7</td>\n",
       "      <td>$97,290,983</td>\n",
       "    </tr>\n",
       "    <tr>\n",
       "      <th>4</th>\n",
       "      <td>New York Mets</td>\n",
       "      <td>10</td>\n",
       "      <td>$93,775,000</td>\n",
       "    </tr>\n",
       "  </tbody>\n",
       "</table>\n",
       "</div>"
      ],
      "text/plain": [
       "               Team  Players         Value\n",
       "0  New York Yankees        9  $311,500,000\n",
       "1  Seattle Mariners        8  $267,800,000\n",
       "2     Texas Rangers        7  $136,050,000\n",
       "3   Minnesota Twins        7   $97,290,983\n",
       "4     New York Mets       10   $93,775,000"
      ]
     },
     "execution_count": 16,
     "metadata": {},
     "output_type": "execute_result"
    }
   ],
   "source": [
    "df_team_copy[i].head()"
   ]
  },
  {
   "cell_type": "code",
   "execution_count": 15,
   "id": "c25ecf5a-a0da-4d60-92f8-b924db103975",
   "metadata": {},
   "outputs": [],
   "source": [
    "df_team_copy[i] = df_team_copy[i][['Team', 'Players', 'Value']]"
   ]
  },
  {
   "cell_type": "code",
   "execution_count": 17,
   "id": "fb97fb66-5f09-4a91-a594-867a92d64b7b",
   "metadata": {},
   "outputs": [],
   "source": [
    "names = ['Equipo', 'Jugadores', 'Valor_agregado']\n",
    "df_team_copy[i].columns = names"
   ]
  },
  {
   "cell_type": "code",
   "execution_count": null,
   "id": "3e4cadb2-1fc7-4d9b-abd5-b4bc89f0e370",
   "metadata": {},
   "outputs": [],
   "source": []
  }
 ],
 "metadata": {
  "kernelspec": {
   "display_name": "Python 3",
   "language": "python",
   "name": "python3"
  },
  "language_info": {
   "codemirror_mode": {
    "name": "ipython",
    "version": 3
   },
   "file_extension": ".py",
   "mimetype": "text/x-python",
   "name": "python",
   "nbconvert_exporter": "python",
   "pygments_lexer": "ipython3",
   "version": "3.8.8"
  }
 },
 "nbformat": 4,
 "nbformat_minor": 5
}
