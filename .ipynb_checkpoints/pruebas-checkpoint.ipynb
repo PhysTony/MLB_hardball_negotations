{
 "cells": [
  {
   "cell_type": "markdown",
   "id": "bf58a38f-0297-4271-814c-3378a7c01091",
   "metadata": {},
   "source": [
    "Lo que se aprecia aquí son test para ciertas partes de la extracción o limpieza de datos."
   ]
  },
  {
   "cell_type": "code",
   "execution_count": 1,
   "id": "3d4c0903-02c3-4db5-9727-384148e2f5f7",
   "metadata": {},
   "outputs": [
    {
     "name": "stdout",
     "output_type": "stream",
     "text": [
      "Jeffrie Epstein no se suicidó :u\n"
     ]
    }
   ],
   "source": [
    "s9 = \"Jeffrie Epstein no se suicidó :u\"\n",
    "print(s9)"
   ]
  },
  {
   "cell_type": "code",
   "execution_count": 2,
   "id": "6eac903c-523d-4b5f-97f9-36f5e4738f1f",
   "metadata": {},
   "outputs": [
    {
     "name": "stdout",
     "output_type": "stream",
     "text": [
      "Jeffrie Epsteisi sio se suicidó :u\n"
     ]
    }
   ],
   "source": [
    "s10 = s9.replace('n', 'si')\n",
    "print(s10)"
   ]
  },
  {
   "cell_type": "code",
   "execution_count": 1,
   "id": "9d94442e-27a9-4bf8-9ab7-74c959369bf8",
   "metadata": {},
   "outputs": [],
   "source": [
    "strings = [\"a\", \"ab\", \"aa\", \"c\"]"
   ]
  },
  {
   "cell_type": "code",
   "execution_count": 2,
   "id": "0b5e1ed6-c305-47c4-9a6d-755e018b65ac",
   "metadata": {},
   "outputs": [
    {
     "name": "stdout",
     "output_type": "stream",
     "text": [
      "['1', '1b', '11', 'c']\n"
     ]
    }
   ],
   "source": [
    "new_strings = []\n",
    "\n",
    "for string in strings:\n",
    "\n",
    "    new_string = string.replace(\"a\", \"1\")\n",
    "    new_strings.append(new_string)\n",
    "\n",
    "print(new_strings)"
   ]
  }
 ],
 "metadata": {
  "kernelspec": {
   "display_name": "Python 3",
   "language": "python",
   "name": "python3"
  },
  "language_info": {
   "codemirror_mode": {
    "name": "ipython",
    "version": 3
   },
   "file_extension": ".py",
   "mimetype": "text/x-python",
   "name": "python",
   "nbconvert_exporter": "python",
   "pygments_lexer": "ipython3",
   "version": "3.8.8"
  }
 },
 "nbformat": 4,
 "nbformat_minor": 5
}
