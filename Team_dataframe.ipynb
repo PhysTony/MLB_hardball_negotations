{
 "cells": [
  {
   "cell_type": "markdown",
   "id": "645dee07-f525-4e79-ad68-d72ec2d581af",
   "metadata": {},
   "source": [
    "## Team database\n",
    "\n",
    "En este apartado creamos la base de datos de los agente libres, pero agregada por equipo."
   ]
  },
  {
   "cell_type": "code",
   "execution_count": 1,
   "id": "e6fe22e8-28fe-44e0-80c1-2b82952b481b",
   "metadata": {},
   "outputs": [
    {
     "name": "stdout",
     "output_type": "stream",
     "text": [
      "Modulos importados\n"
     ]
    }
   ],
   "source": [
    "import pandas as pd\n",
    "import numpy as np\n",
    "import math\n",
    "import os\n",
    "import warnings\n",
    "print('Modulos importados')"
   ]
  },
  {
   "cell_type": "code",
   "execution_count": 2,
   "id": "b0494034-36fc-4249-a681-39bf89f6d635",
   "metadata": {},
   "outputs": [],
   "source": [
    "# Configuraciones\n",
    "warnings.filterwarnings('ignore')\n",
    "# Reduzcamos el número de línea a leer\n",
    "pd.options.display.max_rows = 10"
   ]
  },
  {
   "cell_type": "markdown",
   "id": "36899655-f3f9-4cad-9a0c-c80939c218da",
   "metadata": {},
   "source": [
    "Lo que se hará ahora es crear listas donde guardaremos los datos de interes de las bases de datos a lo largo del periodo de interes."
   ]
  },
  {
   "cell_type": "code",
   "execution_count": 3,
   "id": "207f9bd9-76f5-44a3-8844-67b29ca5aee6",
   "metadata": {},
   "outputs": [],
   "source": [
    "# Años de análisis\n",
    "period = 10\n",
    "# Equipos\n",
    "teams = []\n",
    "# Originales:\n",
    "df_team = [None]*period\n",
    "# Copias:\n",
    "df_team_copy = [None]*period\n",
    "# Producto final:\n",
    "df_team_free_agents = [None]*period"
   ]
  },
  {
   "cell_type": "markdown",
   "id": "37d1241a-1b90-4f14-b7cb-7afa815f67bb",
   "metadata": {},
   "source": [
    "### Equipos\n",
    "\n",
    "Se obtendrán los equipos que están solo en las bases de datos para reducir el número de equipos y tiempo de análisis a lo largo del trabajo."
   ]
  },
  {
   "cell_type": "code",
   "execution_count": 4,
   "id": "315a84b9-1188-41cc-baa1-e603e82ee0e7",
   "metadata": {},
   "outputs": [],
   "source": [
    "for i in range(0,period):\n",
    "    team = 'Data/Free_Agent_Team_Salary/team_salary_'\n",
    "    csv = '.csv'\n",
    "    \n",
    "    df_team[i] = pd.read_csv(team + str(2011 + i) + csv)\n",
    "    values = df_team[i].Team.unique().tolist()\n",
    "    \n",
    "    teams.append(values)"
   ]
  },
  {
   "cell_type": "markdown",
   "id": "3ff2bd50-7041-48ec-b140-79135fc6fd6b",
   "metadata": {},
   "source": [
    "Ya se guardaron en cada entrada de lista *teams* cada una de las listas que contiene los nombres (sin repetir) de los equipos en las distintas bases de datos. Ahora se tiene que pasar a una lista plana que no contenga listas, sino solo el contenido de todas estas"
   ]
  },
  {
   "cell_type": "code",
   "execution_count": 5,
   "id": "3e6ca518-5356-4f56-97cf-9dfc9e9e5078",
   "metadata": {},
   "outputs": [
    {
     "data": {
      "text/plain": [
       "(10,)"
      ]
     },
     "execution_count": 5,
     "metadata": {},
     "output_type": "execute_result"
    }
   ],
   "source": [
    "# Veamos que la dimensión de la lista es igual al número de bases de datos\n",
    "np.shape(teams)"
   ]
  },
  {
   "cell_type": "code",
   "execution_count": 6,
   "id": "c41ed97a-3210-4fcc-831d-1c957b3d88a4",
   "metadata": {},
   "outputs": [],
   "source": [
    "# Guardaremos el contenido de todas las listas en otra lista\n",
    "# Esta lista solo contendrá valores númericos y no listas\n",
    "unique_teams = [name for team in teams for name in team]"
   ]
  },
  {
   "cell_type": "markdown",
   "id": "4b1412f9-2bf9-4dbf-8034-23b55c8dbb69",
   "metadata": {},
   "source": [
    "Nótese que ahora incrementa el número de entradas en la lista como e ra de esperarse"
   ]
  },
  {
   "cell_type": "code",
   "execution_count": 7,
   "id": "5af07cec-0c25-48db-a2b0-6685951da7cc",
   "metadata": {},
   "outputs": [
    {
     "data": {
      "text/plain": [
       "(256,)"
      ]
     },
     "execution_count": 7,
     "metadata": {},
     "output_type": "execute_result"
    }
   ],
   "source": [
    "np.shape(unique_teams)"
   ]
  },
  {
   "cell_type": "markdown",
   "id": "52e63c74-571f-4996-ac51-d3c36936f40c",
   "metadata": {},
   "source": [
    "Para contruir la base de datos de los acrónimos tenemos que auxiliarnos solo de los equipos que están en nuestras bases de datos ya que han existido muchos acrónimos y equipos a lo largo de la historia y no necesariamente todos los equipos actuales están en nuestras bases de datos. Por otro lado, nos serviría de guía para crear de manera eficiente la base de datos de los acrónimos."
   ]
  },
  {
   "cell_type": "code",
   "execution_count": 8,
   "id": "263ceb8d-7b7a-4766-979e-37157b0fbc26",
   "metadata": {},
   "outputs": [
    {
     "name": "stdout",
     "output_type": "stream",
     "text": [
      "['Arizona Diamondbacks' 'Atlanta Braves' 'Baltimore Orioles'\n",
      " 'Boston Red Sox' 'Chicago Cubs' 'Chicago White Sox' 'Cincinnati Reds'\n",
      " 'Colorado Rockies' 'Detroit Tigers' 'Houston Astros' 'Kansas City Royals'\n",
      " 'Los Angeles Angels' 'Los Angeles Dodgers' 'Miami Marlins'\n",
      " 'Milwaukee Brewers' 'Minnesota Twins' 'New York Mets' 'New York Yankees'\n",
      " 'Oakland Athletics' 'Philadelphia Phillies' 'Pittsburgh Pirates'\n",
      " 'San Diego Padres' 'San Francisco Giants' 'Seattle Mariners'\n",
      " 'St. Louis Cardinals' 'Tampa Bay Rays' 'Texas Rangers'\n",
      " 'Toronto Blue Jays' 'Washington Nationals']\n"
     ]
    }
   ],
   "source": [
    "print(np.unique(np.array(unique_teams)))"
   ]
  },
  {
   "cell_type": "markdown",
   "id": "26a32e74-871b-4e5e-9fdb-6693ae071b86",
   "metadata": {},
   "source": [
    "Por otro lado, hay equipos que no han tenido el mismo acrónimo a lo largo de los años, por lo que repetiremos el proceso anterior para los acrónimos contenidos en las bases de datos que contiene a todos los jugadores. Esta se creo en el *script* llamado *Players.ipynb*."
   ]
  },
  {
   "cell_type": "code",
   "execution_count": null,
   "id": "668ede3d-9a1b-42f3-9699-7793e9c62a49",
   "metadata": {},
   "outputs": [],
   "source": [
    "# Jugadores\n",
    "hitters = []\n",
    "batters = []\n",
    "players = []\n",
    "# Originales:\n",
    "df_total_hitters = [None]*period\n",
    "df_total_pitchers = [None]*period\n",
    "# Copias:\n",
    "df_team_copy = [None]*period\n",
    "# Producto final:\n",
    "df_team_free_agents = [None]*period"
   ]
  },
  {
   "cell_type": "markdown",
   "id": "c12da598-2dac-433a-b7ea-69380148e1be",
   "metadata": {},
   "source": [
    "Debido a que no hay una base de datos con los acrónimos de los equipos, el nombre usual de los equipos y las victorias; se tendrá que construir manuealmente, lo cual se hará fuera de este *script*."
   ]
  },
  {
   "cell_type": "markdown",
   "id": "46b19684-c5c4-4686-9320-af956ace0cec",
   "metadata": {},
   "source": [
    "### Creación del dataframe"
   ]
  },
  {
   "cell_type": "code",
   "execution_count": 9,
   "id": "c3152c14-087b-4fc6-9c94-1fe90632372b",
   "metadata": {},
   "outputs": [],
   "source": [
    "i = 3\n",
    "csv = '.csv'\n",
    "team = 'Data/Free_Agent_Team_Salary/team_salary_20'"
   ]
  },
  {
   "cell_type": "code",
   "execution_count": 12,
   "id": "af558230-775c-4469-8fca-71c118de4748",
   "metadata": {},
   "outputs": [],
   "source": [
    "df_team[i] = pd.read_csv(team + str(11 + i) + csv)\n",
    "df_team_copy[i] = df_team[i].copy()"
   ]
  },
  {
   "cell_type": "code",
   "execution_count": 16,
   "id": "f35cce34-fd46-41a8-9530-656bb4f7dd09",
   "metadata": {},
   "outputs": [
    {
     "data": {
      "text/html": [
       "<div>\n",
       "<style scoped>\n",
       "    .dataframe tbody tr th:only-of-type {\n",
       "        vertical-align: middle;\n",
       "    }\n",
       "\n",
       "    .dataframe tbody tr th {\n",
       "        vertical-align: top;\n",
       "    }\n",
       "\n",
       "    .dataframe thead th {\n",
       "        text-align: right;\n",
       "    }\n",
       "</style>\n",
       "<table border=\"1\" class=\"dataframe\">\n",
       "  <thead>\n",
       "    <tr style=\"text-align: right;\">\n",
       "      <th></th>\n",
       "      <th>Team</th>\n",
       "      <th>Players</th>\n",
       "      <th>Value</th>\n",
       "    </tr>\n",
       "  </thead>\n",
       "  <tbody>\n",
       "    <tr>\n",
       "      <th>0</th>\n",
       "      <td>New York Yankees</td>\n",
       "      <td>9</td>\n",
       "      <td>$311,500,000</td>\n",
       "    </tr>\n",
       "    <tr>\n",
       "      <th>1</th>\n",
       "      <td>Seattle Mariners</td>\n",
       "      <td>8</td>\n",
       "      <td>$267,800,000</td>\n",
       "    </tr>\n",
       "    <tr>\n",
       "      <th>2</th>\n",
       "      <td>Texas Rangers</td>\n",
       "      <td>7</td>\n",
       "      <td>$136,050,000</td>\n",
       "    </tr>\n",
       "    <tr>\n",
       "      <th>3</th>\n",
       "      <td>Minnesota Twins</td>\n",
       "      <td>7</td>\n",
       "      <td>$97,290,983</td>\n",
       "    </tr>\n",
       "    <tr>\n",
       "      <th>4</th>\n",
       "      <td>New York Mets</td>\n",
       "      <td>10</td>\n",
       "      <td>$93,775,000</td>\n",
       "    </tr>\n",
       "  </tbody>\n",
       "</table>\n",
       "</div>"
      ],
      "text/plain": [
       "               Team  Players         Value\n",
       "0  New York Yankees        9  $311,500,000\n",
       "1  Seattle Mariners        8  $267,800,000\n",
       "2     Texas Rangers        7  $136,050,000\n",
       "3   Minnesota Twins        7   $97,290,983\n",
       "4     New York Mets       10   $93,775,000"
      ]
     },
     "execution_count": 16,
     "metadata": {},
     "output_type": "execute_result"
    }
   ],
   "source": [
    "df_team_copy[i].head()"
   ]
  },
  {
   "cell_type": "code",
   "execution_count": 15,
   "id": "c25ecf5a-a0da-4d60-92f8-b924db103975",
   "metadata": {},
   "outputs": [],
   "source": [
    "df_team_copy[i] = df_team_copy[i][['Team', 'Players', 'Value']]"
   ]
  },
  {
   "cell_type": "code",
   "execution_count": 17,
   "id": "fb97fb66-5f09-4a91-a594-867a92d64b7b",
   "metadata": {},
   "outputs": [],
   "source": [
    "names = ['Equipo', 'Jugadores', 'Valor_agregado']\n",
    "df_team_copy[i].columns = names"
   ]
  },
  {
   "cell_type": "code",
   "execution_count": null,
   "id": "3e4cadb2-1fc7-4d9b-abd5-b4bc89f0e370",
   "metadata": {},
   "outputs": [],
   "source": []
  }
 ],
 "metadata": {
  "kernelspec": {
   "display_name": "Python 3",
   "language": "python",
   "name": "python3"
  },
  "language_info": {
   "codemirror_mode": {
    "name": "ipython",
    "version": 3
   },
   "file_extension": ".py",
   "mimetype": "text/x-python",
   "name": "python",
   "nbconvert_exporter": "python",
   "pygments_lexer": "ipython3",
   "version": "3.8.8"
  }
 },
 "nbformat": 4,
 "nbformat_minor": 5
}
