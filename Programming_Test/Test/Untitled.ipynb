{
 "cells": [
  {
   "cell_type": "code",
   "execution_count": 1,
   "id": "c68cd4c1-5542-402b-a6be-f71f911e6641",
   "metadata": {},
   "outputs": [
    {
     "name": "stdout",
     "output_type": "stream",
     "text": [
      "Modulos importados\n"
     ]
    }
   ],
   "source": [
    "import pandas as pd\n",
    "import numpy as np\n",
    "import math\n",
    "import os\n",
    "import warnings\n",
    "print('Modulos importados')"
   ]
  },
  {
   "cell_type": "code",
   "execution_count": 1,
   "id": "21c42147-0a10-4129-a0c8-8c4d9f0c125b",
   "metadata": {},
   "outputs": [],
   "source": [
    "text_1 = 'AABBB ABBAB ABABA AAAAA ABBBA BAAAA ABAAA ABBAA AAABA ABAAA ABBBA AABAA AAABB AABAA ABABA AAAAA AAABA ABBAB ABABA ABAAA ABBAA AAAAA AAAAA AAABA AAAAA BAAAB ABBAB AABAA BAAAB BAABA ABBAB AAABA BAABB AABAA ABBAA BAABA AAAAA AAABA ABBAB ABABB ABBAB ABBAB BAABA BAAAA AAAAA AAABA AAAAA BAAAA BAABA AAAAA ABBAA ABBAB AABAA BAAAB BAABA ABBAB BABBA BAAAB AABAA AABBA BAABB BAAAA ABBAB ABBBB BAABB ABAAA AABAA BAAAA ABBAB ABBBA AABAA ABBAA BAAAB AAAAA BAAAA ABBBB BAABB AABAA ABBAA ABBAB ABBBA ABBAB BAAAA ABBBB BAABB AABAA ABABB ABAAA AABAA ABBAA BAABA BAAAA AAAAA BAAAB ABABA AAAAA ABBBA BAAAA ABAAA ABABB AABAA BAAAA AAAAA ABABA AAAAA ABBAB AAAAB BAABA BAABB BAABB ABAAA BAAAB BAABA AABAA AAABA ABBAB ABBAA BAABA ABBAB AAABB ABBAB AABAA ABABA AABAA BAAAB AABAB BAABB AABAA BAAAA BABBB ABBAB AAABB AABAA BAABA AABAA ABBAA AABAA BAAAA ABBBB BAABB AABAA AAABB AABAA BAAAB AAABB ABBAB AAAAB ABABA AAAAA BAAAA BAABB ABBAA ABBBA AABAA AAABB AAAAA BABBB ABBAB AAABB AABAA ABBBA AAAAA ABBBA AABAA ABABA BAAAB ABAAA AABAA BAAAB BAABA AAAAA BAAAB ABABA AABAA BABBA AABAA ABBAA AAABB ABBAB AABAA BAAAB BAABA ABBAB BAAAB ABAAA AABBA ABBAA ABAAA AABAB ABAAA AAABA AAAAA AAABB AABAA BAABB AABAA BAAAA AAABB AAAAA AAABB BAABA ABAAA AABAA ABBAA AABAA BAAAB BAABA AAAAA ABABA AABAA ABBAA BAABA ABBAB ABBBA AAAAA BAAAA AAAAA BAAAA AABAA BAAAB ABBAB ABABA BAABB AABAA BAAAA BAABB ABBAA AAAAA AAABA AABAA BAAAA BAABA ABAAA ABAAA ABBAB BABBA AAAAA BAAAB AABAA BABBA AAAAA BAAAB AABAA ABBAA ABBAB AABAB BAABB AABAA ABABB BAABB BABBA AAABB ABAAA AABAB ABAAA AAABA ABAAA ABABA ABBBA AABAA BAAAA ABBAB ABBAA BAABB ABBAA AAABA AAAAA ABABA ABBAB AABAA BAAAB AAABA BAABB AAAAA ABBAA AAABB ABBAB ABBAA ABBAB AABAA BAAAB BAABA AAAAA BAAAB AAAAB BAABB BAAAB AAABA AAAAA ABBAA AAABB ABBAB BAAAA AABAA BAAAB ABBAB ABABA BAABB AABAA BAAAA BAABB ABBAA ABBAB AABAA ABBAA AAABA AAAAA ABABB AAAAB ABAAA ABBAB AAABA BAABB AAAAA ABBAA AAABB ABBAB BAABA ABAAA AABAA ABBAA AABAA BAAAB ABABA AAAAA ABABB AABAA ABBAA BAABA AABAA AABAA ABBAA ABABA ABBAB BAAAB AAAAA AAABA AABAA BAAAA BAABA ABAAA ABAAA ABBAB BAAAB ABBAB AABBB BAABA ABBAB AAABB ABBAB ABBBA BAABB AABAA AAABB AABAA ABBBA AAAAA BAAAB AAAAA BAAAA ABBAA ABBAB AAABA BAAAA AABAA AABAA BAAAB AABAA BAAAB ABBBA AABAA BAAAA ABBAB ABABA ABBAB AABAA BAAAB BAABA AABAA BAAAB AAABB ABAAA BAAAB AABAB BAAAA BAABB BAABA AAAAA ABBAA AAABB ABBAB ABBAA BAABB ABBAA AAABA AAAAA AAABB BAABB AAABB AABAA AAABB AABAA ABBBB BAABB AABAA ABBBA ABBAB AAABB BAAAA ABAAA AAAAA BAAAB BAAAB ABBAB AAAAB BAAAA AABAA BAABA ABBAB AAABB ABBAB AABAA ABABA AAABB ABAAA AAAAA AAABB AABAA BAAAB ABBBA BAABB AABAA BAAAB AAABB AABAA ABBAA AAAAA BAABB ABAAA AAABB AAAAA AAABB ABBAB AABBB ABABB ABAAA ABBBB BAABB AABAA BAAAA ABAAA AAABB ABBAB BAABB ABAAA BAABB AAAAA ABABA AAABB ABAAA ABBAA ABBAB BAABA ABAAA AABAA ABBAA AABAA BAAAB ABAAA AAABB AABAA AAAAA ABABA ABBAB ABABB BAABB AAABA AABBB ABBAB ABBBB BAABB AABAA ABABB AABAA AABBA BAABB BAAAB BAABA AAAAA BAAAB AAABB ABAAA ABABB AABAA ABABA AAAAA ABAAA ABBAA BAABA AABAA ABBAA AAABA ABAAA ABBAB ABBAA ABBBB BAABB AABAA BAAAB ABAAA AABAA ABBAA BAABA ABBAB ABBBA ABBAB BAAAA BAABA ABAAA AABAA BAAAB BAABA AAAAA BAAAB ABAAA AABAA ABBAA AAABB ABBAB ABBAB AAAAB BAABB ABAAA AAAAA BABBA BAAAB BAABB AABAB ABAAA AAABA ABAAA AABAA ABBAA BAABA AABAA'"
   ]
  },
  {
   "cell_type": "code",
   "execution_count": 2,
   "id": "8aec87c2-0a54-47e6-b03d-172ce713da86",
   "metadata": {},
   "outputs": [],
   "source": [
    "text_2 = 'AABBB ABBAB ABABA AAAAA ABBBA BAAAA ABAAA ABBAA AAABA ABAAA ABBBA AABAA AAABB AABAA ABABA AAAAA AAABA ABBAB ABABA ABAAA ABBAA AAAAA AAAAA AAABA AAAAA BAAAB ABBAB AABAA BAAAB BAABA ABBAB AAABA BAABB AABAA ABBAA BAABA AAAAA AAABA ABBAB ABABB ABBAB ABBAB BAABA BAAAA AAAAA AAABA AAAAA BAAAA BAABA AAAAA ABBAA ABBAB AABAA BAAAB BAABA ABBAB BABBA BAAAB AABAA AABBA BAABB BAAAA ABBAB ABBBB BAABB ABAAA AABAA BAAAA ABBAB ABBBA AABAA ABBAA BAAAB AAAAA BAAAA ABBBB BAABB AABAA ABBAA ABBAB ABBBA ABBAB BAAAA ABBBB BAABB AABAA ABABB ABAAA AABAA ABBAA BAABA BAAAA AAAAA BAAAB ABABA AAAAA ABBBA BAAAA ABAAA ABABB AABAA BAAAA AAAAA ABABA AAAAA ABBAB AAAAB BAABA BAABB BAABB ABAAA BAAAB BAABA AABAA AAABA ABBAB ABBAA BAABA ABBAB AAABB ABBAB AABAA ABABA AABAA BAAAB AABAB BAABB AABAA BAAAA BABBB ABBAB AAABB AABAA BAABA AABAA ABBAA AABAA BAAAA ABBBB BAABB AABAA AAABB AABAA BAAAB AAABB ABBAB AAAAB ABABA AAAAA BAAAA BAABB ABBAA ABBBA AABAA AAABB AAAAA BABBB ABBAB AAABB AABAA ABBBA AAAAA ABBBA AABAA ABABA BAAAB ABAAA AABAA BAAAB BAABA AAAAA BAAAB ABABA AABAA BABBA AABAA ABBAA AAABB ABBAB AABAA BAAAB BAABA ABBAB BAAAB ABAAA AABBA ABBAA ABAAA AABAB ABAAA AAABA AAAAA AAABB AABAA BAABB AABAA BAAAA AAABB AAAAA AAABB BAABA ABAAA AABAA ABBAA AABAA BAAAB BAABA AAAAA ABABA AABAA ABBAA BAABA ABBAB ABBBA AAAAA BAAAA AAAAA BAAAA AABAA BAAAB ABBAB ABABA BAABB AABAA BAAAA BAABB ABBAA AAAAA AAABA AABAA BAAAA BAABA ABAAA ABAAA ABBAB BABBA AAAAA BAAAB AABAA BABBA AAAAA BAAAB AABAA ABBAA ABBAB AABAB BAABB AABAA ABABB BAABB BABBA AAABB ABAAA AABAB ABAAA AAABA ABAAA ABABA ABBBA AABAA BAAAA ABBAB ABBAA BAABB ABBAA AAABA AAAAA ABABA ABBAB AABAA BAAAB AAABA BAABB AAAAA ABBAA AAABB ABBAB ABBAA ABBAB AABAA BAAAB BAABA AAAAA BAAAB AAAAB BAABB BAAAB AAABA AAAAA ABBAA AAABB ABBAB BAAAA AABAA BAAAB ABBAB ABABA BAABB AABAA BAAAA BAABB ABBAA ABBAB AABAA ABBAA AAABA AAAAA ABABB AAAAB ABAAA ABBAB AAABA BAABB AAAAA ABBAA AAABB ABBAB BAABA ABAAA AABAA ABBAA AABAA BAAAB ABABA AAAAA ABABB AABAA ABBAA BAABA AABAA AABAA ABBAA ABABA ABBAB BAAAB AAAAA AAABA AABAA BAAAA BAABA ABAAA ABAAA ABBAB BAAAB ABBAB AABBB BAABA ABBAB AAABB ABBAB ABBBA BAABB AABAA AAABB AABAA ABBBA AAAAA BAAAB AAAAA BAAAA ABBAA ABBAB AAABA BAAAA AABAA AABAA BAAAB AABAA BAAAB ABBBA AABAA BAAAA ABBAB ABABA ABBAB AABAA BAAAB BAABA AABAA BAAAB AAABB ABAAA BAAAB AABAB BAAAA BAABB BAABA AAAAA ABBAA AAABB ABBAB ABBAA BAABB ABBAA AAABA AAAAA AAABB BAABB AAABB AABAA AAABB AABAA ABBBB BAABB AABAA ABBBA ABBAB AAABB BAAAA ABAAA AAAAA BAAAB BAAAB ABBAB AAAAB BAAAA AABAA BAABA ABBAB AAABB ABBAB AABAA ABABA AAABB ABAAA AAAAA AAABB AABAA BAAAB ABBBA BAABB AABAA BAAAB AAABB AABAA ABBAA AAAAA BAABB ABAAA AAABB AAAAA AAABB ABBAB AABBB ABABB ABAAA ABBBB BAABB AABAA BAAAA ABAAA AAABB ABBAB BAABB ABAAA BAABB AAAAA ABABA AAABB ABAAA ABBAA ABBAB BAABA ABAAA AABAA ABBAA AABAA BAAAB ABAAA AAABB AABAA AAAAA ABABA ABBAB ABABB BAABB AAABA AABBB ABBAB ABBBB BAABB AABAA ABABB AABAA AABBA BAABB BAAAB BAABA AAAAA BAAAB AAABB ABAAA ABABB AABAA ABABA AAAAA ABAAA ABBAA BAABA AABAA ABBAA AAABA ABAAA ABBAB ABBAA ABBBB BAABB AABAA BAAAB ABAAA AABAA ABBAA BAABA ABBAB ABBBA ABBAB BAAAA BAABA ABAAA AABAA BAAAB BAABA AAAAA BAAAB ABAAA AABAA ABBAA AAABB ABBAB ABBAB AAAAB BAABB ABAAA AAAAA BABBA BAAAB BAABB AABAB ABAAA AAABA ABAAA AABAA ABBAA BAABA AABAA'"
   ]
  },
  {
   "cell_type": "code",
   "execution_count": 8,
   "id": "2030f834-e291-4c48-9243-e71149bfc52f",
   "metadata": {},
   "outputs": [
    {
     "name": "stdout",
     "output_type": "stream",
     "text": [
      "11000 10010 10101 11111 10001 01111 10111 10011 11101 10111 10001 11011 11100 11011 10101 11111 11101 10010 10101 10111 10011 11111 11111 11101 11111 01110 10010 11011 01110 01101 10010 11101 01100 11011 10011 01101 11111 11101 10010 10100 10010 10010 01101 01111 11111 11101 11111 01111 01101 11111 10011 10010 11011 01110 01101 10010 01001 01110 11011 11001 01100 01111 10010 10000 01100 10111 11011 01111 10010 10001 11011 10011 01110 11111 01111 10000 01100 11011 10011 10010 10001 10010 01111 10000 01100 11011 10100 10111 11011 10011 01101 01111 11111 01110 10101 11111 10001 01111 10111 10100 11011 01111 11111 10101 11111 10010 11110 01101 01100 01100 10111 01110 01101 11011 11101 10010 10011 01101 10010 11100 10010 11011 10101 11011 01110 11010 01100 11011 01111 01000 10010 11100 11011 01101 11011 10011 11011 01111 10000 01100 11011 11100 11011 01110 11100 10010 11110 10101 11111 01111 01100 10011 10001 11011 11100 11111 01000 10010 11100 11011 10001 11111 10001 11011 10101 01110 10111 11011 01110 01101 11111 01110 10101 11011 01001 11011 10011 11100 10010 11011 01110 01101 10010 01110 10111 11001 10011 10111 11010 10111 11101 11111 11100 11011 01100 11011 01111 11100 11111 11100 01101 10111 11011 10011 11011 01110 01101 11111 10101 11011 10011 01101 10010 10001 11111 01111 11111 01111 11011 01110 10010 10101 01100 11011 01111 01100 10011 11111 11101 11011 01111 01101 10111 10111 10010 01001 11111 01110 11011 01001 11111 01110 11011 10011 10010 11010 01100 11011 10100 01100 01001 11100 10111 11010 10111 11101 10111 10101 10001 11011 01111 10010 10011 01100 10011 11101 11111 10101 10010 11011 01110 11101 01100 11111 10011 11100 10010 10011 10010 11011 01110 01101 11111 01110 11110 01100 01110 11101 11111 10011 11100 10010 01111 11011 01110 10010 10101 01100 11011 01111 01100 10011 10010 11011 10011 11101 11111 10100 11110 10111 10010 11101 01100 11111 10011 11100 10010 01101 10111 11011 10011 11011 01110 10101 11111 10100 11011 10011 01101 11011 11011 10011 10101 10010 01110 11111 11101 11011 01111 01101 10111 10111 10010 01110 10010 11000 01101 10010 11100 10010 10001 01100 11011 11100 11011 10001 11111 01110 11111 01111 10011 10010 11101 01111 11011 11011 01110 11011 01110 10001 11011 01111 10010 10101 10010 11011 01110 01101 11011 01110 11100 10111 01110 11010 01111 01100 01101 11111 10011 11100 10010 10011 01100 10011 11101 11111 11100 01100 11100 11011 11100 11011 10000 01100 11011 10001 10010 11100 01111 10111 11111 01110 01110 10010 11110 01111 11011 01101 10010 11100 10010 11011 10101 11100 10111 11111 11100 11011 01110 10001 01100 11011 01110 11100 11011 10011 11111 01100 10111 11100 11111 11100 10010 11000 10100 10111 10000 01100 11011 01111 10111 11100 10010 01100 10111 01100 11111 10101 11100 10111 10011 10010 01101 10111 11011 10011 11011 01110 10111 11100 11011 11111 10101 10010 10100 01100 11101 11000 10010 10000 01100 11011 10100 11011 11001 01100 01110 01101 11111 01110 11100 10111 10100 11011 10101 11111 10111 10011 01101 11011 10011 11101 10111 10010 10011 10000 01100 11011 01110 10111 11011 10011 01101 10010 10001 10010 01111 01101 10111 11011 01110 01101 11111 01110 10111 11011 10011 11100 10010 10010 11110 01100 10111 11111 01001 01110 01100 11010 10111 11101 10111 11011 10011 01101 11011\n"
     ]
    }
   ],
   "source": [
    "text_1 = text_1.replace(\"A\",\"1\")\n",
    "text_1 = text_1.replace(\"B\",\"0\")\n",
    "print(text_1)"
   ]
  },
  {
   "cell_type": "code",
   "execution_count": 9,
   "id": "3734eba7-d84b-477f-a12b-07c63a99089c",
   "metadata": {},
   "outputs": [
    {
     "name": "stdout",
     "output_type": "stream",
     "text": [
      "00111 01101 01010 00000 01110 10000 01000 01100 00010 01000 01110 00100 00011 00100 01010 00000 00010 01101 01010 01000 01100 00000 00000 00010 00000 10001 01101 00100 10001 10010 01101 00010 10011 00100 01100 10010 00000 00010 01101 01011 01101 01101 10010 10000 00000 00010 00000 10000 10010 00000 01100 01101 00100 10001 10010 01101 10110 10001 00100 00110 10011 10000 01101 01111 10011 01000 00100 10000 01101 01110 00100 01100 10001 00000 10000 01111 10011 00100 01100 01101 01110 01101 10000 01111 10011 00100 01011 01000 00100 01100 10010 10000 00000 10001 01010 00000 01110 10000 01000 01011 00100 10000 00000 01010 00000 01101 00001 10010 10011 10011 01000 10001 10010 00100 00010 01101 01100 10010 01101 00011 01101 00100 01010 00100 10001 00101 10011 00100 10000 10111 01101 00011 00100 10010 00100 01100 00100 10000 01111 10011 00100 00011 00100 10001 00011 01101 00001 01010 00000 10000 10011 01100 01110 00100 00011 00000 10111 01101 00011 00100 01110 00000 01110 00100 01010 10001 01000 00100 10001 10010 00000 10001 01010 00100 10110 00100 01100 00011 01101 00100 10001 10010 01101 10001 01000 00110 01100 01000 00101 01000 00010 00000 00011 00100 10011 00100 10000 00011 00000 00011 10010 01000 00100 01100 00100 10001 10010 00000 01010 00100 01100 10010 01101 01110 00000 10000 00000 10000 00100 10001 01101 01010 10011 00100 10000 10011 01100 00000 00010 00100 10000 10010 01000 01000 01101 10110 00000 10001 00100 10110 00000 10001 00100 01100 01101 00101 10011 00100 01011 10011 10110 00011 01000 00101 01000 00010 01000 01010 01110 00100 10000 01101 01100 10011 01100 00010 00000 01010 01101 00100 10001 00010 10011 00000 01100 00011 01101 01100 01101 00100 10001 10010 00000 10001 00001 10011 10001 00010 00000 01100 00011 01101 10000 00100 10001 01101 01010 10011 00100 10000 10011 01100 01101 00100 01100 00010 00000 01011 00001 01000 01101 00010 10011 00000 01100 00011 01101 10010 01000 00100 01100 00100 10001 01010 00000 01011 00100 01100 10010 00100 00100 01100 01010 01101 10001 00000 00010 00100 10000 10010 01000 01000 01101 10001 01101 00111 10010 01101 00011 01101 01110 10011 00100 00011 00100 01110 00000 10001 00000 10000 01100 01101 00010 10000 00100 00100 10001 00100 10001 01110 00100 10000 01101 01010 01101 00100 10001 10010 00100 10001 00011 01000 10001 00101 10000 10011 10010 00000 01100 00011 01101 01100 10011 01100 00010 00000 00011 10011 00011 00100 00011 00100 01111 10011 00100 01110 01101 00011 10000 01000 00000 10001 10001 01101 00001 10000 00100 10010 01101 00011 01101 00100 01010 00011 01000 00000 00011 00100 10001 01110 10011 00100 10001 00011 00100 01100 00000 10011 01000 00011 00000 00011 01101 00111 01011 01000 01111 10011 00100 10000 01000 00011 01101 10011 01000 10011 00000 01010 00011 01000 01100 01101 10010 01000 00100 01100 00100 10001 01000 00011 00100 00000 01010 01101 01011 10011 00010 00111 01101 01111 10011 00100 01011 00100 00110 10011 10001 10010 00000 10001 00011 01000 01011 00100 01010 00000 01000 01100 10010 00100 01100 00010 01000 01101 01100 01111 10011 00100 10001 01000 00100 01100 10010 01101 01110 01101 10000 10010 01000 00100 10001 10010 00000 10001 01000 00100 01100 00011 01101 01101 00001 10011 01000 00000 10110 10001 10011 00101 01000 00010 01000 00100 01100 10010 00100\n"
     ]
    }
   ],
   "source": [
    "text_2 = text_2.replace(\"A\",\"0\")\n",
    "text_2 = text_2.replace(\"B\",\"1\")\n",
    "print(text_2)"
   ]
  },
  {
   "cell_type": "code",
   "execution_count": 10,
   "id": "401a594d-7961-497f-b037-f037fe3a748a",
   "metadata": {},
   "outputs": [
    {
     "ename": "AttributeError",
     "evalue": "'str' object has no attribute 'decode'",
     "output_type": "error",
     "traceback": [
      "\u001b[0;31m---------------------------------------------------------------------------\u001b[0m",
      "\u001b[0;31mAttributeError\u001b[0m                            Traceback (most recent call last)",
      "\u001b[0;32m<ipython-input-10-e71c6935a6a1>\u001b[0m in \u001b[0;36m<module>\u001b[0;34m\u001b[0m\n\u001b[0;32m----> 1\u001b[0;31m \u001b[0mtext_2\u001b[0m\u001b[0;34m.\u001b[0m\u001b[0mdecode\u001b[0m\u001b[0;34m(\u001b[0m\u001b[0mencoding\u001b[0m\u001b[0;34m=\u001b[0m\u001b[0;34m'utf-8'\u001b[0m\u001b[0;34m,\u001b[0m \u001b[0merrors\u001b[0m\u001b[0;34m=\u001b[0m\u001b[0;34m'strict'\u001b[0m\u001b[0;34m)\u001b[0m\u001b[0;34m\u001b[0m\u001b[0;34m\u001b[0m\u001b[0m\n\u001b[0m",
      "\u001b[0;31mAttributeError\u001b[0m: 'str' object has no attribute 'decode'"
     ]
    }
   ],
   "source": [
    "text_2.decode(encoding='utf-8', errors='strict')"
   ]
  },
  {
   "cell_type": "code",
   "execution_count": 5,
   "id": "91fc6d6b-963a-4859-b513-9d97783ca3da",
   "metadata": {},
   "outputs": [],
   "source": [
    "# data\n",
    "Student = {\n",
    "    'Name': ['John', 'Jay', 'sachin', 'Geetha', 'Amutha', 'ganesh'],\n",
    "    'gender': ['male', 'male', 'male', 'female', 'female', 'male'],\n",
    "    'math score': [50, 100, 70, 80, 75, 40],\n",
    "    'test preparation': ['none', 'completed', 'none', 'completed',\n",
    "                         'completed', 'none'],\n",
    "}\n",
    "  \n",
    "# creating a Dataframe object\n",
    "df = pd.DataFrame(Student)"
   ]
  },
  {
   "cell_type": "code",
   "execution_count": 6,
   "id": "aeb84a78-4fee-4fbe-a184-20a122e28486",
   "metadata": {},
   "outputs": [
    {
     "data": {
      "text/html": [
       "<div>\n",
       "<style scoped>\n",
       "    .dataframe tbody tr th:only-of-type {\n",
       "        vertical-align: middle;\n",
       "    }\n",
       "\n",
       "    .dataframe tbody tr th {\n",
       "        vertical-align: top;\n",
       "    }\n",
       "\n",
       "    .dataframe thead th {\n",
       "        text-align: right;\n",
       "    }\n",
       "</style>\n",
       "<table border=\"1\" class=\"dataframe\">\n",
       "  <thead>\n",
       "    <tr style=\"text-align: right;\">\n",
       "      <th></th>\n",
       "      <th>Name</th>\n",
       "      <th>gender</th>\n",
       "      <th>math score</th>\n",
       "      <th>test preparation</th>\n",
       "    </tr>\n",
       "  </thead>\n",
       "  <tbody>\n",
       "    <tr>\n",
       "      <th>0</th>\n",
       "      <td>John</td>\n",
       "      <td>male</td>\n",
       "      <td>50</td>\n",
       "      <td>none</td>\n",
       "    </tr>\n",
       "    <tr>\n",
       "      <th>1</th>\n",
       "      <td>Jay</td>\n",
       "      <td>male</td>\n",
       "      <td>100</td>\n",
       "      <td>completed</td>\n",
       "    </tr>\n",
       "    <tr>\n",
       "      <th>2</th>\n",
       "      <td>sachin</td>\n",
       "      <td>male</td>\n",
       "      <td>70</td>\n",
       "      <td>none</td>\n",
       "    </tr>\n",
       "    <tr>\n",
       "      <th>3</th>\n",
       "      <td>Geetha</td>\n",
       "      <td>female</td>\n",
       "      <td>80</td>\n",
       "      <td>completed</td>\n",
       "    </tr>\n",
       "    <tr>\n",
       "      <th>4</th>\n",
       "      <td>Amutha</td>\n",
       "      <td>female</td>\n",
       "      <td>75</td>\n",
       "      <td>completed</td>\n",
       "    </tr>\n",
       "    <tr>\n",
       "      <th>5</th>\n",
       "      <td>ganesh</td>\n",
       "      <td>male</td>\n",
       "      <td>40</td>\n",
       "      <td>none</td>\n",
       "    </tr>\n",
       "  </tbody>\n",
       "</table>\n",
       "</div>"
      ],
      "text/plain": [
       "     Name  gender  math score test preparation\n",
       "0    John    male          50             none\n",
       "1     Jay    male         100        completed\n",
       "2  sachin    male          70             none\n",
       "3  Geetha  female          80        completed\n",
       "4  Amutha  female          75        completed\n",
       "5  ganesh    male          40             none"
      ]
     },
     "execution_count": 6,
     "metadata": {},
     "output_type": "execute_result"
    }
   ],
   "source": [
    "df"
   ]
  },
  {
   "cell_type": "code",
   "execution_count": 7,
   "id": "64ae99ab-0e0d-43b8-90aa-4e517334829f",
   "metadata": {},
   "outputs": [],
   "source": [
    "# Applying the condition\n",
    "df.loc[df[\"gender\"] == \"male\", \"gender\"] = 1"
   ]
  },
  {
   "cell_type": "code",
   "execution_count": 9,
   "id": "10db17e6-0f5b-4228-b65b-a3a0a4c9ce09",
   "metadata": {},
   "outputs": [
    {
     "data": {
      "text/html": [
       "<div>\n",
       "<style scoped>\n",
       "    .dataframe tbody tr th:only-of-type {\n",
       "        vertical-align: middle;\n",
       "    }\n",
       "\n",
       "    .dataframe tbody tr th {\n",
       "        vertical-align: top;\n",
       "    }\n",
       "\n",
       "    .dataframe thead th {\n",
       "        text-align: right;\n",
       "    }\n",
       "</style>\n",
       "<table border=\"1\" class=\"dataframe\">\n",
       "  <thead>\n",
       "    <tr style=\"text-align: right;\">\n",
       "      <th></th>\n",
       "      <th>Name</th>\n",
       "      <th>gender</th>\n",
       "      <th>math score</th>\n",
       "      <th>test preparation</th>\n",
       "    </tr>\n",
       "  </thead>\n",
       "  <tbody>\n",
       "    <tr>\n",
       "      <th>0</th>\n",
       "      <td>John</td>\n",
       "      <td>1</td>\n",
       "      <td>50</td>\n",
       "      <td>none</td>\n",
       "    </tr>\n",
       "    <tr>\n",
       "      <th>1</th>\n",
       "      <td>Jay</td>\n",
       "      <td>1</td>\n",
       "      <td>100</td>\n",
       "      <td>completed</td>\n",
       "    </tr>\n",
       "    <tr>\n",
       "      <th>2</th>\n",
       "      <td>sachin</td>\n",
       "      <td>1</td>\n",
       "      <td>70</td>\n",
       "      <td>none</td>\n",
       "    </tr>\n",
       "    <tr>\n",
       "      <th>3</th>\n",
       "      <td>Geetha</td>\n",
       "      <td>female</td>\n",
       "      <td>80</td>\n",
       "      <td>completed</td>\n",
       "    </tr>\n",
       "    <tr>\n",
       "      <th>4</th>\n",
       "      <td>Amutha</td>\n",
       "      <td>female</td>\n",
       "      <td>75</td>\n",
       "      <td>completed</td>\n",
       "    </tr>\n",
       "  </tbody>\n",
       "</table>\n",
       "</div>"
      ],
      "text/plain": [
       "     Name  gender  math score test preparation\n",
       "0    John       1          50             none\n",
       "1     Jay       1         100        completed\n",
       "2  sachin       1          70             none\n",
       "3  Geetha  female          80        completed\n",
       "4  Amutha  female          75        completed"
      ]
     },
     "execution_count": 9,
     "metadata": {},
     "output_type": "execute_result"
    }
   ],
   "source": [
    "df.head()"
   ]
  },
  {
   "cell_type": "code",
   "execution_count": 1,
   "id": "3fb32a5c-7c29-402a-8096-a264dbaf91ae",
   "metadata": {},
   "outputs": [
    {
     "ename": "IndexError",
     "evalue": "single positional indexer is out-of-bounds",
     "output_type": "error",
     "traceback": [
      "\u001b[0;31m---------------------------------------------------------------------------\u001b[0m",
      "\u001b[0;31mIndexError\u001b[0m                                Traceback (most recent call last)",
      "\u001b[0;32m<ipython-input-1-da67fc60256d>\u001b[0m in \u001b[0;36m<module>\u001b[0;34m\u001b[0m\n\u001b[1;32m     11\u001b[0m \u001b[0;32mfor\u001b[0m \u001b[0mplayer\u001b[0m \u001b[0;32min\u001b[0m \u001b[0mpanel_data\u001b[0m\u001b[0;34m[\u001b[0m\u001b[0;34m'Player'\u001b[0m\u001b[0;34m]\u001b[0m\u001b[0;34m.\u001b[0m\u001b[0munique\u001b[0m\u001b[0;34m(\u001b[0m\u001b[0;34m)\u001b[0m\u001b[0;34m:\u001b[0m\u001b[0;34m\u001b[0m\u001b[0;34m\u001b[0m\u001b[0m\n\u001b[1;32m     12\u001b[0m     \u001b[0mplayer_data\u001b[0m \u001b[0;34m=\u001b[0m \u001b[0mpanel_data\u001b[0m\u001b[0;34m[\u001b[0m\u001b[0mpanel_data\u001b[0m\u001b[0;34m[\u001b[0m\u001b[0;34m'Player'\u001b[0m\u001b[0;34m]\u001b[0m \u001b[0;34m==\u001b[0m \u001b[0mplayer\u001b[0m\u001b[0;34m]\u001b[0m\u001b[0;34m\u001b[0m\u001b[0;34m\u001b[0m\u001b[0m\n\u001b[0;32m---> 13\u001b[0;31m     \u001b[0mfirst_non_nan\u001b[0m \u001b[0;34m=\u001b[0m \u001b[0mplayer_data\u001b[0m\u001b[0;34m[\u001b[0m\u001b[0;34m'Position'\u001b[0m\u001b[0;34m]\u001b[0m\u001b[0;34m.\u001b[0m\u001b[0mdropna\u001b[0m\u001b[0;34m(\u001b[0m\u001b[0;34m)\u001b[0m\u001b[0;34m.\u001b[0m\u001b[0miloc\u001b[0m\u001b[0;34m[\u001b[0m\u001b[0;36m0\u001b[0m\u001b[0;34m]\u001b[0m\u001b[0;34m\u001b[0m\u001b[0;34m\u001b[0m\u001b[0m\n\u001b[0m\u001b[1;32m     14\u001b[0m     \u001b[0mlast_non_nan\u001b[0m \u001b[0;34m=\u001b[0m \u001b[0mplayer_data\u001b[0m\u001b[0;34m[\u001b[0m\u001b[0;34m'Position'\u001b[0m\u001b[0;34m]\u001b[0m\u001b[0;34m.\u001b[0m\u001b[0mdropna\u001b[0m\u001b[0;34m(\u001b[0m\u001b[0;34m)\u001b[0m\u001b[0;34m.\u001b[0m\u001b[0miloc\u001b[0m\u001b[0;34m[\u001b[0m\u001b[0;34m-\u001b[0m\u001b[0;36m1\u001b[0m\u001b[0;34m]\u001b[0m\u001b[0;34m\u001b[0m\u001b[0;34m\u001b[0m\u001b[0m\n\u001b[1;32m     15\u001b[0m     panel_data.loc[panel_data['Player'] == player, 'Position'] = (\n",
      "\u001b[0;32m~/anaconda3/lib/python3.8/site-packages/pandas/core/indexing.py\u001b[0m in \u001b[0;36m__getitem__\u001b[0;34m(self, key)\u001b[0m\n\u001b[1;32m    893\u001b[0m \u001b[0;34m\u001b[0m\u001b[0m\n\u001b[1;32m    894\u001b[0m             \u001b[0mmaybe_callable\u001b[0m \u001b[0;34m=\u001b[0m \u001b[0mcom\u001b[0m\u001b[0;34m.\u001b[0m\u001b[0mapply_if_callable\u001b[0m\u001b[0;34m(\u001b[0m\u001b[0mkey\u001b[0m\u001b[0;34m,\u001b[0m \u001b[0mself\u001b[0m\u001b[0;34m.\u001b[0m\u001b[0mobj\u001b[0m\u001b[0;34m)\u001b[0m\u001b[0;34m\u001b[0m\u001b[0;34m\u001b[0m\u001b[0m\n\u001b[0;32m--> 895\u001b[0;31m             \u001b[0;32mreturn\u001b[0m \u001b[0mself\u001b[0m\u001b[0;34m.\u001b[0m\u001b[0m_getitem_axis\u001b[0m\u001b[0;34m(\u001b[0m\u001b[0mmaybe_callable\u001b[0m\u001b[0;34m,\u001b[0m \u001b[0maxis\u001b[0m\u001b[0;34m=\u001b[0m\u001b[0maxis\u001b[0m\u001b[0;34m)\u001b[0m\u001b[0;34m\u001b[0m\u001b[0;34m\u001b[0m\u001b[0m\n\u001b[0m\u001b[1;32m    896\u001b[0m \u001b[0;34m\u001b[0m\u001b[0m\n\u001b[1;32m    897\u001b[0m     \u001b[0;32mdef\u001b[0m \u001b[0m_is_scalar_access\u001b[0m\u001b[0;34m(\u001b[0m\u001b[0mself\u001b[0m\u001b[0;34m,\u001b[0m \u001b[0mkey\u001b[0m\u001b[0;34m:\u001b[0m \u001b[0mTuple\u001b[0m\u001b[0;34m)\u001b[0m\u001b[0;34m:\u001b[0m\u001b[0;34m\u001b[0m\u001b[0;34m\u001b[0m\u001b[0m\n",
      "\u001b[0;32m~/anaconda3/lib/python3.8/site-packages/pandas/core/indexing.py\u001b[0m in \u001b[0;36m_getitem_axis\u001b[0;34m(self, key, axis)\u001b[0m\n\u001b[1;32m   1499\u001b[0m \u001b[0;34m\u001b[0m\u001b[0m\n\u001b[1;32m   1500\u001b[0m             \u001b[0;31m# validate the location\u001b[0m\u001b[0;34m\u001b[0m\u001b[0;34m\u001b[0m\u001b[0;34m\u001b[0m\u001b[0m\n\u001b[0;32m-> 1501\u001b[0;31m             \u001b[0mself\u001b[0m\u001b[0;34m.\u001b[0m\u001b[0m_validate_integer\u001b[0m\u001b[0;34m(\u001b[0m\u001b[0mkey\u001b[0m\u001b[0;34m,\u001b[0m \u001b[0maxis\u001b[0m\u001b[0;34m)\u001b[0m\u001b[0;34m\u001b[0m\u001b[0;34m\u001b[0m\u001b[0m\n\u001b[0m\u001b[1;32m   1502\u001b[0m \u001b[0;34m\u001b[0m\u001b[0m\n\u001b[1;32m   1503\u001b[0m             \u001b[0;32mreturn\u001b[0m \u001b[0mself\u001b[0m\u001b[0;34m.\u001b[0m\u001b[0mobj\u001b[0m\u001b[0;34m.\u001b[0m\u001b[0m_ixs\u001b[0m\u001b[0;34m(\u001b[0m\u001b[0mkey\u001b[0m\u001b[0;34m,\u001b[0m \u001b[0maxis\u001b[0m\u001b[0;34m=\u001b[0m\u001b[0maxis\u001b[0m\u001b[0;34m)\u001b[0m\u001b[0;34m\u001b[0m\u001b[0;34m\u001b[0m\u001b[0m\n",
      "\u001b[0;32m~/anaconda3/lib/python3.8/site-packages/pandas/core/indexing.py\u001b[0m in \u001b[0;36m_validate_integer\u001b[0;34m(self, key, axis)\u001b[0m\n\u001b[1;32m   1442\u001b[0m         \u001b[0mlen_axis\u001b[0m \u001b[0;34m=\u001b[0m \u001b[0mlen\u001b[0m\u001b[0;34m(\u001b[0m\u001b[0mself\u001b[0m\u001b[0;34m.\u001b[0m\u001b[0mobj\u001b[0m\u001b[0;34m.\u001b[0m\u001b[0m_get_axis\u001b[0m\u001b[0;34m(\u001b[0m\u001b[0maxis\u001b[0m\u001b[0;34m)\u001b[0m\u001b[0;34m)\u001b[0m\u001b[0;34m\u001b[0m\u001b[0;34m\u001b[0m\u001b[0m\n\u001b[1;32m   1443\u001b[0m         \u001b[0;32mif\u001b[0m \u001b[0mkey\u001b[0m \u001b[0;34m>=\u001b[0m \u001b[0mlen_axis\u001b[0m \u001b[0;32mor\u001b[0m \u001b[0mkey\u001b[0m \u001b[0;34m<\u001b[0m \u001b[0;34m-\u001b[0m\u001b[0mlen_axis\u001b[0m\u001b[0;34m:\u001b[0m\u001b[0;34m\u001b[0m\u001b[0;34m\u001b[0m\u001b[0m\n\u001b[0;32m-> 1444\u001b[0;31m             \u001b[0;32mraise\u001b[0m \u001b[0mIndexError\u001b[0m\u001b[0;34m(\u001b[0m\u001b[0;34m\"single positional indexer is out-of-bounds\"\u001b[0m\u001b[0;34m)\u001b[0m\u001b[0;34m\u001b[0m\u001b[0;34m\u001b[0m\u001b[0m\n\u001b[0m\u001b[1;32m   1445\u001b[0m \u001b[0;34m\u001b[0m\u001b[0m\n\u001b[1;32m   1446\u001b[0m     \u001b[0;31m# -------------------------------------------------------------------\u001b[0m\u001b[0;34m\u001b[0m\u001b[0;34m\u001b[0m\u001b[0;34m\u001b[0m\u001b[0m\n",
      "\u001b[0;31mIndexError\u001b[0m: single positional indexer is out-of-bounds"
     ]
    }
   ],
   "source": [
    "import pandas as pd\n",
    "\n",
    "# Example panel data with player names, years, and positions\n",
    "panel_data = pd.DataFrame({\n",
    "    'Player': ['Alice', 'Bob', 'Charlie', 'Alice', 'Bob', 'Charlie'],\n",
    "    'Year': [2011, 2011, 2011, 2012, 2012, 2012],\n",
    "    'Position': ['F', 'G', pd.NA, pd.NA, 'F', pd.NA]\n",
    "})\n",
    "\n",
    "# Fill in NaN values for each player\n",
    "for player in panel_data['Player'].unique():\n",
    "    player_data = panel_data[panel_data['Player'] == player]\n",
    "    first_non_nan = player_data['Position'].dropna().iloc[0]\n",
    "    last_non_nan = player_data['Position'].dropna().iloc[-1]\n",
    "    panel_data.loc[panel_data['Player'] == player, 'Position'] = (\n",
    "        panel_data.loc[panel_data['Player'] == player, 'Position']\n",
    "        .fillna(method='ffill')\n",
    "        .fillna(method='bfill')\n",
    "    )\n",
    "    panel_data.loc[\n",
    "        (panel_data['Player'] == player) & (panel_data['Year'] <= 2011),\n",
    "        'Position'\n",
    "    ] = first_non_nan\n",
    "    panel_data.loc[\n",
    "        (panel_data['Player'] == player) & (panel_data['Year'] > 2011),\n",
    "        'Position'\n",
    "    ] = last_non_nan\n",
    "\n",
    "print(panel_data)\n"
   ]
  },
  {
   "cell_type": "code",
   "execution_count": 2,
   "id": "e95a8350-edca-4404-8f96-0d1d23f775d7",
   "metadata": {},
   "outputs": [
    {
     "name": "stdout",
     "output_type": "stream",
     "text": [
      "   player  year    position\n",
      "0    John  2011     Forward\n",
      "1    John  2012     Defense\n",
      "2    John  2013     Defense\n",
      "3    John  2014     Defense\n",
      "4    John  2015     Defense\n",
      "5    John  2016     Defense\n",
      "6    Alex  2011  Goalkeeper\n",
      "7    Alex  2012     Forward\n",
      "8    Alex  2013     Forward\n",
      "9    Alex  2014     Forward\n",
      "10   Alex  2015     Forward\n",
      "11   Alex  2016     Forward\n"
     ]
    }
   ],
   "source": [
    "import pandas as pd\n",
    "import numpy as np\n",
    "\n",
    "# Create example data\n",
    "data = {'player': ['John', 'John', 'John', 'John', 'John', 'John', 'Alex', 'Alex', 'Alex', 'Alex', 'Alex', 'Alex'],\n",
    "        'year': [2011, 2012, 2013, 2014, 2015, 2016, 2011, 2012, 2013, 2014, 2015, 2016],\n",
    "        'position': [np.nan, np.nan, 'Forward', np.nan, 'Defense', 'Defense', 'Goalkeeper', np.nan, np.nan, 'Forward', 'Forward', 'Forward']}\n",
    "\n",
    "df = pd.DataFrame(data)\n",
    "\n",
    "# Fill positions for players with NaN values in 2011 or earlier\n",
    "for player in df['player'].unique():\n",
    "    player_df = df[df['player'] == player]\n",
    "    if player_df['position'].isna().any():\n",
    "        first_position = player_df['position'].dropna().iloc[0]\n",
    "        df.loc[(df['player'] == player) & (df['year'] <= 2011), 'position'] = first_position\n",
    "\n",
    "# Fill positions for players with NaN values after 2011\n",
    "for player in df['player'].unique():\n",
    "    player_df = df[df['player'] == player]\n",
    "    if player_df['position'].isna().any():\n",
    "        last_position = player_df['position'].dropna().iloc[-1]\n",
    "        df.loc[(df['player'] == player) & (df['year'] > 2011), 'position'] = last_position\n",
    "\n",
    "print(df)\n"
   ]
  },
  {
   "cell_type": "code",
   "execution_count": 4,
   "id": "cf4382c1-dcf5-409f-9a02-aa2254d3d0b7",
   "metadata": {},
   "outputs": [
    {
     "ename": "NameError",
     "evalue": "name 'idx_start' is not defined",
     "output_type": "error",
     "traceback": [
      "\u001b[0;31m---------------------------------------------------------------------------\u001b[0m",
      "\u001b[0;31mNameError\u001b[0m                                 Traceback (most recent call last)",
      "\u001b[0;32m<ipython-input-4-df179073ced4>\u001b[0m in \u001b[0;36m<module>\u001b[0;34m\u001b[0m\n\u001b[1;32m      8\u001b[0m \u001b[0mdf\u001b[0m \u001b[0;34m=\u001b[0m \u001b[0mpd\u001b[0m\u001b[0;34m.\u001b[0m\u001b[0mDataFrame\u001b[0m\u001b[0;34m(\u001b[0m\u001b[0mdata\u001b[0m\u001b[0;34m)\u001b[0m\u001b[0;34m\u001b[0m\u001b[0;34m\u001b[0m\u001b[0m\n\u001b[1;32m      9\u001b[0m \u001b[0;34m\u001b[0m\u001b[0m\n\u001b[0;32m---> 10\u001b[0;31m \u001b[0;32mfor\u001b[0m \u001b[0mi\u001b[0m \u001b[0;32min\u001b[0m \u001b[0mrange\u001b[0m\u001b[0;34m(\u001b[0m\u001b[0midx_start\u001b[0m\u001b[0;34m+\u001b[0m\u001b[0;36m1\u001b[0m\u001b[0;34m,\u001b[0m \u001b[0mlen\u001b[0m\u001b[0;34m(\u001b[0m\u001b[0mdf\u001b[0m\u001b[0;34m)\u001b[0m\u001b[0;34m-\u001b[0m\u001b[0;36m1\u001b[0m\u001b[0;34m)\u001b[0m\u001b[0;34m:\u001b[0m\u001b[0;34m\u001b[0m\u001b[0;34m\u001b[0m\u001b[0m\n\u001b[0m\u001b[1;32m     11\u001b[0m     \u001b[0;32mif\u001b[0m \u001b[0mpd\u001b[0m\u001b[0;34m.\u001b[0m\u001b[0misna\u001b[0m\u001b[0;34m(\u001b[0m\u001b[0mdf\u001b[0m\u001b[0;34m.\u001b[0m\u001b[0mloc\u001b[0m\u001b[0;34m[\u001b[0m\u001b[0mi\u001b[0m\u001b[0;34m,\u001b[0m \u001b[0;34m'position'\u001b[0m\u001b[0;34m]\u001b[0m\u001b[0;34m)\u001b[0m\u001b[0;34m:\u001b[0m\u001b[0;34m\u001b[0m\u001b[0;34m\u001b[0m\u001b[0m\n\u001b[1;32m     12\u001b[0m         \u001b[0mdf\u001b[0m\u001b[0;34m.\u001b[0m\u001b[0mloc\u001b[0m\u001b[0;34m[\u001b[0m\u001b[0mi\u001b[0m\u001b[0;34m,\u001b[0m \u001b[0;34m'position'\u001b[0m\u001b[0;34m]\u001b[0m \u001b[0;34m=\u001b[0m \u001b[0mdf\u001b[0m\u001b[0;34m.\u001b[0m\u001b[0mloc\u001b[0m\u001b[0;34m[\u001b[0m\u001b[0mi\u001b[0m\u001b[0;34m-\u001b[0m\u001b[0;36m1\u001b[0m\u001b[0;34m,\u001b[0m \u001b[0;34m'position'\u001b[0m\u001b[0;34m]\u001b[0m\u001b[0;34m\u001b[0m\u001b[0;34m\u001b[0m\u001b[0m\n",
      "\u001b[0;31mNameError\u001b[0m: name 'idx_start' is not defined"
     ]
    }
   ],
   "source": [
    "import pandas as pd\n",
    "import numpy as np\n",
    "\n",
    "# Example data\n",
    "data = {'Player': ['John', 'John', 'John', 'John', 'Sarah', 'Sarah', 'Sarah', 'Alice', 'Alice'],\n",
    "        'Year': [2011, 2012, 2013, 2014, 2011, 2012, 2013, 2011, 2012],\n",
    "        'Position': [np.nan, 'forward', np.nan, np.nan, 'goalie', 'defense', np.nan, np.nan, np.nan]}\n",
    "df = pd.DataFrame(data)\n",
    "\n",
    "for i in range(idx_start+1, len(df)-1):\n",
    "    if pd.isna(df.loc[i, 'position']):\n",
    "        df.loc[i, 'position'] = df.loc[i-1, 'position']\n",
    "    # Find the first non-NaN position for the player\n",
    "    first_position = df.loc[(df['Player'] == player) & (df['Position'].notna()), 'Position'].iloc[0]\n",
    "    # Forward fill for the player\n",
    "    df.loc[df['Player'] == player, 'Position'] = df.loc[df['Player'] == player, 'Position'].fillna(method='ffill')\n",
    "    # Fill NaNs after 2011 with the last non-NaN position\n",
    "    last_position = df.loc[(df['Player'] == player) & (df['Year'] <= 2011) & (df['Position'].notna()), 'Position'].iloc[-1]\n",
    "    df.loc[(df['Player'] == player) & (df['Year'] > 2011) & (df['Position'].isna()), 'Position'] = last_position\n",
    "    # Fill NaNs in 2011 and 2012 with the first non-NaN position\n",
    "    df.loc[(df['Player'] == player) & (df['Year'] <= 2012) & (df['Position'].isna()), 'Position'] = first_position\n",
    "\n",
    "print(df)\n"
   ]
  },
  {
   "cell_type": "code",
   "execution_count": 6,
   "id": "62bddd0f-aa87-4532-be4c-b8df0a69e289",
   "metadata": {},
   "outputs": [
    {
     "ename": "KeyError",
     "evalue": "'John'",
     "output_type": "error",
     "traceback": [
      "\u001b[0;31m---------------------------------------------------------------------------\u001b[0m",
      "\u001b[0;31mKeyError\u001b[0m                                  Traceback (most recent call last)",
      "\u001b[0;32m<ipython-input-6-d745de183cff>\u001b[0m in \u001b[0;36m<module>\u001b[0;34m\u001b[0m\n\u001b[1;32m      9\u001b[0m \u001b[0;31m# Set initial position for each player to first non-NaN position in data\u001b[0m\u001b[0;34m\u001b[0m\u001b[0;34m\u001b[0m\u001b[0;34m\u001b[0m\u001b[0m\n\u001b[1;32m     10\u001b[0m \u001b[0minitial_positions\u001b[0m \u001b[0;34m=\u001b[0m \u001b[0mdata\u001b[0m\u001b[0;34m.\u001b[0m\u001b[0mgroupby\u001b[0m\u001b[0;34m(\u001b[0m\u001b[0;34m'player'\u001b[0m\u001b[0;34m)\u001b[0m\u001b[0;34m[\u001b[0m\u001b[0;34m'position'\u001b[0m\u001b[0;34m]\u001b[0m\u001b[0;34m.\u001b[0m\u001b[0mtransform\u001b[0m\u001b[0;34m(\u001b[0m\u001b[0;32mlambda\u001b[0m \u001b[0mx\u001b[0m\u001b[0;34m:\u001b[0m \u001b[0mx\u001b[0m\u001b[0;34m.\u001b[0m\u001b[0mfirst_valid_index\u001b[0m\u001b[0;34m(\u001b[0m\u001b[0;34m)\u001b[0m\u001b[0;34m)\u001b[0m\u001b[0;34m\u001b[0m\u001b[0;34m\u001b[0m\u001b[0m\n\u001b[0;32m---> 11\u001b[0;31m \u001b[0mdata\u001b[0m\u001b[0;34m.\u001b[0m\u001b[0mloc\u001b[0m\u001b[0;34m[\u001b[0m\u001b[0;34m~\u001b[0m\u001b[0mdata\u001b[0m\u001b[0;34m[\u001b[0m\u001b[0;34m'position'\u001b[0m\u001b[0;34m]\u001b[0m\u001b[0;34m.\u001b[0m\u001b[0mnotnull\u001b[0m\u001b[0;34m(\u001b[0m\u001b[0;34m)\u001b[0m\u001b[0;34m,\u001b[0m \u001b[0;34m'position'\u001b[0m\u001b[0;34m]\u001b[0m \u001b[0;34m=\u001b[0m \u001b[0mdata\u001b[0m\u001b[0;34m.\u001b[0m\u001b[0mloc\u001b[0m\u001b[0;34m[\u001b[0m\u001b[0;34m~\u001b[0m\u001b[0mdata\u001b[0m\u001b[0;34m[\u001b[0m\u001b[0;34m'position'\u001b[0m\u001b[0;34m]\u001b[0m\u001b[0;34m.\u001b[0m\u001b[0mnotnull\u001b[0m\u001b[0;34m(\u001b[0m\u001b[0;34m)\u001b[0m\u001b[0;34m]\u001b[0m\u001b[0;34m.\u001b[0m\u001b[0mapply\u001b[0m\u001b[0;34m(\u001b[0m\u001b[0;32mlambda\u001b[0m \u001b[0mrow\u001b[0m\u001b[0;34m:\u001b[0m \u001b[0mrow\u001b[0m\u001b[0;34m[\u001b[0m\u001b[0;34m'position'\u001b[0m\u001b[0;34m]\u001b[0m \u001b[0;32mif\u001b[0m \u001b[0mrow\u001b[0m\u001b[0;34m[\u001b[0m\u001b[0;34m'year'\u001b[0m\u001b[0;34m]\u001b[0m \u001b[0;34m<=\u001b[0m \u001b[0minitial_positions\u001b[0m\u001b[0;34m[\u001b[0m\u001b[0mrow\u001b[0m\u001b[0;34m[\u001b[0m\u001b[0;34m'player'\u001b[0m\u001b[0;34m]\u001b[0m\u001b[0;34m]\u001b[0m \u001b[0;32melse\u001b[0m \u001b[0mnp\u001b[0m\u001b[0;34m.\u001b[0m\u001b[0mnan\u001b[0m\u001b[0;34m,\u001b[0m \u001b[0maxis\u001b[0m\u001b[0;34m=\u001b[0m\u001b[0;36m1\u001b[0m\u001b[0;34m)\u001b[0m\u001b[0;34m\u001b[0m\u001b[0;34m\u001b[0m\u001b[0m\n\u001b[0m\u001b[1;32m     12\u001b[0m \u001b[0;34m\u001b[0m\u001b[0m\n\u001b[1;32m     13\u001b[0m \u001b[0;31m# Fill forward NaN values with the first non-NaN forward position\u001b[0m\u001b[0;34m\u001b[0m\u001b[0;34m\u001b[0m\u001b[0;34m\u001b[0m\u001b[0m\n",
      "\u001b[0;32m~/anaconda3/lib/python3.8/site-packages/pandas/core/frame.py\u001b[0m in \u001b[0;36mapply\u001b[0;34m(self, func, axis, raw, result_type, args, **kwds)\u001b[0m\n\u001b[1;32m   7766\u001b[0m             \u001b[0mkwds\u001b[0m\u001b[0;34m=\u001b[0m\u001b[0mkwds\u001b[0m\u001b[0;34m,\u001b[0m\u001b[0;34m\u001b[0m\u001b[0;34m\u001b[0m\u001b[0m\n\u001b[1;32m   7767\u001b[0m         )\n\u001b[0;32m-> 7768\u001b[0;31m         \u001b[0;32mreturn\u001b[0m \u001b[0mop\u001b[0m\u001b[0;34m.\u001b[0m\u001b[0mget_result\u001b[0m\u001b[0;34m(\u001b[0m\u001b[0;34m)\u001b[0m\u001b[0;34m\u001b[0m\u001b[0;34m\u001b[0m\u001b[0m\n\u001b[0m\u001b[1;32m   7769\u001b[0m \u001b[0;34m\u001b[0m\u001b[0m\n\u001b[1;32m   7770\u001b[0m     \u001b[0;32mdef\u001b[0m \u001b[0mapplymap\u001b[0m\u001b[0;34m(\u001b[0m\u001b[0mself\u001b[0m\u001b[0;34m,\u001b[0m \u001b[0mfunc\u001b[0m\u001b[0;34m,\u001b[0m \u001b[0mna_action\u001b[0m\u001b[0;34m:\u001b[0m \u001b[0mOptional\u001b[0m\u001b[0;34m[\u001b[0m\u001b[0mstr\u001b[0m\u001b[0;34m]\u001b[0m \u001b[0;34m=\u001b[0m \u001b[0;32mNone\u001b[0m\u001b[0;34m)\u001b[0m \u001b[0;34m->\u001b[0m \u001b[0mDataFrame\u001b[0m\u001b[0;34m:\u001b[0m\u001b[0;34m\u001b[0m\u001b[0;34m\u001b[0m\u001b[0m\n",
      "\u001b[0;32m~/anaconda3/lib/python3.8/site-packages/pandas/core/apply.py\u001b[0m in \u001b[0;36mget_result\u001b[0;34m(self)\u001b[0m\n\u001b[1;32m    183\u001b[0m             \u001b[0;32mreturn\u001b[0m \u001b[0mself\u001b[0m\u001b[0;34m.\u001b[0m\u001b[0mapply_raw\u001b[0m\u001b[0;34m(\u001b[0m\u001b[0;34m)\u001b[0m\u001b[0;34m\u001b[0m\u001b[0;34m\u001b[0m\u001b[0m\n\u001b[1;32m    184\u001b[0m \u001b[0;34m\u001b[0m\u001b[0m\n\u001b[0;32m--> 185\u001b[0;31m         \u001b[0;32mreturn\u001b[0m \u001b[0mself\u001b[0m\u001b[0;34m.\u001b[0m\u001b[0mapply_standard\u001b[0m\u001b[0;34m(\u001b[0m\u001b[0;34m)\u001b[0m\u001b[0;34m\u001b[0m\u001b[0;34m\u001b[0m\u001b[0m\n\u001b[0m\u001b[1;32m    186\u001b[0m \u001b[0;34m\u001b[0m\u001b[0m\n\u001b[1;32m    187\u001b[0m     \u001b[0;32mdef\u001b[0m \u001b[0mapply_empty_result\u001b[0m\u001b[0;34m(\u001b[0m\u001b[0mself\u001b[0m\u001b[0;34m)\u001b[0m\u001b[0;34m:\u001b[0m\u001b[0;34m\u001b[0m\u001b[0;34m\u001b[0m\u001b[0m\n",
      "\u001b[0;32m~/anaconda3/lib/python3.8/site-packages/pandas/core/apply.py\u001b[0m in \u001b[0;36mapply_standard\u001b[0;34m(self)\u001b[0m\n\u001b[1;32m    274\u001b[0m \u001b[0;34m\u001b[0m\u001b[0m\n\u001b[1;32m    275\u001b[0m     \u001b[0;32mdef\u001b[0m \u001b[0mapply_standard\u001b[0m\u001b[0;34m(\u001b[0m\u001b[0mself\u001b[0m\u001b[0;34m)\u001b[0m\u001b[0;34m:\u001b[0m\u001b[0;34m\u001b[0m\u001b[0;34m\u001b[0m\u001b[0m\n\u001b[0;32m--> 276\u001b[0;31m         \u001b[0mresults\u001b[0m\u001b[0;34m,\u001b[0m \u001b[0mres_index\u001b[0m \u001b[0;34m=\u001b[0m \u001b[0mself\u001b[0m\u001b[0;34m.\u001b[0m\u001b[0mapply_series_generator\u001b[0m\u001b[0;34m(\u001b[0m\u001b[0;34m)\u001b[0m\u001b[0;34m\u001b[0m\u001b[0;34m\u001b[0m\u001b[0m\n\u001b[0m\u001b[1;32m    277\u001b[0m \u001b[0;34m\u001b[0m\u001b[0m\n\u001b[1;32m    278\u001b[0m         \u001b[0;31m# wrap results\u001b[0m\u001b[0;34m\u001b[0m\u001b[0;34m\u001b[0m\u001b[0;34m\u001b[0m\u001b[0m\n",
      "\u001b[0;32m~/anaconda3/lib/python3.8/site-packages/pandas/core/apply.py\u001b[0m in \u001b[0;36mapply_series_generator\u001b[0;34m(self)\u001b[0m\n\u001b[1;32m    288\u001b[0m             \u001b[0;32mfor\u001b[0m \u001b[0mi\u001b[0m\u001b[0;34m,\u001b[0m \u001b[0mv\u001b[0m \u001b[0;32min\u001b[0m \u001b[0menumerate\u001b[0m\u001b[0;34m(\u001b[0m\u001b[0mseries_gen\u001b[0m\u001b[0;34m)\u001b[0m\u001b[0;34m:\u001b[0m\u001b[0;34m\u001b[0m\u001b[0;34m\u001b[0m\u001b[0m\n\u001b[1;32m    289\u001b[0m                 \u001b[0;31m# ignore SettingWithCopy here in case the user mutates\u001b[0m\u001b[0;34m\u001b[0m\u001b[0;34m\u001b[0m\u001b[0;34m\u001b[0m\u001b[0m\n\u001b[0;32m--> 290\u001b[0;31m                 \u001b[0mresults\u001b[0m\u001b[0;34m[\u001b[0m\u001b[0mi\u001b[0m\u001b[0;34m]\u001b[0m \u001b[0;34m=\u001b[0m \u001b[0mself\u001b[0m\u001b[0;34m.\u001b[0m\u001b[0mf\u001b[0m\u001b[0;34m(\u001b[0m\u001b[0mv\u001b[0m\u001b[0;34m)\u001b[0m\u001b[0;34m\u001b[0m\u001b[0;34m\u001b[0m\u001b[0m\n\u001b[0m\u001b[1;32m    291\u001b[0m                 \u001b[0;32mif\u001b[0m \u001b[0misinstance\u001b[0m\u001b[0;34m(\u001b[0m\u001b[0mresults\u001b[0m\u001b[0;34m[\u001b[0m\u001b[0mi\u001b[0m\u001b[0;34m]\u001b[0m\u001b[0;34m,\u001b[0m \u001b[0mABCSeries\u001b[0m\u001b[0;34m)\u001b[0m\u001b[0;34m:\u001b[0m\u001b[0;34m\u001b[0m\u001b[0;34m\u001b[0m\u001b[0m\n\u001b[1;32m    292\u001b[0m                     \u001b[0;31m# If we have a view on v, we need to make a copy because\u001b[0m\u001b[0;34m\u001b[0m\u001b[0;34m\u001b[0m\u001b[0;34m\u001b[0m\u001b[0m\n",
      "\u001b[0;32m<ipython-input-6-d745de183cff>\u001b[0m in \u001b[0;36m<lambda>\u001b[0;34m(row)\u001b[0m\n\u001b[1;32m      9\u001b[0m \u001b[0;31m# Set initial position for each player to first non-NaN position in data\u001b[0m\u001b[0;34m\u001b[0m\u001b[0;34m\u001b[0m\u001b[0;34m\u001b[0m\u001b[0m\n\u001b[1;32m     10\u001b[0m \u001b[0minitial_positions\u001b[0m \u001b[0;34m=\u001b[0m \u001b[0mdata\u001b[0m\u001b[0;34m.\u001b[0m\u001b[0mgroupby\u001b[0m\u001b[0;34m(\u001b[0m\u001b[0;34m'player'\u001b[0m\u001b[0;34m)\u001b[0m\u001b[0;34m[\u001b[0m\u001b[0;34m'position'\u001b[0m\u001b[0;34m]\u001b[0m\u001b[0;34m.\u001b[0m\u001b[0mtransform\u001b[0m\u001b[0;34m(\u001b[0m\u001b[0;32mlambda\u001b[0m \u001b[0mx\u001b[0m\u001b[0;34m:\u001b[0m \u001b[0mx\u001b[0m\u001b[0;34m.\u001b[0m\u001b[0mfirst_valid_index\u001b[0m\u001b[0;34m(\u001b[0m\u001b[0;34m)\u001b[0m\u001b[0;34m)\u001b[0m\u001b[0;34m\u001b[0m\u001b[0;34m\u001b[0m\u001b[0m\n\u001b[0;32m---> 11\u001b[0;31m \u001b[0mdata\u001b[0m\u001b[0;34m.\u001b[0m\u001b[0mloc\u001b[0m\u001b[0;34m[\u001b[0m\u001b[0;34m~\u001b[0m\u001b[0mdata\u001b[0m\u001b[0;34m[\u001b[0m\u001b[0;34m'position'\u001b[0m\u001b[0;34m]\u001b[0m\u001b[0;34m.\u001b[0m\u001b[0mnotnull\u001b[0m\u001b[0;34m(\u001b[0m\u001b[0;34m)\u001b[0m\u001b[0;34m,\u001b[0m \u001b[0;34m'position'\u001b[0m\u001b[0;34m]\u001b[0m \u001b[0;34m=\u001b[0m \u001b[0mdata\u001b[0m\u001b[0;34m.\u001b[0m\u001b[0mloc\u001b[0m\u001b[0;34m[\u001b[0m\u001b[0;34m~\u001b[0m\u001b[0mdata\u001b[0m\u001b[0;34m[\u001b[0m\u001b[0;34m'position'\u001b[0m\u001b[0;34m]\u001b[0m\u001b[0;34m.\u001b[0m\u001b[0mnotnull\u001b[0m\u001b[0;34m(\u001b[0m\u001b[0;34m)\u001b[0m\u001b[0;34m]\u001b[0m\u001b[0;34m.\u001b[0m\u001b[0mapply\u001b[0m\u001b[0;34m(\u001b[0m\u001b[0;32mlambda\u001b[0m \u001b[0mrow\u001b[0m\u001b[0;34m:\u001b[0m \u001b[0mrow\u001b[0m\u001b[0;34m[\u001b[0m\u001b[0;34m'position'\u001b[0m\u001b[0;34m]\u001b[0m \u001b[0;32mif\u001b[0m \u001b[0mrow\u001b[0m\u001b[0;34m[\u001b[0m\u001b[0;34m'year'\u001b[0m\u001b[0;34m]\u001b[0m \u001b[0;34m<=\u001b[0m \u001b[0minitial_positions\u001b[0m\u001b[0;34m[\u001b[0m\u001b[0mrow\u001b[0m\u001b[0;34m[\u001b[0m\u001b[0;34m'player'\u001b[0m\u001b[0;34m]\u001b[0m\u001b[0;34m]\u001b[0m \u001b[0;32melse\u001b[0m \u001b[0mnp\u001b[0m\u001b[0;34m.\u001b[0m\u001b[0mnan\u001b[0m\u001b[0;34m,\u001b[0m \u001b[0maxis\u001b[0m\u001b[0;34m=\u001b[0m\u001b[0;36m1\u001b[0m\u001b[0;34m)\u001b[0m\u001b[0;34m\u001b[0m\u001b[0;34m\u001b[0m\u001b[0m\n\u001b[0m\u001b[1;32m     12\u001b[0m \u001b[0;34m\u001b[0m\u001b[0m\n\u001b[1;32m     13\u001b[0m \u001b[0;31m# Fill forward NaN values with the first non-NaN forward position\u001b[0m\u001b[0;34m\u001b[0m\u001b[0;34m\u001b[0m\u001b[0;34m\u001b[0m\u001b[0m\n",
      "\u001b[0;32m~/anaconda3/lib/python3.8/site-packages/pandas/core/series.py\u001b[0m in \u001b[0;36m__getitem__\u001b[0;34m(self, key)\u001b[0m\n\u001b[1;32m    851\u001b[0m \u001b[0;34m\u001b[0m\u001b[0m\n\u001b[1;32m    852\u001b[0m         \u001b[0;32melif\u001b[0m \u001b[0mkey_is_scalar\u001b[0m\u001b[0;34m:\u001b[0m\u001b[0;34m\u001b[0m\u001b[0;34m\u001b[0m\u001b[0m\n\u001b[0;32m--> 853\u001b[0;31m             \u001b[0;32mreturn\u001b[0m \u001b[0mself\u001b[0m\u001b[0;34m.\u001b[0m\u001b[0m_get_value\u001b[0m\u001b[0;34m(\u001b[0m\u001b[0mkey\u001b[0m\u001b[0;34m)\u001b[0m\u001b[0;34m\u001b[0m\u001b[0;34m\u001b[0m\u001b[0m\n\u001b[0m\u001b[1;32m    854\u001b[0m \u001b[0;34m\u001b[0m\u001b[0m\n\u001b[1;32m    855\u001b[0m         \u001b[0;32mif\u001b[0m \u001b[0mis_hashable\u001b[0m\u001b[0;34m(\u001b[0m\u001b[0mkey\u001b[0m\u001b[0;34m)\u001b[0m\u001b[0;34m:\u001b[0m\u001b[0;34m\u001b[0m\u001b[0;34m\u001b[0m\u001b[0m\n",
      "\u001b[0;32m~/anaconda3/lib/python3.8/site-packages/pandas/core/series.py\u001b[0m in \u001b[0;36m_get_value\u001b[0;34m(self, label, takeable)\u001b[0m\n\u001b[1;32m    959\u001b[0m \u001b[0;34m\u001b[0m\u001b[0m\n\u001b[1;32m    960\u001b[0m         \u001b[0;31m# Similar to Index.get_value, but we do not fall back to positional\u001b[0m\u001b[0;34m\u001b[0m\u001b[0;34m\u001b[0m\u001b[0;34m\u001b[0m\u001b[0m\n\u001b[0;32m--> 961\u001b[0;31m         \u001b[0mloc\u001b[0m \u001b[0;34m=\u001b[0m \u001b[0mself\u001b[0m\u001b[0;34m.\u001b[0m\u001b[0mindex\u001b[0m\u001b[0;34m.\u001b[0m\u001b[0mget_loc\u001b[0m\u001b[0;34m(\u001b[0m\u001b[0mlabel\u001b[0m\u001b[0;34m)\u001b[0m\u001b[0;34m\u001b[0m\u001b[0;34m\u001b[0m\u001b[0m\n\u001b[0m\u001b[1;32m    962\u001b[0m         \u001b[0;32mreturn\u001b[0m \u001b[0mself\u001b[0m\u001b[0;34m.\u001b[0m\u001b[0mindex\u001b[0m\u001b[0;34m.\u001b[0m\u001b[0m_get_values_for_loc\u001b[0m\u001b[0;34m(\u001b[0m\u001b[0mself\u001b[0m\u001b[0;34m,\u001b[0m \u001b[0mloc\u001b[0m\u001b[0;34m,\u001b[0m \u001b[0mlabel\u001b[0m\u001b[0;34m)\u001b[0m\u001b[0;34m\u001b[0m\u001b[0;34m\u001b[0m\u001b[0m\n\u001b[1;32m    963\u001b[0m \u001b[0;34m\u001b[0m\u001b[0m\n",
      "\u001b[0;32m~/anaconda3/lib/python3.8/site-packages/pandas/core/indexes/range.py\u001b[0m in \u001b[0;36mget_loc\u001b[0;34m(self, key, method, tolerance)\u001b[0m\n\u001b[1;32m    352\u001b[0m                 \u001b[0;32mexcept\u001b[0m \u001b[0mValueError\u001b[0m \u001b[0;32mas\u001b[0m \u001b[0merr\u001b[0m\u001b[0;34m:\u001b[0m\u001b[0;34m\u001b[0m\u001b[0;34m\u001b[0m\u001b[0m\n\u001b[1;32m    353\u001b[0m                     \u001b[0;32mraise\u001b[0m \u001b[0mKeyError\u001b[0m\u001b[0;34m(\u001b[0m\u001b[0mkey\u001b[0m\u001b[0;34m)\u001b[0m \u001b[0;32mfrom\u001b[0m \u001b[0merr\u001b[0m\u001b[0;34m\u001b[0m\u001b[0;34m\u001b[0m\u001b[0m\n\u001b[0;32m--> 354\u001b[0;31m             \u001b[0;32mraise\u001b[0m \u001b[0mKeyError\u001b[0m\u001b[0;34m(\u001b[0m\u001b[0mkey\u001b[0m\u001b[0;34m)\u001b[0m\u001b[0;34m\u001b[0m\u001b[0;34m\u001b[0m\u001b[0m\n\u001b[0m\u001b[1;32m    355\u001b[0m         \u001b[0;32mreturn\u001b[0m \u001b[0msuper\u001b[0m\u001b[0;34m(\u001b[0m\u001b[0;34m)\u001b[0m\u001b[0;34m.\u001b[0m\u001b[0mget_loc\u001b[0m\u001b[0;34m(\u001b[0m\u001b[0mkey\u001b[0m\u001b[0;34m,\u001b[0m \u001b[0mmethod\u001b[0m\u001b[0;34m=\u001b[0m\u001b[0mmethod\u001b[0m\u001b[0;34m,\u001b[0m \u001b[0mtolerance\u001b[0m\u001b[0;34m=\u001b[0m\u001b[0mtolerance\u001b[0m\u001b[0;34m)\u001b[0m\u001b[0;34m\u001b[0m\u001b[0;34m\u001b[0m\u001b[0m\n\u001b[1;32m    356\u001b[0m \u001b[0;34m\u001b[0m\u001b[0m\n",
      "\u001b[0;31mKeyError\u001b[0m: 'John'"
     ]
    }
   ],
   "source": [
    "import pandas as pd\n",
    "import numpy as np\n",
    "\n",
    "# Sample data\n",
    "data = pd.DataFrame({'player': ['John', 'John', 'John', 'John', 'John', 'John', 'John', 'John', 'Mike', 'Mike', 'Mike', 'Mike', 'Mike', 'Mike', 'Mike', 'Mike'],\n",
    "                     'year': [2011, 2012, 2013, 2014, 2015, 2016, 2017, 2018, 2011, 2012, 2013, 2014, 2015, 2016, 2017, 2018],\n",
    "                     'position': [np.nan, np.nan, 'forward', 'forward', 'midfield', 'midfield', np.nan, 'midfield', 'midfield', 'midfield', 'defense', 'defense', 'defense', 'defense', 'defense', np.nan]})\n",
    "\n",
    "# Set initial position for each player to first non-NaN position in data\n",
    "initial_positions = data.groupby('player')['position'].transform(lambda x: x.first_valid_index())\n",
    "data.loc[~data['position'].notnull(), 'position'] = data.loc[~data['position'].notnull()].apply(lambda row: row['position'] if row['year'] <= initial_positions[row['player']] else np.nan, axis=1)\n",
    "\n",
    "# Fill forward NaN values with the first non-NaN forward position\n",
    "for player in data['player'].unique():\n",
    "    player_data = data.loc[data['player'] == player].copy()\n",
    "    forward_positions = player_data.loc[player_data['position'] == 'forward']\n",
    "    forward_positions = forward_positions.loc[forward_positions['year'].idxmin():]\n",
    "    first_forward = forward_positions.loc[forward_positions['position'].first_valid_index(), 'position'] if forward_positions['position'].first_valid_index() is not None else np.nan\n",
    "    data.loc[(data['player'] == player) & (data['position'].isnull()) & (data['year'] <= forward_positions['year'].max()), 'position'] = first_forward\n",
    "\n",
    "# Fill remaining NaN values with last non-NaN position\n",
    "data['position'] = data.groupby('player')['position'].fillna(method='ffill').fillna(method='bfill')\n",
    "\n",
    "print(data)\n"
   ]
  },
  {
   "cell_type": "code",
   "execution_count": 10,
   "id": "a0e7e483-e713-46e9-9fdf-89a0586c7a2e",
   "metadata": {},
   "outputs": [
    {
     "name": "stdout",
     "output_type": "stream",
     "text": [
      "   year employee position\n",
      "0  2011     John        a\n",
      "2  2012     John        b\n",
      "4  2013     John        b\n",
      "1  2011     Mike        a\n",
      "3  2012     Mike        b\n",
      "5  2013     Mike        c\n"
     ]
    }
   ],
   "source": [
    "import pandas as pd\n",
    "import numpy as np\n",
    "\n",
    "# create example panel data\n",
    "df = pd.DataFrame({'year': [2011, 2011, 2012, 2012, 2013, 2013],\n",
    "                   'employee': ['John', 'Mike', 'John', 'Mike', 'John', 'Mike'],\n",
    "                   'position': [np.nan, 'a', 'b', np.nan, np.nan, 'c']})\n",
    "\n",
    "# Sort data by year\n",
    "df = df.sort_values(by=['employee', 'year'])\n",
    "\n",
    "# replace NaN values in position column for 2011 observations only with backfill method\n",
    "df.loc[df['year'] == 2011, 'position'] = df.loc[df['year'] == 2011, 'position'].fillna(method='bfill')\n",
    "\n",
    "# replace NaN values in position column for observations after 2011 with forward fill method\n",
    "df.loc[df['year'] > 2011, 'position'] = df.loc[df['year'] > 2011, 'position'].fillna(method='ffill')\n",
    "\n",
    "print(df)\n"
   ]
  },
  {
   "cell_type": "code",
   "execution_count": 14,
   "id": "0ea57596-bff0-4cd5-9068-251baa6a0949",
   "metadata": {},
   "outputs": [
    {
     "data": {
      "image/png": "[encoded data removed]",
      "text/plain": [
       "<Figure size 432x288 with 1 Axes>"
      ]
     },
     "metadata": {
      "needs_background": "light"
     },
     "output_type": "display_data"
    }
   ],
   "source": [
    "import pandas as pd\n",
    "import matplotlib.pyplot as plt\n",
    "import seaborn as sns\n",
    "\n",
    "# Create a sample dataframe\n",
    "df = pd.DataFrame({'Sport': ['Football', 'Football', 'Basketball', 'Baseball', 'Hockey', 'Soccer'],\n",
    "                   'Audience': [100, 30, 50, 30, 20, 80],\n",
    "                   'Dummy': ['a', 'b', 'b', 'a', 'b', 'a']})\n",
    "\n",
    "# Create a histogram\n",
    "sns.histplot(data=df, x='Audience')\n",
    "\n",
    "# Create a barplot\n",
    "sns.barplot(data=df, x='Sport', y='Audience', hue='Dummy')\n",
    "plt.xticks(rotation=45)\n",
    "\n",
    "# Show the plots\n",
    "plt.show()"
   ]
  },
  {
   "cell_type": "code",
   "execution_count": null,
   "id": "295112ed-7a90-472e-af25-018b6705ba09",
   "metadata": {},
   "outputs": [],
   "source": []
  }
 ],
 "metadata": {
  "kernelspec": {
   "display_name": "Python 3",
   "language": "python",
   "name": "python3"
  },
  "language_info": {
   "codemirror_mode": {
    "name": "ipython",
    "version": 3
   },
   "file_extension": ".py",
   "mimetype": "text/x-python",
   "name": "python",
   "nbconvert_exporter": "python",
   "pygments_lexer": "ipython3",
   "version": "3.8.8"
  }
 },
 "nbformat": 4,
 "nbformat_minor": 5
}
