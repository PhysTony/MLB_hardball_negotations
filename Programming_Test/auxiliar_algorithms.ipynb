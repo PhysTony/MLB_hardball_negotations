{
 "cells": [
  {
   "cell_type": "markdown",
   "id": "08dcdc31-dc46-4968-a8f1-5a9735cf30ca",
   "metadata": {},
   "source": [
    "import pandas as pd\n",
    "import numpy as np\n",
    "import math\n",
    "import os\n",
    "import warnings\n",
    "print('Modulos importados')# Algoritmos auxiliares\n",
    "\n",
    "En este script se plantea mostrar cómo funcionan algortimos encontrados en internet. Esto, debido a que hay veces en las que son más eficientes que los algoritmos propios, por lo que solo pondré los que son más eficientes que los propios y que haya encontrado."
   ]
  },
  {
   "cell_type": "code",
   "execution_count": 1,
   "id": "3266438d-efb3-45d8-a850-a52045152b5a",
   "metadata": {},
   "outputs": [
    {
     "name": "stdout",
     "output_type": "stream",
     "text": [
      "Modulos importados\n"
     ]
    }
   ],
   "source": [
    "import pandas as pd\n",
    "import numpy as np\n",
    "import math\n",
    "import os\n",
    "import warnings\n",
    "print('Modulos importados')"
   ]
  },
  {
   "cell_type": "code",
   "execution_count": 2,
   "id": "a82481e0-e76d-4a57-bcdd-9d60b1f75abd",
   "metadata": {},
   "outputs": [
    {
     "name": "stdout",
     "output_type": "stream",
     "text": [
      "Directorio de trabajo previo: /home/usuario/Documentos/Github/Proyectos/MLB_HN/Programming_Test\n"
     ]
    }
   ],
   "source": [
    "# Directorio de trabajo\n",
    "print(\"Directorio de trabajo previo: \" + str(os.getcwd()))\n",
    "# Cambiemoslo\n",
    "os.chdir('/home/usuario/Documentos/Github/Proyectos/MLB_HN/')"
   ]
  },
  {
   "cell_type": "markdown",
   "id": "27ef6b92-6214-4eb0-a3aa-5b8efaa8bd03",
   "metadata": {},
   "source": [
    "### Valores únicos por fila\n",
    "\n",
    "Obtengamos los valores únicos por fila a través de distintos métodos"
   ]
  },
  {
   "cell_type": "code",
   "execution_count": 3,
   "id": "950653ec-2f2c-44a4-89df-e9c9b4ad426d",
   "metadata": {},
   "outputs": [],
   "source": [
    "lst = [[12, 12, 25], [34, 3, 30],\n",
    "       [26, 26, 26], [np.nan, 1, 22], \n",
    "       [np.nan, np.nan, np.nan]]"
   ]
  },
  {
   "cell_type": "code",
   "execution_count": 4,
   "id": "6e184980-42f3-48b8-8f7f-79c755bb9ab4",
   "metadata": {},
   "outputs": [
    {
     "data": {
      "text/html": [
       "<div>\n",
       "<style scoped>\n",
       "    .dataframe tbody tr th:only-of-type {\n",
       "        vertical-align: middle;\n",
       "    }\n",
       "\n",
       "    .dataframe tbody tr th {\n",
       "        vertical-align: top;\n",
       "    }\n",
       "\n",
       "    .dataframe thead th {\n",
       "        text-align: right;\n",
       "    }\n",
       "</style>\n",
       "<table border=\"1\" class=\"dataframe\">\n",
       "  <thead>\n",
       "    <tr style=\"text-align: right;\">\n",
       "      <th></th>\n",
       "      <th>FName</th>\n",
       "      <th>LName</th>\n",
       "      <th>Age</th>\n",
       "    </tr>\n",
       "  </thead>\n",
       "  <tbody>\n",
       "    <tr>\n",
       "      <th>0</th>\n",
       "      <td>12.0</td>\n",
       "      <td>12.0</td>\n",
       "      <td>25.0</td>\n",
       "    </tr>\n",
       "    <tr>\n",
       "      <th>1</th>\n",
       "      <td>34.0</td>\n",
       "      <td>3.0</td>\n",
       "      <td>30.0</td>\n",
       "    </tr>\n",
       "    <tr>\n",
       "      <th>2</th>\n",
       "      <td>26.0</td>\n",
       "      <td>26.0</td>\n",
       "      <td>26.0</td>\n",
       "    </tr>\n",
       "    <tr>\n",
       "      <th>3</th>\n",
       "      <td>NaN</td>\n",
       "      <td>1.0</td>\n",
       "      <td>22.0</td>\n",
       "    </tr>\n",
       "    <tr>\n",
       "      <th>4</th>\n",
       "      <td>NaN</td>\n",
       "      <td>NaN</td>\n",
       "      <td>NaN</td>\n",
       "    </tr>\n",
       "  </tbody>\n",
       "</table>\n",
       "</div>"
      ],
      "text/plain": [
       "   FName  LName   Age\n",
       "0   12.0   12.0  25.0\n",
       "1   34.0    3.0  30.0\n",
       "2   26.0   26.0  26.0\n",
       "3    NaN    1.0  22.0\n",
       "4    NaN    NaN   NaN"
      ]
     },
     "execution_count": 4,
     "metadata": {},
     "output_type": "execute_result"
    }
   ],
   "source": [
    "df = pd.DataFrame(lst, columns =['FName', 'LName', 'Age'], dtype = float)\n",
    "df"
   ]
  },
  {
   "cell_type": "code",
   "execution_count": 5,
   "id": "099932b4-4a81-4023-8968-48bcb2b09870",
   "metadata": {},
   "outputs": [
    {
     "data": {
      "text/plain": [
       "[{12.0, 25.0}, {3.0, 30.0, 34.0}, {26.0}, {nan, 1.0, 22.0}, {nan, nan, nan}]"
      ]
     },
     "execution_count": 5,
     "metadata": {},
     "output_type": "execute_result"
    }
   ],
   "source": [
    "list(map(set,df.values))"
   ]
  },
  {
   "cell_type": "code",
   "execution_count": 6,
   "id": "a4f7e54a-242d-4d70-a65b-3f7a9789712c",
   "metadata": {},
   "outputs": [
    {
     "data": {
      "text/plain": [
       "0         [12.0, 25.0]\n",
       "1    [34.0, 3.0, 30.0]\n",
       "2               [26.0]\n",
       "3          [1.0, 22.0]\n",
       "dtype: object"
      ]
     },
     "execution_count": 6,
     "metadata": {},
     "output_type": "execute_result"
    }
   ],
   "source": [
    "df.stack().groupby(level=0).apply(lambda x: x.unique().tolist())"
   ]
  },
  {
   "cell_type": "markdown",
   "id": "24bcb54e-8f4b-445b-8624-527a11cb5da3",
   "metadata": {},
   "source": [
    "El anterior es el mejor método"
   ]
  },
  {
   "cell_type": "code",
   "execution_count": 7,
   "id": "ad1feaa0-b589-4b4f-94f2-67ea13a395da",
   "metadata": {},
   "outputs": [
    {
     "data": {
      "text/html": [
       "<div>\n",
       "<style scoped>\n",
       "    .dataframe tbody tr th:only-of-type {\n",
       "        vertical-align: middle;\n",
       "    }\n",
       "\n",
       "    .dataframe tbody tr th {\n",
       "        vertical-align: top;\n",
       "    }\n",
       "\n",
       "    .dataframe thead th {\n",
       "        text-align: right;\n",
       "    }\n",
       "</style>\n",
       "<table border=\"1\" class=\"dataframe\">\n",
       "  <thead>\n",
       "    <tr style=\"text-align: right;\">\n",
       "      <th></th>\n",
       "      <th>0</th>\n",
       "      <th>1</th>\n",
       "      <th>2</th>\n",
       "      <th>3</th>\n",
       "      <th>4</th>\n",
       "    </tr>\n",
       "  </thead>\n",
       "  <tbody>\n",
       "    <tr>\n",
       "      <th>unique</th>\n",
       "      <td>[12.0, 25.0]</td>\n",
       "      <td>[34.0, 3.0, 30.0]</td>\n",
       "      <td>[26.0]</td>\n",
       "      <td>[nan, 1.0, 22.0]</td>\n",
       "      <td>[nan]</td>\n",
       "    </tr>\n",
       "  </tbody>\n",
       "</table>\n",
       "</div>"
      ],
      "text/plain": [
       "                   0                  1       2                 3      4\n",
       "unique  [12.0, 25.0]  [34.0, 3.0, 30.0]  [26.0]  [nan, 1.0, 22.0]  [nan]"
      ]
     },
     "execution_count": 7,
     "metadata": {},
     "output_type": "execute_result"
    }
   ],
   "source": [
    "df.T.agg([pd.unique])"
   ]
  },
  {
   "cell_type": "markdown",
   "id": "dffe7e9e-bac0-4e65-a707-df192efed7bd",
   "metadata": {},
   "source": [
    "### Contar valores únicos por fila"
   ]
  },
  {
   "cell_type": "code",
   "execution_count": 8,
   "id": "ae6f78d7-a221-4e47-8cf1-c16a2d1e26cc",
   "metadata": {},
   "outputs": [
    {
     "data": {
      "text/html": [
       "<div>\n",
       "<style scoped>\n",
       "    .dataframe tbody tr th:only-of-type {\n",
       "        vertical-align: middle;\n",
       "    }\n",
       "\n",
       "    .dataframe tbody tr th {\n",
       "        vertical-align: top;\n",
       "    }\n",
       "\n",
       "    .dataframe thead th {\n",
       "        text-align: right;\n",
       "    }\n",
       "</style>\n",
       "<table border=\"1\" class=\"dataframe\">\n",
       "  <thead>\n",
       "    <tr style=\"text-align: right;\">\n",
       "      <th></th>\n",
       "      <th>FName</th>\n",
       "      <th>LName</th>\n",
       "      <th>Age</th>\n",
       "      <th>num_uniq_1</th>\n",
       "    </tr>\n",
       "  </thead>\n",
       "  <tbody>\n",
       "    <tr>\n",
       "      <th>0</th>\n",
       "      <td>12.0</td>\n",
       "      <td>12.0</td>\n",
       "      <td>25.0</td>\n",
       "      <td>2</td>\n",
       "    </tr>\n",
       "    <tr>\n",
       "      <th>1</th>\n",
       "      <td>34.0</td>\n",
       "      <td>3.0</td>\n",
       "      <td>30.0</td>\n",
       "      <td>3</td>\n",
       "    </tr>\n",
       "    <tr>\n",
       "      <th>2</th>\n",
       "      <td>26.0</td>\n",
       "      <td>26.0</td>\n",
       "      <td>26.0</td>\n",
       "      <td>1</td>\n",
       "    </tr>\n",
       "    <tr>\n",
       "      <th>3</th>\n",
       "      <td>NaN</td>\n",
       "      <td>1.0</td>\n",
       "      <td>22.0</td>\n",
       "      <td>2</td>\n",
       "    </tr>\n",
       "    <tr>\n",
       "      <th>4</th>\n",
       "      <td>NaN</td>\n",
       "      <td>NaN</td>\n",
       "      <td>NaN</td>\n",
       "      <td>0</td>\n",
       "    </tr>\n",
       "  </tbody>\n",
       "</table>\n",
       "</div>"
      ],
      "text/plain": [
       "   FName  LName   Age  num_uniq_1\n",
       "0   12.0   12.0  25.0           2\n",
       "1   34.0    3.0  30.0           3\n",
       "2   26.0   26.0  26.0           1\n",
       "3    NaN    1.0  22.0           2\n",
       "4    NaN    NaN   NaN           0"
      ]
     },
     "execution_count": 8,
     "metadata": {},
     "output_type": "execute_result"
    }
   ],
   "source": [
    "df = pd.DataFrame(lst, columns =['FName', 'LName', 'Age'], dtype = float)\n",
    "\n",
    "df['num_uniq_1'] = [len(set(v[pd.notna(v)].tolist())) for v in df.values]\n",
    "df"
   ]
  },
  {
   "cell_type": "code",
   "execution_count": 9,
   "id": "f1a4e28e-2cc7-4049-864e-4e2bd9176374",
   "metadata": {},
   "outputs": [
    {
     "data": {
      "text/html": [
       "<div>\n",
       "<style scoped>\n",
       "    .dataframe tbody tr th:only-of-type {\n",
       "        vertical-align: middle;\n",
       "    }\n",
       "\n",
       "    .dataframe tbody tr th {\n",
       "        vertical-align: top;\n",
       "    }\n",
       "\n",
       "    .dataframe thead th {\n",
       "        text-align: right;\n",
       "    }\n",
       "</style>\n",
       "<table border=\"1\" class=\"dataframe\">\n",
       "  <thead>\n",
       "    <tr style=\"text-align: right;\">\n",
       "      <th></th>\n",
       "      <th>FName</th>\n",
       "      <th>LName</th>\n",
       "      <th>Age</th>\n",
       "      <th>num_uniq_2</th>\n",
       "    </tr>\n",
       "  </thead>\n",
       "  <tbody>\n",
       "    <tr>\n",
       "      <th>0</th>\n",
       "      <td>12.0</td>\n",
       "      <td>12.0</td>\n",
       "      <td>25.0</td>\n",
       "      <td>2.0</td>\n",
       "    </tr>\n",
       "    <tr>\n",
       "      <th>1</th>\n",
       "      <td>34.0</td>\n",
       "      <td>3.0</td>\n",
       "      <td>30.0</td>\n",
       "      <td>3.0</td>\n",
       "    </tr>\n",
       "    <tr>\n",
       "      <th>2</th>\n",
       "      <td>26.0</td>\n",
       "      <td>26.0</td>\n",
       "      <td>26.0</td>\n",
       "      <td>1.0</td>\n",
       "    </tr>\n",
       "    <tr>\n",
       "      <th>3</th>\n",
       "      <td>NaN</td>\n",
       "      <td>1.0</td>\n",
       "      <td>22.0</td>\n",
       "      <td>2.0</td>\n",
       "    </tr>\n",
       "    <tr>\n",
       "      <th>4</th>\n",
       "      <td>NaN</td>\n",
       "      <td>NaN</td>\n",
       "      <td>NaN</td>\n",
       "      <td>NaN</td>\n",
       "    </tr>\n",
       "  </tbody>\n",
       "</table>\n",
       "</div>"
      ],
      "text/plain": [
       "   FName  LName   Age  num_uniq_2\n",
       "0   12.0   12.0  25.0         2.0\n",
       "1   34.0    3.0  30.0         3.0\n",
       "2   26.0   26.0  26.0         1.0\n",
       "3    NaN    1.0  22.0         2.0\n",
       "4    NaN    NaN   NaN         NaN"
      ]
     },
     "execution_count": 9,
     "metadata": {},
     "output_type": "execute_result"
    }
   ],
   "source": [
    "df = pd.DataFrame(lst, columns =['FName', 'LName', 'Age'], dtype = float)\n",
    "\n",
    "# df.join(df.stack().groupby(level=0).nunique().to_frame('num_uniq'))\n",
    "df['num_uniq_2'] = df.stack().groupby(level=0).nunique()\n",
    "df"
   ]
  },
  {
   "cell_type": "code",
   "execution_count": 10,
   "id": "e9e55ea8-07ed-47c2-ab54-d66c3c68d3a8",
   "metadata": {},
   "outputs": [
    {
     "data": {
      "text/html": [
       "<div>\n",
       "<style scoped>\n",
       "    .dataframe tbody tr th:only-of-type {\n",
       "        vertical-align: middle;\n",
       "    }\n",
       "\n",
       "    .dataframe tbody tr th {\n",
       "        vertical-align: top;\n",
       "    }\n",
       "\n",
       "    .dataframe thead th {\n",
       "        text-align: right;\n",
       "    }\n",
       "</style>\n",
       "<table border=\"1\" class=\"dataframe\">\n",
       "  <thead>\n",
       "    <tr style=\"text-align: right;\">\n",
       "      <th></th>\n",
       "      <th>FName</th>\n",
       "      <th>LName</th>\n",
       "      <th>Age</th>\n",
       "      <th>num_uniq_3</th>\n",
       "    </tr>\n",
       "  </thead>\n",
       "  <tbody>\n",
       "    <tr>\n",
       "      <th>0</th>\n",
       "      <td>12.0</td>\n",
       "      <td>12.0</td>\n",
       "      <td>25.0</td>\n",
       "      <td>2</td>\n",
       "    </tr>\n",
       "    <tr>\n",
       "      <th>1</th>\n",
       "      <td>34.0</td>\n",
       "      <td>3.0</td>\n",
       "      <td>30.0</td>\n",
       "      <td>3</td>\n",
       "    </tr>\n",
       "    <tr>\n",
       "      <th>2</th>\n",
       "      <td>26.0</td>\n",
       "      <td>26.0</td>\n",
       "      <td>26.0</td>\n",
       "      <td>1</td>\n",
       "    </tr>\n",
       "    <tr>\n",
       "      <th>3</th>\n",
       "      <td>NaN</td>\n",
       "      <td>1.0</td>\n",
       "      <td>22.0</td>\n",
       "      <td>2</td>\n",
       "    </tr>\n",
       "    <tr>\n",
       "      <th>4</th>\n",
       "      <td>NaN</td>\n",
       "      <td>NaN</td>\n",
       "      <td>NaN</td>\n",
       "      <td>0</td>\n",
       "    </tr>\n",
       "  </tbody>\n",
       "</table>\n",
       "</div>"
      ],
      "text/plain": [
       "   FName  LName   Age  num_uniq_3\n",
       "0   12.0   12.0  25.0           2\n",
       "1   34.0    3.0  30.0           3\n",
       "2   26.0   26.0  26.0           1\n",
       "3    NaN    1.0  22.0           2\n",
       "4    NaN    NaN   NaN           0"
      ]
     },
     "execution_count": 10,
     "metadata": {},
     "output_type": "execute_result"
    }
   ],
   "source": [
    "df = pd.DataFrame(lst, columns =['FName', 'LName', 'Age'], dtype = float)\n",
    "\n",
    "df['num_uniq_3'] = df.apply(pd.Series.nunique, axis=1)\n",
    "df"
   ]
  },
  {
   "cell_type": "markdown",
   "id": "e89ffb29-1e24-4e21-9ba8-6592e9bc534e",
   "metadata": {},
   "source": [
    "### Buscar un valor entre dos dataframes\n",
    "\n",
    "Nos interesa hallar la fila en la que dos dataframes tienen un mismo valor con respecto a una columna"
   ]
  },
  {
   "cell_type": "code",
   "execution_count": 11,
   "id": "2b59d816-a5ed-444c-9a34-0ff5a99ec8f7",
   "metadata": {},
   "outputs": [],
   "source": [
    "df1 = pd.DataFrame({'Time': ['8a', '10p'], 'V1': [1, 2], 'V2': [3, 4]})\n",
    "df2 = pd.DataFrame({'fn': ['8.txt', '10.txt'], 'V1': [3, 2], 'V2': [3, 4]})"
   ]
  },
  {
   "cell_type": "markdown",
   "id": "23cbe968-5a02-4e25-a4f1-af2bf79535a5",
   "metadata": {},
   "source": [
    "Primera solución"
   ]
  },
  {
   "cell_type": "code",
   "execution_count": 12,
   "id": "58315d85-2381-4308-8337-b0a908bac95c",
   "metadata": {},
   "outputs": [
    {
     "data": {
      "text/html": [
       "<div>\n",
       "<style scoped>\n",
       "    .dataframe tbody tr th:only-of-type {\n",
       "        vertical-align: middle;\n",
       "    }\n",
       "\n",
       "    .dataframe tbody tr th {\n",
       "        vertical-align: top;\n",
       "    }\n",
       "\n",
       "    .dataframe thead th {\n",
       "        text-align: right;\n",
       "    }\n",
       "</style>\n",
       "<table border=\"1\" class=\"dataframe\">\n",
       "  <thead>\n",
       "    <tr style=\"text-align: right;\">\n",
       "      <th></th>\n",
       "      <th>Time</th>\n",
       "      <th>V1</th>\n",
       "      <th>V2</th>\n",
       "      <th>fn</th>\n",
       "    </tr>\n",
       "  </thead>\n",
       "  <tbody>\n",
       "    <tr>\n",
       "      <th>1</th>\n",
       "      <td>10p</td>\n",
       "      <td>2</td>\n",
       "      <td>4</td>\n",
       "      <td>10.txt</td>\n",
       "    </tr>\n",
       "  </tbody>\n",
       "</table>\n",
       "</div>"
      ],
      "text/plain": [
       "  Time  V1  V2      fn\n",
       "1  10p   2   4  10.txt"
      ]
     },
     "execution_count": 12,
     "metadata": {},
     "output_type": "execute_result"
    }
   ],
   "source": [
    "df1.merge(df2, on=['V1', 'V2'], how='outer').dropna()"
   ]
  },
  {
   "cell_type": "code",
   "execution_count": 13,
   "id": "76077cfe-af97-4805-96ad-4340d0c2857b",
   "metadata": {},
   "outputs": [
    {
     "data": {
      "text/html": [
       "<div>\n",
       "<style scoped>\n",
       "    .dataframe tbody tr th:only-of-type {\n",
       "        vertical-align: middle;\n",
       "    }\n",
       "\n",
       "    .dataframe tbody tr th {\n",
       "        vertical-align: top;\n",
       "    }\n",
       "\n",
       "    .dataframe thead th {\n",
       "        text-align: right;\n",
       "    }\n",
       "</style>\n",
       "<table border=\"1\" class=\"dataframe\">\n",
       "  <thead>\n",
       "    <tr style=\"text-align: right;\">\n",
       "      <th></th>\n",
       "      <th>fn</th>\n",
       "      <th>Time</th>\n",
       "    </tr>\n",
       "  </thead>\n",
       "  <tbody>\n",
       "    <tr>\n",
       "      <th>0</th>\n",
       "      <td>10.txt</td>\n",
       "      <td>10p</td>\n",
       "    </tr>\n",
       "  </tbody>\n",
       "</table>\n",
       "</div>"
      ],
      "text/plain": [
       "       fn Time\n",
       "0  10.txt  10p"
      ]
     },
     "execution_count": 13,
     "metadata": {},
     "output_type": "execute_result"
    }
   ],
   "source": [
    "df2.merge(df1,how=\"inner\",on=[\"V1\",\"V2\"])[[\"fn\",\"Time\"]]"
   ]
  },
  {
   "cell_type": "code",
   "execution_count": 14,
   "id": "5e6c1adc-fcba-4acc-9cbd-ac31ebda83e8",
   "metadata": {},
   "outputs": [
    {
     "data": {
      "text/html": [
       "<div>\n",
       "<style scoped>\n",
       "    .dataframe tbody tr th:only-of-type {\n",
       "        vertical-align: middle;\n",
       "    }\n",
       "\n",
       "    .dataframe tbody tr th {\n",
       "        vertical-align: top;\n",
       "    }\n",
       "\n",
       "    .dataframe thead th {\n",
       "        text-align: right;\n",
       "    }\n",
       "</style>\n",
       "<table border=\"1\" class=\"dataframe\">\n",
       "  <thead>\n",
       "    <tr style=\"text-align: right;\">\n",
       "      <th></th>\n",
       "      <th>Time</th>\n",
       "      <th>V1</th>\n",
       "      <th>V2</th>\n",
       "      <th>fn</th>\n",
       "      <th>V1</th>\n",
       "      <th>V2</th>\n",
       "    </tr>\n",
       "  </thead>\n",
       "  <tbody>\n",
       "    <tr>\n",
       "      <th>0</th>\n",
       "      <td>8a</td>\n",
       "      <td>1</td>\n",
       "      <td>3</td>\n",
       "      <td>8.txt</td>\n",
       "      <td>3</td>\n",
       "      <td>3</td>\n",
       "    </tr>\n",
       "    <tr>\n",
       "      <th>1</th>\n",
       "      <td>10p</td>\n",
       "      <td>2</td>\n",
       "      <td>4</td>\n",
       "      <td>10.txt</td>\n",
       "      <td>2</td>\n",
       "      <td>4</td>\n",
       "    </tr>\n",
       "  </tbody>\n",
       "</table>\n",
       "</div>"
      ],
      "text/plain": [
       "  Time  V1  V2      fn  V1  V2\n",
       "0   8a   1   3   8.txt   3   3\n",
       "1  10p   2   4  10.txt   2   4"
      ]
     },
     "execution_count": 14,
     "metadata": {},
     "output_type": "execute_result"
    }
   ],
   "source": [
    "pd.concat([df1, df2.reindex(df1.index)], axis=1)"
   ]
  },
  {
   "cell_type": "markdown",
   "id": "708628ec-4a94-445f-a4cd-d97f4b7860c9",
   "metadata": {},
   "source": [
    "Segunda solución y óptima para los propósitos"
   ]
  },
  {
   "cell_type": "code",
   "execution_count": 15,
   "id": "aeb615e2-900d-4b0a-85be-922e52151a09",
   "metadata": {},
   "outputs": [
    {
     "name": "stdout",
     "output_type": "stream",
     "text": [
      "Time    10p\n",
      "V1        2\n",
      "V2        4\n",
      "Name: 1, dtype: object fn    10.txt\n",
      "V1         2\n",
      "V2         4\n",
      "Name: 1, dtype: object\n"
     ]
    }
   ],
   "source": [
    "for row in range(len(df1)):\n",
    "    if (df1.iloc[row,1:] == df2.iloc[row,1:]).all() == True: \n",
    "        print(df1.iloc[row], df2.iloc[row])"
   ]
  },
  {
   "cell_type": "code",
   "execution_count": 16,
   "id": "72cae917-f124-4108-a7e5-84f842d206fb",
   "metadata": {},
   "outputs": [
    {
     "ename": "NameError",
     "evalue": "name 'boto3' is not defined",
     "output_type": "error",
     "traceback": [
      "\u001b[0;31m---------------------------------------------------------------------------\u001b[0m",
      "\u001b[0;31mNameError\u001b[0m                                 Traceback (most recent call last)",
      "\u001b[0;32m<ipython-input-16-e3485faa1a30>\u001b[0m in \u001b[0;36m<module>\u001b[0;34m\u001b[0m\n\u001b[0;32m----> 1\u001b[0;31m \u001b[0mclient\u001b[0m \u001b[0;34m=\u001b[0m \u001b[0mboto3\u001b[0m\u001b[0;34m.\u001b[0m\u001b[0mclient\u001b[0m\u001b[0;34m(\u001b[0m\u001b[0;34m's3'\u001b[0m\u001b[0;34m)\u001b[0m\u001b[0;34m\u001b[0m\u001b[0;34m\u001b[0m\u001b[0m\n\u001b[0m\u001b[1;32m      2\u001b[0m \u001b[0;34m\u001b[0m\u001b[0m\n\u001b[1;32m      3\u001b[0m \u001b[0mobj\u001b[0m \u001b[0;34m=\u001b[0m \u001b[0mclient\u001b[0m\u001b[0;34m.\u001b[0m\u001b[0mget_object\u001b[0m\u001b[0;34m(\u001b[0m\u001b[0mBucket\u001b[0m\u001b[0;34m=\u001b[0m\u001b[0;34m''\u001b[0m\u001b[0;34m,\u001b[0m \u001b[0mKey\u001b[0m\u001b[0;34m=\u001b[0m\u001b[0;34m''\u001b[0m\u001b[0;34m)\u001b[0m\u001b[0;34m\u001b[0m\u001b[0;34m\u001b[0m\u001b[0m\n\u001b[1;32m      4\u001b[0m \u001b[0mdata\u001b[0m \u001b[0;34m=\u001b[0m \u001b[0mobj\u001b[0m\u001b[0;34m[\u001b[0m\u001b[0;34m'Body'\u001b[0m\u001b[0;34m]\u001b[0m\u001b[0;34m.\u001b[0m\u001b[0mread\u001b[0m\u001b[0;34m(\u001b[0m\u001b[0;34m)\u001b[0m\u001b[0;34m\u001b[0m\u001b[0;34m\u001b[0m\u001b[0m\n\u001b[1;32m      5\u001b[0m \u001b[0mdf1\u001b[0m \u001b[0;34m=\u001b[0m \u001b[0mpd\u001b[0m\u001b[0;34m.\u001b[0m\u001b[0mread_excel\u001b[0m\u001b[0;34m(\u001b[0m\u001b[0mio\u001b[0m\u001b[0;34m.\u001b[0m\u001b[0mBytesIO\u001b[0m\u001b[0;34m(\u001b[0m\u001b[0mdata\u001b[0m\u001b[0;34m)\u001b[0m\u001b[0;34m,\u001b[0m \u001b[0msheet_name\u001b[0m\u001b[0;34m=\u001b[0m\u001b[0;34m'0'\u001b[0m\u001b[0;34m)\u001b[0m\u001b[0;34m\u001b[0m\u001b[0;34m\u001b[0m\u001b[0m\n",
      "\u001b[0;31mNameError\u001b[0m: name 'boto3' is not defined"
     ]
    }
   ],
   "source": [
    "client = boto3.client('s3')\n",
    "\n",
    "obj = client.get_object(Bucket='', Key='')\n",
    "data = obj['Body'].read()\n",
    "df1 = pd.read_excel(io.BytesIO(data), sheet_name='0')\n",
    "df2 = pd.read_excel(io.BytesIO(data), sheet_name='1')\n",
    "\n",
    "head = df2.columns[0]\n",
    "print(head)\n",
    "\n",
    "data = df1.iloc[[8],[0]].values[0]\n",
    "print(data)\n",
    "\n",
    "print(df2)\n",
    "df2.columns = df2.iloc[0]\n",
    "df2 = df2.drop(labels=0, axis=0)\n",
    "df2['Head'] = head\n",
    "df2['ID'] = pd.Series([data,data])\n",
    "\n",
    "print(df2)\n",
    "df2.to_csv('test.csv',index=False)"
   ]
  },
  {
   "cell_type": "markdown",
   "id": "87acc79d-0b3d-4c08-9949-1cdebec7440b",
   "metadata": {},
   "source": [
    "## Merge de bases de datos de forma condicional\n",
    "\n",
    "Lo que se hará es crear un algoritmo que filtre las bases de datos cuyos años de contrato restante sean mayores a uno y luego mostrarlos en bucle hasta que dicha cantidad sea cero"
   ]
  },
  {
   "cell_type": "code",
   "execution_count": null,
   "id": "5b1646a2-479c-4c36-aecd-848e447c7a71",
   "metadata": {},
   "outputs": [],
   "source": [
    "# Auxiliares:\n",
    "free_agents = 'Data/Free_Agents/Free_Agents_'\n",
    "hitting = 'Data/Statistics/Hitting/hitting_'\n",
    "pitching = 'Data/Statistics/Pitching/pitching_'\n",
    "salary = 'Data/Salary/Salary_'\n",
    "teams = 'ETL_data/Teams/free_agents_team_'\n",
    "csv = '.csv'\n",
    "period = 11\n",
    "# Originales:\n",
    "df_free_agents = [None]*period\n",
    "df_hitting = [None]*period\n",
    "df_pitching = [None]*period\n",
    "df_salary = [None]*period\n",
    "df_teams = [None]*period\n",
    "# Copias:\n",
    "df_free_agents_copy = [None]*period\n",
    "df_hitting_copy = [None]*period\n",
    "df_pitching_copy = [None]*period\n",
    "df_salary_copy = [None]*period\n",
    "df_teams_copy = [None]*period\n",
    "# Producto final:\n",
    "df_pitchers = [None]*period\n",
    "df_hitters = [None]*period\n",
    "df_pitchers_free_agents = [None]*period\n",
    "df_hitters_free_agents = [None]*period\n",
    "df_pitchers_no_free_agents = [None]*period\n",
    "df_hitters_no_free_agents = [None]*period"
   ]
  },
  {
   "cell_type": "code",
   "execution_count": null,
   "id": "075392bc-3c5a-4b23-be17-18dc1b8dcaa8",
   "metadata": {
    "tags": []
   },
   "outputs": [],
   "source": [
    "for i in range(0,period):    \n",
    "    df_free_agents[i] = pd.read_csv(free_agents + str(2011 + i) + csv)\n",
    "    df_hitting[i] = pd.read_csv(hitting + str(2011 + i) + csv)\n",
    "    df_pitching[i] = pd.read_csv(pitching + str(2011 + i) + csv)\n",
    "    df_salary[i] = pd.read_csv(salary + str(2011 + i) + csv)\n",
    "    df_teams[i] = pd.read_csv(teams + str(2011 + i) + csv)\n",
    "    \n",
    "    df_free_agents_copy[i] = df_free_agents[i].copy()\n",
    "    df_hitting_copy[i] = df_hitting[i].copy()\n",
    "    df_pitching_copy[i] = df_pitching[i].copy()\n",
    "    df_salary_copy[i] = df_salary[i].copy()\n",
    "    df_teams_copy[i] = pd.read_csv(teams + str(2011 + i) + csv)"
   ]
  },
  {
   "cell_type": "markdown",
   "id": "272c494a-90c2-4627-925f-b5394a588fbf",
   "metadata": {},
   "source": [
    "Veamos el contenido de las bases de datos de los agentes libres"
   ]
  },
  {
   "cell_type": "code",
   "execution_count": null,
   "id": "c2b729e8-9a7d-4700-b3a3-60de81e95607",
   "metadata": {},
   "outputs": [],
   "source": [
    "df_free_agents_copy[4].head()"
   ]
  },
  {
   "cell_type": "markdown",
   "id": "a112506e-17f1-4972-9e63-da21269fa3f0",
   "metadata": {},
   "source": [
    "Filtremos aquellos que tienen más de un año de contrato"
   ]
  },
  {
   "cell_type": "code",
   "execution_count": null,
   "id": "279aa31f-7149-4413-b88a-589fb57a4acb",
   "metadata": {},
   "outputs": [],
   "source": [
    "df_free_agents_copy[4][df_free_agents_copy[4]['YRS'] > 1]"
   ]
  },
  {
   "cell_type": "markdown",
   "id": "b0e8a67e-e579-4015-b4e0-3132c8f56c04",
   "metadata": {},
   "source": [
    "Ahora, haremos un bucle para mostrar progrsivamente los jugadores con contratos que duren más y más años."
   ]
  },
  {
   "cell_type": "code",
   "execution_count": null,
   "id": "8d13e031-b78e-46ad-9209-cc4484da96de",
   "metadata": {},
   "outputs": [],
   "source": [
    "period = 11"
   ]
  },
  {
   "cell_type": "markdown",
   "id": "815c32cc-b203-4e4f-9294-44af1b8c90e3",
   "metadata": {},
   "source": [
    "Veamos la cantidad de datos que se añadirían a cada base de datos anual con respecto a la base de datos de algún año previo"
   ]
  },
  {
   "cell_type": "code",
   "execution_count": null,
   "id": "8dba1f1d-b9fa-4490-b75c-f662075039d8",
   "metadata": {},
   "outputs": [],
   "source": [
    "for year in range(0,period):\n",
    "    \n",
    "    max_year_contract = max(df_free_agents_copy[year]['YRS'])\n",
    "    print(\"Max year = \" + str(max_year_contract))\n",
    "    print('Year = ' + str(2011 + year))\n",
    "    \n",
    "    for incremento in range(0,max_year_contract - 1):\n",
    "        merge = df_free_agents_copy[year][df_free_agents_copy[year]['YRS'] > 1 + incremento]\n",
    "        \n",
    "        print(\"Año base de datos = \" + str(2011 + 1 + incremento))\n",
    "        print(\"Len = \" +str(len(merge)))\n",
    "    print(\"\\n\")\n",
    "    print(\"\\n\")"
   ]
  },
  {
   "cell_type": "markdown",
   "id": "de51f2db-e131-4b9d-bdc6-085f0f1ec45c",
   "metadata": {},
   "source": [
    "Algo que notamos es que hay contratos que se extienden a periodos fuera del año máximo de análisis, 2021. Debido a esto, tendremos que restringir el año a indexar."
   ]
  },
  {
   "cell_type": "code",
   "execution_count": null,
   "id": "10706f4c-a1f1-4de6-bf18-ea1ccd599ec1",
   "metadata": {},
   "outputs": [],
   "source": [
    "for year in range(0,period):\n",
    "    \n",
    "    max_year_contract = max(df_free_agents_copy[year]['YRS'])\n",
    "    print(\"Max year = \" + str(max_year_contract))\n",
    "    print('Year = ' + str(2011 + year))\n",
    "    \n",
    "    for incremento in range(0,max_year_contract - 1):\n",
    "        diff_t = 1 + incremento\n",
    "        real_year = 2011 + diff_t\n",
    "        year_bound = 2021\n",
    "\n",
    "        if real_year <= year_bound:\n",
    "            merge = df_free_agents_copy[year][df_free_agents_copy[year]['YRS'] > diff_t]\n",
    "\n",
    "            print(\"Año base de datos = \" + str(2011 + diff_t))\n",
    "            print(\"Len = \" +str(len(merge)))\n",
    "    print(\"\\n\")\n",
    "    print(\"\\n\")"
   ]
  },
  {
   "cell_type": "markdown",
   "id": "685111f9-efe7-40f4-aa7f-f9a3174d0e97",
   "metadata": {},
   "source": [
    "Un problema que se tiene que tomar en cuenta es que si añadimos los datos a bases de datos posteriores a un año, estas se añadirán otra vez. Debido a esto, es más sencillo controlar esto si guardamos los cambios debido a un dataframe en distintos dataframes."
   ]
  },
  {
   "cell_type": "code",
   "execution_count": null,
   "id": "d4d85501-4503-4e52-8285-593589395c67",
   "metadata": {},
   "outputs": [],
   "source": [
    "period_t = period - 1\n",
    "df_contracts = [None]*(period_t)"
   ]
  },
  {
   "cell_type": "code",
   "execution_count": null,
   "id": "34586cc8-7026-45bb-9227-45da31def917",
   "metadata": {},
   "outputs": [],
   "source": [
    "len(df_contracts)"
   ]
  },
  {
   "cell_type": "markdown",
   "id": "f096a935-9df4-4a6f-a9e9-0de849803490",
   "metadata": {},
   "source": [
    "Solo serán 10 años los que tenemos que tomar en cuenta puesto que los contratos de la base de datos del 2021 no se añadirán a ninguna otra base de datos. Por otro lado, como en el año 2011 no hay ninguna contribución para contratos futuros, omitiremos ese año"
   ]
  },
  {
   "cell_type": "code",
   "execution_count": null,
   "id": "fca0eb2a-96ff-4316-8822-6f29e1629d96",
   "metadata": {},
   "outputs": [],
   "source": [
    "for years in range(1,period_t):\n",
    "    diff_remain = period_t - years\n",
    "    df_contracts[years] = [None]*diff_remain\n",
    "    \n",
    "    print(\"Year = \" + str(2011 + years))\n",
    "    print(\"Length = \" + str(len(df_contracts[years])))\n",
    "    for sub_year in range(0,len(df_contracts[years])):\n",
    "        print(df_contracts[years][sub_year])\n",
    "    \n",
    "    print(\"\")"
   ]
  },
  {
   "cell_type": "markdown",
   "id": "a0c2c2e8-960e-4a5e-8ec5-5d07adfd8e92",
   "metadata": {},
   "source": [
    "Guardemos en cada una de las entradas correspondientes los distintos registros de jugadores con contratos para más de una temporada."
   ]
  },
  {
   "cell_type": "code",
   "execution_count": null,
   "id": "62841ab4-37a0-4d67-9d90-d812631d1ad3",
   "metadata": {},
   "outputs": [],
   "source": [
    "for year in range(1,period_t):\n",
    "    \n",
    "    max_year_contract = max(df_free_agents_copy[year]['YRS'])\n",
    "    years = max_year_contract - 1\n",
    "    df_contracts[year] = [None]*years\n",
    "    \n",
    "    print(\"Max year = \" + str(max_year_contract))\n",
    "    print('Year = ' + str(2011 + year))\n",
    "    \n",
    "    for incremento in range(0,years):\n",
    "        diff_t = 1 + incremento\n",
    "        real_year = 2011 + year + diff_t\n",
    "        year_bound = 2021\n",
    "\n",
    "        if real_year <= year_bound:\n",
    "            df_contracts[year][incremento] = df_free_agents_copy[year][df_free_agents_copy[year]['YRS'] > diff_t]\n",
    "            \n",
    "            print(\"Año base de datos = \" + str(real_year))\n",
    "    print(\"\\n\")\n",
    "    print(\"\\n\")"
   ]
  },
  {
   "cell_type": "markdown",
   "id": "38314850-4392-4ac2-a574-576a05fbea7b",
   "metadata": {},
   "source": [
    "Veamos algunos ejemplos"
   ]
  },
  {
   "cell_type": "code",
   "execution_count": null,
   "id": "9e85e05d-f6b8-4b2a-94d3-61b06120a398",
   "metadata": {},
   "outputs": [],
   "source": [
    "df_contracts[1][2]"
   ]
  },
  {
   "cell_type": "code",
   "execution_count": null,
   "id": "5db84f5f-3043-4dea-9302-1b3fcea8ddb1",
   "metadata": {},
   "outputs": [],
   "source": [
    "df_contracts[3][5]"
   ]
  },
  {
   "cell_type": "markdown",
   "id": "4a6ced03-3beb-4f2a-aaa3-5bb9b6f9f9d3",
   "metadata": {},
   "source": [
    "Concatenemos estas bases de datos con las de los agentes libres"
   ]
  },
  {
   "cell_type": "code",
   "execution_count": null,
   "id": "0cd2085b-4dd3-4d13-b656-0b121be67044",
   "metadata": {},
   "outputs": [],
   "source": [
    "for year in range(1,period_t):\n",
    "    \n",
    "    years = len(df_contracts[year])\n",
    "    \n",
    "    print(\"Max year = \" + str(max_year_contract))\n",
    "    print('Year = ' + str(2011 + year))\n",
    "    \n",
    "    for incremento in range(0,years):\n",
    "        diff_t = 1 + incremento\n",
    "        real_year = 2011 + year + diff_t\n",
    "        year_bound = 2021\n",
    "\n",
    "        if real_year <= year_bound:\n",
    "            frames = [df_free_agents_copy[year + diff_t], df_contracts[year][incremento]]\n",
    "            \n",
    "            df_free_agents_copy[year + diff_t] = pd.concat(frames)\n",
    "\n",
    "            df_free_agents_copy[year + diff_t].reset_index(drop = True, inplace = True)\n",
    "            df_free_agents_copy[year + diff_t] = df_free_agents_copy[year + diff_t].sort_values(by = 'Rank', ascending = True)\n",
    "            \n",
    "            print(\"Año base de datos = \" + str(real_year))\n",
    "    print(\"\\n\")\n",
    "    print(\"\\n\")"
   ]
  },
  {
   "cell_type": "markdown",
   "id": "4500ca12-6171-4627-8323-7b3b72448667",
   "metadata": {},
   "source": [
    "Verifiquemos el contenidos de las bases de datos de los agentes"
   ]
  },
  {
   "cell_type": "code",
   "execution_count": null,
   "id": "44fd5176-bd81-42c7-987c-b1ffb1ad13f3",
   "metadata": {},
   "outputs": [],
   "source": [
    "for year in range(0,period):\n",
    "    print(df_free_agents_copy[year].shape)"
   ]
  },
  {
   "cell_type": "code",
   "execution_count": null,
   "id": "dffb29c9-fb1c-46a6-bdff-7fd2cdb65a3d",
   "metadata": {},
   "outputs": [],
   "source": [
    "for year in range(0,period):\n",
    "    print(df_free_agents_copy[year].loc[0:5])"
   ]
  },
  {
   "cell_type": "code",
   "execution_count": null,
   "id": "503caf57-1e1b-45e1-98af-e702e597283f",
   "metadata": {},
   "outputs": [],
   "source": []
  }
 ],
 "metadata": {
  "kernelspec": {
   "display_name": "Python 3",
   "language": "python",
   "name": "python3"
  },
  "language_info": {
   "codemirror_mode": {
    "name": "ipython",
    "version": 3
   },
   "file_extension": ".py",
   "mimetype": "text/x-python",
   "name": "python",
   "nbconvert_exporter": "python",
   "pygments_lexer": "ipython3",
   "version": "3.8.8"
  }
 },
 "nbformat": 4,
 "nbformat_minor": 5
}
