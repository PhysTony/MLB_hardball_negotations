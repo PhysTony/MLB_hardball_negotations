{
 "cells": [
  {
   "cell_type": "markdown",
   "id": "08dcdc31-dc46-4968-a8f1-5a9735cf30ca",
   "metadata": {},
   "source": [
    "# Algoritmos auxiliares\n",
    "\n",
    "En este script se plantea mostrar cómo funcionan algortimos encontrados en internet. Esto, debido a que hay veces en las que son más eficientes que los algoritmos propios, por lo que solo pondré los que son más eficientes que los propios y que haya encontrado."
   ]
  },
  {
   "cell_type": "code",
   "execution_count": 1,
   "id": "3266438d-efb3-45d8-a850-a52045152b5a",
   "metadata": {},
   "outputs": [],
   "source": [
    "import numpy as np\n",
    "import pandas as pd"
   ]
  },
  {
   "cell_type": "markdown",
   "id": "27ef6b92-6214-4eb0-a3aa-5b8efaa8bd03",
   "metadata": {},
   "source": [
    "### Valores únicos por fila\n",
    "\n",
    "Obtengamos los valores únicos por fila a través de distintos métodos"
   ]
  },
  {
   "cell_type": "code",
   "execution_count": 26,
   "id": "950653ec-2f2c-44a4-89df-e9c9b4ad426d",
   "metadata": {},
   "outputs": [],
   "source": [
    "lst = [[12, 12, 25], [34, 3, 30],\n",
    "       [26, 26, 26], [np.nan, 1, 22], \n",
    "       [np.nan, np.nan, np.nan]]"
   ]
  },
  {
   "cell_type": "code",
   "execution_count": 27,
   "id": "6e184980-42f3-48b8-8f7f-79c755bb9ab4",
   "metadata": {},
   "outputs": [
    {
     "data": {
      "text/html": [
       "<div>\n",
       "<style scoped>\n",
       "    .dataframe tbody tr th:only-of-type {\n",
       "        vertical-align: middle;\n",
       "    }\n",
       "\n",
       "    .dataframe tbody tr th {\n",
       "        vertical-align: top;\n",
       "    }\n",
       "\n",
       "    .dataframe thead th {\n",
       "        text-align: right;\n",
       "    }\n",
       "</style>\n",
       "<table border=\"1\" class=\"dataframe\">\n",
       "  <thead>\n",
       "    <tr style=\"text-align: right;\">\n",
       "      <th></th>\n",
       "      <th>FName</th>\n",
       "      <th>LName</th>\n",
       "      <th>Age</th>\n",
       "    </tr>\n",
       "  </thead>\n",
       "  <tbody>\n",
       "    <tr>\n",
       "      <th>0</th>\n",
       "      <td>12.0</td>\n",
       "      <td>12.0</td>\n",
       "      <td>25.0</td>\n",
       "    </tr>\n",
       "    <tr>\n",
       "      <th>1</th>\n",
       "      <td>34.0</td>\n",
       "      <td>3.0</td>\n",
       "      <td>30.0</td>\n",
       "    </tr>\n",
       "    <tr>\n",
       "      <th>2</th>\n",
       "      <td>26.0</td>\n",
       "      <td>26.0</td>\n",
       "      <td>26.0</td>\n",
       "    </tr>\n",
       "    <tr>\n",
       "      <th>3</th>\n",
       "      <td>NaN</td>\n",
       "      <td>1.0</td>\n",
       "      <td>22.0</td>\n",
       "    </tr>\n",
       "    <tr>\n",
       "      <th>4</th>\n",
       "      <td>NaN</td>\n",
       "      <td>NaN</td>\n",
       "      <td>NaN</td>\n",
       "    </tr>\n",
       "  </tbody>\n",
       "</table>\n",
       "</div>"
      ],
      "text/plain": [
       "   FName  LName   Age\n",
       "0   12.0   12.0  25.0\n",
       "1   34.0    3.0  30.0\n",
       "2   26.0   26.0  26.0\n",
       "3    NaN    1.0  22.0\n",
       "4    NaN    NaN   NaN"
      ]
     },
     "execution_count": 27,
     "metadata": {},
     "output_type": "execute_result"
    }
   ],
   "source": [
    "df = pd.DataFrame(lst, columns =['FName', 'LName', 'Age'], dtype = float)\n",
    "df"
   ]
  },
  {
   "cell_type": "code",
   "execution_count": 28,
   "id": "099932b4-4a81-4023-8968-48bcb2b09870",
   "metadata": {},
   "outputs": [
    {
     "data": {
      "text/plain": [
       "[{12.0, 25.0}, {3.0, 30.0, 34.0}, {26.0}, {nan, 1.0, 22.0}, {nan, nan, nan}]"
      ]
     },
     "execution_count": 28,
     "metadata": {},
     "output_type": "execute_result"
    }
   ],
   "source": [
    "list(map(set,df.values))"
   ]
  },
  {
   "cell_type": "code",
   "execution_count": 29,
   "id": "a4f7e54a-242d-4d70-a65b-3f7a9789712c",
   "metadata": {},
   "outputs": [
    {
     "data": {
      "text/plain": [
       "0         [12.0, 25.0]\n",
       "1    [34.0, 3.0, 30.0]\n",
       "2               [26.0]\n",
       "3          [1.0, 22.0]\n",
       "dtype: object"
      ]
     },
     "execution_count": 29,
     "metadata": {},
     "output_type": "execute_result"
    }
   ],
   "source": [
    "df.stack().groupby(level=0).apply(lambda x: x.unique().tolist())"
   ]
  },
  {
   "cell_type": "markdown",
   "id": "24bcb54e-8f4b-445b-8624-527a11cb5da3",
   "metadata": {},
   "source": [
    "El anterior es el mejor método"
   ]
  },
  {
   "cell_type": "code",
   "execution_count": 30,
   "id": "ad1feaa0-b589-4b4f-94f2-67ea13a395da",
   "metadata": {},
   "outputs": [
    {
     "data": {
      "text/html": [
       "<div>\n",
       "<style scoped>\n",
       "    .dataframe tbody tr th:only-of-type {\n",
       "        vertical-align: middle;\n",
       "    }\n",
       "\n",
       "    .dataframe tbody tr th {\n",
       "        vertical-align: top;\n",
       "    }\n",
       "\n",
       "    .dataframe thead th {\n",
       "        text-align: right;\n",
       "    }\n",
       "</style>\n",
       "<table border=\"1\" class=\"dataframe\">\n",
       "  <thead>\n",
       "    <tr style=\"text-align: right;\">\n",
       "      <th></th>\n",
       "      <th>0</th>\n",
       "      <th>1</th>\n",
       "      <th>2</th>\n",
       "      <th>3</th>\n",
       "      <th>4</th>\n",
       "    </tr>\n",
       "  </thead>\n",
       "  <tbody>\n",
       "    <tr>\n",
       "      <th>unique</th>\n",
       "      <td>[12.0, 25.0]</td>\n",
       "      <td>[34.0, 3.0, 30.0]</td>\n",
       "      <td>[26.0]</td>\n",
       "      <td>[nan, 1.0, 22.0]</td>\n",
       "      <td>[nan]</td>\n",
       "    </tr>\n",
       "  </tbody>\n",
       "</table>\n",
       "</div>"
      ],
      "text/plain": [
       "                   0                  1       2                 3      4\n",
       "unique  [12.0, 25.0]  [34.0, 3.0, 30.0]  [26.0]  [nan, 1.0, 22.0]  [nan]"
      ]
     },
     "execution_count": 30,
     "metadata": {},
     "output_type": "execute_result"
    }
   ],
   "source": [
    "df.T.agg([pd.unique])"
   ]
  },
  {
   "cell_type": "markdown",
   "id": "dffe7e9e-bac0-4e65-a707-df192efed7bd",
   "metadata": {},
   "source": [
    "### Contar valores únicos por fila"
   ]
  },
  {
   "cell_type": "code",
   "execution_count": 31,
   "id": "ae6f78d7-a221-4e47-8cf1-c16a2d1e26cc",
   "metadata": {},
   "outputs": [
    {
     "data": {
      "text/html": [
       "<div>\n",
       "<style scoped>\n",
       "    .dataframe tbody tr th:only-of-type {\n",
       "        vertical-align: middle;\n",
       "    }\n",
       "\n",
       "    .dataframe tbody tr th {\n",
       "        vertical-align: top;\n",
       "    }\n",
       "\n",
       "    .dataframe thead th {\n",
       "        text-align: right;\n",
       "    }\n",
       "</style>\n",
       "<table border=\"1\" class=\"dataframe\">\n",
       "  <thead>\n",
       "    <tr style=\"text-align: right;\">\n",
       "      <th></th>\n",
       "      <th>FName</th>\n",
       "      <th>LName</th>\n",
       "      <th>Age</th>\n",
       "      <th>num_uniq_1</th>\n",
       "    </tr>\n",
       "  </thead>\n",
       "  <tbody>\n",
       "    <tr>\n",
       "      <th>0</th>\n",
       "      <td>12.0</td>\n",
       "      <td>12.0</td>\n",
       "      <td>25.0</td>\n",
       "      <td>2</td>\n",
       "    </tr>\n",
       "    <tr>\n",
       "      <th>1</th>\n",
       "      <td>34.0</td>\n",
       "      <td>3.0</td>\n",
       "      <td>30.0</td>\n",
       "      <td>3</td>\n",
       "    </tr>\n",
       "    <tr>\n",
       "      <th>2</th>\n",
       "      <td>26.0</td>\n",
       "      <td>26.0</td>\n",
       "      <td>26.0</td>\n",
       "      <td>1</td>\n",
       "    </tr>\n",
       "    <tr>\n",
       "      <th>3</th>\n",
       "      <td>NaN</td>\n",
       "      <td>1.0</td>\n",
       "      <td>22.0</td>\n",
       "      <td>2</td>\n",
       "    </tr>\n",
       "    <tr>\n",
       "      <th>4</th>\n",
       "      <td>NaN</td>\n",
       "      <td>NaN</td>\n",
       "      <td>NaN</td>\n",
       "      <td>0</td>\n",
       "    </tr>\n",
       "  </tbody>\n",
       "</table>\n",
       "</div>"
      ],
      "text/plain": [
       "   FName  LName   Age  num_uniq_1\n",
       "0   12.0   12.0  25.0           2\n",
       "1   34.0    3.0  30.0           3\n",
       "2   26.0   26.0  26.0           1\n",
       "3    NaN    1.0  22.0           2\n",
       "4    NaN    NaN   NaN           0"
      ]
     },
     "execution_count": 31,
     "metadata": {},
     "output_type": "execute_result"
    }
   ],
   "source": [
    "df = pd.DataFrame(lst, columns =['FName', 'LName', 'Age'], dtype = float)\n",
    "\n",
    "df['num_uniq_1'] = [len(set(v[pd.notna(v)].tolist())) for v in df.values]\n",
    "df"
   ]
  },
  {
   "cell_type": "code",
   "execution_count": 32,
   "id": "f1a4e28e-2cc7-4049-864e-4e2bd9176374",
   "metadata": {},
   "outputs": [
    {
     "data": {
      "text/html": [
       "<div>\n",
       "<style scoped>\n",
       "    .dataframe tbody tr th:only-of-type {\n",
       "        vertical-align: middle;\n",
       "    }\n",
       "\n",
       "    .dataframe tbody tr th {\n",
       "        vertical-align: top;\n",
       "    }\n",
       "\n",
       "    .dataframe thead th {\n",
       "        text-align: right;\n",
       "    }\n",
       "</style>\n",
       "<table border=\"1\" class=\"dataframe\">\n",
       "  <thead>\n",
       "    <tr style=\"text-align: right;\">\n",
       "      <th></th>\n",
       "      <th>FName</th>\n",
       "      <th>LName</th>\n",
       "      <th>Age</th>\n",
       "      <th>num_uniq_2</th>\n",
       "    </tr>\n",
       "  </thead>\n",
       "  <tbody>\n",
       "    <tr>\n",
       "      <th>0</th>\n",
       "      <td>12.0</td>\n",
       "      <td>12.0</td>\n",
       "      <td>25.0</td>\n",
       "      <td>2.0</td>\n",
       "    </tr>\n",
       "    <tr>\n",
       "      <th>1</th>\n",
       "      <td>34.0</td>\n",
       "      <td>3.0</td>\n",
       "      <td>30.0</td>\n",
       "      <td>3.0</td>\n",
       "    </tr>\n",
       "    <tr>\n",
       "      <th>2</th>\n",
       "      <td>26.0</td>\n",
       "      <td>26.0</td>\n",
       "      <td>26.0</td>\n",
       "      <td>1.0</td>\n",
       "    </tr>\n",
       "    <tr>\n",
       "      <th>3</th>\n",
       "      <td>NaN</td>\n",
       "      <td>1.0</td>\n",
       "      <td>22.0</td>\n",
       "      <td>2.0</td>\n",
       "    </tr>\n",
       "    <tr>\n",
       "      <th>4</th>\n",
       "      <td>NaN</td>\n",
       "      <td>NaN</td>\n",
       "      <td>NaN</td>\n",
       "      <td>NaN</td>\n",
       "    </tr>\n",
       "  </tbody>\n",
       "</table>\n",
       "</div>"
      ],
      "text/plain": [
       "   FName  LName   Age  num_uniq_2\n",
       "0   12.0   12.0  25.0         2.0\n",
       "1   34.0    3.0  30.0         3.0\n",
       "2   26.0   26.0  26.0         1.0\n",
       "3    NaN    1.0  22.0         2.0\n",
       "4    NaN    NaN   NaN         NaN"
      ]
     },
     "execution_count": 32,
     "metadata": {},
     "output_type": "execute_result"
    }
   ],
   "source": [
    "df = pd.DataFrame(lst, columns =['FName', 'LName', 'Age'], dtype = float)\n",
    "\n",
    "# df.join(df.stack().groupby(level=0).nunique().to_frame('num_uniq'))\n",
    "df['num_uniq_2'] = df.stack().groupby(level=0).nunique()\n",
    "df"
   ]
  },
  {
   "cell_type": "code",
   "execution_count": 33,
   "id": "e9e55ea8-07ed-47c2-ab54-d66c3c68d3a8",
   "metadata": {},
   "outputs": [
    {
     "data": {
      "text/html": [
       "<div>\n",
       "<style scoped>\n",
       "    .dataframe tbody tr th:only-of-type {\n",
       "        vertical-align: middle;\n",
       "    }\n",
       "\n",
       "    .dataframe tbody tr th {\n",
       "        vertical-align: top;\n",
       "    }\n",
       "\n",
       "    .dataframe thead th {\n",
       "        text-align: right;\n",
       "    }\n",
       "</style>\n",
       "<table border=\"1\" class=\"dataframe\">\n",
       "  <thead>\n",
       "    <tr style=\"text-align: right;\">\n",
       "      <th></th>\n",
       "      <th>FName</th>\n",
       "      <th>LName</th>\n",
       "      <th>Age</th>\n",
       "      <th>num_uniq_3</th>\n",
       "    </tr>\n",
       "  </thead>\n",
       "  <tbody>\n",
       "    <tr>\n",
       "      <th>0</th>\n",
       "      <td>12.0</td>\n",
       "      <td>12.0</td>\n",
       "      <td>25.0</td>\n",
       "      <td>2</td>\n",
       "    </tr>\n",
       "    <tr>\n",
       "      <th>1</th>\n",
       "      <td>34.0</td>\n",
       "      <td>3.0</td>\n",
       "      <td>30.0</td>\n",
       "      <td>3</td>\n",
       "    </tr>\n",
       "    <tr>\n",
       "      <th>2</th>\n",
       "      <td>26.0</td>\n",
       "      <td>26.0</td>\n",
       "      <td>26.0</td>\n",
       "      <td>1</td>\n",
       "    </tr>\n",
       "    <tr>\n",
       "      <th>3</th>\n",
       "      <td>NaN</td>\n",
       "      <td>1.0</td>\n",
       "      <td>22.0</td>\n",
       "      <td>2</td>\n",
       "    </tr>\n",
       "    <tr>\n",
       "      <th>4</th>\n",
       "      <td>NaN</td>\n",
       "      <td>NaN</td>\n",
       "      <td>NaN</td>\n",
       "      <td>0</td>\n",
       "    </tr>\n",
       "  </tbody>\n",
       "</table>\n",
       "</div>"
      ],
      "text/plain": [
       "   FName  LName   Age  num_uniq_3\n",
       "0   12.0   12.0  25.0           2\n",
       "1   34.0    3.0  30.0           3\n",
       "2   26.0   26.0  26.0           1\n",
       "3    NaN    1.0  22.0           2\n",
       "4    NaN    NaN   NaN           0"
      ]
     },
     "execution_count": 33,
     "metadata": {},
     "output_type": "execute_result"
    }
   ],
   "source": [
    "df = pd.DataFrame(lst, columns =['FName', 'LName', 'Age'], dtype = float)\n",
    "\n",
    "df['num_uniq_3'] = df.apply(pd.Series.nunique, axis=1)\n",
    "df"
   ]
  },
  {
   "cell_type": "markdown",
   "id": "e89ffb29-1e24-4e21-9ba8-6592e9bc534e",
   "metadata": {},
   "source": [
    "### Buscar un valor entre dos dataframes\n",
    "\n",
    "Nos interesa hallar la fila en la que dos dataframes tienen un mismo valor con respecto a una columna"
   ]
  },
  {
   "cell_type": "code",
   "execution_count": 2,
   "id": "2b59d816-a5ed-444c-9a34-0ff5a99ec8f7",
   "metadata": {},
   "outputs": [],
   "source": [
    "df1 = pd.DataFrame({'Time': ['8a', '10p'], 'V1': [1, 2], 'V2': [3, 4]})\n",
    "df2 = pd.DataFrame({'fn': ['8.txt', '10.txt'], 'V1': [3, 2], 'V2': [3, 4]})"
   ]
  },
  {
   "cell_type": "markdown",
   "id": "23cbe968-5a02-4e25-a4f1-af2bf79535a5",
   "metadata": {},
   "source": [
    "Primera solución"
   ]
  },
  {
   "cell_type": "code",
   "execution_count": 3,
   "id": "58315d85-2381-4308-8337-b0a908bac95c",
   "metadata": {},
   "outputs": [
    {
     "data": {
      "text/html": [
       "<div>\n",
       "<style scoped>\n",
       "    .dataframe tbody tr th:only-of-type {\n",
       "        vertical-align: middle;\n",
       "    }\n",
       "\n",
       "    .dataframe tbody tr th {\n",
       "        vertical-align: top;\n",
       "    }\n",
       "\n",
       "    .dataframe thead th {\n",
       "        text-align: right;\n",
       "    }\n",
       "</style>\n",
       "<table border=\"1\" class=\"dataframe\">\n",
       "  <thead>\n",
       "    <tr style=\"text-align: right;\">\n",
       "      <th></th>\n",
       "      <th>Time</th>\n",
       "      <th>V1</th>\n",
       "      <th>V2</th>\n",
       "      <th>fn</th>\n",
       "    </tr>\n",
       "  </thead>\n",
       "  <tbody>\n",
       "    <tr>\n",
       "      <th>1</th>\n",
       "      <td>10p</td>\n",
       "      <td>2</td>\n",
       "      <td>4</td>\n",
       "      <td>10.txt</td>\n",
       "    </tr>\n",
       "  </tbody>\n",
       "</table>\n",
       "</div>"
      ],
      "text/plain": [
       "  Time  V1  V2      fn\n",
       "1  10p   2   4  10.txt"
      ]
     },
     "execution_count": 3,
     "metadata": {},
     "output_type": "execute_result"
    }
   ],
   "source": [
    "df1.merge(df2, on=['V1', 'V2'], how='outer').dropna()"
   ]
  },
  {
   "cell_type": "code",
   "execution_count": 8,
   "id": "76077cfe-af97-4805-96ad-4340d0c2857b",
   "metadata": {},
   "outputs": [
    {
     "data": {
      "text/html": [
       "<div>\n",
       "<style scoped>\n",
       "    .dataframe tbody tr th:only-of-type {\n",
       "        vertical-align: middle;\n",
       "    }\n",
       "\n",
       "    .dataframe tbody tr th {\n",
       "        vertical-align: top;\n",
       "    }\n",
       "\n",
       "    .dataframe thead th {\n",
       "        text-align: right;\n",
       "    }\n",
       "</style>\n",
       "<table border=\"1\" class=\"dataframe\">\n",
       "  <thead>\n",
       "    <tr style=\"text-align: right;\">\n",
       "      <th></th>\n",
       "      <th>fn</th>\n",
       "      <th>Time</th>\n",
       "    </tr>\n",
       "  </thead>\n",
       "  <tbody>\n",
       "    <tr>\n",
       "      <th>0</th>\n",
       "      <td>10.txt</td>\n",
       "      <td>10p</td>\n",
       "    </tr>\n",
       "  </tbody>\n",
       "</table>\n",
       "</div>"
      ],
      "text/plain": [
       "       fn Time\n",
       "0  10.txt  10p"
      ]
     },
     "execution_count": 8,
     "metadata": {},
     "output_type": "execute_result"
    }
   ],
   "source": [
    "df2.merge(df1,how=\"inner\",on=[\"V1\",\"V2\"])[[\"fn\",\"Time\"]]"
   ]
  },
  {
   "cell_type": "code",
   "execution_count": 9,
   "id": "5e6c1adc-fcba-4acc-9cbd-ac31ebda83e8",
   "metadata": {},
   "outputs": [
    {
     "data": {
      "text/html": [
       "<div>\n",
       "<style scoped>\n",
       "    .dataframe tbody tr th:only-of-type {\n",
       "        vertical-align: middle;\n",
       "    }\n",
       "\n",
       "    .dataframe tbody tr th {\n",
       "        vertical-align: top;\n",
       "    }\n",
       "\n",
       "    .dataframe thead th {\n",
       "        text-align: right;\n",
       "    }\n",
       "</style>\n",
       "<table border=\"1\" class=\"dataframe\">\n",
       "  <thead>\n",
       "    <tr style=\"text-align: right;\">\n",
       "      <th></th>\n",
       "      <th>Time</th>\n",
       "      <th>V1</th>\n",
       "      <th>V2</th>\n",
       "      <th>fn</th>\n",
       "      <th>V1</th>\n",
       "      <th>V2</th>\n",
       "    </tr>\n",
       "  </thead>\n",
       "  <tbody>\n",
       "    <tr>\n",
       "      <th>0</th>\n",
       "      <td>8a</td>\n",
       "      <td>1</td>\n",
       "      <td>3</td>\n",
       "      <td>8.txt</td>\n",
       "      <td>3</td>\n",
       "      <td>3</td>\n",
       "    </tr>\n",
       "    <tr>\n",
       "      <th>1</th>\n",
       "      <td>10p</td>\n",
       "      <td>2</td>\n",
       "      <td>4</td>\n",
       "      <td>10.txt</td>\n",
       "      <td>2</td>\n",
       "      <td>4</td>\n",
       "    </tr>\n",
       "  </tbody>\n",
       "</table>\n",
       "</div>"
      ],
      "text/plain": [
       "  Time  V1  V2      fn  V1  V2\n",
       "0   8a   1   3   8.txt   3   3\n",
       "1  10p   2   4  10.txt   2   4"
      ]
     },
     "execution_count": 9,
     "metadata": {},
     "output_type": "execute_result"
    }
   ],
   "source": [
    "pd.concat([df1, df2.reindex(df1.index)], axis=1)"
   ]
  },
  {
   "cell_type": "markdown",
   "id": "708628ec-4a94-445f-a4cd-d97f4b7860c9",
   "metadata": {},
   "source": [
    "Segunda solución y óptima para los propósitos"
   ]
  },
  {
   "cell_type": "code",
   "execution_count": 4,
   "id": "aeb615e2-900d-4b0a-85be-922e52151a09",
   "metadata": {},
   "outputs": [
    {
     "name": "stdout",
     "output_type": "stream",
     "text": [
      "Time    10p\n",
      "V1        2\n",
      "V2        4\n",
      "Name: 1, dtype: object fn    10.txt\n",
      "V1         2\n",
      "V2         4\n",
      "Name: 1, dtype: object\n"
     ]
    }
   ],
   "source": [
    "for row in range(len(df1)):\n",
    "    if (df1.iloc[row,1:] == df2.iloc[row,1:]).all() == True: \n",
    "        print(df1.iloc[row], df2.iloc[row])"
   ]
  },
  {
   "cell_type": "code",
   "execution_count": 6,
   "id": "72cae917-f124-4108-a7e5-84f842d206fb",
   "metadata": {},
   "outputs": [
    {
     "ename": "NameError",
     "evalue": "name 'boto3' is not defined",
     "output_type": "error",
     "traceback": [
      "\u001b[0;31m---------------------------------------------------------------------------\u001b[0m",
      "\u001b[0;31mNameError\u001b[0m                                 Traceback (most recent call last)",
      "\u001b[0;32m<ipython-input-6-a0c3d9d2ca83>\u001b[0m in \u001b[0;36m<module>\u001b[0;34m\u001b[0m\n\u001b[0;32m----> 1\u001b[0;31m \u001b[0mclient\u001b[0m \u001b[0;34m=\u001b[0m \u001b[0mboto3\u001b[0m\u001b[0;34m.\u001b[0m\u001b[0mclient\u001b[0m\u001b[0;34m(\u001b[0m\u001b[0;34m's3'\u001b[0m\u001b[0;34m)\u001b[0m\u001b[0;34m\u001b[0m\u001b[0;34m\u001b[0m\u001b[0m\n\u001b[0m\u001b[1;32m      2\u001b[0m \u001b[0;34m\u001b[0m\u001b[0m\n\u001b[1;32m      3\u001b[0m \u001b[0mobj\u001b[0m \u001b[0;34m=\u001b[0m \u001b[0mclient\u001b[0m\u001b[0;34m.\u001b[0m\u001b[0mget_object\u001b[0m\u001b[0;34m(\u001b[0m\u001b[0mBucket\u001b[0m\u001b[0;34m=\u001b[0m\u001b[0;34m''\u001b[0m\u001b[0;34m,\u001b[0m \u001b[0mKey\u001b[0m\u001b[0;34m=\u001b[0m\u001b[0;34m''\u001b[0m\u001b[0;34m)\u001b[0m\u001b[0;34m\u001b[0m\u001b[0;34m\u001b[0m\u001b[0m\n\u001b[1;32m      4\u001b[0m \u001b[0mdata\u001b[0m \u001b[0;34m=\u001b[0m \u001b[0mobj\u001b[0m\u001b[0;34m[\u001b[0m\u001b[0;34m'Body'\u001b[0m\u001b[0;34m]\u001b[0m\u001b[0;34m.\u001b[0m\u001b[0mread\u001b[0m\u001b[0;34m(\u001b[0m\u001b[0;34m)\u001b[0m\u001b[0;34m\u001b[0m\u001b[0;34m\u001b[0m\u001b[0m\n\u001b[1;32m      5\u001b[0m \u001b[0mdf1\u001b[0m \u001b[0;34m=\u001b[0m \u001b[0mpd\u001b[0m\u001b[0;34m.\u001b[0m\u001b[0mread_excel\u001b[0m\u001b[0;34m(\u001b[0m\u001b[0mio\u001b[0m\u001b[0;34m.\u001b[0m\u001b[0mBytesIO\u001b[0m\u001b[0;34m(\u001b[0m\u001b[0mdata\u001b[0m\u001b[0;34m)\u001b[0m\u001b[0;34m,\u001b[0m \u001b[0msheet_name\u001b[0m\u001b[0;34m=\u001b[0m\u001b[0;34m'0'\u001b[0m\u001b[0;34m)\u001b[0m\u001b[0;34m\u001b[0m\u001b[0;34m\u001b[0m\u001b[0m\n",
      "\u001b[0;31mNameError\u001b[0m: name 'boto3' is not defined"
     ]
    }
   ],
   "source": [
    "client = boto3.client('s3')\n",
    "\n",
    "obj = client.get_object(Bucket='', Key='')\n",
    "data = obj['Body'].read()\n",
    "df1 = pd.read_excel(io.BytesIO(data), sheet_name='0')\n",
    "df2 = pd.read_excel(io.BytesIO(data), sheet_name='1')\n",
    "\n",
    "head = df2.columns[0]\n",
    "print(head)\n",
    "\n",
    "data = df1.iloc[[8],[0]].values[0]\n",
    "print(data)\n",
    "\n",
    "print(df2)\n",
    "df2.columns = df2.iloc[0]\n",
    "df2 = df2.drop(labels=0, axis=0)\n",
    "df2['Head'] = head\n",
    "df2['ID'] = pd.Series([data,data])\n",
    "\n",
    "print(df2)\n",
    "df2.to_csv('test.csv',index=False)"
   ]
  },
  {
   "cell_type": "code",
   "execution_count": null,
   "id": "fd6bf222-bedf-43a6-8f75-d76203820168",
   "metadata": {},
   "outputs": [],
   "source": []
  }
 ],
 "metadata": {
  "kernelspec": {
   "display_name": "Python 3",
   "language": "python",
   "name": "python3"
  },
  "language_info": {
   "codemirror_mode": {
    "name": "ipython",
    "version": 3
   },
   "file_extension": ".py",
   "mimetype": "text/x-python",
   "name": "python",
   "nbconvert_exporter": "python",
   "pygments_lexer": "ipython3",
   "version": "3.8.8"
  }
 },
 "nbformat": 4,
 "nbformat_minor": 5
}
