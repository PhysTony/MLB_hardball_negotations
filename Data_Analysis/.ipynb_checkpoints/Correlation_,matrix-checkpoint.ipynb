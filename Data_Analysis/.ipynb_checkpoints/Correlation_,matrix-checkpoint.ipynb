{
 "cells": [
  {
   "cell_type": "markdown",
   "id": "7c165234-9a0c-4be2-a23d-3003a56d049c",
   "metadata": {},
   "source": [
    "# Matriz de correlación\n",
    "\n",
    "El propósito de este script es mostrar las correlaciones entre las variables de interés con el propósito de dislumbrar posibles instrumentos a usar"
   ]
  },
  {
   "cell_type": "code",
   "execution_count": 14,
   "id": "f3603545-81e5-4921-8d01-2a582f6e76dc",
   "metadata": {},
   "outputs": [
    {
     "name": "stdout",
     "output_type": "stream",
     "text": [
      "Modulos importados\n"
     ]
    }
   ],
   "source": [
    "import pandas as pd\n",
    "import numpy as np\n",
    "import math\n",
    "import os\n",
    "import warnings\n",
    "import statsmodels.api as sm\n",
    "import matplotlib as mpl\n",
    "from matplotlib.colors import ListedColormap\n",
    "import matplotlib.pyplot as plt\n",
    "from matplotlib import rc, rcParams\n",
    "from matplotlib import ticker\n",
    "from matplotlib import cm\n",
    "import matplotlib.gridspec as gridspec\n",
    "import seaborn as sns\n",
    "from termcolor import colored\n",
    "print('Modulos importados')"
   ]
  },
  {
   "cell_type": "code",
   "execution_count": 2,
   "id": "26586c4a-ab81-4493-9da8-86efffcfc145",
   "metadata": {},
   "outputs": [],
   "source": [
    "# Configuraciones\n",
    "warnings.filterwarnings('ignore')"
   ]
  },
  {
   "cell_type": "code",
   "execution_count": 19,
   "id": "2d16e581-4c7c-439c-b509-a7c4b6ce8bac",
   "metadata": {},
   "outputs": [
    {
     "name": "stdout",
     "output_type": "stream",
     "text": [
      "Directorio de trabajo previo: /home/usuario/Documentos/Github/Proyectos/MLB_HN\n"
     ]
    }
   ],
   "source": [
    "# Directorio de trabajo\n",
    "print(\"Directorio de trabajo previo: \" + str(os.getcwd()))\n",
    "# Cambiemoslo\n",
    "os.chdir('/home/usuario/Documentos/Github/Proyectos/MLB_HN/')"
   ]
  },
  {
   "cell_type": "code",
   "execution_count": 20,
   "id": "242eeba6-4b37-4a35-9bc2-a8f62b5fd643",
   "metadata": {},
   "outputs": [
    {
     "name": "stdout",
     "output_type": "stream",
     "text": [
      "/home/usuario/Documentos/Github/Proyectos/MLB_HN\n",
      "Nuevo directorio de trabajo: None\n"
     ]
    }
   ],
   "source": [
    "# Veamos el directorio actual de trabajo\n",
    "print(os.getcwd())\n",
    "# El directorio anterior es el correcto, pero si no lo fuese, hacemos lo sigueinte:\n",
    "path = '/home/usuario/Documentos/Github/Proyectos/MLB_HN'\n",
    "print(\"Nuevo directorio de trabajo: \" + str(os.chdir(path)))"
   ]
  },
  {
   "cell_type": "markdown",
   "id": "5ebb00d1-ec8b-49ef-a98c-c7bbfb9808be",
   "metadata": {},
   "source": [
    "Importemo el panel final del modelo dinámico de los bateadores y fildeadores"
   ]
  },
  {
   "cell_type": "code",
   "execution_count": 21,
   "id": "661ffb51-9833-4bfd-b399-0771c786b550",
   "metadata": {},
   "outputs": [],
   "source": [
    "path = 'ETL_Data/Panel/General/Dynamic_model/'\n",
    "csv = '.csv'\n",
    "hitter_fa = pd.read_csv(path + 'dynamic_model_hitter' + csv)\n",
    "fielder_fa= pd.read_csv(path + 'dynamic_model_fielder' + csv)"
   ]
  },
  {
   "cell_type": "markdown",
   "id": "bc7b5838-14d8-4a48-95ba-df34fd716462",
   "metadata": {},
   "source": [
    "FIltremos solo las columnas numéricas"
   ]
  },
  {
   "cell_type": "code",
   "execution_count": 22,
   "id": "c3389cf6-b976-4cd3-8ce2-38b7c2ce5dd8",
   "metadata": {},
   "outputs": [],
   "source": [
    "hitter_fa_num = hitter_fa.select_dtypes(include=['number'])\n",
    "fielder_fa_num = fielder_fa.select_dtypes(include=['number'])"
   ]
  },
  {
   "cell_type": "code",
   "execution_count": 23,
   "id": "02e0bc0a-755a-42c9-936d-d6624b0496dd",
   "metadata": {},
   "outputs": [],
   "source": [
    "hitter_corr_matrix = hitter_fa_num.corr()\n",
    "fielder_corr_matrix = fielder_fa_num.corr()"
   ]
  },
  {
   "cell_type": "code",
   "execution_count": null,
   "id": "c63c99b8-93d4-4897-acc7-06daf0a82c01",
   "metadata": {},
   "outputs": [],
   "source": [
    "plt.figure(figsize=(145, 155))\n",
    "\n",
    "g = sns.heatmap(hitter_corr_matrix, annot = True, cmap = 'rocket',\n",
    "                #xticklabels = labels_new, yticklabels = labels_new,\n",
    "                annot_kws={\"size\": 5, 'fontweight':'bold', 'fontfamily':'serif'}, \n",
    "                cbar_kws={'label': 'Correlación'},\n",
    "                fmt=\".2%\", cbar=False, center = 0, square = True,\n",
    "                linewidth = 2, linecolor = 'royalblue')\n",
    "\n",
    "plt.title('Matriz de correlación - Bateadores', fontsize = 80, \n",
    "          fontweight = 'bold', y = 1.05, \n",
    "          color = 'black')\n",
    "plt.xticks(fontsize = 16, fontweight = 'bold', \n",
    "           rotation = 90, color = 'black')\n",
    "plt.yticks(fontsize = 16, fontweight = 'bold', \n",
    "           rotation = 0, color = 'black')\n",
    "plt.savefig(\"Visualizations/Analysis/hitter_correlation_matrix_fa.png\")\n",
    "plt.show()"
   ]
  },
  {
   "cell_type": "code",
   "execution_count": null,
   "id": "d3e6f972-27ec-4638-ba09-3da5b0bee600",
   "metadata": {},
   "outputs": [],
   "source": [
    "plt.figure(figsize=(145, 155))\n",
    "\n",
    "g = sns.heatmap(fielder_corr_matrix, annot = True, cmap = 'rocket',\n",
    "                #xticklabels = labels_new, yticklabels = labels_new,\n",
    "                annot_kws={\"size\": 10, 'fontweight':'bold', 'fontfamily':'serif'}, \n",
    "                cbar_kws={'label': 'Correlación'},\n",
    "                fmt=\".2%\", cbar=False, center = 0, square = True,\n",
    "                linewidth = 2, linecolor = 'royalblue')\n",
    "\n",
    "plt.title('Matriz de correlación - Fildeadores', fontsize = 40, \n",
    "          fontweight = 'bold', y = 1.05, \n",
    "          color = 'darkgoldenrod')\n",
    "plt.xticks(fontsize = 16, fontweight = 'bold', \n",
    "           rotation = 90, color = 'darkred')\n",
    "plt.yticks(fontsize = 16, fontweight = 'bold', \n",
    "           rotation = 0, color = 'darkred')\n",
    "plt.savefig(\"Visualizations/Analysis/fielder_correlation_matrix_fa.png\")\n",
    "plt.show()"
   ]
  },
  {
   "cell_type": "markdown",
   "id": "b10e0c73-e5da-4399-a1d7-b96aae5b73c7",
   "metadata": {},
   "source": [
    "Sin embargo, nos falta ver las correlaciones entre los grupos que haremos las regresiones:\n",
    "\n",
    "**Ofensivos:**\n",
    "\n",
    "- **Bateador designado (DH).**\n",
    "- **No bateador designado (H).**\n",
    "\n",
    "Debido a la falta de observaciones para los _outfielders_ es que se omitirá su estimación. Por otro lado, debido a que la mayoría de los datos para los fildeadores son de los lanzadores, podemos agruparlos de la siguiente manera\n",
    "\n",
    "**Defensivos:**\n",
    "\n",
    "- **Starting pitcher:** Lanzador inicial (SP).\n",
    "- **Relief pitcher:** Lanzador de relevo (RP) y lanzador de cierre (RP/CL)\n",
    "- **Campo corto (SS).**"
   ]
  },
  {
   "cell_type": "code",
   "execution_count": 31,
   "id": "df711dfd-3190-49d1-ada4-6320668f5f04",
   "metadata": {},
   "outputs": [
    {
     "ename": "KeyError",
     "evalue": "'Position_t'",
     "output_type": "error",
     "traceback": [
      "\u001b[0;31m---------------------------------------------------------------------------\u001b[0m",
      "\u001b[0;31mKeyError\u001b[0m                                  Traceback (most recent call last)",
      "\u001b[0;32m~/anaconda3/lib/python3.8/site-packages/pandas/core/indexes/base.py\u001b[0m in \u001b[0;36mget_loc\u001b[0;34m(self, key, method, tolerance)\u001b[0m\n\u001b[1;32m   3079\u001b[0m             \u001b[0;32mtry\u001b[0m\u001b[0;34m:\u001b[0m\u001b[0;34m\u001b[0m\u001b[0;34m\u001b[0m\u001b[0m\n\u001b[0;32m-> 3080\u001b[0;31m                 \u001b[0;32mreturn\u001b[0m \u001b[0mself\u001b[0m\u001b[0;34m.\u001b[0m\u001b[0m_engine\u001b[0m\u001b[0;34m.\u001b[0m\u001b[0mget_loc\u001b[0m\u001b[0;34m(\u001b[0m\u001b[0mcasted_key\u001b[0m\u001b[0;34m)\u001b[0m\u001b[0;34m\u001b[0m\u001b[0;34m\u001b[0m\u001b[0m\n\u001b[0m\u001b[1;32m   3081\u001b[0m             \u001b[0;32mexcept\u001b[0m \u001b[0mKeyError\u001b[0m \u001b[0;32mas\u001b[0m \u001b[0merr\u001b[0m\u001b[0;34m:\u001b[0m\u001b[0;34m\u001b[0m\u001b[0;34m\u001b[0m\u001b[0m\n",
      "\u001b[0;32mpandas/_libs/index.pyx\u001b[0m in \u001b[0;36mpandas._libs.index.IndexEngine.get_loc\u001b[0;34m()\u001b[0m\n",
      "\u001b[0;32mpandas/_libs/index.pyx\u001b[0m in \u001b[0;36mpandas._libs.index.IndexEngine.get_loc\u001b[0;34m()\u001b[0m\n",
      "\u001b[0;32mpandas/_libs/hashtable_class_helper.pxi\u001b[0m in \u001b[0;36mpandas._libs.hashtable.PyObjectHashTable.get_item\u001b[0;34m()\u001b[0m\n",
      "\u001b[0;32mpandas/_libs/hashtable_class_helper.pxi\u001b[0m in \u001b[0;36mpandas._libs.hashtable.PyObjectHashTable.get_item\u001b[0;34m()\u001b[0m\n",
      "\u001b[0;31mKeyError\u001b[0m: 'Position_t'",
      "\nThe above exception was the direct cause of the following exception:\n",
      "\u001b[0;31mKeyError\u001b[0m                                  Traceback (most recent call last)",
      "\u001b[0;32m<ipython-input-31-93cbe5346e3c>\u001b[0m in \u001b[0;36m<module>\u001b[0;34m\u001b[0m\n\u001b[1;32m      3\u001b[0m \u001b[0;34m\u001b[0m\u001b[0m\n\u001b[1;32m      4\u001b[0m \u001b[0;31m# filter the data by category\u001b[0m\u001b[0;34m\u001b[0m\u001b[0;34m\u001b[0m\u001b[0;34m\u001b[0m\u001b[0m\n\u001b[0;32m----> 5\u001b[0;31m \u001b[0md_hitter_fa\u001b[0m \u001b[0;34m=\u001b[0m \u001b[0mhitter_fa\u001b[0m\u001b[0;34m.\u001b[0m\u001b[0mloc\u001b[0m\u001b[0;34m[\u001b[0m\u001b[0mhitter_fa\u001b[0m\u001b[0;34m[\u001b[0m\u001b[0;34m'Position_t'\u001b[0m\u001b[0;34m]\u001b[0m \u001b[0;34m==\u001b[0m \u001b[0;34m'DH'\u001b[0m\u001b[0;34m]\u001b[0m\u001b[0;34m\u001b[0m\u001b[0;34m\u001b[0m\u001b[0m\n\u001b[0m",
      "\u001b[0;32m~/anaconda3/lib/python3.8/site-packages/pandas/core/frame.py\u001b[0m in \u001b[0;36m__getitem__\u001b[0;34m(self, key)\u001b[0m\n\u001b[1;32m   3022\u001b[0m             \u001b[0;32mif\u001b[0m \u001b[0mself\u001b[0m\u001b[0;34m.\u001b[0m\u001b[0mcolumns\u001b[0m\u001b[0;34m.\u001b[0m\u001b[0mnlevels\u001b[0m \u001b[0;34m>\u001b[0m \u001b[0;36m1\u001b[0m\u001b[0;34m:\u001b[0m\u001b[0;34m\u001b[0m\u001b[0;34m\u001b[0m\u001b[0m\n\u001b[1;32m   3023\u001b[0m                 \u001b[0;32mreturn\u001b[0m \u001b[0mself\u001b[0m\u001b[0;34m.\u001b[0m\u001b[0m_getitem_multilevel\u001b[0m\u001b[0;34m(\u001b[0m\u001b[0mkey\u001b[0m\u001b[0;34m)\u001b[0m\u001b[0;34m\u001b[0m\u001b[0;34m\u001b[0m\u001b[0m\n\u001b[0;32m-> 3024\u001b[0;31m             \u001b[0mindexer\u001b[0m \u001b[0;34m=\u001b[0m \u001b[0mself\u001b[0m\u001b[0;34m.\u001b[0m\u001b[0mcolumns\u001b[0m\u001b[0;34m.\u001b[0m\u001b[0mget_loc\u001b[0m\u001b[0;34m(\u001b[0m\u001b[0mkey\u001b[0m\u001b[0;34m)\u001b[0m\u001b[0;34m\u001b[0m\u001b[0;34m\u001b[0m\u001b[0m\n\u001b[0m\u001b[1;32m   3025\u001b[0m             \u001b[0;32mif\u001b[0m \u001b[0mis_integer\u001b[0m\u001b[0;34m(\u001b[0m\u001b[0mindexer\u001b[0m\u001b[0;34m)\u001b[0m\u001b[0;34m:\u001b[0m\u001b[0;34m\u001b[0m\u001b[0;34m\u001b[0m\u001b[0m\n\u001b[1;32m   3026\u001b[0m                 \u001b[0mindexer\u001b[0m \u001b[0;34m=\u001b[0m \u001b[0;34m[\u001b[0m\u001b[0mindexer\u001b[0m\u001b[0;34m]\u001b[0m\u001b[0;34m\u001b[0m\u001b[0;34m\u001b[0m\u001b[0m\n",
      "\u001b[0;32m~/anaconda3/lib/python3.8/site-packages/pandas/core/indexes/base.py\u001b[0m in \u001b[0;36mget_loc\u001b[0;34m(self, key, method, tolerance)\u001b[0m\n\u001b[1;32m   3080\u001b[0m                 \u001b[0;32mreturn\u001b[0m \u001b[0mself\u001b[0m\u001b[0;34m.\u001b[0m\u001b[0m_engine\u001b[0m\u001b[0;34m.\u001b[0m\u001b[0mget_loc\u001b[0m\u001b[0;34m(\u001b[0m\u001b[0mcasted_key\u001b[0m\u001b[0;34m)\u001b[0m\u001b[0;34m\u001b[0m\u001b[0;34m\u001b[0m\u001b[0m\n\u001b[1;32m   3081\u001b[0m             \u001b[0;32mexcept\u001b[0m \u001b[0mKeyError\u001b[0m \u001b[0;32mas\u001b[0m \u001b[0merr\u001b[0m\u001b[0;34m:\u001b[0m\u001b[0;34m\u001b[0m\u001b[0;34m\u001b[0m\u001b[0m\n\u001b[0;32m-> 3082\u001b[0;31m                 \u001b[0;32mraise\u001b[0m \u001b[0mKeyError\u001b[0m\u001b[0;34m(\u001b[0m\u001b[0mkey\u001b[0m\u001b[0;34m)\u001b[0m \u001b[0;32mfrom\u001b[0m \u001b[0merr\u001b[0m\u001b[0;34m\u001b[0m\u001b[0;34m\u001b[0m\u001b[0m\n\u001b[0m\u001b[1;32m   3083\u001b[0m \u001b[0;34m\u001b[0m\u001b[0m\n\u001b[1;32m   3084\u001b[0m         \u001b[0;32mif\u001b[0m \u001b[0mtolerance\u001b[0m \u001b[0;32mis\u001b[0m \u001b[0;32mnot\u001b[0m \u001b[0;32mNone\u001b[0m\u001b[0;34m:\u001b[0m\u001b[0;34m\u001b[0m\u001b[0;34m\u001b[0m\u001b[0m\n",
      "\u001b[0;31mKeyError\u001b[0m: 'Position_t'"
     ]
    }
   ],
   "source": [
    "# create a list of category names to filter on\n",
    "categories_to_filter = ['A', 'B']\n",
    "\n",
    "# filter the data by category\n",
    "d_hitter_fa = hitter_fa.loc[hitter_fa['Posicion_t'] == 'DH']"
   ]
  },
  {
   "cell_type": "code",
   "execution_count": null,
   "id": "ccf7deff-ec81-407a-9550-549c3fa6995f",
   "metadata": {},
   "outputs": [],
   "source": []
  }
 ],
 "metadata": {
  "kernelspec": {
   "display_name": "Python 3",
   "language": "python",
   "name": "python3"
  },
  "language_info": {
   "codemirror_mode": {
    "name": "ipython",
    "version": 3
   },
   "file_extension": ".py",
   "mimetype": "text/x-python",
   "name": "python",
   "nbconvert_exporter": "python",
   "pygments_lexer": "ipython3",
   "version": "3.8.8"
  }
 },
 "nbformat": 4,
 "nbformat_minor": 5
}
