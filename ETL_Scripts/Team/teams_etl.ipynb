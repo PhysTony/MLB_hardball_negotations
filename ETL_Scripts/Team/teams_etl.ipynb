{
 "cells": [
  {
   "cell_type": "markdown",
   "id": "645dee07-f525-4e79-ad68-d72ec2d581af",
   "metadata": {},
   "source": [
    "# Team dataframes\n",
    "\n",
    "En este apartado creamos la base de datos de los agente libres, pero agregada por equipo. Las secciones mostradas tienen los siguientes propósitos:\n",
    "- Visualización de las bases de datos creadas manualmente.\n",
    "    - Acrónimos de los equipos.\n",
    "    - Victorias anuales\n",
    "- Creación de la base de datos de corte transversal con datos generales del equipo."
   ]
  },
  {
   "cell_type": "markdown",
   "id": "59ced6d8-1e0f-4564-b090-f31d7e061e86",
   "metadata": {},
   "source": [
    "Importemos los modulos necesarios así como especificar la configuración deseada."
   ]
  },
  {
   "cell_type": "code",
   "execution_count": 1,
   "id": "e6fe22e8-28fe-44e0-80c1-2b82952b481b",
   "metadata": {},
   "outputs": [
    {
     "name": "stdout",
     "output_type": "stream",
     "text": [
      "Modulos importados\n"
     ]
    }
   ],
   "source": [
    "import pandas as pd\n",
    "import numpy as np\n",
    "import math\n",
    "import os\n",
    "import warnings\n",
    "print('Modulos importados')"
   ]
  },
  {
   "cell_type": "code",
   "execution_count": 2,
   "id": "b0494034-36fc-4249-a681-39bf89f6d635",
   "metadata": {},
   "outputs": [],
   "source": [
    "# Configuraciones\n",
    "warnings.filterwarnings('ignore')\n",
    "# Reduzcamos el número de línea a leer\n",
    "pd.options.display.max_rows = 5"
   ]
  },
  {
   "cell_type": "code",
   "execution_count": 3,
   "id": "99375a07-cbf1-4cca-9eff-3b01566daa34",
   "metadata": {},
   "outputs": [],
   "source": [
    "# Directorio de trabajo\n",
    "os.getcwd()\n",
    "# Cambiemoslo\n",
    "os.chdir('/home/usuario/Documentos/Github/Proyectos/MLB_HN/')"
   ]
  },
  {
   "cell_type": "markdown",
   "id": "36899655-f3f9-4cad-9a0c-c80939c218da",
   "metadata": {},
   "source": [
    "Lo que se hará ahora es crear listas donde guardaremos los datos de interes de las bases de datos a lo largo del periodo de interes."
   ]
  },
  {
   "cell_type": "code",
   "execution_count": 16,
   "id": "207f9bd9-76f5-44a3-8844-67b29ca5aee6",
   "metadata": {},
   "outputs": [],
   "source": [
    "# Años de análisis\n",
    "csv = '.csv'\n",
    "period = 12\n",
    "team_path = 'Data/Free_Agent_Team_Salary/team_salary_'\n",
    "# Equipos\n",
    "teams = []\n",
    "# Originales:\n",
    "df_team = [None]*period"
   ]
  },
  {
   "cell_type": "markdown",
   "id": "37d1241a-1b90-4f14-b7cb-7afa815f67bb",
   "metadata": {},
   "source": [
    "### Acrónimos de los equipos\n",
    "\n",
    "Se obtendrán los equipos que están solo en las bases de datos para reducir el número de equipos y tiempo de análisis a lo largo del trabajo."
   ]
  },
  {
   "cell_type": "code",
   "execution_count": 17,
   "id": "315a84b9-1188-41cc-baa1-e603e82ee0e7",
   "metadata": {},
   "outputs": [],
   "source": [
    "for i in range(0,period):    \n",
    "    df_team[i] = pd.read_csv(team_path + str(2011 + i) + csv)\n",
    "    values = df_team[i].Team.unique().tolist()\n",
    "    \n",
    "    teams.append(values)"
   ]
  },
  {
   "cell_type": "markdown",
   "id": "3ff2bd50-7041-48ec-b140-79135fc6fd6b",
   "metadata": {},
   "source": [
    "Ya se guardaron en cada entrada de lista *teams* cada una de las listas que contiene los nombres (sin repetir) de los equipos en las distintas bases de datos. Ahora se tiene que pasar a una lista plana que no contenga listas, sino solo el contenido de todas estas"
   ]
  },
  {
   "cell_type": "code",
   "execution_count": 18,
   "id": "3e6ca518-5356-4f56-97cf-9dfc9e9e5078",
   "metadata": {},
   "outputs": [
    {
     "data": {
      "text/plain": [
       "(12,)"
      ]
     },
     "execution_count": 18,
     "metadata": {},
     "output_type": "execute_result"
    }
   ],
   "source": [
    "# Veamos que la dimensión de la lista es igual al número de bases de datos\n",
    "np.shape(teams)"
   ]
  },
  {
   "cell_type": "code",
   "execution_count": 19,
   "id": "c41ed97a-3210-4fcc-831d-1c957b3d88a4",
   "metadata": {},
   "outputs": [],
   "source": [
    "# Guardaremos el contenido de todas las listas en otra lista\n",
    "# Esta lista solo contendrá valores númericos y no listas\n",
    "all_teams = [name for team in teams for name in team]"
   ]
  },
  {
   "cell_type": "markdown",
   "id": "4b1412f9-2bf9-4dbf-8034-23b55c8dbb69",
   "metadata": {},
   "source": [
    "Nótese que ahora incrementa el número de entradas en la lista como e ra de esperarse"
   ]
  },
  {
   "cell_type": "code",
   "execution_count": 20,
   "id": "5af07cec-0c25-48db-a2b0-6685951da7cc",
   "metadata": {},
   "outputs": [
    {
     "data": {
      "text/plain": [
       "(315,)"
      ]
     },
     "execution_count": 20,
     "metadata": {},
     "output_type": "execute_result"
    }
   ],
   "source": [
    "np.shape(all_teams)"
   ]
  },
  {
   "cell_type": "markdown",
   "id": "52e63c74-571f-4996-ac51-d3c36936f40c",
   "metadata": {},
   "source": [
    "Para contruir la base de datos de los acrónimos tenemos que auxiliarnos solo de los equipos que están en nuestras bases de datos ya que han existido muchos acrónimos y equipos a lo largo de la historia y no necesariamente todos los equipos actuales están en nuestras bases de datos. Por otro lado, nos serviría de guía para crear de manera eficiente la base de datos de los acrónimos."
   ]
  },
  {
   "cell_type": "code",
   "execution_count": 21,
   "id": "263ceb8d-7b7a-4766-979e-37157b0fbc26",
   "metadata": {},
   "outputs": [
    {
     "name": "stdout",
     "output_type": "stream",
     "text": [
      "['Arizona Diamondbacks' 'Atlanta Braves' 'Baltimore Orioles'\n",
      " 'Boston Red Sox' 'Chicago Cubs' 'Chicago White Sox' 'Cincinnati Reds'\n",
      " 'Cleveland Guardians' 'Colorado Rockies' 'Detroit Tigers'\n",
      " 'Houston Astros' 'Kansas City Royals' 'Los Angeles Angels'\n",
      " 'Los Angeles Dodgers' 'Miami Marlins' 'Milwaukee Brewers'\n",
      " 'Minnesota Twins' 'New York Mets' 'New York Yankees' 'Oakland Athletics'\n",
      " 'Philadelphia Phillies' 'Pittsburgh Pirates' 'San Diego Padres'\n",
      " 'San Francisco Giants' 'Seattle Mariners' 'St. Louis Cardinals'\n",
      " 'Tampa Bay Rays' 'Texas Rangers' 'Toronto Blue Jays'\n",
      " 'Washington Nationals']\n"
     ]
    }
   ],
   "source": [
    "unique_teams = np.unique(np.array(all_teams))\n",
    "print(unique_teams)"
   ]
  },
  {
   "cell_type": "code",
   "execution_count": 22,
   "id": "758a5df2-c9f1-4dfe-8d53-acad9cc1b2f9",
   "metadata": {},
   "outputs": [
    {
     "name": "stdout",
     "output_type": "stream",
     "text": [
      "(30,)\n"
     ]
    }
   ],
   "source": [
    "# Cuya dimensión es\n",
    "print(np.shape(unique_teams))"
   ]
  },
  {
   "cell_type": "markdown",
   "id": "26a32e74-871b-4e5e-9fdb-6693ae071b86",
   "metadata": {},
   "source": [
    "Por otro lado, hay equipos que no han tenido el mismo acrónimo a lo largo de los años, por lo que repetiremos el proceso anterior para los acrónimos contenidos en las bases de datos que contiene a todos los jugadores. Esta se creo en el *script* llamado *Players.ipynb*."
   ]
  },
  {
   "cell_type": "code",
   "execution_count": 23,
   "id": "668ede3d-9a1b-42f3-9699-7793e9c62a49",
   "metadata": {},
   "outputs": [],
   "source": [
    "# Auxiliares\n",
    "csv = '.csv'\n",
    "# Jugadores\n",
    "hitters = []\n",
    "pitchers = []\n",
    "# Originales:\n",
    "df_total_hitters = [None]*period\n",
    "df_total_pitchers = [None]*period"
   ]
  },
  {
   "cell_type": "markdown",
   "id": "d7ece993-8cde-46f0-a076-8e7700df09c6",
   "metadata": {},
   "source": [
    "El proceso que se muestra a continuación es totalmente análogo al que se hizo para obtener los acrónimos de los equipos en las bases de datos con prefijo \"team_salary\"."
   ]
  },
  {
   "cell_type": "code",
   "execution_count": 26,
   "id": "cc8112d5-2f2a-41b2-8a2e-fc66542ab961",
   "metadata": {},
   "outputs": [],
   "source": [
    "for i in range(0,period):\n",
    "    total_hitters = 'Data/Statistics/Hitting/hitting_'\n",
    "    total_pitchers = 'Data/Statistics/Pitching/pitching_'\n",
    "    \n",
    "    df_total_hitters[i] = pd.read_csv(total_hitters + str(2011 + i) + csv)\n",
    "    df_total_pitchers[i] = pd.read_csv(total_pitchers + str(2011 + i) + csv)\n",
    "    values_1 = df_total_hitters[i]['Team'].unique().tolist()\n",
    "    values_2 = df_total_pitchers[i]['Team'].unique().tolist()\n",
    "    \n",
    "    hitters.append(values_1)\n",
    "    pitchers.append(values_2)"
   ]
  },
  {
   "cell_type": "code",
   "execution_count": 27,
   "id": "04fa7521-57cd-43b2-9d4c-80a6eee9d8eb",
   "metadata": {},
   "outputs": [],
   "source": [
    "# Ahora obtendremos el total de acrónimos relacionados a los jugadores\n",
    "all_hitters = [name for hitter in hitters for name in hitter]\n",
    "all_pitchers = [name for pitcher in pitchers for name in pitcher]\n",
    "players = [all_hitters, all_pitchers]\n",
    "all_players = [name for player in players for name in player]\n",
    "unique_players = np.unique(np.array(all_players))"
   ]
  },
  {
   "cell_type": "code",
   "execution_count": 28,
   "id": "828ca50f-0961-4bf2-9d2b-418f0b1d34d9",
   "metadata": {},
   "outputs": [
    {
     "name": "stdout",
     "output_type": "stream",
     "text": [
      "(30,)\n",
      "['ARI' 'ATL' 'BAL' 'BOS' 'CHC' 'CHW' 'CIN' 'CLE' 'COL' 'DET' 'HOU' 'KC'\n",
      " 'LAA' 'LAD' 'MIA' 'MIL' 'MIN' 'NYM' 'NYY' 'OAK' 'PHI' 'PIT' 'SD' 'SEA'\n",
      " 'SF' 'STL' 'TB' 'TEX' 'TOR' 'WSH']\n"
     ]
    }
   ],
   "source": [
    "# Chequemos la dimensión y valores\n",
    "print(np.shape(unique_players))\n",
    "print(unique_players)"
   ]
  },
  {
   "cell_type": "markdown",
   "id": "c12da598-2dac-433a-b7ea-69380148e1be",
   "metadata": {},
   "source": [
    "Se aprecia que tienen el mismo número de acrónimos que equipos en ambas listas obtenidas con valores únicos. Falta ver que sí correspondan los acrónimos a los equipos en las distintas bases de datos.\n",
    "\n",
    "Debido a que no hay una base de datos con los acrónimos de los equipos, el nombre usual de los equipos y las victorias; se tendrá que construir manuealmente, lo cual se hará fuera de este *script*.\n",
    "\n",
    "El resultado obtenido fue el siguiente:"
   ]
  },
  {
   "cell_type": "code",
   "execution_count": 29,
   "id": "8818e8d5-f501-4125-8ee4-3a23e6eb9014",
   "metadata": {},
   "outputs": [],
   "source": [
    "acronym_path = 'Data/Teams/team_acronym.csv'\n",
    "acronyms = pd.read_csv(acronym_path)"
   ]
  },
  {
   "cell_type": "code",
   "execution_count": 30,
   "id": "fd942bc6-1461-4d3b-97bb-713b3e9c2df6",
   "metadata": {},
   "outputs": [
    {
     "data": {
      "text/html": [
       "<div>\n",
       "<style scoped>\n",
       "    .dataframe tbody tr th:only-of-type {\n",
       "        vertical-align: middle;\n",
       "    }\n",
       "\n",
       "    .dataframe tbody tr th {\n",
       "        vertical-align: top;\n",
       "    }\n",
       "\n",
       "    .dataframe thead th {\n",
       "        text-align: right;\n",
       "    }\n",
       "</style>\n",
       "<table border=\"1\" class=\"dataframe\">\n",
       "  <thead>\n",
       "    <tr style=\"text-align: right;\">\n",
       "      <th></th>\n",
       "      <th>Equipo</th>\n",
       "      <th>Acronimo</th>\n",
       "      <th>Estado</th>\n",
       "    </tr>\n",
       "  </thead>\n",
       "  <tbody>\n",
       "    <tr>\n",
       "      <th>0</th>\n",
       "      <td>Arizona Diamondbacks</td>\n",
       "      <td>ARI</td>\n",
       "      <td>Arizona</td>\n",
       "    </tr>\n",
       "    <tr>\n",
       "      <th>1</th>\n",
       "      <td>Atlanta Braves</td>\n",
       "      <td>ATL</td>\n",
       "      <td>Georgia</td>\n",
       "    </tr>\n",
       "    <tr>\n",
       "      <th>2</th>\n",
       "      <td>Baltimore Orioles</td>\n",
       "      <td>BAL</td>\n",
       "      <td>Maryland</td>\n",
       "    </tr>\n",
       "    <tr>\n",
       "      <th>3</th>\n",
       "      <td>Boston Red Sox</td>\n",
       "      <td>BOS</td>\n",
       "      <td>Massachusetts</td>\n",
       "    </tr>\n",
       "    <tr>\n",
       "      <th>4</th>\n",
       "      <td>Chicago Cubs</td>\n",
       "      <td>CHC</td>\n",
       "      <td>Illinois</td>\n",
       "    </tr>\n",
       "  </tbody>\n",
       "</table>\n",
       "</div>"
      ],
      "text/plain": [
       "                 Equipo Acronimo         Estado\n",
       "0  Arizona Diamondbacks      ARI        Arizona\n",
       "1        Atlanta Braves      ATL        Georgia\n",
       "2     Baltimore Orioles      BAL       Maryland\n",
       "3        Boston Red Sox      BOS  Massachusetts\n",
       "4          Chicago Cubs      CHC       Illinois"
      ]
     },
     "execution_count": 30,
     "metadata": {},
     "output_type": "execute_result"
    }
   ],
   "source": [
    "acronyms.head()"
   ]
  },
  {
   "cell_type": "markdown",
   "id": "8a039331-8fbe-4c5f-8bca-4ac17ea644a8",
   "metadata": {},
   "source": [
    "### Victorias anuales de  los equipos\n",
    "\n",
    "Con el mismo formato se crearán bases de datos que correspondan a los mismo años y que contengas las victorias de cada equipo en cada año.\n",
    "\n",
    "Veamos el resultados final"
   ]
  },
  {
   "cell_type": "code",
   "execution_count": 31,
   "id": "1e73707b-90b1-477b-a16c-af19832f02e4",
   "metadata": {},
   "outputs": [],
   "source": [
    "victory_path = 'Data/Teams/team_victories_2011.csv'\n",
    "victory_2011 = pd.read_csv(victory_path)"
   ]
  },
  {
   "cell_type": "code",
   "execution_count": 32,
   "id": "46e0bab8-182c-44be-bfdd-796dde105f56",
   "metadata": {},
   "outputs": [
    {
     "data": {
      "text/html": [
       "<div>\n",
       "<style scoped>\n",
       "    .dataframe tbody tr th:only-of-type {\n",
       "        vertical-align: middle;\n",
       "    }\n",
       "\n",
       "    .dataframe tbody tr th {\n",
       "        vertical-align: top;\n",
       "    }\n",
       "\n",
       "    .dataframe thead th {\n",
       "        text-align: right;\n",
       "    }\n",
       "</style>\n",
       "<table border=\"1\" class=\"dataframe\">\n",
       "  <thead>\n",
       "    <tr style=\"text-align: right;\">\n",
       "      <th></th>\n",
       "      <th>Acronimo</th>\n",
       "      <th>Equipo</th>\n",
       "      <th>Victorias</th>\n",
       "      <th>Juegos totales</th>\n",
       "      <th>Playoffs</th>\n",
       "      <th>Pennants won</th>\n",
       "      <th>WS ganadas</th>\n",
       "    </tr>\n",
       "  </thead>\n",
       "  <tbody>\n",
       "    <tr>\n",
       "      <th>0</th>\n",
       "      <td>ARI</td>\n",
       "      <td>Arizona Diamondbacks</td>\n",
       "      <td>94</td>\n",
       "      <td>162</td>\n",
       "      <td>5</td>\n",
       "      <td>1</td>\n",
       "      <td>1</td>\n",
       "    </tr>\n",
       "    <tr>\n",
       "      <th>1</th>\n",
       "      <td>ATL</td>\n",
       "      <td>Atlanta Braves</td>\n",
       "      <td>89</td>\n",
       "      <td>162</td>\n",
       "      <td>21</td>\n",
       "      <td>18</td>\n",
       "      <td>3</td>\n",
       "    </tr>\n",
       "    <tr>\n",
       "      <th>2</th>\n",
       "      <td>BAL</td>\n",
       "      <td>Baltimore Orioles</td>\n",
       "      <td>69</td>\n",
       "      <td>162</td>\n",
       "      <td>11</td>\n",
       "      <td>7</td>\n",
       "      <td>3</td>\n",
       "    </tr>\n",
       "    <tr>\n",
       "      <th>3</th>\n",
       "      <td>BOS</td>\n",
       "      <td>Boston Red Sox</td>\n",
       "      <td>90</td>\n",
       "      <td>162</td>\n",
       "      <td>20</td>\n",
       "      <td>12</td>\n",
       "      <td>7</td>\n",
       "    </tr>\n",
       "    <tr>\n",
       "      <th>4</th>\n",
       "      <td>CHC</td>\n",
       "      <td>Chicago Cubs</td>\n",
       "      <td>71</td>\n",
       "      <td>162</td>\n",
       "      <td>16</td>\n",
       "      <td>17</td>\n",
       "      <td>2</td>\n",
       "    </tr>\n",
       "  </tbody>\n",
       "</table>\n",
       "</div>"
      ],
      "text/plain": [
       "  Acronimo                Equipo  Victorias  Juegos totales  Playoffs  \\\n",
       "0      ARI  Arizona Diamondbacks         94             162         5   \n",
       "1      ATL        Atlanta Braves         89             162        21   \n",
       "2      BAL     Baltimore Orioles         69             162        11   \n",
       "3      BOS        Boston Red Sox         90             162        20   \n",
       "4      CHC          Chicago Cubs         71             162        16   \n",
       "\n",
       "   Pennants won  WS ganadas  \n",
       "0             1           1  \n",
       "1            18           3  \n",
       "2             7           3  \n",
       "3            12           7  \n",
       "4            17           2  "
      ]
     },
     "execution_count": 32,
     "metadata": {},
     "output_type": "execute_result"
    }
   ],
   "source": [
    "victory_2011.head()"
   ]
  },
  {
   "cell_type": "markdown",
   "id": "46b19684-c5c4-4686-9320-af956ace0cec",
   "metadata": {},
   "source": [
    "## Creación del dataframe\n",
    "\n",
    "Debido a que se modelarán series de tiempo, se crearán bases de datos de corte transversal que contenga los salarios, la cantidad de agentes libres y las victorias de cada equipo."
   ]
  },
  {
   "cell_type": "code",
   "execution_count": 33,
   "id": "974b512a-5c51-448d-9771-3c468e63e024",
   "metadata": {},
   "outputs": [],
   "source": [
    "# Auxiliares\n",
    "path_team_salaries = 'Data/Free_Agent_Team_Salary/team_salary_'\n",
    "path_team_victories = 'Data/Teams/team_victories_'\n",
    "# Originales:\n",
    "df_team_victories = [None]*period\n",
    "df_team_salaries = [None]*period\n",
    "# Copias:\n",
    "df_team_victories_copy = [None]*period\n",
    "df_team_salaries_copy = [None]*period\n",
    "# Producto final:\n",
    "df_team = [None]*period"
   ]
  },
  {
   "cell_type": "markdown",
   "id": "0f16255c-50c2-4d30-88fc-0412a41f1bb1",
   "metadata": {},
   "source": [
    "Veamos lo que contienen las bases de datos sobre los salarios de los equipos"
   ]
  },
  {
   "cell_type": "code",
   "execution_count": 34,
   "id": "af558230-775c-4469-8fca-71c118de4748",
   "metadata": {},
   "outputs": [
    {
     "data": {
      "text/html": [
       "<div>\n",
       "<style scoped>\n",
       "    .dataframe tbody tr th:only-of-type {\n",
       "        vertical-align: middle;\n",
       "    }\n",
       "\n",
       "    .dataframe tbody tr th {\n",
       "        vertical-align: top;\n",
       "    }\n",
       "\n",
       "    .dataframe thead th {\n",
       "        text-align: right;\n",
       "    }\n",
       "</style>\n",
       "<table border=\"1\" class=\"dataframe\">\n",
       "  <thead>\n",
       "    <tr style=\"text-align: right;\">\n",
       "      <th></th>\n",
       "      <th>Rank</th>\n",
       "      <th>Team</th>\n",
       "      <th>Players</th>\n",
       "      <th>YRS</th>\n",
       "      <th>Value</th>\n",
       "      <th>AAV</th>\n",
       "    </tr>\n",
       "  </thead>\n",
       "  <tbody>\n",
       "    <tr>\n",
       "      <th>0</th>\n",
       "      <td>NaN</td>\n",
       "      <td>Los Angeles Angels</td>\n",
       "      <td>8</td>\n",
       "      <td>14</td>\n",
       "      <td>$153,500,000</td>\n",
       "      <td>$10,964,286</td>\n",
       "    </tr>\n",
       "    <tr>\n",
       "      <th>1</th>\n",
       "      <td>NaN</td>\n",
       "      <td>Los Angeles Dodgers</td>\n",
       "      <td>7</td>\n",
       "      <td>12</td>\n",
       "      <td>$150,850,000</td>\n",
       "      <td>$12,570,833</td>\n",
       "    </tr>\n",
       "    <tr>\n",
       "      <th>2</th>\n",
       "      <td>NaN</td>\n",
       "      <td>Boston Red Sox</td>\n",
       "      <td>10</td>\n",
       "      <td>16</td>\n",
       "      <td>$130,700,000</td>\n",
       "      <td>$8,168,750</td>\n",
       "    </tr>\n",
       "    <tr>\n",
       "      <th>3</th>\n",
       "      <td>NaN</td>\n",
       "      <td>Detroit Tigers</td>\n",
       "      <td>4</td>\n",
       "      <td>9</td>\n",
       "      <td>$107,775,000</td>\n",
       "      <td>$11,975,000</td>\n",
       "    </tr>\n",
       "    <tr>\n",
       "      <th>4</th>\n",
       "      <td>NaN</td>\n",
       "      <td>San Francisco Giants</td>\n",
       "      <td>6</td>\n",
       "      <td>13</td>\n",
       "      <td>$80,750,000</td>\n",
       "      <td>$6,211,538</td>\n",
       "    </tr>\n",
       "  </tbody>\n",
       "</table>\n",
       "</div>"
      ],
      "text/plain": [
       "   Rank                  Team  Players  YRS         Value          AAV\n",
       "0   NaN    Los Angeles Angels        8   14  $153,500,000  $10,964,286\n",
       "1   NaN   Los Angeles Dodgers        7   12  $150,850,000  $12,570,833\n",
       "2   NaN        Boston Red Sox       10   16  $130,700,000   $8,168,750\n",
       "3   NaN        Detroit Tigers        4    9  $107,775,000  $11,975,000\n",
       "4   NaN  San Francisco Giants        6   13   $80,750,000   $6,211,538"
      ]
     },
     "execution_count": 34,
     "metadata": {},
     "output_type": "execute_result"
    }
   ],
   "source": [
    "pd.read_csv(path_team_salaries + str(2013) + csv). head()"
   ]
  },
  {
   "cell_type": "markdown",
   "id": "94199411-80f2-401f-9270-3825fbdc16e0",
   "metadata": {},
   "source": [
    "De estos dataframes nos quedaremos con el nombre de los equipos, la cantidad de agentes libres y el valor total de los salarios de estos, es decir, las columnas *Team*, *Players* y *Value*. No nos quedaremos con el promedio de los salarios puesto que no nos interesa una medida de tendencia central ya que no nos da información sobre los valores extremos."
   ]
  },
  {
   "cell_type": "code",
   "execution_count": 36,
   "id": "0e6d9ae1-bac4-40a2-b617-f2b3ab1290c7",
   "metadata": {},
   "outputs": [],
   "source": [
    "for i in range(0,period):      \n",
    "    df_team_victories[i] = pd.read_csv(path_team_victories + str(2011 + i) + csv)\n",
    "    df_team_salaries[i] = pd.read_csv(path_team_salaries + str(2011 + i) + csv)\n",
    "    \n",
    "    df_team_victories_copy[i] = df_team_victories[i].copy()\n",
    "    df_team_salaries_copy[i] = df_team_salaries[i].copy()\n",
    "    \n",
    "    df_team_salaries_copy[i]  = df_team_salaries_copy[i][['Team', 'Players', 'Value']]\n",
    "    df_team_salaries_names  = ['Equipo', 'Cantidad_agentes_libres', 'Valor_contrato']\n",
    "    df_team_salaries_copy[i].columns = df_team_salaries_names\n",
    "\n",
    "    team_salaries_aux_1 = df_team_salaries_copy[i]['Valor_contrato'].str.replace(\"$\",\"\")\n",
    "    team_salaries_aux_2 = team_salaries_aux_1.str.replace(\",\",\"\")\n",
    "    df_team_salaries_copy[i]['Valor_contrato'] = team_salaries_aux_2\n",
    "    \n",
    "    df_team_salaries_copy[i]['Valor_contrato'] = pd.to_numeric(df_team_salaries_copy[i]['Valor_contrato'])\n",
    "        \n",
    "    df_team[i] = pd.merge(df_team_salaries_copy[i], df_team_victories_copy[i], on = 'Equipo')\n",
    "    df_team[i]['Promedio_victorias'] = df_team[i]['Victorias']/df_team[i]['Juegos totales']\n",
    "    \n",
    "    df_team[i] = df_team[i].rename(columns = {'Valor_contrato':'Valor_contrato_total'})\n",
    "    \n",
    "    # Exportemos los dataframes por separado\n",
    "    df_team[i].to_csv('ETL_Data/Teams/free_agents_team_' + str(2011 + i) + '.csv', index = False)"
   ]
  },
  {
   "cell_type": "markdown",
   "id": "977b1992-06e2-48f8-a514-4d8a7a89388b",
   "metadata": {},
   "source": [
    "Veamos algunos de los productos finales"
   ]
  },
  {
   "cell_type": "code",
   "execution_count": 40,
   "id": "4f5bc6d2-10bd-4f7f-957a-81147d6535fb",
   "metadata": {},
   "outputs": [
    {
     "data": {
      "text/html": [
       "<div>\n",
       "<style scoped>\n",
       "    .dataframe tbody tr th:only-of-type {\n",
       "        vertical-align: middle;\n",
       "    }\n",
       "\n",
       "    .dataframe tbody tr th {\n",
       "        vertical-align: top;\n",
       "    }\n",
       "\n",
       "    .dataframe thead th {\n",
       "        text-align: right;\n",
       "    }\n",
       "</style>\n",
       "<table border=\"1\" class=\"dataframe\">\n",
       "  <thead>\n",
       "    <tr style=\"text-align: right;\">\n",
       "      <th></th>\n",
       "      <th>Equipo</th>\n",
       "      <th>Cantidad_agentes_libres</th>\n",
       "      <th>Valor_contrato_total</th>\n",
       "      <th>Acronimo</th>\n",
       "      <th>Victorias</th>\n",
       "      <th>Juegos totales</th>\n",
       "      <th>Playoffs</th>\n",
       "      <th>Pennants won</th>\n",
       "      <th>WS ganadas</th>\n",
       "      <th>Promedio_victorias</th>\n",
       "    </tr>\n",
       "  </thead>\n",
       "  <tbody>\n",
       "    <tr>\n",
       "      <th>0</th>\n",
       "      <td>Washington Nationals</td>\n",
       "      <td>8</td>\n",
       "      <td>216000000</td>\n",
       "      <td>WSH</td>\n",
       "      <td>83</td>\n",
       "      <td>161</td>\n",
       "      <td>3</td>\n",
       "      <td>1</td>\n",
       "      <td>0</td>\n",
       "      <td>0.515528</td>\n",
       "    </tr>\n",
       "    <tr>\n",
       "      <th>1</th>\n",
       "      <td>Chicago Cubs</td>\n",
       "      <td>13</td>\n",
       "      <td>190950000</td>\n",
       "      <td>CHC</td>\n",
       "      <td>96</td>\n",
       "      <td>161</td>\n",
       "      <td>17</td>\n",
       "      <td>17</td>\n",
       "      <td>2</td>\n",
       "      <td>0.596273</td>\n",
       "    </tr>\n",
       "    <tr>\n",
       "      <th>2</th>\n",
       "      <td>Boston Red Sox</td>\n",
       "      <td>8</td>\n",
       "      <td>186500000</td>\n",
       "      <td>BOS</td>\n",
       "      <td>78</td>\n",
       "      <td>161</td>\n",
       "      <td>21</td>\n",
       "      <td>13</td>\n",
       "      <td>8</td>\n",
       "      <td>0.484472</td>\n",
       "    </tr>\n",
       "    <tr>\n",
       "      <th>3</th>\n",
       "      <td>Chicago White Sox</td>\n",
       "      <td>13</td>\n",
       "      <td>137000000</td>\n",
       "      <td>CHW</td>\n",
       "      <td>76</td>\n",
       "      <td>161</td>\n",
       "      <td>9</td>\n",
       "      <td>6</td>\n",
       "      <td>3</td>\n",
       "      <td>0.472050</td>\n",
       "    </tr>\n",
       "    <tr>\n",
       "      <th>4</th>\n",
       "      <td>New York Yankees</td>\n",
       "      <td>7</td>\n",
       "      <td>101500000</td>\n",
       "      <td>NYY</td>\n",
       "      <td>87</td>\n",
       "      <td>161</td>\n",
       "      <td>51</td>\n",
       "      <td>40</td>\n",
       "      <td>27</td>\n",
       "      <td>0.540373</td>\n",
       "    </tr>\n",
       "  </tbody>\n",
       "</table>\n",
       "</div>"
      ],
      "text/plain": [
       "                 Equipo  Cantidad_agentes_libres  Valor_contrato_total  \\\n",
       "0  Washington Nationals                        8             216000000   \n",
       "1          Chicago Cubs                       13             190950000   \n",
       "2        Boston Red Sox                        8             186500000   \n",
       "3     Chicago White Sox                       13             137000000   \n",
       "4      New York Yankees                        7             101500000   \n",
       "\n",
       "  Acronimo  Victorias  Juegos totales  Playoffs  Pennants won  WS ganadas  \\\n",
       "0      WSH         83             161         3             1           0   \n",
       "1      CHC         96             161        17            17           2   \n",
       "2      BOS         78             161        21            13           8   \n",
       "3      CHW         76             161         9             6           3   \n",
       "4      NYY         87             161        51            40          27   \n",
       "\n",
       "   Promedio_victorias  \n",
       "0            0.515528  \n",
       "1            0.596273  \n",
       "2            0.484472  \n",
       "3            0.472050  \n",
       "4            0.540373  "
      ]
     },
     "execution_count": 40,
     "metadata": {},
     "output_type": "execute_result"
    }
   ],
   "source": [
    "df_team[4].head()"
   ]
  },
  {
   "cell_type": "code",
   "execution_count": 39,
   "id": "77410cf2-ebb3-42f0-851d-989ce972af9a",
   "metadata": {},
   "outputs": [
    {
     "data": {
      "text/html": [
       "<div>\n",
       "<style scoped>\n",
       "    .dataframe tbody tr th:only-of-type {\n",
       "        vertical-align: middle;\n",
       "    }\n",
       "\n",
       "    .dataframe tbody tr th {\n",
       "        vertical-align: top;\n",
       "    }\n",
       "\n",
       "    .dataframe thead th {\n",
       "        text-align: right;\n",
       "    }\n",
       "</style>\n",
       "<table border=\"1\" class=\"dataframe\">\n",
       "  <thead>\n",
       "    <tr style=\"text-align: right;\">\n",
       "      <th></th>\n",
       "      <th>Equipo</th>\n",
       "      <th>Cantidad_agentes_libres</th>\n",
       "      <th>Valor_contrato_total</th>\n",
       "      <th>Acronimo</th>\n",
       "      <th>Victorias</th>\n",
       "      <th>Juegos totales</th>\n",
       "      <th>Playoffs</th>\n",
       "      <th>Pennants won</th>\n",
       "      <th>WS ganadas</th>\n",
       "      <th>Promedio_victorias</th>\n",
       "    </tr>\n",
       "  </thead>\n",
       "  <tbody>\n",
       "    <tr>\n",
       "      <th>0</th>\n",
       "      <td>Texas Rangers</td>\n",
       "      <td>8</td>\n",
       "      <td>580700000</td>\n",
       "      <td>TEX</td>\n",
       "      <td>68</td>\n",
       "      <td>162</td>\n",
       "      <td>8</td>\n",
       "      <td>2</td>\n",
       "      <td>0</td>\n",
       "      <td>0.419753</td>\n",
       "    </tr>\n",
       "    <tr>\n",
       "      <th>1</th>\n",
       "      <td>Los Angeles Dodgers</td>\n",
       "      <td>9</td>\n",
       "      <td>267800000</td>\n",
       "      <td>LAD</td>\n",
       "      <td>111</td>\n",
       "      <td>162</td>\n",
       "      <td>36</td>\n",
       "      <td>25</td>\n",
       "      <td>7</td>\n",
       "      <td>0.685185</td>\n",
       "    </tr>\n",
       "    <tr>\n",
       "      <th>2</th>\n",
       "      <td>New York Mets</td>\n",
       "      <td>6</td>\n",
       "      <td>259270000</td>\n",
       "      <td>NYM</td>\n",
       "      <td>101</td>\n",
       "      <td>162</td>\n",
       "      <td>10</td>\n",
       "      <td>5</td>\n",
       "      <td>2</td>\n",
       "      <td>0.623457</td>\n",
       "    </tr>\n",
       "    <tr>\n",
       "      <th>3</th>\n",
       "      <td>Detroit Tigers</td>\n",
       "      <td>4</td>\n",
       "      <td>235500000</td>\n",
       "      <td>DET</td>\n",
       "      <td>66</td>\n",
       "      <td>162</td>\n",
       "      <td>16</td>\n",
       "      <td>11</td>\n",
       "      <td>4</td>\n",
       "      <td>0.407407</td>\n",
       "    </tr>\n",
       "    <tr>\n",
       "      <th>4</th>\n",
       "      <td>Philadelphia Phillies</td>\n",
       "      <td>7</td>\n",
       "      <td>204150000</td>\n",
       "      <td>PHI</td>\n",
       "      <td>87</td>\n",
       "      <td>162</td>\n",
       "      <td>15</td>\n",
       "      <td>8</td>\n",
       "      <td>2</td>\n",
       "      <td>0.537037</td>\n",
       "    </tr>\n",
       "  </tbody>\n",
       "</table>\n",
       "</div>"
      ],
      "text/plain": [
       "                  Equipo  Cantidad_agentes_libres  Valor_contrato_total  \\\n",
       "0          Texas Rangers                        8             580700000   \n",
       "1    Los Angeles Dodgers                        9             267800000   \n",
       "2          New York Mets                        6             259270000   \n",
       "3         Detroit Tigers                        4             235500000   \n",
       "4  Philadelphia Phillies                        7             204150000   \n",
       "\n",
       "  Acronimo  Victorias  Juegos totales  Playoffs  Pennants won  WS ganadas  \\\n",
       "0      TEX         68             162         8             2           0   \n",
       "1      LAD        111             162        36            25           7   \n",
       "2      NYM        101             162        10             5           2   \n",
       "3      DET         66             162        16            11           4   \n",
       "4      PHI         87             162        15             8           2   \n",
       "\n",
       "   Promedio_victorias  \n",
       "0            0.419753  \n",
       "1            0.685185  \n",
       "2            0.623457  \n",
       "3            0.407407  \n",
       "4            0.537037  "
      ]
     },
     "execution_count": 39,
     "metadata": {},
     "output_type": "execute_result"
    }
   ],
   "source": [
    "df_team[period-1].head()"
   ]
  }
 ],
 "metadata": {
  "kernelspec": {
   "display_name": "Python 3",
   "language": "python",
   "name": "python3"
  },
  "language_info": {
   "codemirror_mode": {
    "name": "ipython",
    "version": 3
   },
   "file_extension": ".py",
   "mimetype": "text/x-python",
   "name": "python",
   "nbconvert_exporter": "python",
   "pygments_lexer": "ipython3",
   "version": "3.8.8"
  }
 },
 "nbformat": 4,
 "nbformat_minor": 5
}
