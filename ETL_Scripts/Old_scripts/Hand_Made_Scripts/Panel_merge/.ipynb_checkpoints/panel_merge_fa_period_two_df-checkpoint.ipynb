{
 "cells": [
  {
   "cell_type": "markdown",
   "id": "564fafe2-4054-433e-848d-c16084ea8829",
   "metadata": {},
   "source": [
    "# All players dataframes\n",
    "\n",
    "En este script nos dedicaremos a crear una base de datos limpia segmentada por hitters y fielders. Se divide en las siguientes secciones:\n",
    "\n",
    "- **Visualización del contenido de las bases de datos.**\n",
    "- **Limpieza de la base de datos y exportación.**\n",
    "- **Construcción de variables para estimaciones.**\n",
    "- **Unión de las bases de datos para nuevas bases transversales.**\n",
    "- **Segmentación de bases datos de acuerdo a la agencia libre.**\n",
    "- **Realización del panel data de acuerdo a las especificaciones.**\n",
    "- **Generación de las variables para el modelo dinámico.**"
   ]
  },
  {
   "cell_type": "markdown",
   "id": "c886e0a2-d18f-4511-ac40-2dd5d70bed46",
   "metadata": {},
   "source": [
    "Importemos los modulos necesarios así como especificar la configuración deseada."
   ]
  },
  {
   "cell_type": "code",
   "execution_count": 1,
   "id": "00d0481c-4ecb-40dd-addd-e6ea487bc9e0",
   "metadata": {},
   "outputs": [
    {
     "name": "stdout",
     "output_type": "stream",
     "text": [
      "Modulos importados\n"
     ]
    }
   ],
   "source": [
    "import pandas as pd\n",
    "import numpy as np\n",
    "import math\n",
    "import os\n",
    "import warnings\n",
    "import statsmodels.api as sm\n",
    "import matplotlib.pyplot as plt\n",
    "from sklearn.decomposition import PCA\n",
    "from matplotlib.colors import ListedColormap\n",
    "from termcolor import colored\n",
    "\n",
    "print('Modulos importados')"
   ]
  },
  {
   "cell_type": "code",
   "execution_count": 2,
   "id": "5ea069de-f7a0-4370-be4f-4a54b24dcf26",
   "metadata": {},
   "outputs": [],
   "source": [
    "# Configuraciones\n",
    "warnings.filterwarnings('ignore')"
   ]
  },
  {
   "cell_type": "code",
   "execution_count": 3,
   "id": "15370f37-8410-4da1-842c-c448ca05fe31",
   "metadata": {},
   "outputs": [
    {
     "name": "stdout",
     "output_type": "stream",
     "text": [
      "Directorio de trabajo previo: /home/usuario/Documentos/Github/Proyectos/MLB_HN/ETL_Scripts/Hand_Made_Scripts/Panel_merge\n"
     ]
    }
   ],
   "source": [
    "# Directorio de trabajo\n",
    "print(\"Directorio de trabajo previo: \" + str(os.getcwd()))\n",
    "# Cambiemoslo\n",
    "os.chdir('/home/usuario/Documentos/Github/Proyectos/MLB_HN/')"
   ]
  },
  {
   "cell_type": "code",
   "execution_count": 4,
   "id": "908e5561-e884-435a-9329-b9ff47d3c5e7",
   "metadata": {},
   "outputs": [
    {
     "name": "stdout",
     "output_type": "stream",
     "text": [
      "/home/usuario/Documentos/Github/Proyectos/MLB_HN\n",
      "Nuevo directorio de trabajo: None\n"
     ]
    }
   ],
   "source": [
    "# Veamos el directorio actual de trabajo\n",
    "print(os.getcwd())\n",
    "# El directorio anterior es el correcto, pero si no lo fuese, hacemos lo sigueinte:\n",
    "path = '/home/usuario/Documentos/Github/Proyectos/MLB_HN'\n",
    "print(\"Nuevo directorio de trabajo: \" + str(os.chdir(path)))"
   ]
  },
  {
   "cell_type": "markdown",
   "id": "e0299b01-0fd6-47b4-8181-844d57f69f45",
   "metadata": {},
   "source": [
    "## Importación de las bases de datos\n",
    "\n",
    "Importemos los páneles de ambas tipos de bases de datos: Anuales y acumuladas. Las bases de datos por juego no cuentan con más de 10 observaciones, razón por la que no se usarán"
   ]
  },
  {
   "cell_type": "code",
   "execution_count": 5,
   "id": "489339c4-eb9d-42e5-8bea-ff7794e1b5f8",
   "metadata": {},
   "outputs": [],
   "source": [
    "# Paths\n",
    "cum_path = 'ETL_Data/Panel/Cumulative/Dynamic_model/'\n",
    "ya_path = 'ETL_Data/Panel/Yearly_average/Dynamic_model/'\n",
    "csv = '.csv'\n",
    "\n",
    "# Cumulative:\n",
    "hitter_cum = pd.read_csv(cum_path + 'panel_hitters_cum_t_1' + csv)\n",
    "fielder_cum = pd.read_csv(cum_path + 'panel_fielders_cum_t_1' + csv)\n",
    "\n",
    "# YA:\n",
    "hitter_ya = pd.read_csv(ya_path + 'panel_hitters_ya_t_1' + csv)\n",
    "fielder_ya = pd.read_csv(ya_path + 'panel_fielders_ya_t_1' + csv)"
   ]
  },
  {
   "cell_type": "markdown",
   "id": "268c3d1f-1208-40b7-9d89-721dd2c1f0bc",
   "metadata": {},
   "source": [
    "Veamos las dimensaiones de los páneles"
   ]
  },
  {
   "cell_type": "code",
   "execution_count": 6,
   "id": "6e60d0db-b394-41cf-841d-d7dc2c0b8b3a",
   "metadata": {},
   "outputs": [
    {
     "name": "stdout",
     "output_type": "stream",
     "text": [
      "Acumulada \n",
      "Bateadores:\n",
      "(570, 179)\n",
      "Fildeadores:\n",
      "(542, 187)\n"
     ]
    }
   ],
   "source": [
    "# Dimentions\n",
    "print(\"Acumulada \\nBateadores:\")\n",
    "print(hitter_cum.shape)\n",
    "print(\"Fildeadores:\")\n",
    "print(fielder_cum.shape)"
   ]
  },
  {
   "cell_type": "code",
   "execution_count": 7,
   "id": "eb7b8690-9e5a-4bd8-8e0b-c4a0b6bc5b47",
   "metadata": {},
   "outputs": [
    {
     "name": "stdout",
     "output_type": "stream",
     "text": [
      "Promedio anual \n",
      "Bateadores:\n",
      "(107, 176)\n",
      "Fildeadores:\n",
      "(131, 184)\n"
     ]
    }
   ],
   "source": [
    "# Dimentions\n",
    "print(\"Promedio anual \\nBateadores:\")\n",
    "print(hitter_ya.shape)\n",
    "print(\"Fildeadores:\")\n",
    "print(fielder_ya.shape)"
   ]
  },
  {
   "cell_type": "markdown",
   "id": "ae312104-8510-48ca-8346-345f78c5ebbb",
   "metadata": {},
   "source": [
    "Se aprecia que son de las mismas dimensiones. Lo que haremos ahora es crear una lista de las variables a las que le agregaremos un sufijo que indique de qué panel parten"
   ]
  },
  {
   "cell_type": "code",
   "execution_count": 8,
   "id": "08d0cc96-d8c9-4aeb-9e96-7fa0dae867e8",
   "metadata": {},
   "outputs": [],
   "source": [
    "hitter_varlist = [\n",
    "                'At-bats_2_t',\n",
    "                'At-bats_t',\n",
    "                'At_bats_2_t',\n",
    "                'At_bats_t',\n",
    "                'Bateos_2_t',\n",
    "                'Bateos_promedio_2_t',\n",
    "                'Bateos_promedio_t',\n",
    "                'Bateos_t',\n",
    "                'Dobles_2_t',\n",
    "                'Dobles_t',\n",
    "                'Home-runs_t',\n",
    "                'Home_runs_2_t',\n",
    "                'Home_runs_t',\n",
    "                'Juegos totales_t',\n",
    "                'Juegos_iniciados_2_t',\n",
    "                'Juegos_iniciados_t',\n",
    "                'Juegos_t',\n",
    "                'Juegos_totales_t',\n",
    "                'Porcentaje_On-base-plus-slugging_2_t',\n",
    "                'Porcentaje_On-base-plus-slugging_t',\n",
    "                'Porcentaje_On_base_plus_slugging_2_t',\n",
    "                'Porcentaje_On_base_plus_slugging_t',\n",
    "                'Porcentaje_juegos_iniciados_2_t',\n",
    "                'Porcentaje_juegos_iniciados_t',\n",
    "                'Porcentaje_juegos_t',\n",
    "                'Porcentaje_on-base_2_t',\n",
    "                'Porcentaje_on-base_t',\n",
    "                'Porcentaje_on_base_2_t',\n",
    "                'Porcentaje_on_base_t',\n",
    "                'Porcentaje_slugging_2_t',\n",
    "                'Porcentaje_slugging_t',\n",
    "                'Runs-batted-in_2_t',\n",
    "                'Runs-batted-in_t',\n",
    "                'Runs_batted_in_2_t',\n",
    "                'Runs_batted_in_t',\n",
    "                'Triples_2_t',\n",
    "                'Triples_t',\n",
    "                'WAR_2_t',\n",
    "                'WAR_t',\n",
    "                'X_At_bats_2_t_1',\n",
    "                'X_At_bats_t_1',\n",
    "                'X_Bateos_2_t_1',\n",
    "                'X_Bateos_promedio_2_t_1',\n",
    "                'X_Bateos_promedio_t_1',\n",
    "                'X_Bateos_t_1''',\n",
    "                'X_Dobles_2_t_1',\n",
    "                'X_Dobles_t_1',\n",
    "                'X_Home_runs_2_t_1',\n",
    "                'X_Home_runs_t_1',\n",
    "                'X_Juegos_iniciados_2_t_1',\n",
    "                'X_Juegos_iniciados_t_1',\n",
    "                'X_Porcentaje_On_base_plus_slugging_2_t_1',\n",
    "                'X_Porcentaje_On_base_plus_slugging_t_1',\n",
    "                'X_Porcentaje_on_base_2_t_1',\n",
    "                'X_Porcentaje_on_base_t_1',\n",
    "                'X_Porcentaje_slugging_2_t_1',\n",
    "                'X_Porcentaje_slugging_t_1',\n",
    "                'X_Runs_batted_in_2_t_1',\n",
    "                'X_Runs_batted_in_t_1',\n",
    "                'X_Triples_2_t_1',\n",
    "                'X_Triples_t_1',\n",
    "                'X_WAR_2_t_1',\n",
    "                'X_WAR_t_1'\n",
    "                ]"
   ]
  },
  {
   "cell_type": "code",
   "execution_count": 9,
   "id": "481232d4-b85e-42a9-b83b-96bef992e656",
   "metadata": {},
   "outputs": [],
   "source": [
    "fielder_varlist = [\n",
    "                    'Bateos_2_t',\n",
    "                    'Bateos_t',\n",
    "                    'Carreras_2_t',\n",
    "                    'Carreras_ganadas_2_t',\n",
    "                    'Carreras_ganadas_t',\n",
    "                    'Carreras_t',\n",
    "                    'Comando_2_t',\n",
    "                    'Comando_t',\n",
    "                    'Control_2_t',\n",
    "                    'Control_t',\n",
    "                    'Control_t_1',\n",
    "                    'Dominio_2_t',\n",
    "                    'Dominio_t',\n",
    "                    'ERA_2_t',\n",
    "                    'ERA_t',\n",
    "                    'Inning_pitched_2_t',\n",
    "                    'Inning_pitched_t',\n",
    "                    'Juegos_totales_t',\n",
    "                    'Juegos_iniciados_t',\n",
    "                    'Juegos_t',\n",
    "                    'Losses_2_t',\n",
    "                    'Losses_t',\n",
    "                    'Porcentaje_juegos_t',\n",
    "                    'Promedio_victorias_t',\n",
    "                    'Saves_2_t',\n",
    "                    'Saves_t',\n",
    "                    'Strike-outs_2_t',\n",
    "                    'Strike-outs_t',\n",
    "                    'Strike_outs_2_t',\n",
    "                    'Strike_outs_t',\n",
    "                    'WAR_2_t',\n",
    "                    'WAR_t',\n",
    "                    'WHIP_2_t',\n",
    "                    'WHIP_t',\n",
    "                    'Walks_2_t',\n",
    "                    'Walks_t',\n",
    "                    'Wins_2_t',\n",
    "                    'Wins_t',\n",
    "                    'X_Bateos_2_t_1',\n",
    "                    'X_Bateos_t_1',\n",
    "                    'X_Carreras_2_t_1',\n",
    "                    'X_Carreras_ganadas_2_t_1',\n",
    "                    'X_Carreras_ganadas_t_1',\n",
    "                    'X_Carreras_t_1',\n",
    "                    'X_Comando_2_t_1',\n",
    "                    'X_Comando_t_1',\n",
    "                    'X_Control_2_t_1',\n",
    "                    'X_Control_t_1',\n",
    "                    'X_Dominio_2_t_1',\n",
    "                    'X_Dominio_t_1',\n",
    "                    'X_ERA_2_t_1',\n",
    "                    'X_ERA_t_1',\n",
    "                    'X_Inning_pitched_2_t_1',\n",
    "                    'X_Inning_pitched_t_1',\n",
    "                    'X_Losses_2_t_1',\n",
    "                    'X_Losses_t_1',\n",
    "                    'X_Saves_2_t_1',\n",
    "                    'X_Saves_t_1',\n",
    "                    'X_Strike_outs_2_t_1',\n",
    "                    'X_Strike_outs_t_1',\n",
    "                    'X_WAR_2_t_1',\n",
    "                    'X_WAR_t_1',\n",
    "                    'X_WHIP_2_t_1',\n",
    "                    'X_WHIP_t_1',\n",
    "                    'X_Walks_2_t_1',\n",
    "                    'X_Walks_t_1',\n",
    "                    'X_Wins_2_t_1',\n",
    "                    'X_Wins_t_1'\n",
    "                    ]"
   ]
  },
  {
   "cell_type": "markdown",
   "id": "d0601387-a2e3-4f46-ae51-29294e20b9ed",
   "metadata": {},
   "source": [
    "### Estrategia\n",
    "\n",
    "Para determinar qué columnas son distintas entre las bases de datos tomaremos la diferencia de cada una de las estadísticas con el mismo nombre en ambos ṕáneles y donde la suma de todos los valores de la columna sean distintos de cero, significará que no son iguales dichas columnas."
   ]
  },
  {
   "cell_type": "code",
   "execution_count": 10,
   "id": "ed35f633-5020-403c-9e9b-264ff3b8b6dc",
   "metadata": {},
   "outputs": [
    {
     "name": "stdout",
     "output_type": "stream",
     "text": [
      "At-bats_2_t\n",
      "At-bats_t\n",
      "At_bats_2_t\n",
      "At_bats_t\n",
      "Bateos_2_t\n",
      "Bateos_promedio_2_t\n",
      "Bateos_promedio_t\n",
      "Bateos_t\n",
      "Dobles_2_t\n",
      "Dobles_t\n",
      "Home-runs_t\n",
      "Home_runs_2_t\n",
      "Home_runs_t\n",
      "Juegos totales_t\n",
      "Juegos_iniciados_2_t\n",
      "Juegos_iniciados_t\n",
      "Juegos_t\n",
      "Juegos_totales_t\n",
      "Porcentaje_On-base-plus-slugging_2_t\n",
      "Porcentaje_On-base-plus-slugging_t\n",
      "Porcentaje_On_base_plus_slugging_2_t\n",
      "Porcentaje_On_base_plus_slugging_t\n",
      "Porcentaje_juegos_iniciados_2_t\n",
      "Porcentaje_juegos_iniciados_t\n",
      "Porcentaje_juegos_t\n",
      "Porcentaje_on-base_2_t\n",
      "Porcentaje_on-base_t\n",
      "Porcentaje_on_base_2_t\n",
      "Porcentaje_on_base_t\n",
      "Porcentaje_slugging_2_t\n",
      "Porcentaje_slugging_t\n",
      "Runs-batted-in_2_t\n",
      "Runs-batted-in_t\n",
      "Runs_batted_in_2_t\n",
      "Runs_batted_in_t\n",
      "Triples_2_t\n",
      "Triples_t\n",
      "WAR_2_t\n",
      "WAR_t\n",
      "X_At_bats_2_t_1\n",
      "X_At_bats_t_1\n",
      "X_Bateos_2_t_1\n",
      "X_Bateos_promedio_2_t_1\n",
      "X_Bateos_promedio_t_1\n",
      "X_Bateos_t_1\n",
      "X_Dobles_2_t_1\n",
      "X_Dobles_t_1\n",
      "X_Home_runs_2_t_1\n",
      "X_Home_runs_t_1\n",
      "X_Juegos_iniciados_2_t_1\n",
      "X_Juegos_iniciados_t_1\n",
      "X_Porcentaje_On_base_plus_slugging_2_t_1\n",
      "X_Porcentaje_On_base_plus_slugging_t_1\n",
      "X_Porcentaje_on_base_2_t_1\n",
      "X_Porcentaje_on_base_t_1\n",
      "X_Porcentaje_slugging_2_t_1\n",
      "X_Porcentaje_slugging_t_1\n",
      "X_Runs_batted_in_2_t_1\n",
      "X_Runs_batted_in_t_1\n",
      "X_Triples_2_t_1\n",
      "X_Triples_t_1\n",
      "X_WAR_2_t_1\n",
      "X_WAR_t_1\n"
     ]
    }
   ],
   "source": [
    "hitter_to_add = []\n",
    "\n",
    "for stat in range(0,len(hitter_varlist)):\n",
    "    \n",
    "    # Diferencia de valores:\n",
    "    hitter_diff = (hitter_cum[hitter_varlist[stat]] - hitter_ya[hitter_varlist[stat]]).tolist()\n",
    "    \n",
    "    # Suma de los elementos:\n",
    "    hitter_sum = sum(hitter_diff)\n",
    "    \n",
    "    if hitter_sum != 0:\n",
    "        print(hitter_varlist[stat])\n",
    "        \n",
    "        # Añadamos la estadística a un lista\n",
    "        hitter_to_add.append(hitter_varlist[stat])"
   ]
  },
  {
   "cell_type": "code",
   "execution_count": 11,
   "id": "2b8d22bf-200f-4560-a583-54bab10d2b60",
   "metadata": {},
   "outputs": [
    {
     "name": "stdout",
     "output_type": "stream",
     "text": [
      "Bateos_2_t\n",
      "Bateos_t\n",
      "Carreras_2_t\n",
      "Carreras_ganadas_2_t\n",
      "Carreras_ganadas_t\n",
      "Carreras_t\n",
      "Comando_2_t\n",
      "Comando_t\n",
      "Control_2_t\n",
      "Control_t\n",
      "Control_t_1\n",
      "Dominio_2_t\n",
      "Dominio_t\n",
      "ERA_2_t\n",
      "ERA_t\n",
      "Inning_pitched_2_t\n",
      "Inning_pitched_t\n",
      "Juegos_totales_t\n",
      "Juegos_iniciados_t\n",
      "Juegos_t\n",
      "Losses_2_t\n",
      "Losses_t\n",
      "Porcentaje_juegos_t\n",
      "Promedio_victorias_t\n",
      "Saves_2_t\n",
      "Saves_t\n",
      "Strike-outs_2_t\n",
      "Strike-outs_t\n",
      "Strike_outs_2_t\n",
      "Strike_outs_t\n",
      "WAR_2_t\n",
      "WAR_t\n",
      "WHIP_2_t\n",
      "WHIP_t\n",
      "Walks_2_t\n",
      "Walks_t\n",
      "Wins_2_t\n",
      "Wins_t\n",
      "X_Bateos_2_t_1\n",
      "X_Bateos_t_1\n",
      "X_Carreras_2_t_1\n",
      "X_Carreras_ganadas_2_t_1\n",
      "X_Carreras_ganadas_t_1\n",
      "X_Carreras_t_1\n",
      "X_Comando_2_t_1\n",
      "X_Comando_t_1\n",
      "X_Control_2_t_1\n",
      "X_Control_t_1\n",
      "X_Dominio_2_t_1\n",
      "X_Dominio_t_1\n",
      "X_ERA_2_t_1\n",
      "X_ERA_t_1\n",
      "X_Inning_pitched_2_t_1\n",
      "X_Inning_pitched_t_1\n",
      "X_Losses_2_t_1\n",
      "X_Losses_t_1\n",
      "X_Saves_2_t_1\n",
      "X_Saves_t_1\n",
      "X_Strike_outs_2_t_1\n",
      "X_Strike_outs_t_1\n",
      "X_WAR_2_t_1\n",
      "X_WAR_t_1\n",
      "X_WHIP_2_t_1\n",
      "X_WHIP_t_1\n",
      "X_Walks_2_t_1\n",
      "X_Walks_t_1\n",
      "X_Wins_2_t_1\n",
      "X_Wins_t_1\n"
     ]
    }
   ],
   "source": [
    "fielder_to_add = []\n",
    "\n",
    "for stat in range(0,len(fielder_varlist)):\n",
    "    # Diferencia de valores:\n",
    "    fielder_diff = (fielder_cum[fielder_varlist[stat]] - fielder_ya[fielder_varlist[stat]]).tolist()\n",
    "    \n",
    "    # Suma de los elementos:\n",
    "    fielder_sum = sum(fielder_diff)\n",
    "    \n",
    "    if fielder_sum != 0:\n",
    "        print(fielder_varlist[stat])\n",
    "        \n",
    "        # Añadamos la estadística a un lista\n",
    "        fielder_to_add.append(fielder_varlist[stat])"
   ]
  },
  {
   "cell_type": "markdown",
   "id": "9b9b3c6f-bb4b-4b7b-a1d8-80fd7ec1d1d7",
   "metadata": {},
   "source": [
    "Puesto que sí hay columnas distintas entre las bases de datos, añadiremos un sufijo que denote el panel de procedencia de estas estadísticas para luego añadirlas al otro panel."
   ]
  },
  {
   "cell_type": "code",
   "execution_count": 12,
   "id": "ac918b66-91b9-4c45-9b9d-caca06d5eebd",
   "metadata": {},
   "outputs": [],
   "source": [
    "# Bateadores:\n",
    "# Dictionary comprehension to create mapping from old column names to new column names\n",
    "cum_mapping = {col: col + '_cum' if col in hitter_varlist else col for col in hitter_cum.columns}\n",
    "# Rename columns using the mapping\n",
    "hitter_cum = hitter_cum.rename(columns = cum_mapping)\n",
    "\n",
    "# Fildeadores:\n",
    "# Dictionary comprehension to create mapping from old column names to new column names\n",
    "cum_mapping = {col: col + '_cum' if col in fielder_varlist else col for col in fielder_cum.columns}\n",
    "# Rename columns using the mapping\n",
    "fielder_cum = fielder_cum.rename(columns = cum_mapping)"
   ]
  },
  {
   "cell_type": "code",
   "execution_count": 13,
   "id": "aee1b720-3ca8-4585-9211-27129d57887c",
   "metadata": {},
   "outputs": [],
   "source": [
    "# Bateadores:\n",
    "# Dictionary comprehension to create mapping from old column names to new column names\n",
    "ya_mapping = {col: col + '_ya' if col in hitter_varlist else col for col in hitter_ya.columns}\n",
    "# Rename columns using the mapping\n",
    "hitter_ya = hitter_ya.rename(columns = ya_mapping)\n",
    "\n",
    "# Fildeadores:\n",
    "# Dictionary comprehension to create mapping from old column names to new column names\n",
    "ya_mapping = {col: col + '_ya' if col in fielder_varlist else col for col in fielder_ya.columns}\n",
    "# Rename columns using the mapping\n",
    "fielder_ya = fielder_ya.rename(columns = ya_mapping)"
   ]
  },
  {
   "cell_type": "markdown",
   "id": "35304a44-66f0-45a3-ac9d-9487df19b96b",
   "metadata": {},
   "source": [
    "Añadamos las columnas distintas del panel de promedios anuales al acumlativo."
   ]
  },
  {
   "cell_type": "code",
   "execution_count": 14,
   "id": "c111a742-4c1d-47f7-bbac-909e0d49154e",
   "metadata": {},
   "outputs": [],
   "source": [
    "# filter columns with '_ya' suffix\n",
    "# Bateadores:\n",
    "filtered_hitter_ya = hitter_ya.filter(like = '_ya')\n",
    "filtered_hitter_ya['Jugador'] = hitter_ya['Jugador']\n",
    "# Fildeadores:\n",
    "filtered_fielder_ya = fielder_ya.filter(like = '_ya')\n",
    "filtered_fielder_ya['Jugador'] = fielder_ya['Jugador']"
   ]
  },
  {
   "cell_type": "markdown",
   "id": "34db9fe3-7fa2-44c7-a0e8-a8f706a4094b",
   "metadata": {},
   "source": [
    "Realicemos el merge de las bases de datos en lugar de concatenar debido a que no sabemos si tienen los mismos juadores. Este será nuestro panel final para el modelo dinámico"
   ]
  },
  {
   "cell_type": "code",
   "execution_count": 15,
   "id": "6f7a5656-f63a-4f8e-aa1c-05778a281a2f",
   "metadata": {},
   "outputs": [],
   "source": [
    "hitter_dynamic_panel = pd.merge(hitter_cum, filtered_hitter_ya,\n",
    "                                on = ['Jugador'])\n",
    "fielder_dynamic_panel = pd.merge(fielder_cum, filtered_fielder_ya,\n",
    "                                on = ['Jugador'])"
   ]
  },
  {
   "cell_type": "markdown",
   "id": "e7f4a124-6fbc-46b8-9761-8ba6a80f55fd",
   "metadata": {},
   "source": [
    "Veamos las dimensiones"
   ]
  },
  {
   "cell_type": "code",
   "execution_count": 16,
   "id": "4c34dc8c-de1b-4da8-a165-5416abf2053e",
   "metadata": {},
   "outputs": [
    {
     "name": "stdout",
     "output_type": "stream",
     "text": [
      "Bateadores:\n",
      "(473, 242)\n",
      "Fildeadores:\n",
      "(474, 255)\n"
     ]
    }
   ],
   "source": [
    "print(\"Bateadores:\")\n",
    "print(hitter_dynamic_panel.shape)\n",
    "print(\"Fildeadores:\")\n",
    "print(fielder_dynamic_panel.shape)"
   ]
  },
  {
   "cell_type": "markdown",
   "id": "9f18da29-cabd-4d91-95a3-49a362292949",
   "metadata": {},
   "source": [
    "El total de nan-values"
   ]
  },
  {
   "cell_type": "code",
   "execution_count": 17,
   "id": "532e5716-68af-4f2d-9df2-5de90dd7dbf2",
   "metadata": {},
   "outputs": [
    {
     "name": "stdout",
     "output_type": "stream",
     "text": [
      "Bateadores:\n",
      "0\n",
      "Fildeadores:\n",
      "0\n"
     ]
    }
   ],
   "source": [
    "# Get the total number of NaN values in the dataframe\n",
    "print(\"Bateadores:\")\n",
    "print(hitter_dynamic_panel.isna().sum().sum())\n",
    "print(\"Fildeadores:\")\n",
    "print(fielder_dynamic_panel.isna().sum().sum())"
   ]
  },
  {
   "cell_type": "markdown",
   "id": "d00ab13f-1555-44e7-8e7d-181d626fef2f",
   "metadata": {},
   "source": [
    "Por último, eliminemos las filas duplicadas"
   ]
  },
  {
   "cell_type": "code",
   "execution_count": 18,
   "id": "c354770d-a619-42c5-a1de-bfbd39f48443",
   "metadata": {},
   "outputs": [],
   "source": [
    "hitter_dynamic_panel = hitter_dynamic_panel.drop_duplicates()\n",
    "fielder_dynamic_panel = fielder_dynamic_panel.drop_duplicates()"
   ]
  },
  {
   "cell_type": "markdown",
   "id": "1092b51e-eecf-4caa-b9c8-88a16f6441b3",
   "metadata": {},
   "source": [
    "Esto nos dice que en ambos tipos de panel (ya y cum) tenían los mismos jugadores"
   ]
  },
  {
   "cell_type": "code",
   "execution_count": 19,
   "id": "5dd1bccd-9284-447d-9894-fda38668b334",
   "metadata": {},
   "outputs": [],
   "source": [
    "path = 'ETL_Data/Panel/General/Dynamic_model/'\n",
    "hitter_dynamic_panel.to_csv(path + 'dynamic_model_hitter' + '.csv',\n",
    "                            index = False)\n",
    "fielder_dynamic_panel.to_csv(path + 'dynamic_model_fielder' + '.csv',\n",
    "                             index = False)"
   ]
  },
  {
   "cell_type": "markdown",
   "id": "2c0ee937-46a3-4ad1-b30b-496d1232da5a",
   "metadata": {},
   "source": [
    "## PCA\n",
    "\n",
    "Ahora, filtraremos aquellas columnas que inicien con el prefijo **X** y luego de acuerdo al periodo al que pertenecen con el propósito de hacer un análisis de componentes principales."
   ]
  },
  {
   "cell_type": "code",
   "execution_count": 20,
   "id": "ca4347a7-6fa3-45cd-a803-c94650ee23c5",
   "metadata": {},
   "outputs": [],
   "source": [
    "# Bateadores\n",
    "# t-1:\n",
    "hitter_dynamic_panel_t_1_aux = hitter_dynamic_panel.filter(regex = '^X_|^Y_|^Jugador')\n",
    "x_cols = hitter_dynamic_panel_t_1_aux.filter(like = 'X_').columns\n",
    "hitter_dynamic_panel_t_1 = hitter_dynamm.mcoic_panel_t_1_aux\n",
    "hitter_dynamic_panel_t_1[x_cols] = hitter_dynamic_panel_t_1.filter(like = '_t_1')\n",
    "\n",
    "# t:\n",
    "names_t = [name.lstrip('X_') for name in hitter_dynamic_panel_t_1_aux.columns]\n",
    "names_t = [name.replace('t_1', 't') for name in names_t]\n",
    "hitter_dynamic_panel_t = hitter_dynamic_panel.loc[:, names_t]"
   ]
  },
  {
   "cell_type": "code",
   "execution_count": 21,
   "id": "bd79dbd7-c659-4eed-96bb-b95c1da65c9a",
   "metadata": {},
   "outputs": [],
   "source": [
    "# Bateadores\n",
    "# t-1:\n",
    "fielder_dynamic_panel_t_1_aux = fielder_dynamic_panel.filter(regex = '^X_|^Y_|^Jugador')\n",
    "x_cols = fielder_dynamic_panel_t_1_aux.filter(like = 'X_').columns\n",
    "fielder_dynamic_panel_t_1 = fielder_dynamic_panel_t_1_aux\n",
    "fielder_dynamic_panel_t_1[x_cols] = fielder_dynamic_panel_t_1.filter(like = '_t_1')\n",
    "\n",
    "# t:\n",
    "names_t = [name.lstrip('X_') for name in fielder_dynamic_panel_t_1_aux.columns]\n",
    "names_t = [name.replace('t_1', 't') for name in names_t]\n",
    "fielder_dynamic_panel_t = fielder_dynamic_panel.loc[:, names_t]"
   ]
  },
  {
   "cell_type": "markdown",
   "id": "48ba06f3-c79e-4cdf-92d9-655ebbf7253e",
   "metadata": {},
   "source": [
    "Entonces, tenemos que declarar nuestras variables independientes para cada panel"
   ]
  },
  {
   "cell_type": "code",
   "execution_count": 22,
   "id": "43a3f55f-aca1-4f2e-8e0b-34424c88949d",
   "metadata": {},
   "outputs": [],
   "source": [
    "# Bateadores \n",
    "X_hitter_t_1 = hitter_dynamic_panel_t_1.filter(like = 'X_')\n",
    "X_hitter_t = hitter_dynamic_panel_t.filter(regex = '^(?!Jugador|Y_)',\n",
    "                                           axis=1)\n",
    "# FIldeadores \n",
    "X_fielder_t_1 = fielder_dynamic_panel_t_1.filter(like = 'X_')\n",
    "X_fielder_t = fielder_dynamic_panel_t.filter(regex = '^(?!Jugador|Y_)',\n",
    "                                             axis=1)"
   ]
  },
  {
   "cell_type": "markdown",
   "id": "2a0f34d7-ecf2-42e2-a329-52a5ba84a7c5",
   "metadata": {},
   "source": [
    "Luego, apliquemos PCA y hallemos el óptimo de componentes mediante la gráfica de la varianza que explican los componentes"
   ]
  },
  {
   "cell_type": "code",
   "execution_count": 23,
   "id": "be4fea42-9f31-4cbb-96d1-c081c5c5e271",
   "metadata": {},
   "outputs": [
    {
     "data": {
      "image/png": "[encoded data removed]",
      "text/plain": [
       "<Figure size 936x648 with 1 Axes>"
      ]
     },
     "metadata": {
      "needs_background": "light"
     },
     "output_type": "display_data"
    }
   ],
   "source": [
    "# Initialize PCA object\n",
    "pca_hitter_t_1 = PCA()\n",
    "\n",
    "# Fit PCA to data\n",
    "pca_hitter_t_1.fit(X_hitter_t_1)\n",
    "\n",
    "# Plot cumulative explained variance as a function of number of components\n",
    "plt.subplots(figsize = (13,9))\n",
    "cumulative_variance = np.cumsum(pca_hitter_t_1.explained_variance_ratio_)\n",
    "# Find number of components that capture 80% of variance\n",
    "optimal_n_components = np.argmax(cumulative_variance >= 0.8) + 1\n",
    "\n",
    "plt.axvline(x=optimal_n_components,\n",
    "            color='r', \n",
    "            linestyle = 'dashed')\n",
    "plt.plot(cumulative_variance, \n",
    "         ls = '-' ,\n",
    "         markerfacecolor = 'lightblue',\n",
    "         marker = 'o',\n",
    "         ms = 11, \n",
    "         color = 'blue',\n",
    "         linewidth = 2)\n",
    "plt.xlabel('Número de componentes',\n",
    "           fontsize = 19,\n",
    "           fontweight = 'bold',\n",
    "           color = 'black')\n",
    "plt.ylabel('Cumulative explained variance',\n",
    "           fontsize = 19,\n",
    "           fontweight = 'bold',\n",
    "           color = 'black')\n",
    "plt.yticks(fontsize = 16,\n",
    "           fontweight = 'bold',\n",
    "           color = 'black')\n",
    "plt.xticks(fontsize = 16,\n",
    "           fontweight = 'bold',\n",
    "           color = 'black')\n",
    "plt.text(optimal_n_components + 1, 0.9,\n",
    "        f'Número óptimo de\\ncomponentes: {optimal_n_components}',\n",
    "        fontsize = 19)\n",
    "plt.title('Bateadores - Variables del periodo t-1',\n",
    "           fontsize = 21,\n",
    "           fontweight = 'bold',\n",
    "           color = 'black')\n",
    "plt.show()"
   ]
  },
  {
   "cell_type": "code",
   "execution_count": 24,
   "id": "b2cd56b7-3d62-45cf-aed5-3ca0e2ff9c10",
   "metadata": {},
   "outputs": [],
   "source": [
    "# instantiate a PCA object with n_components=2\n",
    "pca_hitter_t_1 = PCA(n_components = 2)\n",
    "\n",
    "# fit and transform the input data\n",
    "pca_components = pca_hitter_t_1.fit_transform(X_hitter_t_1)\n",
    "\n",
    "# create a DataFrame with the PCA components\n",
    "pca_df = pd.DataFrame(data = pca_components,\n",
    "                      columns = ['pca1_t_1', 'pca2_t_1'])\n",
    "\n",
    "# concatenate the PCA DataFrame with the original DataFrame\n",
    "hitter_dynamic_panel = pd.concat([hitter_dynamic_panel, pca_df], axis = 1)"
   ]
  },
  {
   "cell_type": "code",
   "execution_count": 25,
   "id": "3e57659f-810a-4e13-abb3-468ed4cfb21b",
   "metadata": {},
   "outputs": [
    {
     "data": {
      "text/html": [
       "<div>\n",
       "<style scoped>\n",
       "    .dataframe tbody tr th:only-of-type {\n",
       "        vertical-align: middle;\n",
       "    }\n",
       "\n",
       "    .dataframe tbody tr th {\n",
       "        vertical-align: top;\n",
       "    }\n",
       "\n",
       "    .dataframe thead th {\n",
       "        text-align: right;\n",
       "    }\n",
       "</style>\n",
       "<table border=\"1\" class=\"dataframe\">\n",
       "  <thead>\n",
       "    <tr style=\"text-align: right;\">\n",
       "      <th></th>\n",
       "      <th>pca1_t_1</th>\n",
       "      <th>pca2_t_1</th>\n",
       "    </tr>\n",
       "  </thead>\n",
       "  <tbody>\n",
       "    <tr>\n",
       "      <th>0</th>\n",
       "      <td>514.029089</td>\n",
       "      <td>-1.289064</td>\n",
       "    </tr>\n",
       "    <tr>\n",
       "      <th>1</th>\n",
       "      <td>627.413964</td>\n",
       "      <td>108.797639</td>\n",
       "    </tr>\n",
       "    <tr>\n",
       "      <th>2</th>\n",
       "      <td>105.859896</td>\n",
       "      <td>-396.763681</td>\n",
       "    </tr>\n",
       "    <tr>\n",
       "      <th>3</th>\n",
       "      <td>41.525833</td>\n",
       "      <td>-459.710133</td>\n",
       "    </tr>\n",
       "    <tr>\n",
       "      <th>4</th>\n",
       "      <td>514.029089</td>\n",
       "      <td>-1.289064</td>\n",
       "    </tr>\n",
       "    <tr>\n",
       "      <th>...</th>\n",
       "      <td>...</td>\n",
       "      <td>...</td>\n",
       "    </tr>\n",
       "    <tr>\n",
       "      <th>468</th>\n",
       "      <td>-24.407306</td>\n",
       "      <td>7.353011</td>\n",
       "    </tr>\n",
       "    <tr>\n",
       "      <th>469</th>\n",
       "      <td>-24.415920</td>\n",
       "      <td>7.343414</td>\n",
       "    </tr>\n",
       "    <tr>\n",
       "      <th>470</th>\n",
       "      <td>-25.362211</td>\n",
       "      <td>6.497953</td>\n",
       "    </tr>\n",
       "    <tr>\n",
       "      <th>471</th>\n",
       "      <td>-24.415541</td>\n",
       "      <td>7.362980</td>\n",
       "    </tr>\n",
       "    <tr>\n",
       "      <th>472</th>\n",
       "      <td>-24.424155</td>\n",
       "      <td>7.353383</td>\n",
       "    </tr>\n",
       "  </tbody>\n",
       "</table>\n",
       "<p>473 rows × 2 columns</p>\n",
       "</div>"
      ],
      "text/plain": [
       "       pca1_t_1    pca2_t_1\n",
       "0    514.029089   -1.289064\n",
       "1    627.413964  108.797639\n",
       "2    105.859896 -396.763681\n",
       "3     41.525833 -459.710133\n",
       "4    514.029089   -1.289064\n",
       "..          ...         ...\n",
       "468  -24.407306    7.353011\n",
       "469  -24.415920    7.343414\n",
       "470  -25.362211    6.497953\n",
       "471  -24.415541    7.362980\n",
       "472  -24.424155    7.353383\n",
       "\n",
       "[473 rows x 2 columns]"
      ]
     },
     "execution_count": 25,
     "metadata": {},
     "output_type": "execute_result"
    }
   ],
   "source": [
    "hitter_dynamic_panel[['pca1_t_1', 'pca2_t_1']]"
   ]
  },
  {
   "cell_type": "code",
   "execution_count": 26,
   "id": "104ddcaf-01ab-4d65-a8e0-d8f65fe143d3",
   "metadata": {},
   "outputs": [
    {
     "data": {
      "image/png": "[encoded data removed]",
      "text/plain": [
       "<Figure size 936x648 with 1 Axes>"
      ]
     },
     "metadata": {
      "needs_background": "light"
     },
     "output_type": "display_data"
    }
   ],
   "source": [
    "# Initialize PCA object\n",
    "pca_hitter_t = PCA()\n",
    "\n",
    "# Fit PCA to data\n",
    "pca_hitter_t.fit(X_fielder_t_1)\n",
    "\n",
    "# Plot cumulative explained variance as a function of number of components\n",
    "plt.subplots(figsize = (13,9))\n",
    "cumulative_variance = np.cumsum(pca_hitter_t.explained_variance_ratio_)\n",
    "# Find number of components that capture 80% of variance\n",
    "optimal_n_components = np.argmax(cumulative_variance >= 0.8) + 1\n",
    "\n",
    "plt.axvline(x = optimal_n_components,\n",
    "            color='r', \n",
    "            linestyle = 'dashed')\n",
    "plt.plot(cumulative_variance, \n",
    "         ls = '-' ,\n",
    "         markerfacecolor = 'lightblue',\n",
    "         marker = 'o',\n",
    "         ms = 11, \n",
    "         color = 'blue',\n",
    "         linewidth = 2)\n",
    "plt.xlabel('Número de componentes',\n",
    "           fontsize = 19,\n",
    "           fontweight = 'bold',\n",
    "           color = 'black')\n",
    "plt.ylabel('Cumulative explained variance',\n",
    "           fontsize = 19,\n",
    "           fontweight = 'bold',\n",
    "           color = 'black')\n",
    "plt.yticks(fontsize = 16,\n",
    "           fontweight = 'bold',\n",
    "           color = 'black')\n",
    "plt.xticks(fontsize = 16,\n",
    "           fontweight = 'bold',\n",
    "           color = 'black')\n",
    "plt.text(optimal_n_components + 1, 0.7,\n",
    "         f'Número óptimo de\\ncomponentes: {optimal_n_components}',\n",
    "         fontsize = 19)\n",
    "plt.title('Bateadores - Variables del periodo t',\n",
    "           fontsize = 21,\n",
    "           fontweight = 'bold',\n",
    "           color = 'black')\n",
    "plt.show()"
   ]
  },
  {
   "cell_type": "code",
   "execution_count": 27,
   "id": "8b9bd0eb-772e-4f78-9fe5-47e049e21962",
   "metadata": {},
   "outputs": [],
   "source": [
    "# instantiate a PCA object with n_components=2\n",
    "pca_hitter_t = PCA(n_components = 2)\n",
    "\n",
    "# fit and transform the input data\n",
    "pca_components = pca_hitter_t.fit_transform(X_hitter_t)\n",
    "\n",
    "# create a DataFrame with the PCA components\n",
    "pca_df = pd.DataFrame(data = pca_components,\n",
    "                      columns = ['pca1_t', 'pca2_t'])\n",
    "\n",
    "# concatenate the PCA DataFrame with the original DataFrame\n",
    "hitter_dynamic_panel = pd.concat([hitter_dynamic_panel, pca_df], axis = 1)"
   ]
  },
  {
   "cell_type": "code",
   "execution_count": 28,
   "id": "ba81e08b-b7d1-4436-a53e-8430603f4b8e",
   "metadata": {},
   "outputs": [
    {
     "data": {
      "image/png": "[encoded data removed]",
      "text/plain": [
       "<Figure size 936x648 with 1 Axes>"
      ]
     },
     "metadata": {
      "needs_background": "light"
     },
     "output_type": "display_data"
    }
   ],
   "source": [
    "# Initialize PCA object\n",
    "pca_fielder_t_1 = PCA()\n",
    "\n",
    "# Fit PCA to data\n",
    "pca_fielder_t_1.fit(X_hitter_t)\n",
    "\n",
    "# Plot cumulative explained variance as a function of number of components\n",
    "plt.subplots(figsize = (13,9))\n",
    "cumulative_variance = np.cumsum(pca_fielder_t_1.explained_variance_ratio_)\n",
    "# Find number of components that capture 80% of variance\n",
    "optimal_n_components = np.argmax(cumulative_variance >= 0.8) + 1\n",
    "\n",
    "plt.axvline(x = optimal_n_components,\n",
    "            color='r', \n",
    "            linestyle = 'dashed')\n",
    "plt.plot(cumulative_variance, \n",
    "         ls = '-' ,\n",
    "         markerfacecolor = 'lightblue',\n",
    "         marker = 'o',\n",
    "         ms = 11, \n",
    "         color = 'blue',\n",
    "         linewidth = 2)\n",
    "plt.xlabel('Número de componentes',\n",
    "           fontsize = 19,\n",
    "           fontweight = 'bold',\n",
    "           color = 'black')\n",
    "plt.ylabel('Cumulative explained variance',\n",
    "           fontsize = 19,\n",
    "           fontweight = 'bold',\n",
    "           color = 'black')\n",
    "plt.yticks(fontsize = 16,\n",
    "           fontweight = 'bold',\n",
    "           color = 'black')\n",
    "plt.xticks(fontsize = 16,\n",
    "           fontweight = 'bold',\n",
    "           color = 'black')\n",
    "plt.text(optimal_n_components + 1, 0.9,\n",
    "         f'Número óptimo de\\ncomponentes: {optimal_n_components}',\n",
    "         fontsize = 19)\n",
    "plt.title('Fildeadores - Variables del periodo t-1',\n",
    "           fontsize = 21,\n",
    "           fontweight = 'bold',\n",
    "           color = 'black')\n",
    "plt.show()"
   ]
  },
  {
   "cell_type": "code",
   "execution_count": 29,
   "id": "d0d52b13-ef05-478c-9932-6cb68c2f5def",
   "metadata": {},
   "outputs": [],
   "source": [
    "# instantiate a PCA object with n_components=2\n",
    "pca_fielder_t_1 = PCA(n_components = 2)\n",
    "\n",
    "# fit and transform the input data\n",
    "pca_components = pca_fielder_t_1.fit_transform(X_fielder_t_1)\n",
    "\n",
    "# create a DataFrame with the PCA components\n",
    "pca_df = pd.DataFrame(data = pca_components,\n",
    "                      columns = ['pca1_t_1', 'pca2_t_1'])\n",
    "\n",
    "# concatenate the PCA DataFrame with the original DataFrame\n",
    "fielder_dynamic_panel = pd.concat([fielder_dynamic_panel, pca_df], axis = 1)"
   ]
  },
  {
   "cell_type": "code",
   "execution_count": 30,
   "id": "095587f8-a4f0-4a16-927e-5b1f98ab85ec",
   "metadata": {},
   "outputs": [
    {
     "data": {
      "image/png": "[encoded data removed]",
      "text/plain": [
       "<Figure size 936x648 with 1 Axes>"
      ]
     },
     "metadata": {
      "needs_background": "light"
     },
     "output_type": "display_data"
    }
   ],
   "source": [
    "# Initialize PCA object\n",
    "pca_fielder_t = PCA()\n",
    "\n",
    "# Fit PCA to data\n",
    "pca_fielder_t.fit(X_fielder_t)\n",
    "\n",
    "# Plot cumulative explained variance as a function of number of components\n",
    "plt.subplots(figsize = (13,9))\n",
    "cumulative_variance = np.cumsum(pca_fielder_t.explained_variance_ratio_)\n",
    "# Find number of components that capture 80% of variance\n",
    "optimal_n_components = np.argmax(cumulative_variance >= 0.95) + 1\n",
    "\n",
    "\n",
    "plt.axvline(x = optimal_n_components,\n",
    "            color='r', \n",
    "            linestyle = 'dashed')\n",
    "plt.plot(cumulative_variance, \n",
    "         ls = '-' ,\n",
    "         markerfacecolor = 'lightblue',\n",
    "         marker = 'o',\n",
    "         ms = 11, \n",
    "         color = 'blue',\n",
    "         linewidth = 2)\n",
    "plt.xlabel('Número de componentes',\n",
    "           fontsize = 19,\n",
    "           fontweight = 'bold',\n",
    "           color = 'black')\n",
    "plt.ylabel('Cumulative explained variance',\n",
    "           fontsize = 19,\n",
    "           fontweight = 'bold',\n",
    "           color = 'black')\n",
    "plt.yticks(fontsize = 16,\n",
    "           fontweight = 'bold',\n",
    "           color = 'black')\n",
    "plt.xticks(fontsize = 16,\n",
    "           fontweight = 'bold',\n",
    "           color = 'black')\n",
    "plt.text(optimal_n_components + 1, 0.9,\n",
    "         f'Número óptimo de\\ncomponentes: {optimal_n_components}',\n",
    "         fontsize = 19)\n",
    "plt.title('Fildeadores - Variables del periodo t',\n",
    "           fontsize = 21,\n",
    "           fontweight = 'bold',\n",
    "           color = 'black')\n",
    "plt.show()"
   ]
  },
  {
   "cell_type": "code",
   "execution_count": 31,
   "id": "aa04f1fd-29a7-452b-b646-be1253bb353f",
   "metadata": {},
   "outputs": [],
   "source": [
    "# instantiate a PCA object with n_components=2\n",
    "pca_fielder_t = PCA(n_components = 2)\n",
    "\n",
    "# fit and transform the input data\n",
    "pca_components = pca_fielder_t.fit_transform(X_fielder_t)\n",
    "\n",
    "# create a DataFrame with the PCA components\n",
    "pca_df = pd.DataFrame(data = pca_components,\n",
    "                     columns = ['pca1_t', 'pca2_t'])\n",
    "\n",
    "# concatenate the PCA DataFrame with the original DataFrame\n",
    "fielder_dynamic_panel = pd.concat([fielder_dynamic_panel, pca_df], axis = 1)"
   ]
  },
  {
   "cell_type": "markdown",
   "id": "4e6248d1-70d7-475e-b678-df922e4f944d",
   "metadata": {},
   "source": [
    "Exportemos las bases de datos "
   ]
  },
  {
   "cell_type": "code",
   "execution_count": 32,
   "id": "bf2ad06f-2152-4e7d-b728-93a6a1d81679",
   "metadata": {},
   "outputs": [],
   "source": [
    "path = 'ETL_Data/Panel/General/Dynamic_model/'\n",
    "hitter_dynamic_panel.to_csv(path + 'dynamic_model_hitter_pca' + '.csv',\n",
    "                            index = False)\n",
    "fielder_dynamic_panel.to_csv(path + 'dynamic_model_fielder_pca' + '.csv',\n",
    "                             index = False)"
   ]
  }
 ],
 "metadata": {
  "kernelspec": {
   "display_name": "Python 3",
   "language": "python",
   "name": "python3"
  },
  "language_info": {
   "codemirror_mode": {
    "name": "ipython",
    "version": 3
   },
   "file_extension": ".py",
   "mimetype": "text/x-python",
   "name": "python",
   "nbconvert_exporter": "python",
   "pygments_lexer": "ipython3",
   "version": "3.8.8"
  }
 },
 "nbformat": 4,
 "nbformat_minor": 5
}
