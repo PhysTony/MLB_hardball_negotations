{
 "cells": [
  {
   "cell_type": "markdown",
   "id": "564fafe2-4054-433e-848d-c16084ea8829",
   "metadata": {},
   "source": [
    "# Players dataframes for the same period t\n",
    "\n",
    "En este script nos dedicaremos a crear una base de datos limpia segmentada por hitters y pitchers. Se exportarán dichas bases de datos contemplando respectivamente a los jugadores que son agentes libres, a los que no son y a todos los jugadores. Las secciones dentro del script son:\n",
    "\n",
    "- **Visualización del contenido de las bases de datos.**\n",
    "- **Limpieza de la base de datos y exportación.**\n",
    "- **Creación de indicador de si el jugador es agente libre.**"
   ]
  },
  {
   "cell_type": "markdown",
   "id": "c886e0a2-d18f-4511-ac40-2dd5d70bed46",
   "metadata": {},
   "source": [
    "Importemos los modulos necesarios así como especificar la configuración deseada."
   ]
  },
  {
   "cell_type": "code",
   "execution_count": 1,
   "id": "00d0481c-4ecb-40dd-addd-e6ea487bc9e0",
   "metadata": {},
   "outputs": [
    {
     "name": "stdout",
     "output_type": "stream",
     "text": [
      "Modulos importados\n"
     ]
    }
   ],
   "source": [
    "import pandas as pd\n",
    "import numpy as np\n",
    "import math\n",
    "import os\n",
    "import warnings\n",
    "print('Modulos importados')"
   ]
  },
  {
   "cell_type": "code",
   "execution_count": 2,
   "id": "5ea069de-f7a0-4370-be4f-4a54b24dcf26",
   "metadata": {},
   "outputs": [],
   "source": [
    "# Configuraciones\n",
    "warnings.filterwarnings('ignore')\n",
    "# Reduzcamos el número de línea a leer\n",
    "pd.options.display.max_rows = 5"
   ]
  },
  {
   "cell_type": "code",
   "execution_count": 3,
   "id": "15370f37-8410-4da1-842c-c448ca05fe31",
   "metadata": {},
   "outputs": [
    {
     "name": "stdout",
     "output_type": "stream",
     "text": [
      "Directorio de trabajo previo: /home/usuario/Documentos/Github/Proyectos/MLB_HN/ETL_Scripts/First_Year_Contract\n"
     ]
    }
   ],
   "source": [
    "# Directorio de trabajo\n",
    "print(\"Directorio de trabajo previo: \" + str(os.getcwd()))\n",
    "# Cambiemoslo\n",
    "os.chdir('/home/usuario/Documentos/Github/Proyectos/MLB_HN/')"
   ]
  },
  {
   "cell_type": "code",
   "execution_count": 4,
   "id": "908e5561-e884-435a-9329-b9ff47d3c5e7",
   "metadata": {},
   "outputs": [
    {
     "name": "stdout",
     "output_type": "stream",
     "text": [
      "/home/usuario/Documentos/Github/Proyectos/MLB_HN\n",
      "Nuevo directorio de trabajo: None\n"
     ]
    }
   ],
   "source": [
    "# Veamos el directorio actual de trabajo\n",
    "print(os.getcwd())\n",
    "# El directorio anterior es el correcto, pero si no lo fuese, hacemos lo sigueinte:\n",
    "path = '/home/usuario/Documentos/Github/Proyectos/MLB_HN'\n",
    "print(\"Nuevo directorio de trabajo: \" + str(os.chdir(path)))"
   ]
  },
  {
   "cell_type": "markdown",
   "id": "e0299b01-0fd6-47b4-8181-844d57f69f45",
   "metadata": {},
   "source": [
    "## Visualización de las bases de datos"
   ]
  },
  {
   "cell_type": "markdown",
   "id": "2dfb2ae0-038a-4cd7-8196-61198993bbe8",
   "metadata": {},
   "source": [
    "Basta con ver el contenido de las base de datos de un año para observar qué variables contienen. Escojamos el año 2012."
   ]
  },
  {
   "cell_type": "markdown",
   "id": "b22cb692-fc8b-4d19-94a5-51ee98b20e7f",
   "metadata": {},
   "source": [
    "A continuación, se mostrará el contenido de las distintas bases de datos sobre los *bateadores*, *pitchers*, *salarios de los agentes libres* y *salarios de los todos los jugadores*. Esto para determinar el proceso de limpieza que se llevará a cabo."
   ]
  },
  {
   "cell_type": "code",
   "execution_count": 5,
   "id": "2a4e6e40-42c5-48b2-adae-ee15b4147637",
   "metadata": {},
   "outputs": [],
   "source": [
    "# Rutas de los archivos del año 2012\n",
    "free_agents_2012 = 'Data/Free_Agents/free_agents_2012.csv'\n",
    "hitting_2012 = 'Data/Not_All_Variables/Statistics/Hitting/hitting_2012.csv'\n",
    "pitching_2012 = 'Data/Not_All_Variables/Statistics/Pitching/pitching_2012.csv'\n",
    "salary_2012 = 'Data/Not_All_Variables/Salary/salary_2012.csv'\n",
    "teams_etl_2012 = 'ETL_Data/Agent/Teams/free_agents_team_2012.csv'\n",
    "\n",
    "# Importando los dataframes\n",
    "df_free_agent_auxiliar_2012 = pd.read_csv(free_agents_2012)\n",
    "df_hitting_auxiliar_2012 = pd.read_csv(hitting_2012)\n",
    "df_pitching_auxiliar_2012 = pd.read_csv(pitching_2012)\n",
    "df_salary_auxiliar_2012 = pd.read_csv(salary_2012)\n",
    "df_teams_etl_2012 = pd.read_csv(teams_etl_2012)"
   ]
  },
  {
   "cell_type": "markdown",
   "id": "ad6ebead-e66e-4584-857b-0fa17eaa0f14",
   "metadata": {},
   "source": [
    "### Agentes libres\n",
    "\n",
    "Veamos primero el dataframe"
   ]
  },
  {
   "cell_type": "code",
   "execution_count": 6,
   "id": "9058c310-c929-4ac5-be60-032f9a96d0ef",
   "metadata": {},
   "outputs": [
    {
     "data": {
      "text/html": [
       "<div>\n",
       "<style scoped>\n",
       "    .dataframe tbody tr th:only-of-type {\n",
       "        vertical-align: middle;\n",
       "    }\n",
       "\n",
       "    .dataframe tbody tr th {\n",
       "        vertical-align: top;\n",
       "    }\n",
       "\n",
       "    .dataframe thead th {\n",
       "        text-align: right;\n",
       "    }\n",
       "</style>\n",
       "<table border=\"1\" class=\"dataframe\">\n",
       "  <thead>\n",
       "    <tr style=\"text-align: right;\">\n",
       "      <th></th>\n",
       "      <th>Rank</th>\n",
       "      <th>Player</th>\n",
       "      <th>Year</th>\n",
       "      <th>Pos</th>\n",
       "      <th>Status</th>\n",
       "      <th>Team From</th>\n",
       "      <th>Team From To</th>\n",
       "      <th>YRS</th>\n",
       "      <th>Value</th>\n",
       "      <th>AAV</th>\n",
       "    </tr>\n",
       "  </thead>\n",
       "  <tbody>\n",
       "    <tr>\n",
       "      <th>0</th>\n",
       "      <td>1</td>\n",
       "      <td>Albert Pujols</td>\n",
       "      <td>2012</td>\n",
       "      <td>DH</td>\n",
       "      <td>UFA</td>\n",
       "      <td>STL</td>\n",
       "      <td>LAA</td>\n",
       "      <td>10</td>\n",
       "      <td>$240,000,000</td>\n",
       "      <td>$24,000,000</td>\n",
       "    </tr>\n",
       "    <tr>\n",
       "      <th>1</th>\n",
       "      <td>2</td>\n",
       "      <td>Prince Fielder</td>\n",
       "      <td>2012</td>\n",
       "      <td>DH</td>\n",
       "      <td>UFA</td>\n",
       "      <td>MIL</td>\n",
       "      <td>DET</td>\n",
       "      <td>9</td>\n",
       "      <td>$214,000,000</td>\n",
       "      <td>$23,777,778</td>\n",
       "    </tr>\n",
       "    <tr>\n",
       "      <th>2</th>\n",
       "      <td>3</td>\n",
       "      <td>Jose Reyes</td>\n",
       "      <td>2012</td>\n",
       "      <td>SS</td>\n",
       "      <td>UFA</td>\n",
       "      <td>NYM</td>\n",
       "      <td>MIA</td>\n",
       "      <td>6</td>\n",
       "      <td>$106,000,000</td>\n",
       "      <td>$17,666,667</td>\n",
       "    </tr>\n",
       "    <tr>\n",
       "      <th>3</th>\n",
       "      <td>4</td>\n",
       "      <td>C.J. Wilson</td>\n",
       "      <td>2012</td>\n",
       "      <td>SP</td>\n",
       "      <td>UFA</td>\n",
       "      <td>TEX</td>\n",
       "      <td>LAA</td>\n",
       "      <td>5</td>\n",
       "      <td>$77,500,000</td>\n",
       "      <td>$15,500,000</td>\n",
       "    </tr>\n",
       "    <tr>\n",
       "      <th>4</th>\n",
       "      <td>5</td>\n",
       "      <td>Mark Buehrle</td>\n",
       "      <td>2012</td>\n",
       "      <td>SP</td>\n",
       "      <td>UFA</td>\n",
       "      <td>CHW</td>\n",
       "      <td>MIA</td>\n",
       "      <td>4</td>\n",
       "      <td>$58,000,000</td>\n",
       "      <td>$14,500,000</td>\n",
       "    </tr>\n",
       "  </tbody>\n",
       "</table>\n",
       "</div>"
      ],
      "text/plain": [
       "   Rank          Player  Year Pos Status Team From Team From To  YRS  \\\n",
       "0     1   Albert Pujols  2012  DH    UFA       STL          LAA   10   \n",
       "1     2  Prince Fielder  2012  DH    UFA       MIL          DET    9   \n",
       "2     3      Jose Reyes  2012  SS    UFA       NYM          MIA    6   \n",
       "3     4     C.J. Wilson  2012  SP    UFA       TEX          LAA    5   \n",
       "4     5    Mark Buehrle  2012  SP    UFA       CHW          MIA    4   \n",
       "\n",
       "          Value          AAV  \n",
       "0  $240,000,000  $24,000,000  \n",
       "1  $214,000,000  $23,777,778  \n",
       "2  $106,000,000  $17,666,667  \n",
       "3   $77,500,000  $15,500,000  \n",
       "4   $58,000,000  $14,500,000  "
      ]
     },
     "execution_count": 6,
     "metadata": {},
     "output_type": "execute_result"
    }
   ],
   "source": [
    "df_free_agent_auxiliar_2012.head()"
   ]
  },
  {
   "cell_type": "markdown",
   "id": "1d164897-fa47-4f02-bbfd-0f756ffd1765",
   "metadata": {},
   "source": [
    "### Hitters\n",
    "\n",
    "Veamos el dataframe"
   ]
  },
  {
   "cell_type": "code",
   "execution_count": 7,
   "id": "6df87361-493a-46b6-b901-462aca2d8b74",
   "metadata": {},
   "outputs": [
    {
     "data": {
      "text/html": [
       "<div>\n",
       "<style scoped>\n",
       "    .dataframe tbody tr th:only-of-type {\n",
       "        vertical-align: middle;\n",
       "    }\n",
       "\n",
       "    .dataframe tbody tr th {\n",
       "        vertical-align: top;\n",
       "    }\n",
       "\n",
       "    .dataframe thead th {\n",
       "        text-align: right;\n",
       "    }\n",
       "</style>\n",
       "<table border=\"1\" class=\"dataframe\">\n",
       "  <thead>\n",
       "    <tr style=\"text-align: right;\">\n",
       "      <th></th>\n",
       "      <th>Rank</th>\n",
       "      <th>Player</th>\n",
       "      <th>Pos</th>\n",
       "      <th>Team</th>\n",
       "      <th>GP</th>\n",
       "      <th>GP%</th>\n",
       "      <th>GS</th>\n",
       "      <th>GS%</th>\n",
       "      <th>AB</th>\n",
       "      <th>H</th>\n",
       "      <th>...</th>\n",
       "      <th>HR</th>\n",
       "      <th>RBI</th>\n",
       "      <th>AVG</th>\n",
       "      <th>OBP</th>\n",
       "      <th>SLG</th>\n",
       "      <th>OPS</th>\n",
       "      <th>WAR</th>\n",
       "      <th>TVS</th>\n",
       "      <th>Cash2023</th>\n",
       "      <th>Unnamed: 21</th>\n",
       "    </tr>\n",
       "  </thead>\n",
       "  <tbody>\n",
       "    <tr>\n",
       "      <th>0</th>\n",
       "      <td>NaN</td>\n",
       "      <td>Derek Jeter</td>\n",
       "      <td>SS</td>\n",
       "      <td>NYY</td>\n",
       "      <td>159</td>\n",
       "      <td>0.982</td>\n",
       "      <td>158</td>\n",
       "      <td>0.975</td>\n",
       "      <td>683</td>\n",
       "      <td>216</td>\n",
       "      <td>...</td>\n",
       "      <td>15</td>\n",
       "      <td>58</td>\n",
       "      <td>0.316</td>\n",
       "      <td>0.362</td>\n",
       "      <td>0.429</td>\n",
       "      <td>0.791</td>\n",
       "      <td>2.16</td>\n",
       "      <td>23.61</td>\n",
       "      <td>$0</td>\n",
       "      <td>NaN</td>\n",
       "    </tr>\n",
       "    <tr>\n",
       "      <th>1</th>\n",
       "      <td>NaN</td>\n",
       "      <td>Miguel Cabrera</td>\n",
       "      <td>1B</td>\n",
       "      <td>DET</td>\n",
       "      <td>161</td>\n",
       "      <td>0.994</td>\n",
       "      <td>161</td>\n",
       "      <td>0.994</td>\n",
       "      <td>622</td>\n",
       "      <td>205</td>\n",
       "      <td>...</td>\n",
       "      <td>44</td>\n",
       "      <td>139</td>\n",
       "      <td>0.330</td>\n",
       "      <td>0.393</td>\n",
       "      <td>0.606</td>\n",
       "      <td>0.999</td>\n",
       "      <td>7.14</td>\n",
       "      <td>96.42</td>\n",
       "      <td>$32,000,000</td>\n",
       "      <td>NaN</td>\n",
       "    </tr>\n",
       "    <tr>\n",
       "      <th>2</th>\n",
       "      <td>NaN</td>\n",
       "      <td>Robinson Cano</td>\n",
       "      <td>2B</td>\n",
       "      <td>NYY</td>\n",
       "      <td>161</td>\n",
       "      <td>0.994</td>\n",
       "      <td>159</td>\n",
       "      <td>0.982</td>\n",
       "      <td>627</td>\n",
       "      <td>196</td>\n",
       "      <td>...</td>\n",
       "      <td>33</td>\n",
       "      <td>94</td>\n",
       "      <td>0.313</td>\n",
       "      <td>0.379</td>\n",
       "      <td>0.550</td>\n",
       "      <td>0.929</td>\n",
       "      <td>8.44</td>\n",
       "      <td>98.76</td>\n",
       "      <td>$0</td>\n",
       "      <td>NaN</td>\n",
       "    </tr>\n",
       "    <tr>\n",
       "      <th>3</th>\n",
       "      <td>NaN</td>\n",
       "      <td>Everth Cabrera</td>\n",
       "      <td>SS</td>\n",
       "      <td>SD</td>\n",
       "      <td>230</td>\n",
       "      <td>0.710</td>\n",
       "      <td>218</td>\n",
       "      <td>0.673</td>\n",
       "      <td>796</td>\n",
       "      <td>196</td>\n",
       "      <td>...</td>\n",
       "      <td>4</td>\n",
       "      <td>48</td>\n",
       "      <td>0.246</td>\n",
       "      <td>0.324</td>\n",
       "      <td>0.324</td>\n",
       "      <td>0.648</td>\n",
       "      <td>3.56</td>\n",
       "      <td>82.66</td>\n",
       "      <td>$0</td>\n",
       "      <td>NaN</td>\n",
       "    </tr>\n",
       "    <tr>\n",
       "      <th>4</th>\n",
       "      <td>NaN</td>\n",
       "      <td>Adrian Beltre</td>\n",
       "      <td>3B</td>\n",
       "      <td>TEX</td>\n",
       "      <td>156</td>\n",
       "      <td>0.963</td>\n",
       "      <td>152</td>\n",
       "      <td>0.938</td>\n",
       "      <td>604</td>\n",
       "      <td>194</td>\n",
       "      <td>...</td>\n",
       "      <td>36</td>\n",
       "      <td>102</td>\n",
       "      <td>0.321</td>\n",
       "      <td>0.359</td>\n",
       "      <td>0.561</td>\n",
       "      <td>0.921</td>\n",
       "      <td>7.24</td>\n",
       "      <td>88.47</td>\n",
       "      <td>$0</td>\n",
       "      <td>NaN</td>\n",
       "    </tr>\n",
       "  </tbody>\n",
       "</table>\n",
       "<p>5 rows × 22 columns</p>\n",
       "</div>"
      ],
      "text/plain": [
       "   Rank          Player Pos Team   GP    GP%   GS    GS%   AB    H  ...  HR  \\\n",
       "0   NaN     Derek Jeter  SS  NYY  159  0.982  158  0.975  683  216  ...  15   \n",
       "1   NaN  Miguel Cabrera  1B  DET  161  0.994  161  0.994  622  205  ...  44   \n",
       "2   NaN   Robinson Cano  2B  NYY  161  0.994  159  0.982  627  196  ...  33   \n",
       "3   NaN  Everth Cabrera  SS   SD  230  0.710  218  0.673  796  196  ...   4   \n",
       "4   NaN   Adrian Beltre  3B  TEX  156  0.963  152  0.938  604  194  ...  36   \n",
       "\n",
       "   RBI    AVG    OBP    SLG    OPS   WAR    TVS     Cash2023  Unnamed: 21  \n",
       "0   58  0.316  0.362  0.429  0.791  2.16  23.61           $0          NaN  \n",
       "1  139  0.330  0.393  0.606  0.999  7.14  96.42  $32,000,000          NaN  \n",
       "2   94  0.313  0.379  0.550  0.929  8.44  98.76           $0          NaN  \n",
       "3   48  0.246  0.324  0.324  0.648  3.56  82.66           $0          NaN  \n",
       "4  102  0.321  0.359  0.561  0.921  7.24  88.47           $0          NaN  \n",
       "\n",
       "[5 rows x 22 columns]"
      ]
     },
     "execution_count": 7,
     "metadata": {},
     "output_type": "execute_result"
    }
   ],
   "source": [
    "df_hitting_auxiliar_2012.head()"
   ]
  },
  {
   "cell_type": "code",
   "execution_count": 8,
   "id": "dd86be4e-eebe-4576-8bf7-f8f2f7834e48",
   "metadata": {},
   "outputs": [
    {
     "data": {
      "text/plain": [
       "Index(['Rank', 'Player', 'Pos', 'Team', 'GP', 'GP%', 'GS', 'GS%', 'AB', 'H',\n",
       "       '2B', '3B', 'HR', 'RBI', 'AVG', 'OBP', 'SLG', 'OPS', 'WAR', 'TVS',\n",
       "       'Cash2023', 'Unnamed: 21'],\n",
       "      dtype='object')"
      ]
     },
     "execution_count": 8,
     "metadata": {},
     "output_type": "execute_result"
    }
   ],
   "source": [
    "df_hitting_auxiliar_2012.columns"
   ]
  },
  {
   "cell_type": "markdown",
   "id": "56a36736-9633-49ea-ad69-35952537d536",
   "metadata": {},
   "source": [
    "Los términos en la base de datos no se traducirán para evitar malentendidos en la traducción.\n",
    "\n",
    "- **Pos**: Player position.\n",
    "- **Team**: Team acronym.\n",
    "- **GP**: Games played.\n",
    "- **GP%**: Games played %.\n",
    "- **AB**: At bats.\n",
    "- **H**: Hitting.\n",
    "- **HR**: Home runs.\n",
    "- **RBI**: Runs batted in.\n",
    "- **AVG**: Batting average.\n",
    "- **OPS**: Onebase plus slugging%.\n",
    "\n",
    "Se omitirá la columna *Cash2022* puesto que no es de interés para el trabajo el valor del jugador en la actualidad puesto que hay agentes libres que ya se han retirado en años posteriores."
   ]
  },
  {
   "cell_type": "markdown",
   "id": "1dde1d41-d82a-4386-aee6-90513d6b4677",
   "metadata": {},
   "source": [
    "## Pitchers"
   ]
  },
  {
   "cell_type": "code",
   "execution_count": 9,
   "id": "ee6ee3c5-075d-4e14-a436-6821c53df80b",
   "metadata": {},
   "outputs": [
    {
     "data": {
      "text/html": [
       "<div>\n",
       "<style scoped>\n",
       "    .dataframe tbody tr th:only-of-type {\n",
       "        vertical-align: middle;\n",
       "    }\n",
       "\n",
       "    .dataframe tbody tr th {\n",
       "        vertical-align: top;\n",
       "    }\n",
       "\n",
       "    .dataframe thead th {\n",
       "        text-align: right;\n",
       "    }\n",
       "</style>\n",
       "<table border=\"1\" class=\"dataframe\">\n",
       "  <thead>\n",
       "    <tr style=\"text-align: right;\">\n",
       "      <th></th>\n",
       "      <th>Rank</th>\n",
       "      <th>Player</th>\n",
       "      <th>Pos</th>\n",
       "      <th>Team</th>\n",
       "      <th>GP</th>\n",
       "      <th>GS</th>\n",
       "      <th>IP</th>\n",
       "      <th>H</th>\n",
       "      <th>R</th>\n",
       "      <th>ER</th>\n",
       "      <th>...</th>\n",
       "      <th>SO</th>\n",
       "      <th>W</th>\n",
       "      <th>L</th>\n",
       "      <th>SV</th>\n",
       "      <th>WHIP</th>\n",
       "      <th>ERA</th>\n",
       "      <th>WAR</th>\n",
       "      <th>TVS</th>\n",
       "      <th>Cash2023</th>\n",
       "      <th>Unnamed: 20</th>\n",
       "    </tr>\n",
       "  </thead>\n",
       "  <tbody>\n",
       "    <tr>\n",
       "      <th>0</th>\n",
       "      <td>NaN</td>\n",
       "      <td>R.A. Dickey</td>\n",
       "      <td>SP</td>\n",
       "      <td>NYM</td>\n",
       "      <td>34</td>\n",
       "      <td>33</td>\n",
       "      <td>233.7</td>\n",
       "      <td>192</td>\n",
       "      <td>78</td>\n",
       "      <td>71</td>\n",
       "      <td>...</td>\n",
       "      <td>230</td>\n",
       "      <td>20</td>\n",
       "      <td>6</td>\n",
       "      <td>0</td>\n",
       "      <td>1.05</td>\n",
       "      <td>2.74</td>\n",
       "      <td>5.69</td>\n",
       "      <td>97.27</td>\n",
       "      <td>$0</td>\n",
       "      <td>NaN</td>\n",
       "    </tr>\n",
       "    <tr>\n",
       "      <th>1</th>\n",
       "      <td>NaN</td>\n",
       "      <td>Felix Hernandez</td>\n",
       "      <td>SP</td>\n",
       "      <td>SEA</td>\n",
       "      <td>33</td>\n",
       "      <td>33</td>\n",
       "      <td>232.0</td>\n",
       "      <td>209</td>\n",
       "      <td>84</td>\n",
       "      <td>79</td>\n",
       "      <td>...</td>\n",
       "      <td>223</td>\n",
       "      <td>13</td>\n",
       "      <td>9</td>\n",
       "      <td>0</td>\n",
       "      <td>1.14</td>\n",
       "      <td>3.07</td>\n",
       "      <td>5.26</td>\n",
       "      <td>85.20</td>\n",
       "      <td>$0</td>\n",
       "      <td>NaN</td>\n",
       "    </tr>\n",
       "    <tr>\n",
       "      <th>2</th>\n",
       "      <td>NaN</td>\n",
       "      <td>James Shields</td>\n",
       "      <td>SP</td>\n",
       "      <td>TB</td>\n",
       "      <td>33</td>\n",
       "      <td>33</td>\n",
       "      <td>227.7</td>\n",
       "      <td>209</td>\n",
       "      <td>103</td>\n",
       "      <td>89</td>\n",
       "      <td>...</td>\n",
       "      <td>223</td>\n",
       "      <td>15</td>\n",
       "      <td>10</td>\n",
       "      <td>0</td>\n",
       "      <td>1.17</td>\n",
       "      <td>3.52</td>\n",
       "      <td>2.54</td>\n",
       "      <td>79.41</td>\n",
       "      <td>$0</td>\n",
       "      <td>NaN</td>\n",
       "    </tr>\n",
       "    <tr>\n",
       "      <th>3</th>\n",
       "      <td>NaN</td>\n",
       "      <td>Clayton Kershaw</td>\n",
       "      <td>SP</td>\n",
       "      <td>LAD</td>\n",
       "      <td>34</td>\n",
       "      <td>33</td>\n",
       "      <td>227.7</td>\n",
       "      <td>170</td>\n",
       "      <td>70</td>\n",
       "      <td>64</td>\n",
       "      <td>...</td>\n",
       "      <td>229</td>\n",
       "      <td>14</td>\n",
       "      <td>9</td>\n",
       "      <td>0</td>\n",
       "      <td>1.02</td>\n",
       "      <td>2.53</td>\n",
       "      <td>6.43</td>\n",
       "      <td>95.71</td>\n",
       "      <td>$20,000,000</td>\n",
       "      <td>NaN</td>\n",
       "    </tr>\n",
       "    <tr>\n",
       "      <th>4</th>\n",
       "      <td>NaN</td>\n",
       "      <td>Hiroki Kuroda</td>\n",
       "      <td>SP</td>\n",
       "      <td>NYY</td>\n",
       "      <td>33</td>\n",
       "      <td>33</td>\n",
       "      <td>219.7</td>\n",
       "      <td>205</td>\n",
       "      <td>86</td>\n",
       "      <td>81</td>\n",
       "      <td>...</td>\n",
       "      <td>167</td>\n",
       "      <td>16</td>\n",
       "      <td>11</td>\n",
       "      <td>0</td>\n",
       "      <td>1.16</td>\n",
       "      <td>3.32</td>\n",
       "      <td>5.27</td>\n",
       "      <td>81.85</td>\n",
       "      <td>$0</td>\n",
       "      <td>NaN</td>\n",
       "    </tr>\n",
       "  </tbody>\n",
       "</table>\n",
       "<p>5 rows × 21 columns</p>\n",
       "</div>"
      ],
      "text/plain": [
       "   Rank           Player Pos Team  GP  GS     IP    H    R  ER  ...   SO   W  \\\n",
       "0   NaN      R.A. Dickey  SP  NYM  34  33  233.7  192   78  71  ...  230  20   \n",
       "1   NaN  Felix Hernandez  SP  SEA  33  33  232.0  209   84  79  ...  223  13   \n",
       "2   NaN    James Shields  SP   TB  33  33  227.7  209  103  89  ...  223  15   \n",
       "3   NaN  Clayton Kershaw  SP  LAD  34  33  227.7  170   70  64  ...  229  14   \n",
       "4   NaN    Hiroki Kuroda  SP  NYY  33  33  219.7  205   86  81  ...  167  16   \n",
       "\n",
       "    L  SV  WHIP   ERA   WAR    TVS     Cash2023 Unnamed: 20  \n",
       "0   6   0  1.05  2.74  5.69  97.27           $0         NaN  \n",
       "1   9   0  1.14  3.07  5.26  85.20           $0         NaN  \n",
       "2  10   0  1.17  3.52  2.54  79.41           $0         NaN  \n",
       "3   9   0  1.02  2.53  6.43  95.71  $20,000,000         NaN  \n",
       "4  11   0  1.16  3.32  5.27  81.85           $0         NaN  \n",
       "\n",
       "[5 rows x 21 columns]"
      ]
     },
     "execution_count": 9,
     "metadata": {},
     "output_type": "execute_result"
    }
   ],
   "source": [
    "df_pitching_auxiliar_2012.head()"
   ]
  },
  {
   "cell_type": "code",
   "execution_count": 10,
   "id": "ef8e3d28-275b-4375-a93e-22fe2aa7d579",
   "metadata": {},
   "outputs": [
    {
     "data": {
      "text/plain": [
       "Index(['Rank', 'Player', 'Pos', 'Team', 'GP', 'GS', 'IP', 'H', 'R', 'ER', 'BB',\n",
       "       'SO', 'W', 'L', 'SV', 'WHIP', 'ERA', 'WAR', 'TVS', 'Cash2023',\n",
       "       'Unnamed: 20'],\n",
       "      dtype='object')"
      ]
     },
     "execution_count": 10,
     "metadata": {},
     "output_type": "execute_result"
    }
   ],
   "source": [
    "df_pitching_auxiliar_2012.columns"
   ]
  },
  {
   "cell_type": "markdown",
   "id": "e6b9794e-7e90-4c52-ab64-6e22502b8d3b",
   "metadata": {},
   "source": [
    "#### Notación.\n",
    "\n",
    "Veamos a qué se refieren algunos términos\n",
    "\n",
    "- **Pos**: Player position.\n",
    "- **Team**: Team acronym.\n",
    "- **GP**: Games played.\n",
    "- **GS**: Games started.\n",
    "- **IP**: Inning pitched.\n",
    "- **H**: Hits.\n",
    "- **R**: Runs.\n",
    "- **ER**: Earned runs.\n",
    "- **BB**: Walks.\n",
    "- **SO**: Strikeouts.\n",
    "- **W**: Wins.\n",
    "- **L**: Losses-\n",
    "- **SV**: Saves.\n",
    "- **WHIP**: WHIP.\n",
    "- **ERA**: Earned runs average.\n",
    "\n",
    "Por razones análogas, se descartará la columna *Cash2022*."
   ]
  },
  {
   "cell_type": "markdown",
   "id": "7d243a21-4215-4913-a6f4-b4993433f280",
   "metadata": {},
   "source": [
    "### Salarios\n",
    "En este caso, hay muchas menos variables que en las anteriores bases de datos"
   ]
  },
  {
   "cell_type": "code",
   "execution_count": 11,
   "id": "ec13f2a9-83cd-4b9d-a120-623379ef0194",
   "metadata": {},
   "outputs": [
    {
     "data": {
      "text/html": [
       "<div>\n",
       "<style scoped>\n",
       "    .dataframe tbody tr th:only-of-type {\n",
       "        vertical-align: middle;\n",
       "    }\n",
       "\n",
       "    .dataframe tbody tr th {\n",
       "        vertical-align: top;\n",
       "    }\n",
       "\n",
       "    .dataframe thead th {\n",
       "        text-align: right;\n",
       "    }\n",
       "</style>\n",
       "<table border=\"1\" class=\"dataframe\">\n",
       "  <thead>\n",
       "    <tr style=\"text-align: right;\">\n",
       "      <th></th>\n",
       "      <th>Rank</th>\n",
       "      <th>Player</th>\n",
       "      <th>Year</th>\n",
       "      <th>Pos</th>\n",
       "      <th>Team</th>\n",
       "      <th>BaseSalary</th>\n",
       "      <th>SigningBonus</th>\n",
       "      <th>Payroll Salary</th>\n",
       "      <th>Adj Salary</th>\n",
       "      <th>Salary%</th>\n",
       "      <th>...</th>\n",
       "      <th>AAV</th>\n",
       "      <th>CONT YR</th>\n",
       "      <th>CONT VALUE</th>\n",
       "      <th>Earnings</th>\n",
       "      <th>FA Year</th>\n",
       "      <th>Sign Age</th>\n",
       "      <th>Age</th>\n",
       "      <th>Weight</th>\n",
       "      <th>Height</th>\n",
       "      <th>Unnamed: 20</th>\n",
       "    </tr>\n",
       "  </thead>\n",
       "  <tbody>\n",
       "    <tr>\n",
       "      <th>0</th>\n",
       "      <td>NaN</td>\n",
       "      <td>Alex Rodriguez</td>\n",
       "      <td>2012</td>\n",
       "      <td>DH</td>\n",
       "      <td>NYY</td>\n",
       "      <td>$29,000,000</td>\n",
       "      <td>$1,000,000</td>\n",
       "      <td>$30,000,000</td>\n",
       "      <td>$30,000,000</td>\n",
       "      <td>0.132</td>\n",
       "      <td>...</td>\n",
       "      <td>$27,500,000</td>\n",
       "      <td>10</td>\n",
       "      <td>$275,000,000</td>\n",
       "      <td>$321,290,700</td>\n",
       "      <td>2018</td>\n",
       "      <td>32</td>\n",
       "      <td>37</td>\n",
       "      <td>230</td>\n",
       "      <td>0'0\"</td>\n",
       "      <td>NaN</td>\n",
       "    </tr>\n",
       "    <tr>\n",
       "      <th>1</th>\n",
       "      <td>NaN</td>\n",
       "      <td>C.C. Sabathia</td>\n",
       "      <td>2012</td>\n",
       "      <td>SP</td>\n",
       "      <td>NYY</td>\n",
       "      <td>$23,000,000</td>\n",
       "      <td>$1,285,714</td>\n",
       "      <td>$24,285,714</td>\n",
       "      <td>$24,285,714</td>\n",
       "      <td>0.107</td>\n",
       "      <td>...</td>\n",
       "      <td>$23,000,000</td>\n",
       "      <td>7</td>\n",
       "      <td>$161,000,000</td>\n",
       "      <td>$127,285,714</td>\n",
       "      <td>2016</td>\n",
       "      <td>28</td>\n",
       "      <td>31</td>\n",
       "      <td>300</td>\n",
       "      <td>6'6\"</td>\n",
       "      <td>NaN</td>\n",
       "    </tr>\n",
       "    <tr>\n",
       "      <th>2</th>\n",
       "      <td>NaN</td>\n",
       "      <td>Vernon Wells</td>\n",
       "      <td>2012</td>\n",
       "      <td>LF</td>\n",
       "      <td>LAA</td>\n",
       "      <td>$21,000,000</td>\n",
       "      <td>$3,187,500</td>\n",
       "      <td>$24,187,500</td>\n",
       "      <td>$24,187,500</td>\n",
       "      <td>0.154</td>\n",
       "      <td>...</td>\n",
       "      <td>$18,000,000</td>\n",
       "      <td>7</td>\n",
       "      <td>$126,000,000</td>\n",
       "      <td>$102,521,000</td>\n",
       "      <td>2015</td>\n",
       "      <td>29</td>\n",
       "      <td>33</td>\n",
       "      <td>0</td>\n",
       "      <td>0'0\"</td>\n",
       "      <td>NaN</td>\n",
       "    </tr>\n",
       "    <tr>\n",
       "      <th>3</th>\n",
       "      <td>NaN</td>\n",
       "      <td>Johan Santana</td>\n",
       "      <td>2012</td>\n",
       "      <td>SP</td>\n",
       "      <td>NYM</td>\n",
       "      <td>$24,000,000</td>\n",
       "      <td>$0</td>\n",
       "      <td>$24,000,000</td>\n",
       "      <td>$24,000,000</td>\n",
       "      <td>0.228</td>\n",
       "      <td>...</td>\n",
       "      <td>$22,916,667</td>\n",
       "      <td>6</td>\n",
       "      <td>$137,500,000</td>\n",
       "      <td>$148,560,000</td>\n",
       "      <td>2014</td>\n",
       "      <td>28</td>\n",
       "      <td>33</td>\n",
       "      <td>155</td>\n",
       "      <td>6'0\"</td>\n",
       "      <td>NaN</td>\n",
       "    </tr>\n",
       "    <tr>\n",
       "      <th>4</th>\n",
       "      <td>NaN</td>\n",
       "      <td>Mark Teixeira</td>\n",
       "      <td>2012</td>\n",
       "      <td>1B</td>\n",
       "      <td>NYY</td>\n",
       "      <td>$22,500,000</td>\n",
       "      <td>$625,000</td>\n",
       "      <td>$23,125,000</td>\n",
       "      <td>$23,125,000</td>\n",
       "      <td>0.101</td>\n",
       "      <td>...</td>\n",
       "      <td>$22,500,000</td>\n",
       "      <td>8</td>\n",
       "      <td>$180,000,000</td>\n",
       "      <td>$127,650,000</td>\n",
       "      <td>2017</td>\n",
       "      <td>28</td>\n",
       "      <td>32</td>\n",
       "      <td>225</td>\n",
       "      <td>6'3\"</td>\n",
       "      <td>NaN</td>\n",
       "    </tr>\n",
       "  </tbody>\n",
       "</table>\n",
       "<p>5 rows × 21 columns</p>\n",
       "</div>"
      ],
      "text/plain": [
       "   Rank          Player  Year Pos Team   BaseSalary SigningBonus  \\\n",
       "0   NaN  Alex Rodriguez  2012  DH  NYY  $29,000,000   $1,000,000   \n",
       "1   NaN   C.C. Sabathia  2012  SP  NYY  $23,000,000   $1,285,714   \n",
       "2   NaN    Vernon Wells  2012  LF  LAA  $21,000,000   $3,187,500   \n",
       "3   NaN   Johan Santana  2012  SP  NYM  $24,000,000           $0   \n",
       "4   NaN   Mark Teixeira  2012  1B  NYY  $22,500,000     $625,000   \n",
       "\n",
       "  Payroll Salary   Adj Salary  Salary%  ...          AAV CONT YR  \\\n",
       "0    $30,000,000  $30,000,000    0.132  ...  $27,500,000      10   \n",
       "1    $24,285,714  $24,285,714    0.107  ...  $23,000,000       7   \n",
       "2    $24,187,500  $24,187,500    0.154  ...  $18,000,000       7   \n",
       "3    $24,000,000  $24,000,000    0.228  ...  $22,916,667       6   \n",
       "4    $23,125,000  $23,125,000    0.101  ...  $22,500,000       8   \n",
       "\n",
       "     CONT VALUE      Earnings FA Year  Sign Age  Age  Weight  Height  \\\n",
       "0  $275,000,000  $321,290,700    2018        32   37     230    0'0\"   \n",
       "1  $161,000,000  $127,285,714    2016        28   31     300    6'6\"   \n",
       "2  $126,000,000  $102,521,000    2015        29   33       0    0'0\"   \n",
       "3  $137,500,000  $148,560,000    2014        28   33     155    6'0\"   \n",
       "4  $180,000,000  $127,650,000    2017        28   32     225    6'3\"   \n",
       "\n",
       "  Unnamed: 20  \n",
       "0         NaN  \n",
       "1         NaN  \n",
       "2         NaN  \n",
       "3         NaN  \n",
       "4         NaN  \n",
       "\n",
       "[5 rows x 21 columns]"
      ]
     },
     "execution_count": 11,
     "metadata": {},
     "output_type": "execute_result"
    }
   ],
   "source": [
    "df_salary_auxiliar_2012.head()"
   ]
  },
  {
   "cell_type": "code",
   "execution_count": 12,
   "id": "2c8e1122-64ba-4317-8a7e-6d65f8103bc4",
   "metadata": {},
   "outputs": [
    {
     "data": {
      "text/plain": [
       "Index(['Rank', 'Player', 'Year', 'Pos', 'Team', 'BaseSalary', 'SigningBonus',\n",
       "       'Payroll Salary', 'Adj Salary', 'Salary%', 'Cash', 'AAV', 'CONT YR',\n",
       "       'CONT VALUE', 'Earnings', 'FA Year', 'Sign Age', 'Age', 'Weight',\n",
       "       'Height', 'Unnamed: 20'],\n",
       "      dtype='object')"
      ]
     },
     "execution_count": 12,
     "metadata": {},
     "output_type": "execute_result"
    }
   ],
   "source": [
    "df_salary_auxiliar_2012.columns"
   ]
  },
  {
   "cell_type": "markdown",
   "id": "cc9c1d92-aacd-42f5-974f-f33f7897ee29",
   "metadata": {},
   "source": [
    "- **BaseSalary**: A base salary is the minimum amount you can expect to earn in exchange for your time or services. This is the amount earned before benefits, bonuses, or compensation is added.\n",
    "- **Payroll Salary**: Payroll is the compensation a business must pay to its employees for a set period and on a given date plus signing bonus\n",
    "- **Adj Salary**: Adjusted Salary means the regular salary, wages and commissions, if any, payable to a Participant by the Company for the Participant's service, excluding any bonuses or other compensation."
   ]
  },
  {
   "cell_type": "markdown",
   "id": "65dc29b7-8758-4e06-87e6-d6eb7d02df9b",
   "metadata": {},
   "source": [
    "### Teams ETL\n",
    "\n",
    "Esta base de datos sobre los equipos es bajo el proceso ETL"
   ]
  },
  {
   "cell_type": "code",
   "execution_count": 13,
   "id": "7ba830b1-523d-498d-b7ce-84f43e2ceae1",
   "metadata": {},
   "outputs": [
    {
     "data": {
      "text/html": [
       "<div>\n",
       "<style scoped>\n",
       "    .dataframe tbody tr th:only-of-type {\n",
       "        vertical-align: middle;\n",
       "    }\n",
       "\n",
       "    .dataframe tbody tr th {\n",
       "        vertical-align: top;\n",
       "    }\n",
       "\n",
       "    .dataframe thead th {\n",
       "        text-align: right;\n",
       "    }\n",
       "</style>\n",
       "<table border=\"1\" class=\"dataframe\">\n",
       "  <thead>\n",
       "    <tr style=\"text-align: right;\">\n",
       "      <th></th>\n",
       "      <th>Equipo</th>\n",
       "      <th>Cantidad_agentes_libres</th>\n",
       "      <th>Valor_contrato_total</th>\n",
       "      <th>Acronimo</th>\n",
       "      <th>Victorias</th>\n",
       "      <th>Juegos totales</th>\n",
       "      <th>Playoffs</th>\n",
       "      <th>Pennants won</th>\n",
       "      <th>WS ganadas</th>\n",
       "      <th>Promedio_victorias</th>\n",
       "    </tr>\n",
       "  </thead>\n",
       "  <tbody>\n",
       "    <tr>\n",
       "      <th>0</th>\n",
       "      <td>Los Angeles Angels</td>\n",
       "      <td>4</td>\n",
       "      <td>321150000</td>\n",
       "      <td>LAA</td>\n",
       "      <td>89</td>\n",
       "      <td>162</td>\n",
       "      <td>10</td>\n",
       "      <td>1</td>\n",
       "      <td>1</td>\n",
       "      <td>0.549383</td>\n",
       "    </tr>\n",
       "    <tr>\n",
       "      <th>1</th>\n",
       "      <td>Detroit Tigers</td>\n",
       "      <td>3</td>\n",
       "      <td>221000000</td>\n",
       "      <td>DET</td>\n",
       "      <td>88</td>\n",
       "      <td>162</td>\n",
       "      <td>14</td>\n",
       "      <td>11</td>\n",
       "      <td>4</td>\n",
       "      <td>0.543210</td>\n",
       "    </tr>\n",
       "    <tr>\n",
       "      <th>2</th>\n",
       "      <td>Miami Marlins</td>\n",
       "      <td>6</td>\n",
       "      <td>203300000</td>\n",
       "      <td>MIA</td>\n",
       "      <td>69</td>\n",
       "      <td>162</td>\n",
       "      <td>2</td>\n",
       "      <td>2</td>\n",
       "      <td>2</td>\n",
       "      <td>0.425926</td>\n",
       "    </tr>\n",
       "    <tr>\n",
       "      <th>3</th>\n",
       "      <td>Philadelphia Phillies</td>\n",
       "      <td>7</td>\n",
       "      <td>57650000</td>\n",
       "      <td>PHI</td>\n",
       "      <td>81</td>\n",
       "      <td>162</td>\n",
       "      <td>14</td>\n",
       "      <td>7</td>\n",
       "      <td>2</td>\n",
       "      <td>0.500000</td>\n",
       "    </tr>\n",
       "    <tr>\n",
       "      <th>4</th>\n",
       "      <td>Los Angeles Dodgers</td>\n",
       "      <td>9</td>\n",
       "      <td>44651311</td>\n",
       "      <td>LAD</td>\n",
       "      <td>86</td>\n",
       "      <td>162</td>\n",
       "      <td>26</td>\n",
       "      <td>25</td>\n",
       "      <td>6</td>\n",
       "      <td>0.530864</td>\n",
       "    </tr>\n",
       "  </tbody>\n",
       "</table>\n",
       "</div>"
      ],
      "text/plain": [
       "                  Equipo  Cantidad_agentes_libres  Valor_contrato_total  \\\n",
       "0     Los Angeles Angels                        4             321150000   \n",
       "1         Detroit Tigers                        3             221000000   \n",
       "2          Miami Marlins                        6             203300000   \n",
       "3  Philadelphia Phillies                        7              57650000   \n",
       "4    Los Angeles Dodgers                        9              44651311   \n",
       "\n",
       "  Acronimo  Victorias  Juegos totales  Playoffs  Pennants won  WS ganadas  \\\n",
       "0      LAA         89             162        10             1           1   \n",
       "1      DET         88             162        14            11           4   \n",
       "2      MIA         69             162         2             2           2   \n",
       "3      PHI         81             162        14             7           2   \n",
       "4      LAD         86             162        26            25           6   \n",
       "\n",
       "   Promedio_victorias  \n",
       "0            0.549383  \n",
       "1            0.543210  \n",
       "2            0.425926  \n",
       "3            0.500000  \n",
       "4            0.530864  "
      ]
     },
     "execution_count": 13,
     "metadata": {},
     "output_type": "execute_result"
    }
   ],
   "source": [
    "df_teams_etl_2012.head()"
   ]
  },
  {
   "cell_type": "markdown",
   "id": "75d8c757-3e4d-4b6d-a40d-51962718d6bb",
   "metadata": {},
   "source": [
    "### Equipos por estado"
   ]
  },
  {
   "cell_type": "code",
   "execution_count": 14,
   "id": "a56432a2-7c74-48ad-a788-1161bdd9dda2",
   "metadata": {},
   "outputs": [],
   "source": [
    "states = 'Data/Teams/team_states.csv'\n",
    "df_states = pd.read_csv(states)"
   ]
  },
  {
   "cell_type": "code",
   "execution_count": 15,
   "id": "c3851695-3077-4534-ae2e-2256dea856f0",
   "metadata": {},
   "outputs": [
    {
     "data": {
      "text/html": [
       "<div>\n",
       "<style scoped>\n",
       "    .dataframe tbody tr th:only-of-type {\n",
       "        vertical-align: middle;\n",
       "    }\n",
       "\n",
       "    .dataframe tbody tr th {\n",
       "        vertical-align: top;\n",
       "    }\n",
       "\n",
       "    .dataframe thead th {\n",
       "        text-align: right;\n",
       "    }\n",
       "</style>\n",
       "<table border=\"1\" class=\"dataframe\">\n",
       "  <thead>\n",
       "    <tr style=\"text-align: right;\">\n",
       "      <th></th>\n",
       "      <th>Estado</th>\n",
       "      <th>Cantidad de equipos</th>\n",
       "    </tr>\n",
       "  </thead>\n",
       "  <tbody>\n",
       "    <tr>\n",
       "      <th>0</th>\n",
       "      <td>Alabama</td>\n",
       "      <td>0</td>\n",
       "    </tr>\n",
       "    <tr>\n",
       "      <th>1</th>\n",
       "      <td>Alaska</td>\n",
       "      <td>0</td>\n",
       "    </tr>\n",
       "    <tr>\n",
       "      <th>2</th>\n",
       "      <td>Arizona</td>\n",
       "      <td>1</td>\n",
       "    </tr>\n",
       "    <tr>\n",
       "      <th>3</th>\n",
       "      <td>Arkansas</td>\n",
       "      <td>0</td>\n",
       "    </tr>\n",
       "    <tr>\n",
       "      <th>4</th>\n",
       "      <td>California</td>\n",
       "      <td>5</td>\n",
       "    </tr>\n",
       "  </tbody>\n",
       "</table>\n",
       "</div>"
      ],
      "text/plain": [
       "       Estado  Cantidad de equipos\n",
       "0     Alabama                    0\n",
       "1      Alaska                    0\n",
       "2     Arizona                    1\n",
       "3    Arkansas                    0\n",
       "4  California                    5"
      ]
     },
     "execution_count": 15,
     "metadata": {},
     "output_type": "execute_result"
    }
   ],
   "source": [
    "df_states.head()"
   ]
  },
  {
   "cell_type": "markdown",
   "id": "aa943803-d523-44f1-944e-07f0bf9865e5",
   "metadata": {},
   "source": [
    "### Acrónimos\n",
    "\n",
    "Nos servirá como llave intermedia para unificar las bases de datos de los equipos"
   ]
  },
  {
   "cell_type": "code",
   "execution_count": 16,
   "id": "20a1205d-1658-4dec-b8d2-ab49fc5f5b27",
   "metadata": {},
   "outputs": [],
   "source": [
    "acronym = 'Data/Teams/team_acronym.csv'\n",
    "df_acronym = pd.read_csv(acronym)"
   ]
  },
  {
   "cell_type": "code",
   "execution_count": 17,
   "id": "7c5c4506-a6c1-40ff-838a-c1d60bec5fed",
   "metadata": {},
   "outputs": [
    {
     "data": {
      "text/html": [
       "<div>\n",
       "<style scoped>\n",
       "    .dataframe tbody tr th:only-of-type {\n",
       "        vertical-align: middle;\n",
       "    }\n",
       "\n",
       "    .dataframe tbody tr th {\n",
       "        vertical-align: top;\n",
       "    }\n",
       "\n",
       "    .dataframe thead th {\n",
       "        text-align: right;\n",
       "    }\n",
       "</style>\n",
       "<table border=\"1\" class=\"dataframe\">\n",
       "  <thead>\n",
       "    <tr style=\"text-align: right;\">\n",
       "      <th></th>\n",
       "      <th>Equipo</th>\n",
       "      <th>Acronimo</th>\n",
       "      <th>Estado</th>\n",
       "    </tr>\n",
       "  </thead>\n",
       "  <tbody>\n",
       "    <tr>\n",
       "      <th>0</th>\n",
       "      <td>Arizona Diamondbacks</td>\n",
       "      <td>ARI</td>\n",
       "      <td>Arizona</td>\n",
       "    </tr>\n",
       "    <tr>\n",
       "      <th>1</th>\n",
       "      <td>Atlanta Braves</td>\n",
       "      <td>ATL</td>\n",
       "      <td>Georgia</td>\n",
       "    </tr>\n",
       "    <tr>\n",
       "      <th>2</th>\n",
       "      <td>Baltimore Orioles</td>\n",
       "      <td>BAL</td>\n",
       "      <td>Maryland</td>\n",
       "    </tr>\n",
       "    <tr>\n",
       "      <th>3</th>\n",
       "      <td>Boston Red Sox</td>\n",
       "      <td>BOS</td>\n",
       "      <td>Massachusetts</td>\n",
       "    </tr>\n",
       "    <tr>\n",
       "      <th>4</th>\n",
       "      <td>Chicago Cubs</td>\n",
       "      <td>CHC</td>\n",
       "      <td>Illinois</td>\n",
       "    </tr>\n",
       "  </tbody>\n",
       "</table>\n",
       "</div>"
      ],
      "text/plain": [
       "                 Equipo Acronimo         Estado\n",
       "0  Arizona Diamondbacks      ARI        Arizona\n",
       "1        Atlanta Braves      ATL        Georgia\n",
       "2     Baltimore Orioles      BAL       Maryland\n",
       "3        Boston Red Sox      BOS  Massachusetts\n",
       "4          Chicago Cubs      CHC       Illinois"
      ]
     },
     "execution_count": 17,
     "metadata": {},
     "output_type": "execute_result"
    }
   ],
   "source": [
    "df_acronym.head()"
   ]
  },
  {
   "cell_type": "markdown",
   "id": "a6433bc2-1e00-4e4c-b330-c98216b4c28b",
   "metadata": {},
   "source": [
    "Unamos esta dataframe con el de los equipos por estado"
   ]
  },
  {
   "cell_type": "code",
   "execution_count": 18,
   "id": "7f7a04b8-123d-4d04-acd5-c08b670ce8fe",
   "metadata": {},
   "outputs": [],
   "source": [
    "acronym_state = pd.merge(df_states, df_acronym, on = 'Estado')"
   ]
  },
  {
   "cell_type": "code",
   "execution_count": 19,
   "id": "be27625a-3b8d-46ad-870c-96566c6c211b",
   "metadata": {},
   "outputs": [
    {
     "data": {
      "text/html": [
       "<div>\n",
       "<style scoped>\n",
       "    .dataframe tbody tr th:only-of-type {\n",
       "        vertical-align: middle;\n",
       "    }\n",
       "\n",
       "    .dataframe tbody tr th {\n",
       "        vertical-align: top;\n",
       "    }\n",
       "\n",
       "    .dataframe thead th {\n",
       "        text-align: right;\n",
       "    }\n",
       "</style>\n",
       "<table border=\"1\" class=\"dataframe\">\n",
       "  <thead>\n",
       "    <tr style=\"text-align: right;\">\n",
       "      <th></th>\n",
       "      <th>Estado</th>\n",
       "      <th>Cantidad de equipos</th>\n",
       "      <th>Equipo</th>\n",
       "      <th>Acronimo</th>\n",
       "    </tr>\n",
       "  </thead>\n",
       "  <tbody>\n",
       "    <tr>\n",
       "      <th>0</th>\n",
       "      <td>Arizona</td>\n",
       "      <td>1</td>\n",
       "      <td>Arizona Diamondbacks</td>\n",
       "      <td>ARI</td>\n",
       "    </tr>\n",
       "    <tr>\n",
       "      <th>1</th>\n",
       "      <td>California</td>\n",
       "      <td>5</td>\n",
       "      <td>Los Angeles Angels</td>\n",
       "      <td>LAA</td>\n",
       "    </tr>\n",
       "    <tr>\n",
       "      <th>2</th>\n",
       "      <td>California</td>\n",
       "      <td>5</td>\n",
       "      <td>Los Angeles Dodgers</td>\n",
       "      <td>LAD</td>\n",
       "    </tr>\n",
       "    <tr>\n",
       "      <th>3</th>\n",
       "      <td>California</td>\n",
       "      <td>5</td>\n",
       "      <td>Oakland Athletics</td>\n",
       "      <td>OAK</td>\n",
       "    </tr>\n",
       "    <tr>\n",
       "      <th>4</th>\n",
       "      <td>California</td>\n",
       "      <td>5</td>\n",
       "      <td>San Diego Padres</td>\n",
       "      <td>SD</td>\n",
       "    </tr>\n",
       "  </tbody>\n",
       "</table>\n",
       "</div>"
      ],
      "text/plain": [
       "       Estado  Cantidad de equipos                Equipo Acronimo\n",
       "0     Arizona                    1  Arizona Diamondbacks      ARI\n",
       "1  California                    5    Los Angeles Angels      LAA\n",
       "2  California                    5   Los Angeles Dodgers      LAD\n",
       "3  California                    5     Oakland Athletics      OAK\n",
       "4  California                    5      San Diego Padres       SD"
      ]
     },
     "execution_count": 19,
     "metadata": {},
     "output_type": "execute_result"
    }
   ],
   "source": [
    "acronym_state.head()"
   ]
  },
  {
   "cell_type": "markdown",
   "id": "f2241450-ae44-422f-bccc-f2cf7f58559f",
   "metadata": {},
   "source": [
    "En este caso, el nombre de las variables es claro"
   ]
  },
  {
   "cell_type": "markdown",
   "id": "f6062ceb-02e3-434b-87c1-7c53b93f38ad",
   "metadata": {},
   "source": [
    "## Algoritmo para la creación de las bases de datos\n",
    "\n",
    "A continuaicón, se optimizará el código para que se puedan obtener los *dataframes* anteriores para un cojuntos de datos de años secuenciales, como es nuestro caso"
   ]
  },
  {
   "cell_type": "code",
   "execution_count": 20,
   "id": "9b517601-2a20-400c-98d2-329bb87e9778",
   "metadata": {},
   "outputs": [],
   "source": [
    "# Auxiliares:\n",
    "free_agents = 'Data/Free_Agents/free_agents_'\n",
    "hitting = 'Data/Not_All_Variables/Statistics/Hitting/hitting_'\n",
    "pitching = 'Data/Not_All_Variables/Statistics/Pitching/pitching_'\n",
    "salary = 'Data/Not_All_Variables/Salary/salary_'\n",
    "teams = 'ETL_Data/Agent/Teams/free_agents_team_'\n",
    "csv = '.csv'\n",
    "period = 12\n",
    "# Originales:\n",
    "df_free_agents = [None]*period\n",
    "df_hitting = [None]*period\n",
    "df_pitching = [None]*period\n",
    "df_salary = [None]*period\n",
    "df_teams = [None]*period\n",
    "# Copias:\n",
    "df_free_agents_copy = [None]*period\n",
    "df_hitting_copy = [None]*period\n",
    "df_pitching_copy = [None]*period\n",
    "df_salary_copy = [None]*period\n",
    "df_teams_copy = [None]*period\n",
    "# Producto final:\n",
    "df_pitchers = [None]*period\n",
    "df_hitters = [None]*period\n",
    "df_pitchers_free_agents = [None]*period\n",
    "df_hitters_free_agents = [None]*period\n",
    "df_pitchers_no_free_agents = [None]*period\n",
    "df_hitters_no_free_agents = [None]*period\n",
    "df_panel_hitters = [None]*period\n",
    "df_panel_pitchers = [None]*period"
   ]
  },
  {
   "cell_type": "markdown",
   "id": "77b292d0-33fa-4e9a-a55a-79321de228ab",
   "metadata": {},
   "source": [
    "Leamos todos los archivos y creemos las copias"
   ]
  },
  {
   "cell_type": "code",
   "execution_count": 21,
   "id": "00cb3bf5-10be-4993-bd6b-50d7960e981b",
   "metadata": {
    "tags": []
   },
   "outputs": [],
   "source": [
    "for year in range(0,period):    \n",
    "    df_free_agents[year] = pd.read_csv(free_agents + str(2011 + year) + csv)\n",
    "    df_hitting[year] = pd.read_csv(hitting + str(2011 + year) + csv)\n",
    "    df_pitching[year] = pd.read_csv(pitching + str(2011 + year) + csv)\n",
    "    df_salary[year] = pd.read_csv(salary + str(2011 + year) + csv)\n",
    "    df_teams[year] = pd.read_csv(teams + str(2011 + year) + csv)\n",
    "    \n",
    "    df_free_agents_copy[year] = df_free_agents[year].copy()\n",
    "    df_hitting_copy[year] = df_hitting[year].copy()\n",
    "    df_pitching_copy[year] = df_pitching[year].copy()\n",
    "    df_salary_copy[year] = df_salary[year].copy()\n",
    "    df_teams_copy[year] = pd.read_csv(teams + str(2011 + year) + csv)"
   ]
  },
  {
   "cell_type": "markdown",
   "id": "ead073c2-b3a1-4adc-8906-8ce69bfde2e7",
   "metadata": {},
   "source": [
    "Tratemos las bases de datos por separado. Sin embargo, a todas les quitaremos la columna de rango y *Cash2023*.\n",
    "\n",
    "Como no queremos que se repita la columna del año de la temporada de la base de datos, borremos la columna de *Year* de la base  de datos de los agentes libres. Como los años del contrato aparecen en la base de datos sobre los salarios, se prefiere conservar dicha columna en la base de datos de salarios puesto que esta base de datos es más general que la de los agentes libres, razón por la que se borrará de esta última base de datos. \n",
    "\n",
    "El equipo al que se cambia el agente libre está señalado por la columna del equipo en la base de datos de salarios y la estadísticas deportivas por lo que se borrará *Team From To* de la base de datos de los agentes libres. \n",
    "\n",
    "Como nos importan los salarios para este analisis, quitaremos la columna de los equipos en las bases de datos sobre las estadísticas deportivas de todos los jugadores, así como la posición que ocupan."
   ]
  },
  {
   "cell_type": "code",
   "execution_count": 22,
   "id": "9f9ba1bf-01f9-4d28-83e7-2572f187c5c3",
   "metadata": {},
   "outputs": [],
   "source": [
    "for year in range(0,period):\n",
    "    # Drop columns:\n",
    "    if any(name in df_free_agents_copy[year].columns for name in ['Rank','Year','YRS','Team From To']):\n",
    "        df_free_agents_copy[year].drop('Rank', axis = 1, inplace = True)\n",
    "        df_free_agents_copy[year].drop('Year', axis = 1, inplace = True)\n",
    "        df_free_agents_copy[year].drop('YRS', axis = 1, inplace = True)\n",
    "        df_free_agents_copy[year].drop('Team From To', axis = 1, inplace = True)\n",
    "    if 'Rank' in df_salary_copy[year].columns:\n",
    "        df_salary_copy[year].drop('Rank', axis = 1, inplace = True)\n",
    "    if any(name in df_hitting_copy[year].columns for name in ['Rank','Cash2023','Team','Pos']):\n",
    "        df_hitting_copy[year].drop('Rank', axis = 1, inplace = True)\n",
    "        df_hitting_copy[year].drop('Cash2023', axis = 1, inplace = True)\n",
    "        df_hitting_copy[year].drop('Team', axis = 1, inplace = True)\n",
    "        df_hitting_copy[year].drop('Pos', axis = 1, inplace = True)\n",
    "    if any(name in df_pitching_copy[year].columns for name in ['Rank','Cash2023','Team','Pos']):\n",
    "        df_pitching_copy[year].drop('Rank', axis = 1, inplace = True)\n",
    "        df_pitching_copy[year].drop('Cash2023', axis = 1, inplace = True)\n",
    "        df_pitching_copy[year].drop('Team', axis = 1, inplace = True)\n",
    "        df_pitching_copy[year].drop('Pos', axis = 1, inplace = True)"
   ]
  },
  {
   "cell_type": "markdown",
   "id": "1dd0a4b5-084b-4bd1-b190-dd81a8333dc5",
   "metadata": {},
   "source": [
    "Debido a que aparecen columnas que inician con el  nombre *Unnamed*, tendremos que borrarlas con algún método general, el cual se muestra a continuación:"
   ]
  },
  {
   "cell_type": "code",
   "execution_count": 23,
   "id": "1e0873c3-b5ca-4bf1-a8e7-65adafcbb6bd",
   "metadata": {},
   "outputs": [],
   "source": [
    "for year in range(0,period):\n",
    "    # Base de datos de agentes libres:\n",
    "    df_free_agents_copy[year].drop(df_free_agents_copy[year].columns[df_free_agents_copy[year].columns.str.contains('Unnamed',case = False)],axis = 1, inplace = True)\n",
    "    \n",
    "    # Base de datos de los salarios:\n",
    "    df_salary_copy[year].drop(df_salary_copy[year].columns[df_salary_copy[year].columns.str.contains('Unnamed',case = False)],axis = 1, inplace = True)\n",
    "    \n",
    "    # Base de datos de los hitters:\n",
    "    df_hitting_copy[year].drop(df_hitting_copy[year].columns[df_hitting_copy[year].columns.str.contains('Unnamed',case = False)],axis = 1, inplace = True)\n",
    "    \n",
    "    # Base de datos de los pitchers:\n",
    "    df_pitching_copy[year].drop(df_pitching_copy[year].columns[df_pitching_copy[year].columns.str.contains('Unnamed',case = False)],axis = 1, inplace = True)"
   ]
  },
  {
   "cell_type": "markdown",
   "id": "219eca28-e7a2-4875-bbcd-3c782a8f3eb4",
   "metadata": {},
   "source": [
    "Verifiquemos que ya no se encuentran dichas columnas molestas"
   ]
  },
  {
   "cell_type": "code",
   "execution_count": 24,
   "id": "3fed09bc-00ec-4878-a8fe-08f509941be1",
   "metadata": {},
   "outputs": [
    {
     "data": {
      "text/plain": [
       "Index(['Player', 'Pos', 'Status', 'Team From', 'Value', 'AAV'], dtype='object')"
      ]
     },
     "execution_count": 24,
     "metadata": {},
     "output_type": "execute_result"
    }
   ],
   "source": [
    "df_free_agents_copy[9].columns"
   ]
  },
  {
   "cell_type": "code",
   "execution_count": 25,
   "id": "7f3fe3b4-3f37-4170-9ffb-23a1a99b7c3a",
   "metadata": {},
   "outputs": [
    {
     "data": {
      "text/plain": [
       "Index(['Player', 'Year', 'Pos', 'Team', 'BaseSalary', 'SigningBonus',\n",
       "       'Payroll Salary', 'Adj Salary', 'Salary%', 'Cash', 'AAV', 'CONT YR',\n",
       "       'CONT VALUE', 'Earnings', 'FA Year', 'Sign Age', 'Age', 'Weight',\n",
       "       'Height'],\n",
       "      dtype='object')"
      ]
     },
     "execution_count": 25,
     "metadata": {},
     "output_type": "execute_result"
    }
   ],
   "source": [
    "df_salary_copy[11].columns"
   ]
  },
  {
   "cell_type": "code",
   "execution_count": 26,
   "id": "2ffbd4d1-6309-42c5-b4f0-b1bf6e54579d",
   "metadata": {},
   "outputs": [
    {
     "data": {
      "text/plain": [
       "Index(['Player', 'GP', 'GP%', 'GS', 'GS%', 'AB', 'H', '2B', '3B', 'HR', 'RBI',\n",
       "       'AVG', 'OBP', 'SLG', 'OPS', 'WAR', 'TVS'],\n",
       "      dtype='object')"
      ]
     },
     "execution_count": 26,
     "metadata": {},
     "output_type": "execute_result"
    }
   ],
   "source": [
    "df_hitting_copy[2].columns"
   ]
  },
  {
   "cell_type": "code",
   "execution_count": 27,
   "id": "d5d5d190-b8f4-4f35-9084-456ecf6398bd",
   "metadata": {},
   "outputs": [
    {
     "data": {
      "text/plain": [
       "Index(['Player', 'GP', 'GS', 'IP', 'H', 'R', 'ER', 'BB', 'SO', 'W', 'L', 'SV',\n",
       "       'WHIP', 'ERA', 'WAR', 'TVS'],\n",
       "      dtype='object')"
      ]
     },
     "execution_count": 27,
     "metadata": {},
     "output_type": "execute_result"
    }
   ],
   "source": [
    "df_pitching_copy[5].columns"
   ]
  },
  {
   "cell_type": "markdown",
   "id": "cc511e5e-783c-4cef-b54d-779378f66c71",
   "metadata": {},
   "source": [
    "#### Agentes libres\n",
    "\n",
    "No se conservará el equipo al que es contratado el agente libre puesto que esta información también la contiene la base de datos que facilita más el tratamiento _ETL_."
   ]
  },
  {
   "cell_type": "code",
   "execution_count": 28,
   "id": "e90d35ea-543d-4ec9-afde-71f9f70ac6a0",
   "metadata": {},
   "outputs": [],
   "source": [
    "for year in range(0,period):\n",
    "    df_free_agents_copy[year] = df_free_agents_copy[year].rename(columns = {'Player':'Jugador',\n",
    "                            'Status':'Status_agente_libre', 'Team From':'Equipo_anterior',\n",
    "                            'Value':'Valor_contrato', 'AAV':'Valor_promedio_contrato'})\n",
    "    \n",
    "    free_agents_aux_1 = df_free_agents_copy[year]['Valor_contrato'].str.replace(\"$\",\"\")\n",
    "    free_agents_aux_2 = free_agents_aux_1.str.replace(\",\",\"\")\n",
    "    free_agents_aux_3 = df_free_agents_copy[year]['Valor_promedio_contrato'].str.replace(\"$\",\"\")\n",
    "    free_agents_aux_4 = free_agents_aux_3.str.replace(\",\",\"\")\n",
    "    df_free_agents_copy[year]['Valor_contrato'] = free_agents_aux_2\n",
    "    df_free_agents_copy[year]['Valor_promedio_contrato'] = free_agents_aux_4\n",
    "    \n",
    "    df_free_agents_copy[year]['Valor_contrato'] = pd.to_numeric(df_free_agents_copy[year]['Valor_contrato'])\n",
    "    df_free_agents_copy[year]['Valor_promedio_contrato'] = pd.to_numeric(df_free_agents_copy[year]['Valor_promedio_contrato'])"
   ]
  },
  {
   "cell_type": "markdown",
   "id": "38bcd933-d86a-482b-9819-0e7a66a5529f",
   "metadata": {},
   "source": [
    "Observemos las dimensiones de las bases de datos como referencia"
   ]
  },
  {
   "cell_type": "code",
   "execution_count": 29,
   "id": "87ac6627-6e60-450e-9d1d-0a89f59830c2",
   "metadata": {},
   "outputs": [
    {
     "name": "stdout",
     "output_type": "stream",
     "text": [
      "(1, 6)\n",
      "(108, 6)\n",
      "(213, 6)\n",
      "(208, 6)\n",
      "(221, 6)\n",
      "(241, 6)\n",
      "(100, 6)\n",
      "(98, 6)\n",
      "(105, 6)\n",
      "(118, 6)\n",
      "(141, 6)\n",
      "(137, 6)\n"
     ]
    }
   ],
   "source": [
    "for year in range(0,period):\n",
    "    print(df_free_agents_copy[year].shape)"
   ]
  },
  {
   "cell_type": "markdown",
   "id": "7ff88bb3-bdf6-4ba8-9951-aad01c39fdb8",
   "metadata": {},
   "source": [
    "También el tipo de datos que contiene cada columna"
   ]
  },
  {
   "cell_type": "code",
   "execution_count": 30,
   "id": "29b1f63f-61b9-4ffe-a94b-d0962850560a",
   "metadata": {},
   "outputs": [
    {
     "name": "stdout",
     "output_type": "stream",
     "text": [
      "<class 'pandas.core.frame.DataFrame'>\n",
      "RangeIndex: 108 entries, 0 to 107\n",
      "Data columns (total 6 columns):\n",
      " #   Column                   Non-Null Count  Dtype \n",
      "---  ------                   --------------  ----- \n",
      " 0   Jugador                  108 non-null    object\n",
      " 1   Pos                      108 non-null    object\n",
      " 2   Status_agente_libre      108 non-null    object\n",
      " 3   Equipo_anterior          108 non-null    object\n",
      " 4   Valor_contrato           108 non-null    int64 \n",
      " 5   Valor_promedio_contrato  108 non-null    int64 \n",
      "dtypes: int64(2), object(4)\n",
      "memory usage: 5.2+ KB\n"
     ]
    }
   ],
   "source": [
    "df_free_agents_copy[1].info()"
   ]
  },
  {
   "cell_type": "markdown",
   "id": "aa2c5834-2177-4cd9-849c-e1dbc06a0680",
   "metadata": {},
   "source": [
    "#### Salarios\n",
    "\n",
    "Como los salarios irán con las bases de datos de los _hitters_ y _pitchers_ es que se hará su proceso _ETL_ antes."
   ]
  },
  {
   "cell_type": "code",
   "execution_count": 31,
   "id": "3aa5b695-32ff-4d21-8ff6-8b238addd4c2",
   "metadata": {},
   "outputs": [
    {
     "data": {
      "text/plain": [
       "str"
      ]
     },
     "execution_count": 31,
     "metadata": {},
     "output_type": "execute_result"
    }
   ],
   "source": [
    "type(df_salary_copy[0]['Sign Age'].min())"
   ]
  },
  {
   "cell_type": "code",
   "execution_count": 32,
   "id": "c6c7e8c9-d48e-4c20-93dd-829d754b1a57",
   "metadata": {},
   "outputs": [],
   "source": [
    "for year in range(0,period):\n",
    "    # Cambio de nombres\n",
    "    df_salary_copy[year] = df_salary_copy[year].rename(columns = {'Player':'Jugador',\n",
    "                            'BaseSalary':'Sueldo_base', 'SigningBonus':'Bono_por_firma',\n",
    "                            'Payroll Salary':'Sueldo_regular', 'Adj Salary':'Sueldo_ajustado',\n",
    "                            'CONT YR':'Anios_de_contrato', 'CONT VALUE':'Valor_del_contrato',\n",
    "                            'Earnings':'Ganancias', 'FA Year':'Anio_de_agente_libre',\n",
    "                            'Sign Age':'Edad_al_firmar', 'Age':'Edad', 'Weight':'Peso',\n",
    "                            'Height':'Altura', 'Year':'Anio', 'Pos':'Posicion',\n",
    "                            'Salary%':'Sueldo_porcentual', 'Cash':'Pago_efectivo',\n",
    "                            'AAV':'Valor_contrato_promedio'})\n",
    "    \n",
    "    # Tranformando al tipo de dato apropiado\n",
    "    salary_aux_1 = df_salary_copy[year]['Sueldo_base'].str.replace(\"$\",\"\")\n",
    "    salary_aux_2 = salary_aux_1.str.replace(\",\",\"\")\n",
    "    df_salary_copy[year]['Sueldo_base'] = salary_aux_2\n",
    "    df_salary_copy[year]['Sueldo_base'] = pd.to_numeric(df_salary_copy[year]['Sueldo_base'])\n",
    "    \n",
    "    salary_aux_3 = df_salary_copy[year]['Sueldo_regular'].str.replace(\"$\",\"\")\n",
    "    salary_aux_4 = salary_aux_3.str.replace(\",\",\"\")\n",
    "    df_salary_copy[year]['Sueldo_regular'] = salary_aux_4\n",
    "    df_salary_copy[year]['Sueldo_regular'] = pd.to_numeric(df_salary_copy[year]['Sueldo_regular'])\n",
    "    \n",
    "    salary_aux_5 = df_salary_copy[year]['Sueldo_ajustado'].str.replace(\"$\",\"\")\n",
    "    salary_aux_6 = salary_aux_5.str.replace(\",\",\"\")\n",
    "    df_salary_copy[year]['Sueldo_ajustado'] = salary_aux_6\n",
    "    df_salary_copy[year]['Sueldo_ajustado'] = pd.to_numeric(df_salary_copy[year]['Sueldo_ajustado'])\n",
    "    \n",
    "    salary_aux_7 = df_salary_copy[year]['Valor_del_contrato'].str.replace(\"$\",\"\")\n",
    "    salary_aux_8 = salary_aux_7.str.replace(\",\",\"\")\n",
    "    df_salary_copy[year]['Valor_del_contrato'] = salary_aux_8\n",
    "    df_salary_copy[year]['Valor_del_contrato'] = pd.to_numeric(df_salary_copy[year]['Valor_del_contrato'])\n",
    "    \n",
    "    salary_aux_9 = df_salary_copy[year]['Bono_por_firma'].str.replace(\"$\",\"\")\n",
    "    salary_aux_10 = salary_aux_9.str.replace(\",\",\"\")\n",
    "    df_salary_copy[year]['Bono_por_firma'] = salary_aux_10\n",
    "    df_salary_copy[year]['Bono_por_firma'] = pd.to_numeric(df_salary_copy[year]['Bono_por_firma'])\n",
    "    \n",
    "    salary_aux_11 = df_salary_copy[year]['Ganancias'].str.replace(\"$\",\"\")\n",
    "    salary_aux_12 = salary_aux_11.str.replace(\",\",\"\")\n",
    "    df_salary_copy[year]['Ganancias'] = salary_aux_12\n",
    "    df_salary_copy[year]['Ganancias'] = pd.to_numeric(df_salary_copy[year]['Ganancias'])\n",
    "    \n",
    "    salary_aux_13 = df_salary_copy[year]['Pago_efectivo'].str.replace(\"$\",\"\")\n",
    "    salary_aux_14 = salary_aux_13.str.replace(\",\",\"\")\n",
    "    df_salary_copy[year]['Pago_efectivo'] = salary_aux_14\n",
    "    df_salary_copy[year]['Pago_efectivo'] = pd.to_numeric(df_salary_copy[year]['Pago_efectivo'])\n",
    "    \n",
    "    salary_aux_15 = df_salary_copy[year]['Valor_contrato_promedio'].str.replace(\"$\",\"\")\n",
    "    salary_aux_16 = salary_aux_15.str.replace(\",\",\"\")\n",
    "    df_salary_copy[year]['Valor_contrato_promedio'] = salary_aux_16\n",
    "    df_salary_copy[year]['Valor_contrato_promedio'] = pd.to_numeric(df_salary_copy[year]['Valor_contrato_promedio'])\n",
    "    \n",
    "    salary_aux_17 = df_salary_copy[year]['Altura'].str.replace(\"\\\"\",\"\")\n",
    "    salary_aux_18 = salary_aux_17.str.replace(\"'\",\"\")\n",
    "    df_salary_copy[year]['Altura'] = salary_aux_18\n",
    "    df_salary_copy[year]['Altura'] = pd.to_numeric(df_salary_copy[year]['Altura'])/10\n",
    "    # SUstitullamos los xeros\n",
    "    height_mean = df_salary_copy[year]['Altura'].mean(skipna=True)\n",
    "    df_salary_copy[year]['Altura'] = df_salary_copy[year].Altura.mask(df_salary_copy[year].Altura == 0, height_mean)\n",
    "    \n",
    "    df_salary_copy[year]['Anio_de_agente_libre'] = pd.to_numeric(df_salary_copy[year]['Anio_de_agente_libre'])\n",
    "    df_salary_copy[year]['Anios_de_contrato'] = pd.to_numeric(df_salary_copy[year]['Anios_de_contrato'])\n",
    "    df_salary_copy[year]['Edad'] = pd.to_numeric(df_salary_copy[year]['Edad'])"
   ]
  },
  {
   "cell_type": "markdown",
   "id": "7cf28643-3b0a-4525-81ca-6df80867497a",
   "metadata": {},
   "source": [
    "Por algunas particularidades de la base de datos, las columna que contiene la edad al firmar se tratará por separado aprovechando que la mayoría de los datos incorrectos tienen una longitud mayor a dos."
   ]
  },
  {
   "cell_type": "code",
   "execution_count": 34,
   "id": "3cf5135c-99f3-4e3e-8c9a-b972f14851cb",
   "metadata": {
    "tags": []
   },
   "outputs": [],
   "source": [
    "for year in range (0,period):\n",
    "    df_salary_copy[year]['Edad_al_firmar'] = df_salary_copy[year]['Edad_al_firmar'].map(str)\n",
    "\n",
    "    for edad in range(0,df_salary_copy[year].shape[0]):\n",
    "        # String es mayor que 0:\n",
    "        if len(df_salary_copy[year]['Edad_al_firmar'].iloc[edad]) == 2:\n",
    "            df_salary_copy[year].iloc[edad, df_salary_copy[year].columns.get_loc('Edad_al_firmar')] = pd.to_numeric(df_salary_copy[year]['Edad_al_firmar'].iloc[edad])\n",
    "            \n",
    "        # String es menor o igual que 0:\n",
    "        elif len(df_salary_copy[year]['Edad_al_firmar'].iloc[edad]) != 2:\n",
    "            # Si la columna de la edad contiene datos correctos\n",
    "            if df_salary_copy[year]['Edad'].iloc[edad] > 0:\n",
    "                if df_salary_copy[year]['Anio_de_agente_libre'].iloc[edad] == 0:\n",
    "                    ag_year = year + 2011 + 1\n",
    "                else:\n",
    "                    ag_year = df_salary_copy[year]['Anio_de_agente_libre'].iloc[edad]\n",
    "                # Get first year of contract\n",
    "                ini_year = ag_year - df_salary_copy[year]['Anios_de_contrato'].iloc[edad]\n",
    "                # Años desde el el año inicial\n",
    "                dif_years = year + 2011 - ini_year\n",
    "                # Edad al firmar:\n",
    "                sign_age = df_salary_copy[year]['Edad'].iloc[edad] - dif_years\n",
    "                # Cambio de dato:\n",
    "                df_salary_copy[year].iloc[edad, df_salary_copy[year].columns.get_loc('Edad_al_firmar')] = pd.to_numeric(sign_age)\n",
    "                \n",
    "            # Si la columna de edad no contiene un dato coherente\n",
    "            else:\n",
    "                # Cambio de dato:\n",
    "                df_salary_copy[year].iloc[edad, df_salary_copy[year].columns.get_loc('Edad_al_firmar')] = pd.to_numeric(18)    \n",
    "    \n",
    "    # Transformemos los datos a enteros\n",
    "    df_salary_copy[year]['Edad_al_firmar'] = pd.to_numeric(df_salary_copy[year]['Edad_al_firmar'])"
   ]
  },
  {
   "cell_type": "markdown",
   "id": "46d3c825-8396-44cf-a7af-7dff6654ec26",
   "metadata": {},
   "source": [
    "Podemos verificar si se limpiaron adecuadamente las celdas de la columna de edades al firmar. Esto, al filtrar los datos que sean distintos a enteros y al observar si se pudo transformar toda la columna al tipo entero."
   ]
  },
  {
   "cell_type": "code",
   "execution_count": 36,
   "id": "6cfde4c5-5c42-445c-9d96-2a715aee71b4",
   "metadata": {
    "tags": []
   },
   "outputs": [],
   "source": [
    "for year in range(0,period):\n",
    "    for edad in range(0,df_salary_copy[year]['Edad_al_firmar'].shape[0]):\n",
    "        if type(df_salary_copy[year]['Edad_al_firmar'].iloc[edad]) != np.int64:\n",
    "            print(type(df_salary_copy[year]['Edad_al_firmar'].iloc[edad]))"
   ]
  },
  {
   "cell_type": "code",
   "execution_count": 42,
   "id": "6590e2d0-67bc-403a-9292-6c135380e01c",
   "metadata": {},
   "outputs": [],
   "source": [
    "#for year in range(0,period):\n",
    "#    print(type(df_salary_copy[year][['Edad_al_firmar']].info()))"
   ]
  },
  {
   "cell_type": "code",
   "execution_count": 46,
   "id": "c0d33f56-8beb-4939-8487-b02f843980eb",
   "metadata": {
    "tags": []
   },
   "outputs": [],
   "source": [
    "#for year in range(0,period):\n",
    "#    print(year)\n",
    "#    for edad in range(0,df_salary_copy[year]['Edad_al_firmar'].shape[0]):\n",
    "#        print(str(df_salary_copy[year]['Edad_al_firmar'].iloc[edad])+ ' ' + str(edad))"
   ]
  },
  {
   "cell_type": "markdown",
   "id": "bc6dc644-9e22-40d1-8256-b280eb48a6d8",
   "metadata": {},
   "source": [
    "Con la imputación de datos ya se puede crear la columna que contiene la antiguedad del agente libre bajo el contrato"
   ]
  },
  {
   "cell_type": "code",
   "execution_count": 47,
   "id": "4b5a6bfe-defe-401e-8333-155a5ddc09f2",
   "metadata": {},
   "outputs": [],
   "source": [
    "for year in range(0,period):\n",
    "    df_salary_copy[year]['Antiguedad'] = df_salary_copy[year]['Edad'] - df_salary_copy[year]['Edad_al_firmar']"
   ]
  },
  {
   "cell_type": "code",
   "execution_count": 48,
   "id": "3b9b6c50-2d12-432a-be81-8e9e5ea361fe",
   "metadata": {},
   "outputs": [
    {
     "name": "stdout",
     "output_type": "stream",
     "text": [
      "<class 'pandas.core.frame.DataFrame'>\n",
      "RangeIndex: 1045 entries, 0 to 1044\n",
      "Data columns (total 20 columns):\n",
      " #   Column                   Non-Null Count  Dtype  \n",
      "---  ------                   --------------  -----  \n",
      " 0   Jugador                  1045 non-null   object \n",
      " 1   Anio                     1045 non-null   int64  \n",
      " 2   Posicion                 1045 non-null   object \n",
      " 3   Team                     1045 non-null   object \n",
      " 4   Sueldo_base              1045 non-null   int64  \n",
      " 5   Bono_por_firma           1045 non-null   int64  \n",
      " 6   Sueldo_regular           1045 non-null   int64  \n",
      " 7   Sueldo_ajustado          1045 non-null   int64  \n",
      " 8   Sueldo_porcentual        1045 non-null   float64\n",
      " 9   Pago_efectivo            1045 non-null   int64  \n",
      " 10  Valor_contrato_promedio  1045 non-null   int64  \n",
      " 11  Anios_de_contrato        1045 non-null   int64  \n",
      " 12  Valor_del_contrato       1045 non-null   int64  \n",
      " 13  Ganancias                1045 non-null   int64  \n",
      " 14  Anio_de_agente_libre     1045 non-null   int64  \n",
      " 15  Edad_al_firmar           1045 non-null   int64  \n",
      " 16  Edad                     1045 non-null   int64  \n",
      " 17  Peso                     1045 non-null   int64  \n",
      " 18  Altura                   1045 non-null   float64\n",
      " 19  Antiguedad               1045 non-null   int64  \n",
      "dtypes: float64(2), int64(15), object(3)\n",
      "memory usage: 163.4+ KB\n"
     ]
    }
   ],
   "source": [
    "df_salary_copy[5].info()"
   ]
  },
  {
   "cell_type": "markdown",
   "id": "bef429ce-6b52-46c4-9b8d-dea7bac017b6",
   "metadata": {},
   "source": [
    "Por último, convirtamos la columna del año a string para que se entienda como una categoría y no una variable numérica"
   ]
  },
  {
   "cell_type": "code",
   "execution_count": 49,
   "id": "86aa61ee-c7a2-428d-bbca-f5c59c3ef667",
   "metadata": {},
   "outputs": [],
   "source": [
    "for year in range(0,period):\n",
    "    df_salary_copy[year]['Anio'] = df_salary_copy[year]['Anio'].map(str)"
   ]
  },
  {
   "cell_type": "markdown",
   "id": "ee7ccb61-c2eb-464e-8cde-9359b22d4edb",
   "metadata": {},
   "source": [
    "#### Hitters"
   ]
  },
  {
   "cell_type": "code",
   "execution_count": 33,
   "id": "e07b7603-3038-4969-941f-3eb8484828bf",
   "metadata": {},
   "outputs": [],
   "source": [
    "for year in range(0,period):\n",
    "    # Cambio de nombres\n",
    "    df_hitting_copy[year] = df_hitting_copy[year].rename(columns = {'Player':'Jugador',\n",
    "                            'GP':'Juegos', 'GP%':'Porcentaje_juegos',\n",
    "                            'AB':'At-bats', 'H':'Bateos', 'GS':'Juegos_iniciados',\n",
    "                            'GS%':'Porcentaje_juegos_iniciados', 'RBI':'Runs-batted-in',\n",
    "                            'HR':'Home-runs', 'AVG':'Bateos_promedio',\n",
    "                            '2B':'Dobles', '3B':'Triples', 'OPS':'Porcentaje_On-base-plus-slugging',\n",
    "                            'SLG':'Porcentaje_slugging', 'OBP':'Porcentaje_on-base'})\n",
    "    \n",
    "    #df_hitters[year] = pd.merge(df_hitting_copy[year], df_salary_copy[year], on = 'Jugador')\n",
    "\n",
    "    #df_hitters[year] = df_hitters[year].rename(columns = {'Equipo':'Acronimo'})"
   ]
  },
  {
   "cell_type": "code",
   "execution_count": 34,
   "id": "9e33ae68-0347-4971-a8bb-f98442a13c6c",
   "metadata": {},
   "outputs": [
    {
     "name": "stdout",
     "output_type": "stream",
     "text": [
      "(521, 17)\n",
      "(667, 17)\n",
      "(734, 17)\n",
      "(778, 17)\n",
      "(809, 17)\n",
      "(834, 17)\n",
      "(810, 17)\n",
      "(825, 17)\n",
      "(850, 17)\n",
      "(451, 17)\n",
      "(753, 17)\n",
      "(479, 17)\n"
     ]
    }
   ],
   "source": [
    "for year in range(0,period):\n",
    "    print(df_hitting_copy[year].shape)"
   ]
  },
  {
   "cell_type": "code",
   "execution_count": 50,
   "id": "41a7f546-c942-45a9-a398-2729699174b4",
   "metadata": {},
   "outputs": [
    {
     "name": "stdout",
     "output_type": "stream",
     "text": [
      "<class 'pandas.core.frame.DataFrame'>\n",
      "RangeIndex: 834 entries, 0 to 833\n",
      "Data columns (total 17 columns):\n",
      " #   Column  Non-Null Count  Dtype  \n",
      "---  ------  --------------  -----  \n",
      " 0   Player  834 non-null    object \n",
      " 1   GP      834 non-null    int64  \n",
      " 2   GP%     834 non-null    float64\n",
      " 3   GS      834 non-null    int64  \n",
      " 4   GS%     834 non-null    float64\n",
      " 5   AB      834 non-null    int64  \n",
      " 6   H       834 non-null    int64  \n",
      " 7   2B      834 non-null    int64  \n",
      " 8   3B      834 non-null    int64  \n",
      " 9   HR      834 non-null    int64  \n",
      " 10  RBI     834 non-null    int64  \n",
      " 11  AVG     834 non-null    float64\n",
      " 12  OBP     834 non-null    float64\n",
      " 13  SLG     834 non-null    float64\n",
      " 14  OPS     834 non-null    float64\n",
      " 15  WAR     832 non-null    float64\n",
      " 16  TVS     834 non-null    float64\n",
      "dtypes: float64(8), int64(8), object(1)\n",
      "memory usage: 110.9+ KB\n"
     ]
    }
   ],
   "source": [
    "df_hitting_copy[5].info()"
   ]
  },
  {
   "cell_type": "code",
   "execution_count": 36,
   "id": "a0a437fc-4edf-43e9-8fe4-8eadd9111ab5",
   "metadata": {},
   "outputs": [
    {
     "data": {
      "text/plain": [
       "Index(['Jugador', 'Juegos', 'Porcentaje_juegos', 'Juegos_iniciados',\n",
       "       'Porcentaje_juegos_iniciados', 'At-bats', 'Bateos', 'Dobles', 'Triples',\n",
       "       'Home-runs', 'Runs-batted-in', 'Bateos_promedio', 'Porcentaje_on-base',\n",
       "       'Porcentaje_slugging', 'Porcentaje_On-base-plus-slugging', 'WAR',\n",
       "       'TVS'],\n",
       "      dtype='object')"
      ]
     },
     "execution_count": 36,
     "metadata": {},
     "output_type": "execute_result"
    }
   ],
   "source": [
    "df_hitting_copy[5].columns"
   ]
  },
  {
   "cell_type": "markdown",
   "id": "21d469d0-db9e-4397-a5d4-17581caf3a3e",
   "metadata": {},
   "source": [
    "#### Pitchers"
   ]
  },
  {
   "cell_type": "code",
   "execution_count": 37,
   "id": "42cc5fa2-6e74-4150-8e70-ae447fa72593",
   "metadata": {},
   "outputs": [],
   "source": [
    "for year in range(0,period):\n",
    "    # Cambio de nombres\n",
    "    df_pitching_copy[year] = df_pitching_copy[year].rename(columns = {'Player':'Jugador',\n",
    "                             'GP':'Juegos', 'GS':'Juegos_iniciados', 'IP':'Inning_pitched',\n",
    "                             'H':'Bateos_en_contra', 'R':'Carreras_en_contra', 'ER':'Carreras_ganadas',\n",
    "                             'BB':'Walks', 'SO':'Strike-outs', 'W':'Wins', 'L':'Losses',\n",
    "                             'SV':'Saves'})\n",
    "\n",
    "    #df_pitchers[i] = pd.merge(df_pitching_copy[i], df_salary_copy[i], on = 'Jugador')\n",
    "    \n",
    "    #df_pitchers[i] = df_pitchers[i].rename(columns = {'Equipo':'Acronimo'})"
   ]
  },
  {
   "cell_type": "code",
   "execution_count": 38,
   "id": "7d0eec4d-76e4-41e2-a66a-d0b391769da1",
   "metadata": {},
   "outputs": [
    {
     "name": "stdout",
     "output_type": "stream",
     "text": [
      "(324, 16)\n",
      "(425, 16)\n",
      "(485, 16)\n",
      "(537, 16)\n",
      "(586, 16)\n",
      "(592, 16)\n",
      "(581, 16)\n",
      "(644, 16)\n",
      "(668, 16)\n",
      "(542, 16)\n",
      "(611, 16)\n",
      "(585, 16)\n"
     ]
    }
   ],
   "source": [
    "for year in range(0,period):\n",
    "    print(df_pitching_copy[year].shape)"
   ]
  },
  {
   "cell_type": "code",
   "execution_count": 51,
   "id": "4ac56be4-ad50-4bb6-b86a-033567c855a1",
   "metadata": {},
   "outputs": [
    {
     "name": "stdout",
     "output_type": "stream",
     "text": [
      "<class 'pandas.core.frame.DataFrame'>\n",
      "RangeIndex: 592 entries, 0 to 591\n",
      "Data columns (total 16 columns):\n",
      " #   Column  Non-Null Count  Dtype  \n",
      "---  ------  --------------  -----  \n",
      " 0   Player  592 non-null    object \n",
      " 1   GP      592 non-null    int64  \n",
      " 2   GS      592 non-null    int64  \n",
      " 3   IP      592 non-null    float64\n",
      " 4   H       592 non-null    int64  \n",
      " 5   R       592 non-null    int64  \n",
      " 6   ER      592 non-null    int64  \n",
      " 7   BB      592 non-null    int64  \n",
      " 8   SO      592 non-null    int64  \n",
      " 9   W       592 non-null    int64  \n",
      " 10  L       592 non-null    int64  \n",
      " 11  SV      592 non-null    int64  \n",
      " 12  WHIP    592 non-null    float64\n",
      " 13  ERA     592 non-null    float64\n",
      " 14  WAR     587 non-null    float64\n",
      " 15  TVS     592 non-null    float64\n",
      "dtypes: float64(5), int64(10), object(1)\n",
      "memory usage: 74.1+ KB\n"
     ]
    }
   ],
   "source": [
    "df_pitching_copy[5].info()"
   ]
  },
  {
   "cell_type": "markdown",
   "id": "0bf1f162-c4d5-41a6-b06c-d04b7811af57",
   "metadata": {},
   "source": [
    "Debido a que la mayoría de los jugadores juega tanto en la ofensiva como la defensiva es que tenemos que borrar los duplicados de la columna de la posición."
   ]
  },
  {
   "cell_type": "code",
   "execution_count": null,
   "id": "58a55c3e-45a5-467e-8007-e0c94e13b60d",
   "metadata": {},
   "outputs": [],
   "source": [
    "for i in range(0,period):\n",
    "    # Drop 'Posición_y' columns:\n",
    "    if 'Posicion_y' in df_hitters[i].columns:\n",
    "        df_hitters[i].drop('Posicion_y', axis = 1, inplace = True)\n",
    "    \n",
    "    if 'Posicion_y' in df_pitchers[i].columns:\n",
    "        df_pitchers[i].drop('Posicion_y', axis = 1, inplace = True)\n",
    "        \n",
    "    # Cambiando nombre de 'Posicion_x':\n",
    "    if 'Posicion_x' in df_hitters[i].columns:\n",
    "        df_hitters[i] = df_hitters[i].rename(columns = {'Posicion_x':'Posicion'})\n",
    "    \n",
    "    if 'Posicion_x' in df_pitchers[i].columns:\n",
    "        df_pitchers[i] = df_pitchers[i].rename(columns = {'Posicion_x':'Posicion'})"
   ]
  },
  {
   "cell_type": "markdown",
   "id": "6694ac60-acb4-4ae5-a048-ee727e4920ef",
   "metadata": {},
   "source": [
    "## Agregación de variables sugeridas por artículos\n",
    "\n",
    "Las primeras variables que agregaremos son el cuadrado de todas las estadísticas deportivas, así como las siguientes variables:\n",
    "\n",
    "- DOMINANCE = $Strike-outs/(9*Inning \\; Pitched)$\n",
    "- CONTROL = $Walks/(9*Inning \\; Pitched)$\n",
    "- COMMAND = $Strike-outs/Walks$"
   ]
  },
  {
   "cell_type": "code",
   "execution_count": 40,
   "id": "014f35c6-d0b4-4966-b7c5-3b91be3aaefa",
   "metadata": {},
   "outputs": [],
   "source": [
    "for year in range(0,period):\n",
    "    df_pitching_copy[year]['Dominio'] = df_pitching_copy[year]['Strike-outs']/(9*df_pitching_copy[year]['Inning_pitched'])\n",
    "    df_pitching_copy[year]['Control'] = df_pitching_copy[year]['Walks']/(9*df_pitching_copy[year]['Inning_pitched'])\n",
    "    df_pitching_copy[year]['Comando'] = df_pitching_copy[year]['Strike-outs']/df_pitching_copy[year]['Walks']"
   ]
  },
  {
   "cell_type": "code",
   "execution_count": 41,
   "id": "d46561d9-a429-4e7a-948d-4cef7a646cb6",
   "metadata": {},
   "outputs": [
    {
     "name": "stdout",
     "output_type": "stream",
     "text": [
      "(324, 19)\n",
      "(425, 19)\n",
      "(485, 19)\n",
      "(537, 19)\n",
      "(586, 19)\n",
      "(592, 19)\n",
      "(581, 19)\n",
      "(644, 19)\n",
      "(668, 19)\n",
      "(542, 19)\n",
      "(611, 19)\n",
      "(585, 19)\n"
     ]
    }
   ],
   "source": [
    "for year in range(0,period):\n",
    "    print(df_pitching_copy[year].shape)"
   ]
  },
  {
   "cell_type": "code",
   "execution_count": 42,
   "id": "6d285d1d-a247-449d-805e-407cecae9c90",
   "metadata": {},
   "outputs": [
    {
     "data": {
      "text/html": [
       "<div>\n",
       "<style scoped>\n",
       "    .dataframe tbody tr th:only-of-type {\n",
       "        vertical-align: middle;\n",
       "    }\n",
       "\n",
       "    .dataframe tbody tr th {\n",
       "        vertical-align: top;\n",
       "    }\n",
       "\n",
       "    .dataframe thead th {\n",
       "        text-align: right;\n",
       "    }\n",
       "</style>\n",
       "<table border=\"1\" class=\"dataframe\">\n",
       "  <thead>\n",
       "    <tr style=\"text-align: right;\">\n",
       "      <th></th>\n",
       "      <th>Juegos</th>\n",
       "      <th>Juegos_iniciados</th>\n",
       "      <th>Inning_pitched</th>\n",
       "      <th>Bateos_en_contra</th>\n",
       "      <th>Carreras_en_contra</th>\n",
       "      <th>Carreras_ganadas</th>\n",
       "      <th>Walks</th>\n",
       "      <th>Strike-outs</th>\n",
       "      <th>Wins</th>\n",
       "      <th>Losses</th>\n",
       "      <th>Saves</th>\n",
       "      <th>WHIP</th>\n",
       "      <th>ERA</th>\n",
       "      <th>WAR</th>\n",
       "      <th>TVS</th>\n",
       "      <th>Dominio</th>\n",
       "      <th>Control</th>\n",
       "      <th>Comando</th>\n",
       "    </tr>\n",
       "  </thead>\n",
       "  <tbody>\n",
       "    <tr>\n",
       "      <th>count</th>\n",
       "      <td>485.000000</td>\n",
       "      <td>485.000000</td>\n",
       "      <td>485.000000</td>\n",
       "      <td>485.000000</td>\n",
       "      <td>485.000000</td>\n",
       "      <td>485.000000</td>\n",
       "      <td>485.000000</td>\n",
       "      <td>485.000000</td>\n",
       "      <td>485.000000</td>\n",
       "      <td>485.000000</td>\n",
       "      <td>485.000000</td>\n",
       "      <td>485.000000</td>\n",
       "      <td>485.000000</td>\n",
       "      <td>435.000000</td>\n",
       "      <td>485.000000</td>\n",
       "      <td>484.000000</td>\n",
       "      <td>485.000000</td>\n",
       "      <td>482.000000</td>\n",
       "    </tr>\n",
       "    <tr>\n",
       "      <th>mean</th>\n",
       "      <td>34.830928</td>\n",
       "      <td>9.521649</td>\n",
       "      <td>78.358969</td>\n",
       "      <td>74.369072</td>\n",
       "      <td>35.162887</td>\n",
       "      <td>32.552577</td>\n",
       "      <td>25.383505</td>\n",
       "      <td>66.385567</td>\n",
       "      <td>4.498969</td>\n",
       "      <td>4.243299</td>\n",
       "      <td>2.356701</td>\n",
       "      <td>1.326639</td>\n",
       "      <td>3.844784</td>\n",
       "      <td>0.944897</td>\n",
       "      <td>24.333505</td>\n",
       "      <td>0.095520</td>\n",
       "      <td>inf</td>\n",
       "      <td>inf</td>\n",
       "    </tr>\n",
       "    <tr>\n",
       "      <th>...</th>\n",
       "      <td>...</td>\n",
       "      <td>...</td>\n",
       "      <td>...</td>\n",
       "      <td>...</td>\n",
       "      <td>...</td>\n",
       "      <td>...</td>\n",
       "      <td>...</td>\n",
       "      <td>...</td>\n",
       "      <td>...</td>\n",
       "      <td>...</td>\n",
       "      <td>...</td>\n",
       "      <td>...</td>\n",
       "      <td>...</td>\n",
       "      <td>...</td>\n",
       "      <td>...</td>\n",
       "      <td>...</td>\n",
       "      <td>...</td>\n",
       "      <td>...</td>\n",
       "    </tr>\n",
       "    <tr>\n",
       "      <th>75%</th>\n",
       "      <td>52.000000</td>\n",
       "      <td>20.000000</td>\n",
       "      <td>116.300000</td>\n",
       "      <td>111.000000</td>\n",
       "      <td>51.000000</td>\n",
       "      <td>48.000000</td>\n",
       "      <td>36.000000</td>\n",
       "      <td>89.000000</td>\n",
       "      <td>6.000000</td>\n",
       "      <td>7.000000</td>\n",
       "      <td>0.000000</td>\n",
       "      <td>1.440000</td>\n",
       "      <td>4.570000</td>\n",
       "      <td>1.555000</td>\n",
       "      <td>48.580000</td>\n",
       "      <td>0.110849</td>\n",
       "      <td>0.047847</td>\n",
       "      <td>3.302335</td>\n",
       "    </tr>\n",
       "    <tr>\n",
       "      <th>max</th>\n",
       "      <td>142.000000</td>\n",
       "      <td>113.000000</td>\n",
       "      <td>342.700000</td>\n",
       "      <td>314.000000</td>\n",
       "      <td>162.000000</td>\n",
       "      <td>144.000000</td>\n",
       "      <td>106.000000</td>\n",
       "      <td>277.000000</td>\n",
       "      <td>22.000000</td>\n",
       "      <td>18.000000</td>\n",
       "      <td>50.000000</td>\n",
       "      <td>6.000000</td>\n",
       "      <td>18.900000</td>\n",
       "      <td>7.040000</td>\n",
       "      <td>99.590000</td>\n",
       "      <td>0.370370</td>\n",
       "      <td>inf</td>\n",
       "      <td>inf</td>\n",
       "    </tr>\n",
       "  </tbody>\n",
       "</table>\n",
       "<p>8 rows × 18 columns</p>\n",
       "</div>"
      ],
      "text/plain": [
       "           Juegos  Juegos_iniciados  Inning_pitched  Bateos_en_contra  \\\n",
       "count  485.000000        485.000000      485.000000        485.000000   \n",
       "mean    34.830928          9.521649       78.358969         74.369072   \n",
       "...           ...               ...             ...               ...   \n",
       "75%     52.000000         20.000000      116.300000        111.000000   \n",
       "max    142.000000        113.000000      342.700000        314.000000   \n",
       "\n",
       "       Carreras_en_contra  Carreras_ganadas       Walks  Strike-outs  \\\n",
       "count          485.000000        485.000000  485.000000   485.000000   \n",
       "mean            35.162887         32.552577   25.383505    66.385567   \n",
       "...                   ...               ...         ...          ...   \n",
       "75%             51.000000         48.000000   36.000000    89.000000   \n",
       "max            162.000000        144.000000  106.000000   277.000000   \n",
       "\n",
       "             Wins      Losses       Saves        WHIP         ERA         WAR  \\\n",
       "count  485.000000  485.000000  485.000000  485.000000  485.000000  435.000000   \n",
       "mean     4.498969    4.243299    2.356701    1.326639    3.844784    0.944897   \n",
       "...           ...         ...         ...         ...         ...         ...   \n",
       "75%      6.000000    7.000000    0.000000    1.440000    4.570000    1.555000   \n",
       "max     22.000000   18.000000   50.000000    6.000000   18.900000    7.040000   \n",
       "\n",
       "              TVS     Dominio     Control     Comando  \n",
       "count  485.000000  484.000000  485.000000  482.000000  \n",
       "mean    24.333505    0.095520         inf         inf  \n",
       "...           ...         ...         ...         ...  \n",
       "75%     48.580000    0.110849    0.047847    3.302335  \n",
       "max     99.590000    0.370370         inf         inf  \n",
       "\n",
       "[8 rows x 18 columns]"
      ]
     },
     "execution_count": 42,
     "metadata": {},
     "output_type": "execute_result"
    }
   ],
   "source": [
    "df_pitching_copy[2].describe()"
   ]
  },
  {
   "cell_type": "markdown",
   "id": "783abd15-e0ea-478c-8155-b6a0e9d15a24",
   "metadata": {},
   "source": [
    "Con el objetivo de hacer más eficiente la creación de las variables al cuadrado, lo haremos por índice"
   ]
  },
  {
   "cell_type": "code",
   "execution_count": 58,
   "id": "8102047e-e7aa-45d3-95a6-fca9e56de2b6",
   "metadata": {},
   "outputs": [],
   "source": [
    "def get_col_indices(df, names):\n",
    "    return df.columns.get_indexer(names)"
   ]
  },
  {
   "cell_type": "code",
   "execution_count": 59,
   "id": "2c940bc0-6f1a-45ab-8a49-e14c44eb21de",
   "metadata": {},
   "outputs": [],
   "source": [
    "names = ['Juegos', 'Juegos_iniciados', 'Inning_pitched', 'Bateos_en_contra']\t"
   ]
  },
  {
   "cell_type": "code",
   "execution_count": 61,
   "id": "e7b7f69b-d697-48f5-b23a-21994550ee3e",
   "metadata": {},
   "outputs": [
    {
     "name": "stdout",
     "output_type": "stream",
     "text": [
      "[1 2 3 4]\n",
      "[1 2 3 4]\n",
      "[1 2 3 4]\n",
      "[1 2 3 4]\n",
      "[1 2 3 4]\n",
      "[1 2 3 4]\n",
      "[1 2 3 4]\n",
      "[1 2 3 4]\n",
      "[1 2 3 4]\n",
      "[1 2 3 4]\n",
      "[1 2 3 4]\n",
      "[1 2 3 4]\n"
     ]
    }
   ],
   "source": [
    "for year in range(0,period):\n",
    "    print(get_col_indices(df_pitching_copy[year], names))"
   ]
  },
  {
   "cell_type": "code",
   "execution_count": null,
   "id": "a50ea5a1-ec8e-4f44-a56e-be9d8a59b4aa",
   "metadata": {},
   "outputs": [],
   "source": [
    "# Indiquemos las columnas que se usarán por medio de su índice\n",
    "square_pitchers_index = list(range(2,17)) + [31,32,33]\n",
    "square_hitters_index = list(range(2,12))"
   ]
  },
  {
   "cell_type": "code",
   "execution_count": null,
   "id": "79bc129f-4c7a-4b54-a3e3-b2e1217b4e73",
   "metadata": {},
   "outputs": [],
   "source": [
    "for i in range(0,period):\n",
    "    for j in square_pitchers_index:\n",
    "        df_pitchers[i][df_pitchers[i].columns[j] + '_2'] = np.power(df_pitchers[i][df_pitchers[i].columns[j]], 2)\n",
    "    \n",
    "    for k in square_hitters_index:\n",
    "        df_hitters[i][df_hitters[i].columns[k] + '_2'] = np.power(df_hitters[i][df_hitters[i].columns[k]], 2)"
   ]
  },
  {
   "cell_type": "markdown",
   "id": "c2c9bde8-ecd1-46cf-acab-fe760a2a4113",
   "metadata": {},
   "source": [
    "Apreciemos el resultado final"
   ]
  },
  {
   "cell_type": "code",
   "execution_count": null,
   "id": "2eab25d4-e52a-4338-b1f3-9885bd854742",
   "metadata": {},
   "outputs": [],
   "source": [
    "df_pitchers[2].head()"
   ]
  },
  {
   "cell_type": "code",
   "execution_count": null,
   "id": "8da2756f-b881-4c66-a150-6844259de95d",
   "metadata": {},
   "outputs": [],
   "source": [
    "df_pitchers[2].columns"
   ]
  },
  {
   "cell_type": "code",
   "execution_count": null,
   "id": "fbcfffac-142f-47d9-a577-bd2aea275759",
   "metadata": {},
   "outputs": [],
   "source": [
    "df_hitters[7].head()"
   ]
  },
  {
   "cell_type": "code",
   "execution_count": null,
   "id": "29016acc-d666-40d2-9f05-12b2fb595686",
   "metadata": {},
   "outputs": [],
   "source": [
    "df_hitters[7].columns"
   ]
  },
  {
   "cell_type": "markdown",
   "id": "82b8cf06-3571-4b3f-bd1c-a28678730481",
   "metadata": {},
   "source": [
    "Siguiendo la sugerencia de algunos artículos, obtengamos el logaritmo de los salarios"
   ]
  },
  {
   "cell_type": "code",
   "execution_count": 43,
   "id": "c9511796-7d60-45fc-9607-7b26fd34444a",
   "metadata": {},
   "outputs": [],
   "source": [
    "for year in range(0,period):\n",
    "    df_salary_copy[year]['ln_Sueldo_base'] = np.log(df_salary_copy[year]['Sueldo_base'])\n",
    "    df_salary_copy[year]['ln_Sueldo_ajustado'] = np.log(df_salary_copy[year]['Sueldo_ajustado'])\n",
    "    df_salary_copy[year]['ln_Sueldo_regular'] = np.log(df_salary_copy[year]['Sueldo_regular'])"
   ]
  },
  {
   "cell_type": "markdown",
   "id": "079302b1-145a-4850-8715-86a1dfba3390",
   "metadata": {},
   "source": [
    "### Datos agregados por equipo\n",
    "\n",
    "Solo resta añadir los datos relevantes al equipo al que pertenece cada jugador considerando la base de datos de la cantidad de equipos por estado"
   ]
  },
  {
   "cell_type": "code",
   "execution_count": null,
   "id": "2b140998-5e07-48a9-b108-d6266488884d",
   "metadata": {},
   "outputs": [],
   "source": [
    "df_teams_copy[2].head()"
   ]
  },
  {
   "cell_type": "code",
   "execution_count": null,
   "id": "97c655e3-602d-44a5-8fe9-cb9008df5f08",
   "metadata": {},
   "outputs": [],
   "source": [
    "for i in range(0,period):\n",
    "    df_teams_copy[i] = pd.merge(df_teams_copy[i], acronym_state, on = ['Equipo','Acronimo'])\n",
    "    df_hitters[i] = pd.merge(df_teams_copy[i], df_hitters[i], on = 'Acronimo')\n",
    "    df_pitchers[i] = pd.merge(df_teams_copy[i], df_pitchers[i], on = 'Acronimo')"
   ]
  },
  {
   "cell_type": "markdown",
   "id": "536912b5-3bfa-401f-933c-2d5e38575ae8",
   "metadata": {},
   "source": [
    "## Segmentación por Agentes libres\n",
    "\n",
    "Separaremos los pitchers y hitters en dos grupos:\n",
    "\n",
    "- Agentes libres.\n",
    "- No agentes libres."
   ]
  },
  {
   "cell_type": "code",
   "execution_count": null,
   "id": "521d6822-22ec-432a-8975-d72011eaa2fa",
   "metadata": {},
   "outputs": [],
   "source": [
    "for i in range(0,period):\n",
    "    # Drop 'Posición_y' columns:\n",
    "    if 'Posicion_y' in df_hitters[i].columns:\n",
    "        df_hitters[i].drop('Posicion_y', axis = 1, inplace = True)\n",
    "    \n",
    "    if 'Posicion_y' in df_pitchers[i].columns:\n",
    "        df_pitchers[i].drop('Posicion_y', axis = 1, inplace = True)\n",
    "        \n",
    "    # Cambiando nombre de 'Posicion_x':\n",
    "    if 'Posicion_x' in df_hitters[i].columns:\n",
    "        df_hitters[i] = df_hitters[i].rename(columns = {'Posicion_x':'Posicion'})\n",
    "    \n",
    "    if 'Posicion_x' in df_pitchers[i].columns:\n",
    "        df_pitchers[i] = df_pitchers[i].rename(columns = {'Posicion_x':'Posicion'})"
   ]
  },
  {
   "cell_type": "code",
   "execution_count": null,
   "id": "1c4e6e17-82fb-410b-af7e-84cf7943fb02",
   "metadata": {},
   "outputs": [],
   "source": [
    "for i in range(0,period):    \n",
    "    df_hitters_free_agents[i] = pd.merge(df_free_agents_copy[i], df_hitters[i], on = 'Jugador')\n",
    "    df_pitchers_free_agents[i] = pd.merge(df_free_agents_copy[i], df_pitchers[i], on = 'Jugador')\n",
    "    \n",
    "    df_hitters_no_free_agents[i] = df_hitters[i][~df_hitters[i].Jugador.isin(df_hitters_free_agents[i].Jugador)]\n",
    "    df_pitchers_no_free_agents[i] = df_pitchers[i][~df_pitchers[i].Jugador.isin(df_pitchers_free_agents[i].Jugador)]\n",
    "    \n",
    "    df_hitters_free_agents[i] = df_hitters_free_agents[i].reindex(sorted(df_hitters_free_agents[i].columns), axis=1)\n",
    "    df_pitchers_free_agents[i] = df_pitchers_free_agents[i].reindex(sorted(df_pitchers_free_agents[i].columns), axis=1)\n",
    "    df_hitters_no_free_agents[i] = df_hitters_no_free_agents[i].reindex(sorted(df_hitters_no_free_agents[i].columns), axis=1)\n",
    "    df_pitchers_no_free_agents[i] = df_pitchers_no_free_agents[i].reindex(sorted(df_pitchers_no_free_agents[i].columns), axis=1)  \n",
    "    \n",
    "    # Drop 'Anio_y' columns:\n",
    "    if 'Anio_x' in df_hitters_free_agents[i].columns:\n",
    "        df_hitters_free_agents[i].drop('Anio_x', axis = 1, inplace = True)\n",
    "    \n",
    "    if 'Anio_x' in df_pitchers_free_agents[i].columns:\n",
    "        df_pitchers_free_agents[i].drop('Anio_x', axis = 1, inplace = True)\n",
    "        \n",
    "    if 'Anio_y' in df_hitters_no_free_agents[i].columns:\n",
    "        df_hitters_no_free_agents[i].drop('Anio_y', axis = 1, inplace = True)\n",
    "        \n",
    "    if 'Anio_y' in df_pitchers_no_free_agents[i].columns:\n",
    "        df_pitchers_no_free_agents[i].drop('Anio_y', axis = 1, inplace = True)\n",
    "        \n",
    "    # Cambiando nombre de 'Anio_x':\n",
    "    if 'Anio_y' in df_hitters_free_agents[i].columns:\n",
    "        df_hitters_free_agents[i] = df_hitters_free_agents[i].rename(columns = {'Anio_y':'Anio'})\n",
    "    \n",
    "    if 'Anio_y' in df_pitchers_free_agents[i].columns:\n",
    "        df_pitchers_free_agents[i] = df_pitchers_free_agents[i].rename(columns = {'Anio_y':'Anio'})\n",
    "    \n",
    "    if 'Anio_x' in df_hitters_no_free_agents[i].columns:\n",
    "        df_hitters_no_free_agents[i] = df_hitters_no_free_agents[i].rename(columns = {'Anio_x':'Anio'})\n",
    "    \n",
    "    if 'Anio_x' in df_pitchers_no_free_agents[i].columns:\n",
    "        df_pitchers_no_free_agents[i] = df_pitchers_no_free_agents[i].rename(columns = {'Anio_x':'Anio'})\n",
    "    \n",
    "    # Drop 'Anios_contrato' columns:\n",
    "    if 'Anios_contrato' in df_hitters_free_agents[i].columns:\n",
    "        df_hitters_free_agents[i].drop('Anios_contrato', axis = 1, inplace = True)\n",
    "    \n",
    "    if 'Anios_contrato' in df_pitchers_free_agents[i].columns:\n",
    "        df_pitchers_free_agents[i].drop('Anios_contrato', axis = 1, inplace = True)\n",
    "    \n",
    "    # Transformación\n",
    "    df_hitters_free_agents[i]['Anio'] = df_hitters_free_agents[i]['Anio'] + 2010\n",
    "    df_hitters_free_agents[i]['Anio'] = df_hitters_free_agents[i]['Anio'].map(str)\n",
    "    df_pitchers_free_agents[i]['Anio'] = df_pitchers_free_agents[i]['Anio'] + 2010\n",
    "    df_pitchers_free_agents[i]['Anio'] = df_pitchers_free_agents[i]['Anio'].map(str)\n",
    "    df_hitters_no_free_agents[i]['Anio'] = df_hitters_no_free_agents[i]['Anio'] + 2010\n",
    "    df_hitters_no_free_agents[i]['Anio'] = df_hitters_no_free_agents[i]['Anio'].map(str)\n",
    "    df_pitchers_no_free_agents[i]['Anio'] = df_pitchers_no_free_agents[i]['Anio'] + 2010\n",
    "    df_pitchers_no_free_agents[i]['Anio'] = df_pitchers_no_free_agents[i]['Anio'].map(str)\n",
    "    \n",
    "    # Exportemos los dataframes por separado\n",
    "    df_hitters_free_agents[i].to_csv('ETL_Data/Agent/First_Year_Contract/Period_t/Free_Agent/Hitters/free_agents_batters_' + str(2011 + i) + '.csv', index = False)\n",
    "    df_pitchers_free_agents[i].to_csv('ETL_Data/Agent/First_Year_Contract/Period_t/Free_Agent/Pitchers/free_agents_pitchers_' + str(2011 + i) + '.csv', index = False)\n",
    "    df_hitters_no_free_agents[i].to_csv('ETL_Data/Agent/First_Year_Contract/Period_t/No_Free_Agent/Hitters/no_free_agents_batters_' + str(2011 + i) + '.csv', index = False)\n",
    "    df_pitchers_no_free_agents[i].to_csv('ETL_Data/Agent/First_Year_Contract/Period_t/No_Free_Agent/Pitchers/no_free_agents_pitchers_' + str(2011 + i) + '.csv', index = False)"
   ]
  },
  {
   "cell_type": "code",
   "execution_count": null,
   "id": "24414222-465f-462f-bdf1-7fc184710b35",
   "metadata": {},
   "outputs": [],
   "source": [
    "# Algunos ejemplos\n",
    "df_pitchers_no_free_agents[6].head()"
   ]
  },
  {
   "cell_type": "code",
   "execution_count": null,
   "id": "0b4d9577-8f87-40e5-be50-c928a8d925ea",
   "metadata": {},
   "outputs": [],
   "source": [
    "df_hitters_no_free_agents[0].head()"
   ]
  },
  {
   "cell_type": "code",
   "execution_count": null,
   "id": "b20e9ee7-32d8-4306-a656-0198f9ba4357",
   "metadata": {},
   "outputs": [],
   "source": [
    "df_pitchers_free_agents[9].head()"
   ]
  },
  {
   "cell_type": "code",
   "execution_count": null,
   "id": "07251a53-eafa-4414-b413-87811968b650",
   "metadata": {},
   "outputs": [],
   "source": [
    "df_hitters_free_agents[8].head()"
   ]
  },
  {
   "cell_type": "markdown",
   "id": "50d6a026-3f9b-4adf-b766-f8dd3cc83db0",
   "metadata": {},
   "source": [
    "### Etiquetas para los agentes libres\n",
    "\n",
    "Crearemos un etiqueta para indicar si el pitcher o hitter es  un agente libre o no."
   ]
  },
  {
   "cell_type": "code",
   "execution_count": null,
   "id": "d5966bb9-0c17-4a40-a8a8-e122c64faa02",
   "metadata": {},
   "outputs": [],
   "source": [
    "for i in range(0,period):\n",
    "    # Condiciones\n",
    "    condicion_hitter = [df_hitters[i].Jugador.isin(df_hitters_free_agents[i].Jugador)]\n",
    "    condicion_pitcher = [df_pitchers[i].Jugador.isin(df_pitchers_free_agents[i].Jugador)]\n",
    "    \n",
    "    # Etiquetas\n",
    "    etiquetas = ['Si']\n",
    "    \n",
    "    df_hitters[i]['Agente libre'] = np.select(condicion_hitter, etiquetas, default = 'No')\n",
    "    df_pitchers[i]['Agente libre'] = np.select(condicion_pitcher, etiquetas, default = 'No')\n",
    "    \n",
    "    df_hitters[i] = df_hitters[i].reindex(sorted(df_hitters[i].columns), axis=1)\n",
    "    df_pitchers[i] = df_pitchers[i].reindex(sorted(df_pitchers[i].columns), axis=1)\n",
    "    \n",
    "    \n",
    "    # Transformación\n",
    "    df_hitters[i]['Anio'] = df_hitters[i]['Anio'] + 2010\n",
    "    df_hitters[i]['Anio'] = df_hitters[i]['Anio'].map(str)\n",
    "    df_pitchers[i]['Anio'] = df_pitchers[i]['Anio'] + 2010\n",
    "    df_pitchers[i]['Anio'] = df_pitchers[i]['Anio'].map(str)\n",
    "    \n",
    "    # Exportemos los dataframes\n",
    "    df_hitters[i].to_csv('ETL_Data/Agent/First_Year_Contract/Period_t/Hitters/All_Hitters/hitters_' + str(2011 + i) + '.csv', index = False)\n",
    "    df_pitchers[i].to_csv('ETL_Data/Agent/First_Year_Contract/Period_t/Pitchers/All_Pitchers/pitchers_' + str(2011 + i) + '.csv', index = False)"
   ]
  },
  {
   "cell_type": "code",
   "execution_count": null,
   "id": "fecda712-e226-40f8-b5c6-0299c9114244",
   "metadata": {},
   "outputs": [],
   "source": [
    "df_hitters[10].head()"
   ]
  },
  {
   "cell_type": "code",
   "execution_count": null,
   "id": "16085efb-4268-4c77-a594-bf927fdada91",
   "metadata": {},
   "outputs": [],
   "source": [
    "df_pitchers[9].head()"
   ]
  },
  {
   "cell_type": "code",
   "execution_count": null,
   "id": "cc9cf365-8f31-4355-b151-0f9971930db6",
   "metadata": {},
   "outputs": [],
   "source": [
    "df_hitters[0].describe()"
   ]
  },
  {
   "cell_type": "code",
   "execution_count": null,
   "id": "f66b2428-9e35-413f-8d27-094ebabe3c1f",
   "metadata": {},
   "outputs": [],
   "source": [
    "df_pitchers[0].describe()"
   ]
  }
 ],
 "metadata": {
  "kernelspec": {
   "display_name": "Python 3",
   "language": "python",
   "name": "python3"
  },
  "language_info": {
   "codemirror_mode": {
    "name": "ipython",
    "version": 3
   },
   "file_extension": ".py",
   "mimetype": "text/x-python",
   "name": "python",
   "nbconvert_exporter": "python",
   "pygments_lexer": "ipython3",
   "version": "3.8.8"
  }
 },
 "nbformat": 4,
 "nbformat_minor": 5
}
