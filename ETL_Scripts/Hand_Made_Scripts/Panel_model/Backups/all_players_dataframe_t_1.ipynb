{
 "cells": [
  {
   "cell_type": "markdown",
   "id": "564fafe2-4054-433e-848d-c16084ea8829",
   "metadata": {},
   "source": [
    "# Players dataframes with t-1 variables\n",
    "\n",
    "En este script nos dedicaremos a crear una base de datos limpia segmentada por hitters y pitchers. Debido a que es totalmente análogo al script para variables del mismo periodo $t$, se omitirán solo las explicaciones del código reutilizado.\n",
    "\n",
    "- **Visualización del contenido de las bases de datos.**\n",
    "- **Limpieza de la base de datos y exportación.**\n",
    "- **Creación de indicador de si el jugador es agente libre.**"
   ]
  },
  {
   "cell_type": "markdown",
   "id": "c886e0a2-d18f-4511-ac40-2dd5d70bed46",
   "metadata": {},
   "source": [
    "Importemos los modulos necesarios así como especificar la configuración deseada."
   ]
  },
  {
   "cell_type": "code",
   "execution_count": 79,
   "id": "00d0481c-4ecb-40dd-addd-e6ea487bc9e0",
   "metadata": {},
   "outputs": [
    {
     "name": "stdout",
     "output_type": "stream",
     "text": [
      "Modulos importados\n"
     ]
    }
   ],
   "source": [
    "import pandas as pd\n",
    "import numpy as np\n",
    "import math\n",
    "import os\n",
    "import warnings\n",
    "import statsmodels.api as sm\n",
    "from matplotlib.colors import ListedColormap\n",
    "from sklearn.preprocessing import MinMaxScaler\n",
    "from termcolor import colored\n",
    "print('Modulos importados')"
   ]
  },
  {
   "cell_type": "code",
   "execution_count": 80,
   "id": "5ea069de-f7a0-4370-be4f-4a54b24dcf26",
   "metadata": {},
   "outputs": [],
   "source": [
    "# Configuraciones\n",
    "warnings.filterwarnings('ignore')"
   ]
  },
  {
   "cell_type": "code",
   "execution_count": 81,
   "id": "c1647862-5a24-4a7b-9670-5745db57419a",
   "metadata": {},
   "outputs": [
    {
     "name": "stdout",
     "output_type": "stream",
     "text": [
      "Directorio de trabajo previo: C:\\Users\\metal\\Documents\\Github\\MLB_hardball_negotations\n"
     ]
    }
   ],
   "source": [
    "# Directorio de trabajo\n",
    "print(\"Directorio de trabajo previo: \" + str(os.getcwd()))\n",
    "# Cambiemoslo\n",
    "os.chdir('C:/Users/metal/Documents/Github/MLB_hardball_negotations/')"
   ]
  },
  {
   "cell_type": "code",
   "execution_count": 82,
   "id": "2137f09f-21c6-4b6d-80fb-d1faca29b1c0",
   "metadata": {},
   "outputs": [
    {
     "name": "stdout",
     "output_type": "stream",
     "text": [
      "C:\\Users\\metal\\Documents\\Github\\MLB_hardball_negotations\n",
      "Nuevo directorio de trabajo: None\n"
     ]
    }
   ],
   "source": [
    "# Veamos el directorio actual de trabajo\n",
    "print(os.getcwd())\n",
    "# El directorio anterior es el correcto, pero si no lo fuese, hacemos lo sigueinte:\n",
    "path = \"C:/Users/metal/Documents/Github/MLB_hardball_negotations\"\n",
    "print(\"Nuevo directorio de trabajo: \" + str(os.chdir(path)))"
   ]
  },
  {
   "cell_type": "markdown",
   "id": "e0299b01-0fd6-47b4-8181-844d57f69f45",
   "metadata": {
    "tags": []
   },
   "source": [
    "## Visualización de las bases de datos"
   ]
  },
  {
   "cell_type": "markdown",
   "id": "75d8c757-3e4d-4b6d-a40d-51962718d6bb",
   "metadata": {},
   "source": [
    "### Equipos por estado"
   ]
  },
  {
   "cell_type": "code",
   "execution_count": 83,
   "id": "a56432a2-7c74-48ad-a788-1161bdd9dda2",
   "metadata": {},
   "outputs": [],
   "source": [
    "states = 'Data/Teams/team_states.csv'\n",
    "df_states = pd.read_csv(states)"
   ]
  },
  {
   "cell_type": "code",
   "execution_count": 84,
   "id": "c3851695-3077-4534-ae2e-2256dea856f0",
   "metadata": {},
   "outputs": [
    {
     "data": {
      "text/html": [
       "<div>\n",
       "<style scoped>\n",
       "    .dataframe tbody tr th:only-of-type {\n",
       "        vertical-align: middle;\n",
       "    }\n",
       "\n",
       "    .dataframe tbody tr th {\n",
       "        vertical-align: top;\n",
       "    }\n",
       "\n",
       "    .dataframe thead th {\n",
       "        text-align: right;\n",
       "    }\n",
       "</style>\n",
       "<table border=\"1\" class=\"dataframe\">\n",
       "  <thead>\n",
       "    <tr style=\"text-align: right;\">\n",
       "      <th></th>\n",
       "      <th>Estado</th>\n",
       "      <th>Cantidad de equipos</th>\n",
       "    </tr>\n",
       "  </thead>\n",
       "  <tbody>\n",
       "    <tr>\n",
       "      <th>0</th>\n",
       "      <td>Alabama</td>\n",
       "      <td>0</td>\n",
       "    </tr>\n",
       "    <tr>\n",
       "      <th>1</th>\n",
       "      <td>Alaska</td>\n",
       "      <td>0</td>\n",
       "    </tr>\n",
       "    <tr>\n",
       "      <th>2</th>\n",
       "      <td>Arizona</td>\n",
       "      <td>1</td>\n",
       "    </tr>\n",
       "    <tr>\n",
       "      <th>3</th>\n",
       "      <td>Arkansas</td>\n",
       "      <td>0</td>\n",
       "    </tr>\n",
       "    <tr>\n",
       "      <th>4</th>\n",
       "      <td>California</td>\n",
       "      <td>5</td>\n",
       "    </tr>\n",
       "  </tbody>\n",
       "</table>\n",
       "</div>"
      ],
      "text/plain": [
       "       Estado  Cantidad de equipos\n",
       "0     Alabama                    0\n",
       "1      Alaska                    0\n",
       "2     Arizona                    1\n",
       "3    Arkansas                    0\n",
       "4  California                    5"
      ]
     },
     "execution_count": 84,
     "metadata": {},
     "output_type": "execute_result"
    }
   ],
   "source": [
    "df_states.head()"
   ]
  },
  {
   "cell_type": "markdown",
   "id": "aa943803-d523-44f1-944e-07f0bf9865e5",
   "metadata": {},
   "source": [
    "### Acrónimos\n",
    "\n",
    "Nos servirá como llave intermedia para unificar las bases de datos de los equipos"
   ]
  },
  {
   "cell_type": "code",
   "execution_count": 85,
   "id": "20a1205d-1658-4dec-b8d2-ab49fc5f5b27",
   "metadata": {},
   "outputs": [],
   "source": [
    "acronym = 'Data/Teams/team_acronym.csv'\n",
    "df_acronym = pd.read_csv(acronym)"
   ]
  },
  {
   "cell_type": "code",
   "execution_count": 86,
   "id": "7c5c4506-a6c1-40ff-838a-c1d60bec5fed",
   "metadata": {},
   "outputs": [
    {
     "data": {
      "text/html": [
       "<div>\n",
       "<style scoped>\n",
       "    .dataframe tbody tr th:only-of-type {\n",
       "        vertical-align: middle;\n",
       "    }\n",
       "\n",
       "    .dataframe tbody tr th {\n",
       "        vertical-align: top;\n",
       "    }\n",
       "\n",
       "    .dataframe thead th {\n",
       "        text-align: right;\n",
       "    }\n",
       "</style>\n",
       "<table border=\"1\" class=\"dataframe\">\n",
       "  <thead>\n",
       "    <tr style=\"text-align: right;\">\n",
       "      <th></th>\n",
       "      <th>Equipo</th>\n",
       "      <th>Acronimo</th>\n",
       "      <th>Estado</th>\n",
       "    </tr>\n",
       "  </thead>\n",
       "  <tbody>\n",
       "    <tr>\n",
       "      <th>0</th>\n",
       "      <td>Arizona Diamondbacks</td>\n",
       "      <td>ARI</td>\n",
       "      <td>Arizona</td>\n",
       "    </tr>\n",
       "    <tr>\n",
       "      <th>1</th>\n",
       "      <td>Atlanta Braves</td>\n",
       "      <td>ATL</td>\n",
       "      <td>Georgia</td>\n",
       "    </tr>\n",
       "    <tr>\n",
       "      <th>2</th>\n",
       "      <td>Baltimore Orioles</td>\n",
       "      <td>BAL</td>\n",
       "      <td>Maryland</td>\n",
       "    </tr>\n",
       "    <tr>\n",
       "      <th>3</th>\n",
       "      <td>Boston Red Sox</td>\n",
       "      <td>BOS</td>\n",
       "      <td>Massachusetts</td>\n",
       "    </tr>\n",
       "    <tr>\n",
       "      <th>4</th>\n",
       "      <td>Chicago Cubs</td>\n",
       "      <td>CHC</td>\n",
       "      <td>Illinois</td>\n",
       "    </tr>\n",
       "  </tbody>\n",
       "</table>\n",
       "</div>"
      ],
      "text/plain": [
       "                 Equipo Acronimo         Estado\n",
       "0  Arizona Diamondbacks      ARI        Arizona\n",
       "1        Atlanta Braves      ATL        Georgia\n",
       "2     Baltimore Orioles      BAL       Maryland\n",
       "3        Boston Red Sox      BOS  Massachusetts\n",
       "4          Chicago Cubs      CHC       Illinois"
      ]
     },
     "execution_count": 86,
     "metadata": {},
     "output_type": "execute_result"
    }
   ],
   "source": [
    "df_acronym.head()"
   ]
  },
  {
   "cell_type": "markdown",
   "id": "a6433bc2-1e00-4e4c-b330-c98216b4c28b",
   "metadata": {},
   "source": [
    "Unamos esta dataframe con el de los equipos por estado"
   ]
  },
  {
   "cell_type": "code",
   "execution_count": 87,
   "id": "7f7a04b8-123d-4d04-acd5-c08b670ce8fe",
   "metadata": {},
   "outputs": [],
   "source": [
    "acronym_state = pd.merge(df_states, df_acronym, on = 'Estado')"
   ]
  },
  {
   "cell_type": "code",
   "execution_count": 163,
   "id": "be27625a-3b8d-46ad-870c-96566c6c211b",
   "metadata": {},
   "outputs": [
    {
     "data": {
      "text/html": [
       "<div>\n",
       "<style scoped>\n",
       "    .dataframe tbody tr th:only-of-type {\n",
       "        vertical-align: middle;\n",
       "    }\n",
       "\n",
       "    .dataframe tbody tr th {\n",
       "        vertical-align: top;\n",
       "    }\n",
       "\n",
       "    .dataframe thead th {\n",
       "        text-align: right;\n",
       "    }\n",
       "</style>\n",
       "<table border=\"1\" class=\"dataframe\">\n",
       "  <thead>\n",
       "    <tr style=\"text-align: right;\">\n",
       "      <th></th>\n",
       "      <th>Estado</th>\n",
       "      <th>Cantidad de equipos</th>\n",
       "      <th>Equipo</th>\n",
       "      <th>Acronimo</th>\n",
       "    </tr>\n",
       "  </thead>\n",
       "  <tbody>\n",
       "    <tr>\n",
       "      <th>0</th>\n",
       "      <td>Arizona</td>\n",
       "      <td>1</td>\n",
       "      <td>Arizona Diamondbacks</td>\n",
       "      <td>ARI</td>\n",
       "    </tr>\n",
       "    <tr>\n",
       "      <th>1</th>\n",
       "      <td>California</td>\n",
       "      <td>5</td>\n",
       "      <td>Los Angeles Angels</td>\n",
       "      <td>LAA</td>\n",
       "    </tr>\n",
       "    <tr>\n",
       "      <th>2</th>\n",
       "      <td>California</td>\n",
       "      <td>5</td>\n",
       "      <td>Los Angeles Dodgers</td>\n",
       "      <td>LAD</td>\n",
       "    </tr>\n",
       "    <tr>\n",
       "      <th>3</th>\n",
       "      <td>California</td>\n",
       "      <td>5</td>\n",
       "      <td>Oakland Athletics</td>\n",
       "      <td>OAK</td>\n",
       "    </tr>\n",
       "    <tr>\n",
       "      <th>4</th>\n",
       "      <td>California</td>\n",
       "      <td>5</td>\n",
       "      <td>San Diego Padres</td>\n",
       "      <td>SD</td>\n",
       "    </tr>\n",
       "    <tr>\n",
       "      <th>5</th>\n",
       "      <td>California</td>\n",
       "      <td>5</td>\n",
       "      <td>San Francisco Giants</td>\n",
       "      <td>SF</td>\n",
       "    </tr>\n",
       "    <tr>\n",
       "      <th>6</th>\n",
       "      <td>Colorado</td>\n",
       "      <td>1</td>\n",
       "      <td>Colorado Rockies</td>\n",
       "      <td>COL</td>\n",
       "    </tr>\n",
       "    <tr>\n",
       "      <th>7</th>\n",
       "      <td>Florida</td>\n",
       "      <td>2</td>\n",
       "      <td>Miami Marlins</td>\n",
       "      <td>MIA</td>\n",
       "    </tr>\n",
       "    <tr>\n",
       "      <th>8</th>\n",
       "      <td>Florida</td>\n",
       "      <td>2</td>\n",
       "      <td>Tampa Bay Rays</td>\n",
       "      <td>TB</td>\n",
       "    </tr>\n",
       "    <tr>\n",
       "      <th>9</th>\n",
       "      <td>Georgia</td>\n",
       "      <td>1</td>\n",
       "      <td>Atlanta Braves</td>\n",
       "      <td>ATL</td>\n",
       "    </tr>\n",
       "    <tr>\n",
       "      <th>10</th>\n",
       "      <td>Illinois</td>\n",
       "      <td>2</td>\n",
       "      <td>Chicago Cubs</td>\n",
       "      <td>CHC</td>\n",
       "    </tr>\n",
       "    <tr>\n",
       "      <th>11</th>\n",
       "      <td>Illinois</td>\n",
       "      <td>2</td>\n",
       "      <td>Chicago White Sox</td>\n",
       "      <td>CHW</td>\n",
       "    </tr>\n",
       "    <tr>\n",
       "      <th>12</th>\n",
       "      <td>Maryland</td>\n",
       "      <td>1</td>\n",
       "      <td>Baltimore Orioles</td>\n",
       "      <td>BAL</td>\n",
       "    </tr>\n",
       "    <tr>\n",
       "      <th>13</th>\n",
       "      <td>Massachusetts</td>\n",
       "      <td>1</td>\n",
       "      <td>Boston Red Sox</td>\n",
       "      <td>BOS</td>\n",
       "    </tr>\n",
       "    <tr>\n",
       "      <th>14</th>\n",
       "      <td>Michigan</td>\n",
       "      <td>1</td>\n",
       "      <td>Detroit Tigers</td>\n",
       "      <td>DET</td>\n",
       "    </tr>\n",
       "    <tr>\n",
       "      <th>15</th>\n",
       "      <td>Minnesota</td>\n",
       "      <td>1</td>\n",
       "      <td>Minnesota Twins</td>\n",
       "      <td>MIN</td>\n",
       "    </tr>\n",
       "    <tr>\n",
       "      <th>16</th>\n",
       "      <td>Missouri</td>\n",
       "      <td>2</td>\n",
       "      <td>Kansas City Royals</td>\n",
       "      <td>KC</td>\n",
       "    </tr>\n",
       "    <tr>\n",
       "      <th>17</th>\n",
       "      <td>Missouri</td>\n",
       "      <td>2</td>\n",
       "      <td>St. Louis Cardinals</td>\n",
       "      <td>STL</td>\n",
       "    </tr>\n",
       "    <tr>\n",
       "      <th>18</th>\n",
       "      <td>New York</td>\n",
       "      <td>2</td>\n",
       "      <td>New York Mets</td>\n",
       "      <td>NYM</td>\n",
       "    </tr>\n",
       "    <tr>\n",
       "      <th>19</th>\n",
       "      <td>New York</td>\n",
       "      <td>2</td>\n",
       "      <td>New York Yankees</td>\n",
       "      <td>NYY</td>\n",
       "    </tr>\n",
       "    <tr>\n",
       "      <th>20</th>\n",
       "      <td>Ohio</td>\n",
       "      <td>2</td>\n",
       "      <td>Cincinnati Reds</td>\n",
       "      <td>CIN</td>\n",
       "    </tr>\n",
       "    <tr>\n",
       "      <th>21</th>\n",
       "      <td>Ohio</td>\n",
       "      <td>2</td>\n",
       "      <td>Cleveland Guardians</td>\n",
       "      <td>CLE</td>\n",
       "    </tr>\n",
       "    <tr>\n",
       "      <th>22</th>\n",
       "      <td>Pennsylvania</td>\n",
       "      <td>2</td>\n",
       "      <td>Philadelphia Phillies</td>\n",
       "      <td>PHI</td>\n",
       "    </tr>\n",
       "    <tr>\n",
       "      <th>23</th>\n",
       "      <td>Pennsylvania</td>\n",
       "      <td>2</td>\n",
       "      <td>Pittsburgh Pirates</td>\n",
       "      <td>PIT</td>\n",
       "    </tr>\n",
       "    <tr>\n",
       "      <th>24</th>\n",
       "      <td>Texas</td>\n",
       "      <td>2</td>\n",
       "      <td>Houston Astros</td>\n",
       "      <td>HOU</td>\n",
       "    </tr>\n",
       "    <tr>\n",
       "      <th>25</th>\n",
       "      <td>Texas</td>\n",
       "      <td>2</td>\n",
       "      <td>Texas Rangers</td>\n",
       "      <td>TEX</td>\n",
       "    </tr>\n",
       "    <tr>\n",
       "      <th>26</th>\n",
       "      <td>Toronto</td>\n",
       "      <td>1</td>\n",
       "      <td>Toronto Blue Jays</td>\n",
       "      <td>TOR</td>\n",
       "    </tr>\n",
       "    <tr>\n",
       "      <th>27</th>\n",
       "      <td>Washington</td>\n",
       "      <td>1</td>\n",
       "      <td>Seattle Mariners</td>\n",
       "      <td>SEA</td>\n",
       "    </tr>\n",
       "    <tr>\n",
       "      <th>28</th>\n",
       "      <td>Wisconsin</td>\n",
       "      <td>1</td>\n",
       "      <td>Milwaukee Brewers</td>\n",
       "      <td>MIL</td>\n",
       "    </tr>\n",
       "    <tr>\n",
       "      <th>29</th>\n",
       "      <td>Washington DC</td>\n",
       "      <td>1</td>\n",
       "      <td>Washington Nationals</td>\n",
       "      <td>WSH</td>\n",
       "    </tr>\n",
       "  </tbody>\n",
       "</table>\n",
       "</div>"
      ],
      "text/plain": [
       "           Estado  Cantidad de equipos                 Equipo Acronimo\n",
       "0         Arizona                    1   Arizona Diamondbacks      ARI\n",
       "1      California                    5     Los Angeles Angels      LAA\n",
       "2      California                    5    Los Angeles Dodgers      LAD\n",
       "3      California                    5      Oakland Athletics      OAK\n",
       "4      California                    5       San Diego Padres       SD\n",
       "5      California                    5   San Francisco Giants       SF\n",
       "6        Colorado                    1       Colorado Rockies      COL\n",
       "7         Florida                    2          Miami Marlins      MIA\n",
       "8         Florida                    2         Tampa Bay Rays       TB\n",
       "9         Georgia                    1         Atlanta Braves      ATL\n",
       "10       Illinois                    2           Chicago Cubs      CHC\n",
       "11       Illinois                    2      Chicago White Sox      CHW\n",
       "12       Maryland                    1      Baltimore Orioles      BAL\n",
       "13  Massachusetts                    1         Boston Red Sox      BOS\n",
       "14       Michigan                    1         Detroit Tigers      DET\n",
       "15      Minnesota                    1        Minnesota Twins      MIN\n",
       "16       Missouri                    2     Kansas City Royals       KC\n",
       "17       Missouri                    2    St. Louis Cardinals      STL\n",
       "18       New York                    2          New York Mets      NYM\n",
       "19       New York                    2       New York Yankees      NYY\n",
       "20           Ohio                    2        Cincinnati Reds      CIN\n",
       "21           Ohio                    2    Cleveland Guardians      CLE\n",
       "22   Pennsylvania                    2  Philadelphia Phillies      PHI\n",
       "23   Pennsylvania                    2     Pittsburgh Pirates      PIT\n",
       "24          Texas                    2         Houston Astros      HOU\n",
       "25          Texas                    2          Texas Rangers      TEX\n",
       "26        Toronto                    1      Toronto Blue Jays      TOR\n",
       "27     Washington                    1       Seattle Mariners      SEA\n",
       "28      Wisconsin                    1      Milwaukee Brewers      MIL\n",
       "29  Washington DC                    1   Washington Nationals      WSH"
      ]
     },
     "execution_count": 163,
     "metadata": {},
     "output_type": "execute_result"
    }
   ],
   "source": [
    "acronym_state.head(30)"
   ]
  },
  {
   "cell_type": "markdown",
   "id": "f2241450-ae44-422f-bccc-f2cf7f58559f",
   "metadata": {},
   "source": [
    "En este caso, el nombre de las variables es claro"
   ]
  },
  {
   "cell_type": "code",
   "execution_count": 89,
   "id": "1762cfd6-8a67-4265-a7c6-db72e26fa637",
   "metadata": {
    "tags": []
   },
   "outputs": [
    {
     "data": {
      "text/html": [
       "<div>\n",
       "<style scoped>\n",
       "    .dataframe tbody tr th:only-of-type {\n",
       "        vertical-align: middle;\n",
       "    }\n",
       "\n",
       "    .dataframe tbody tr th {\n",
       "        vertical-align: top;\n",
       "    }\n",
       "\n",
       "    .dataframe thead th {\n",
       "        text-align: right;\n",
       "    }\n",
       "</style>\n",
       "<table border=\"1\" class=\"dataframe\">\n",
       "  <thead>\n",
       "    <tr style=\"text-align: right;\">\n",
       "      <th></th>\n",
       "      <th>Team</th>\n",
       "      <th>Team_Payroll</th>\n",
       "      <th>Year</th>\n",
       "    </tr>\n",
       "  </thead>\n",
       "  <tbody>\n",
       "    <tr>\n",
       "      <th>0</th>\n",
       "      <td>Rays</td>\n",
       "      <td>45386925</td>\n",
       "      <td>2011</td>\n",
       "    </tr>\n",
       "    <tr>\n",
       "      <th>1</th>\n",
       "      <td>Rangers</td>\n",
       "      <td>103741721</td>\n",
       "      <td>2011</td>\n",
       "    </tr>\n",
       "    <tr>\n",
       "      <th>2</th>\n",
       "      <td>Diamondbacks</td>\n",
       "      <td>65189970</td>\n",
       "      <td>2011</td>\n",
       "    </tr>\n",
       "    <tr>\n",
       "      <th>3</th>\n",
       "      <td>Brewers</td>\n",
       "      <td>92277138</td>\n",
       "      <td>2011</td>\n",
       "    </tr>\n",
       "    <tr>\n",
       "      <th>4</th>\n",
       "      <td>Tigers</td>\n",
       "      <td>111521015</td>\n",
       "      <td>2011</td>\n",
       "    </tr>\n",
       "  </tbody>\n",
       "</table>\n",
       "</div>"
      ],
      "text/plain": [
       "           Team  Team_Payroll  Year\n",
       "0          Rays      45386925  2011\n",
       "1       Rangers     103741721  2011\n",
       "2  Diamondbacks      65189970  2011\n",
       "3       Brewers      92277138  2011\n",
       "4        Tigers     111521015  2011"
      ]
     },
     "execution_count": 89,
     "metadata": {},
     "output_type": "execute_result"
    }
   ],
   "source": [
    "# Definición de los dataframes para cada año\n",
    "period = 12\n",
    "teams_revenue = [None]*period\n",
    "\n",
    "teams_revenue[12-1] = pd.DataFrame({\n",
    "    'Team': [\"COL\", \"BAL\", \"TEX\", \"MIN\", \"TB\", \"STL\", \"DET\", \"CIN\", \"CHW\", \"SD\", \n",
    "             \"MIA\", \"KC\", \"SEA\", \"BOS\", \"PIT\", \"NYY\", \"CLE\", \"NYM\", \"HOU\", \"OAK\", \n",
    "             \"LAD\", \"LAA\", \"WSH\", \"PHI\", \"ATL\", \"MIL\", \"TOR\", \"SF\", \"CHC\", \"ARI\"],\n",
    "    'Team_Payroll': [140012218, 44888388, 150037446, 149030158, 98342073, 156428325, 136287588, 115467321, 203205326, 224511694, \n",
    "                     82954422, 92613711, 115838907, 211812131, 56184032, 252957200, 66477492, 268292506, 183791796, 48443900, \n",
    "                     270381426, 179877811, 126809535, 244484097, 179938888, 130769325, 177013980, 162453046, 151054737, 85964090],\n",
    "    'Year': [2022] * 30\n",
    "})\n",
    "\n",
    "teams_revenue[11-1] = pd.DataFrame({\n",
    "    'Team': [\"TB\", \"SF\", \"MIL\", \"OAK\", \"SEA\", \"CHW\", \"HOU\", \"TOR\", \"CIN\", \n",
    "             \"ATL\", \"DET\", \"LAD\", \"BOS\", \"MIA\", \"SD\", \"STL\", \"MIN\", \"COL\", \n",
    "             \"KC\", \"NYY\", \"PHI\", \"LAA\", \"CHC\", \"PIT\", \"BAL\", \"WSH\", \"TEX\", \n",
    "             \"ARI\", \"NYM\"],\n",
    "    'Team_Payroll': [70836327, 171890308, 99377415, 90400598, 83822113, 140926169, 194222042, 150140253, 50670534, \n",
    "                     152750691, 86348945, 265343390, 187100784, 58157900, 179764272, 151469994, 120084606, 116408966, \n",
    "                     91595545, 205669863, 197263223, 183849560, 144037170, 54356609, 42421870, 144415187, 95788819, \n",
    "                     91632929, 201189189],\n",
    "    'Year': [2021] * 29\n",
    "})\n",
    "\n",
    "# Por ejemplo, para 2020:\n",
    "teams_revenue[10-1] = pd.DataFrame({\n",
    "    'Team': [\"TB\", \"OAK\", \"ATL\", \"CHW\", \"SD\", \"CLE\", \"MIN\", \"LAD\", \"TOR\", \"MIA\", \n",
    "             \"BAL\", \"MIL\", \"CIN\", \"KC\", \"SF\", \"CHC\", \"PHI\", \"SEA\", \"LAA\", \"NYY\", \n",
    "             \"STL\", \"HOU\", \"DET\", \"WSH\", \"COL\", \"NYM\", \"ARI\", \"PIT\", \"BOS\", \"TEX\"],\n",
    "    'Team_Payroll': [28290689, 36720178, 63561931, 53665251, 73097954, 39299107, 55679689, 124917397, 54997060, 34222260, \n",
    "                     23478635, 41434086, 55535890, 34812194, 73408817, 86596171, 73543547, 51433829, 67040893, 111939081, \n",
    "                     73246343, 82890957, 43164880, 75067703, 67808533, 81945598, 65598752, 25337837, 84210390, 64214137],\n",
    "    'Year': [2020] * 30\n",
    "})\n",
    "\n",
    "# Data for 2019\n",
    "teams_revenue[9-1] = pd.DataFrame({\n",
    "    'Team': [\"TB\", \"MIN\", \"OAK\", \"HOU\", \"CLE\", \"ATL\", \"LAD\", \"ARI\", \"MIL\", \"WSH\", \n",
    "             \"NYY\", \"NYM\", \"PIT\", \"STL\", \"CHW\", \"TEX\", \"CIN\", \"PHI\", \"SD\", \"TOR\", \n",
    "             \"BAL\", \"COL\", \"SEA\", \"BOS\", \"LAA\", \"CHC\", \"MIA\", \"KC\", \"SF\", \"DET\"],\n",
    "    'Team_Payroll': [64178722, 125256003, 98644531, 167138259, 106838693, 143947963, 207000814, 119327905, 135889019, 172307808, \n",
    "                     223019037, 146835812, 72176474, 173762164, 91371201, 148538766, 128691569, 159637244, 103699790, 111371067, \n",
    "                     73316689, 157091013, 144391293, 229166880, 160270385, 221580085, 75596271, 104773003, 178582126, 114631137],\n",
    "    'Year': [2019]*30\n",
    "})\n",
    "\n",
    "# Data for 2018\n",
    "teams_revenue[8-1] = pd.DataFrame({\n",
    "    'Team': [\"OAK\", \"TB\", \"MIL\", \"HOU\", \"CLE\", \"ATL\", \"LAD\", \"ARI\", \"WSH\", \"NYY\", \n",
    "             \"NYM\", \"PIT\", \"BOS\", \"COL\", \"PHI\", \"STL\", \"CHW\", \"TEX\", \"CIN\", \"SD\", \n",
    "             \"TOR\", \"LAA\", \"SEA\", \"CHC\", \"MIA\", \"DET\", \"KC\", \"SF\", \"BAL\"],\n",
    "    'Team_Payroll': [80315288, 68810167, 108982016, 163524216, 143104703, 130849395, 199582045, 141724597, 181382609, \n",
    "                     180098151, 150187987, 91025861, 227398860, 143968544, 104297471, 163534311, 71839808, 140625018, \n",
    "                     100305768, 103773315, 150946147, 173717599, 160993827, 194259933, 91665500, 130959889, 129944821, \n",
    "                     205665348, 130413607],\n",
    "    'Year': [2018]*29\n",
    "})\n",
    "\n",
    "# Data for 2017\n",
    "teams_revenue[7-1] = pd.DataFrame({\n",
    "    'Team': [\"HOU\", \"CLE\", \"ARI\", \"MIL\", \"WSH\", \"MIN\", \"TB\", \"CHC\", \"COL\", \"OAK\", \n",
    "             \"NYY\", \"STL\", \"MIA\", \"LAD\", \"BOS\", \"CIN\", \"PIT\", \"ATL\", \"TEX\", \"SD\", \n",
    "             \"SEA\", \"CHW\", \"KC\", \"LAA\", \"PHI\", \"NYM\", \"TOR\", \"BAL\", \"DET\", \"SF\"],\n",
    "    'Team_Payroll': [138344211, 132258928, 102619475, 68945179, 182238854, 121048871, 77811205, 172092536, 139324341, \n",
    "                     73477080, 209044502, 145256085, 110765599, 259166393, 209872508, 96436003, 100503030, 105218575, \n",
    "                     163400840, 76921678, 160797330, 85495238, 148227822, 166161209, 104020808, 143990158, 175617487, \n",
    "                     175295707, 188498884, 189806809],\n",
    "    'Year': [2017]*30\n",
    "})\n",
    "\n",
    "# Data for 2016\n",
    "teams_revenue[6-1] = pd.DataFrame({\n",
    "    'Team': [\"STL\", \"CLE\", \"WSH\", \"MIL\", \"HOU\", \"CHC\", \"COL\", \"MIA\", \"PIT\", \"TB\", \n",
    "             \"TOR\", \"TEX\", \"SEA\", \"ARI\", \"BOS\", \"BAL\", \"CIN\", \"NYM\", \"SD\", \"OAK\", \n",
    "             \"CHW\", \"ATL\", \"MIN\", \"KC\", \"SF\", \"PHI\", \"DET\", \"LAA\", \"NYY\", \"LAD\"],\n",
    "    'Team_Payroll': [0, 105971268, 139383852, 62161191, 103328742, 184352494, 107902280, 77715306, 99518136, 63908549, \n",
    "                     148385479, 163021690, 146536553, 97874482, 207758836, 150248832, 88626437, 147738514, 83435559, 83109288, \n",
    "                     129715686, 96080633, 97244457, 141587358, 178834344, 103898809, 200179285, 174295919, 220743376, 266745494],\n",
    "    'Year': [2016]*30\n",
    "})\n",
    "\n",
    "# Data for 2015\n",
    "teams_revenue[5-1] = pd.DataFrame({\n",
    "    'Team': [\"PIT\", \"TOR\", \"HOU\", \"STL\", \"CHC\", \"KC\", \"ARI\", \"NYM\", \"TB\", \"TEX\", \n",
    "             \"MIN\", \"BAL\", \"LAA\", \"NYY\", \"OAK\", \"WSH\", \"SEA\", \"MIA\", \"SD\", \"COL\", \n",
    "             \"CHW\", \"BOS\", \"MIL\", \"DET\", \"CIN\", \"LAD\", \"ATL\", \"PHI\"],\n",
    "    'Team_Payroll': [99435606, 138309664, 81450835, 132178951, 132993810, 126529835, 76781801, 115698927, 76582652, \n",
    "                     156445607, 106431818, 117784476, 143348162, 221242659, 80376830, 165655095, 126045473, 76090525, \n",
    "                     107915272, 107102051, 118875487, 183481478, 94010873, 162160921, 116333097, 302735080, 110913266, 141722639],\n",
    "    'Year': [2015]*28\n",
    "})\n",
    "\n",
    "# Data for 2014\n",
    "teams_revenue[4-1] = pd.DataFrame({\n",
    "    'Team': [\"BAL\", \"PIT\", \"OAK\", \"LAA\", \"WSH\", \"CLE\", \"KC\", \"DET\", \"MIA\", \"STL\", \n",
    "             \"SEA\", \"MIL\", \"TOR\", \"NYM\", \"TB\", \"HOU\", \"LAD\", \"SF\", \"MIN\", \"CHW\", \n",
    "             \"COL\", \"CHC\", \"ATL\", \"SD\", \"CIN\", \"NYY\", \"ARI\", \"PHI\", \"BOS\", \"TEX\"],\n",
    "    'Team_Payroll': [113562943, 76974115, 92888412, 165244781, 143278577, 84481929, 98558300, 172143106, 50559679, \n",
    "                     121340470, 115534174, 108777046, 141812172, 94478037, 76821046, 51679490, 242157818, 160336782, \n",
    "                     87494478, 89297302, 96772365, 89539741, 116865707, 85001967, 113351318, 212512317, 106343190, \n",
    "                     175061605, 170095758, 139630583],\n",
    "    'Year': [2014]*30\n",
    "})\n",
    "\n",
    "# Data for 2013\n",
    "teams_revenue[3-1] = pd.DataFrame({\n",
    "    'Team': [\"OAK\", \"PIT\", \"TB\", \"ATL\", \"CLE\", \"BOS\", \"STL\", \"CIN\", \"DET\", \"BAL\", \n",
    "             \"KC\", \"TEX\", \"ARI\", \"WSH\", \"COL\", \"SD\", \"MIL\", \"LAA\", \"NYM\", \"SEA\", \n",
    "             \"TOR\", \"MIN\", \"MIA\", \"SF\", \"LAD\", \"CHC\", \"HOU\", \"CHW\", \"NYY\", \"PHI\"],\n",
    "    'Team_Payroll': [67055517, 71480984, 72600703, 94947950, 93008897, 170734264, 120192638, 106804640, 155032966, \n",
    "                     99630869, 85398434, 137937146, 88316478, 116584094, 79017288, 73286341, 88221045, 141542644, \n",
    "                     101300814, 82720022, 131771168, 96080633, 36209554, 140280186, 236694375, 100052899, 35077913, \n",
    "                     111777595, 235957526, 163536898],\n",
    "    'Year': [2013]*30\n",
    "})\n",
    "\n",
    "# Data for 2012\n",
    "teams_revenue[2-1] = pd.DataFrame({\n",
    "    'Team': [\"OAK\", \"WSH\", \"TB\", \"CIN\", \"BAL\", \"ATL\", \"TEX\", \"STL\", \"MIL\", \"ARI\", \n",
    "             \"CHW\", \"SF\", \"PIT\", \"SD\", \"LAA\", \"KC\", \"DET\", \"LAD\", \"NYY\", \"TOR\", \n",
    "             \"SEA\", \"CLE\", \"COL\", \"NYM\", \"MIA\", \"MIN\", \"PHI\", \"HOU\", \"BOS\", \"CHC\"],\n",
    "    'Team_Payroll': [60470192, 98044359, 69854135, 89901498, 82932168, 97928056, 138312903, 119957765, 110595795, \n",
    "                     82411013, 108841055, 137043205, 61118682, 63828925, 157168625, 70344235, 143782286, 117584717, \n",
    "                     226799742, 96031627, 84289928, 77057243, 87232529, 104988166, 98120191, 107939507, 178822491, \n",
    "                     54547239, 173216551, 116341526],\n",
    "    'Year': [2012]*30\n",
    "})\n",
    "\n",
    "# Data for 2011\n",
    "teams_revenue[1-1] = pd.DataFrame({\n",
    "    'Team': [\"Rays\", \"Rangers\", \"Diamondbacks\", \"Brewers\", \"Tigers\", \"Cardinals\", \"Blue Jays\", \"Braves\", \"Red Sox\", \n",
    "             \"Phillies\", \"Royals\", \"Reds\", \"Yankees\", \"Rockies\", \"Padres\", \"Pirates\", \"Athletics\", \"Dodgers\", \"Angels\", \n",
    "             \"Giants\", \"Orioles\", \"White Sox\", \"Mets\", \"Cubs\", \"Mariners\", \"Astros\", \"Twins\"],\n",
    "    'Team_Payroll': [45386925, 103741721, 65189970, 92277138, 111521015, 0, 73491604, 98696230, 170490761, 170018182, \n",
    "                     52072804, 81920546, 210950685, 82897934, 48018810, 48393645, 75655048, 115174517, 146648559, \n",
    "                     125242452, 94751399, 127263027, 142245841, 138083584, 101429148, 85323388, 113979594],\n",
    "    'Year': [2011]*27\n",
    "})\n",
    "\n",
    "# Data for 2010\n",
    "'''mlb_teams[0] = pd.DataFrame({\n",
    "    'Team': [\"TB\", \"STL\", \"CIN\", \"SD\", \"MIN\", \"TEX\", \"TOR\", \"COL\", \"SF\", \n",
    "             \"PHI\", \"KC\", \"BOS\", \"DET\", \"WSH\", \"LAA\", \"CLE\", \"LAD\", \"NYY\", \n",
    "             \"ARI\", \"HOU\", \"NYM\", \"BAL\", \"CHC\", \"PIT\", \"SEA\"],\n",
    "    'Team_Payroll': [73111908, 0, 76183915, 43679800, 88115519, 84947880, 72167275, 77433135, 98178333, \n",
    "                     137297541, 51104192, 157778541, 106838066, 48521480, 101667618, 51045206, 101450867, \n",
    "                     223310889, 61398736, 80184822, 127702202, 70097445, 131052537, 28219000, 84907671],\n",
    "    'Year': [2010]*25\n",
    "})'''\n",
    "\n",
    "teams_revenue[0].head()"
   ]
  },
  {
   "cell_type": "code",
   "execution_count": 90,
   "id": "396676b3-2971-4b7f-b218-45cad84affb1",
   "metadata": {},
   "outputs": [],
   "source": [
    "for year in range(0,period):\n",
    "    teams_revenue[year].rename(columns={'Team': 'Acronimo', 'Year': 'Anio', 'Team_Payroll': 'Ingresos_equipo'}, inplace=True)"
   ]
  },
  {
   "cell_type": "code",
   "execution_count": 91,
   "id": "bf4230a5-32c9-47d6-99c0-1b129d97951b",
   "metadata": {},
   "outputs": [],
   "source": [
    "# Crear el objeto scaler\n",
    "scaler = MinMaxScaler()\n",
    "\n",
    "for year in range(0,period):\n",
    "    teams_revenue[year]['Ingresos_equipo'] = scaler.fit_transform(teams_revenue[year][['Ingresos_equipo']])"
   ]
  },
  {
   "cell_type": "markdown",
   "id": "f6062ceb-02e3-434b-87c1-7c53b93f38ad",
   "metadata": {},
   "source": [
    "## Algoritmo para la creación de las bases de datos\n",
    "\n",
    "A continuaicón, se optimizará el código para que se puedan obtener los *dataframes* anteriores para un cojuntos de datos de años secuenciales, como es nuestro caso"
   ]
  },
  {
   "cell_type": "code",
   "execution_count": 92,
   "id": "9b517601-2a20-400c-98d2-329bb87e9778",
   "metadata": {},
   "outputs": [],
   "source": [
    "# Auxiliares:\n",
    "free_agents = 'Data/Free_Agents/free_agents_'\n",
    "hitting = 'Data/Statistics/Cumulative/Hitting/hitting_'\n",
    "pitching = 'Data/Statistics/Cumulative/Pitching/pitching_'\n",
    "salary = 'Data/Salary/salary_'\n",
    "teams = 'ETL_Data/Transversal/Teams/free_agents_team_'\n",
    "csv = '.csv'\n",
    "period = 12\n",
    "# Originales:\n",
    "df_free_agents = [None]*period\n",
    "df_hitting = [None]*period\n",
    "df_pitching = [None]*period\n",
    "df_salary = [None]*period\n",
    "df_teams = [None]*period\n",
    "# Copias:\n",
    "df_free_agents_copy = [None]*period\n",
    "df_hitting_copy = [None]*period\n",
    "df_pitching_copy = [None]*period\n",
    "df_salary_copy = [None]*period\n",
    "df_teams_copy = [None]*period\n",
    "# Producto final:\n",
    "df_pitchers = [None]*period\n",
    "df_hitters = [None]*period\n",
    "df_pitchers_free_agents = [None]*period\n",
    "df_hitters_free_agents = [None]*period\n",
    "df_pitchers_no_free_agents = [None]*period\n",
    "df_hitters_no_free_agents = [None]*period\n",
    "df_panel_hitters = [None]*period\n",
    "df_panel_pitchers = [None]*period"
   ]
  },
  {
   "cell_type": "markdown",
   "id": "77b292d0-33fa-4e9a-a55a-79321de228ab",
   "metadata": {},
   "source": [
    "Leamos todos los archivos y creemos las copias"
   ]
  },
  {
   "cell_type": "code",
   "execution_count": 93,
   "id": "00cb3bf5-10be-4993-bd6b-50d7960e981b",
   "metadata": {
    "tags": []
   },
   "outputs": [],
   "source": [
    "for year in range(0,period):    \n",
    "    df_free_agents[year] = pd.read_csv(free_agents + str(2011 + year) + csv)\n",
    "    df_hitting[year] = pd.read_csv(hitting + str(2011 + year) + csv)\n",
    "    df_pitching[year] = pd.read_csv(pitching + str(2011 + year) + csv)\n",
    "    df_salary[year] = pd.read_csv(salary + str(2011 + year) + csv)\n",
    "    df_teams[year] = pd.read_csv(teams + str(2011 + year) + csv)\n",
    "    \n",
    "    df_free_agents_copy[year] = df_free_agents[year].copy()\n",
    "    df_hitting_copy[year] = df_hitting[year].copy()\n",
    "    df_pitching_copy[year] = df_pitching[year].copy()\n",
    "    df_salary_copy[year] = df_salary[year].copy()\n",
    "    df_teams_copy[year] = pd.read_csv(teams + str(2011 + year) + csv)"
   ]
  },
  {
   "cell_type": "markdown",
   "id": "ead073c2-b3a1-4adc-8906-8ce69bfde2e7",
   "metadata": {},
   "source": [
    "Tratemos las bases de datos por separado. Sin embargo, a todas les quitaremos la columna de rango y *Cash2023*.\n",
    "\n",
    "Como no queremos que se repita la columna del año de la temporada de la base de datos, borremos la columna de *Year* de la base  de datos de los agentes libres. Como los años del contrato aparecen en la base de datos sobre los salarios, se prefiere conservar dicha columna en la base de datos de salarios puesto que esta base de datos es más general que la de los agentes libres, razón por la que se borrará de esta última base de datos. \n",
    "\n",
    "El equipo al que se cambia el agente libre está señalado por la columna del equipo en la base de datos de salarios y la estadísticas deportivas por lo que se borrará *Team From To* de la base de datos de los agentes libres. \n",
    "\n",
    "Como nos importan los salarios para este analisis, quitaremos la columna de los equipos en las bases de datos sobre las estadísticas deportivas de todos los jugadores, así como la posición que ocupan."
   ]
  },
  {
   "cell_type": "code",
   "execution_count": 94,
   "id": "9f9ba1bf-01f9-4d28-83e7-2572f187c5c3",
   "metadata": {},
   "outputs": [],
   "source": [
    "for year in range(0,period):\n",
    "    # Drop columns:\n",
    "    if any(name in df_free_agents_copy[year].columns for name in ['Rank','Pos','Year','Team From To']):\n",
    "        df_free_agents_copy[year].drop('Rank', axis = 1, inplace = True)\n",
    "        df_free_agents_copy[year].drop('Year', axis = 1, inplace = True)\n",
    "        df_free_agents_copy[year].drop('Pos', axis = 1, inplace = True)\n",
    "        df_free_agents_copy[year].drop('Team From To', axis = 1, inplace = True)\n",
    "    if 'Rank' in df_salary_copy[year].columns:\n",
    "        df_salary_copy[year].drop('Rank', axis = 1, inplace = True)\n",
    "    if any(name in df_hitting_copy[year].columns for name in ['Rank','Year','Cash2023','Team','Pos']):\n",
    "        df_hitting_copy[year].drop('Rank', axis = 1, inplace = True)\n",
    "        df_hitting_copy[year].drop('Cash2023', axis = 1, inplace = True)\n",
    "        df_hitting_copy[year].drop('Team', axis = 1, inplace = True)\n",
    "        df_hitting_copy[year].drop('Pos', axis = 1, inplace = True)\n",
    "    if any(name in df_pitching_copy[year].columns for name in ['Rank','Year','Cash2023','Team','Pos']):\n",
    "        df_pitching_copy[year].drop('Rank', axis = 1, inplace = True)\n",
    "        df_pitching_copy[year].drop('Cash2023', axis = 1, inplace = True)\n",
    "        df_pitching_copy[year].drop('Team', axis = 1, inplace = True)\n",
    "        df_pitching_copy[year].drop('Pos', axis = 1, inplace = True)"
   ]
  },
  {
   "cell_type": "markdown",
   "id": "1dd0a4b5-084b-4bd1-b190-dd81a8333dc5",
   "metadata": {},
   "source": [
    "Debido a que aparecen columnas que inician con el  nombre *Unnamed*, tendremos que borrarlas con algún método general, el cual se muestra a continuación:"
   ]
  },
  {
   "cell_type": "code",
   "execution_count": 95,
   "id": "1e0873c3-b5ca-4bf1-a8e7-65adafcbb6bd",
   "metadata": {},
   "outputs": [],
   "source": [
    "for year in range(0,period):\n",
    "    # Base de datos de agentes libres:\n",
    "    df_free_agents_copy[year].drop(df_free_agents_copy[year].columns[df_free_agents_copy[year].columns.str.contains('Unnamed',case = False)],axis = 1, inplace = True)\n",
    "    \n",
    "    # Base de datos de los salarios:\n",
    "    df_salary_copy[year].drop(df_salary_copy[year].columns[df_salary_copy[year].columns.str.contains('Unnamed',case = False)],axis = 1, inplace = True)\n",
    "    \n",
    "    # Base de datos de los hitters:\n",
    "    df_hitting_copy[year].drop(df_hitting_copy[year].columns[df_hitting_copy[year].columns.str.contains('Unnamed',case = False)],axis = 1, inplace = True)\n",
    "    \n",
    "    # Base de datos de los pitchers:\n",
    "    df_pitching_copy[year].drop(df_pitching_copy[year].columns[df_pitching_copy[year].columns.str.contains('Unnamed',case = False)],axis = 1, inplace = True)"
   ]
  },
  {
   "cell_type": "markdown",
   "id": "219eca28-e7a2-4875-bbcd-3c782a8f3eb4",
   "metadata": {},
   "source": [
    "Verifiquemos que ya no se encuentran dichas columnas molestas"
   ]
  },
  {
   "cell_type": "code",
   "execution_count": 96,
   "id": "3fed09bc-00ec-4878-a8fe-08f509941be1",
   "metadata": {},
   "outputs": [
    {
     "data": {
      "text/plain": [
       "Index(['Player', 'Status', 'Team From', 'YRS', 'Value', 'AAV'], dtype='object')"
      ]
     },
     "execution_count": 96,
     "metadata": {},
     "output_type": "execute_result"
    }
   ],
   "source": [
    "df_free_agents_copy[9].columns"
   ]
  },
  {
   "cell_type": "code",
   "execution_count": 97,
   "id": "7f3fe3b4-3f37-4170-9ffb-23a1a99b7c3a",
   "metadata": {},
   "outputs": [
    {
     "data": {
      "text/plain": [
       "Index(['Player', 'Year', 'Pos', 'Team', 'BaseSalary', 'SigningBonus',\n",
       "       'Payroll Salary', 'Adj Salary', 'Salary%', 'Cash', 'AAV', 'CONT YR',\n",
       "       'CONT VALUE', 'Earnings', 'FA Year', 'Sign Age', 'Age', 'Weight',\n",
       "       'Height'],\n",
       "      dtype='object')"
      ]
     },
     "execution_count": 97,
     "metadata": {},
     "output_type": "execute_result"
    }
   ],
   "source": [
    "df_salary_copy[11].columns"
   ]
  },
  {
   "cell_type": "code",
   "execution_count": 98,
   "id": "2ffbd4d1-6309-42c5-b4f0-b1bf6e54579d",
   "metadata": {},
   "outputs": [
    {
     "data": {
      "text/plain": [
       "Index(['Player', 'GP', 'GP%', 'GS', 'GS%', 'AB', 'H', '2B', '3B', 'HR', 'RBI',\n",
       "       'AVG', 'OBP', 'SLG', 'OPS', 'WAR', 'TVS'],\n",
       "      dtype='object')"
      ]
     },
     "execution_count": 98,
     "metadata": {},
     "output_type": "execute_result"
    }
   ],
   "source": [
    "df_hitting_copy[2].columns"
   ]
  },
  {
   "cell_type": "code",
   "execution_count": 99,
   "id": "d5d5d190-b8f4-4f35-9084-456ecf6398bd",
   "metadata": {},
   "outputs": [
    {
     "data": {
      "text/plain": [
       "Index(['Player', 'GP', 'GS', 'IP', 'H', 'R', 'ER', 'BB', 'SO', 'W', 'L', 'SV',\n",
       "       'WHIP', 'ERA', 'WAR', 'TVS'],\n",
       "      dtype='object')"
      ]
     },
     "execution_count": 99,
     "metadata": {},
     "output_type": "execute_result"
    }
   ],
   "source": [
    "df_pitching_copy[5].columns"
   ]
  },
  {
   "cell_type": "markdown",
   "id": "cc511e5e-783c-4cef-b54d-779378f66c71",
   "metadata": {},
   "source": [
    "#### Agentes libres\n",
    "\n",
    "No se conservará el equipo al que es contratado el agente libre puesto que esta información también la contiene la base de datos que facilita más el tratamiento _ETL_."
   ]
  },
  {
   "cell_type": "code",
   "execution_count": 100,
   "id": "e90d35ea-543d-4ec9-afde-71f9f70ac6a0",
   "metadata": {},
   "outputs": [],
   "source": [
    "for year in range(0,period):\n",
    "    df_free_agents_copy[year] = df_free_agents_copy[year].rename(columns = {'Player':'Jugador',\n",
    "                                'Status':'Status_agente_libre', 'Team From':'Equipo_anterior',\n",
    "                                'Value':'Valor_contrato', 'AAV':'Valor_promedio_contrato',\n",
    "                                'YRS':'Anios_de_contrato'})\n",
    "    \n",
    "    free_agents_aux_1 = df_free_agents_copy[year]['Valor_contrato'].str.replace(\"$\",\"\")\n",
    "    free_agents_aux_2 = free_agents_aux_1.str.replace(\",\",\"\")\n",
    "    free_agents_aux_3 = df_free_agents_copy[year]['Valor_promedio_contrato'].str.replace(\"$\",\"\")\n",
    "    free_agents_aux_4 = free_agents_aux_3.str.replace(\",\",\"\")\n",
    "    df_free_agents_copy[year]['Valor_contrato'] = free_agents_aux_2\n",
    "    df_free_agents_copy[year]['Valor_promedio_contrato'] = free_agents_aux_4\n",
    "    \n",
    "    df_free_agents_copy[year]['Valor_contrato'] = pd.to_numeric(df_free_agents_copy[year]['Valor_contrato'])\n",
    "    df_free_agents_copy[year]['Valor_promedio_contrato'] = pd.to_numeric(df_free_agents_copy[year]['Valor_promedio_contrato'])"
   ]
  },
  {
   "cell_type": "markdown",
   "id": "38bcd933-d86a-482b-9819-0e7a66a5529f",
   "metadata": {},
   "source": [
    "Observemos las dimensiones de las bases de datos como referencia"
   ]
  },
  {
   "cell_type": "code",
   "execution_count": 101,
   "id": "87ac6627-6e60-450e-9d1d-0a89f59830c2",
   "metadata": {},
   "outputs": [
    {
     "name": "stdout",
     "output_type": "stream",
     "text": [
      "(1, 6)\n",
      "(108, 6)\n",
      "(213, 6)\n",
      "(208, 6)\n",
      "(221, 6)\n",
      "(241, 6)\n",
      "(100, 6)\n",
      "(98, 6)\n",
      "(105, 6)\n",
      "(118, 6)\n",
      "(141, 6)\n",
      "(137, 6)\n"
     ]
    }
   ],
   "source": [
    "for year in range(0,period):\n",
    "    print(df_free_agents_copy[year].shape)"
   ]
  },
  {
   "cell_type": "markdown",
   "id": "7ff88bb3-bdf6-4ba8-9951-aad01c39fdb8",
   "metadata": {},
   "source": [
    "También el tipo de datos que contiene cada columna"
   ]
  },
  {
   "cell_type": "code",
   "execution_count": 102,
   "id": "29b1f63f-61b9-4ffe-a94b-d0962850560a",
   "metadata": {},
   "outputs": [
    {
     "name": "stdout",
     "output_type": "stream",
     "text": [
      "<class 'pandas.core.frame.DataFrame'>\n",
      "RangeIndex: 100 entries, 0 to 99\n",
      "Data columns (total 6 columns):\n",
      " #   Column                   Non-Null Count  Dtype \n",
      "---  ------                   --------------  ----- \n",
      " 0   Jugador                  100 non-null    object\n",
      " 1   Status_agente_libre      100 non-null    object\n",
      " 2   Equipo_anterior          100 non-null    object\n",
      " 3   Anios_de_contrato        100 non-null    int64 \n",
      " 4   Valor_contrato           100 non-null    int64 \n",
      " 5   Valor_promedio_contrato  100 non-null    int64 \n",
      "dtypes: int64(3), object(3)\n",
      "memory usage: 4.8+ KB\n"
     ]
    }
   ],
   "source": [
    "df_free_agents_copy[6].info()"
   ]
  },
  {
   "cell_type": "markdown",
   "id": "aa2c5834-2177-4cd9-849c-e1dbc06a0680",
   "metadata": {},
   "source": [
    "#### Salarios\n",
    "\n",
    "Como los salarios irán con las bases de datos de los _hitters_ y _pitchers_ es que se hará su proceso _ETL_ antes."
   ]
  },
  {
   "cell_type": "code",
   "execution_count": 103,
   "id": "c6c7e8c9-d48e-4c20-93dd-829d754b1a57",
   "metadata": {},
   "outputs": [],
   "source": [
    "for year in range(0,period):\n",
    "    # Cambio de nombres\n",
    "    df_salary_copy[year] = df_salary_copy[year].rename(columns = {'Player':'Jugador',\n",
    "                            'BaseSalary':'Sueldo_base', 'SigningBonus':'Bono_por_firma',\n",
    "                            'Payroll Salary':'Sueldo_regular', 'Adj Salary':'Sueldo_ajustado',\n",
    "                            'CONT YR':'Anios_de_contrato', 'CONT VALUE':'Valor_del_contrato',\n",
    "                            'Earnings':'Ganancias', 'FA Year':'Anio_de_agente_libre',\n",
    "                            'Sign Age':'Edad_al_firmar', 'Age':'Edad', 'Weight':'Peso',\n",
    "                            'Height':'Altura', 'Year':'Anio', 'Pos':'Posicion',\n",
    "                            'Salary%':'Sueldo_porcentual', 'Cash':'Pago_efectivo',\n",
    "                            'AAV':'Valor_contrato_promedio', 'Team':'Acronimo'})\n",
    "    \n",
    "    # Tranformando al tipo de dato apropiado\n",
    "    salary_aux_1 = df_salary_copy[year]['Sueldo_base'].str.replace(\"$\",\"\")\n",
    "    salary_aux_2 = salary_aux_1.str.replace(\",\",\"\")\n",
    "    df_salary_copy[year]['Sueldo_base'] = salary_aux_2\n",
    "    df_salary_copy[year]['Sueldo_base'] = pd.to_numeric(df_salary_copy[year]['Sueldo_base'])\n",
    "    \n",
    "    salary_aux_3 = df_salary_copy[year]['Sueldo_regular'].str.replace(\"$\",\"\")\n",
    "    salary_aux_4 = salary_aux_3.str.replace(\",\",\"\")\n",
    "    df_salary_copy[year]['Sueldo_regular'] = salary_aux_4\n",
    "    df_salary_copy[year]['Sueldo_regular'] = pd.to_numeric(df_salary_copy[year]['Sueldo_regular'])\n",
    "    \n",
    "    salary_aux_5 = df_salary_copy[year]['Sueldo_ajustado'].str.replace(\"$\",\"\")\n",
    "    salary_aux_6 = salary_aux_5.str.replace(\",\",\"\")\n",
    "    df_salary_copy[year]['Sueldo_ajustado'] = salary_aux_6\n",
    "    df_salary_copy[year]['Sueldo_ajustado'] = pd.to_numeric(df_salary_copy[year]['Sueldo_ajustado'])\n",
    "    \n",
    "    salary_aux_7 = df_salary_copy[year]['Valor_del_contrato'].str.replace(\"$\",\"\")\n",
    "    salary_aux_8 = salary_aux_7.str.replace(\",\",\"\")\n",
    "    df_salary_copy[year]['Valor_del_contrato'] = salary_aux_8\n",
    "    df_salary_copy[year]['Valor_del_contrato'] = pd.to_numeric(df_salary_copy[year]['Valor_del_contrato'])\n",
    "    \n",
    "    salary_aux_9 = df_salary_copy[year]['Bono_por_firma'].str.replace(\"$\",\"\")\n",
    "    salary_aux_10 = salary_aux_9.str.replace(\",\",\"\")\n",
    "    df_salary_copy[year]['Bono_por_firma'] = salary_aux_10\n",
    "    df_salary_copy[year]['Bono_por_firma'] = pd.to_numeric(df_salary_copy[year]['Bono_por_firma'])\n",
    "    \n",
    "    salary_aux_11 = df_salary_copy[year]['Ganancias'].str.replace(\"$\",\"\")\n",
    "    salary_aux_12 = salary_aux_11.str.replace(\",\",\"\")\n",
    "    df_salary_copy[year]['Ganancias'] = salary_aux_12\n",
    "    df_salary_copy[year]['Ganancias'] = pd.to_numeric(df_salary_copy[year]['Ganancias'])\n",
    "    \n",
    "    salary_aux_13 = df_salary_copy[year]['Pago_efectivo'].str.replace(\"$\",\"\")\n",
    "    salary_aux_14 = salary_aux_13.str.replace(\",\",\"\")\n",
    "    df_salary_copy[year]['Pago_efectivo'] = salary_aux_14\n",
    "    df_salary_copy[year]['Pago_efectivo'] = pd.to_numeric(df_salary_copy[year]['Pago_efectivo'])\n",
    "    \n",
    "    salary_aux_15 = df_salary_copy[year]['Valor_contrato_promedio'].str.replace(\"$\",\"\")\n",
    "    salary_aux_16 = salary_aux_15.str.replace(\",\",\"\")\n",
    "    df_salary_copy[year]['Valor_contrato_promedio'] = salary_aux_16\n",
    "    df_salary_copy[year]['Valor_contrato_promedio'] = pd.to_numeric(df_salary_copy[year]['Valor_contrato_promedio'])\n",
    "    \n",
    "    salary_aux_17 = df_salary_copy[year]['Altura'].str.replace(\"\\\"\",\"\")\n",
    "    salary_aux_18 = salary_aux_17.str.replace(\"'\",\"\")\n",
    "    df_salary_copy[year]['Altura'] = salary_aux_18\n",
    "    df_salary_copy[year]['Altura'] = pd.to_numeric(df_salary_copy[year]['Altura'])/10\n",
    "    # SUstitullamos los xeros\n",
    "    height_mean = df_salary_copy[year]['Altura'].mean(skipna=True)\n",
    "    df_salary_copy[year]['Altura'] = df_salary_copy[year].Altura.mask(df_salary_copy[year].Altura == 0, height_mean)\n",
    "    \n",
    "    df_salary_copy[year]['Anio_de_agente_libre'] = pd.to_numeric(df_salary_copy[year]['Anio_de_agente_libre'])\n",
    "    df_salary_copy[year]['Anios_de_contrato'] = pd.to_numeric(df_salary_copy[year]['Anios_de_contrato'])\n",
    "    df_salary_copy[year]['Edad'] = pd.to_numeric(df_salary_copy[year]['Edad'])"
   ]
  },
  {
   "cell_type": "markdown",
   "id": "7cf28643-3b0a-4525-81ca-6df80867497a",
   "metadata": {},
   "source": [
    "Por algunas particularidades de la base de datos, las columna que contiene la edad al firmar se tratará por separado aprovechando que la mayoría de los datos incorrectos tienen una longitud mayor a dos."
   ]
  },
  {
   "cell_type": "code",
   "execution_count": 104,
   "id": "3cf5135c-99f3-4e3e-8c9a-b972f14851cb",
   "metadata": {
    "tags": []
   },
   "outputs": [],
   "source": [
    "for year in range (0,period):\n",
    "    df_salary_copy[year]['Edad_al_firmar'] = df_salary_copy[year]['Edad_al_firmar'].map(str)\n",
    "\n",
    "    for edad in range(0,df_salary_copy[year].shape[0]):\n",
    "        # String es mayor que 0:\n",
    "        if len(df_salary_copy[year]['Edad_al_firmar'].iloc[edad]) == 2:\n",
    "            df_salary_copy[year].iloc[edad, df_salary_copy[year].columns.get_loc('Edad_al_firmar')] = pd.to_numeric(df_salary_copy[year]['Edad_al_firmar'].iloc[edad])\n",
    "            \n",
    "        # String es menor o igual que 0:\n",
    "        elif len(df_salary_copy[year]['Edad_al_firmar'].iloc[edad]) != 2:\n",
    "            # Si la columna de la edad contiene datos correctos\n",
    "            if df_salary_copy[year]['Edad'].iloc[edad] > 0:\n",
    "                if df_salary_copy[year]['Anio_de_agente_libre'].iloc[edad] == 0:\n",
    "                    ag_year = year + 2011 + 1\n",
    "                else:\n",
    "                    ag_year = df_salary_copy[year]['Anio_de_agente_libre'].iloc[edad]\n",
    "                # Get first year of contract\n",
    "                ini_year = ag_year - df_salary_copy[year]['Anios_de_contrato'].iloc[edad]\n",
    "                # Años desde el el año inicial\n",
    "                dif_years = year + 2011 - ini_year\n",
    "                # Edad al firmar:\n",
    "                sign_age = df_salary_copy[year]['Edad'].iloc[edad] - dif_years\n",
    "                # Cambio de dato:\n",
    "                df_salary_copy[year].iloc[edad, df_salary_copy[year].columns.get_loc('Edad_al_firmar')] = pd.to_numeric(sign_age)\n",
    "                \n",
    "            # Si la columna de edad no contiene un dato coherente\n",
    "            else:\n",
    "                # Cambio de dato:\n",
    "                df_salary_copy[year].iloc[edad, df_salary_copy[year].columns.get_loc('Edad_al_firmar')] = pd.to_numeric(18)    \n",
    "    \n",
    "        # Entero  menor a 0:\n",
    "        if df_salary_copy[year]['Edad_al_firmar'].iloc[edad] < 0:\n",
    "            # Si la columna de la edad contiene datos correctos\n",
    "            if df_salary_copy[year]['Edad'].iloc[edad] > 0:\n",
    "                if df_salary_copy[year]['Anio_de_agente_libre'].iloc[edad] == 0:\n",
    "                    ag_year = year + 2011 + 1\n",
    "                else:\n",
    "                    ag_year = df_salary_copy[year]['Anio_de_agente_libre'].iloc[edad]\n",
    "                # Get first year of contract\n",
    "                ini_year = ag_year - df_salary_copy[year]['Anios_de_contrato'].iloc[edad]\n",
    "                # Años desde el el año inicial\n",
    "                dif_years = year + 2011 - ini_year\n",
    "                # Edad al firmar:\n",
    "                sign_age = df_salary_copy[year]['Edad'].iloc[edad] - dif_years\n",
    "                # Cambio de dato:\n",
    "                df_salary_copy[year].iloc[edad, df_salary_copy[year].columns.get_loc('Edad_al_firmar')] = pd.to_numeric(sign_age)\n",
    "                \n",
    "            # Si la columna de edad no contiene un dato coherente\n",
    "            else:\n",
    "                # Cambio de dato:\n",
    "                df_salary_copy[year].iloc[edad, df_salary_copy[year].columns.get_loc('Edad_al_firmar')] = pd.to_numeric(18)\n",
    "         \n",
    "    # Transformemos los datos a enteros\n",
    "    df_salary_copy[year]['Edad_al_firmar'] = pd.to_numeric(df_salary_copy[year]['Edad_al_firmar'])"
   ]
  },
  {
   "cell_type": "markdown",
   "id": "46d3c825-8396-44cf-a7af-7dff6654ec26",
   "metadata": {},
   "source": [
    "Podemos verificar si se limpiaron adecuadamente las celdas de la columna de edades al firmar. Esto, al filtrar los datos que sean distintos a enteros y al observar si se pudo transformar toda la columna al tipo entero."
   ]
  },
  {
   "cell_type": "code",
   "execution_count": 105,
   "id": "6cfde4c5-5c42-445c-9d96-2a715aee71b4",
   "metadata": {
    "tags": []
   },
   "outputs": [],
   "source": [
    "for year in range(0,period):\n",
    "    for edad in range(0,df_salary_copy[year]['Edad_al_firmar'].shape[0]):\n",
    "        if type(df_salary_copy[year]['Edad_al_firmar'].iloc[edad]) != np.int64:\n",
    "            print(type(df_salary_copy[year]['Edad_al_firmar'].iloc[edad]))"
   ]
  },
  {
   "cell_type": "code",
   "execution_count": 106,
   "id": "0a218831-526f-4ab2-95ae-716248bac189",
   "metadata": {
    "tags": []
   },
   "outputs": [],
   "source": [
    "for year in range(0,period):\n",
    "    for edad in range(0,df_salary_copy[year]['Edad_al_firmar'].shape[0]):\n",
    "        if df_salary_copy[year]['Edad_al_firmar'].iloc[edad] < 0:\n",
    "            print(df_salary_copy[year]['Edad_al_firmar'].iloc[edad])"
   ]
  },
  {
   "cell_type": "code",
   "execution_count": 107,
   "id": "6590e2d0-67bc-403a-9292-6c135380e01c",
   "metadata": {},
   "outputs": [],
   "source": [
    "#for year in range(0,period):\n",
    "#    print(type(df_salary_copy[year][['Edad_al_firmar']].info()))"
   ]
  },
  {
   "cell_type": "code",
   "execution_count": 108,
   "id": "c0d33f56-8beb-4939-8487-b02f843980eb",
   "metadata": {
    "tags": []
   },
   "outputs": [],
   "source": [
    "#for year in range(0,period):\n",
    "#    print(year)\n",
    "#    for edad in range(0,df_salary_copy[year]['Edad_al_firmar'].shape[0]):\n",
    "#        print(str(df_salary_copy[year]['Edad_al_firmar'].iloc[edad]) + ' ' + str(edad))"
   ]
  },
  {
   "cell_type": "markdown",
   "id": "c58f7801-0662-43de-8f0f-bfabee7bd2cd",
   "metadata": {},
   "source": [
    "Por otro lado, falta corregir las entradas de las columnas de las edades que tengan valores menores a cero. Esto se hará de acuerdo al resto de columnas"
   ]
  },
  {
   "cell_type": "code",
   "execution_count": 109,
   "id": "faa2a39d-90fb-4ac5-b6c7-bc011d4e2ba7",
   "metadata": {},
   "outputs": [
    {
     "name": "stdout",
     "output_type": "stream",
     "text": [
      "0\n",
      "-9\n",
      "1\n",
      "-9\n",
      "2\n",
      "-7\n"
     ]
    }
   ],
   "source": [
    "for year in range(0,period):\n",
    "    for edad in range(0,df_salary_copy[year]['Edad'].shape[0]):\n",
    "        if df_salary_copy[year]['Edad'].iloc[edad] < 0:\n",
    "            print(year)\n",
    "            print(df_salary_copy[year]['Edad'].iloc[edad])"
   ]
  },
  {
   "cell_type": "code",
   "execution_count": 110,
   "id": "c4fef7f9-8dc1-496d-883b-fb75c4359bda",
   "metadata": {},
   "outputs": [],
   "source": [
    "for year in range(0,period):\n",
    "    for edad in range(0,df_salary_copy[year].shape[0]):\n",
    "        # Condición para imputar:\n",
    "        if df_salary_copy[year]['Edad'].iloc[edad] <= 0:\n",
    "            # Si no se indica si tendrá año de agencia libre:\n",
    "            if df_salary_copy[year]['Anio_de_agente_libre'].iloc[edad] == 0:\n",
    "                        ag_year = year + 2011 + 1\n",
    "            # Si tendrá año de agencia libre\n",
    "            else:\n",
    "                ag_year = df_salary_copy[year]['Anio_de_agente_libre'].iloc[edad]\n",
    "            # Get first year of contract\n",
    "            ini_year = ag_year - df_salary_copy[year]['Anios_de_contrato'].iloc[edad]\n",
    "            # Años desde el el año inicial\n",
    "            dif_years = year + 2011 - ini_year\n",
    "            # Edad en la temporada:\n",
    "            seasson_age = df_salary_copy[year]['Edad_al_firmar'].iloc[edad] + dif_years\n",
    "            # Asignación\n",
    "            df_salary_copy[year]['Edad'].iloc[edad] = seasson_age"
   ]
  },
  {
   "cell_type": "markdown",
   "id": "bb3d266e-d37d-46ae-a4a8-c921191b16cf",
   "metadata": {},
   "source": [
    "Comprobemos que no hay ninguna edad negativa"
   ]
  },
  {
   "cell_type": "code",
   "execution_count": 111,
   "id": "c82736c2-91c5-40b6-a79a-16a32d22e076",
   "metadata": {},
   "outputs": [],
   "source": [
    "for year in range(0,period):\n",
    "    for edad in range(0,df_salary_copy[year]['Edad'].shape[0]):\n",
    "        if df_salary_copy[year]['Edad'].iloc[edad] < 0:\n",
    "            print(year)\n",
    "            print(str(df_salary_copy[year]['Edad'].iloc[edad]) + ' ' + str(edad))"
   ]
  },
  {
   "cell_type": "markdown",
   "id": "bc6dc644-9e22-40d1-8256-b280eb48a6d8",
   "metadata": {},
   "source": [
    "Con la imputación de datos ya se puede crear la columna que contiene la antiguedad del agente libre bajo el contrato"
   ]
  },
  {
   "cell_type": "code",
   "execution_count": 112,
   "id": "4b5a6bfe-defe-401e-8333-155a5ddc09f2",
   "metadata": {},
   "outputs": [],
   "source": [
    "for year in range(0,period):\n",
    "    df_salary_copy[year]['Antiguedad'] = df_salary_copy[year]['Edad'] - df_salary_copy[year]['Edad_al_firmar']"
   ]
  },
  {
   "cell_type": "markdown",
   "id": "bef429ce-6b52-46c4-9b8d-dea7bac017b6",
   "metadata": {},
   "source": [
    "Por último, convirtamos la columna del año a string para que se entienda como una categoría y no una variable numérica"
   ]
  },
  {
   "cell_type": "code",
   "execution_count": 113,
   "id": "86aa61ee-c7a2-428d-bbca-f5c59c3ef667",
   "metadata": {},
   "outputs": [],
   "source": [
    "for year in range(0,period):\n",
    "    df_salary_copy[year]['Anio'] = df_salary_copy[year]['Anio'].map(str)"
   ]
  },
  {
   "cell_type": "code",
   "execution_count": 114,
   "id": "3b9b6c50-2d12-432a-be81-8e9e5ea361fe",
   "metadata": {},
   "outputs": [
    {
     "name": "stdout",
     "output_type": "stream",
     "text": [
      "<class 'pandas.core.frame.DataFrame'>\n",
      "RangeIndex: 1045 entries, 0 to 1044\n",
      "Data columns (total 20 columns):\n",
      " #   Column                   Non-Null Count  Dtype  \n",
      "---  ------                   --------------  -----  \n",
      " 0   Jugador                  1045 non-null   object \n",
      " 1   Anio                     1045 non-null   object \n",
      " 2   Posicion                 1045 non-null   object \n",
      " 3   Acronimo                 1045 non-null   object \n",
      " 4   Sueldo_base              1045 non-null   int64  \n",
      " 5   Bono_por_firma           1045 non-null   int64  \n",
      " 6   Sueldo_regular           1045 non-null   int64  \n",
      " 7   Sueldo_ajustado          1045 non-null   int64  \n",
      " 8   Sueldo_porcentual        1045 non-null   float64\n",
      " 9   Pago_efectivo            1045 non-null   int64  \n",
      " 10  Valor_contrato_promedio  1045 non-null   int64  \n",
      " 11  Anios_de_contrato        1045 non-null   int64  \n",
      " 12  Valor_del_contrato       1045 non-null   int64  \n",
      " 13  Ganancias                1045 non-null   int64  \n",
      " 14  Anio_de_agente_libre     1045 non-null   int64  \n",
      " 15  Edad_al_firmar           1045 non-null   int64  \n",
      " 16  Edad                     1045 non-null   int64  \n",
      " 17  Peso                     1045 non-null   int64  \n",
      " 18  Altura                   1045 non-null   float64\n",
      " 19  Antiguedad               1045 non-null   int64  \n",
      "dtypes: float64(2), int64(14), object(4)\n",
      "memory usage: 163.4+ KB\n"
     ]
    }
   ],
   "source": [
    "df_salary_copy[5].info()"
   ]
  },
  {
   "cell_type": "markdown",
   "id": "ee7ccb61-c2eb-464e-8cde-9359b22d4edb",
   "metadata": {},
   "source": [
    "#### Hitters"
   ]
  },
  {
   "cell_type": "code",
   "execution_count": 115,
   "id": "e07b7603-3038-4969-941f-3eb8484828bf",
   "metadata": {},
   "outputs": [],
   "source": [
    "for year in range(0,period):\n",
    "    # Cambio de nombres\n",
    "    df_hitting_copy[year] = df_hitting_copy[year].rename(columns = {'Player':'Jugador',\n",
    "                            'GP':'Juegos', 'GP%':'Porcentaje_juegos',\n",
    "                            'AB':'At_bats', 'H':'Bateos', 'GS':'Juegos_iniciados',\n",
    "                            'GS%':'Porcentaje_juegos_iniciados', 'RBI':'Runs_batted_in',\n",
    "                            'HR':'Home_runs', 'AVG':'Bateos_promedio',\n",
    "                            '2B':'Dobles', '3B':'Triples', 'OPS':'Porcentaje_On_base_plus_slugging',\n",
    "                            'SLG':'Porcentaje_slugging', 'OBP':'Porcentaje_on_base'})"
   ]
  },
  {
   "cell_type": "code",
   "execution_count": 116,
   "id": "9e33ae68-0347-4971-a8bb-f98442a13c6c",
   "metadata": {},
   "outputs": [
    {
     "name": "stdout",
     "output_type": "stream",
     "text": [
      "(521, 17)\n",
      "(669, 17)\n",
      "(734, 17)\n",
      "(778, 17)\n",
      "(809, 17)\n",
      "(834, 17)\n",
      "(810, 17)\n",
      "(825, 17)\n",
      "(850, 17)\n",
      "(451, 17)\n",
      "(753, 17)\n",
      "(496, 17)\n"
     ]
    }
   ],
   "source": [
    "for year in range(0,period):\n",
    "    print(df_hitting_copy[year].shape)"
   ]
  },
  {
   "cell_type": "code",
   "execution_count": 117,
   "id": "41a7f546-c942-45a9-a398-2729699174b4",
   "metadata": {},
   "outputs": [
    {
     "name": "stdout",
     "output_type": "stream",
     "text": [
      "<class 'pandas.core.frame.DataFrame'>\n",
      "RangeIndex: 834 entries, 0 to 833\n",
      "Data columns (total 17 columns):\n",
      " #   Column                            Non-Null Count  Dtype  \n",
      "---  ------                            --------------  -----  \n",
      " 0   Jugador                           834 non-null    object \n",
      " 1   Juegos                            834 non-null    int64  \n",
      " 2   Porcentaje_juegos                 834 non-null    float64\n",
      " 3   Juegos_iniciados                  834 non-null    int64  \n",
      " 4   Porcentaje_juegos_iniciados       834 non-null    float64\n",
      " 5   At_bats                           834 non-null    int64  \n",
      " 6   Bateos                            834 non-null    int64  \n",
      " 7   Dobles                            834 non-null    int64  \n",
      " 8   Triples                           834 non-null    int64  \n",
      " 9   Home_runs                         834 non-null    int64  \n",
      " 10  Runs_batted_in                    834 non-null    int64  \n",
      " 11  Bateos_promedio                   834 non-null    float64\n",
      " 12  Porcentaje_on_base                834 non-null    float64\n",
      " 13  Porcentaje_slugging               834 non-null    float64\n",
      " 14  Porcentaje_On_base_plus_slugging  834 non-null    float64\n",
      " 15  WAR                               832 non-null    float64\n",
      " 16  TVS                               834 non-null    float64\n",
      "dtypes: float64(8), int64(8), object(1)\n",
      "memory usage: 110.9+ KB\n"
     ]
    }
   ],
   "source": [
    "df_hitting_copy[5].info()"
   ]
  },
  {
   "cell_type": "code",
   "execution_count": 118,
   "id": "a0a437fc-4edf-43e9-8fe4-8eadd9111ab5",
   "metadata": {},
   "outputs": [
    {
     "data": {
      "text/plain": [
       "Index(['Jugador', 'Juegos', 'Porcentaje_juegos', 'Juegos_iniciados',\n",
       "       'Porcentaje_juegos_iniciados', 'At_bats', 'Bateos', 'Dobles', 'Triples',\n",
       "       'Home_runs', 'Runs_batted_in', 'Bateos_promedio', 'Porcentaje_on_base',\n",
       "       'Porcentaje_slugging', 'Porcentaje_On_base_plus_slugging', 'WAR',\n",
       "       'TVS'],\n",
       "      dtype='object')"
      ]
     },
     "execution_count": 118,
     "metadata": {},
     "output_type": "execute_result"
    }
   ],
   "source": [
    "df_hitting_copy[5].columns"
   ]
  },
  {
   "cell_type": "markdown",
   "id": "21d469d0-db9e-4397-a5d4-17581caf3a3e",
   "metadata": {},
   "source": [
    "#### Pitchers"
   ]
  },
  {
   "cell_type": "code",
   "execution_count": 119,
   "id": "42cc5fa2-6e74-4150-8e70-ae447fa72593",
   "metadata": {},
   "outputs": [],
   "source": [
    "for year in range(0,period):\n",
    "    # Cambio de nombres\n",
    "    df_pitching_copy[year] = df_pitching_copy[year].rename(columns = {'Player':'Jugador',\n",
    "                             'GP':'Juegos', 'GS':'Juegos_iniciados', 'IP':'Inning_pitched',\n",
    "                             'H':'Bateos', 'R':'Carreras', 'ER':'Carreras_ganadas',\n",
    "                             'BB':'Walks', 'SO':'Strike_outs', 'W':'Wins', 'L':'Losses',\n",
    "                             'SV':'Saves'})"
   ]
  },
  {
   "cell_type": "code",
   "execution_count": 120,
   "id": "7d0eec4d-76e4-41e2-a66a-d0b391769da1",
   "metadata": {},
   "outputs": [
    {
     "name": "stdout",
     "output_type": "stream",
     "text": [
      "(324, 16)\n",
      "(427, 16)\n",
      "(485, 16)\n",
      "(537, 16)\n",
      "(586, 16)\n",
      "(592, 16)\n",
      "(581, 16)\n",
      "(644, 16)\n",
      "(668, 16)\n",
      "(542, 16)\n",
      "(611, 16)\n",
      "(598, 16)\n"
     ]
    }
   ],
   "source": [
    "for year in range(0,period):\n",
    "    print(df_pitching_copy[year].shape)"
   ]
  },
  {
   "cell_type": "code",
   "execution_count": 121,
   "id": "4ac56be4-ad50-4bb6-b86a-033567c855a1",
   "metadata": {},
   "outputs": [
    {
     "name": "stdout",
     "output_type": "stream",
     "text": [
      "<class 'pandas.core.frame.DataFrame'>\n",
      "RangeIndex: 592 entries, 0 to 591\n",
      "Data columns (total 16 columns):\n",
      " #   Column            Non-Null Count  Dtype  \n",
      "---  ------            --------------  -----  \n",
      " 0   Jugador           592 non-null    object \n",
      " 1   Juegos            592 non-null    int64  \n",
      " 2   Juegos_iniciados  592 non-null    int64  \n",
      " 3   Inning_pitched    592 non-null    float64\n",
      " 4   Bateos            592 non-null    int64  \n",
      " 5   Carreras          592 non-null    int64  \n",
      " 6   Carreras_ganadas  592 non-null    int64  \n",
      " 7   Walks             592 non-null    int64  \n",
      " 8   Strike_outs       592 non-null    int64  \n",
      " 9   Wins              592 non-null    int64  \n",
      " 10  Losses            592 non-null    int64  \n",
      " 11  Saves             592 non-null    int64  \n",
      " 12  WHIP              592 non-null    float64\n",
      " 13  ERA               592 non-null    float64\n",
      " 14  WAR               587 non-null    float64\n",
      " 15  TVS               592 non-null    float64\n",
      "dtypes: float64(5), int64(10), object(1)\n",
      "memory usage: 74.1+ KB\n"
     ]
    }
   ],
   "source": [
    "df_pitching_copy[5].info()"
   ]
  },
  {
   "cell_type": "markdown",
   "id": "6694ac60-acb4-4ae5-a048-ee727e4920ef",
   "metadata": {},
   "source": [
    "## Agregación de variables sugeridas por artículos\n",
    "\n",
    "Las primeras variables que agregaremos son el cuadrado de todas las estadísticas deportivas, así como las siguientes variables:\n",
    "\n",
    "- DOMINANCE = $/(Inning \\; Pitched)$\n",
    "- CONTROL = $Walks/(Inning \\; Pitched)$\n",
    "- COMMAND = $Strike-outs/Walks$"
   ]
  },
  {
   "cell_type": "code",
   "execution_count": 122,
   "id": "014f35c6-d0b4-4966-b7c5-3b91be3aaefa",
   "metadata": {},
   "outputs": [],
   "source": [
    "for year in range(0,period):\n",
    "    df_pitching_copy[year]['Dominio'] = df_pitching_copy[year]['Strike_outs']/(df_pitching_copy[year]['Inning_pitched'])\n",
    "    df_pitching_copy[year]['Control'] = df_pitching_copy[year]['Walks']/(df_pitching_copy[year]['Inning_pitched'])\n",
    "    df_pitching_copy[year]['Comando'] = df_pitching_copy[year]['Strike_outs']/df_pitching_copy[year]['Walks']"
   ]
  },
  {
   "cell_type": "code",
   "execution_count": 123,
   "id": "d46561d9-a429-4e7a-948d-4cef7a646cb6",
   "metadata": {},
   "outputs": [
    {
     "name": "stdout",
     "output_type": "stream",
     "text": [
      "(324, 19)\n",
      "(427, 19)\n",
      "(485, 19)\n",
      "(537, 19)\n",
      "(586, 19)\n",
      "(592, 19)\n",
      "(581, 19)\n",
      "(644, 19)\n",
      "(668, 19)\n",
      "(542, 19)\n",
      "(611, 19)\n",
      "(598, 19)\n"
     ]
    }
   ],
   "source": [
    "for year in range(0,period):\n",
    "    print(df_pitching_copy[year].shape)"
   ]
  },
  {
   "cell_type": "code",
   "execution_count": 124,
   "id": "6d285d1d-a247-449d-805e-407cecae9c90",
   "metadata": {},
   "outputs": [
    {
     "name": "stdout",
     "output_type": "stream",
     "text": [
      "<class 'pandas.core.frame.DataFrame'>\n",
      "RangeIndex: 485 entries, 0 to 484\n",
      "Data columns (total 19 columns):\n",
      " #   Column            Non-Null Count  Dtype  \n",
      "---  ------            --------------  -----  \n",
      " 0   Jugador           485 non-null    object \n",
      " 1   Juegos            485 non-null    int64  \n",
      " 2   Juegos_iniciados  485 non-null    int64  \n",
      " 3   Inning_pitched    485 non-null    float64\n",
      " 4   Bateos            485 non-null    int64  \n",
      " 5   Carreras          485 non-null    int64  \n",
      " 6   Carreras_ganadas  485 non-null    int64  \n",
      " 7   Walks             485 non-null    int64  \n",
      " 8   Strike_outs       485 non-null    int64  \n",
      " 9   Wins              485 non-null    int64  \n",
      " 10  Losses            485 non-null    int64  \n",
      " 11  Saves             485 non-null    int64  \n",
      " 12  WHIP              485 non-null    float64\n",
      " 13  ERA               485 non-null    float64\n",
      " 14  WAR               435 non-null    float64\n",
      " 15  TVS               485 non-null    float64\n",
      " 16  Dominio           484 non-null    float64\n",
      " 17  Control           485 non-null    float64\n",
      " 18  Comando           482 non-null    float64\n",
      "dtypes: float64(8), int64(10), object(1)\n",
      "memory usage: 72.1+ KB\n"
     ]
    }
   ],
   "source": [
    "df_pitching_copy[2].info()"
   ]
  },
  {
   "cell_type": "markdown",
   "id": "a8a2f003-cb03-4240-8a15-cff4e951f03b",
   "metadata": {},
   "source": [
    "Podemos verificar qué entradas poseen valores infinitos en la base de datos"
   ]
  },
  {
   "cell_type": "code",
   "execution_count": 125,
   "id": "04ec781c-565d-45cc-af4a-202312aa7566",
   "metadata": {
    "tags": []
   },
   "outputs": [
    {
     "data": {
      "text/plain": [
       "'\\nfor year in range(0,period):\\n    print(str(2011 + year))\\n    for name in df_pitching_copy[year].columns:\\n        print(name)\\n        if type(name) != str:\\n            for element in range(0,len(df_pitching_copy[year][name])):\\n                if math.isinf(df_pitching_copy[year][name].iloc[element]) == True:\\n                    print(str(element) +  \\'  \\' + str(df_pitching_copy[year][name].iloc[element]))\\n    print(\"\")\\n'"
      ]
     },
     "execution_count": 125,
     "metadata": {},
     "output_type": "execute_result"
    }
   ],
   "source": [
    "\"\"\"\n",
    "for year in range(0,period):\n",
    "    print(str(2011 + year))\n",
    "    for name in df_pitching_copy[year].columns:\n",
    "        print(name)\n",
    "        if type(name) != str:\n",
    "            for element in range(0,len(df_pitching_copy[year][name])):\n",
    "                if math.isinf(df_pitching_copy[year][name].iloc[element]) == True:\n",
    "                    print(str(element) +  '  ' + str(df_pitching_copy[year][name].iloc[element]))\n",
    "    print(\"\")\n",
    "\"\"\""
   ]
  },
  {
   "cell_type": "markdown",
   "id": "2ec1ce41-f393-4ac7-8c40-71d50045e1f9",
   "metadata": {},
   "source": [
    "Siguiendo la sugerencia de algunos artículos, obtengamos el logaritmo de los salarios"
   ]
  },
  {
   "cell_type": "code",
   "execution_count": 126,
   "id": "802d0741-a015-44c3-9fbc-340dde2f2e43",
   "metadata": {},
   "outputs": [],
   "source": [
    "for year in range(0,period):\n",
    "    df_salary_copy[year]['ln_Sueldo_base'] = np.log(df_salary_copy[year]['Sueldo_base'])\n",
    "    df_salary_copy[year]['ln_Sueldo_ajustado'] = np.log(df_salary_copy[year]['Sueldo_ajustado'])\n",
    "    df_salary_copy[year]['ln_Sueldo_regular'] = np.log(df_salary_copy[year]['Sueldo_regular'])"
   ]
  },
  {
   "cell_type": "code",
   "execution_count": 127,
   "id": "8c2ac737-6468-41a3-abda-51714f77b373",
   "metadata": {},
   "outputs": [
    {
     "name": "stdout",
     "output_type": "stream",
     "text": [
      "<class 'pandas.core.frame.DataFrame'>\n",
      "RangeIndex: 1013 entries, 0 to 1012\n",
      "Data columns (total 23 columns):\n",
      " #   Column                   Non-Null Count  Dtype  \n",
      "---  ------                   --------------  -----  \n",
      " 0   Jugador                  1013 non-null   object \n",
      " 1   Anio                     1013 non-null   object \n",
      " 2   Posicion                 1013 non-null   object \n",
      " 3   Acronimo                 1013 non-null   object \n",
      " 4   Sueldo_base              1013 non-null   int64  \n",
      " 5   Bono_por_firma           1013 non-null   int64  \n",
      " 6   Sueldo_regular           1013 non-null   int64  \n",
      " 7   Sueldo_ajustado          1013 non-null   int64  \n",
      " 8   Sueldo_porcentual        1013 non-null   float64\n",
      " 9   Pago_efectivo            1013 non-null   int64  \n",
      " 10  Valor_contrato_promedio  1013 non-null   int64  \n",
      " 11  Anios_de_contrato        1013 non-null   int64  \n",
      " 12  Valor_del_contrato       1013 non-null   int64  \n",
      " 13  Ganancias                1013 non-null   int64  \n",
      " 14  Anio_de_agente_libre     1013 non-null   int64  \n",
      " 15  Edad_al_firmar           1013 non-null   int64  \n",
      " 16  Edad                     1013 non-null   int64  \n",
      " 17  Peso                     1013 non-null   int64  \n",
      " 18  Altura                   1013 non-null   float64\n",
      " 19  Antiguedad               1013 non-null   int64  \n",
      " 20  ln_Sueldo_base           1013 non-null   float64\n",
      " 21  ln_Sueldo_ajustado       1013 non-null   float64\n",
      " 22  ln_Sueldo_regular        1013 non-null   float64\n",
      "dtypes: float64(5), int64(14), object(4)\n",
      "memory usage: 182.1+ KB\n"
     ]
    }
   ],
   "source": [
    "df_salary_copy[2].info()"
   ]
  },
  {
   "cell_type": "markdown",
   "id": "263f71c5-3ae0-4e9d-8c4d-0d00c5c16f82",
   "metadata": {},
   "source": [
    "Debido a que hay columnas con datos tipo _Nan_ o _NULL_, optaremos por imputarlos.\n",
    "\n",
    "Mientras que los valores infinitos generados por las nuevas variables se sustituirán dependediendo del caso:\n",
    "\n",
    "- 0/0: 0\n",
    "- num/0: Máximo de la columna correspondientefijarán"
   ]
  },
  {
   "cell_type": "code",
   "execution_count": 128,
   "id": "bdb4c013-8d98-4950-92c7-b1d194e24756",
   "metadata": {},
   "outputs": [],
   "source": [
    "for year in range(0,period):\n",
    "    # Salaries\n",
    "    mean_hgt = df_salary_copy[year].loc[df_salary_copy[year]['Altura'] > 4.9].Altura.mean()\n",
    "    mean_wgh = df_salary_copy[year].loc[df_salary_copy[year]['Peso'] > 0].Peso.mean()\n",
    "    df_salary_copy[year]['Altura'].fillna(value = mean_hgt, inplace = True)\n",
    "    df_salary_copy[year]['Altura'].mask(df_salary_copy[year]['Altura'] <= 4.9, mean_hgt, inplace = True)\n",
    "    df_salary_copy[year]['Peso'].fillna(value = mean_wgh, inplace = True)\n",
    "    df_salary_copy[year]['Peso'].mask(df_salary_copy[year]['Peso'] <= 0, mean_wgh, inplace = True)\n",
    "    \n",
    "    # Pitchers\n",
    "    mean_war = df_pitching_copy[year].loc[df_pitching_copy[year]['WAR'] > 0].WAR.mean()\n",
    "    mean_dom = df_pitching_copy[year].loc[df_pitching_copy[year]['Dominio'] > 0].Dominio.mean()\n",
    "    mean_con = df_pitching_copy[year].loc[df_pitching_copy[year]['Control'] > 0].Control.mean()\n",
    "    mean_com = df_pitching_copy[year].loc[df_pitching_copy[year]['Comando'] > 0].Comando.mean()\n",
    "    df_pitching_copy[year]['WAR'].fillna(value = mean_war, inplace = True)\n",
    "    df_pitching_copy[year]['WAR'].mask(df_pitching_copy[year]['WAR'] <= 0, mean_war, inplace = True)\n",
    "    df_pitching_copy[year]['Dominio'].fillna(value = mean_dom, inplace = True)\n",
    "    df_pitching_copy[year]['Dominio'].mask(df_pitching_copy[year]['Dominio'] <= 0, mean_dom, inplace = True)\n",
    "    df_pitching_copy[year]['Control'].fillna(value = mean_con, inplace = True)\n",
    "    df_pitching_copy[year]['Control'].mask(df_pitching_copy[year]['Control'] <= 0, mean_con, inplace = True)\n",
    "    df_pitching_copy[year]['Comando'].fillna(value = mean_com, inplace = True)\n",
    "    df_pitching_copy[year]['Comando'].mask(df_pitching_copy[year]['Comando'] <= 0, mean_com, inplace = True)\n",
    "    \n",
    "    # Hitters\n",
    "    mean_war = df_hitting_copy[year].loc[df_hitting_copy[year]['WAR'] > 0].WAR.mean()\n",
    "    df_hitting_copy[year]['WAR'].fillna(value = mean_war, inplace = True)\n",
    "    df_hitting_copy[year]['WAR'].mask(df_hitting_copy[year]['WAR'] <= 0, mean_war, inplace = True)"
   ]
  },
  {
   "cell_type": "code",
   "execution_count": 129,
   "id": "3a58b9c8-a0a8-4ad1-bc7b-b484eb425513",
   "metadata": {},
   "outputs": [],
   "source": [
    "for year in range(0,period):   \n",
    "    # Condiciones\n",
    "    con_dom_1 = df_pitching_copy[year]['Strike_outs'] == 0\n",
    "    con_con_1 = df_pitching_copy[year]['Walks'] == 0\n",
    "    con_com_1 = df_pitching_copy[year]['Strike_outs'] == 0\n",
    "                 \n",
    "    # Imputación caso 0/0\n",
    "    df_pitching_copy[year].loc[con_dom_1, \"Dominio\"] = 0\n",
    "    df_pitching_copy[year].loc[con_con_1, \"Control\"] = 0\n",
    "    df_pitching_copy[year].loc[con_com_1, \"Comando\"] = 0"
   ]
  },
  {
   "cell_type": "code",
   "execution_count": 130,
   "id": "0cc78c79-6cc6-48b2-95a6-d9b6cb18b59d",
   "metadata": {
    "tags": []
   },
   "outputs": [],
   "source": [
    "for year in range(0,period):   \n",
    "    # Máximos\n",
    "    max_dom = df_pitching_copy[year]['Strike_outs'].max()/9\n",
    "    max_con = df_pitching_copy[year]['Walks'].max()/9\n",
    "    max_com = df_pitching_copy[year]['Strike_outs'].max()\n",
    "    \n",
    "    # Cambianfdo infinitos a NaNs\n",
    "    df_pitching_copy[year][\"Dominio\"].replace([np.inf, -np.inf], np.nan, inplace = True)\n",
    "    df_pitching_copy[year][\"Control\"].replace([np.inf, -np.inf], np.nan, inplace = True)\n",
    "    df_pitching_copy[year][\"Comando\"].replace([np.inf, -np.inf], np.nan, inplace = True)\n",
    "    \n",
    "    # Imputación\n",
    "    df_pitching_copy[year]['Dominio'].fillna(value = max_dom, inplace = True)\n",
    "    df_pitching_copy[year]['Control'].fillna(value = max_con, inplace = True)\n",
    "    df_pitching_copy[year]['Comando'].fillna(value = max_com, inplace = True)"
   ]
  },
  {
   "cell_type": "markdown",
   "id": "4d38c8fa-7f95-4fd6-9582-5f832c6a2e5c",
   "metadata": {},
   "source": [
    "Verifiquemos que ya no haya problemas con valores infinitos"
   ]
  },
  {
   "cell_type": "code",
   "execution_count": 131,
   "id": "7bb899a3-aa14-4b53-b453-97d3e33f3af5",
   "metadata": {
    "tags": []
   },
   "outputs": [
    {
     "data": {
      "text/plain": [
       "'\\nfor year in range(0,period):\\n    print(str(2011 + year))\\n    for name in df_pitching_copy[year].columns:\\n        print(name)\\n        if type(name) != str:\\n            for element in range(0,len(df_pitching_copy[year][name])):\\n                if math.isinf(df_pitching_copy[year][name].iloc[element]) == True:\\n                    print(str(element) +  \\'  \\' + str(df_pitching_copy[year][name].iloc[element]))\\n    print(\"\")\\n'"
      ]
     },
     "execution_count": 131,
     "metadata": {},
     "output_type": "execute_result"
    }
   ],
   "source": [
    "\"\"\"\n",
    "for year in range(0,period):\n",
    "    print(str(2011 + year))\n",
    "    for name in df_pitching_copy[year].columns:\n",
    "        print(name)\n",
    "        if type(name) != str:\n",
    "            for element in range(0,len(df_pitching_copy[year][name])):\n",
    "                if math.isinf(df_pitching_copy[year][name].iloc[element]) == True:\n",
    "                    print(str(element) +  '  ' + str(df_pitching_copy[year][name].iloc[element]))\n",
    "    print(\"\")\n",
    "\"\"\""
   ]
  },
  {
   "cell_type": "markdown",
   "id": "53e179e1-86f3-4b45-b687-ed312dfde827",
   "metadata": {},
   "source": [
    "Así mismo, contemos los valores *NaN* que queden presentes"
   ]
  },
  {
   "cell_type": "code",
   "execution_count": 132,
   "id": "096a81fb-4a9e-4187-b3ac-fb36efbdc386",
   "metadata": {},
   "outputs": [
    {
     "name": "stdout",
     "output_type": "stream",
     "text": [
      "Año: 2011\n",
      "Hitters:\n",
      "Pitchers:\n",
      "Free agents:\n",
      "Salaries:\n",
      "\n",
      "Año: 2012\n",
      "Hitters:\n",
      "Pitchers:\n",
      "Free agents:\n",
      "Salaries:\n",
      "\n",
      "Año: 2013\n",
      "Hitters:\n",
      "Pitchers:\n",
      "Free agents:\n",
      "Salaries:\n",
      "\n",
      "Año: 2014\n",
      "Hitters:\n",
      "Pitchers:\n",
      "Free agents:\n",
      "Salaries:\n",
      "\n",
      "Año: 2015\n",
      "Hitters:\n",
      "Pitchers:\n",
      "Free agents:\n",
      "Salaries:\n",
      "\n",
      "Año: 2016\n",
      "Hitters:\n",
      "Pitchers:\n",
      "Free agents:\n",
      "Salaries:\n",
      "\n",
      "Año: 2017\n",
      "Hitters:\n",
      "Pitchers:\n",
      "Free agents:\n",
      "Salaries:\n",
      "\n",
      "Año: 2018\n",
      "Hitters:\n",
      "Pitchers:\n",
      "Free agents:\n",
      "Salaries:\n",
      "\n",
      "Año: 2019\n",
      "Hitters:\n",
      "Pitchers:\n",
      "Free agents:\n",
      "Salaries:\n",
      "\n",
      "Año: 2020\n",
      "Hitters:\n",
      "Pitchers:\n",
      "Free agents:\n",
      "Salaries:\n",
      "\n",
      "Año: 2021\n",
      "Hitters:\n",
      "Pitchers:\n",
      "Free agents:\n",
      "Salaries:\n",
      "\n",
      "Año: 2022\n",
      "Hitters:\n",
      "Pitchers:\n",
      "Free agents:\n",
      "Salaries:\n",
      "\n"
     ]
    }
   ],
   "source": [
    "for year in range(0,period):\n",
    "    print('Año: ' + str(2011 + year))\n",
    "    print('Hitters:')\n",
    "    df_hitting_copy[year].isna().sum()\n",
    "    print('Pitchers:')\n",
    "    df_pitching_copy[year].isna().sum()\n",
    "    print('Free agents:')\n",
    "    df_free_agents_copy[year].isna().sum()\n",
    "    print('Salaries:')\n",
    "    df_salary_copy[year].isna().sum()\n",
    "    print(\"\")"
   ]
  },
  {
   "cell_type": "markdown",
   "id": "064fcd92-06b4-4653-bc82-853c58f215af",
   "metadata": {},
   "source": [
    "Ahora, repitamos este proceso para la base de datos de los salarios."
   ]
  },
  {
   "cell_type": "code",
   "execution_count": 133,
   "id": "45308b75-3b3d-48ce-a0fa-324f4e9d2c43",
   "metadata": {},
   "outputs": [],
   "source": [
    "salary_names = ['ln_Sueldo_ajustado', 'ln_Sueldo_base', 'ln_Sueldo_regular']"
   ]
  },
  {
   "cell_type": "code",
   "execution_count": 134,
   "id": "a11f3611-e628-4fbf-810b-39067a827676",
   "metadata": {},
   "outputs": [
    {
     "name": "stdout",
     "output_type": "stream",
     "text": [
      "ln_Sueldo_ajustado\n",
      "2011\n",
      "\n",
      "2012\n",
      "\n",
      "2013\n",
      "\n",
      "2014\n",
      "\n",
      "2015\n",
      "\n",
      "2016\n",
      "\n",
      "2017\n",
      "\n",
      "2018\n",
      "72  -inf\n",
      "188  -inf\n",
      "\n",
      "2019\n",
      "\n",
      "2020\n",
      "\n",
      "2021\n",
      "6  -inf\n",
      "55  -inf\n",
      "166  -inf\n",
      "274  -inf\n",
      "\n",
      "2022\n",
      "193  -inf\n",
      "\n",
      "ln_Sueldo_base\n",
      "2011\n",
      "\n",
      "2012\n",
      "\n",
      "2013\n",
      "\n",
      "2014\n",
      "\n",
      "2015\n",
      "\n",
      "2016\n",
      "\n",
      "2017\n",
      "\n",
      "2018\n",
      "\n",
      "2019\n",
      "\n",
      "2020\n",
      "\n",
      "2021\n",
      "\n",
      "2022\n",
      "\n",
      "ln_Sueldo_regular\n",
      "2011\n",
      "\n",
      "2012\n",
      "\n",
      "2013\n",
      "\n",
      "2014\n",
      "\n",
      "2015\n",
      "\n",
      "2016\n",
      "\n",
      "2017\n",
      "\n",
      "2018\n",
      "\n",
      "2019\n",
      "\n",
      "2020\n",
      "\n",
      "2021\n",
      "\n",
      "2022\n",
      "\n"
     ]
    }
   ],
   "source": [
    "for name in salary_names:\n",
    "    print(name)\n",
    "    \n",
    "    for year in range(0,period):\n",
    "        print(str(2011 + year))\n",
    "        for element in range(0,len(df_salary_copy[year][name])):\n",
    "            if df_salary_copy[year][name].iloc[element] <= 0:\n",
    "                print(str(element) +  '  ' + str(df_salary_copy[year][name].iloc[element]))\n",
    "        print(\"\")"
   ]
  },
  {
   "cell_type": "markdown",
   "id": "39c3f0e8-e43f-4007-bd91-3073de6d001c",
   "metadata": {},
   "source": [
    "Al inspecsionar los errores nos damos cuenta que solo se desconocen los salarios ajustados y los fijaron a $0$. Usaremos el logaritmo base 10 del salario regular para sustituir dicho valor."
   ]
  },
  {
   "cell_type": "code",
   "execution_count": 135,
   "id": "1e4feec9-d377-4b35-8c04-ff5f341d1684",
   "metadata": {},
   "outputs": [],
   "source": [
    "for year in range(0,period):\n",
    "    df_salary_copy[year]['ln_Sueldo_ajustado'].mask(df_salary_copy[year]['ln_Sueldo_ajustado'] < 0,\n",
    "                                                    df_salary_copy[year]['ln_Sueldo_regular'],\n",
    "                                                    inplace = True)"
   ]
  },
  {
   "cell_type": "code",
   "execution_count": 136,
   "id": "c9f3e139-a076-4d48-862f-79cdce97f365",
   "metadata": {},
   "outputs": [
    {
     "name": "stdout",
     "output_type": "stream",
     "text": [
      "2011\n",
      "\n",
      "2012\n",
      "\n",
      "2013\n",
      "\n",
      "2014\n",
      "\n",
      "2015\n",
      "\n",
      "2016\n",
      "\n",
      "2017\n",
      "\n",
      "2018\n",
      "\n",
      "2019\n",
      "\n",
      "2020\n",
      "\n",
      "2021\n",
      "\n",
      "2022\n",
      "\n"
     ]
    }
   ],
   "source": [
    "for year in range(0,period):\n",
    "    print(str(2011 + year))\n",
    "    for element in range(0,len(df_salary_copy[year]['ln_Sueldo_ajustado'])):\n",
    "        if df_salary_copy[year]['ln_Sueldo_ajustado'].iloc[element] <= 0:\n",
    "            print(str(element) +  '  ' + str(df_salary_copy[year]['ln_Sueldo_ajustado'].iloc[element]))\n",
    "    print(\"\")"
   ]
  },
  {
   "cell_type": "code",
   "execution_count": 137,
   "id": "7ec2b054-5a13-4487-b131-0f10c4483748",
   "metadata": {},
   "outputs": [
    {
     "name": "stdout",
     "output_type": "stream",
     "text": [
      "Ajustado: 13.785784770849762nRegular: 13.888874386883515\n",
      "Ajustado: 13.81181498978195nRegular: 13.90039782504837\n",
      "Ajustado: 13.54819591748778nRegular: 13.978975725734408\n",
      "Ajustado: 13.66411021920866nRegular: 14.080738990191257\n",
      "Ajustado: 13.49415866539551nRegular: 13.99344595993313\n",
      "Ajustado: 13.478992231977141nRegular: 14.0261405412466\n",
      "Ajustado: 13.575363447521962nRegular: 14.079742661574734\n",
      "Ajustado: 13.562311948859815nRegular: 14.080756222584538\n",
      "Ajustado: 13.521364643693584nRegular: 14.066559580453122\n",
      "Ajustado: 13.029458522392627nRegular: 14.216780831796356\n",
      "Ajustado: 13.70981799580226nRegular: 14.198804602895482\n",
      "Ajustado: 13.924314685157658nRegular: 14.351734783233747\n"
     ]
    }
   ],
   "source": [
    "for year in range(0,period):\n",
    "    print(\"Ajustado: \" + str(df_salary_copy[year]['ln_Sueldo_ajustado'].mean())\n",
    "          + 'n'\n",
    "          + 'Regular: ' + str(df_salary_copy[year]['ln_Sueldo_regular'].mean()))"
   ]
  },
  {
   "cell_type": "markdown",
   "id": "783abd15-e0ea-478c-8155-b6a0e9d15a24",
   "metadata": {},
   "source": [
    "En efecto, ya no hay valores _NaN_ o _infinitos_.\n",
    "\n",
    "Con el objetivo de hacer más eficiente la creación de las variables al cuadrado, lo haremos extrayendo el índice de las columnas de interés"
   ]
  },
  {
   "cell_type": "code",
   "execution_count": 138,
   "id": "7cea236e-8631-4499-b0f4-2f57ab047206",
   "metadata": {},
   "outputs": [
    {
     "data": {
      "text/plain": [
       "Index(['Jugador', 'Juegos', 'Porcentaje_juegos', 'Juegos_iniciados',\n",
       "       'Porcentaje_juegos_iniciados', 'At_bats', 'Bateos', 'Dobles', 'Triples',\n",
       "       'Home_runs', 'Runs_batted_in', 'Bateos_promedio', 'Porcentaje_on_base',\n",
       "       'Porcentaje_slugging', 'Porcentaje_On_base_plus_slugging', 'WAR',\n",
       "       'TVS'],\n",
       "      dtype='object')"
      ]
     },
     "execution_count": 138,
     "metadata": {},
     "output_type": "execute_result"
    }
   ],
   "source": [
    "df_hitting_copy[0].columns"
   ]
  },
  {
   "cell_type": "code",
   "execution_count": 139,
   "id": "0657b61c-ae68-4f99-8c7d-2d2af6e8127c",
   "metadata": {},
   "outputs": [
    {
     "data": {
      "text/plain": [
       "Index(['Jugador', 'Juegos', 'Juegos_iniciados', 'Inning_pitched', 'Bateos',\n",
       "       'Carreras', 'Carreras_ganadas', 'Walks', 'Strike_outs', 'Wins',\n",
       "       'Losses', 'Saves', 'WHIP', 'ERA', 'WAR', 'TVS', 'Dominio', 'Control',\n",
       "       'Comando'],\n",
       "      dtype='object')"
      ]
     },
     "execution_count": 139,
     "metadata": {},
     "output_type": "execute_result"
    }
   ],
   "source": [
    "df_pitching_copy[1].columns"
   ]
  },
  {
   "cell_type": "code",
   "execution_count": 140,
   "id": "8102047e-e7aa-45d3-95a6-fca9e56de2b6",
   "metadata": {},
   "outputs": [],
   "source": [
    "def get_col_indices(df, names):\n",
    "    return df.columns.get_indexer(names)"
   ]
  },
  {
   "cell_type": "code",
   "execution_count": 141,
   "id": "81d37f9d-e5e5-4771-b177-e3d1958ba2eb",
   "metadata": {},
   "outputs": [],
   "source": [
    "hitting_names = ['Juegos_iniciados', 'Porcentaje_juegos_iniciados', 'At_bats', 'Bateos',\n",
    "                  'Dobles', 'Triples', 'Home_runs', 'Runs_batted_in', 'Bateos_promedio',\n",
    "                  'Porcentaje_on_base', 'Porcentaje_slugging', 'TVS',\n",
    "                  'Porcentaje_On_base_plus_slugging', 'WAR']\t\n",
    "pitching_names = ['Inning_pitched', 'Bateos', 'Carreras',\n",
    "                  'Carreras_ganadas', 'Walks', 'Strike_outs', 'Wins', 'Losses',\n",
    "                  'Saves', 'WHIP', 'ERA', 'WAR', 'TVS', 'Dominio', 'Control',\n",
    "                  'Comando']"
   ]
  },
  {
   "cell_type": "markdown",
   "id": "09df1329-152f-4a63-8532-74fdd2b3eb42",
   "metadata": {},
   "source": [
    "Con el objetivo de simplificar el código, verifiquemos si todos los índices en cada base de datos son los mismos"
   ]
  },
  {
   "cell_type": "code",
   "execution_count": 142,
   "id": "e7b7f69b-d697-48f5-b23a-21994550ee3e",
   "metadata": {},
   "outputs": [
    {
     "name": "stdout",
     "output_type": "stream",
     "text": [
      "Hitters:\n",
      "[ 3  4  5  6  7  8  9 10 11 12 13 16 14 15]\n",
      "[ 3  4  5  6  7  8  9 10 11 12 13 16 14 15]\n",
      "[ 3  4  5  6  7  8  9 10 11 12 13 16 14 15]\n",
      "[ 3  4  5  6  7  8  9 10 11 12 13 16 14 15]\n",
      "[ 3  4  5  6  7  8  9 10 11 12 13 16 14 15]\n",
      "[ 3  4  5  6  7  8  9 10 11 12 13 16 14 15]\n",
      "[ 3  4  5  6  7  8  9 10 11 12 13 16 14 15]\n",
      "[ 3  4  5  6  7  8  9 10 11 12 13 16 14 15]\n",
      "[ 3  4  5  6  7  8  9 10 11 12 13 16 14 15]\n",
      "[ 3  4  5  6  7  8  9 10 11 12 13 16 14 15]\n",
      "[ 3  4  5  6  7  8  9 10 11 12 13 16 14 15]\n",
      "[ 3  4  5  6  7  8  9 10 11 12 13 16 14 15]\n",
      "Pitchers:\n",
      "[ 3  4  5  6  7  8  9 10 11 12 13 14 15 16 17 18]\n",
      "[ 3  4  5  6  7  8  9 10 11 12 13 14 15 16 17 18]\n",
      "[ 3  4  5  6  7  8  9 10 11 12 13 14 15 16 17 18]\n",
      "[ 3  4  5  6  7  8  9 10 11 12 13 14 15 16 17 18]\n",
      "[ 3  4  5  6  7  8  9 10 11 12 13 14 15 16 17 18]\n",
      "[ 3  4  5  6  7  8  9 10 11 12 13 14 15 16 17 18]\n",
      "[ 3  4  5  6  7  8  9 10 11 12 13 14 15 16 17 18]\n",
      "[ 3  4  5  6  7  8  9 10 11 12 13 14 15 16 17 18]\n",
      "[ 3  4  5  6  7  8  9 10 11 12 13 14 15 16 17 18]\n",
      "[ 3  4  5  6  7  8  9 10 11 12 13 14 15 16 17 18]\n",
      "[ 3  4  5  6  7  8  9 10 11 12 13 14 15 16 17 18]\n",
      "[ 3  4  5  6  7  8  9 10 11 12 13 14 15 16 17 18]\n"
     ]
    }
   ],
   "source": [
    "print('Hitters:')\n",
    "for year in range(0,period):\n",
    "    print(get_col_indices(df_hitting_copy[year], hitting_names))\n",
    "    \n",
    "print('Pitchers:')\n",
    "for year in range(0,period):\n",
    "    print(get_col_indices(df_pitching_copy[year], pitching_names))"
   ]
  },
  {
   "cell_type": "code",
   "execution_count": 143,
   "id": "a5a7923b-c40b-417b-944e-f608e25cd565",
   "metadata": {},
   "outputs": [],
   "source": [
    "hitting_indexes = list(get_col_indices(df_hitting_copy[0], hitting_names))\n",
    "pitching_indexes = list(get_col_indices(df_pitching_copy[0], pitching_names))"
   ]
  },
  {
   "cell_type": "code",
   "execution_count": 144,
   "id": "79bc129f-4c7a-4b54-a3e3-b2e1217b4e73",
   "metadata": {},
   "outputs": [],
   "source": [
    "for year in range(0,period):\n",
    "    # Hitters:\n",
    "    for hitter_name in hitting_indexes:\n",
    "        df_hitting_copy[year][df_hitting_copy[year].columns[hitter_name] + '_2'] = np.power(df_hitting_copy[year][df_hitting_copy[year].columns[hitter_name]], 2)\n",
    "    # Pitchers:\n",
    "    for pitcher_name in pitching_indexes:\n",
    "        df_pitching_copy[year][df_pitching_copy[year].columns[pitcher_name] + '_2'] = np.power(df_pitching_copy[year][df_pitching_copy[year].columns[pitcher_name]], 2)"
   ]
  },
  {
   "cell_type": "markdown",
   "id": "c2c9bde8-ecd1-46cf-acab-fe760a2a4113",
   "metadata": {},
   "source": [
    "Apreciemos el resultado final"
   ]
  },
  {
   "cell_type": "code",
   "execution_count": 145,
   "id": "2eab25d4-e52a-4338-b1f3-9885bd854742",
   "metadata": {},
   "outputs": [
    {
     "name": "stdout",
     "output_type": "stream",
     "text": [
      "<class 'pandas.core.frame.DataFrame'>\n",
      "RangeIndex: 734 entries, 0 to 733\n",
      "Data columns (total 31 columns):\n",
      " #   Column                              Non-Null Count  Dtype  \n",
      "---  ------                              --------------  -----  \n",
      " 0   Jugador                             734 non-null    object \n",
      " 1   Juegos                              734 non-null    int64  \n",
      " 2   Porcentaje_juegos                   734 non-null    float64\n",
      " 3   Juegos_iniciados                    734 non-null    int64  \n",
      " 4   Porcentaje_juegos_iniciados         734 non-null    float64\n",
      " 5   At_bats                             734 non-null    int64  \n",
      " 6   Bateos                              734 non-null    int64  \n",
      " 7   Dobles                              734 non-null    int64  \n",
      " 8   Triples                             734 non-null    int64  \n",
      " 9   Home_runs                           734 non-null    int64  \n",
      " 10  Runs_batted_in                      734 non-null    int64  \n",
      " 11  Bateos_promedio                     734 non-null    float64\n",
      " 12  Porcentaje_on_base                  734 non-null    float64\n",
      " 13  Porcentaje_slugging                 734 non-null    float64\n",
      " 14  Porcentaje_On_base_plus_slugging    734 non-null    float64\n",
      " 15  WAR                                 734 non-null    float64\n",
      " 16  TVS                                 734 non-null    float64\n",
      " 17  Juegos_iniciados_2                  734 non-null    int64  \n",
      " 18  Porcentaje_juegos_iniciados_2       734 non-null    float64\n",
      " 19  At_bats_2                           734 non-null    int64  \n",
      " 20  Bateos_2                            734 non-null    int64  \n",
      " 21  Dobles_2                            734 non-null    int64  \n",
      " 22  Triples_2                           734 non-null    int64  \n",
      " 23  Home_runs_2                         734 non-null    int64  \n",
      " 24  Runs_batted_in_2                    734 non-null    int64  \n",
      " 25  Bateos_promedio_2                   734 non-null    float64\n",
      " 26  Porcentaje_on_base_2                734 non-null    float64\n",
      " 27  Porcentaje_slugging_2               734 non-null    float64\n",
      " 28  TVS_2                               734 non-null    float64\n",
      " 29  Porcentaje_On_base_plus_slugging_2  734 non-null    float64\n",
      " 30  WAR_2                               734 non-null    float64\n",
      "dtypes: float64(15), int64(15), object(1)\n",
      "memory usage: 177.9+ KB\n"
     ]
    }
   ],
   "source": [
    "df_hitting_copy[2].info()"
   ]
  },
  {
   "cell_type": "code",
   "execution_count": 146,
   "id": "8da2756f-b881-4c66-a150-6844259de95d",
   "metadata": {},
   "outputs": [
    {
     "name": "stdout",
     "output_type": "stream",
     "text": [
      "<class 'pandas.core.frame.DataFrame'>\n",
      "RangeIndex: 485 entries, 0 to 484\n",
      "Data columns (total 35 columns):\n",
      " #   Column              Non-Null Count  Dtype  \n",
      "---  ------              --------------  -----  \n",
      " 0   Jugador             485 non-null    object \n",
      " 1   Juegos              485 non-null    int64  \n",
      " 2   Juegos_iniciados    485 non-null    int64  \n",
      " 3   Inning_pitched      485 non-null    float64\n",
      " 4   Bateos              485 non-null    int64  \n",
      " 5   Carreras            485 non-null    int64  \n",
      " 6   Carreras_ganadas    485 non-null    int64  \n",
      " 7   Walks               485 non-null    int64  \n",
      " 8   Strike_outs         485 non-null    int64  \n",
      " 9   Wins                485 non-null    int64  \n",
      " 10  Losses              485 non-null    int64  \n",
      " 11  Saves               485 non-null    int64  \n",
      " 12  WHIP                485 non-null    float64\n",
      " 13  ERA                 485 non-null    float64\n",
      " 14  WAR                 485 non-null    float64\n",
      " 15  TVS                 485 non-null    float64\n",
      " 16  Dominio             485 non-null    float64\n",
      " 17  Control             485 non-null    float64\n",
      " 18  Comando             485 non-null    float64\n",
      " 19  Inning_pitched_2    485 non-null    float64\n",
      " 20  Bateos_2            485 non-null    int64  \n",
      " 21  Carreras_2          485 non-null    int64  \n",
      " 22  Carreras_ganadas_2  485 non-null    int64  \n",
      " 23  Walks_2             485 non-null    int64  \n",
      " 24  Strike_outs_2       485 non-null    int64  \n",
      " 25  Wins_2              485 non-null    int64  \n",
      " 26  Losses_2            485 non-null    int64  \n",
      " 27  Saves_2             485 non-null    int64  \n",
      " 28  WHIP_2              485 non-null    float64\n",
      " 29  ERA_2               485 non-null    float64\n",
      " 30  WAR_2               485 non-null    float64\n",
      " 31  TVS_2               485 non-null    float64\n",
      " 32  Dominio_2           485 non-null    float64\n",
      " 33  Control_2           485 non-null    float64\n",
      " 34  Comando_2           485 non-null    float64\n",
      "dtypes: float64(16), int64(18), object(1)\n",
      "memory usage: 132.7+ KB\n"
     ]
    }
   ],
   "source": [
    "df_pitching_copy[2].info()"
   ]
  },
  {
   "cell_type": "markdown",
   "id": "079302b1-145a-4850-8715-86a1dfba3390",
   "metadata": {},
   "source": [
    "## Unión de las bases de datos\n",
    "### Datos agregados por equipo\n",
    "\n",
    "Solo resta añadir los datos relevantes al equipo al que pertenece cada jugador considerando la base de datos de la cantidad de equipos por estado"
   ]
  },
  {
   "cell_type": "code",
   "execution_count": 147,
   "id": "1b812845-2e79-48df-88ed-298f3212c7bd",
   "metadata": {},
   "outputs": [
    {
     "name": "stdout",
     "output_type": "stream",
     "text": [
      "<class 'pandas.core.frame.DataFrame'>\n",
      "RangeIndex: 28 entries, 0 to 27\n",
      "Data columns (total 10 columns):\n",
      " #   Column                   Non-Null Count  Dtype  \n",
      "---  ------                   --------------  -----  \n",
      " 0   Equipo                   28 non-null     object \n",
      " 1   Cantidad_agentes_libres  28 non-null     int64  \n",
      " 2   Valor_contrato_total     28 non-null     int64  \n",
      " 3   Acronimo                 28 non-null     object \n",
      " 4   Victorias                28 non-null     int64  \n",
      " 5   Juegos totales           28 non-null     int64  \n",
      " 6   Playoffs                 28 non-null     int64  \n",
      " 7   Pennants won             28 non-null     int64  \n",
      " 8   WS ganadas               28 non-null     int64  \n",
      " 9   Promedio_victorias       28 non-null     float64\n",
      "dtypes: float64(1), int64(7), object(2)\n",
      "memory usage: 2.3+ KB\n"
     ]
    }
   ],
   "source": [
    "df_teams_copy[7].info()"
   ]
  },
  {
   "cell_type": "code",
   "execution_count": 148,
   "id": "9a38d559-c5af-4725-b21d-74cb95347d16",
   "metadata": {},
   "outputs": [
    {
     "name": "stdout",
     "output_type": "stream",
     "text": [
      "<class 'pandas.core.frame.DataFrame'>\n",
      "Int64Index: 30 entries, 0 to 29\n",
      "Data columns (total 4 columns):\n",
      " #   Column               Non-Null Count  Dtype \n",
      "---  ------               --------------  ----- \n",
      " 0   Estado               30 non-null     object\n",
      " 1   Cantidad de equipos  30 non-null     int64 \n",
      " 2   Equipo               30 non-null     object\n",
      " 3   Acronimo             30 non-null     object\n",
      "dtypes: int64(1), object(3)\n",
      "memory usage: 1.2+ KB\n"
     ]
    }
   ],
   "source": [
    "acronym_state.info()"
   ]
  },
  {
   "cell_type": "code",
   "execution_count": 149,
   "id": "97c655e3-602d-44a5-8fe9-cb9008df5f08",
   "metadata": {},
   "outputs": [],
   "source": [
    "for year in range(0,period):\n",
    "    df_teams_copy[year] = pd.merge(df_teams_copy[year], acronym_state, on = ['Equipo','Acronimo'])"
   ]
  },
  {
   "cell_type": "code",
   "execution_count": 150,
   "id": "8877b4d9-1460-4647-9af8-83b5f95f88f5",
   "metadata": {},
   "outputs": [
    {
     "name": "stdout",
     "output_type": "stream",
     "text": [
      "<class 'pandas.core.frame.DataFrame'>\n",
      "Int64Index: 28 entries, 0 to 27\n",
      "Data columns (total 12 columns):\n",
      " #   Column                   Non-Null Count  Dtype  \n",
      "---  ------                   --------------  -----  \n",
      " 0   Equipo                   28 non-null     object \n",
      " 1   Cantidad_agentes_libres  28 non-null     int64  \n",
      " 2   Valor_contrato_total     28 non-null     int64  \n",
      " 3   Acronimo                 28 non-null     object \n",
      " 4   Victorias                28 non-null     int64  \n",
      " 5   Juegos totales           28 non-null     int64  \n",
      " 6   Playoffs                 28 non-null     int64  \n",
      " 7   Pennants won             28 non-null     int64  \n",
      " 8   WS ganadas               28 non-null     int64  \n",
      " 9   Promedio_victorias       28 non-null     float64\n",
      " 10  Estado                   28 non-null     object \n",
      " 11  Cantidad de equipos      28 non-null     int64  \n",
      "dtypes: float64(1), int64(8), object(3)\n",
      "memory usage: 2.8+ KB\n"
     ]
    }
   ],
   "source": [
    "df_teams_copy[7].info()"
   ]
  },
  {
   "cell_type": "code",
   "execution_count": 151,
   "id": "50adb678-9250-4232-ac75-20452301cebd",
   "metadata": {},
   "outputs": [
    {
     "name": "stdout",
     "output_type": "stream",
     "text": [
      "<class 'pandas.core.frame.DataFrame'>\n",
      "RangeIndex: 1036 entries, 0 to 1035\n",
      "Data columns (total 23 columns):\n",
      " #   Column                   Non-Null Count  Dtype  \n",
      "---  ------                   --------------  -----  \n",
      " 0   Jugador                  1036 non-null   object \n",
      " 1   Anio                     1036 non-null   object \n",
      " 2   Posicion                 1036 non-null   object \n",
      " 3   Acronimo                 1036 non-null   object \n",
      " 4   Sueldo_base              1036 non-null   int64  \n",
      " 5   Bono_por_firma           1036 non-null   int64  \n",
      " 6   Sueldo_regular           1036 non-null   int64  \n",
      " 7   Sueldo_ajustado          1036 non-null   int64  \n",
      " 8   Sueldo_porcentual        1036 non-null   float64\n",
      " 9   Pago_efectivo            1036 non-null   int64  \n",
      " 10  Valor_contrato_promedio  1036 non-null   int64  \n",
      " 11  Anios_de_contrato        1036 non-null   int64  \n",
      " 12  Valor_del_contrato       1036 non-null   int64  \n",
      " 13  Ganancias                1036 non-null   int64  \n",
      " 14  Anio_de_agente_libre     1036 non-null   int64  \n",
      " 15  Edad_al_firmar           1036 non-null   int64  \n",
      " 16  Edad                     1036 non-null   int64  \n",
      " 17  Peso                     1036 non-null   float64\n",
      " 18  Altura                   1036 non-null   float64\n",
      " 19  Antiguedad               1036 non-null   int64  \n",
      " 20  ln_Sueldo_base           1036 non-null   float64\n",
      " 21  ln_Sueldo_ajustado       1036 non-null   float64\n",
      " 22  ln_Sueldo_regular        1036 non-null   float64\n",
      "dtypes: float64(6), int64(13), object(4)\n",
      "memory usage: 186.3+ KB\n"
     ]
    }
   ],
   "source": [
    "df_salary_copy[7].info()"
   ]
  },
  {
   "cell_type": "markdown",
   "id": "066e1543-bd72-4158-ba01-d251129d40a2",
   "metadata": {},
   "source": [
    "Ahora, unamos las bases de datos sobre los equipos a las bases de datos de los salarios"
   ]
  },
  {
   "cell_type": "code",
   "execution_count": 152,
   "id": "941ae6dd-caef-49eb-bc0c-04ed6027807a",
   "metadata": {},
   "outputs": [],
   "source": [
    "for year in range(0,period):\n",
    "    df_salary_copy[year] = pd.merge(df_teams_copy[year], df_salary_copy[year], on = 'Acronimo')"
   ]
  },
  {
   "cell_type": "code",
   "execution_count": 153,
   "id": "dec7d105-53a9-4a16-9acb-fa05533118d9",
   "metadata": {},
   "outputs": [
    {
     "name": "stdout",
     "output_type": "stream",
     "text": [
      "<class 'pandas.core.frame.DataFrame'>\n",
      "Int64Index: 1001 entries, 0 to 1000\n",
      "Data columns (total 34 columns):\n",
      " #   Column                   Non-Null Count  Dtype  \n",
      "---  ------                   --------------  -----  \n",
      " 0   Equipo                   1001 non-null   object \n",
      " 1   Cantidad_agentes_libres  1001 non-null   int64  \n",
      " 2   Valor_contrato_total     1001 non-null   int64  \n",
      " 3   Acronimo                 1001 non-null   object \n",
      " 4   Victorias                1001 non-null   int64  \n",
      " 5   Juegos totales           1001 non-null   int64  \n",
      " 6   Playoffs                 1001 non-null   int64  \n",
      " 7   Pennants won             1001 non-null   int64  \n",
      " 8   WS ganadas               1001 non-null   int64  \n",
      " 9   Promedio_victorias       1001 non-null   float64\n",
      " 10  Estado                   1001 non-null   object \n",
      " 11  Cantidad de equipos      1001 non-null   int64  \n",
      " 12  Jugador                  1001 non-null   object \n",
      " 13  Anio                     1001 non-null   object \n",
      " 14  Posicion                 1001 non-null   object \n",
      " 15  Sueldo_base              1001 non-null   int64  \n",
      " 16  Bono_por_firma           1001 non-null   int64  \n",
      " 17  Sueldo_regular           1001 non-null   int64  \n",
      " 18  Sueldo_ajustado          1001 non-null   int64  \n",
      " 19  Sueldo_porcentual        1001 non-null   float64\n",
      " 20  Pago_efectivo            1001 non-null   int64  \n",
      " 21  Valor_contrato_promedio  1001 non-null   int64  \n",
      " 22  Anios_de_contrato        1001 non-null   int64  \n",
      " 23  Valor_del_contrato       1001 non-null   int64  \n",
      " 24  Ganancias                1001 non-null   int64  \n",
      " 25  Anio_de_agente_libre     1001 non-null   int64  \n",
      " 26  Edad_al_firmar           1001 non-null   int64  \n",
      " 27  Edad                     1001 non-null   int64  \n",
      " 28  Peso                     1001 non-null   float64\n",
      " 29  Altura                   1001 non-null   float64\n",
      " 30  Antiguedad               1001 non-null   int64  \n",
      " 31  ln_Sueldo_base           1001 non-null   float64\n",
      " 32  ln_Sueldo_ajustado       1001 non-null   float64\n",
      " 33  ln_Sueldo_regular        1001 non-null   float64\n",
      "dtypes: float64(7), int64(21), object(6)\n",
      "memory usage: 273.7+ KB\n"
     ]
    }
   ],
   "source": [
    "df_salary_copy[7].info()"
   ]
  },
  {
   "cell_type": "code",
   "execution_count": 154,
   "id": "d57e8852-ead1-4863-be23-b58da67fb3b4",
   "metadata": {},
   "outputs": [
    {
     "data": {
      "text/html": [
       "<div>\n",
       "<style scoped>\n",
       "    .dataframe tbody tr th:only-of-type {\n",
       "        vertical-align: middle;\n",
       "    }\n",
       "\n",
       "    .dataframe tbody tr th {\n",
       "        vertical-align: top;\n",
       "    }\n",
       "\n",
       "    .dataframe thead th {\n",
       "        text-align: right;\n",
       "    }\n",
       "</style>\n",
       "<table border=\"1\" class=\"dataframe\">\n",
       "  <thead>\n",
       "    <tr style=\"text-align: right;\">\n",
       "      <th></th>\n",
       "      <th>Equipo</th>\n",
       "      <th>Cantidad_agentes_libres</th>\n",
       "      <th>Valor_contrato_total</th>\n",
       "      <th>Acronimo</th>\n",
       "      <th>Victorias</th>\n",
       "      <th>Juegos totales</th>\n",
       "      <th>Playoffs</th>\n",
       "      <th>Pennants won</th>\n",
       "      <th>WS ganadas</th>\n",
       "      <th>Promedio_victorias</th>\n",
       "      <th>...</th>\n",
       "      <th>Ganancias</th>\n",
       "      <th>Anio_de_agente_libre</th>\n",
       "      <th>Edad_al_firmar</th>\n",
       "      <th>Edad</th>\n",
       "      <th>Peso</th>\n",
       "      <th>Altura</th>\n",
       "      <th>Antiguedad</th>\n",
       "      <th>ln_Sueldo_base</th>\n",
       "      <th>ln_Sueldo_ajustado</th>\n",
       "      <th>ln_Sueldo_regular</th>\n",
       "    </tr>\n",
       "  </thead>\n",
       "  <tbody>\n",
       "    <tr>\n",
       "      <th>0</th>\n",
       "      <td>Los Angeles Angels</td>\n",
       "      <td>4</td>\n",
       "      <td>321150000</td>\n",
       "      <td>LAA</td>\n",
       "      <td>89</td>\n",
       "      <td>162</td>\n",
       "      <td>10</td>\n",
       "      <td>1</td>\n",
       "      <td>1</td>\n",
       "      <td>0.549383</td>\n",
       "      <td>...</td>\n",
       "      <td>81521000</td>\n",
       "      <td>2015</td>\n",
       "      <td>29</td>\n",
       "      <td>32</td>\n",
       "      <td>215.16189</td>\n",
       "      <td>6.2415</td>\n",
       "      <td>3</td>\n",
       "      <td>16.951005</td>\n",
       "      <td>16.705882</td>\n",
       "      <td>17.080793</td>\n",
       "    </tr>\n",
       "    <tr>\n",
       "      <th>1</th>\n",
       "      <td>Los Angeles Angels</td>\n",
       "      <td>4</td>\n",
       "      <td>321150000</td>\n",
       "      <td>LAA</td>\n",
       "      <td>89</td>\n",
       "      <td>162</td>\n",
       "      <td>10</td>\n",
       "      <td>1</td>\n",
       "      <td>1</td>\n",
       "      <td>0.549383</td>\n",
       "      <td>...</td>\n",
       "      <td>102521000</td>\n",
       "      <td>2015</td>\n",
       "      <td>29</td>\n",
       "      <td>33</td>\n",
       "      <td>215.16189</td>\n",
       "      <td>6.2415</td>\n",
       "      <td>4</td>\n",
       "      <td>16.860033</td>\n",
       "      <td>17.001347</td>\n",
       "      <td>17.001347</td>\n",
       "    </tr>\n",
       "    <tr>\n",
       "      <th>2</th>\n",
       "      <td>Los Angeles Angels</td>\n",
       "      <td>4</td>\n",
       "      <td>321150000</td>\n",
       "      <td>LAA</td>\n",
       "      <td>89</td>\n",
       "      <td>162</td>\n",
       "      <td>10</td>\n",
       "      <td>1</td>\n",
       "      <td>1</td>\n",
       "      <td>0.549383</td>\n",
       "      <td>...</td>\n",
       "      <td>117550000</td>\n",
       "      <td>2013</td>\n",
       "      <td>32</td>\n",
       "      <td>35</td>\n",
       "      <td>205.00000</td>\n",
       "      <td>6.2000</td>\n",
       "      <td>3</td>\n",
       "      <td>16.733281</td>\n",
       "      <td>16.759950</td>\n",
       "      <td>16.759950</td>\n",
       "    </tr>\n",
       "    <tr>\n",
       "      <th>3</th>\n",
       "      <td>Los Angeles Angels</td>\n",
       "      <td>4</td>\n",
       "      <td>321150000</td>\n",
       "      <td>LAA</td>\n",
       "      <td>89</td>\n",
       "      <td>162</td>\n",
       "      <td>10</td>\n",
       "      <td>1</td>\n",
       "      <td>1</td>\n",
       "      <td>0.549383</td>\n",
       "      <td>...</td>\n",
       "      <td>135550000</td>\n",
       "      <td>2013</td>\n",
       "      <td>32</td>\n",
       "      <td>36</td>\n",
       "      <td>205.00000</td>\n",
       "      <td>6.2000</td>\n",
       "      <td>4</td>\n",
       "      <td>16.705882</td>\n",
       "      <td>16.733281</td>\n",
       "      <td>16.733281</td>\n",
       "    </tr>\n",
       "    <tr>\n",
       "      <th>4</th>\n",
       "      <td>Los Angeles Angels</td>\n",
       "      <td>4</td>\n",
       "      <td>321150000</td>\n",
       "      <td>LAA</td>\n",
       "      <td>89</td>\n",
       "      <td>162</td>\n",
       "      <td>10</td>\n",
       "      <td>1</td>\n",
       "      <td>1</td>\n",
       "      <td>0.549383</td>\n",
       "      <td>...</td>\n",
       "      <td>32342500</td>\n",
       "      <td>2017</td>\n",
       "      <td>29</td>\n",
       "      <td>29</td>\n",
       "      <td>210.00000</td>\n",
       "      <td>6.7000</td>\n",
       "      <td>0</td>\n",
       "      <td>16.454568</td>\n",
       "      <td>16.468753</td>\n",
       "      <td>16.468753</td>\n",
       "    </tr>\n",
       "  </tbody>\n",
       "</table>\n",
       "<p>5 rows × 34 columns</p>\n",
       "</div>"
      ],
      "text/plain": [
       "               Equipo  Cantidad_agentes_libres  Valor_contrato_total Acronimo  \\\n",
       "0  Los Angeles Angels                        4             321150000      LAA   \n",
       "1  Los Angeles Angels                        4             321150000      LAA   \n",
       "2  Los Angeles Angels                        4             321150000      LAA   \n",
       "3  Los Angeles Angels                        4             321150000      LAA   \n",
       "4  Los Angeles Angels                        4             321150000      LAA   \n",
       "\n",
       "   Victorias  Juegos totales  Playoffs  Pennants won  WS ganadas  \\\n",
       "0         89             162        10             1           1   \n",
       "1         89             162        10             1           1   \n",
       "2         89             162        10             1           1   \n",
       "3         89             162        10             1           1   \n",
       "4         89             162        10             1           1   \n",
       "\n",
       "   Promedio_victorias  ...  Ganancias  Anio_de_agente_libre Edad_al_firmar  \\\n",
       "0            0.549383  ...   81521000                  2015             29   \n",
       "1            0.549383  ...  102521000                  2015             29   \n",
       "2            0.549383  ...  117550000                  2013             32   \n",
       "3            0.549383  ...  135550000                  2013             32   \n",
       "4            0.549383  ...   32342500                  2017             29   \n",
       "\n",
       "  Edad       Peso  Altura  Antiguedad  ln_Sueldo_base  ln_Sueldo_ajustado  \\\n",
       "0   32  215.16189  6.2415           3       16.951005           16.705882   \n",
       "1   33  215.16189  6.2415           4       16.860033           17.001347   \n",
       "2   35  205.00000  6.2000           3       16.733281           16.759950   \n",
       "3   36  205.00000  6.2000           4       16.705882           16.733281   \n",
       "4   29  210.00000  6.7000           0       16.454568           16.468753   \n",
       "\n",
       "   ln_Sueldo_regular  \n",
       "0          17.080793  \n",
       "1          17.001347  \n",
       "2          16.759950  \n",
       "3          16.733281  \n",
       "4          16.468753  \n",
       "\n",
       "[5 rows x 34 columns]"
      ]
     },
     "execution_count": 154,
     "metadata": {},
     "output_type": "execute_result"
    }
   ],
   "source": [
    "df_salary_copy[1].head()"
   ]
  },
  {
   "cell_type": "code",
   "execution_count": 164,
   "id": "a934e492-74fd-44e3-9f5f-a02ff444603a",
   "metadata": {},
   "outputs": [
    {
     "data": {
      "text/plain": [
       "array(['2011', '2012'], dtype=object)"
      ]
     },
     "execution_count": 164,
     "metadata": {},
     "output_type": "execute_result"
    }
   ],
   "source": [
    "df_salary_copy[1]['Anio'].unique()"
   ]
  },
  {
   "cell_type": "code",
   "execution_count": 162,
   "id": "fa5dc6ae-8e57-4654-9e17-ecc0e21c37a2",
   "metadata": {},
   "outputs": [
    {
     "data": {
      "text/plain": [
       "array(['LAA', 'DET', 'MIA', 'PHI', 'LAD', 'STL', 'MIL', 'COL', 'MIN',\n",
       "       'NYM', 'TEX', 'WSH', 'ARI', 'TB', 'OAK', 'PIT', 'CHC', 'NYY',\n",
       "       'BAL', 'BOS', 'CIN', 'KC', 'SF', 'ATL', 'CHW', 'HOU'], dtype=object)"
      ]
     },
     "execution_count": 162,
     "metadata": {},
     "output_type": "execute_result"
    }
   ],
   "source": [
    "df_salary_copy[1]['Acronimo'].unique()"
   ]
  },
  {
   "cell_type": "code",
   "execution_count": 155,
   "id": "0d98514d-8ac5-4d4a-8f21-71a2a92d5d63",
   "metadata": {},
   "outputs": [
    {
     "data": {
      "text/html": [
       "<div>\n",
       "<style scoped>\n",
       "    .dataframe tbody tr th:only-of-type {\n",
       "        vertical-align: middle;\n",
       "    }\n",
       "\n",
       "    .dataframe tbody tr th {\n",
       "        vertical-align: top;\n",
       "    }\n",
       "\n",
       "    .dataframe thead th {\n",
       "        text-align: right;\n",
       "    }\n",
       "</style>\n",
       "<table border=\"1\" class=\"dataframe\">\n",
       "  <thead>\n",
       "    <tr style=\"text-align: right;\">\n",
       "      <th></th>\n",
       "      <th>Acronimo</th>\n",
       "      <th>Ingresos_equipo</th>\n",
       "      <th>Anio</th>\n",
       "    </tr>\n",
       "  </thead>\n",
       "  <tbody>\n",
       "    <tr>\n",
       "      <th>0</th>\n",
       "      <td>OAK</td>\n",
       "      <td>0.034385</td>\n",
       "      <td>2012</td>\n",
       "    </tr>\n",
       "    <tr>\n",
       "      <th>1</th>\n",
       "      <td>WSH</td>\n",
       "      <td>0.252520</td>\n",
       "      <td>2012</td>\n",
       "    </tr>\n",
       "    <tr>\n",
       "      <th>2</th>\n",
       "      <td>TB</td>\n",
       "      <td>0.088863</td>\n",
       "      <td>2012</td>\n",
       "    </tr>\n",
       "    <tr>\n",
       "      <th>3</th>\n",
       "      <td>CIN</td>\n",
       "      <td>0.205247</td>\n",
       "      <td>2012</td>\n",
       "    </tr>\n",
       "    <tr>\n",
       "      <th>4</th>\n",
       "      <td>BAL</td>\n",
       "      <td>0.164787</td>\n",
       "      <td>2012</td>\n",
       "    </tr>\n",
       "  </tbody>\n",
       "</table>\n",
       "</div>"
      ],
      "text/plain": [
       "  Acronimo  Ingresos_equipo  Anio\n",
       "0      OAK         0.034385  2012\n",
       "1      WSH         0.252520  2012\n",
       "2       TB         0.088863  2012\n",
       "3      CIN         0.205247  2012\n",
       "4      BAL         0.164787  2012"
      ]
     },
     "execution_count": 155,
     "metadata": {},
     "output_type": "execute_result"
    }
   ],
   "source": [
    "teams_revenue[1].head()"
   ]
  },
  {
   "cell_type": "code",
   "execution_count": 158,
   "id": "8931ce46-109a-451a-befc-8a8b410e9bf3",
   "metadata": {},
   "outputs": [
    {
     "data": {
      "text/plain": [
       "array(['OAK', 'WSH', 'TB', 'CIN', 'BAL', 'ATL', 'TEX', 'STL', 'MIL',\n",
       "       'ARI', 'CHW', 'SF', 'PIT', 'SD', 'LAA', 'KC', 'DET', 'LAD', 'NYY',\n",
       "       'TOR', 'SEA', 'CLE', 'COL', 'NYM', 'MIA', 'MIN', 'PHI', 'HOU',\n",
       "       'BOS', 'CHC'], dtype=object)"
      ]
     },
     "execution_count": 158,
     "metadata": {},
     "output_type": "execute_result"
    }
   ],
   "source": [
    "teams_revenue[1]['Acronimo'].unique()"
   ]
  },
  {
   "cell_type": "code",
   "execution_count": 165,
   "id": "9ff6ca15-b7e8-4e78-9f66-c3a6b4a246bd",
   "metadata": {},
   "outputs": [],
   "source": [
    "for year in range(0,period):\n",
    "    df_salary_copy[year] = pd.merge(teams_revenue[year], df_salary_copy[year], on =  'Acronimo')"
   ]
  },
  {
   "cell_type": "code",
   "execution_count": 167,
   "id": "8f94e162-bc62-486c-a05a-5dac73938b2f",
   "metadata": {},
   "outputs": [
    {
     "name": "stdout",
     "output_type": "stream",
     "text": [
      "<class 'pandas.core.frame.DataFrame'>\n",
      "Int64Index: 1930 entries, 0 to 1929\n",
      "Data columns (total 36 columns):\n",
      " #   Column                   Non-Null Count  Dtype  \n",
      "---  ------                   --------------  -----  \n",
      " 0   Acronimo                 1930 non-null   object \n",
      " 1   Ingresos_equipo          1930 non-null   float64\n",
      " 2   Anio_x                   1930 non-null   int64  \n",
      " 3   Equipo                   1930 non-null   object \n",
      " 4   Cantidad_agentes_libres  1930 non-null   int64  \n",
      " 5   Valor_contrato_total     1930 non-null   int64  \n",
      " 6   Victorias                1930 non-null   int64  \n",
      " 7   Juegos totales           1930 non-null   int64  \n",
      " 8   Playoffs                 1930 non-null   int64  \n",
      " 9   Pennants won             1930 non-null   int64  \n",
      " 10  WS ganadas               1930 non-null   int64  \n",
      " 11  Promedio_victorias       1930 non-null   float64\n",
      " 12  Estado                   1930 non-null   object \n",
      " 13  Cantidad de equipos      1930 non-null   int64  \n",
      " 14  Jugador                  1930 non-null   object \n",
      " 15  Anio_y                   1930 non-null   object \n",
      " 16  Posicion                 1930 non-null   object \n",
      " 17  Sueldo_base              1930 non-null   int64  \n",
      " 18  Bono_por_firma           1930 non-null   int64  \n",
      " 19  Sueldo_regular           1930 non-null   int64  \n",
      " 20  Sueldo_ajustado          1930 non-null   int64  \n",
      " 21  Sueldo_porcentual        1930 non-null   float64\n",
      " 22  Pago_efectivo            1930 non-null   int64  \n",
      " 23  Valor_contrato_promedio  1930 non-null   int64  \n",
      " 24  Anios_de_contrato        1930 non-null   int64  \n",
      " 25  Valor_del_contrato       1930 non-null   int64  \n",
      " 26  Ganancias                1930 non-null   int64  \n",
      " 27  Anio_de_agente_libre     1930 non-null   int64  \n",
      " 28  Edad_al_firmar           1930 non-null   int64  \n",
      " 29  Edad                     1930 non-null   int64  \n",
      " 30  Peso                     1930 non-null   float64\n",
      " 31  Altura                   1930 non-null   float64\n",
      " 32  Antiguedad               1930 non-null   int64  \n",
      " 33  ln_Sueldo_base           1930 non-null   float64\n",
      " 34  ln_Sueldo_ajustado       1930 non-null   float64\n",
      " 35  ln_Sueldo_regular        1930 non-null   float64\n",
      "dtypes: float64(8), int64(22), object(6)\n",
      "memory usage: 557.9+ KB\n"
     ]
    }
   ],
   "source": [
    "df_salary_copy[1].info()"
   ]
  },
  {
   "cell_type": "markdown",
   "id": "feca497a-c67b-4377-a3fe-96c76206e210",
   "metadata": {},
   "source": [
    "Debido a que la mayoría de los jugadores juega tanto en la ofensiva como la defensiva es que tenemos que borrar los duplicados de la columna de la posición."
   ]
  },
  {
   "cell_type": "code",
   "execution_count": 77,
   "id": "a8a6018a-494b-475b-9ed5-fa0bcead924a",
   "metadata": {},
   "outputs": [],
   "source": [
    "for year in range(0,period):\n",
    "    df_hitting_copy[year] = pd.merge(df_hitting_copy[year], df_salary_copy[year], on = 'Jugador')\n",
    "    df_pitching_copy[year] = pd.merge(df_pitching_copy[year], df_salary_copy[year], on = 'Jugador')"
   ]
  },
  {
   "cell_type": "code",
   "execution_count": 78,
   "id": "b6eafa64-45a9-4973-9ad1-6800fa936423",
   "metadata": {},
   "outputs": [],
   "source": [
    "for year in range(0,period):\n",
    "    df_pitching_copy[year]['Porcentaje_juegos'] = df_pitching_copy[year]['Juegos']/df_pitching_copy[year]['Juegos totales']"
   ]
  },
  {
   "cell_type": "code",
   "execution_count": 79,
   "id": "008c64df-e872-4a38-a58a-9a2e4ae4c44c",
   "metadata": {},
   "outputs": [],
   "source": [
    "for year in range(0,period):\n",
    "    df_hitting_copy[year]['Ingresos_equipo_2'] = np.power(df_hitting_copy[year]['Ingresos_equipo'],2)\n",
    "    df_pitching_copy[year]['Ingresos_equipo_2'] = np.power(df_pitching_copy[year]['Ingresos_equipo'],2)"
   ]
  },
  {
   "cell_type": "code",
   "execution_count": 80,
   "id": "04ca8f87-b95d-4ca9-98c4-34d8f39503a3",
   "metadata": {},
   "outputs": [
    {
     "name": "stdout",
     "output_type": "stream",
     "text": [
      "<class 'pandas.core.frame.DataFrame'>\n",
      "Index: 0 entries\n",
      "Data columns (total 66 columns):\n",
      " #   Column                              Non-Null Count  Dtype  \n",
      "---  ------                              --------------  -----  \n",
      " 0   Jugador                             0 non-null      object \n",
      " 1   Juegos                              0 non-null      int64  \n",
      " 2   Porcentaje_juegos                   0 non-null      float64\n",
      " 3   Juegos_iniciados                    0 non-null      int64  \n",
      " 4   Porcentaje_juegos_iniciados         0 non-null      float64\n",
      " 5   At_bats                             0 non-null      int64  \n",
      " 6   Bateos                              0 non-null      int64  \n",
      " 7   Dobles                              0 non-null      int64  \n",
      " 8   Triples                             0 non-null      int64  \n",
      " 9   Home_runs                           0 non-null      int64  \n",
      " 10  Runs_batted_in                      0 non-null      int64  \n",
      " 11  Bateos_promedio                     0 non-null      float64\n",
      " 12  Porcentaje_on_base                  0 non-null      float64\n",
      " 13  Porcentaje_slugging                 0 non-null      float64\n",
      " 14  Porcentaje_On_base_plus_slugging    0 non-null      float64\n",
      " 15  WAR                                 0 non-null      float64\n",
      " 16  TVS                                 0 non-null      float64\n",
      " 17  Juegos_iniciados_2                  0 non-null      int64  \n",
      " 18  Porcentaje_juegos_iniciados_2       0 non-null      float64\n",
      " 19  At_bats_2                           0 non-null      int64  \n",
      " 20  Bateos_2                            0 non-null      int64  \n",
      " 21  Dobles_2                            0 non-null      int64  \n",
      " 22  Triples_2                           0 non-null      int64  \n",
      " 23  Home_runs_2                         0 non-null      int64  \n",
      " 24  Runs_batted_in_2                    0 non-null      int64  \n",
      " 25  Bateos_promedio_2                   0 non-null      float64\n",
      " 26  Porcentaje_on_base_2                0 non-null      float64\n",
      " 27  Porcentaje_slugging_2               0 non-null      float64\n",
      " 28  TVS_2                               0 non-null      float64\n",
      " 29  Porcentaje_On_base_plus_slugging_2  0 non-null      float64\n",
      " 30  WAR_2                               0 non-null      float64\n",
      " 31  Acronimo                            0 non-null      object \n",
      " 32  Ingresos_equipo                     0 non-null      float64\n",
      " 33  Anio                                0 non-null      object \n",
      " 34  Equipo                              0 non-null      object \n",
      " 35  Cantidad_agentes_libres             0 non-null      int64  \n",
      " 36  Valor_contrato_total                0 non-null      int64  \n",
      " 37  Victorias                           0 non-null      int64  \n",
      " 38  Juegos totales                      0 non-null      int64  \n",
      " 39  Playoffs                            0 non-null      int64  \n",
      " 40  Pennants won                        0 non-null      int64  \n",
      " 41  WS ganadas                          0 non-null      int64  \n",
      " 42  Promedio_victorias                  0 non-null      float64\n",
      " 43  Estado                              0 non-null      object \n",
      " 44  Cantidad de equipos                 0 non-null      int64  \n",
      " 45  Posicion                            0 non-null      object \n",
      " 46  Sueldo_base                         0 non-null      int64  \n",
      " 47  Bono_por_firma                      0 non-null      int64  \n",
      " 48  Sueldo_regular                      0 non-null      int64  \n",
      " 49  Sueldo_ajustado                     0 non-null      int64  \n",
      " 50  Sueldo_porcentual                   0 non-null      float64\n",
      " 51  Pago_efectivo                       0 non-null      int64  \n",
      " 52  Valor_contrato_promedio             0 non-null      int64  \n",
      " 53  Anios_de_contrato                   0 non-null      int64  \n",
      " 54  Valor_del_contrato                  0 non-null      int64  \n",
      " 55  Ganancias                           0 non-null      int64  \n",
      " 56  Anio_de_agente_libre                0 non-null      int64  \n",
      " 57  Edad_al_firmar                      0 non-null      int64  \n",
      " 58  Edad                                0 non-null      int64  \n",
      " 59  Peso                                0 non-null      float64\n",
      " 60  Altura                              0 non-null      float64\n",
      " 61  Antiguedad                          0 non-null      int64  \n",
      " 62  ln_Sueldo_base                      0 non-null      float64\n",
      " 63  ln_Sueldo_ajustado                  0 non-null      float64\n",
      " 64  ln_Sueldo_regular                   0 non-null      float64\n",
      " 65  Ingresos_equipo_2                   0 non-null      float64\n",
      "dtypes: float64(24), int64(36), object(6)\n",
      "memory usage: 0.0+ bytes\n"
     ]
    }
   ],
   "source": [
    "df_hitting_copy[3].info()"
   ]
  },
  {
   "cell_type": "code",
   "execution_count": 81,
   "id": "2cfaba38-d0fb-4ac8-87ae-677db8edbef8",
   "metadata": {},
   "outputs": [
    {
     "name": "stdout",
     "output_type": "stream",
     "text": [
      "<class 'pandas.core.frame.DataFrame'>\n",
      "Index: 0 entries\n",
      "Data columns (total 71 columns):\n",
      " #   Column                   Non-Null Count  Dtype  \n",
      "---  ------                   --------------  -----  \n",
      " 0   Jugador                  0 non-null      object \n",
      " 1   Juegos                   0 non-null      int64  \n",
      " 2   Juegos_iniciados         0 non-null      int64  \n",
      " 3   Inning_pitched           0 non-null      float64\n",
      " 4   Bateos                   0 non-null      int64  \n",
      " 5   Carreras                 0 non-null      int64  \n",
      " 6   Carreras_ganadas         0 non-null      int64  \n",
      " 7   Walks                    0 non-null      int64  \n",
      " 8   Strike_outs              0 non-null      int64  \n",
      " 9   Wins                     0 non-null      int64  \n",
      " 10  Losses                   0 non-null      int64  \n",
      " 11  Saves                    0 non-null      int64  \n",
      " 12  WHIP                     0 non-null      float64\n",
      " 13  ERA                      0 non-null      float64\n",
      " 14  WAR                      0 non-null      float64\n",
      " 15  TVS                      0 non-null      float64\n",
      " 16  Dominio                  0 non-null      float64\n",
      " 17  Control                  0 non-null      float64\n",
      " 18  Comando                  0 non-null      float64\n",
      " 19  Inning_pitched_2         0 non-null      float64\n",
      " 20  Bateos_2                 0 non-null      int64  \n",
      " 21  Carreras_2               0 non-null      int64  \n",
      " 22  Carreras_ganadas_2       0 non-null      int64  \n",
      " 23  Walks_2                  0 non-null      int64  \n",
      " 24  Strike_outs_2            0 non-null      int64  \n",
      " 25  Wins_2                   0 non-null      int64  \n",
      " 26  Losses_2                 0 non-null      int64  \n",
      " 27  Saves_2                  0 non-null      int64  \n",
      " 28  WHIP_2                   0 non-null      float64\n",
      " 29  ERA_2                    0 non-null      float64\n",
      " 30  WAR_2                    0 non-null      float64\n",
      " 31  TVS_2                    0 non-null      float64\n",
      " 32  Dominio_2                0 non-null      float64\n",
      " 33  Control_2                0 non-null      float64\n",
      " 34  Comando_2                0 non-null      float64\n",
      " 35  Acronimo                 0 non-null      object \n",
      " 36  Ingresos_equipo          0 non-null      float64\n",
      " 37  Anio                     0 non-null      object \n",
      " 38  Equipo                   0 non-null      object \n",
      " 39  Cantidad_agentes_libres  0 non-null      int64  \n",
      " 40  Valor_contrato_total     0 non-null      int64  \n",
      " 41  Victorias                0 non-null      int64  \n",
      " 42  Juegos totales           0 non-null      int64  \n",
      " 43  Playoffs                 0 non-null      int64  \n",
      " 44  Pennants won             0 non-null      int64  \n",
      " 45  WS ganadas               0 non-null      int64  \n",
      " 46  Promedio_victorias       0 non-null      float64\n",
      " 47  Estado                   0 non-null      object \n",
      " 48  Cantidad de equipos      0 non-null      int64  \n",
      " 49  Posicion                 0 non-null      object \n",
      " 50  Sueldo_base              0 non-null      int64  \n",
      " 51  Bono_por_firma           0 non-null      int64  \n",
      " 52  Sueldo_regular           0 non-null      int64  \n",
      " 53  Sueldo_ajustado          0 non-null      int64  \n",
      " 54  Sueldo_porcentual        0 non-null      float64\n",
      " 55  Pago_efectivo            0 non-null      int64  \n",
      " 56  Valor_contrato_promedio  0 non-null      int64  \n",
      " 57  Anios_de_contrato        0 non-null      int64  \n",
      " 58  Valor_del_contrato       0 non-null      int64  \n",
      " 59  Ganancias                0 non-null      int64  \n",
      " 60  Anio_de_agente_libre     0 non-null      int64  \n",
      " 61  Edad_al_firmar           0 non-null      int64  \n",
      " 62  Edad                     0 non-null      int64  \n",
      " 63  Peso                     0 non-null      float64\n",
      " 64  Altura                   0 non-null      float64\n",
      " 65  Antiguedad               0 non-null      int64  \n",
      " 66  ln_Sueldo_base           0 non-null      float64\n",
      " 67  ln_Sueldo_ajustado       0 non-null      float64\n",
      " 68  ln_Sueldo_regular        0 non-null      float64\n",
      " 69  Porcentaje_juegos        0 non-null      float64\n",
      " 70  Ingresos_equipo_2        0 non-null      float64\n",
      "dtypes: float64(26), int64(39), object(6)\n",
      "memory usage: 0.0+ bytes\n"
     ]
    }
   ],
   "source": [
    "df_pitching_copy[3].info()"
   ]
  },
  {
   "cell_type": "markdown",
   "id": "232a3064-8d18-481b-b554-aff041acb9ed",
   "metadata": {},
   "source": [
    "Para facilitar la observación de las trnasformaciones de manera más eficiente, ordenemos alfabéticamente la base de datos de acuerdo al nombre de las columnas."
   ]
  },
  {
   "cell_type": "code",
   "execution_count": 82,
   "id": "9011a408-8684-4022-8002-e99f9064a871",
   "metadata": {},
   "outputs": [],
   "source": [
    "for year in range(0,period):\n",
    "    # Ordenando alfabéticamente\n",
    "    df_salary_copy[year].sort_index(axis = 1, inplace = True)\n",
    "    df_hitting_copy[year].sort_index(axis = 1, inplace = True)\n",
    "    df_pitching_copy[year].sort_index(axis = 1, inplace = True)\n",
    "    df_free_agents_copy[year].sort_index(axis = 1, inplace = True)\n",
    "    \n",
    "    # Reiniciando los índices\n",
    "    df_salary_copy[year].reset_index(drop = True, inplace = True)\n",
    "    df_hitting_copy[year].reset_index(drop = True, inplace = True)\n",
    "    df_pitching_copy[year].reset_index(drop = True, inplace = True)\n",
    "    df_free_agents_copy[year].reset_index(drop = True, inplace = True)"
   ]
  },
  {
   "cell_type": "markdown",
   "id": "3dc4cb4e-7ccb-44e7-bd00-85b651bb6953",
   "metadata": {},
   "source": [
    "## Variables del periodo t-1\n",
    "\n",
    "Lo que haremos será un *merge* de las bases de datos del año $t$ con el año $t-1$ sobre los jugadores. La razón de esto es que solo nos interesan los jugadores que han sido agentes libres por más de un año.\n",
    "\n",
    "Si la primera base de datos es del año 2011, entonces tendremos que empezar en el año 2012. Creemos los dataframes que contendrán los datos para el modelo. Para que no se sobrepongan todos los periodos, crearemos dataframes auxiliares para guardar los nuevos datos"
   ]
  },
  {
   "cell_type": "code",
   "execution_count": 83,
   "id": "a1abebdf-9793-48fe-ac11-d6b2b1d100b1",
   "metadata": {},
   "outputs": [],
   "source": [
    "hitting_merge = ['Juegos_iniciados', 'Porcentaje_juegos_iniciados', 'At_bats', 'Bateos',\n",
    "                 'Dobles', 'Triples', 'Home_runs', 'Runs-batted-in', 'Bateos_promedio',\n",
    "                 'Porcentaje_on-base', 'Porcentaje_slugging', 'TVS',\n",
    "                 'Porcentaje_On_base_plus_slugging', 'WAR',\n",
    "                 'Juegos_iniciados_2', 'Porcentaje_juegos_iniciados_2', 'At_bats_2', 'Bateos_2',\n",
    "                 'Dobles_2', 'Triples_2', 'Home_runs_2', 'Runs_batted_in_2', 'Bateos_promedio_2',\n",
    "                 'Porcentaje_on_base_2', 'Porcentaje_slugging_2', 'TVS_2',\n",
    "                 'Porcentaje_On_base_plus_slugging_2', 'WAR_2']\t\n",
    "pitching_merge = ['Inning_pitched', 'Bateos_en_contra', 'Carreras_en_contra',\n",
    "                  'Carreras_ganadas', 'Walks', 'Strike_outs', 'Wins', 'Losses',\n",
    "                  'Saves', 'WHIP', 'ERA', 'WAR', 'TVS', 'Dominio', 'Control',\n",
    "                  'Comando',\n",
    "                  'Inning_pitched_2', 'Bateos_2', 'Carreras_2',\n",
    "                  'Carreras_ganadas_2', 'Walks_2', 'Strike_outs_2', 'Wins_2', 'Losses_2',\n",
    "                  'Saves_2', 'WHIP_2', 'ERA_2', 'WAR_2', 'TVS_2', 'Dominio_2', 'Control_2',\n",
    "                  'Comando_2']"
   ]
  },
  {
   "cell_type": "code",
   "execution_count": 84,
   "id": "30cfea92-2c1b-48c2-b127-d91b0814e070",
   "metadata": {},
   "outputs": [],
   "source": [
    "df_hitters_copy = [None]*period\n",
    "df_pitchers_copy = [None]*period"
   ]
  },
  {
   "cell_type": "code",
   "execution_count": 85,
   "id": "b0412749-b91a-4b9e-8bea-29b891a81314",
   "metadata": {},
   "outputs": [],
   "source": [
    "for year in range(0,period):\n",
    "    df_hitters_copy[year] = df_hitting_copy[year].copy()\n",
    "    df_pitchers_copy[year] = df_pitching_copy[year].copy()"
   ]
  },
  {
   "cell_type": "code",
   "execution_count": 86,
   "id": "01361608-edf0-4ad6-8901-12e57f92f32e",
   "metadata": {},
   "outputs": [],
   "source": [
    "for year in range(1,period):    \n",
    "    df_hitting_copy[year] = pd.merge(df_hitters_copy[year], df_hitters_copy[year-1], on = 'Jugador')\n",
    "    df_pitching_copy[year] = pd.merge(df_pitchers_copy[year], df_pitchers_copy[year-1], on = 'Jugador')"
   ]
  },
  {
   "cell_type": "markdown",
   "id": "b260729f-1c05-4cfa-8e13-d2473155c871",
   "metadata": {},
   "source": [
    "A continuación se verifica que la cantidad de columnas sea la misma, salvo por el primer periodo"
   ]
  },
  {
   "cell_type": "code",
   "execution_count": 87,
   "id": "2e990c5e-6602-4754-a754-1e74abc1fc00",
   "metadata": {},
   "outputs": [
    {
     "data": {
      "text/plain": [
       "'for name in df_pitching_copy[11].columns:\\n    print(name)'"
      ]
     },
     "execution_count": 87,
     "metadata": {},
     "output_type": "execute_result"
    }
   ],
   "source": [
    "\"\"\"for name in df_pitching_copy[11].columns:\n",
    "    print(name)\"\"\""
   ]
  },
  {
   "cell_type": "code",
   "execution_count": 88,
   "id": "2e9a1699-9c80-4b80-aeba-ed31cf79f890",
   "metadata": {},
   "outputs": [
    {
     "name": "stdout",
     "output_type": "stream",
     "text": [
      "(66,)\n",
      "(131,)\n",
      "(131,)\n",
      "(131,)\n",
      "(131,)\n",
      "(131,)\n",
      "(131,)\n",
      "(131,)\n",
      "(131,)\n",
      "(131,)\n",
      "(131,)\n",
      "(131,)\n",
      "(71,)\n",
      "(141,)\n",
      "(141,)\n",
      "(141,)\n",
      "(141,)\n",
      "(141,)\n",
      "(141,)\n",
      "(141,)\n",
      "(141,)\n",
      "(141,)\n",
      "(141,)\n",
      "(141,)\n"
     ]
    }
   ],
   "source": [
    "for year in range(0,period):\n",
    "    print(df_hitting_copy[year].columns.shape)\n",
    "    \n",
    "for year in range(0,period):    \n",
    "    print(df_pitching_copy[year].columns.shape)"
   ]
  },
  {
   "cell_type": "code",
   "execution_count": 89,
   "id": "b557b734-c6f5-4b1c-9d8f-e69c67582881",
   "metadata": {},
   "outputs": [],
   "source": [
    "for year in range(1,period):       \n",
    "    df_pitching_copy[year].columns = df_pitching_copy[year].columns.str.replace('_x', '_t')\n",
    "    df_pitching_copy[year].columns = df_pitching_copy[year].columns.str.replace('_y', '_t_1')\n",
    "    df_pitching_copy[year].columns = df_pitching_copy[year].columns.str.replace('-', '_')\n",
    "    df_pitching_copy[year].columns = df_pitching_copy[year].columns.str.replace(' ', '_')\n",
    "    df_pitching_copy[year].drop(['ln_Sueldo_base_t_1', 'ln_Sueldo_ajustado_t_1', 'ln_Sueldo_regular_t_1'],\n",
    "                           axis = 1, inplace = True)\n",
    "    df_pitching_copy[year] = df_pitching_copy[year].sort_values(by = 'Jugador', ascending = True)\n",
    "    df_pitching_copy[year].reset_index(drop = True, inplace = True)\n",
    "    \n",
    "    df_hitting_copy[year].columns = df_hitting_copy[year].columns.str.replace('_x', '_t')\n",
    "    df_hitting_copy[year].columns = df_hitting_copy[year].columns.str.replace('_y', '_t_1')\n",
    "    df_hitting_copy[year].columns = df_hitting_copy[year].columns.str.replace('-', '_')\n",
    "    df_hitting_copy[year].columns = df_hitting_copy[year].columns.str.replace(' ', '_')\n",
    "    df_hitting_copy[year].drop(['ln_Sueldo_base_t_1', 'ln_Sueldo_ajustado_t_1', 'ln_Sueldo_regular_t_1'],\n",
    "                          axis = 1, inplace = True)\n",
    "    df_hitting_copy[year] = df_hitting_copy[year].sort_values(by = 'Jugador', ascending = True)\n",
    "    df_hitting_copy[year].reset_index(drop = True, inplace = True)\n",
    "    \n",
    "    # Reordenando las columnas\n",
    "    df_hitting_copy[year].sort_index(axis = 1, inplace = True)\n",
    "    df_pitching_copy[year].sort_index(axis = 1, inplace = True)"
   ]
  },
  {
   "cell_type": "code",
   "execution_count": 90,
   "id": "ce73ede2-17e5-4e9e-a27f-3ceac8059936",
   "metadata": {},
   "outputs": [
    {
     "name": "stdout",
     "output_type": "stream",
     "text": [
      "Acronimo_t\n",
      "Acronimo_t_1\n",
      "Altura_t\n",
      "Altura_t_1\n",
      "Anio_de_agente_libre_t\n",
      "Anio_de_agente_libre_t_1\n",
      "Anio_t\n",
      "Anio_t_1\n",
      "Anios_de_contrato_t\n",
      "Anios_de_contrato_t_1\n",
      "Antiguedad_t\n",
      "Antiguedad_t_1\n",
      "Bateos_2_t\n",
      "Bateos_2_t_1\n",
      "Bateos_t\n",
      "Bateos_t_1\n",
      "Bono_por_firma_t\n",
      "Bono_por_firma_t_1\n",
      "Cantidad_agentes_libres_t\n",
      "Cantidad_agentes_libres_t_1\n",
      "Cantidad_de_equipos_t\n",
      "Cantidad_de_equipos_t_1\n",
      "Carreras_2_t\n",
      "Carreras_2_t_1\n",
      "Carreras_ganadas_2_t\n",
      "Carreras_ganadas_2_t_1\n",
      "Carreras_ganadas_t\n",
      "Carreras_ganadas_t_1\n",
      "Carreras_t\n",
      "Carreras_t_1\n",
      "Comando_2_t\n",
      "Comando_2_t_1\n",
      "Comando_t\n",
      "Comando_t_1\n",
      "Control_2_t\n",
      "Control_2_t_1\n",
      "Control_t\n",
      "Control_t_1\n",
      "Dominio_2_t\n",
      "Dominio_2_t_1\n",
      "Dominio_t\n",
      "Dominio_t_1\n",
      "ERA_2_t\n",
      "ERA_2_t_1\n",
      "ERA_t\n",
      "ERA_t_1\n",
      "Edad_al_firmar_t\n",
      "Edad_al_firmar_t_1\n",
      "Edad_t\n",
      "Edad_t_1\n",
      "Equipo_t\n",
      "Equipo_t_1\n",
      "Estado_t\n",
      "Estado_t_1\n",
      "Ganancias_t\n",
      "Ganancias_t_1\n",
      "Ingresos_equipo_2_t\n",
      "Ingresos_equipo_2_t_1\n",
      "Ingresos_equipo_t\n",
      "Ingresos_equipo_t_1\n",
      "Inning_pitched_2_t\n",
      "Inning_pitched_2_t_1\n",
      "Inning_pitched_t\n",
      "Inning_pitched_t_1\n",
      "Juegos_iniciados_t\n",
      "Juegos_iniciados_t_1\n",
      "Juegos_t\n",
      "Juegos_t_1\n",
      "Juegos_totales_t\n",
      "Juegos_totales_t_1\n",
      "Jugador\n",
      "Losses_2_t\n",
      "Losses_2_t_1\n",
      "Losses_t\n",
      "Losses_t_1\n",
      "Pago_efectivo_t\n",
      "Pago_efectivo_t_1\n",
      "Pennants_won_t\n",
      "Pennants_won_t_1\n",
      "Peso_t\n",
      "Peso_t_1\n",
      "Playoffs_t\n",
      "Playoffs_t_1\n",
      "Porcentaje_juegos_t\n",
      "Porcentaje_juegos_t_1\n",
      "Posicion_t\n",
      "Posicion_t_1\n",
      "Promedio_victorias_t\n",
      "Promedio_victorias_t_1\n",
      "Saves_2_t\n",
      "Saves_2_t_1\n",
      "Saves_t\n",
      "Saves_t_1\n",
      "Strike_outs_2_t\n",
      "Strike_outs_2_t_1\n",
      "Strike_outs_t\n",
      "Strike_outs_t_1\n",
      "Sueldo_ajustado_t\n",
      "Sueldo_ajustado_t_1\n",
      "Sueldo_base_t\n",
      "Sueldo_base_t_1\n",
      "Sueldo_porcentual_t\n",
      "Sueldo_porcentual_t_1\n",
      "Sueldo_regular_t\n",
      "Sueldo_regular_t_1\n",
      "TVS_2_t\n",
      "TVS_2_t_1\n",
      "TVS_t\n",
      "TVS_t_1\n",
      "Valor_contrato_promedio_t\n",
      "Valor_contrato_promedio_t_1\n",
      "Valor_contrato_total_t\n",
      "Valor_contrato_total_t_1\n",
      "Valor_del_contrato_t\n",
      "Valor_del_contrato_t_1\n",
      "Victorias_t\n",
      "Victorias_t_1\n",
      "WAR_2_t\n",
      "WAR_2_t_1\n",
      "WAR_t\n",
      "WAR_t_1\n",
      "WHIP_2_t\n",
      "WHIP_2_t_1\n",
      "WHIP_t\n",
      "WHIP_t_1\n",
      "WS_ganadas_t\n",
      "WS_ganadas_t_1\n",
      "Walks_2_t\n",
      "Walks_2_t_1\n",
      "Walks_t\n",
      "Walks_t_1\n",
      "Wins_2_t\n",
      "Wins_2_t_1\n",
      "Wins_t\n",
      "Wins_t_1\n",
      "ln_Sueldo_ajustado_t\n",
      "ln_Sueldo_base_t\n",
      "ln_Sueldo_regular_t\n"
     ]
    }
   ],
   "source": [
    "for name in df_pitching_copy[11].columns:\n",
    "    print(name)"
   ]
  },
  {
   "cell_type": "markdown",
   "id": "57213907-5fa5-445b-8161-a4ae3c9a8ffd",
   "metadata": {},
   "source": [
    "Debido a que muchas de las variables del periodo $t_1$ pueden funcionar como controles más realistas, se optarán por dejarlas a excepción de la columna que contiene el dato del año al que hace referencia el dataframe del periodo $t_1$, es decir, la columna *Anio_t_1*. Esto se hará para *pitchers* y *hitters*. Por razones análogas, también de omitirá la columna que indica la cantidad de equipos en determinado estado ya que en el periodo de análisis es invariante.\n",
    "\n",
    "Para facilitar la escritura del código, entenderemos la columna *Anio* como la columna *Anio_t*."
   ]
  },
  {
   "cell_type": "code",
   "execution_count": 91,
   "id": "80bafcb7-bd51-4dda-92d5-0f89c12e7ead",
   "metadata": {},
   "outputs": [],
   "source": [
    "for year in range(1,period):\n",
    "    df_pitching_copy[year].drop(['Anio_t_1', 'Estado_t_1', 'Edad_t_1'],\n",
    "                           axis = 1, inplace = True)\n",
    "    \n",
    "    df_hitting_copy[year].drop(['Anio_t_1', 'Estado_t_1', 'Edad_t_1'],\n",
    "                           axis = 1, inplace = True)\n",
    "    \n",
    "    # Reordenando las columnas\n",
    "    df_hitting_copy[year].sort_index(axis = 1, inplace = True)\n",
    "    df_pitching_copy[year].sort_index(axis = 1, inplace = True)\n",
    "    \n",
    "    # Reiniciando índice\n",
    "    df_hitting_copy[year].reset_index(drop = True, inplace = True)\n",
    "    df_pitching_copy[year].reset_index(drop = True, inplace = True)"
   ]
  },
  {
   "cell_type": "markdown",
   "id": "6769a85c-99d4-40cd-a67f-a0e23c488d6e",
   "metadata": {},
   "source": [
    "Cambiemos el súfijo de las basses de datos del año del 2011"
   ]
  },
  {
   "cell_type": "code",
   "execution_count": 92,
   "id": "857d00eb-afa6-4398-894e-2364c05f6aa3",
   "metadata": {},
   "outputs": [],
   "source": [
    "year = 0\n",
    "# Reiniciando los índices\n",
    "df_hitting_copy[year] = df_hitting_copy[year].add_suffix('_t')\n",
    "df_pitching_copy[year] = df_pitching_copy[year].add_suffix('_t')\n",
    "# Corrección de columna del jugador\n",
    "df_hitting_copy[year].columns = df_hitting_copy[year].columns.str.replace('Jugador_t', 'Jugador')\n",
    "df_pitching_copy[year].columns = df_pitching_copy[year].columns.str.replace('Jugador_t', 'Jugador')"
   ]
  },
  {
   "cell_type": "code",
   "execution_count": 93,
   "id": "f67a01f8-cc58-46ca-952b-ad54714884b1",
   "metadata": {},
   "outputs": [
    {
     "name": "stdout",
     "output_type": "stream",
     "text": [
      "Salarios\n",
      "Index(['Acronimo', 'Altura', 'Anio', 'Anio_de_agente_libre',\n",
      "       'Anios_de_contrato', 'Antiguedad', 'Bono_por_firma',\n",
      "       'Cantidad de equipos', 'Cantidad_agentes_libres', 'Edad',\n",
      "       'Edad_al_firmar', 'Equipo', 'Estado', 'Ganancias', 'Ingresos_equipo',\n",
      "       'Juegos totales', 'Jugador', 'Pago_efectivo', 'Pennants won', 'Peso',\n",
      "       'Playoffs', 'Posicion', 'Promedio_victorias', 'Sueldo_ajustado',\n",
      "       'Sueldo_base', 'Sueldo_porcentual', 'Sueldo_regular',\n",
      "       'Valor_contrato_promedio', 'Valor_contrato_total', 'Valor_del_contrato',\n",
      "       'Victorias', 'WS ganadas', 'ln_Sueldo_ajustado', 'ln_Sueldo_base',\n",
      "       'ln_Sueldo_regular'],\n",
      "      dtype='object')\n",
      "\n",
      "\n",
      "Hitters\n",
      "Index(['Acronimo_t', 'Altura_t', 'Anio_t', 'Anio_de_agente_libre_t',\n",
      "       'Anios_de_contrato_t', 'Antiguedad_t', 'At_bats_t', 'At_bats_2_t',\n",
      "       'Bateos_t', 'Bateos_2_t', 'Bateos_promedio_t', 'Bateos_promedio_2_t',\n",
      "       'Bono_por_firma_t', 'Cantidad de equipos_t',\n",
      "       'Cantidad_agentes_libres_t', 'Dobles_t', 'Dobles_2_t', 'Edad_t',\n",
      "       'Edad_al_firmar_t', 'Equipo_t', 'Estado_t', 'Ganancias_t',\n",
      "       'Home_runs_t', 'Home_runs_2_t', 'Ingresos_equipo_t',\n",
      "       'Ingresos_equipo_2_t', 'Juegos_t', 'Juegos totales_t',\n",
      "       'Juegos_iniciados_t', 'Juegos_iniciados_2_t', 'Jugador',\n",
      "       'Pago_efectivo_t', 'Pennants won_t', 'Peso_t', 'Playoffs_t',\n",
      "       'Porcentaje_On_base_plus_slugging_t',\n",
      "       'Porcentaje_On_base_plus_slugging_2_t', 'Porcentaje_juegos_t',\n",
      "       'Porcentaje_juegos_iniciados_t', 'Porcentaje_juegos_iniciados_2_t',\n",
      "       'Porcentaje_on_base_t', 'Porcentaje_on_base_2_t',\n",
      "       'Porcentaje_slugging_t', 'Porcentaje_slugging_2_t', 'Posicion_t',\n",
      "       'Promedio_victorias_t', 'Runs_batted_in_t', 'Runs_batted_in_2_t',\n",
      "       'Sueldo_ajustado_t', 'Sueldo_base_t', 'Sueldo_porcentual_t',\n",
      "       'Sueldo_regular_t', 'TVS_t', 'TVS_2_t', 'Triples_t', 'Triples_2_t',\n",
      "       'Valor_contrato_promedio_t', 'Valor_contrato_total_t',\n",
      "       'Valor_del_contrato_t', 'Victorias_t', 'WAR_t', 'WAR_2_t',\n",
      "       'WS ganadas_t', 'ln_Sueldo_ajustado_t', 'ln_Sueldo_base_t',\n",
      "       'ln_Sueldo_regular_t'],\n",
      "      dtype='object')\n",
      "\n",
      "\n",
      "Pitchers\n",
      "Index(['Acronimo_t', 'Altura_t', 'Anio_t', 'Anio_de_agente_libre_t',\n",
      "       'Anios_de_contrato_t', 'Antiguedad_t', 'Bateos_t', 'Bateos_2_t',\n",
      "       'Bono_por_firma_t', 'Cantidad de equipos_t',\n",
      "       'Cantidad_agentes_libres_t', 'Carreras_t', 'Carreras_2_t',\n",
      "       'Carreras_ganadas_t', 'Carreras_ganadas_2_t', 'Comando_t',\n",
      "       'Comando_2_t', 'Control_t', 'Control_2_t', 'Dominio_t', 'Dominio_2_t',\n",
      "       'ERA_t', 'ERA_2_t', 'Edad_t', 'Edad_al_firmar_t', 'Equipo_t',\n",
      "       'Estado_t', 'Ganancias_t', 'Ingresos_equipo_t', 'Ingresos_equipo_2_t',\n",
      "       'Inning_pitched_t', 'Inning_pitched_2_t', 'Juegos_t',\n",
      "       'Juegos totales_t', 'Juegos_iniciados_t', 'Jugador', 'Losses_t',\n",
      "       'Losses_2_t', 'Pago_efectivo_t', 'Pennants won_t', 'Peso_t',\n",
      "       'Playoffs_t', 'Porcentaje_juegos_t', 'Posicion_t',\n",
      "       'Promedio_victorias_t', 'Saves_t', 'Saves_2_t', 'Strike_outs_t',\n",
      "       'Strike_outs_2_t', 'Sueldo_ajustado_t', 'Sueldo_base_t',\n",
      "       'Sueldo_porcentual_t', 'Sueldo_regular_t', 'TVS_t', 'TVS_2_t',\n",
      "       'Valor_contrato_promedio_t', 'Valor_contrato_total_t',\n",
      "       'Valor_del_contrato_t', 'Victorias_t', 'WAR_t', 'WAR_2_t', 'WHIP_t',\n",
      "       'WHIP_2_t', 'WS ganadas_t', 'Walks_t', 'Walks_2_t', 'Wins_t',\n",
      "       'Wins_2_t', 'ln_Sueldo_ajustado_t', 'ln_Sueldo_base_t',\n",
      "       'ln_Sueldo_regular_t'],\n",
      "      dtype='object')\n",
      "\n",
      "\n",
      "Free agents\n",
      "Index(['Anios_de_contrato', 'Equipo_anterior', 'Jugador',\n",
      "       'Status_agente_libre', 'Valor_contrato', 'Valor_promedio_contrato'],\n",
      "      dtype='object')\n",
      "\n",
      "\n"
     ]
    }
   ],
   "source": [
    "print(\"Salarios\")\n",
    "print(df_salary_copy[year].columns)\n",
    "print(\"\\n\")\n",
    "print(\"Hitters\")\n",
    "print(df_hitting_copy[year].columns)\n",
    "print(\"\\n\")\n",
    "print(\"Pitchers\")\n",
    "print(df_pitching_copy[year].columns)\n",
    "print(\"\\n\")\n",
    "print(\"Free agents\")\n",
    "print(df_free_agents_copy[year].columns)\n",
    "print(\"\\n\")"
   ]
  },
  {
   "cell_type": "markdown",
   "id": "536912b5-3bfa-401f-933c-2d5e38575ae8",
   "metadata": {},
   "source": [
    "## Segmentación por Agentes libres\n",
    "\n",
    "Separaremos los pitchers y hitters en dos grupos:\n",
    "\n",
    "- Agentes libres.\n",
    "- No agentes libres."
   ]
  },
  {
   "cell_type": "code",
   "execution_count": 94,
   "id": "1c4e6e17-82fb-410b-af7e-84cf7943fb02",
   "metadata": {},
   "outputs": [],
   "source": [
    "for year in range(0,period):\n",
    "    # Filtrando los agentes libres\n",
    "    df_hitters_free_agents[year] = pd.merge(df_free_agents_copy[year],\n",
    "                                            df_hitting_copy[year], on = 'Jugador')\n",
    "    df_pitchers_free_agents[year] = pd.merge(df_free_agents_copy[year],\n",
    "                                             df_pitching_copy[year], on = 'Jugador')\n",
    "    # FIltrando los que no son agentes libres\n",
    "    df_hitters_no_free_agents[year] = df_hitting_copy[year][~df_hitting_copy[year].Jugador.isin(df_hitters_free_agents[year].Jugador)]\n",
    "    df_pitchers_no_free_agents[year] = df_pitching_copy[year][~df_pitching_copy[year].Jugador.isin(df_pitchers_free_agents[year].Jugador)]\n",
    "    \n",
    "    # Reiniciando el índice\n",
    "    df_hitters_free_agents[year] = df_hitters_free_agents[year].reindex(sorted(df_hitters_free_agents[year].columns), axis=1)\n",
    "    df_pitchers_free_agents[year] = df_pitchers_free_agents[year].reindex(sorted(df_pitchers_free_agents[year].columns), axis=1)\n",
    "    df_hitters_no_free_agents[year] = df_hitters_no_free_agents[year].reindex(sorted(df_hitters_no_free_agents[year].columns), axis=1)\n",
    "    df_pitchers_no_free_agents[year] = df_pitchers_no_free_agents[year].reindex(sorted(df_pitchers_no_free_agents[year].columns), axis=1)    "
   ]
  },
  {
   "cell_type": "markdown",
   "id": "3869fea0-5efc-437c-9e2b-9a6cd79ab5b2",
   "metadata": {},
   "source": [
    "Veamos los contenidos de las nuevas bases de datos"
   ]
  },
  {
   "cell_type": "code",
   "execution_count": 95,
   "id": "e0e511b7-75ae-4c60-92d8-9860390520af",
   "metadata": {},
   "outputs": [
    {
     "name": "stdout",
     "output_type": "stream",
     "text": [
      "FA - Hitters:\n",
      "<class 'pandas.core.frame.DataFrame'>\n",
      "Index: 0 entries\n",
      "Columns: 130 entries, Acronimo_t to ln_Sueldo_regular_t\n",
      "dtypes: float64(44), int64(75), object(11)\n",
      "memory usage: 0.0+ bytes\n",
      "\n",
      " FA - Pitchers:\n",
      "<class 'pandas.core.frame.DataFrame'>\n",
      "Index: 0 entries\n",
      "Columns: 140 entries, Acronimo_t to ln_Sueldo_regular_t\n",
      "dtypes: float64(48), int64(81), object(11)\n",
      "memory usage: 0.0+ bytes\n",
      "\n",
      " No FA - Hitters:\n",
      "<class 'pandas.core.frame.DataFrame'>\n",
      "Int64Index: 0 entries\n",
      "Columns: 125 entries, Acronimo_t to ln_Sueldo_regular_t\n",
      "dtypes: float64(44), int64(72), object(9)\n",
      "memory usage: 0.0+ bytes\n",
      "\n",
      " No FA - Hitters:\n",
      "<class 'pandas.core.frame.DataFrame'>\n",
      "Int64Index: 0 entries\n",
      "Columns: 135 entries, Acronimo_t to ln_Sueldo_regular_t\n",
      "dtypes: float64(48), int64(78), object(9)\n",
      "memory usage: 0.0+ bytes\n"
     ]
    }
   ],
   "source": [
    "print(\"FA - Hitters:\")\n",
    "df_hitters_free_agents[9].info()\n",
    "print(\"\\n FA - Pitchers:\")\n",
    "df_pitchers_free_agents[9].info()\n",
    "print(\"\\n No FA - Hitters:\")\n",
    "df_hitters_no_free_agents[9].info()\n",
    "print(\"\\n No FA - Hitters:\")\n",
    "df_pitchers_no_free_agents[9].info()"
   ]
  },
  {
   "cell_type": "code",
   "execution_count": 96,
   "id": "53d3ab3a-f783-4fe3-a0af-1771c25dc7e2",
   "metadata": {},
   "outputs": [
    {
     "name": "stdout",
     "output_type": "stream",
     "text": [
      "FA - Hitters:\n",
      "(0, 71)\n",
      "(0, 130)\n",
      "(0, 130)\n",
      "(0, 130)\n",
      "(0, 130)\n",
      "(0, 130)\n",
      "(0, 130)\n",
      "(0, 130)\n",
      "(0, 130)\n",
      "(0, 130)\n",
      "(0, 130)\n",
      "(0, 130)\n",
      "\n",
      " FA - Pitchers:\n",
      "(0, 76)\n",
      "(0, 140)\n",
      "(0, 140)\n",
      "(0, 140)\n",
      "(0, 140)\n",
      "(0, 140)\n",
      "(0, 140)\n",
      "(0, 140)\n",
      "(0, 140)\n",
      "(0, 140)\n",
      "(0, 140)\n",
      "(0, 140)\n"
     ]
    }
   ],
   "source": [
    "print(\"FA - Hitters:\")\n",
    "for year in range(0,period):\n",
    "    print(df_hitters_free_agents[year].shape)\n",
    "print(\"\\n FA - Pitchers:\")\n",
    "for year in range(0,period):\n",
    "    print(df_pitchers_free_agents[year].shape)"
   ]
  },
  {
   "cell_type": "markdown",
   "id": "f9d8381e-f47a-44c7-831a-d56b642a4544",
   "metadata": {},
   "source": [
    "Por último, para facilitar futuras aplicaciones, pasemos todos los nombres de las columnas a miníscula"
   ]
  },
  {
   "cell_type": "code",
   "execution_count": 97,
   "id": "e65ad7f5-6372-4bf6-a4fd-c0a4103c46df",
   "metadata": {},
   "outputs": [],
   "source": [
    "for year in range(0,period):\n",
    "    df_hitters_free_agents[year].rename(columns = str.lower)\n",
    "    df_pitchers_free_agents[year].rename(columns = str.lower)\n",
    "    df_hitters_no_free_agents[year].rename(columns = str.lower)\n",
    "    df_pitchers_no_free_agents[year].rename(columns = str.lower)"
   ]
  },
  {
   "cell_type": "code",
   "execution_count": 98,
   "id": "c98a3407-2d6f-4c79-a70b-c6d3c106309b",
   "metadata": {},
   "outputs": [],
   "source": [
    "start_year = 2011\n",
    "end_year = 2022\n",
    "general_trans_path = 'ETL_Data/Transversal/Cumulative/'"
   ]
  },
  {
   "cell_type": "code",
   "execution_count": 99,
   "id": "674ee281-5a75-4aee-abb3-cb09ad45496c",
   "metadata": {},
   "outputs": [],
   "source": [
    "for year in range(0,period):    \n",
    "    # Exportemos los dataframes por separado\n",
    "    df_hitters_free_agents[year].to_csv(general_trans_path + '/Hitters/Free_Agent/hitters_' + str(start_year + year) + '.csv',\n",
    "                                        index = False)\n",
    "    df_pitchers_free_agents[year].to_csv(general_trans_path + '/Fielders/Free_Agent/fielders_' + str(start_year + year) + '.csv',\n",
    "                                         index = False)\n",
    "    df_hitters_no_free_agents[year].to_csv(general_trans_path + '/Hitters/No_Free_Agent/hitters_' + str(start_year + year) + '.csv',\n",
    "                                           index = False)\n",
    "    df_pitchers_no_free_agents[year].to_csv(general_trans_path + '/Fielders/No_Free_Agent/fielders_' + str(start_year + year) + '.csv',\n",
    "                                            index = False)"
   ]
  },
  {
   "cell_type": "markdown",
   "id": "50d6a026-3f9b-4adf-b766-f8dd3cc83db0",
   "metadata": {},
   "source": [
    "### Etiquetas para los agentes libres\n",
    "\n",
    "Crearemos un etiqueta para indicar si el pitcher o hitter es  un agente libre o no."
   ]
  },
  {
   "cell_type": "markdown",
   "id": "4f1f231e-2a29-410f-92fc-c1472368cfdc",
   "metadata": {},
   "source": [
    "## Panel Data\n",
    "\n",
    "Con el objetivo de contar con una base de datos en estructura panel, uniremos las bases de datos"
   ]
  },
  {
   "cell_type": "code",
   "execution_count": 100,
   "id": "e8c46c59-0487-40ea-aeb4-3691cf2bbd67",
   "metadata": {},
   "outputs": [],
   "source": [
    "# Inicialización del panel\n",
    "df_panel_all_hitter = df_hitting_copy[0]\n",
    "df_panel_all_pitcher = df_pitching_copy[0]\n",
    "\n",
    "for year in range(1,period):\n",
    "    # Hitter\n",
    "    df_panel_all_hitter = pd.concat([df_panel_all_hitter, df_hitting_copy[year]])\n",
    "    \n",
    "    # Pitcher\n",
    "    df_panel_all_pitcher = pd.concat([df_panel_all_pitcher, df_pitching_copy[year]])"
   ]
  },
  {
   "cell_type": "markdown",
   "id": "024233f2-5143-4482-b5a6-6c4a2515d51c",
   "metadata": {},
   "source": [
    "Veamos las estadísticas descriptivas de los panel"
   ]
  },
  {
   "cell_type": "code",
   "execution_count": 101,
   "id": "9024584a-c0a8-4fdb-a759-2a4174e8dac4",
   "metadata": {},
   "outputs": [
    {
     "data": {
      "text/html": [
       "<div>\n",
       "<style scoped>\n",
       "    .dataframe tbody tr th:only-of-type {\n",
       "        vertical-align: middle;\n",
       "    }\n",
       "\n",
       "    .dataframe tbody tr th {\n",
       "        vertical-align: top;\n",
       "    }\n",
       "\n",
       "    .dataframe thead th {\n",
       "        text-align: right;\n",
       "    }\n",
       "</style>\n",
       "<table border=\"1\" class=\"dataframe\">\n",
       "  <thead>\n",
       "    <tr style=\"text-align: right;\">\n",
       "      <th></th>\n",
       "      <th>ln_Sueldo_ajustado_t</th>\n",
       "    </tr>\n",
       "  </thead>\n",
       "  <tbody>\n",
       "    <tr>\n",
       "      <th>count</th>\n",
       "      <td>0.0</td>\n",
       "    </tr>\n",
       "    <tr>\n",
       "      <th>mean</th>\n",
       "      <td>NaN</td>\n",
       "    </tr>\n",
       "    <tr>\n",
       "      <th>std</th>\n",
       "      <td>NaN</td>\n",
       "    </tr>\n",
       "    <tr>\n",
       "      <th>min</th>\n",
       "      <td>NaN</td>\n",
       "    </tr>\n",
       "    <tr>\n",
       "      <th>25%</th>\n",
       "      <td>NaN</td>\n",
       "    </tr>\n",
       "    <tr>\n",
       "      <th>50%</th>\n",
       "      <td>NaN</td>\n",
       "    </tr>\n",
       "    <tr>\n",
       "      <th>75%</th>\n",
       "      <td>NaN</td>\n",
       "    </tr>\n",
       "    <tr>\n",
       "      <th>max</th>\n",
       "      <td>NaN</td>\n",
       "    </tr>\n",
       "  </tbody>\n",
       "</table>\n",
       "</div>"
      ],
      "text/plain": [
       "       ln_Sueldo_ajustado_t\n",
       "count                   0.0\n",
       "mean                    NaN\n",
       "std                     NaN\n",
       "min                     NaN\n",
       "25%                     NaN\n",
       "50%                     NaN\n",
       "75%                     NaN\n",
       "max                     NaN"
      ]
     },
     "execution_count": 101,
     "metadata": {},
     "output_type": "execute_result"
    }
   ],
   "source": [
    "df_panel_all_hitter[['ln_Sueldo_ajustado_t']].describe()"
   ]
  },
  {
   "cell_type": "code",
   "execution_count": 102,
   "id": "ec479b8f-5bcc-49fe-8539-df4ced3a7149",
   "metadata": {},
   "outputs": [
    {
     "data": {
      "text/html": [
       "<div>\n",
       "<style scoped>\n",
       "    .dataframe tbody tr th:only-of-type {\n",
       "        vertical-align: middle;\n",
       "    }\n",
       "\n",
       "    .dataframe tbody tr th {\n",
       "        vertical-align: top;\n",
       "    }\n",
       "\n",
       "    .dataframe thead th {\n",
       "        text-align: right;\n",
       "    }\n",
       "</style>\n",
       "<table border=\"1\" class=\"dataframe\">\n",
       "  <thead>\n",
       "    <tr style=\"text-align: right;\">\n",
       "      <th></th>\n",
       "      <th>Altura_t</th>\n",
       "      <th>Anio_de_agente_libre_t</th>\n",
       "      <th>Anios_de_contrato_t</th>\n",
       "      <th>Antiguedad_t</th>\n",
       "      <th>Bateos_t</th>\n",
       "      <th>Bateos_2_t</th>\n",
       "      <th>Bono_por_firma_t</th>\n",
       "      <th>Cantidad de equipos_t</th>\n",
       "      <th>Cantidad_agentes_libres_t</th>\n",
       "      <th>Carreras_t</th>\n",
       "      <th>...</th>\n",
       "      <th>WAR_2_t_1</th>\n",
       "      <th>WAR_t_1</th>\n",
       "      <th>WHIP_2_t_1</th>\n",
       "      <th>WHIP_t_1</th>\n",
       "      <th>WS_ganadas_t</th>\n",
       "      <th>WS_ganadas_t_1</th>\n",
       "      <th>Walks_2_t_1</th>\n",
       "      <th>Walks_t_1</th>\n",
       "      <th>Wins_2_t_1</th>\n",
       "      <th>Wins_t_1</th>\n",
       "    </tr>\n",
       "  </thead>\n",
       "  <tbody>\n",
       "    <tr>\n",
       "      <th>count</th>\n",
       "      <td>0.0</td>\n",
       "      <td>0.0</td>\n",
       "      <td>0.0</td>\n",
       "      <td>0.0</td>\n",
       "      <td>0.0</td>\n",
       "      <td>0.0</td>\n",
       "      <td>0.0</td>\n",
       "      <td>0.0</td>\n",
       "      <td>0.0</td>\n",
       "      <td>0.0</td>\n",
       "      <td>...</td>\n",
       "      <td>0.0</td>\n",
       "      <td>0.0</td>\n",
       "      <td>0.0</td>\n",
       "      <td>0.0</td>\n",
       "      <td>0.0</td>\n",
       "      <td>0.0</td>\n",
       "      <td>0.0</td>\n",
       "      <td>0.0</td>\n",
       "      <td>0.0</td>\n",
       "      <td>0.0</td>\n",
       "    </tr>\n",
       "    <tr>\n",
       "      <th>mean</th>\n",
       "      <td>NaN</td>\n",
       "      <td>NaN</td>\n",
       "      <td>NaN</td>\n",
       "      <td>NaN</td>\n",
       "      <td>NaN</td>\n",
       "      <td>NaN</td>\n",
       "      <td>NaN</td>\n",
       "      <td>NaN</td>\n",
       "      <td>NaN</td>\n",
       "      <td>NaN</td>\n",
       "      <td>...</td>\n",
       "      <td>NaN</td>\n",
       "      <td>NaN</td>\n",
       "      <td>NaN</td>\n",
       "      <td>NaN</td>\n",
       "      <td>NaN</td>\n",
       "      <td>NaN</td>\n",
       "      <td>NaN</td>\n",
       "      <td>NaN</td>\n",
       "      <td>NaN</td>\n",
       "      <td>NaN</td>\n",
       "    </tr>\n",
       "    <tr>\n",
       "      <th>std</th>\n",
       "      <td>NaN</td>\n",
       "      <td>NaN</td>\n",
       "      <td>NaN</td>\n",
       "      <td>NaN</td>\n",
       "      <td>NaN</td>\n",
       "      <td>NaN</td>\n",
       "      <td>NaN</td>\n",
       "      <td>NaN</td>\n",
       "      <td>NaN</td>\n",
       "      <td>NaN</td>\n",
       "      <td>...</td>\n",
       "      <td>NaN</td>\n",
       "      <td>NaN</td>\n",
       "      <td>NaN</td>\n",
       "      <td>NaN</td>\n",
       "      <td>NaN</td>\n",
       "      <td>NaN</td>\n",
       "      <td>NaN</td>\n",
       "      <td>NaN</td>\n",
       "      <td>NaN</td>\n",
       "      <td>NaN</td>\n",
       "    </tr>\n",
       "    <tr>\n",
       "      <th>min</th>\n",
       "      <td>NaN</td>\n",
       "      <td>NaN</td>\n",
       "      <td>NaN</td>\n",
       "      <td>NaN</td>\n",
       "      <td>NaN</td>\n",
       "      <td>NaN</td>\n",
       "      <td>NaN</td>\n",
       "      <td>NaN</td>\n",
       "      <td>NaN</td>\n",
       "      <td>NaN</td>\n",
       "      <td>...</td>\n",
       "      <td>NaN</td>\n",
       "      <td>NaN</td>\n",
       "      <td>NaN</td>\n",
       "      <td>NaN</td>\n",
       "      <td>NaN</td>\n",
       "      <td>NaN</td>\n",
       "      <td>NaN</td>\n",
       "      <td>NaN</td>\n",
       "      <td>NaN</td>\n",
       "      <td>NaN</td>\n",
       "    </tr>\n",
       "    <tr>\n",
       "      <th>25%</th>\n",
       "      <td>NaN</td>\n",
       "      <td>NaN</td>\n",
       "      <td>NaN</td>\n",
       "      <td>NaN</td>\n",
       "      <td>NaN</td>\n",
       "      <td>NaN</td>\n",
       "      <td>NaN</td>\n",
       "      <td>NaN</td>\n",
       "      <td>NaN</td>\n",
       "      <td>NaN</td>\n",
       "      <td>...</td>\n",
       "      <td>NaN</td>\n",
       "      <td>NaN</td>\n",
       "      <td>NaN</td>\n",
       "      <td>NaN</td>\n",
       "      <td>NaN</td>\n",
       "      <td>NaN</td>\n",
       "      <td>NaN</td>\n",
       "      <td>NaN</td>\n",
       "      <td>NaN</td>\n",
       "      <td>NaN</td>\n",
       "    </tr>\n",
       "    <tr>\n",
       "      <th>50%</th>\n",
       "      <td>NaN</td>\n",
       "      <td>NaN</td>\n",
       "      <td>NaN</td>\n",
       "      <td>NaN</td>\n",
       "      <td>NaN</td>\n",
       "      <td>NaN</td>\n",
       "      <td>NaN</td>\n",
       "      <td>NaN</td>\n",
       "      <td>NaN</td>\n",
       "      <td>NaN</td>\n",
       "      <td>...</td>\n",
       "      <td>NaN</td>\n",
       "      <td>NaN</td>\n",
       "      <td>NaN</td>\n",
       "      <td>NaN</td>\n",
       "      <td>NaN</td>\n",
       "      <td>NaN</td>\n",
       "      <td>NaN</td>\n",
       "      <td>NaN</td>\n",
       "      <td>NaN</td>\n",
       "      <td>NaN</td>\n",
       "    </tr>\n",
       "    <tr>\n",
       "      <th>75%</th>\n",
       "      <td>NaN</td>\n",
       "      <td>NaN</td>\n",
       "      <td>NaN</td>\n",
       "      <td>NaN</td>\n",
       "      <td>NaN</td>\n",
       "      <td>NaN</td>\n",
       "      <td>NaN</td>\n",
       "      <td>NaN</td>\n",
       "      <td>NaN</td>\n",
       "      <td>NaN</td>\n",
       "      <td>...</td>\n",
       "      <td>NaN</td>\n",
       "      <td>NaN</td>\n",
       "      <td>NaN</td>\n",
       "      <td>NaN</td>\n",
       "      <td>NaN</td>\n",
       "      <td>NaN</td>\n",
       "      <td>NaN</td>\n",
       "      <td>NaN</td>\n",
       "      <td>NaN</td>\n",
       "      <td>NaN</td>\n",
       "    </tr>\n",
       "    <tr>\n",
       "      <th>max</th>\n",
       "      <td>NaN</td>\n",
       "      <td>NaN</td>\n",
       "      <td>NaN</td>\n",
       "      <td>NaN</td>\n",
       "      <td>NaN</td>\n",
       "      <td>NaN</td>\n",
       "      <td>NaN</td>\n",
       "      <td>NaN</td>\n",
       "      <td>NaN</td>\n",
       "      <td>NaN</td>\n",
       "      <td>...</td>\n",
       "      <td>NaN</td>\n",
       "      <td>NaN</td>\n",
       "      <td>NaN</td>\n",
       "      <td>NaN</td>\n",
       "      <td>NaN</td>\n",
       "      <td>NaN</td>\n",
       "      <td>NaN</td>\n",
       "      <td>NaN</td>\n",
       "      <td>NaN</td>\n",
       "      <td>NaN</td>\n",
       "    </tr>\n",
       "  </tbody>\n",
       "</table>\n",
       "<p>8 rows × 130 columns</p>\n",
       "</div>"
      ],
      "text/plain": [
       "       Altura_t  Anio_de_agente_libre_t  Anios_de_contrato_t  Antiguedad_t  \\\n",
       "count       0.0                     0.0                  0.0           0.0   \n",
       "mean        NaN                     NaN                  NaN           NaN   \n",
       "std         NaN                     NaN                  NaN           NaN   \n",
       "min         NaN                     NaN                  NaN           NaN   \n",
       "25%         NaN                     NaN                  NaN           NaN   \n",
       "50%         NaN                     NaN                  NaN           NaN   \n",
       "75%         NaN                     NaN                  NaN           NaN   \n",
       "max         NaN                     NaN                  NaN           NaN   \n",
       "\n",
       "       Bateos_t  Bateos_2_t  Bono_por_firma_t  Cantidad de equipos_t  \\\n",
       "count       0.0         0.0               0.0                    0.0   \n",
       "mean        NaN         NaN               NaN                    NaN   \n",
       "std         NaN         NaN               NaN                    NaN   \n",
       "min         NaN         NaN               NaN                    NaN   \n",
       "25%         NaN         NaN               NaN                    NaN   \n",
       "50%         NaN         NaN               NaN                    NaN   \n",
       "75%         NaN         NaN               NaN                    NaN   \n",
       "max         NaN         NaN               NaN                    NaN   \n",
       "\n",
       "       Cantidad_agentes_libres_t  Carreras_t  ...  WAR_2_t_1  WAR_t_1  \\\n",
       "count                        0.0         0.0  ...        0.0      0.0   \n",
       "mean                         NaN         NaN  ...        NaN      NaN   \n",
       "std                          NaN         NaN  ...        NaN      NaN   \n",
       "min                          NaN         NaN  ...        NaN      NaN   \n",
       "25%                          NaN         NaN  ...        NaN      NaN   \n",
       "50%                          NaN         NaN  ...        NaN      NaN   \n",
       "75%                          NaN         NaN  ...        NaN      NaN   \n",
       "max                          NaN         NaN  ...        NaN      NaN   \n",
       "\n",
       "       WHIP_2_t_1  WHIP_t_1  WS_ganadas_t  WS_ganadas_t_1  Walks_2_t_1  \\\n",
       "count         0.0       0.0           0.0             0.0          0.0   \n",
       "mean          NaN       NaN           NaN             NaN          NaN   \n",
       "std           NaN       NaN           NaN             NaN          NaN   \n",
       "min           NaN       NaN           NaN             NaN          NaN   \n",
       "25%           NaN       NaN           NaN             NaN          NaN   \n",
       "50%           NaN       NaN           NaN             NaN          NaN   \n",
       "75%           NaN       NaN           NaN             NaN          NaN   \n",
       "max           NaN       NaN           NaN             NaN          NaN   \n",
       "\n",
       "       Walks_t_1  Wins_2_t_1  Wins_t_1  \n",
       "count        0.0         0.0       0.0  \n",
       "mean         NaN         NaN       NaN  \n",
       "std          NaN         NaN       NaN  \n",
       "min          NaN         NaN       NaN  \n",
       "25%          NaN         NaN       NaN  \n",
       "50%          NaN         NaN       NaN  \n",
       "75%          NaN         NaN       NaN  \n",
       "max          NaN         NaN       NaN  \n",
       "\n",
       "[8 rows x 130 columns]"
      ]
     },
     "execution_count": 102,
     "metadata": {},
     "output_type": "execute_result"
    }
   ],
   "source": [
    "df_panel_all_pitcher.describe()"
   ]
  },
  {
   "cell_type": "code",
   "execution_count": 103,
   "id": "06b08781-7c77-43ad-823f-1f5acac46b96",
   "metadata": {},
   "outputs": [
    {
     "name": "stdout",
     "output_type": "stream",
     "text": [
      "<class 'pandas.core.frame.DataFrame'>\n",
      "RangeIndex: 0 entries\n",
      "Columns: 129 entries, Acronimo_t to WS_ganadas_t_1\n",
      "dtypes: float64(88), int64(32), object(9)\n",
      "memory usage: 124.0+ bytes\n"
     ]
    }
   ],
   "source": [
    "df_panel_all_hitter.info()"
   ]
  },
  {
   "cell_type": "code",
   "execution_count": 104,
   "id": "7382b13f-9322-4da7-8f2a-d7d2f4c9be7a",
   "metadata": {},
   "outputs": [
    {
     "name": "stdout",
     "output_type": "stream",
     "text": [
      "<class 'pandas.core.frame.DataFrame'>\n",
      "RangeIndex: 0 entries\n",
      "Columns: 139 entries, Acronimo_t to Wins_t_1\n",
      "dtypes: float64(95), int64(35), object(9)\n",
      "memory usage: 124.0+ bytes\n"
     ]
    }
   ],
   "source": [
    "df_panel_all_pitcher.info()"
   ]
  },
  {
   "cell_type": "markdown",
   "id": "58398061-2ac4-4a8d-a89e-e35d6067cbfc",
   "metadata": {},
   "source": [
    "Verifquemos que no haya problemas con valores *NaN* o *infinitos*\n",
    "\n",
    "Valores *NaN*:"
   ]
  },
  {
   "cell_type": "code",
   "execution_count": 105,
   "id": "354b69a6-c6ae-4faa-97c4-25c3f01fdfeb",
   "metadata": {
    "tags": []
   },
   "outputs": [
    {
     "data": {
      "text/plain": [
       "\"for name in df_panel_all_hitter.columns:\\n    print(name)\\n    if type(name) != str:\\n        for element in range(0,len(df_panel_all_hitter[name])):\\n            if pd.isna(df_panel_all_hitter[name].iloc[element]) == True:\\n                print(str(element) +  '  ' + str(df_panel_all_hitter[name].iloc[element]))\""
      ]
     },
     "execution_count": 105,
     "metadata": {},
     "output_type": "execute_result"
    }
   ],
   "source": [
    "\"\"\"for name in df_panel_all_hitter.columns:\n",
    "    print(name)\n",
    "    if type(name) != str:\n",
    "        for element in range(0,len(df_panel_all_hitter[name])):\n",
    "            if pd.isna(df_panel_all_hitter[name].iloc[element]) == True:\n",
    "                print(str(element) +  '  ' + str(df_panel_all_hitter[name].iloc[element]))\"\"\""
   ]
  },
  {
   "cell_type": "code",
   "execution_count": 106,
   "id": "0f698c92-e7e1-4bb1-ac17-7134a78612e0",
   "metadata": {
    "tags": []
   },
   "outputs": [
    {
     "data": {
      "text/plain": [
       "\"for name in df_panel_all_pitcher.columns:\\n    print(name)\\n    if type(name) != str:\\n        for element in range(0,len(df_panel_all_pitcher[name])):\\n            if pd.isna(df_panel_all_pitcher[name].iloc[element]) == True:\\n                print(str(element) +  '  ' + str(df_panel_all_pitcher[name].iloc[element]))\""
      ]
     },
     "execution_count": 106,
     "metadata": {},
     "output_type": "execute_result"
    }
   ],
   "source": [
    "\"\"\"for name in df_panel_all_pitcher.columns:\n",
    "    print(name)\n",
    "    if type(name) != str:\n",
    "        for element in range(0,len(df_panel_all_pitcher[name])):\n",
    "            if pd.isna(df_panel_all_pitcher[name].iloc[element]) == True:\n",
    "                print(str(element) +  '  ' + str(df_panel_all_pitcher[name].iloc[element]))\"\"\""
   ]
  },
  {
   "cell_type": "markdown",
   "id": "cf8b64ac-d03b-443a-beed-6cab902ea50f",
   "metadata": {},
   "source": [
    "Valores *infinitos*"
   ]
  },
  {
   "cell_type": "code",
   "execution_count": 107,
   "id": "06b581ff-9434-4427-ac48-3269684d65b1",
   "metadata": {
    "tags": []
   },
   "outputs": [
    {
     "name": "stdout",
     "output_type": "stream",
     "text": [
      "Acronimo_t\n",
      "Altura_t\n",
      "Anio_t\n",
      "Anio_de_agente_libre_t\n",
      "Anios_de_contrato_t\n",
      "Antiguedad_t\n",
      "At_bats_t\n",
      "At_bats_2_t\n",
      "Bateos_t\n",
      "Bateos_2_t\n",
      "Bateos_promedio_t\n",
      "Bateos_promedio_2_t\n",
      "Bono_por_firma_t\n",
      "Cantidad de equipos_t\n",
      "Cantidad_agentes_libres_t\n",
      "Dobles_t\n",
      "Dobles_2_t\n",
      "Edad_t\n",
      "Edad_al_firmar_t\n",
      "Equipo_t\n",
      "Estado_t\n",
      "Ganancias_t\n",
      "Home_runs_t\n",
      "Home_runs_2_t\n",
      "Ingresos_equipo_t\n",
      "Ingresos_equipo_2_t\n",
      "Juegos_t\n",
      "Juegos totales_t\n",
      "Juegos_iniciados_t\n",
      "Juegos_iniciados_2_t\n",
      "Jugador\n",
      "Pago_efectivo_t\n",
      "Pennants won_t\n",
      "Peso_t\n",
      "Playoffs_t\n",
      "Porcentaje_On_base_plus_slugging_t\n",
      "Porcentaje_On_base_plus_slugging_2_t\n",
      "Porcentaje_juegos_t\n",
      "Porcentaje_juegos_iniciados_t\n",
      "Porcentaje_juegos_iniciados_2_t\n",
      "Porcentaje_on_base_t\n",
      "Porcentaje_on_base_2_t\n",
      "Porcentaje_slugging_t\n",
      "Porcentaje_slugging_2_t\n",
      "Posicion_t\n",
      "Promedio_victorias_t\n",
      "Runs_batted_in_t\n",
      "Runs_batted_in_2_t\n",
      "Sueldo_ajustado_t\n",
      "Sueldo_base_t\n",
      "Sueldo_porcentual_t\n",
      "Sueldo_regular_t\n",
      "TVS_t\n",
      "TVS_2_t\n",
      "Triples_t\n",
      "Triples_2_t\n",
      "Valor_contrato_promedio_t\n",
      "Valor_contrato_total_t\n",
      "Valor_del_contrato_t\n",
      "Victorias_t\n",
      "WAR_t\n",
      "WAR_2_t\n",
      "WS ganadas_t\n",
      "ln_Sueldo_ajustado_t\n",
      "ln_Sueldo_base_t\n",
      "ln_Sueldo_regular_t\n",
      "Acronimo_t_1\n",
      "Altura_t_1\n",
      "Anio_de_agente_libre_t_1\n",
      "Anios_de_contrato_t_1\n",
      "Antiguedad_t_1\n",
      "At_bats_2_t_1\n",
      "At_bats_t_1\n",
      "Bateos_2_t_1\n",
      "Bateos_promedio_2_t_1\n",
      "Bateos_promedio_t_1\n",
      "Bateos_t_1\n",
      "Bono_por_firma_t_1\n",
      "Cantidad_agentes_libres_t_1\n",
      "Cantidad_de_equipos_t\n",
      "Cantidad_de_equipos_t_1\n",
      "Dobles_2_t_1\n",
      "Dobles_t_1\n",
      "Edad_al_firmar_t_1\n",
      "Equipo_t_1\n",
      "Ganancias_t_1\n",
      "Home_runs_2_t_1\n",
      "Home_runs_t_1\n",
      "Ingresos_equipo_2_t_1\n",
      "Ingresos_equipo_t_1\n",
      "Juegos_iniciados_2_t_1\n",
      "Juegos_iniciados_t_1\n",
      "Juegos_t_1\n",
      "Juegos_totales_t\n",
      "Juegos_totales_t_1\n",
      "Pago_efectivo_t_1\n",
      "Pennants_won_t\n",
      "Pennants_won_t_1\n",
      "Peso_t_1\n",
      "Playoffs_t_1\n",
      "Porcentaje_On_base_plus_slugging_2_t_1\n",
      "Porcentaje_On_base_plus_slugging_t_1\n",
      "Porcentaje_juegos_iniciados_2_t_1\n",
      "Porcentaje_juegos_iniciados_t_1\n",
      "Porcentaje_juegos_t_1\n",
      "Porcentaje_on_base_2_t_1\n",
      "Porcentaje_on_base_t_1\n",
      "Porcentaje_slugging_2_t_1\n",
      "Porcentaje_slugging_t_1\n",
      "Posicion_t_1\n",
      "Promedio_victorias_t_1\n",
      "Runs_batted_in_2_t_1\n",
      "Runs_batted_in_t_1\n",
      "Sueldo_ajustado_t_1\n",
      "Sueldo_base_t_1\n",
      "Sueldo_porcentual_t_1\n",
      "Sueldo_regular_t_1\n",
      "TVS_2_t_1\n",
      "TVS_t_1\n",
      "Triples_2_t_1\n",
      "Triples_t_1\n",
      "Valor_contrato_promedio_t_1\n",
      "Valor_contrato_total_t_1\n",
      "Valor_del_contrato_t_1\n",
      "Victorias_t_1\n",
      "WAR_2_t_1\n",
      "WAR_t_1\n",
      "WS_ganadas_t\n",
      "WS_ganadas_t_1\n"
     ]
    }
   ],
   "source": [
    "for name in df_panel_all_hitter.columns:\n",
    "    print(name)\n",
    "    if type(name) != str:\n",
    "        for element in range(0,len(df_panel_all_hitter[name])):\n",
    "            if math.isinf(df_panel_all_hitter[name].iloc[element]) == True:\n",
    "                print(str(element) +  '  ' + str(df_panel_all_hitter[name].iloc[element]))"
   ]
  },
  {
   "cell_type": "code",
   "execution_count": 108,
   "id": "d6b69716-bd42-4e4c-b684-2f295ecab214",
   "metadata": {
    "tags": []
   },
   "outputs": [
    {
     "name": "stdout",
     "output_type": "stream",
     "text": [
      "Acronimo_t\n",
      "Altura_t\n",
      "Anio_t\n",
      "Anio_de_agente_libre_t\n",
      "Anios_de_contrato_t\n",
      "Antiguedad_t\n",
      "Bateos_t\n",
      "Bateos_2_t\n",
      "Bono_por_firma_t\n",
      "Cantidad de equipos_t\n",
      "Cantidad_agentes_libres_t\n",
      "Carreras_t\n",
      "Carreras_2_t\n",
      "Carreras_ganadas_t\n",
      "Carreras_ganadas_2_t\n",
      "Comando_t\n",
      "Comando_2_t\n",
      "Control_t\n",
      "Control_2_t\n",
      "Dominio_t\n",
      "Dominio_2_t\n",
      "ERA_t\n",
      "ERA_2_t\n",
      "Edad_t\n",
      "Edad_al_firmar_t\n",
      "Equipo_t\n",
      "Estado_t\n",
      "Ganancias_t\n",
      "Ingresos_equipo_t\n",
      "Ingresos_equipo_2_t\n",
      "Inning_pitched_t\n",
      "Inning_pitched_2_t\n",
      "Juegos_t\n",
      "Juegos totales_t\n",
      "Juegos_iniciados_t\n",
      "Jugador\n",
      "Losses_t\n",
      "Losses_2_t\n",
      "Pago_efectivo_t\n",
      "Pennants won_t\n",
      "Peso_t\n",
      "Playoffs_t\n",
      "Porcentaje_juegos_t\n",
      "Posicion_t\n",
      "Promedio_victorias_t\n",
      "Saves_t\n",
      "Saves_2_t\n",
      "Strike_outs_t\n",
      "Strike_outs_2_t\n",
      "Sueldo_ajustado_t\n",
      "Sueldo_base_t\n",
      "Sueldo_porcentual_t\n",
      "Sueldo_regular_t\n",
      "TVS_t\n",
      "TVS_2_t\n",
      "Valor_contrato_promedio_t\n",
      "Valor_contrato_total_t\n",
      "Valor_del_contrato_t\n",
      "Victorias_t\n",
      "WAR_t\n",
      "WAR_2_t\n",
      "WHIP_t\n",
      "WHIP_2_t\n",
      "WS ganadas_t\n",
      "Walks_t\n",
      "Walks_2_t\n",
      "Wins_t\n",
      "Wins_2_t\n",
      "ln_Sueldo_ajustado_t\n",
      "ln_Sueldo_base_t\n",
      "ln_Sueldo_regular_t\n",
      "Acronimo_t_1\n",
      "Altura_t_1\n",
      "Anio_de_agente_libre_t_1\n",
      "Anios_de_contrato_t_1\n",
      "Antiguedad_t_1\n",
      "Bateos_2_t_1\n",
      "Bateos_t_1\n",
      "Bono_por_firma_t_1\n",
      "Cantidad_agentes_libres_t_1\n",
      "Cantidad_de_equipos_t\n",
      "Cantidad_de_equipos_t_1\n",
      "Carreras_2_t_1\n",
      "Carreras_ganadas_2_t_1\n",
      "Carreras_ganadas_t_1\n",
      "Carreras_t_1\n",
      "Comando_2_t_1\n",
      "Comando_t_1\n",
      "Control_2_t_1\n",
      "Control_t_1\n",
      "Dominio_2_t_1\n",
      "Dominio_t_1\n",
      "ERA_2_t_1\n",
      "ERA_t_1\n",
      "Edad_al_firmar_t_1\n",
      "Equipo_t_1\n",
      "Ganancias_t_1\n",
      "Ingresos_equipo_2_t_1\n",
      "Ingresos_equipo_t_1\n",
      "Inning_pitched_2_t_1\n",
      "Inning_pitched_t_1\n",
      "Juegos_iniciados_t_1\n",
      "Juegos_t_1\n",
      "Juegos_totales_t\n",
      "Juegos_totales_t_1\n",
      "Losses_2_t_1\n",
      "Losses_t_1\n",
      "Pago_efectivo_t_1\n",
      "Pennants_won_t\n",
      "Pennants_won_t_1\n",
      "Peso_t_1\n",
      "Playoffs_t_1\n",
      "Porcentaje_juegos_t_1\n",
      "Posicion_t_1\n",
      "Promedio_victorias_t_1\n",
      "Saves_2_t_1\n",
      "Saves_t_1\n",
      "Strike_outs_2_t_1\n",
      "Strike_outs_t_1\n",
      "Sueldo_ajustado_t_1\n",
      "Sueldo_base_t_1\n",
      "Sueldo_porcentual_t_1\n",
      "Sueldo_regular_t_1\n",
      "TVS_2_t_1\n",
      "TVS_t_1\n",
      "Valor_contrato_promedio_t_1\n",
      "Valor_contrato_total_t_1\n",
      "Valor_del_contrato_t_1\n",
      "Victorias_t_1\n",
      "WAR_2_t_1\n",
      "WAR_t_1\n",
      "WHIP_2_t_1\n",
      "WHIP_t_1\n",
      "WS_ganadas_t\n",
      "WS_ganadas_t_1\n",
      "Walks_2_t_1\n",
      "Walks_t_1\n",
      "Wins_2_t_1\n",
      "Wins_t_1\n"
     ]
    }
   ],
   "source": [
    "for name in df_panel_all_pitcher.columns:\n",
    "    print(name)\n",
    "    if type(name) != str:\n",
    "        for element in range(0,len(df_panel_all_pitcher[name])):\n",
    "            if math.isinf(df_panel_all_pitcher[name].iloc[element]) == True:\n",
    "                print(str(element) +  '  ' + str(df_panel_all_pitcher[name].iloc[element]))"
   ]
  },
  {
   "cell_type": "code",
   "execution_count": 109,
   "id": "4642a0ff-2166-4733-9446-0ee561a8fd84",
   "metadata": {},
   "outputs": [],
   "source": [
    "df_panel_all_hitter.sort_index(axis = 1, inplace = True)\n",
    "df_panel_all_pitcher.sort_index(axis = 1, inplace = True)"
   ]
  },
  {
   "cell_type": "markdown",
   "id": "9a95fe7d-5fbe-4bc3-8c5f-54aa9c2dd806",
   "metadata": {},
   "source": [
    "Exportemos los paneles"
   ]
  },
  {
   "cell_type": "code",
   "execution_count": 110,
   "id": "5fbbb826-430b-4661-8ac7-b0ef09df9cf8",
   "metadata": {},
   "outputs": [],
   "source": [
    "general_panel_path = 'ETL_Data/Panel/Cumulative/Visualizations/'"
   ]
  },
  {
   "cell_type": "code",
   "execution_count": 111,
   "id": "ca8c5ca0-76c3-43fb-9465-feba788f0424",
   "metadata": {},
   "outputs": [],
   "source": [
    "df_panel_all_hitter.to_csv(general_panel_path + 'hitters_' + '.csv',\n",
    "                           index = False)\n",
    "df_panel_all_pitcher.to_csv(general_panel_path + 'fielders_' + '.csv',\n",
    "                            index = False)"
   ]
  },
  {
   "cell_type": "markdown",
   "id": "3952eec7-26cf-4bbe-a98a-6b3c827ca449",
   "metadata": {},
   "source": [
    "Repetiremos el procedimiento, pero únicamente para quienes son agentes libres"
   ]
  },
  {
   "cell_type": "code",
   "execution_count": 112,
   "id": "86ce741b-bfd8-472b-8c01-241f54eedbfd",
   "metadata": {},
   "outputs": [],
   "source": [
    "# Inicialización del panel\n",
    "df_panel_fa_hitter = df_hitters_free_agents[0]\n",
    "df_panel_fa_pitcher = df_pitchers_free_agents[0]\n",
    "\n",
    "for year in range(1,period):\n",
    "    # Hitter\n",
    "    df_panel_fa_hitter = pd.concat([df_panel_fa_hitter, df_hitters_free_agents[year]])\n",
    "    \n",
    "    # Pitcher\n",
    "    df_panel_fa_pitcher = pd.concat([df_panel_fa_pitcher, df_pitchers_free_agents[year]])"
   ]
  },
  {
   "cell_type": "code",
   "execution_count": 113,
   "id": "7eb8a989-3c52-4cd3-b5d8-2d6da82e4009",
   "metadata": {},
   "outputs": [
    {
     "name": "stdout",
     "output_type": "stream",
     "text": [
      "<class 'pandas.core.frame.DataFrame'>\n",
      "Index: 0 entries\n",
      "Columns: 134 entries, Acronimo_t to WS_ganadas_t_1\n",
      "dtypes: float64(88), int64(35), object(11)\n",
      "memory usage: 0.0+ bytes\n"
     ]
    }
   ],
   "source": [
    "df_panel_fa_hitter.info()"
   ]
  },
  {
   "cell_type": "code",
   "execution_count": 114,
   "id": "bc1c109d-ac18-4aff-90f3-d70e53635277",
   "metadata": {},
   "outputs": [
    {
     "name": "stdout",
     "output_type": "stream",
     "text": [
      "<class 'pandas.core.frame.DataFrame'>\n",
      "Index: 0 entries\n",
      "Columns: 144 entries, Acronimo_t to Wins_t_1\n",
      "dtypes: float64(95), int64(38), object(11)\n",
      "memory usage: 0.0+ bytes\n"
     ]
    }
   ],
   "source": [
    "df_panel_fa_pitcher.info()"
   ]
  },
  {
   "cell_type": "code",
   "execution_count": 115,
   "id": "48921017-ef9e-4fd1-acb2-8a07d4e87341",
   "metadata": {},
   "outputs": [],
   "source": [
    "df_panel_fa_hitter.drop('Anios_de_contrato',\n",
    "                        axis = 1, inplace = True)\n",
    "df_panel_fa_pitcher.drop('Anios_de_contrato',\n",
    "                         axis = 1, inplace = True)"
   ]
  },
  {
   "cell_type": "code",
   "execution_count": 116,
   "id": "e423e198-00da-4077-99b3-5758b732ca08",
   "metadata": {},
   "outputs": [],
   "source": [
    "df_panel_fa_hitter.sort_index(axis = 1, inplace = True)\n",
    "df_panel_fa_pitcher.sort_index(axis = 1, inplace = True)"
   ]
  },
  {
   "cell_type": "markdown",
   "id": "e6952c7f-d4ee-40f2-bbc3-a96b4c23c2bc",
   "metadata": {},
   "source": [
    "# Variables del Modelo Empírico"
   ]
  },
  {
   "cell_type": "code",
   "execution_count": 117,
   "id": "bec07670-aaff-482a-b6a9-55544323bbf2",
   "metadata": {},
   "outputs": [],
   "source": [
    "empiric_panel_hitter = df_panel_fa_hitter.copy()\n",
    "empiric_panel_pitcher = df_panel_fa_pitcher.copy()"
   ]
  },
  {
   "cell_type": "markdown",
   "id": "4ddf2517-6202-46dd-aa3b-5bc0cc401c02",
   "metadata": {},
   "source": [
    "Veamos algunas estadísticas e información que contienen las bases de datos"
   ]
  },
  {
   "cell_type": "code",
   "execution_count": 118,
   "id": "0ee4b741-14d0-4c2b-af1c-0010beb24960",
   "metadata": {},
   "outputs": [
    {
     "name": "stdout",
     "output_type": "stream",
     "text": [
      "(0, 133)\n"
     ]
    }
   ],
   "source": [
    "print(empiric_panel_hitter.shape)"
   ]
  },
  {
   "cell_type": "code",
   "execution_count": 119,
   "id": "21f0ca1b-85eb-4ff7-ac91-b3499011b4ce",
   "metadata": {},
   "outputs": [
    {
     "name": "stdout",
     "output_type": "stream",
     "text": [
      "(0, 143)\n"
     ]
    }
   ],
   "source": [
    "print(empiric_panel_pitcher.shape)"
   ]
  },
  {
   "cell_type": "markdown",
   "id": "306b6c2a-6282-4fdb-8279-15c5b0ecd6b4",
   "metadata": {},
   "source": [
    "Las posiciones que hay en cada base de datos"
   ]
  },
  {
   "cell_type": "code",
   "execution_count": 120,
   "id": "0e24faaa-db58-4013-86d6-634104403d08",
   "metadata": {},
   "outputs": [
    {
     "data": {
      "text/plain": [
       "array([], dtype=object)"
      ]
     },
     "execution_count": 120,
     "metadata": {},
     "output_type": "execute_result"
    }
   ],
   "source": [
    "empiric_panel_hitter['Posicion_t'].unique()"
   ]
  },
  {
   "cell_type": "code",
   "execution_count": 121,
   "id": "6f8448f3-bf07-4a8f-802f-80321fc9dbec",
   "metadata": {},
   "outputs": [
    {
     "data": {
      "text/plain": [
       "array([], dtype=object)"
      ]
     },
     "execution_count": 121,
     "metadata": {},
     "output_type": "execute_result"
    }
   ],
   "source": [
    "empiric_panel_pitcher['Posicion_t'].unique()"
   ]
  },
  {
   "cell_type": "markdown",
   "id": "e88136d7-3de7-425f-ae9f-9faaa1325b30",
   "metadata": {},
   "source": [
    "Ordenemos las bases de datos  por nombre y año"
   ]
  },
  {
   "cell_type": "code",
   "execution_count": 122,
   "id": "e5dd25c0-eb9f-4e4a-8be7-6ff094e60550",
   "metadata": {},
   "outputs": [],
   "source": [
    "# Hitter\n",
    "empiric_panel_hitter = empiric_panel_hitter.sort_values(by = ['Jugador','Anio_t'], ascending=True)\n",
    "empiric_panel_hitter.reset_index(drop = True, inplace = True)\n",
    "\n",
    "# Pitcher\n",
    "empiric_panel_pitcher = empiric_panel_pitcher.sort_values(by = ['Jugador','Anio_t'], ascending=True)\n",
    "empiric_panel_pitcher.reset_index(drop = True, inplace = True)"
   ]
  },
  {
   "cell_type": "code",
   "execution_count": 123,
   "id": "ca0b8276-8546-4e82-83e9-deef9d4c8f6d",
   "metadata": {},
   "outputs": [
    {
     "data": {
      "text/html": [
       "<div>\n",
       "<style scoped>\n",
       "    .dataframe tbody tr th:only-of-type {\n",
       "        vertical-align: middle;\n",
       "    }\n",
       "\n",
       "    .dataframe tbody tr th {\n",
       "        vertical-align: top;\n",
       "    }\n",
       "\n",
       "    .dataframe thead th {\n",
       "        text-align: right;\n",
       "    }\n",
       "</style>\n",
       "<table border=\"1\" class=\"dataframe\">\n",
       "  <thead>\n",
       "    <tr style=\"text-align: right;\">\n",
       "      <th></th>\n",
       "      <th>Jugador</th>\n",
       "      <th>Anio_t</th>\n",
       "    </tr>\n",
       "  </thead>\n",
       "  <tbody>\n",
       "  </tbody>\n",
       "</table>\n",
       "</div>"
      ],
      "text/plain": [
       "Empty DataFrame\n",
       "Columns: [Jugador, Anio_t]\n",
       "Index: []"
      ]
     },
     "execution_count": 123,
     "metadata": {},
     "output_type": "execute_result"
    }
   ],
   "source": [
    "empiric_panel_hitter[['Jugador','Anio_t']].head()"
   ]
  },
  {
   "cell_type": "code",
   "execution_count": 124,
   "id": "85d96e70-cb4d-4508-901c-eac41938eccd",
   "metadata": {},
   "outputs": [
    {
     "data": {
      "text/html": [
       "<div>\n",
       "<style scoped>\n",
       "    .dataframe tbody tr th:only-of-type {\n",
       "        vertical-align: middle;\n",
       "    }\n",
       "\n",
       "    .dataframe tbody tr th {\n",
       "        vertical-align: top;\n",
       "    }\n",
       "\n",
       "    .dataframe thead th {\n",
       "        text-align: right;\n",
       "    }\n",
       "</style>\n",
       "<table border=\"1\" class=\"dataframe\">\n",
       "  <thead>\n",
       "    <tr style=\"text-align: right;\">\n",
       "      <th></th>\n",
       "      <th>Jugador</th>\n",
       "      <th>Anio_t</th>\n",
       "    </tr>\n",
       "  </thead>\n",
       "  <tbody>\n",
       "  </tbody>\n",
       "</table>\n",
       "</div>"
      ],
      "text/plain": [
       "Empty DataFrame\n",
       "Columns: [Jugador, Anio_t]\n",
       "Index: []"
      ]
     },
     "execution_count": 124,
     "metadata": {},
     "output_type": "execute_result"
    }
   ],
   "source": [
    "empiric_panel_pitcher[['Jugador','Anio_t']].head()"
   ]
  },
  {
   "cell_type": "code",
   "execution_count": 125,
   "id": "eea9f909-c989-4b96-af5e-61a9bde9a824",
   "metadata": {
    "tags": []
   },
   "outputs": [
    {
     "data": {
      "text/plain": [
       "'hitter_names = empiric_panel_hitter.columns\\nfor index in range(0,len(hitter_names)):\\n    print(\"Name: \" + str(hitter_names[index]))\\n    print(\"index: \" + str(index))'"
      ]
     },
     "execution_count": 125,
     "metadata": {},
     "output_type": "execute_result"
    }
   ],
   "source": [
    "\"\"\"hitter_names = empiric_panel_hitter.columns\n",
    "for index in range(0,len(hitter_names)):\n",
    "    print(\"Name: \" + str(hitter_names[index]))\n",
    "    print(\"index: \" + str(index))\"\"\""
   ]
  },
  {
   "cell_type": "markdown",
   "id": "b31fbc7f-8da4-40e2-a2e0-d00304e8e974",
   "metadata": {},
   "source": [
    "Obtengamos los índices de las columnas de interes"
   ]
  },
  {
   "cell_type": "code",
   "execution_count": 126,
   "id": "e7ea7243-9357-4a2a-8935-17e27b309dfc",
   "metadata": {},
   "outputs": [],
   "source": [
    "hitter_regular_stats = ['At_bats_2_t', 'At_bats_t',\n",
    "                        'Bateos_2_t', 'Bateos_t',\n",
    "                        'Bateos_promedio_2_t', 'Bateos_promedio_t',\n",
    "                        'Dobles_2_t', 'Dobles_t',\n",
    "                        'Home_runs_2_t', 'Home_runs_t',\n",
    "                        'Ingresos_equipo_2_t', 'Ingresos_equipo_t',\n",
    "                        'Juegos_iniciados_2_t', 'Juegos_iniciados_t', \n",
    "                        'Porcentaje_On_base_plus_slugging_2_t', 'Porcentaje_On_base_plus_slugging_t',\n",
    "                        'Porcentaje_on_base_2_t', 'Porcentaje_on_base_t',\n",
    "                        'Porcentaje_slugging_2_t', 'Porcentaje_slugging_t',\n",
    "                        'Runs_batted_in_2_t', 'Runs_batted_in_t',\n",
    "                        'Triples_2_t', 'Triples_t',\n",
    "                        'WAR_2_t', 'WAR_t',\n",
    "                        'At_bats_2_t_1', 'At_bats_t_1',\n",
    "                        'Bateos_2_t_1', 'Bateos_t_1',\n",
    "                        'Bateos_promedio_2_t_1', 'Bateos_promedio_t_1',\n",
    "                        'Dobles_2_t_1', 'Dobles_t_1',\n",
    "                        'Home_runs_2_t_1', 'Home_runs_t_1',\n",
    "                        'Ingresos_equipo_2_t_1', 'Ingresos_equipo_t_1',\n",
    "                        'Juegos_iniciados_2_t_1', 'Juegos_iniciados_t_1', \n",
    "                        'Porcentaje_On_base_plus_slugging_2_t_1', 'Porcentaje_On_base_plus_slugging_t_1',\n",
    "                        'Porcentaje_on_base_2_t_1', 'Porcentaje_on_base_t_1',\n",
    "                        'Porcentaje_slugging_2_t_1', 'Porcentaje_slugging_t_1',\n",
    "                        'Runs_batted_in_2_t_1', 'Runs_batted_in_t_1',\n",
    "                        'Triples_2_t_1', 'Triples_t_1',\n",
    "                        'WAR_2_t_1', 'WAR_t_1']\n",
    "hitter_regular_stats = sorted(hitter_regular_stats)"
   ]
  },
  {
   "cell_type": "code",
   "execution_count": 127,
   "id": "816673ae-2ab9-4330-928e-12411dffc22a",
   "metadata": {},
   "outputs": [
    {
     "name": "stdout",
     "output_type": "stream",
     "text": [
      "Acronimo_t\n",
      "Acronimo_t_1\n",
      "Altura_t\n",
      "Altura_t_1\n",
      "Anio_de_agente_libre_t\n",
      "Anio_de_agente_libre_t_1\n",
      "Anio_t\n",
      "Anios_de_contrato_t\n",
      "Anios_de_contrato_t_1\n",
      "Antiguedad_t\n",
      "Antiguedad_t_1\n",
      "At_bats_2_t\n",
      "At_bats_2_t_1\n",
      "At_bats_t\n",
      "At_bats_t_1\n",
      "Bateos_2_t\n",
      "Bateos_2_t_1\n",
      "Bateos_promedio_2_t\n",
      "Bateos_promedio_2_t_1\n",
      "Bateos_promedio_t\n",
      "Bateos_promedio_t_1\n",
      "Bateos_t\n",
      "Bateos_t_1\n",
      "Bono_por_firma_t\n",
      "Bono_por_firma_t_1\n",
      "Cantidad de equipos_t\n",
      "Cantidad_agentes_libres_t\n",
      "Cantidad_agentes_libres_t_1\n",
      "Cantidad_de_equipos_t\n",
      "Cantidad_de_equipos_t_1\n",
      "Dobles_2_t\n",
      "Dobles_2_t_1\n",
      "Dobles_t\n",
      "Dobles_t_1\n",
      "Edad_al_firmar_t\n",
      "Edad_al_firmar_t_1\n",
      "Edad_t\n",
      "Equipo_anterior\n",
      "Equipo_t\n",
      "Equipo_t_1\n",
      "Estado_t\n",
      "Ganancias_t\n",
      "Ganancias_t_1\n",
      "Home_runs_2_t\n",
      "Home_runs_2_t_1\n",
      "Home_runs_t\n",
      "Home_runs_t_1\n",
      "Ingresos_equipo_2_t\n",
      "Ingresos_equipo_2_t_1\n",
      "Ingresos_equipo_t\n",
      "Ingresos_equipo_t_1\n",
      "Juegos totales_t\n",
      "Juegos_iniciados_2_t\n",
      "Juegos_iniciados_2_t_1\n",
      "Juegos_iniciados_t\n",
      "Juegos_iniciados_t_1\n",
      "Juegos_t\n",
      "Juegos_t_1\n",
      "Juegos_totales_t\n",
      "Juegos_totales_t_1\n",
      "Jugador\n",
      "Pago_efectivo_t\n",
      "Pago_efectivo_t_1\n",
      "Pennants won_t\n",
      "Pennants_won_t\n",
      "Pennants_won_t_1\n",
      "Peso_t\n",
      "Peso_t_1\n",
      "Playoffs_t\n",
      "Playoffs_t_1\n",
      "Porcentaje_On_base_plus_slugging_2_t\n",
      "Porcentaje_On_base_plus_slugging_2_t_1\n",
      "Porcentaje_On_base_plus_slugging_t\n",
      "Porcentaje_On_base_plus_slugging_t_1\n",
      "Porcentaje_juegos_iniciados_2_t\n",
      "Porcentaje_juegos_iniciados_2_t_1\n",
      "Porcentaje_juegos_iniciados_t\n",
      "Porcentaje_juegos_iniciados_t_1\n",
      "Porcentaje_juegos_t\n",
      "Porcentaje_juegos_t_1\n",
      "Porcentaje_on_base_2_t\n",
      "Porcentaje_on_base_2_t_1\n",
      "Porcentaje_on_base_t\n",
      "Porcentaje_on_base_t_1\n",
      "Porcentaje_slugging_2_t\n",
      "Porcentaje_slugging_2_t_1\n",
      "Porcentaje_slugging_t\n",
      "Porcentaje_slugging_t_1\n",
      "Posicion_t\n",
      "Posicion_t_1\n",
      "Promedio_victorias_t\n",
      "Promedio_victorias_t_1\n",
      "Runs_batted_in_2_t\n",
      "Runs_batted_in_2_t_1\n",
      "Runs_batted_in_t\n",
      "Runs_batted_in_t_1\n",
      "Status_agente_libre\n",
      "Sueldo_ajustado_t\n",
      "Sueldo_ajustado_t_1\n",
      "Sueldo_base_t\n",
      "Sueldo_base_t_1\n",
      "Sueldo_porcentual_t\n",
      "Sueldo_porcentual_t_1\n",
      "Sueldo_regular_t\n",
      "Sueldo_regular_t_1\n",
      "TVS_2_t\n",
      "TVS_2_t_1\n",
      "TVS_t\n",
      "TVS_t_1\n",
      "Triples_2_t\n",
      "Triples_2_t_1\n",
      "Triples_t\n",
      "Triples_t_1\n",
      "Valor_contrato\n",
      "Valor_contrato_promedio_t\n",
      "Valor_contrato_promedio_t_1\n",
      "Valor_contrato_total_t\n",
      "Valor_contrato_total_t_1\n",
      "Valor_del_contrato_t\n",
      "Valor_del_contrato_t_1\n",
      "Valor_promedio_contrato\n",
      "Victorias_t\n",
      "Victorias_t_1\n",
      "WAR_2_t\n",
      "WAR_2_t_1\n",
      "WAR_t\n",
      "WAR_t_1\n",
      "WS ganadas_t\n",
      "WS_ganadas_t\n",
      "WS_ganadas_t_1\n",
      "ln_Sueldo_ajustado_t\n",
      "ln_Sueldo_base_t\n",
      "ln_Sueldo_regular_t\n"
     ]
    }
   ],
   "source": [
    "for name in empiric_panel_hitter.columns:\n",
    "    print(name)"
   ]
  },
  {
   "cell_type": "code",
   "execution_count": 128,
   "id": "537148e4-44df-4b1b-9395-aa6ca83c16d7",
   "metadata": {},
   "outputs": [],
   "source": [
    "# Hitter\n",
    "for stat in range(0,len(hitter_regular_stats)):\n",
    "    # Variables auxiliares\n",
    "    stat_name = hitter_regular_stats[stat]\n",
    "    max_stat_name = stat_name + '_H'\n",
    "    min_stat_name = stat_name + '_L'\n",
    "    \n",
    "    # Máximos por equipo\n",
    "    max_stat = pd.DataFrame({\"Acronimo_t\":empiric_panel_hitter.groupby(by = \"Acronimo_t\")[stat_name].max().index,\n",
    "                             max_stat_name: empiric_panel_hitter.groupby(by = \"Acronimo_t\")[stat_name].max().values})\n",
    "    # Mínimos por equipo\n",
    "    min_stat = pd.DataFrame({\"Acronimo_t\":empiric_panel_hitter.groupby(by = \"Acronimo_t\")[stat_name].min().index,\n",
    "                             min_stat_name: empiric_panel_hitter.groupby(by = \"Acronimo_t\")[stat_name].min().values})\n",
    "    empiric_panel_hitter = empiric_panel_hitter.merge(max_stat, on = \"Acronimo_t\",\n",
    "                                                      how = \"left\")\n",
    "    empiric_panel_hitter = empiric_panel_hitter.merge(min_stat, on = \"Acronimo_t\",\n",
    "                                                      how = \"left\")"
   ]
  },
  {
   "cell_type": "code",
   "execution_count": 129,
   "id": "77b801de-05ba-4aef-9137-1d2aeb244c97",
   "metadata": {
    "tags": []
   },
   "outputs": [
    {
     "data": {
      "text/plain": [
       "'hitter_names = empiric_panel_hitter.columns\\nfor index in range(0,len(hitter_names)):\\n    print(\"Name: \" + str(hitter_names[index]))\\n    print(\"index: \" + str(index))'"
      ]
     },
     "execution_count": 129,
     "metadata": {},
     "output_type": "execute_result"
    }
   ],
   "source": [
    "\"\"\"hitter_names = empiric_panel_hitter.columns\n",
    "for index in range(0,len(hitter_names)):\n",
    "    print(\"Name: \" + str(hitter_names[index]))\n",
    "    print(\"index: \" + str(index))\"\"\""
   ]
  },
  {
   "cell_type": "code",
   "execution_count": 130,
   "id": "8193af4f-c241-4d4d-b424-061c17ca984d",
   "metadata": {},
   "outputs": [
    {
     "data": {
      "text/html": [
       "<div>\n",
       "<style scoped>\n",
       "    .dataframe tbody tr th:only-of-type {\n",
       "        vertical-align: middle;\n",
       "    }\n",
       "\n",
       "    .dataframe tbody tr th {\n",
       "        vertical-align: top;\n",
       "    }\n",
       "\n",
       "    .dataframe thead th {\n",
       "        text-align: right;\n",
       "    }\n",
       "</style>\n",
       "<table border=\"1\" class=\"dataframe\">\n",
       "  <thead>\n",
       "    <tr style=\"text-align: right;\">\n",
       "      <th></th>\n",
       "      <th>At_bats_2_t_1_H</th>\n",
       "      <th>At_bats_2_t_1_L</th>\n",
       "      <th>At_bats_t_H</th>\n",
       "      <th>At_bats_t_L</th>\n",
       "      <th>At_bats_t_1_H</th>\n",
       "      <th>At_bats_t_1_L</th>\n",
       "      <th>Bateos_2_t_H</th>\n",
       "      <th>Bateos_2_t_L</th>\n",
       "      <th>Bateos_2_t_1_H</th>\n",
       "      <th>Bateos_2_t_1_L</th>\n",
       "      <th>...</th>\n",
       "      <th>Triples_t_1_L</th>\n",
       "      <th>WAR_2_t_H</th>\n",
       "      <th>WAR_2_t_L</th>\n",
       "      <th>WAR_2_t_1_H</th>\n",
       "      <th>WAR_2_t_1_L</th>\n",
       "      <th>WAR_t_H</th>\n",
       "      <th>WAR_t_L</th>\n",
       "      <th>WAR_t_1_H</th>\n",
       "      <th>Acronimo_t</th>\n",
       "      <th>WAR_t_1_L</th>\n",
       "    </tr>\n",
       "  </thead>\n",
       "  <tbody>\n",
       "  </tbody>\n",
       "</table>\n",
       "<p>0 rows × 103 columns</p>\n",
       "</div>"
      ],
      "text/plain": [
       "Empty DataFrame\n",
       "Columns: [At_bats_2_t_1_H, At_bats_2_t_1_L, At_bats_t_H, At_bats_t_L, At_bats_t_1_H, At_bats_t_1_L, Bateos_2_t_H, Bateos_2_t_L, Bateos_2_t_1_H, Bateos_2_t_1_L, Bateos_promedio_2_t_H, Bateos_promedio_2_t_L, Bateos_promedio_2_t_1_H, Bateos_promedio_2_t_1_L, Bateos_promedio_t_H, Bateos_promedio_t_L, Bateos_promedio_t_1_H, Bateos_promedio_t_1_L, Bateos_t_H, Bateos_t_L, Bateos_t_1_H, Bateos_t_1_L, Dobles_2_t_H, Dobles_2_t_L, Dobles_2_t_1_H, Dobles_2_t_1_L, Dobles_t_H, Dobles_t_L, Dobles_t_1_H, Dobles_t_1_L, Home_runs_2_t_H, Home_runs_2_t_L, Home_runs_2_t_1_H, Home_runs_2_t_1_L, Home_runs_t_H, Home_runs_t_L, Home_runs_t_1_H, Home_runs_t_1_L, Ingresos_equipo_2_t_H, Ingresos_equipo_2_t_L, Ingresos_equipo_2_t_1_H, Ingresos_equipo_2_t_1_L, Ingresos_equipo_t_H, Ingresos_equipo_t_L, Ingresos_equipo_t_1_H, Ingresos_equipo_t_1_L, Juegos_iniciados_2_t_H, Juegos_iniciados_2_t_L, Juegos_iniciados_2_t_1_H, Juegos_iniciados_2_t_1_L, Juegos_iniciados_t_H, Juegos_iniciados_t_L, Juegos_iniciados_t_1_H, Juegos_iniciados_t_1_L, Porcentaje_On_base_plus_slugging_2_t_H, Porcentaje_On_base_plus_slugging_2_t_L, Porcentaje_On_base_plus_slugging_2_t_1_H, Porcentaje_On_base_plus_slugging_2_t_1_L, Porcentaje_On_base_plus_slugging_t_H, Porcentaje_On_base_plus_slugging_t_L, Porcentaje_On_base_plus_slugging_t_1_H, Porcentaje_On_base_plus_slugging_t_1_L, Porcentaje_on_base_2_t_H, Porcentaje_on_base_2_t_L, Porcentaje_on_base_2_t_1_H, Porcentaje_on_base_2_t_1_L, Porcentaje_on_base_t_H, Porcentaje_on_base_t_L, Porcentaje_on_base_t_1_H, Porcentaje_on_base_t_1_L, Porcentaje_slugging_2_t_H, Porcentaje_slugging_2_t_L, Porcentaje_slugging_2_t_1_H, Porcentaje_slugging_2_t_1_L, Porcentaje_slugging_t_H, Porcentaje_slugging_t_L, Porcentaje_slugging_t_1_H, Porcentaje_slugging_t_1_L, Runs_batted_in_2_t_H, Runs_batted_in_2_t_L, Runs_batted_in_2_t_1_H, Runs_batted_in_2_t_1_L, Runs_batted_in_t_H, Runs_batted_in_t_L, Runs_batted_in_t_1_H, Runs_batted_in_t_1_L, Triples_2_t_H, Triples_2_t_L, Triples_2_t_1_H, Triples_2_t_1_L, Triples_t_H, Triples_t_L, Triples_t_1_H, Triples_t_1_L, WAR_2_t_H, WAR_2_t_L, WAR_2_t_1_H, WAR_2_t_1_L, WAR_t_H, WAR_t_L, ...]\n",
       "Index: []\n",
       "\n",
       "[0 rows x 103 columns]"
      ]
     },
     "execution_count": 130,
     "metadata": {},
     "output_type": "execute_result"
    }
   ],
   "source": [
    "start = empiric_panel_hitter.columns.get_loc('At_bats_2_t_1_H')\n",
    "end = empiric_panel_hitter.columns.get_loc('WAR_t_1_L') + 1\n",
    "empiric_panel_hitter.iloc[:,start:end]"
   ]
  },
  {
   "cell_type": "markdown",
   "id": "987393ba-edeb-4b17-9936-3853d55f53e2",
   "metadata": {},
   "source": [
    "Repitamos el mismo proceso para los lanzadores"
   ]
  },
  {
   "cell_type": "code",
   "execution_count": 131,
   "id": "fec56e12-b136-47b8-84e7-1091cac4a151",
   "metadata": {
    "tags": []
   },
   "outputs": [
    {
     "data": {
      "text/plain": [
       "'pitcher_names = empiric_panel_pitcher.columns\\nfor index in range(0,len(pitcher_names)):\\n    print(\"Name: \" + str(pitcher_names[index]))\\n    print(\"index: \" + str(index))'"
      ]
     },
     "execution_count": 131,
     "metadata": {},
     "output_type": "execute_result"
    }
   ],
   "source": [
    "\"\"\"pitcher_names = empiric_panel_pitcher.columns\n",
    "for index in range(0,len(pitcher_names)):\n",
    "    print(\"Name: \" + str(pitcher_names[index]))\n",
    "    print(\"index: \" + str(index))\"\"\""
   ]
  },
  {
   "cell_type": "markdown",
   "id": "db41f8a9-b3ac-40e2-94f3-682431138f39",
   "metadata": {},
   "source": [
    "Repitamos el mismo proceso para los filderos"
   ]
  },
  {
   "cell_type": "code",
   "execution_count": 132,
   "id": "cf1d9d91-c0a8-4de8-8a0e-844ec7e739eb",
   "metadata": {},
   "outputs": [
    {
     "name": "stdout",
     "output_type": "stream",
     "text": [
      "['Bateos_2_t', 'Bateos_2_t_1', 'Bateos_t', 'Bateos_t_1', 'Carreras_2_t', 'Carreras_2_t_1', 'Carreras_ganadas_2_t', 'Carreras_ganadas_2_t_1', 'Carreras_ganadas_t', 'Carreras_ganadas_t_1', 'Carreras_t', 'Carreras_t_1', 'Comando_2_t', 'Comando_2_t_1', 'Comando_t', 'Comando_t_1', 'Control_2_t', 'Control_2_t_1', 'Control_t', 'Control_t_1', 'Dominio_2_t', 'Dominio_2_t_1', 'Dominio_t', 'Dominio_t_1', 'ERA_2_t', 'ERA_2_t_1', 'ERA_t', 'ERA_t_1', 'Ingresos_equipo_2_t', 'Ingresos_equipo_2_t_1', 'Ingresos_equipo_t', 'Ingresos_equipo_t_1', 'Inning_pitched_2_t', 'Inning_pitched_2_t_1', 'Inning_pitched_t', 'Inning_pitched_t_1', 'Losses_2_t', 'Losses_2_t_1', 'Losses_t', 'Losses_t_1', 'Saves_2_t', 'Saves_2_t_1', 'Saves_t', 'Saves_t_1', 'Strike_outs_2_t', 'Strike_outs_2_t_1', 'Strike_outs_t', 'Strike_outs_t_1', 'WAR_2_t', 'WAR_2_t_1', 'WAR_t', 'WAR_t_1', 'WHIP_2_t', 'WHIP_2_t_1', 'WHIP_t', 'WHIP_t_1', 'Walks_2_t', 'Walks_2_t_1', 'Walks_t', 'Walks_t_1', 'Wins_2_t', 'Wins_2_t_1', 'Wins_t', 'Wins_t_1']\n"
     ]
    }
   ],
   "source": [
    "pitcher_regular_stats = ['Bateos_2', 'Bateos',\n",
    "                        'Carreras_2', 'Carreras',\n",
    "                        'Carreras_ganadas_2', 'Carreras_ganadas',\n",
    "                        'Comando_2', 'Comando',\n",
    "                        'Control_2', 'Control',\n",
    "                        'Dominio_2', 'Dominio', \n",
    "                        'ERA_2', 'ERA',\n",
    "                        'Ingresos_equipo_2', 'Ingresos_equipo',\n",
    "                        'Inning_pitched_2', 'Inning_pitched',\n",
    "                        'Losses_2', 'Losses',\n",
    "                        'Saves_2', 'Saves',\n",
    "                        'Strike_outs_2', 'Strike_outs',\n",
    "                        'WAR_2', 'WAR',\n",
    "                        'WHIP_2', 'WHIP',\n",
    "                        'Walks_2', 'Walks',\n",
    "                        'Wins_2', 'Wins']\n",
    "\n",
    "# Agregar sufijo \"_t\" a cada variable\n",
    "pitcher_regular_stats_t = [var + \"_t\" for var in pitcher_regular_stats]\n",
    "\n",
    "# Agregar sufijo \"_t_1\" a cada variable\n",
    "pitcher_regular_stats_t_1 = [var + \"_t_1\" for var in pitcher_regular_stats]\n",
    "\n",
    "pitcher_regular_stats = pitcher_regular_stats_t + pitcher_regular_stats_t_1\n",
    "pitcher_regular_stats = sorted(pitcher_regular_stats)\n",
    "\n",
    "print(pitcher_regular_stats)"
   ]
  },
  {
   "cell_type": "code",
   "execution_count": 133,
   "id": "5c1c7685-aacb-48cf-892f-696d833e9f6a",
   "metadata": {},
   "outputs": [],
   "source": [
    "# Pitcheer\n",
    "for stat in range(0,len(pitcher_regular_stats)):\n",
    "    # Variables auxiliares\n",
    "    stat_name = pitcher_regular_stats[stat]\n",
    "    max_stat_name = stat_name + '_H'\n",
    "    min_stat_name = stat_name + '_L'\n",
    "    \n",
    "    # Máximos por equipo\n",
    "    max_stat = pd.DataFrame({\"Acronimo_t\":empiric_panel_pitcher.groupby(by = \"Acronimo_t\")[stat_name].max().index,\n",
    "                             max_stat_name: empiric_panel_pitcher.groupby(by = \"Acronimo_t\")[stat_name].max().values})\n",
    "    # Mínimos por equipo\n",
    "    min_stat = pd.DataFrame({\"Acronimo_t\":empiric_panel_pitcher.groupby(by = \"Acronimo_t\")[stat_name].min().index,\n",
    "                             min_stat_name: empiric_panel_pitcher.groupby(by = \"Acronimo_t\")[stat_name].min().values})\n",
    "    empiric_panel_pitcher = empiric_panel_pitcher.merge(max_stat, on = \"Acronimo_t\",\n",
    "                                                        how = \"left\")\n",
    "    empiric_panel_pitcher = empiric_panel_pitcher.merge(min_stat, on = \"Acronimo_t\",\n",
    "                                                        how = \"left\")"
   ]
  },
  {
   "cell_type": "code",
   "execution_count": 134,
   "id": "0c2169c2-fba4-426a-bc83-fdc9d6dba537",
   "metadata": {
    "tags": []
   },
   "outputs": [
    {
     "data": {
      "text/plain": [
       "'pitcher_names = empiric_panel_pitcher.columns\\nfor index in range(0,len(pitcher_names)):\\n    print(\"Name: \" + str(pitcher_names[index]))\\n    print(\"index: \" + str(index))'"
      ]
     },
     "execution_count": 134,
     "metadata": {},
     "output_type": "execute_result"
    }
   ],
   "source": [
    "\"\"\"pitcher_names = empiric_panel_pitcher.columns\n",
    "for index in range(0,len(pitcher_names)):\n",
    "    print(\"Name: \" + str(pitcher_names[index]))\n",
    "    print(\"index: \" + str(index))\"\"\""
   ]
  },
  {
   "cell_type": "code",
   "execution_count": 135,
   "id": "081fb4ef-ea38-476a-9c1f-0ba7ea61eac3",
   "metadata": {},
   "outputs": [
    {
     "data": {
      "text/html": [
       "<div>\n",
       "<style scoped>\n",
       "    .dataframe tbody tr th:only-of-type {\n",
       "        vertical-align: middle;\n",
       "    }\n",
       "\n",
       "    .dataframe tbody tr th {\n",
       "        vertical-align: top;\n",
       "    }\n",
       "\n",
       "    .dataframe thead th {\n",
       "        text-align: right;\n",
       "    }\n",
       "</style>\n",
       "<table border=\"1\" class=\"dataframe\">\n",
       "  <thead>\n",
       "    <tr style=\"text-align: right;\">\n",
       "      <th></th>\n",
       "      <th>Bateos_2_t_1_H</th>\n",
       "      <th>Bateos_2_t_1_L</th>\n",
       "      <th>Bateos_t_H</th>\n",
       "      <th>Bateos_t_L</th>\n",
       "      <th>Bateos_t_1_H</th>\n",
       "      <th>Bateos_t_1_L</th>\n",
       "      <th>Carreras_2_t_H</th>\n",
       "      <th>Carreras_2_t_L</th>\n",
       "      <th>Carreras_2_t_1_H</th>\n",
       "      <th>Carreras_2_t_1_L</th>\n",
       "      <th>...</th>\n",
       "      <th>Walks_t_1_L</th>\n",
       "      <th>Wins_2_t_H</th>\n",
       "      <th>Wins_2_t_L</th>\n",
       "      <th>Wins_2_t_1_H</th>\n",
       "      <th>Wins_2_t_1_L</th>\n",
       "      <th>Wins_t_H</th>\n",
       "      <th>Wins_t_L</th>\n",
       "      <th>Wins_t_1_H</th>\n",
       "      <th>Acronimo_t</th>\n",
       "      <th>Wins_t_1_L</th>\n",
       "    </tr>\n",
       "  </thead>\n",
       "  <tbody>\n",
       "  </tbody>\n",
       "</table>\n",
       "<p>0 rows × 127 columns</p>\n",
       "</div>"
      ],
      "text/plain": [
       "Empty DataFrame\n",
       "Columns: [Bateos_2_t_1_H, Bateos_2_t_1_L, Bateos_t_H, Bateos_t_L, Bateos_t_1_H, Bateos_t_1_L, Carreras_2_t_H, Carreras_2_t_L, Carreras_2_t_1_H, Carreras_2_t_1_L, Carreras_ganadas_2_t_H, Carreras_ganadas_2_t_L, Carreras_ganadas_2_t_1_H, Carreras_ganadas_2_t_1_L, Carreras_ganadas_t_H, Carreras_ganadas_t_L, Carreras_ganadas_t_1_H, Carreras_ganadas_t_1_L, Carreras_t_H, Carreras_t_L, Carreras_t_1_H, Carreras_t_1_L, Comando_2_t_H, Comando_2_t_L, Comando_2_t_1_H, Comando_2_t_1_L, Comando_t_H, Comando_t_L, Comando_t_1_H, Comando_t_1_L, Control_2_t_H, Control_2_t_L, Control_2_t_1_H, Control_2_t_1_L, Control_t_H, Control_t_L, Control_t_1_H, Control_t_1_L, Dominio_2_t_H, Dominio_2_t_L, Dominio_2_t_1_H, Dominio_2_t_1_L, Dominio_t_H, Dominio_t_L, Dominio_t_1_H, Dominio_t_1_L, ERA_2_t_H, ERA_2_t_L, ERA_2_t_1_H, ERA_2_t_1_L, ERA_t_H, ERA_t_L, ERA_t_1_H, ERA_t_1_L, Ingresos_equipo_2_t_H, Ingresos_equipo_2_t_L, Ingresos_equipo_2_t_1_H, Ingresos_equipo_2_t_1_L, Ingresos_equipo_t_H, Ingresos_equipo_t_L, Ingresos_equipo_t_1_H, Ingresos_equipo_t_1_L, Inning_pitched_2_t_H, Inning_pitched_2_t_L, Inning_pitched_2_t_1_H, Inning_pitched_2_t_1_L, Inning_pitched_t_H, Inning_pitched_t_L, Inning_pitched_t_1_H, Inning_pitched_t_1_L, Losses_2_t_H, Losses_2_t_L, Losses_2_t_1_H, Losses_2_t_1_L, Losses_t_H, Losses_t_L, Losses_t_1_H, Losses_t_1_L, Saves_2_t_H, Saves_2_t_L, Saves_2_t_1_H, Saves_2_t_1_L, Saves_t_H, Saves_t_L, Saves_t_1_H, Saves_t_1_L, Strike_outs_2_t_H, Strike_outs_2_t_L, Strike_outs_2_t_1_H, Strike_outs_2_t_1_L, Strike_outs_t_H, Strike_outs_t_L, Strike_outs_t_1_H, Strike_outs_t_1_L, WAR_2_t_H, WAR_2_t_L, WAR_2_t_1_H, WAR_2_t_1_L, WAR_t_H, WAR_t_L, ...]\n",
       "Index: []\n",
       "\n",
       "[0 rows x 127 columns]"
      ]
     },
     "execution_count": 135,
     "metadata": {},
     "output_type": "execute_result"
    }
   ],
   "source": [
    "start = empiric_panel_pitcher.columns.get_loc('Bateos_2_t_1_H')\n",
    "end = empiric_panel_pitcher.columns.get_loc('Wins_t_1_L') + 1\n",
    "empiric_panel_pitcher.iloc[:,start:end]"
   ]
  },
  {
   "cell_type": "markdown",
   "id": "da21c5bd-f4bf-4f38-9d9c-9b67a626a541",
   "metadata": {},
   "source": [
    "Lo que se hará ahora es agregar todos los años (12) para cada agente en la base de datos y rellenar los *NaN* faltantes con 0 ya que representan la ausencia de desempeño en este caso."
   ]
  },
  {
   "cell_type": "code",
   "execution_count": 136,
   "id": "b39eeceb-764f-470b-afb8-f41638cd7f2b",
   "metadata": {},
   "outputs": [],
   "source": [
    "# Hitter\n",
    "empiric_panel_hitter = empiric_panel_hitter[\"Anio_t\"].drop_duplicates().to_frame().merge(empiric_panel_hitter[\"Jugador\"].drop_duplicates(),\n",
    "                                                                                         how = \"cross\").merge(empiric_panel_hitter,\n",
    "                                                                                                              how = \"left\")\n",
    "empiric_panel_hitter.reset_index(drop = True, inplace = True)\n",
    "\n",
    "# Pitcher\n",
    "empiric_panel_pitcher = empiric_panel_pitcher[\"Anio_t\"].drop_duplicates().to_frame().merge(empiric_panel_pitcher[\"Jugador\"].drop_duplicates(),\n",
    "                                                                                           how = \"cross\").merge(empiric_panel_pitcher,\n",
    "                                                                                                                how = \"left\")\n",
    "empiric_panel_pitcher.reset_index(drop = True, inplace = True)"
   ]
  },
  {
   "cell_type": "markdown",
   "id": "8cec0a0b-bf7f-45fc-9e27-d0a5a512bac2",
   "metadata": {},
   "source": [
    "Veamos las dimensiones"
   ]
  },
  {
   "cell_type": "code",
   "execution_count": 137,
   "id": "f6f8fe0a-6c10-4b63-b2cc-7d7c0444a12c",
   "metadata": {},
   "outputs": [
    {
     "data": {
      "text/plain": [
       "(0, 237)"
      ]
     },
     "execution_count": 137,
     "metadata": {},
     "output_type": "execute_result"
    }
   ],
   "source": [
    "empiric_panel_hitter.shape"
   ]
  },
  {
   "cell_type": "code",
   "execution_count": 138,
   "id": "79e98f66-dc0c-416e-8cef-47da9fdc25a4",
   "metadata": {},
   "outputs": [
    {
     "data": {
      "text/plain": [
       "(0, 271)"
      ]
     },
     "execution_count": 138,
     "metadata": {},
     "output_type": "execute_result"
    }
   ],
   "source": [
    "empiric_panel_pitcher.shape"
   ]
  },
  {
   "cell_type": "markdown",
   "id": "ad02f7bc-f28e-4eab-920e-4cf4d049bc49",
   "metadata": {},
   "source": [
    "Para ser consistentes, las columnas que contienen datos de tipo *string* las imputaremos con la palabra *No* ya que representará que no tenía equipo, ni posición, etc."
   ]
  },
  {
   "cell_type": "code",
   "execution_count": 139,
   "id": "2acb5fa5-44f3-47df-9712-7d3810c422a4",
   "metadata": {},
   "outputs": [
    {
     "name": "stdout",
     "output_type": "stream",
     "text": [
      "<class 'pandas.core.frame.DataFrame'>\n",
      "RangeIndex: 0 entries\n",
      "Data columns (total 11 columns):\n",
      " #   Column               Non-Null Count  Dtype \n",
      "---  ------               --------------  ----- \n",
      " 0   Acronimo_t_1         0 non-null      object\n",
      " 1   Anio_t               0 non-null      object\n",
      " 2   Equipo_anterior      0 non-null      object\n",
      " 3   Equipo_t             0 non-null      object\n",
      " 4   Equipo_t_1           0 non-null      object\n",
      " 5   Estado_t             0 non-null      object\n",
      " 6   Jugador              0 non-null      object\n",
      " 7   Posicion_t           0 non-null      object\n",
      " 8   Posicion_t_1         0 non-null      object\n",
      " 9   Status_agente_libre  0 non-null      object\n",
      " 10  Acronimo_t           0 non-null      object\n",
      "dtypes: object(11)\n",
      "memory usage: 124.0+ bytes\n"
     ]
    }
   ],
   "source": [
    "empiric_panel_hitter.select_dtypes(include =['object'],\n",
    "                                   exclude = ['int64','float64']).info()"
   ]
  },
  {
   "cell_type": "code",
   "execution_count": 140,
   "id": "2160fec8-2a0d-4cc4-b2d6-de527d027157",
   "metadata": {},
   "outputs": [],
   "source": [
    "empiric_panel_hitter[['Acronimo_t',\n",
    "                      'Equipo_anterior',\n",
    "                      'Equipo_t',\n",
    "                      'Estado_t',\n",
    "                      'Posicion_t',\n",
    "                      'Status_agente_libre',\n",
    "                      'Acronimo_t_1',\n",
    "                      'Equipo_t_1',\n",
    "                      'Posicion_t_1']] = \\\n",
    "empiric_panel_hitter[['Acronimo_t',\n",
    "                      'Equipo_anterior',\n",
    "                      'Equipo_t',\n",
    "                      'Estado_t',\n",
    "                      'Posicion_t',\n",
    "                      'Status_agente_libre',\n",
    "                      'Acronimo_t_1',\n",
    "                      'Equipo_t_1',\n",
    "                      'Posicion_t_1']].fillna('No')"
   ]
  },
  {
   "cell_type": "markdown",
   "id": "bd8a8c39-950d-4daa-be05-7aac02837c11",
   "metadata": {},
   "source": [
    "Veamos si funcionó la imputación"
   ]
  },
  {
   "cell_type": "code",
   "execution_count": 141,
   "id": "cf6ae215-fdc5-44c9-94ec-543019e53d0a",
   "metadata": {},
   "outputs": [
    {
     "name": "stdout",
     "output_type": "stream",
     "text": [
      "<class 'pandas.core.frame.DataFrame'>\n",
      "RangeIndex: 0 entries\n",
      "Data columns (total 11 columns):\n",
      " #   Column               Non-Null Count  Dtype \n",
      "---  ------               --------------  ----- \n",
      " 0   Acronimo_t_1         0 non-null      object\n",
      " 1   Anio_t               0 non-null      object\n",
      " 2   Equipo_anterior      0 non-null      object\n",
      " 3   Equipo_t             0 non-null      object\n",
      " 4   Equipo_t_1           0 non-null      object\n",
      " 5   Estado_t             0 non-null      object\n",
      " 6   Jugador              0 non-null      object\n",
      " 7   Posicion_t           0 non-null      object\n",
      " 8   Posicion_t_1         0 non-null      object\n",
      " 9   Status_agente_libre  0 non-null      object\n",
      " 10  Acronimo_t           0 non-null      object\n",
      "dtypes: object(11)\n",
      "memory usage: 124.0+ bytes\n"
     ]
    }
   ],
   "source": [
    "empiric_panel_hitter.select_dtypes(include =['object'],\n",
    "                                   exclude = ['int64','float64']).info()"
   ]
  },
  {
   "cell_type": "markdown",
   "id": "db27ecc9-0f20-4ffc-b3cc-7a17c5ffdd24",
   "metadata": {},
   "source": [
    "Ahora con los lanzadores"
   ]
  },
  {
   "cell_type": "code",
   "execution_count": 142,
   "id": "4409cd9e-2124-4845-b664-3bb0e4119915",
   "metadata": {},
   "outputs": [
    {
     "name": "stdout",
     "output_type": "stream",
     "text": [
      "<class 'pandas.core.frame.DataFrame'>\n",
      "RangeIndex: 0 entries\n",
      "Data columns (total 11 columns):\n",
      " #   Column               Non-Null Count  Dtype \n",
      "---  ------               --------------  ----- \n",
      " 0   Acronimo_t_1         0 non-null      object\n",
      " 1   Anio_t               0 non-null      object\n",
      " 2   Equipo_anterior      0 non-null      object\n",
      " 3   Equipo_t             0 non-null      object\n",
      " 4   Equipo_t_1           0 non-null      object\n",
      " 5   Estado_t             0 non-null      object\n",
      " 6   Jugador              0 non-null      object\n",
      " 7   Posicion_t           0 non-null      object\n",
      " 8   Posicion_t_1         0 non-null      object\n",
      " 9   Status_agente_libre  0 non-null      object\n",
      " 10  Acronimo_t           0 non-null      object\n",
      "dtypes: object(11)\n",
      "memory usage: 124.0+ bytes\n"
     ]
    }
   ],
   "source": [
    "empiric_panel_pitcher.select_dtypes(include =['object'],\n",
    "                                    exclude = ['int64','float64']).info()"
   ]
  },
  {
   "cell_type": "code",
   "execution_count": 143,
   "id": "8329e198-85f5-49c2-b4b9-5cd36ecb3a45",
   "metadata": {},
   "outputs": [],
   "source": [
    "empiric_panel_pitcher[['Acronimo_t',\n",
    "                       'Equipo_anterior',\n",
    "                       'Equipo_t',\n",
    "                       'Estado_t',\n",
    "                       'Posicion_t',\n",
    "                       'Status_agente_libre',\n",
    "                       'Acronimo_t_1',\n",
    "                       'Equipo_t_1',\n",
    "                       'Posicion_t_1']] = \\\n",
    "empiric_panel_pitcher[['Acronimo_t',\n",
    "                       'Equipo_anterior',\n",
    "                       'Equipo_t',\n",
    "                       'Estado_t',\n",
    "                       'Posicion_t',\n",
    "                       'Status_agente_libre',\n",
    "                       'Acronimo_t_1',\n",
    "                       'Equipo_t_1',\n",
    "                       'Posicion_t_1']].fillna('No')"
   ]
  },
  {
   "cell_type": "code",
   "execution_count": 144,
   "id": "ccfd65f9-7155-4e7f-a8f3-c048828079c2",
   "metadata": {},
   "outputs": [
    {
     "name": "stdout",
     "output_type": "stream",
     "text": [
      "<class 'pandas.core.frame.DataFrame'>\n",
      "RangeIndex: 0 entries\n",
      "Data columns (total 11 columns):\n",
      " #   Column               Non-Null Count  Dtype \n",
      "---  ------               --------------  ----- \n",
      " 0   Acronimo_t_1         0 non-null      object\n",
      " 1   Anio_t               0 non-null      object\n",
      " 2   Equipo_anterior      0 non-null      object\n",
      " 3   Equipo_t             0 non-null      object\n",
      " 4   Equipo_t_1           0 non-null      object\n",
      " 5   Estado_t             0 non-null      object\n",
      " 6   Jugador              0 non-null      object\n",
      " 7   Posicion_t           0 non-null      object\n",
      " 8   Posicion_t_1         0 non-null      object\n",
      " 9   Status_agente_libre  0 non-null      object\n",
      " 10  Acronimo_t           0 non-null      object\n",
      "dtypes: object(11)\n",
      "memory usage: 124.0+ bytes\n"
     ]
    }
   ],
   "source": [
    "empiric_panel_pitcher.select_dtypes(include =['object'],\n",
    "                                    exclude = ['int64','float64']).info()"
   ]
  },
  {
   "cell_type": "markdown",
   "id": "e29e51af-7788-43a2-9f50-4bc240fd81b8",
   "metadata": {},
   "source": [
    "En ambos casos, la imputación fue un éxito. No importa que en periodos de contratación de haya puesto *No* ya que con esto evitamos problemas con posibles instrumentos a partir de dummies.\n",
    "\n",
    "Por otro lado, repitamos lo mismo para las columnas numéricas, imputaremos 0 ya que refleja la ausencia de desempeño. Sin embargo, la columna que contiene la estadística más alta de cada medida de desempeño se imputará por separado debido a que causará problemas cuando se imponga la trnasformación para el modelo."
   ]
  },
  {
   "cell_type": "code",
   "execution_count": 145,
   "id": "1633bc34-bd39-4eb8-a92f-3293b783ff83",
   "metadata": {},
   "outputs": [],
   "source": [
    "# Add string to every element in a list\n",
    "# Hitter\n",
    "hitter_high_stat = [stat + '_H' for stat in hitter_regular_stats]\n",
    "hitter_low_stat = [stat + '_L' for stat in hitter_regular_stats]\n",
    "# Fielder\n",
    "pitcher_high_stat = [stat + '_H' for stat in pitcher_regular_stats]\n",
    "pitcher_low_stat = [stat + '_L' for stat in pitcher_regular_stats]"
   ]
  },
  {
   "cell_type": "code",
   "execution_count": 146,
   "id": "d4c2f129-8705-4fcf-a829-de61930173e8",
   "metadata": {},
   "outputs": [],
   "source": [
    "empiric_panel_hitter[hitter_high_stat] = empiric_panel_hitter[hitter_high_stat].fillna(method = 'ffill')\n",
    "empiric_panel_pitcher[pitcher_high_stat] = empiric_panel_pitcher[pitcher_high_stat].fillna(method = 'ffill')"
   ]
  },
  {
   "cell_type": "code",
   "execution_count": 147,
   "id": "3b054e76-0c78-41b7-a669-e4bc2355b393",
   "metadata": {},
   "outputs": [
    {
     "data": {
      "text/html": [
       "<div>\n",
       "<style scoped>\n",
       "    .dataframe tbody tr th:only-of-type {\n",
       "        vertical-align: middle;\n",
       "    }\n",
       "\n",
       "    .dataframe tbody tr th {\n",
       "        vertical-align: top;\n",
       "    }\n",
       "\n",
       "    .dataframe thead th {\n",
       "        text-align: right;\n",
       "    }\n",
       "</style>\n",
       "<table border=\"1\" class=\"dataframe\">\n",
       "  <thead>\n",
       "    <tr style=\"text-align: right;\">\n",
       "      <th></th>\n",
       "      <th>At_bats_2_t_H</th>\n",
       "      <th>At_bats_2_t_1_H</th>\n",
       "      <th>At_bats_t_H</th>\n",
       "      <th>At_bats_t_1_H</th>\n",
       "      <th>Bateos_2_t_H</th>\n",
       "      <th>Bateos_2_t_1_H</th>\n",
       "      <th>Bateos_promedio_2_t_H</th>\n",
       "      <th>Bateos_promedio_2_t_1_H</th>\n",
       "      <th>Bateos_promedio_t_H</th>\n",
       "      <th>Bateos_promedio_t_1_H</th>\n",
       "      <th>...</th>\n",
       "      <th>Runs_batted_in_t_H</th>\n",
       "      <th>Runs_batted_in_t_1_H</th>\n",
       "      <th>Triples_2_t_H</th>\n",
       "      <th>Triples_2_t_1_H</th>\n",
       "      <th>Triples_t_H</th>\n",
       "      <th>Triples_t_1_H</th>\n",
       "      <th>WAR_2_t_H</th>\n",
       "      <th>WAR_2_t_1_H</th>\n",
       "      <th>WAR_t_H</th>\n",
       "      <th>WAR_t_1_H</th>\n",
       "    </tr>\n",
       "  </thead>\n",
       "  <tbody>\n",
       "  </tbody>\n",
       "</table>\n",
       "<p>0 rows × 52 columns</p>\n",
       "</div>"
      ],
      "text/plain": [
       "Empty DataFrame\n",
       "Columns: [At_bats_2_t_H, At_bats_2_t_1_H, At_bats_t_H, At_bats_t_1_H, Bateos_2_t_H, Bateos_2_t_1_H, Bateos_promedio_2_t_H, Bateos_promedio_2_t_1_H, Bateos_promedio_t_H, Bateos_promedio_t_1_H, Bateos_t_H, Bateos_t_1_H, Dobles_2_t_H, Dobles_2_t_1_H, Dobles_t_H, Dobles_t_1_H, Home_runs_2_t_H, Home_runs_2_t_1_H, Home_runs_t_H, Home_runs_t_1_H, Ingresos_equipo_2_t_H, Ingresos_equipo_2_t_1_H, Ingresos_equipo_t_H, Ingresos_equipo_t_1_H, Juegos_iniciados_2_t_H, Juegos_iniciados_2_t_1_H, Juegos_iniciados_t_H, Juegos_iniciados_t_1_H, Porcentaje_On_base_plus_slugging_2_t_H, Porcentaje_On_base_plus_slugging_2_t_1_H, Porcentaje_On_base_plus_slugging_t_H, Porcentaje_On_base_plus_slugging_t_1_H, Porcentaje_on_base_2_t_H, Porcentaje_on_base_2_t_1_H, Porcentaje_on_base_t_H, Porcentaje_on_base_t_1_H, Porcentaje_slugging_2_t_H, Porcentaje_slugging_2_t_1_H, Porcentaje_slugging_t_H, Porcentaje_slugging_t_1_H, Runs_batted_in_2_t_H, Runs_batted_in_2_t_1_H, Runs_batted_in_t_H, Runs_batted_in_t_1_H, Triples_2_t_H, Triples_2_t_1_H, Triples_t_H, Triples_t_1_H, WAR_2_t_H, WAR_2_t_1_H, WAR_t_H, WAR_t_1_H]\n",
       "Index: []\n",
       "\n",
       "[0 rows x 52 columns]"
      ]
     },
     "execution_count": 147,
     "metadata": {},
     "output_type": "execute_result"
    }
   ],
   "source": [
    "empiric_panel_hitter[hitter_high_stat].head(20)"
   ]
  },
  {
   "cell_type": "code",
   "execution_count": 148,
   "id": "16d7a0b1-4430-4cbd-9553-2df156ed5e0b",
   "metadata": {},
   "outputs": [],
   "source": [
    "empiric_panel_hitter.fillna(0, inplace = True)\n",
    "empiric_panel_pitcher.fillna(0, inplace = True)"
   ]
  },
  {
   "cell_type": "markdown",
   "id": "21bd7951-9f24-4b2b-af24-0c84b1166ae4",
   "metadata": {},
   "source": [
    "Verifiquemos si queda alguna columna con alguna entrada tipo *NaN*:"
   ]
  },
  {
   "cell_type": "code",
   "execution_count": 149,
   "id": "0e44a44d-4b67-4de8-a0b4-a0b5b7f2666d",
   "metadata": {},
   "outputs": [],
   "source": [
    "# Hitter\n",
    "hitter_nan = empiric_panel_hitter.isna().any()\n",
    "hitter_name = empiric_panel_hitter.columns\n",
    "for con in range(0, len(hitter_nan)):\n",
    "    if hitter_nan[con]:\n",
    "        print(\"Name: \" + str(hitter_name[con]))"
   ]
  },
  {
   "cell_type": "code",
   "execution_count": 150,
   "id": "de77e375-b44c-4356-9a7e-1317d065c709",
   "metadata": {},
   "outputs": [],
   "source": [
    "# Pitcher\n",
    "pitcher_nan = empiric_panel_pitcher.isna().any()\n",
    "pitcher_name = empiric_panel_pitcher.columns\n",
    "for con in range(0, len(pitcher_nan)):\n",
    "    if pitcher_nan[con]:\n",
    "        print(\"Name: \" + str(pitcher_name[con]))"
   ]
  },
  {
   "cell_type": "markdown",
   "id": "420dec47-4461-4af0-8d3f-94bb004468bc",
   "metadata": {},
   "source": [
    "Obtengamos el máximo de cada una de las medidas de desempeño, de periodos *t_1*, por equipo que han obtenido a lo largo de todas la temporadas"
   ]
  },
  {
   "cell_type": "markdown",
   "id": "510bc147-e84b-44d3-8c6d-9a1f30a9ff56",
   "metadata": {},
   "source": [
    "Para evitar problemas con el tipo de *ID*, creemos una que sea numérica para evitar usar los nombres de los jugadores"
   ]
  },
  {
   "cell_type": "code",
   "execution_count": 151,
   "id": "d8141ff2-801f-475f-93cc-90ad6b77b70d",
   "metadata": {},
   "outputs": [],
   "source": [
    "# Hitter\n",
    "empiric_panel_hitter['id'] =  empiric_panel_hitter.groupby(['Jugador']).ngroup()\n",
    "empiric_panel_hitter.reset_index(drop = True, inplace = True)\n",
    "# Pitcher\n",
    "empiric_panel_pitcher['id'] =  empiric_panel_pitcher.groupby(['Jugador']).ngroup()\n",
    "empiric_panel_pitcher.reset_index(drop = True, inplace = True)"
   ]
  },
  {
   "cell_type": "markdown",
   "id": "0ffe72b7-b9f1-4ec2-8340-9ea2d194bee5",
   "metadata": {},
   "source": [
    "Obtengamos la transformación para obtener la $Y$ del modelo empírico a partir de los rezagos de las raices de dichos salarios"
   ]
  },
  {
   "cell_type": "code",
   "execution_count": 152,
   "id": "1e5f24b1-a480-48e3-8b99-653834b0efd7",
   "metadata": {},
   "outputs": [],
   "source": [
    "# Función de rezagos de raices\n",
    "def sqrt_dif(X):\n",
    "    S = []\n",
    "    for i in range(0, len(X)-1):\n",
    "        d = np.sqrt(X[i+1])-np.sqrt(X[i])\n",
    "        S.append(d)\n",
    "    try:\n",
    "        S.append(d)\n",
    "    except: \n",
    "        S.append(0)\n",
    "    return S"
   ]
  },
  {
   "cell_type": "code",
   "execution_count": 153,
   "id": "646b5518-1f90-4a2f-8bf1-2cb1146cf2c5",
   "metadata": {},
   "outputs": [],
   "source": [
    "Y_hitter = []\n",
    "for p in empiric_panel_hitter[\"id\"].unique():\n",
    "    # Filtremos todos los sueldos (ln) de cada jugador por separado\n",
    "    X = empiric_panel_hitter[empiric_panel_hitter[\"id\"] == p][\"ln_Sueldo_ajustado_t\"].values\n",
    "    # Aplicación de la función\n",
    "    S = sqrt_dif(X)\n",
    "    # Añadimos los datos de manera ordenada\n",
    "    Y_hitter = np.concatenate((Y_hitter, S))\n",
    "# Agregamos la columna:\n",
    "empiric_panel_hitter[\"Y\"] = Y_hitter"
   ]
  },
  {
   "cell_type": "code",
   "execution_count": 154,
   "id": "2aa6100c-963b-48fc-bcb4-b3f8ed732886",
   "metadata": {},
   "outputs": [
    {
     "data": {
      "text/plain": [
       "Series([], Name: Y, dtype: float64)"
      ]
     },
     "execution_count": 154,
     "metadata": {},
     "output_type": "execute_result"
    }
   ],
   "source": [
    "empiric_panel_hitter[\"Y\"]"
   ]
  },
  {
   "cell_type": "code",
   "execution_count": 155,
   "id": "dee7bd39-2668-401c-ba41-89c735c64462",
   "metadata": {},
   "outputs": [],
   "source": [
    "Y_pitcher = []\n",
    "for p in empiric_panel_pitcher[\"id\"].unique():\n",
    "    # Filtremos todos los sueldos (ln) de cada jugador por separado\n",
    "    X = empiric_panel_pitcher[empiric_panel_pitcher[\"id\"] == p][\"ln_Sueldo_ajustado_t\"].values\n",
    "    # Aplicación de la función\n",
    "    S = sqrt_dif(X)\n",
    "    # Añadimos los datos de manera ordenada\n",
    "    Y_pitcher = np.concatenate((Y_pitcher, S))\n",
    "# Agregamos la columna:\n",
    "empiric_panel_pitcher[\"Y\"] = Y_pitcher"
   ]
  },
  {
   "cell_type": "code",
   "execution_count": 156,
   "id": "1bd01b7e-07f3-43ea-87ec-d25e22cd5c6c",
   "metadata": {},
   "outputs": [
    {
     "data": {
      "text/plain": [
       "Series([], Name: Y, dtype: float64)"
      ]
     },
     "execution_count": 156,
     "metadata": {},
     "output_type": "execute_result"
    }
   ],
   "source": [
    "empiric_panel_pitcher[\"Y\"]"
   ]
  },
  {
   "cell_type": "markdown",
   "id": "4750c245-e467-4f63-9a28-c9233ba6e4f5",
   "metadata": {},
   "source": [
    "Contruyamos las dummy *I* del modelo empírico"
   ]
  },
  {
   "cell_type": "code",
   "execution_count": 157,
   "id": "9008ff37-cfaa-4dee-a874-add89525258f",
   "metadata": {},
   "outputs": [],
   "source": [
    "# Long of the stats\n",
    "end_hitter_name = int((len(hitter_high_stat) + len(hitter_low_stat))/2)"
   ]
  },
  {
   "cell_type": "code",
   "execution_count": 158,
   "id": "edab263c-80c4-4a2f-a266-cd7a6286e2ce",
   "metadata": {},
   "outputs": [
    {
     "data": {
      "text/plain": [
       "['At_bats_2_t',\n",
       " 'At_bats_2_t_1',\n",
       " 'At_bats_t',\n",
       " 'At_bats_t_1',\n",
       " 'Bateos_2_t',\n",
       " 'Bateos_2_t_1',\n",
       " 'Bateos_promedio_2_t',\n",
       " 'Bateos_promedio_2_t_1',\n",
       " 'Bateos_promedio_t',\n",
       " 'Bateos_promedio_t_1',\n",
       " 'Bateos_t',\n",
       " 'Bateos_t_1',\n",
       " 'Dobles_2_t',\n",
       " 'Dobles_2_t_1',\n",
       " 'Dobles_t',\n",
       " 'Dobles_t_1',\n",
       " 'Home_runs_2_t',\n",
       " 'Home_runs_2_t_1',\n",
       " 'Home_runs_t',\n",
       " 'Home_runs_t_1',\n",
       " 'Ingresos_equipo_2_t',\n",
       " 'Ingresos_equipo_2_t_1',\n",
       " 'Ingresos_equipo_t',\n",
       " 'Ingresos_equipo_t_1',\n",
       " 'Juegos_iniciados_2_t',\n",
       " 'Juegos_iniciados_2_t_1',\n",
       " 'Juegos_iniciados_t',\n",
       " 'Juegos_iniciados_t_1',\n",
       " 'Porcentaje_On_base_plus_slugging_2_t',\n",
       " 'Porcentaje_On_base_plus_slugging_2_t_1',\n",
       " 'Porcentaje_On_base_plus_slugging_t',\n",
       " 'Porcentaje_On_base_plus_slugging_t_1',\n",
       " 'Porcentaje_on_base_2_t',\n",
       " 'Porcentaje_on_base_2_t_1',\n",
       " 'Porcentaje_on_base_t',\n",
       " 'Porcentaje_on_base_t_1',\n",
       " 'Porcentaje_slugging_2_t',\n",
       " 'Porcentaje_slugging_2_t_1',\n",
       " 'Porcentaje_slugging_t',\n",
       " 'Porcentaje_slugging_t_1',\n",
       " 'Runs_batted_in_2_t',\n",
       " 'Runs_batted_in_2_t_1',\n",
       " 'Runs_batted_in_t',\n",
       " 'Runs_batted_in_t_1',\n",
       " 'Triples_2_t',\n",
       " 'Triples_2_t_1',\n",
       " 'Triples_t',\n",
       " 'Triples_t_1',\n",
       " 'WAR_2_t',\n",
       " 'WAR_2_t_1',\n",
       " 'WAR_t',\n",
       " 'WAR_t_1']"
      ]
     },
     "execution_count": 158,
     "metadata": {},
     "output_type": "execute_result"
    }
   ],
   "source": [
    "hitter_regular_stats"
   ]
  },
  {
   "cell_type": "code",
   "execution_count": 159,
   "id": "34f7cf75-ea7c-4884-b485-035753809cb7",
   "metadata": {
    "tags": []
   },
   "outputs": [],
   "source": [
    "# Hitter\n",
    "for sport_stat in range(0,end_hitter_name):\n",
    "    I_hitter = []\n",
    "    for y,max_stat,min_stat in zip(empiric_panel_hitter[hitter_regular_stats[sport_stat]],\n",
    "                                   empiric_panel_hitter[hitter_high_stat[sport_stat]],\n",
    "                                   empiric_panel_hitter[hitter_low_stat[sport_stat]]):\n",
    "        # Dummy condition\n",
    "        if y > (max_stat + min_stat)/2:\n",
    "            I_hitter.append(0)\n",
    "        else: \n",
    "            I_hitter.append(1)\n",
    "    \n",
    "    I_name = hitter_regular_stats[sport_stat] + '_I'\n",
    "    empiric_panel_hitter[I_name] = I_hitter"
   ]
  },
  {
   "cell_type": "markdown",
   "id": "a8f0c48e-bc51-494f-a782-906c297c9b79",
   "metadata": {},
   "source": [
    "Veamos los resultados"
   ]
  },
  {
   "cell_type": "code",
   "execution_count": 160,
   "id": "dd11b1aa-c70c-470c-845e-1a89e4e3d834",
   "metadata": {
    "tags": []
   },
   "outputs": [
    {
     "data": {
      "text/plain": [
       "'hitter_names = empiric_panel_hitter.columns\\nfor index in range(0,len(hitter_names)):\\n    print(\"Name: \" + str(hitter_names[index]))\\n    print(\"index: \" + str(index))'"
      ]
     },
     "execution_count": 160,
     "metadata": {},
     "output_type": "execute_result"
    }
   ],
   "source": [
    "\"\"\"hitter_names = empiric_panel_hitter.columns\n",
    "for index in range(0,len(hitter_names)):\n",
    "    print(\"Name: \" + str(hitter_names[index]))\n",
    "    print(\"index: \" + str(index))\"\"\""
   ]
  },
  {
   "cell_type": "code",
   "execution_count": 161,
   "id": "5d8b31e0-ad0f-4860-928a-7a6cdee044a6",
   "metadata": {},
   "outputs": [],
   "source": [
    "# Hitter\n",
    "hitter_nan = empiric_panel_hitter.isna().any()\n",
    "hitter_name = empiric_panel_hitter.columns\n",
    "for con in range(0, len(hitter_nan)):\n",
    "    if hitter_nan[con]:\n",
    "        print(\"Name: \" + str(hitter_name[con]))"
   ]
  },
  {
   "cell_type": "code",
   "execution_count": 162,
   "id": "8b42f9ea-74ff-4089-9445-50fb16792baf",
   "metadata": {},
   "outputs": [
    {
     "data": {
      "text/html": [
       "<div>\n",
       "<style scoped>\n",
       "    .dataframe tbody tr th:only-of-type {\n",
       "        vertical-align: middle;\n",
       "    }\n",
       "\n",
       "    .dataframe tbody tr th {\n",
       "        vertical-align: top;\n",
       "    }\n",
       "\n",
       "    .dataframe thead th {\n",
       "        text-align: right;\n",
       "    }\n",
       "</style>\n",
       "<table border=\"1\" class=\"dataframe\">\n",
       "  <thead>\n",
       "    <tr style=\"text-align: right;\">\n",
       "      <th></th>\n",
       "      <th>At_bats_2_t_1_I</th>\n",
       "      <th>At_bats_t_I</th>\n",
       "      <th>At_bats_t_1_I</th>\n",
       "      <th>Bateos_2_t_I</th>\n",
       "      <th>Bateos_2_t_1_I</th>\n",
       "      <th>Bateos_promedio_2_t_I</th>\n",
       "      <th>Bateos_promedio_2_t_1_I</th>\n",
       "      <th>Bateos_promedio_t_I</th>\n",
       "      <th>Bateos_promedio_t_1_I</th>\n",
       "      <th>Bateos_t_I</th>\n",
       "      <th>...</th>\n",
       "      <th>Runs_batted_in_t_I</th>\n",
       "      <th>Runs_batted_in_t_1_I</th>\n",
       "      <th>Triples_2_t_I</th>\n",
       "      <th>Triples_2_t_1_I</th>\n",
       "      <th>Triples_t_I</th>\n",
       "      <th>Triples_t_1_I</th>\n",
       "      <th>WAR_2_t_I</th>\n",
       "      <th>WAR_2_t_1_I</th>\n",
       "      <th>WAR_t_I</th>\n",
       "      <th>WAR_t_1_I</th>\n",
       "    </tr>\n",
       "  </thead>\n",
       "  <tbody>\n",
       "  </tbody>\n",
       "</table>\n",
       "<p>0 rows × 51 columns</p>\n",
       "</div>"
      ],
      "text/plain": [
       "Empty DataFrame\n",
       "Columns: [At_bats_2_t_1_I, At_bats_t_I, At_bats_t_1_I, Bateos_2_t_I, Bateos_2_t_1_I, Bateos_promedio_2_t_I, Bateos_promedio_2_t_1_I, Bateos_promedio_t_I, Bateos_promedio_t_1_I, Bateos_t_I, Bateos_t_1_I, Dobles_2_t_I, Dobles_2_t_1_I, Dobles_t_I, Dobles_t_1_I, Home_runs_2_t_I, Home_runs_2_t_1_I, Home_runs_t_I, Home_runs_t_1_I, Ingresos_equipo_2_t_I, Ingresos_equipo_2_t_1_I, Ingresos_equipo_t_I, Ingresos_equipo_t_1_I, Juegos_iniciados_2_t_I, Juegos_iniciados_2_t_1_I, Juegos_iniciados_t_I, Juegos_iniciados_t_1_I, Porcentaje_On_base_plus_slugging_2_t_I, Porcentaje_On_base_plus_slugging_2_t_1_I, Porcentaje_On_base_plus_slugging_t_I, Porcentaje_On_base_plus_slugging_t_1_I, Porcentaje_on_base_2_t_I, Porcentaje_on_base_2_t_1_I, Porcentaje_on_base_t_I, Porcentaje_on_base_t_1_I, Porcentaje_slugging_2_t_I, Porcentaje_slugging_2_t_1_I, Porcentaje_slugging_t_I, Porcentaje_slugging_t_1_I, Runs_batted_in_2_t_I, Runs_batted_in_2_t_1_I, Runs_batted_in_t_I, Runs_batted_in_t_1_I, Triples_2_t_I, Triples_2_t_1_I, Triples_t_I, Triples_t_1_I, WAR_2_t_I, WAR_2_t_1_I, WAR_t_I, WAR_t_1_I]\n",
       "Index: []\n",
       "\n",
       "[0 rows x 51 columns]"
      ]
     },
     "execution_count": 162,
     "metadata": {},
     "output_type": "execute_result"
    }
   ],
   "source": [
    "start = empiric_panel_hitter.columns.get_loc('At_bats_2_t_1_I')\n",
    "end = empiric_panel_hitter.columns.get_loc('WAR_t_1_I') + 1\n",
    "empiric_panel_hitter.iloc[:,start:end]"
   ]
  },
  {
   "cell_type": "markdown",
   "id": "bccd3ff5-dd1e-4f96-a88d-8d0b1cca8030",
   "metadata": {},
   "source": [
    "Repitamos el mismo proceso para los lanzadores"
   ]
  },
  {
   "cell_type": "code",
   "execution_count": 163,
   "id": "b8221401-b79e-4237-831f-7dddadd1d17e",
   "metadata": {},
   "outputs": [],
   "source": [
    "# Long of stats\n",
    "end_pitcher_name = int((len(pitcher_high_stat) + len(pitcher_low_stat))/2)"
   ]
  },
  {
   "cell_type": "code",
   "execution_count": 164,
   "id": "f7007585-b8d8-42ef-a373-630b91d9acd8",
   "metadata": {
    "tags": []
   },
   "outputs": [],
   "source": [
    "# Pitcher\n",
    "for sport_stat in range(0,end_pitcher_name):\n",
    "    I_pitcher = []\n",
    "    for y,max_stat,min_stat in zip(empiric_panel_pitcher[pitcher_regular_stats[sport_stat]],\n",
    "                                   empiric_panel_pitcher[pitcher_high_stat[sport_stat]],\n",
    "                                   empiric_panel_pitcher[pitcher_low_stat[sport_stat]]):\n",
    "        if y > (max_stat + min_stat)/2:\n",
    "            I_pitcher.append(0)\n",
    "        else: \n",
    "            I_pitcher.append(1)\n",
    "    \n",
    "    I_name = pitcher_regular_stats[sport_stat] + '_I'\n",
    "    empiric_panel_pitcher[I_name] = I_pitcher"
   ]
  },
  {
   "cell_type": "code",
   "execution_count": 165,
   "id": "5df23c59-795c-4719-8f26-d0cd9a37fb59",
   "metadata": {
    "tags": []
   },
   "outputs": [
    {
     "data": {
      "text/plain": [
       "'pitcher_names = empiric_panel_pitcher.columns\\nfor index in range(0,len(pitcher_names)):\\n    print(\"Name: \" + str(pitcher_names[index]))\\n    print(\"index: \" + str(index))'"
      ]
     },
     "execution_count": 165,
     "metadata": {},
     "output_type": "execute_result"
    }
   ],
   "source": [
    "\"\"\"pitcher_names = empiric_panel_pitcher.columns\n",
    "for index in range(0,len(pitcher_names)):\n",
    "    print(\"Name: \" + str(pitcher_names[index]))\n",
    "    print(\"index: \" + str(index))\"\"\""
   ]
  },
  {
   "cell_type": "code",
   "execution_count": 166,
   "id": "c42ec0f3-7aa6-4cf8-9183-4e1a873945c8",
   "metadata": {},
   "outputs": [],
   "source": [
    "# Pitcher\n",
    "pitcher_nan = empiric_panel_pitcher.isna().any()\n",
    "pitcher_name = empiric_panel_pitcher.columns\n",
    "for con in range(0, len(pitcher_nan)):\n",
    "    if pitcher_nan[con]:\n",
    "        print(\"Name: \" + str(pitcher_name[con]))"
   ]
  },
  {
   "cell_type": "code",
   "execution_count": 167,
   "id": "f79bac32-9538-4d3a-9fb8-c4ee7d3f611c",
   "metadata": {},
   "outputs": [
    {
     "data": {
      "text/html": [
       "<div>\n",
       "<style scoped>\n",
       "    .dataframe tbody tr th:only-of-type {\n",
       "        vertical-align: middle;\n",
       "    }\n",
       "\n",
       "    .dataframe tbody tr th {\n",
       "        vertical-align: top;\n",
       "    }\n",
       "\n",
       "    .dataframe thead th {\n",
       "        text-align: right;\n",
       "    }\n",
       "</style>\n",
       "<table border=\"1\" class=\"dataframe\">\n",
       "  <thead>\n",
       "    <tr style=\"text-align: right;\">\n",
       "      <th></th>\n",
       "      <th>Bateos_2_t_1_I</th>\n",
       "      <th>Bateos_t_I</th>\n",
       "      <th>Bateos_t_1_I</th>\n",
       "      <th>Carreras_2_t_I</th>\n",
       "      <th>Carreras_2_t_1_I</th>\n",
       "      <th>Carreras_ganadas_2_t_I</th>\n",
       "      <th>Carreras_ganadas_2_t_1_I</th>\n",
       "      <th>Carreras_ganadas_t_I</th>\n",
       "      <th>Carreras_ganadas_t_1_I</th>\n",
       "      <th>Carreras_t_I</th>\n",
       "      <th>...</th>\n",
       "      <th>WHIP_t_I</th>\n",
       "      <th>WHIP_t_1_I</th>\n",
       "      <th>Walks_2_t_I</th>\n",
       "      <th>Walks_2_t_1_I</th>\n",
       "      <th>Walks_t_I</th>\n",
       "      <th>Walks_t_1_I</th>\n",
       "      <th>Wins_2_t_I</th>\n",
       "      <th>Wins_2_t_1_I</th>\n",
       "      <th>Wins_t_I</th>\n",
       "      <th>Wins_t_1_I</th>\n",
       "    </tr>\n",
       "  </thead>\n",
       "  <tbody>\n",
       "  </tbody>\n",
       "</table>\n",
       "<p>0 rows × 63 columns</p>\n",
       "</div>"
      ],
      "text/plain": [
       "Empty DataFrame\n",
       "Columns: [Bateos_2_t_1_I, Bateos_t_I, Bateos_t_1_I, Carreras_2_t_I, Carreras_2_t_1_I, Carreras_ganadas_2_t_I, Carreras_ganadas_2_t_1_I, Carreras_ganadas_t_I, Carreras_ganadas_t_1_I, Carreras_t_I, Carreras_t_1_I, Comando_2_t_I, Comando_2_t_1_I, Comando_t_I, Comando_t_1_I, Control_2_t_I, Control_2_t_1_I, Control_t_I, Control_t_1_I, Dominio_2_t_I, Dominio_2_t_1_I, Dominio_t_I, Dominio_t_1_I, ERA_2_t_I, ERA_2_t_1_I, ERA_t_I, ERA_t_1_I, Ingresos_equipo_2_t_I, Ingresos_equipo_2_t_1_I, Ingresos_equipo_t_I, Ingresos_equipo_t_1_I, Inning_pitched_2_t_I, Inning_pitched_2_t_1_I, Inning_pitched_t_I, Inning_pitched_t_1_I, Losses_2_t_I, Losses_2_t_1_I, Losses_t_I, Losses_t_1_I, Saves_2_t_I, Saves_2_t_1_I, Saves_t_I, Saves_t_1_I, Strike_outs_2_t_I, Strike_outs_2_t_1_I, Strike_outs_t_I, Strike_outs_t_1_I, WAR_2_t_I, WAR_2_t_1_I, WAR_t_I, WAR_t_1_I, WHIP_2_t_I, WHIP_2_t_1_I, WHIP_t_I, WHIP_t_1_I, Walks_2_t_I, Walks_2_t_1_I, Walks_t_I, Walks_t_1_I, Wins_2_t_I, Wins_2_t_1_I, Wins_t_I, Wins_t_1_I]\n",
       "Index: []\n",
       "\n",
       "[0 rows x 63 columns]"
      ]
     },
     "execution_count": 167,
     "metadata": {},
     "output_type": "execute_result"
    }
   ],
   "source": [
    "start = empiric_panel_pitcher.columns.get_loc('Bateos_2_t_1_I')\n",
    "end = empiric_panel_pitcher.columns.get_loc('Wins_t_1_I') + 1\n",
    "empiric_panel_pitcher.iloc[:,start:end]"
   ]
  },
  {
   "cell_type": "markdown",
   "id": "27b5a616-8779-42a5-a521-7f48a1d3cb56",
   "metadata": {},
   "source": [
    "Obtengamos las variables auxiliares"
   ]
  },
  {
   "cell_type": "code",
   "execution_count": 168,
   "id": "99cab508-1285-4689-93f4-af8de97b54a7",
   "metadata": {},
   "outputs": [],
   "source": [
    "# Good practice\n",
    "hitter_high_stat = sorted(hitter_high_stat)\n",
    "# Dummy\n",
    "I_hitter = sorted([stat + '_I' for stat in hitter_regular_stats])"
   ]
  },
  {
   "cell_type": "markdown",
   "id": "ec035bf0-6baa-46bc-adff-b67e6d0126fc",
   "metadata": {},
   "source": [
    "Verifiquemos que tengan la misma longitud"
   ]
  },
  {
   "cell_type": "code",
   "execution_count": 169,
   "id": "95f2e76d-342a-4c80-b4fe-129915426061",
   "metadata": {},
   "outputs": [
    {
     "data": {
      "text/plain": [
       "True"
      ]
     },
     "execution_count": 169,
     "metadata": {},
     "output_type": "execute_result"
    }
   ],
   "source": [
    "len(I_hitter) == len(hitter_high_stat) == len(hitter_regular_stats)"
   ]
  },
  {
   "cell_type": "code",
   "execution_count": 170,
   "id": "524704bc-2557-45b9-b84a-6a60610d3437",
   "metadata": {},
   "outputs": [],
   "source": [
    "# Pitcher\n",
    "for stat in range(0,len(hitter_regular_stats)):\n",
    "    # Variable auxiliar\n",
    "    X_hitter = []\n",
    "    \n",
    "    # Variables \n",
    "    i = (-1)**(empiric_panel_hitter[I_hitter[stat]])\n",
    "    x = empiric_panel_hitter[hitter_regular_stats[stat]]/np.sqrt(empiric_panel_hitter[hitter_high_stat[stat]])\n",
    "    X_hitter = i*x\n",
    "    \n",
    "    # X name\n",
    "    name = 'X_' + hitter_regular_stats[stat]\n",
    "    empiric_panel_hitter[name] = X_hitter"
   ]
  },
  {
   "cell_type": "code",
   "execution_count": 171,
   "id": "3a11c96e-5ebf-46a5-a88a-57e6251a432e",
   "metadata": {
    "tags": []
   },
   "outputs": [],
   "source": [
    "# Pitcher\n",
    "hitter_nan = empiric_panel_hitter.isna().any()\n",
    "hitter_name = empiric_panel_hitter.columns\n",
    "for con in range(0, len(hitter_nan)):\n",
    "    if hitter_nan[con]:\n",
    "        print(\"Name: \" + str(hitter_name[con]))"
   ]
  },
  {
   "cell_type": "code",
   "execution_count": 172,
   "id": "5607104b-30d2-45ec-931f-2005632468ce",
   "metadata": {},
   "outputs": [],
   "source": [
    "general_dynamic_path = 'ETL_Data/Panel/Cumulative/Dynamic_model/'"
   ]
  },
  {
   "cell_type": "code",
   "execution_count": 173,
   "id": "540e3c12-3fa3-48a5-9a8d-d643b89fb6c3",
   "metadata": {},
   "outputs": [],
   "source": [
    "empiric_panel_hitter.to_csv(general_dynamic_path + 'panel_hitters_t_1' + '.csv',\n",
    "                            index = False)"
   ]
  },
  {
   "cell_type": "markdown",
   "id": "338cc7c1-bb4f-4f05-9d7f-0b6bfae8b767",
   "metadata": {},
   "source": [
    "Repitamos el mismo procedimiento para los filderos"
   ]
  },
  {
   "cell_type": "code",
   "execution_count": 174,
   "id": "79cf6385-b604-4c28-b3fe-b6f2d9593e5c",
   "metadata": {},
   "outputs": [],
   "source": [
    "# Good practice\n",
    "pitcher_high_stat = sorted(pitcher_high_stat)\n",
    "# Dummy\n",
    "I_pitcher = sorted([stat + '_I' for stat in pitcher_regular_stats])"
   ]
  },
  {
   "cell_type": "markdown",
   "id": "1045241d-d13c-4da8-a387-0d659bfe0cac",
   "metadata": {},
   "source": [
    "Verifiquemos que tengan la misma longitud"
   ]
  },
  {
   "cell_type": "code",
   "execution_count": 175,
   "id": "5f23107d-569a-4821-8698-f97bcaa349a3",
   "metadata": {},
   "outputs": [
    {
     "data": {
      "text/plain": [
       "True"
      ]
     },
     "execution_count": 175,
     "metadata": {},
     "output_type": "execute_result"
    }
   ],
   "source": [
    "len(I_pitcher) == len(pitcher_high_stat) == len(pitcher_regular_stats)"
   ]
  },
  {
   "cell_type": "code",
   "execution_count": 176,
   "id": "c01a18e9-12e1-4151-b920-a34657f7bc2e",
   "metadata": {},
   "outputs": [],
   "source": [
    "# Pitcher\n",
    "for stat in range(0,len(pitcher_regular_stats)):\n",
    "    # Variable auxiliar\n",
    "    X_pitcher = []\n",
    "    \n",
    "    # Variables \n",
    "    i = (-1)**(empiric_panel_pitcher[I_pitcher[stat]])\n",
    "    x = empiric_panel_pitcher[pitcher_regular_stats[stat]]/np.sqrt(empiric_panel_pitcher[pitcher_high_stat[stat]])\n",
    "    X_pitcher = i*x\n",
    "    \n",
    "    # X name\n",
    "    name = 'X_' + pitcher_regular_stats[stat]\n",
    "    empiric_panel_pitcher[name] = X_pitcher"
   ]
  },
  {
   "cell_type": "code",
   "execution_count": 177,
   "id": "0af27362-d021-4c23-b100-ef5201b4c945",
   "metadata": {
    "tags": []
   },
   "outputs": [],
   "source": [
    "# Pitcher\n",
    "pitcher_nan = empiric_panel_pitcher.isna().any()\n",
    "pitcher_name = empiric_panel_pitcher.columns\n",
    "for con in range(0, len(pitcher_nan)):\n",
    "    if pitcher_nan[con]:\n",
    "        print(\"Name: \" + str(pitcher_name[con]))"
   ]
  },
  {
   "cell_type": "code",
   "execution_count": 179,
   "id": "4da09270-ccdb-4171-a9ec-9568c538b188",
   "metadata": {},
   "outputs": [],
   "source": [
    "empiric_panel_pitcher.to_csv(general_dynamic_path + 'panel_fielders_t_1' + '.csv',\n",
    "                             index = False)"
   ]
  }
 ],
 "metadata": {
  "kernelspec": {
   "display_name": "Python 3 (ipykernel)",
   "language": "python",
   "name": "python3"
  },
  "language_info": {
   "codemirror_mode": {
    "name": "ipython",
    "version": 3
   },
   "file_extension": ".py",
   "mimetype": "text/x-python",
   "name": "python",
   "nbconvert_exporter": "python",
   "pygments_lexer": "ipython3",
   "version": "3.9.16"
  }
 },
 "nbformat": 4,
 "nbformat_minor": 5
}
