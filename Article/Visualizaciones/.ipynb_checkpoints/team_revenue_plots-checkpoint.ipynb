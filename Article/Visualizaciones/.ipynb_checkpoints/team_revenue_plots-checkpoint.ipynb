{
 "cells": [
  {
   "cell_type": "markdown",
   "id": "be18d212-c6cd-4da0-8df1-19811c5c5921",
   "metadata": {},
   "source": [
    "# Visualizaciones - Ingresos Salariales de los Equipos\n",
    "\n",
    "En este trabajo nos encargaremos de las visualizaciones relacionadas a los ingresos monetarios de los equipos que poseen agentes libres en la MLB."
   ]
  },
  {
   "cell_type": "code",
   "execution_count": 1,
   "id": "c8bb57fa-6391-4cc4-8a4c-e818e45f9228",
   "metadata": {},
   "outputs": [
    {
     "name": "stdout",
     "output_type": "stream",
     "text": [
      "Modulos importados\n"
     ]
    }
   ],
   "source": [
    "import pandas as pd\n",
    "import numpy as np\n",
    "import math\n",
    "import os\n",
    "import warnings\n",
    "import statsmodels.api as sm\n",
    "from matplotlib.colors import ListedColormap\n",
    "from termcolor import colored\n",
    "print('Modulos importados')"
   ]
  },
  {
   "cell_type": "code",
   "execution_count": 2,
   "id": "c7baba34-4c48-46b7-bd0b-095362dbd339",
   "metadata": {},
   "outputs": [],
   "source": [
    "# Configuraciones\n",
    "warnings.filterwarnings('ignore')"
   ]
  },
  {
   "cell_type": "code",
   "execution_count": 5,
   "id": "858b236d-64cd-48a1-b3e2-dfca2a4c4c08",
   "metadata": {},
   "outputs": [
    {
     "name": "stdout",
     "output_type": "stream",
     "text": [
      "Directorio de trabajo actual: C:\\Users\\metal\\Documents\\Github\\MLB_hardball_negotations\n"
     ]
    }
   ],
   "source": [
    "# Define la ruta del directorio\n",
    "path = r'C:\\Users\\metal\\Documents\\Github\\MLB_hardball_negotations'\n",
    "\n",
    "# Cambia el directorio de trabajo actual al directorio especificado\n",
    "os.chdir(path)\n",
    "\n",
    "# Verifica que el directorio de trabajo actual haya cambiado\n",
    "print(\"Directorio de trabajo actual:\", os.getcwd())"
   ]
  },
  {
   "cell_type": "code",
   "execution_count": null,
   "id": "5e4b53c4-cda5-4b21-974b-2cc0a91771f5",
   "metadata": {},
   "outputs": [],
   "source": []
  }
 ],
 "metadata": {
  "kernelspec": {
   "display_name": "Python 3 (ipykernel)",
   "language": "python",
   "name": "python3"
  },
  "language_info": {
   "codemirror_mode": {
    "name": "ipython",
    "version": 3
   },
   "file_extension": ".py",
   "mimetype": "text/x-python",
   "name": "python",
   "nbconvert_exporter": "python",
   "pygments_lexer": "ipython3",
   "version": "3.9.16"
  }
 },
 "nbformat": 4,
 "nbformat_minor": 5
}
