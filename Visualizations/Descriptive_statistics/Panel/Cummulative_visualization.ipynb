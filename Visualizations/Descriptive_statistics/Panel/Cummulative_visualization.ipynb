{
 "cells": [
  {
   "cell_type": "markdown",
   "id": "564fafe2-4054-433e-848d-c16084ea8829",
   "metadata": {},
   "source": [
    "# Players dataframes with t-1 variables\n",
    "\n",
    "En este script nos dedicaremos a crear una base de datos limpia segmentada por hitters y pitchers. Debido a que es totalmente análogo al script para variables del mismo periodo $t$, se omitirán solo las explicaciones del código reutilizado.\n",
    "\n",
    "- **Visualización del contenido de las bases de datos.**\n",
    "- **Limpieza de la base de datos y exportación.**\n",
    "- **Creación de indicador de si el jugador es agente libre.**"
   ]
  },
  {
   "cell_type": "markdown",
   "id": "c886e0a2-d18f-4511-ac40-2dd5d70bed46",
   "metadata": {},
   "source": [
    "Importemos los modulos necesarios así como especificar la configuración deseada."
   ]
  },
  {
   "cell_type": "code",
   "execution_count": 1,
   "id": "00d0481c-4ecb-40dd-addd-e6ea487bc9e0",
   "metadata": {},
   "outputs": [
    {
     "name": "stdout",
     "output_type": "stream",
     "text": [
      "Modulos importados\n"
     ]
    }
   ],
   "source": [
    "import pandas as pd\n",
    "import numpy as np\n",
    "import math\n",
    "import os\n",
    "import warnings\n",
    "import statsmodels.api as sm\n",
    "from matplotlib.colors import ListedColormap\n",
    "from termcolor import colored\n",
    "print('Modulos importados')"
   ]
  },
  {
   "cell_type": "code",
   "execution_count": 2,
   "id": "5ea069de-f7a0-4370-be4f-4a54b24dcf26",
   "metadata": {},
   "outputs": [],
   "source": [
    "# Configuraciones\n",
    "warnings.filterwarnings('ignore')"
   ]
  },
  {
   "cell_type": "code",
   "execution_count": 3,
   "id": "15370f37-8410-4da1-842c-c448ca05fe31",
   "metadata": {},
   "outputs": [
    {
     "name": "stdout",
     "output_type": "stream",
     "text": [
      "Directorio de trabajo previo: /home/usuario/Documentos/Github/Proyectos/MLB_HN/Visualizations/Descriptive_statistics/Panel\n"
     ]
    }
   ],
   "source": [
    "# Directorio de trabajo\n",
    "print(\"Directorio de trabajo previo: \" + str(os.getcwd()))\n",
    "# Cambiemoslo\n",
    "os.chdir('/home/usuario/Documentos/Github/Proyectos/MLB_HN/')"
   ]
  },
  {
   "cell_type": "code",
   "execution_count": 4,
   "id": "908e5561-e884-435a-9329-b9ff47d3c5e7",
   "metadata": {},
   "outputs": [
    {
     "name": "stdout",
     "output_type": "stream",
     "text": [
      "/home/usuario/Documentos/Github/Proyectos/MLB_HN\n",
      "Nuevo directorio de trabajo: None\n"
     ]
    }
   ],
   "source": [
    "# Veamos el directorio actual de trabajo\n",
    "print(os.getcwd())\n",
    "# El directorio anterior es el correcto, pero si no lo fuese, hacemos lo sigueinte:\n",
    "path = '/home/usuario/Documentos/Github/Proyectos/MLB_HN'\n",
    "print(\"Nuevo directorio de trabajo: \" + str(os.chdir(path)))"
   ]
  },
  {
   "cell_type": "markdown",
   "id": "e0299b01-0fd6-47b4-8181-844d57f69f45",
   "metadata": {},
   "source": [
    "## Visualización de las bases de datos"
   ]
  },
  {
   "cell_type": "markdown",
   "id": "75d8c757-3e4d-4b6d-a40d-51962718d6bb",
   "metadata": {},
   "source": [
    "### Equipos por estado"
   ]
  },
  {
   "cell_type": "code",
   "execution_count": 5,
   "id": "a56432a2-7c74-48ad-a788-1161bdd9dda2",
   "metadata": {},
   "outputs": [],
   "source": [
    "states = 'Data/Teams/team_states.csv'\n",
    "df_states = pd.read_csv(states)"
   ]
  },
  {
   "cell_type": "code",
   "execution_count": 6,
   "id": "c3851695-3077-4534-ae2e-2256dea856f0",
   "metadata": {},
   "outputs": [
    {
     "data": {
      "text/html": [
       "<div>\n",
       "<style scoped>\n",
       "    .dataframe tbody tr th:only-of-type {\n",
       "        vertical-align: middle;\n",
       "    }\n",
       "\n",
       "    .dataframe tbody tr th {\n",
       "        vertical-align: top;\n",
       "    }\n",
       "\n",
       "    .dataframe thead th {\n",
       "        text-align: right;\n",
       "    }\n",
       "</style>\n",
       "<table border=\"1\" class=\"dataframe\">\n",
       "  <thead>\n",
       "    <tr style=\"text-align: right;\">\n",
       "      <th></th>\n",
       "      <th>Estado</th>\n",
       "      <th>Cantidad de equipos</th>\n",
       "    </tr>\n",
       "  </thead>\n",
       "  <tbody>\n",
       "    <tr>\n",
       "      <th>0</th>\n",
       "      <td>Alabama</td>\n",
       "      <td>0</td>\n",
       "    </tr>\n",
       "    <tr>\n",
       "      <th>1</th>\n",
       "      <td>Alaska</td>\n",
       "      <td>0</td>\n",
       "    </tr>\n",
       "    <tr>\n",
       "      <th>2</th>\n",
       "      <td>Arizona</td>\n",
       "      <td>1</td>\n",
       "    </tr>\n",
       "    <tr>\n",
       "      <th>3</th>\n",
       "      <td>Arkansas</td>\n",
       "      <td>0</td>\n",
       "    </tr>\n",
       "    <tr>\n",
       "      <th>4</th>\n",
       "      <td>California</td>\n",
       "      <td>5</td>\n",
       "    </tr>\n",
       "  </tbody>\n",
       "</table>\n",
       "</div>"
      ],
      "text/plain": [
       "       Estado  Cantidad de equipos\n",
       "0     Alabama                    0\n",
       "1      Alaska                    0\n",
       "2     Arizona                    1\n",
       "3    Arkansas                    0\n",
       "4  California                    5"
      ]
     },
     "execution_count": 6,
     "metadata": {},
     "output_type": "execute_result"
    }
   ],
   "source": [
    "df_states.head()"
   ]
  },
  {
   "cell_type": "markdown",
   "id": "aa943803-d523-44f1-944e-07f0bf9865e5",
   "metadata": {},
   "source": [
    "### Acrónimos\n",
    "\n",
    "Nos servirá como llave intermedia para unificar las bases de datos de los equipos"
   ]
  },
  {
   "cell_type": "code",
   "execution_count": 7,
   "id": "20a1205d-1658-4dec-b8d2-ab49fc5f5b27",
   "metadata": {},
   "outputs": [],
   "source": [
    "acronym = 'Data/Teams/team_acronym.csv'\n",
    "df_acronym = pd.read_csv(acronym)"
   ]
  },
  {
   "cell_type": "code",
   "execution_count": 8,
   "id": "7c5c4506-a6c1-40ff-838a-c1d60bec5fed",
   "metadata": {},
   "outputs": [
    {
     "data": {
      "text/html": [
       "<div>\n",
       "<style scoped>\n",
       "    .dataframe tbody tr th:only-of-type {\n",
       "        vertical-align: middle;\n",
       "    }\n",
       "\n",
       "    .dataframe tbody tr th {\n",
       "        vertical-align: top;\n",
       "    }\n",
       "\n",
       "    .dataframe thead th {\n",
       "        text-align: right;\n",
       "    }\n",
       "</style>\n",
       "<table border=\"1\" class=\"dataframe\">\n",
       "  <thead>\n",
       "    <tr style=\"text-align: right;\">\n",
       "      <th></th>\n",
       "      <th>Equipo</th>\n",
       "      <th>Acronimo</th>\n",
       "      <th>Estado</th>\n",
       "    </tr>\n",
       "  </thead>\n",
       "  <tbody>\n",
       "    <tr>\n",
       "      <th>0</th>\n",
       "      <td>Arizona Diamondbacks</td>\n",
       "      <td>ARI</td>\n",
       "      <td>Arizona</td>\n",
       "    </tr>\n",
       "    <tr>\n",
       "      <th>1</th>\n",
       "      <td>Atlanta Braves</td>\n",
       "      <td>ATL</td>\n",
       "      <td>Georgia</td>\n",
       "    </tr>\n",
       "    <tr>\n",
       "      <th>2</th>\n",
       "      <td>Baltimore Orioles</td>\n",
       "      <td>BAL</td>\n",
       "      <td>Maryland</td>\n",
       "    </tr>\n",
       "    <tr>\n",
       "      <th>3</th>\n",
       "      <td>Boston Red Sox</td>\n",
       "      <td>BOS</td>\n",
       "      <td>Massachusetts</td>\n",
       "    </tr>\n",
       "    <tr>\n",
       "      <th>4</th>\n",
       "      <td>Chicago Cubs</td>\n",
       "      <td>CHC</td>\n",
       "      <td>Illinois</td>\n",
       "    </tr>\n",
       "  </tbody>\n",
       "</table>\n",
       "</div>"
      ],
      "text/plain": [
       "                 Equipo Acronimo         Estado\n",
       "0  Arizona Diamondbacks      ARI        Arizona\n",
       "1        Atlanta Braves      ATL        Georgia\n",
       "2     Baltimore Orioles      BAL       Maryland\n",
       "3        Boston Red Sox      BOS  Massachusetts\n",
       "4          Chicago Cubs      CHC       Illinois"
      ]
     },
     "execution_count": 8,
     "metadata": {},
     "output_type": "execute_result"
    }
   ],
   "source": [
    "df_acronym.head()"
   ]
  },
  {
   "cell_type": "markdown",
   "id": "a6433bc2-1e00-4e4c-b330-c98216b4c28b",
   "metadata": {},
   "source": [
    "Unamos esta dataframe con el de los equipos por estado"
   ]
  },
  {
   "cell_type": "code",
   "execution_count": 9,
   "id": "7f7a04b8-123d-4d04-acd5-c08b670ce8fe",
   "metadata": {},
   "outputs": [],
   "source": [
    "acronym_state = pd.merge(df_states, df_acronym, on = 'Estado')"
   ]
  },
  {
   "cell_type": "code",
   "execution_count": 10,
   "id": "be27625a-3b8d-46ad-870c-96566c6c211b",
   "metadata": {},
   "outputs": [
    {
     "data": {
      "text/html": [
       "<div>\n",
       "<style scoped>\n",
       "    .dataframe tbody tr th:only-of-type {\n",
       "        vertical-align: middle;\n",
       "    }\n",
       "\n",
       "    .dataframe tbody tr th {\n",
       "        vertical-align: top;\n",
       "    }\n",
       "\n",
       "    .dataframe thead th {\n",
       "        text-align: right;\n",
       "    }\n",
       "</style>\n",
       "<table border=\"1\" class=\"dataframe\">\n",
       "  <thead>\n",
       "    <tr style=\"text-align: right;\">\n",
       "      <th></th>\n",
       "      <th>Estado</th>\n",
       "      <th>Cantidad de equipos</th>\n",
       "      <th>Equipo</th>\n",
       "      <th>Acronimo</th>\n",
       "    </tr>\n",
       "  </thead>\n",
       "  <tbody>\n",
       "    <tr>\n",
       "      <th>0</th>\n",
       "      <td>Arizona</td>\n",
       "      <td>1</td>\n",
       "      <td>Arizona Diamondbacks</td>\n",
       "      <td>ARI</td>\n",
       "    </tr>\n",
       "    <tr>\n",
       "      <th>1</th>\n",
       "      <td>California</td>\n",
       "      <td>5</td>\n",
       "      <td>Los Angeles Angels</td>\n",
       "      <td>LAA</td>\n",
       "    </tr>\n",
       "    <tr>\n",
       "      <th>2</th>\n",
       "      <td>California</td>\n",
       "      <td>5</td>\n",
       "      <td>Los Angeles Dodgers</td>\n",
       "      <td>LAD</td>\n",
       "    </tr>\n",
       "    <tr>\n",
       "      <th>3</th>\n",
       "      <td>California</td>\n",
       "      <td>5</td>\n",
       "      <td>Oakland Athletics</td>\n",
       "      <td>OAK</td>\n",
       "    </tr>\n",
       "    <tr>\n",
       "      <th>4</th>\n",
       "      <td>California</td>\n",
       "      <td>5</td>\n",
       "      <td>San Diego Padres</td>\n",
       "      <td>SD</td>\n",
       "    </tr>\n",
       "  </tbody>\n",
       "</table>\n",
       "</div>"
      ],
      "text/plain": [
       "       Estado  Cantidad de equipos                Equipo Acronimo\n",
       "0     Arizona                    1  Arizona Diamondbacks      ARI\n",
       "1  California                    5    Los Angeles Angels      LAA\n",
       "2  California                    5   Los Angeles Dodgers      LAD\n",
       "3  California                    5     Oakland Athletics      OAK\n",
       "4  California                    5      San Diego Padres       SD"
      ]
     },
     "execution_count": 10,
     "metadata": {},
     "output_type": "execute_result"
    }
   ],
   "source": [
    "acronym_state.head()"
   ]
  },
  {
   "cell_type": "markdown",
   "id": "f2241450-ae44-422f-bccc-f2cf7f58559f",
   "metadata": {},
   "source": [
    "En este caso, el nombre de las variables es claro"
   ]
  },
  {
   "cell_type": "markdown",
   "id": "f6062ceb-02e3-434b-87c1-7c53b93f38ad",
   "metadata": {},
   "source": [
    "## Algoritmo para la creación de las bases de datos\n",
    "\n",
    "A continuaicón, se optimizará el código para que se puedan obtener los *dataframes* anteriores para un cojuntos de datos de años secuenciales, como es nuestro caso"
   ]
  },
  {
   "cell_type": "code",
   "execution_count": 11,
   "id": "9b517601-2a20-400c-98d2-329bb87e9778",
   "metadata": {},
   "outputs": [],
   "source": [
    "# Auxiliares:\n",
    "free_agents = 'Data/Free_Agents/free_agents_'\n",
    "hitting = 'Data/Statistics/Cumulative/Hitting/hitting_'\n",
    "pitching = 'Data/Statistics/Cumulative/Pitching/pitching_'\n",
    "salary = 'Data/Salary/salary_'\n",
    "teams = 'ETL_Data/Transversal/Teams/free_agents_team_'\n",
    "csv = '.csv'\n",
    "period = 12\n",
    "# Originales:\n",
    "df_free_agents = [None]*period\n",
    "df_hitting = [None]*period\n",
    "df_pitching = [None]*period\n",
    "df_salary = [None]*period\n",
    "df_teams = [None]*period\n",
    "# Copias:\n",
    "df_free_agents_copy = [None]*period\n",
    "df_hitting_copy = [None]*period\n",
    "df_pitching_copy = [None]*period\n",
    "df_salary_copy = [None]*period\n",
    "df_teams_copy = [None]*period\n",
    "# Producto final:\n",
    "df_pitchers = [None]*period\n",
    "df_hitters = [None]*period\n",
    "df_pitchers_free_agents = [None]*period\n",
    "df_hitters_free_agents = [None]*period\n",
    "df_pitchers_no_free_agents = [None]*period\n",
    "df_hitters_no_free_agents = [None]*period\n",
    "df_panel_hitters = [None]*period\n",
    "df_panel_pitchers = [None]*period"
   ]
  },
  {
   "cell_type": "markdown",
   "id": "77b292d0-33fa-4e9a-a55a-79321de228ab",
   "metadata": {},
   "source": [
    "Leamos todos los archivos y creemos las copias"
   ]
  },
  {
   "cell_type": "code",
   "execution_count": 12,
   "id": "00cb3bf5-10be-4993-bd6b-50d7960e981b",
   "metadata": {
    "tags": []
   },
   "outputs": [],
   "source": [
    "for year in range(0,period):    \n",
    "    df_free_agents[year] = pd.read_csv(free_agents + str(2011 + year) + csv)\n",
    "    df_hitting[year] = pd.read_csv(hitting + str(2011 + year) + csv)\n",
    "    df_pitching[year] = pd.read_csv(pitching + str(2011 + year) + csv)\n",
    "    df_salary[year] = pd.read_csv(salary + str(2011 + year) + csv)\n",
    "    df_teams[year] = pd.read_csv(teams + str(2011 + year) + csv)\n",
    "    \n",
    "    df_free_agents_copy[year] = df_free_agents[year].copy()\n",
    "    df_hitting_copy[year] = df_hitting[year].copy()\n",
    "    df_pitching_copy[year] = df_pitching[year].copy()\n",
    "    df_salary_copy[year] = df_salary[year].copy()\n",
    "    df_teams_copy[year] = pd.read_csv(teams + str(2011 + year) + csv)"
   ]
  },
  {
   "cell_type": "markdown",
   "id": "ead073c2-b3a1-4adc-8906-8ce69bfde2e7",
   "metadata": {},
   "source": [
    "Tratemos las bases de datos por separado. Sin embargo, a todas les quitaremos la columna de rango y *Cash2023*.\n",
    "\n",
    "Como no queremos que se repita la columna del año de la temporada de la base de datos, borremos la columna de *Year* de la base  de datos de los agentes libres. Como los años del contrato aparecen en la base de datos sobre los salarios, se prefiere conservar dicha columna en la base de datos de salarios puesto que esta base de datos es más general que la de los agentes libres, razón por la que se borrará de esta última base de datos. \n",
    "\n",
    "El equipo al que se cambia el agente libre está señalado por la columna del equipo en la base de datos de salarios y la estadísticas deportivas por lo que se borrará *Team From To* de la base de datos de los agentes libres. \n",
    "\n",
    "Como nos importan los salarios para este analisis, quitaremos la columna de los equipos en las bases de datos sobre las estadísticas deportivas de todos los jugadores, así como la posición que ocupan."
   ]
  },
  {
   "cell_type": "code",
   "execution_count": 13,
   "id": "9f9ba1bf-01f9-4d28-83e7-2572f187c5c3",
   "metadata": {},
   "outputs": [],
   "source": [
    "for year in range(0,period):\n",
    "    # Drop columns:\n",
    "    if any(name in df_free_agents_copy[year].columns for name in ['Rank','Pos','Year','Team From To']):\n",
    "        df_free_agents_copy[year].drop('Rank', axis = 1, inplace = True)\n",
    "        df_free_agents_copy[year].drop('Year', axis = 1, inplace = True)\n",
    "        df_free_agents_copy[year].drop('Pos', axis = 1, inplace = True)\n",
    "        df_free_agents_copy[year].drop('Team From To', axis = 1, inplace = True)\n",
    "    if 'Rank' in df_salary_copy[year].columns:\n",
    "        df_salary_copy[year].drop('Rank', axis = 1, inplace = True)\n",
    "    if any(name in df_hitting_copy[year].columns for name in ['Rank','Year','Cash2023','Team','Pos']):\n",
    "        df_hitting_copy[year].drop('Rank', axis = 1, inplace = True)\n",
    "        df_hitting_copy[year].drop('Cash2023', axis = 1, inplace = True)\n",
    "        df_hitting_copy[year].drop('Team', axis = 1, inplace = True)\n",
    "        df_hitting_copy[year].drop('Pos', axis = 1, inplace = True)\n",
    "    if any(name in df_pitching_copy[year].columns for name in ['Rank','Year','Cash2023','Team','Pos']):\n",
    "        df_pitching_copy[year].drop('Rank', axis = 1, inplace = True)\n",
    "        df_pitching_copy[year].drop('Cash2023', axis = 1, inplace = True)\n",
    "        df_pitching_copy[year].drop('Team', axis = 1, inplace = True)\n",
    "        df_pitching_copy[year].drop('Pos', axis = 1, inplace = True)"
   ]
  },
  {
   "cell_type": "markdown",
   "id": "1dd0a4b5-084b-4bd1-b190-dd81a8333dc5",
   "metadata": {},
   "source": [
    "Debido a que aparecen columnas que inician con el  nombre *Unnamed*, tendremos que borrarlas con algún método general, el cual se muestra a continuación:"
   ]
  },
  {
   "cell_type": "code",
   "execution_count": 14,
   "id": "1e0873c3-b5ca-4bf1-a8e7-65adafcbb6bd",
   "metadata": {},
   "outputs": [],
   "source": [
    "for year in range(0,period):\n",
    "    # Base de datos de agentes libres:\n",
    "    df_free_agents_copy[year].drop(df_free_agents_copy[year].columns[df_free_agents_copy[year].columns.str.contains('Unnamed',case = False)],axis = 1, inplace = True)\n",
    "    \n",
    "    # Base de datos de los salarios:\n",
    "    df_salary_copy[year].drop(df_salary_copy[year].columns[df_salary_copy[year].columns.str.contains('Unnamed',case = False)],axis = 1, inplace = True)\n",
    "    \n",
    "    # Base de datos de los hitters:\n",
    "    df_hitting_copy[year].drop(df_hitting_copy[year].columns[df_hitting_copy[year].columns.str.contains('Unnamed',case = False)],axis = 1, inplace = True)\n",
    "    \n",
    "    # Base de datos de los pitchers:\n",
    "    df_pitching_copy[year].drop(df_pitching_copy[year].columns[df_pitching_copy[year].columns.str.contains('Unnamed',case = False)],axis = 1, inplace = True)"
   ]
  },
  {
   "cell_type": "markdown",
   "id": "219eca28-e7a2-4875-bbcd-3c782a8f3eb4",
   "metadata": {},
   "source": [
    "Verifiquemos que ya no se encuentran dichas columnas molestas"
   ]
  },
  {
   "cell_type": "code",
   "execution_count": 15,
   "id": "3fed09bc-00ec-4878-a8fe-08f509941be1",
   "metadata": {},
   "outputs": [
    {
     "data": {
      "text/plain": [
       "Index(['Player', 'Status', 'Team From', 'YRS', 'Value', 'AAV'], dtype='object')"
      ]
     },
     "execution_count": 15,
     "metadata": {},
     "output_type": "execute_result"
    }
   ],
   "source": [
    "df_free_agents_copy[9].columns"
   ]
  },
  {
   "cell_type": "code",
   "execution_count": 16,
   "id": "7f3fe3b4-3f37-4170-9ffb-23a1a99b7c3a",
   "metadata": {},
   "outputs": [
    {
     "data": {
      "text/plain": [
       "Index(['Player', 'Year', 'Pos', 'Team', 'BaseSalary', 'SigningBonus',\n",
       "       'Payroll Salary', 'Adj Salary', 'Salary%', 'Cash', 'AAV', 'CONT YR',\n",
       "       'CONT VALUE', 'Earnings', 'FA Year', 'Sign Age', 'Age', 'Weight',\n",
       "       'Height'],\n",
       "      dtype='object')"
      ]
     },
     "execution_count": 16,
     "metadata": {},
     "output_type": "execute_result"
    }
   ],
   "source": [
    "df_salary_copy[11].columns"
   ]
  },
  {
   "cell_type": "code",
   "execution_count": 17,
   "id": "2ffbd4d1-6309-42c5-b4f0-b1bf6e54579d",
   "metadata": {},
   "outputs": [
    {
     "data": {
      "text/plain": [
       "Index(['Player', 'GP', 'GP%', 'GS', 'GS%', 'AB', 'H', '2B', '3B', 'HR', 'RBI',\n",
       "       'AVG', 'OBP', 'SLG', 'OPS', 'WAR', 'TVS'],\n",
       "      dtype='object')"
      ]
     },
     "execution_count": 17,
     "metadata": {},
     "output_type": "execute_result"
    }
   ],
   "source": [
    "df_hitting_copy[2].columns"
   ]
  },
  {
   "cell_type": "code",
   "execution_count": 18,
   "id": "d5d5d190-b8f4-4f35-9084-456ecf6398bd",
   "metadata": {},
   "outputs": [
    {
     "data": {
      "text/plain": [
       "Index(['Player', 'GP', 'GS', 'IP', 'H', 'R', 'ER', 'BB', 'SO', 'W', 'L', 'SV',\n",
       "       'WHIP', 'ERA', 'WAR', 'TVS'],\n",
       "      dtype='object')"
      ]
     },
     "execution_count": 18,
     "metadata": {},
     "output_type": "execute_result"
    }
   ],
   "source": [
    "df_pitching_copy[5].columns"
   ]
  },
  {
   "cell_type": "markdown",
   "id": "cc511e5e-783c-4cef-b54d-779378f66c71",
   "metadata": {},
   "source": [
    "#### Agentes libres\n",
    "\n",
    "No se conservará el equipo al que es contratado el agente libre puesto que esta información también la contiene la base de datos que facilita más el tratamiento _ETL_."
   ]
  },
  {
   "cell_type": "code",
   "execution_count": 19,
   "id": "e90d35ea-543d-4ec9-afde-71f9f70ac6a0",
   "metadata": {},
   "outputs": [],
   "source": [
    "for year in range(0,period):\n",
    "    df_free_agents_copy[year] = df_free_agents_copy[year].rename(columns = {'Player':'Jugador',\n",
    "                                'Status':'Status_agente_libre', 'Team From':'Equipo_anterior',\n",
    "                                'Value':'Valor_contrato', 'AAV':'Valor_promedio_contrato',\n",
    "                                'YRS':'Anios_de_contrato'})\n",
    "    \n",
    "    free_agents_aux_1 = df_free_agents_copy[year]['Valor_contrato'].str.replace(\"$\",\"\")\n",
    "    free_agents_aux_2 = free_agents_aux_1.str.replace(\",\",\"\")\n",
    "    free_agents_aux_3 = df_free_agents_copy[year]['Valor_promedio_contrato'].str.replace(\"$\",\"\")\n",
    "    free_agents_aux_4 = free_agents_aux_3.str.replace(\",\",\"\")\n",
    "    df_free_agents_copy[year]['Valor_contrato'] = free_agents_aux_2\n",
    "    df_free_agents_copy[year]['Valor_promedio_contrato'] = free_agents_aux_4\n",
    "    \n",
    "    df_free_agents_copy[year]['Valor_contrato'] = pd.to_numeric(df_free_agents_copy[year]['Valor_contrato'])\n",
    "    df_free_agents_copy[year]['Valor_promedio_contrato'] = pd.to_numeric(df_free_agents_copy[year]['Valor_promedio_contrato'])"
   ]
  },
  {
   "cell_type": "markdown",
   "id": "38bcd933-d86a-482b-9819-0e7a66a5529f",
   "metadata": {},
   "source": [
    "Observemos las dimensiones de las bases de datos como referencia"
   ]
  },
  {
   "cell_type": "code",
   "execution_count": 20,
   "id": "87ac6627-6e60-450e-9d1d-0a89f59830c2",
   "metadata": {},
   "outputs": [
    {
     "name": "stdout",
     "output_type": "stream",
     "text": [
      "(1, 6)\n",
      "(108, 6)\n",
      "(213, 6)\n",
      "(208, 6)\n",
      "(221, 6)\n",
      "(241, 6)\n",
      "(100, 6)\n",
      "(98, 6)\n",
      "(105, 6)\n",
      "(118, 6)\n",
      "(141, 6)\n",
      "(137, 6)\n"
     ]
    }
   ],
   "source": [
    "for year in range(0,period):\n",
    "    print(df_free_agents_copy[year].shape)"
   ]
  },
  {
   "cell_type": "markdown",
   "id": "7ff88bb3-bdf6-4ba8-9951-aad01c39fdb8",
   "metadata": {},
   "source": [
    "También el tipo de datos que contiene cada columna"
   ]
  },
  {
   "cell_type": "code",
   "execution_count": 21,
   "id": "29b1f63f-61b9-4ffe-a94b-d0962850560a",
   "metadata": {},
   "outputs": [
    {
     "name": "stdout",
     "output_type": "stream",
     "text": [
      "<class 'pandas.core.frame.DataFrame'>\n",
      "RangeIndex: 100 entries, 0 to 99\n",
      "Data columns (total 6 columns):\n",
      " #   Column                   Non-Null Count  Dtype \n",
      "---  ------                   --------------  ----- \n",
      " 0   Jugador                  100 non-null    object\n",
      " 1   Status_agente_libre      100 non-null    object\n",
      " 2   Equipo_anterior          100 non-null    object\n",
      " 3   Anios_de_contrato        100 non-null    int64 \n",
      " 4   Valor_contrato           100 non-null    int64 \n",
      " 5   Valor_promedio_contrato  100 non-null    int64 \n",
      "dtypes: int64(3), object(3)\n",
      "memory usage: 4.8+ KB\n"
     ]
    }
   ],
   "source": [
    "df_free_agents_copy[6].info()"
   ]
  },
  {
   "cell_type": "markdown",
   "id": "9e5fea44-a360-4ee8-893a-b2159ef39ae9",
   "metadata": {},
   "source": [
    "Agreguemos los agentes libres en todas las temporadas que su contrato está vigente en lugar de solo tener observaciones en el año que firmaron. Para obervar cuántos datos se añadirán, veamos el tamaño inicial de las bases de datos."
   ]
  },
  {
   "cell_type": "code",
   "execution_count": 22,
   "id": "6aeaaab7-0ee0-473e-be78-002521546f79",
   "metadata": {},
   "outputs": [],
   "source": [
    "period_t = period - 1\n",
    "start_year = 2011\n",
    "end_year = 2022\n",
    "df_contracts = [None]*(period_t)"
   ]
  },
  {
   "cell_type": "code",
   "execution_count": 23,
   "id": "7a50013c-2dc2-41c4-b5fb-ee6b7bd7a6dc",
   "metadata": {},
   "outputs": [],
   "source": [
    "for year in range(1,period_t):\n",
    "    \n",
    "    max_year_contract = max(df_free_agents_copy[year]['Anios_de_contrato'])\n",
    "    years = max_year_contract - 1\n",
    "    df_contracts[year] = [None]*years\n",
    "    \n",
    "    for incremento in range(0,years):\n",
    "        diff_t = 1 + incremento\n",
    "        real_year = start_year + year + diff_t\n",
    "        year_bound = end_year\n",
    "\n",
    "        if real_year <= year_bound:\n",
    "            df_contracts[year][incremento] = df_free_agents_copy[year][df_free_agents_copy[year]['Anios_de_contrato'] > diff_t]"
   ]
  },
  {
   "cell_type": "code",
   "execution_count": 24,
   "id": "8bb49cad-4b11-47b0-a60c-8b673b9a1cc2",
   "metadata": {},
   "outputs": [],
   "source": [
    "for year in range(1,period_t):\n",
    "    years = len(df_contracts[year])\n",
    "    \n",
    "    for incremento in range(0,years):\n",
    "        diff_t = 1 + incremento\n",
    "        real_year = start_year + year + diff_t\n",
    "        year_bound = end_year\n",
    "\n",
    "        if real_year <= year_bound:\n",
    "            frames = [df_free_agents_copy[year + diff_t], df_contracts[year][incremento]]\n",
    "            \n",
    "            df_free_agents_copy[year + diff_t] = pd.concat(frames)\n",
    "            \n",
    "            df_free_agents_copy[year + diff_t].reset_index(drop = True, inplace = True)\n",
    "            df_free_agents_copy[year + diff_t] = df_free_agents_copy[year + diff_t].sort_values(by = 'Jugador', ascending = True)"
   ]
  },
  {
   "cell_type": "markdown",
   "id": "ac92f075-e455-4a4a-81b2-a5468bf5f778",
   "metadata": {},
   "source": [
    "Veamos los resultados"
   ]
  },
  {
   "cell_type": "code",
   "execution_count": 25,
   "id": "d761cf27-ce51-4f99-937e-42a747ecd6d5",
   "metadata": {},
   "outputs": [
    {
     "name": "stdout",
     "output_type": "stream",
     "text": [
      "(1, 6)\n",
      "(108, 6)\n",
      "(243, 6)\n",
      "(260, 6)\n",
      "(293, 6)\n",
      "(306, 6)\n",
      "(182, 6)\n",
      "(174, 6)\n",
      "(189, 6)\n",
      "(192, 6)\n",
      "(203, 6)\n",
      "(196, 6)\n"
     ]
    }
   ],
   "source": [
    "for year in range(0,period):\n",
    "    print(df_free_agents_copy[year].shape)"
   ]
  },
  {
   "cell_type": "markdown",
   "id": "aa2c5834-2177-4cd9-849c-e1dbc06a0680",
   "metadata": {},
   "source": [
    "#### Salarios\n",
    "\n",
    "Como los salarios irán con las bases de datos de los _hitters_ y _pitchers_ es que se hará su proceso _ETL_ antes."
   ]
  },
  {
   "cell_type": "code",
   "execution_count": 26,
   "id": "c6c7e8c9-d48e-4c20-93dd-829d754b1a57",
   "metadata": {},
   "outputs": [],
   "source": [
    "for year in range(0,period):\n",
    "    # Cambio de nombres\n",
    "    df_salary_copy[year] = df_salary_copy[year].rename(columns = {'Player':'Jugador',\n",
    "                            'BaseSalary':'Sueldo_base', 'SigningBonus':'Bono_por_firma',\n",
    "                            'Payroll Salary':'Sueldo_regular', 'Adj Salary':'Sueldo_ajustado',\n",
    "                            'CONT YR':'Anios_de_contrato', 'CONT VALUE':'Valor_del_contrato',\n",
    "                            'Earnings':'Ganancias', 'FA Year':'Anio_de_agente_libre',\n",
    "                            'Sign Age':'Edad_al_firmar', 'Age':'Edad', 'Weight':'Peso',\n",
    "                            'Height':'Altura', 'Year':'Anio', 'Pos':'Posicion',\n",
    "                            'Salary%':'Sueldo_porcentual', 'AAV':'Valor_contrato_promedio',\n",
    "                            'Team':'Acronimo'})\n",
    "    \n",
    "    # Tranformando al tipo de dato apropiado\n",
    "    salary_aux_1 = df_salary_copy[year]['Sueldo_base'].str.replace(\"$\",\"\")\n",
    "    salary_aux_2 = salary_aux_1.str.replace(\",\",\"\")\n",
    "    df_salary_copy[year]['Sueldo_base'] = salary_aux_2\n",
    "    df_salary_copy[year]['Sueldo_base'] = pd.to_numeric(df_salary_copy[year]['Sueldo_base'])\n",
    "    \n",
    "    salary_aux_3 = df_salary_copy[year]['Sueldo_regular'].str.replace(\"$\",\"\")\n",
    "    salary_aux_4 = salary_aux_3.str.replace(\",\",\"\")\n",
    "    df_salary_copy[year]['Sueldo_regular'] = salary_aux_4\n",
    "    df_salary_copy[year]['Sueldo_regular'] = pd.to_numeric(df_salary_copy[year]['Sueldo_regular'])\n",
    "    \n",
    "    salary_aux_5 = df_salary_copy[year]['Sueldo_ajustado'].str.replace(\"$\",\"\")\n",
    "    salary_aux_6 = salary_aux_5.str.replace(\",\",\"\")\n",
    "    df_salary_copy[year]['Sueldo_ajustado'] = salary_aux_6\n",
    "    df_salary_copy[year]['Sueldo_ajustado'] = pd.to_numeric(df_salary_copy[year]['Sueldo_ajustado'])\n",
    "    \n",
    "    salary_aux_7 = df_salary_copy[year]['Valor_del_contrato'].str.replace(\"$\",\"\")\n",
    "    salary_aux_8 = salary_aux_7.str.replace(\",\",\"\")\n",
    "    df_salary_copy[year]['Valor_del_contrato'] = salary_aux_8\n",
    "    df_salary_copy[year]['Valor_del_contrato'] = pd.to_numeric(df_salary_copy[year]['Valor_del_contrato'])\n",
    "    \n",
    "    salary_aux_9 = df_salary_copy[year]['Bono_por_firma'].str.replace(\"$\",\"\")\n",
    "    salary_aux_10 = salary_aux_9.str.replace(\",\",\"\")\n",
    "    df_salary_copy[year]['Bono_por_firma'] = salary_aux_10\n",
    "    df_salary_copy[year]['Bono_por_firma'] = pd.to_numeric(df_salary_copy[year]['Bono_por_firma'])\n",
    "    \n",
    "    salary_aux_11 = df_salary_copy[year]['Ganancias'].str.replace(\"$\",\"\")\n",
    "    salary_aux_12 = salary_aux_11.str.replace(\",\",\"\")\n",
    "    df_salary_copy[year]['Ganancias'] = salary_aux_12\n",
    "    df_salary_copy[year]['Ganancias'] = pd.to_numeric(df_salary_copy[year]['Ganancias'])\n",
    "    \n",
    "    salary_aux_15 = df_salary_copy[year]['Valor_contrato_promedio'].str.replace(\"$\",\"\")\n",
    "    salary_aux_16 = salary_aux_15.str.replace(\",\",\"\")\n",
    "    df_salary_copy[year]['Valor_contrato_promedio'] = salary_aux_16\n",
    "    df_salary_copy[year]['Valor_contrato_promedio'] = pd.to_numeric(df_salary_copy[year]['Valor_contrato_promedio'])\n",
    "    \n",
    "    salary_aux_17 = df_salary_copy[year]['Altura'].str.replace(\"\\\"\",\"\")\n",
    "    salary_aux_18 = salary_aux_17.str.replace(\"'\",\"\")\n",
    "    df_salary_copy[year]['Altura'] = salary_aux_18\n",
    "    df_salary_copy[year]['Altura'] = pd.to_numeric(df_salary_copy[year]['Altura'])/10\n",
    "    # SUstitullamos los xeros\n",
    "    height_mean = df_salary_copy[year]['Altura'].mean(skipna=True)\n",
    "    df_salary_copy[year]['Altura'] = df_salary_copy[year].Altura.mask(df_salary_copy[year].Altura == 0, height_mean)\n",
    "    \n",
    "    df_salary_copy[year]['Anio_de_agente_libre'] = pd.to_numeric(df_salary_copy[year]['Anio_de_agente_libre'])\n",
    "    df_salary_copy[year]['Anios_de_contrato'] = pd.to_numeric(df_salary_copy[year]['Anios_de_contrato'])\n",
    "    df_salary_copy[year]['Edad'] = pd.to_numeric(df_salary_copy[year]['Edad'])"
   ]
  },
  {
   "cell_type": "markdown",
   "id": "7cf28643-3b0a-4525-81ca-6df80867497a",
   "metadata": {},
   "source": [
    "Por algunas particularidades de la base de datos, las columna que contiene la edad al firmar se tratará por separado aprovechando que la mayoría de los datos incorrectos tienen una longitud mayor a dos."
   ]
  },
  {
   "cell_type": "code",
   "execution_count": 27,
   "id": "3cf5135c-99f3-4e3e-8c9a-b972f14851cb",
   "metadata": {
    "tags": []
   },
   "outputs": [],
   "source": [
    "for year in range (0,period):\n",
    "    df_salary_copy[year]['Edad_al_firmar'] = df_salary_copy[year]['Edad_al_firmar'].map(str)\n",
    "\n",
    "    for edad in range(0,df_salary_copy[year].shape[0]):\n",
    "        # String es mayor que 0:\n",
    "        if len(df_salary_copy[year]['Edad_al_firmar'].iloc[edad]) == 2:\n",
    "            df_salary_copy[year].iloc[edad, df_salary_copy[year].columns.get_loc('Edad_al_firmar')] = pd.to_numeric(df_salary_copy[year]['Edad_al_firmar'].iloc[edad])\n",
    "            \n",
    "        # String es menor o igual que 0:\n",
    "        elif len(df_salary_copy[year]['Edad_al_firmar'].iloc[edad]) != 2:\n",
    "            # Si la columna de la edad contiene datos correctos\n",
    "            if df_salary_copy[year]['Edad'].iloc[edad] > 0:\n",
    "                if df_salary_copy[year]['Anio_de_agente_libre'].iloc[edad] == 0:\n",
    "                    ag_year = year + 2011 + 1\n",
    "                else:\n",
    "                    ag_year = df_salary_copy[year]['Anio_de_agente_libre'].iloc[edad]\n",
    "                # Get first year of contract\n",
    "                ini_year = ag_year - df_salary_copy[year]['Anios_de_contrato'].iloc[edad]\n",
    "                # Años desde el el año inicial\n",
    "                dif_years = year + 2011 - ini_year\n",
    "                # Edad al firmar:\n",
    "                sign_age = df_salary_copy[year]['Edad'].iloc[edad] - dif_years\n",
    "                # Cambio de dato:\n",
    "                df_salary_copy[year].iloc[edad, df_salary_copy[year].columns.get_loc('Edad_al_firmar')] = pd.to_numeric(sign_age)\n",
    "                \n",
    "            # Si la columna de edad no contiene un dato coherente\n",
    "            else:\n",
    "                # Cambio de dato:\n",
    "                df_salary_copy[year].iloc[edad, df_salary_copy[year].columns.get_loc('Edad_al_firmar')] = pd.to_numeric(18)    \n",
    "    \n",
    "        # Entero  menor a 0:\n",
    "        if df_salary_copy[year]['Edad_al_firmar'].iloc[edad] < 0:\n",
    "            # Si la columna de la edad contiene datos correctos\n",
    "            if df_salary_copy[year]['Edad'].iloc[edad] > 0:\n",
    "                if df_salary_copy[year]['Anio_de_agente_libre'].iloc[edad] == 0:\n",
    "                    ag_year = year + 2011 + 1\n",
    "                else:\n",
    "                    ag_year = df_salary_copy[year]['Anio_de_agente_libre'].iloc[edad]\n",
    "                # Get first year of contract\n",
    "                ini_year = ag_year - df_salary_copy[year]['Anios_de_contrato'].iloc[edad]\n",
    "                # Años desde el el año inicial\n",
    "                dif_years = year + 2011 - ini_year\n",
    "                # Edad al firmar:\n",
    "                sign_age = df_salary_copy[year]['Edad'].iloc[edad] - dif_years\n",
    "                # Cambio de dato:\n",
    "                df_salary_copy[year].iloc[edad, df_salary_copy[year].columns.get_loc('Edad_al_firmar')] = pd.to_numeric(sign_age)\n",
    "                \n",
    "            # Si la columna de edad no contiene un dato coherente\n",
    "            else:\n",
    "                # Cambio de dato:\n",
    "                df_salary_copy[year].iloc[edad, df_salary_copy[year].columns.get_loc('Edad_al_firmar')] = pd.to_numeric(18)\n",
    "         \n",
    "    # Transformemos los datos a enteros\n",
    "    df_salary_copy[year]['Edad_al_firmar'] = pd.to_numeric(df_salary_copy[year]['Edad_al_firmar'])"
   ]
  },
  {
   "cell_type": "markdown",
   "id": "46d3c825-8396-44cf-a7af-7dff6654ec26",
   "metadata": {},
   "source": [
    "Podemos verificar si se limpiaron adecuadamente las celdas de la columna de edades al firmar. Esto, al filtrar los datos que sean distintos a enteros y al observar si se pudo transformar toda la columna al tipo entero."
   ]
  },
  {
   "cell_type": "code",
   "execution_count": 28,
   "id": "6cfde4c5-5c42-445c-9d96-2a715aee71b4",
   "metadata": {
    "tags": []
   },
   "outputs": [],
   "source": [
    "for year in range(0,period):\n",
    "    for edad in range(0,df_salary_copy[year]['Edad_al_firmar'].shape[0]):\n",
    "        if type(df_salary_copy[year]['Edad_al_firmar'].iloc[edad]) != np.int64:\n",
    "            print(type(df_salary_copy[year]['Edad_al_firmar'].iloc[edad]))"
   ]
  },
  {
   "cell_type": "code",
   "execution_count": 29,
   "id": "0a218831-526f-4ab2-95ae-716248bac189",
   "metadata": {
    "tags": []
   },
   "outputs": [],
   "source": [
    "for year in range(0,period):\n",
    "    for edad in range(0,df_salary_copy[year]['Edad_al_firmar'].shape[0]):\n",
    "        if df_salary_copy[year]['Edad_al_firmar'].iloc[edad] < 0:\n",
    "            print(df_salary_copy[year]['Edad_al_firmar'].iloc[edad])"
   ]
  },
  {
   "cell_type": "code",
   "execution_count": 30,
   "id": "6590e2d0-67bc-403a-9292-6c135380e01c",
   "metadata": {},
   "outputs": [],
   "source": [
    "#for year in range(0,period):\n",
    "#    print(type(df_salary_copy[year][['Edad_al_firmar']].info()))"
   ]
  },
  {
   "cell_type": "code",
   "execution_count": 31,
   "id": "c0d33f56-8beb-4939-8487-b02f843980eb",
   "metadata": {
    "tags": []
   },
   "outputs": [],
   "source": [
    "#for year in range(0,period):\n",
    "#    print(year)\n",
    "#    for edad in range(0,df_salary_copy[year]['Edad_al_firmar'].shape[0]):\n",
    "#        print(str(df_salary_copy[year]['Edad_al_firmar'].iloc[edad]) + ' ' + str(edad))"
   ]
  },
  {
   "cell_type": "markdown",
   "id": "c58f7801-0662-43de-8f0f-bfabee7bd2cd",
   "metadata": {},
   "source": [
    "Por otro lado, falta corregir las entradas de las columnas de las edades que tengan valores menores a cero. Esto se hará de acuerdo al resto de columnas"
   ]
  },
  {
   "cell_type": "code",
   "execution_count": 32,
   "id": "faa2a39d-90fb-4ac5-b6c7-bc011d4e2ba7",
   "metadata": {},
   "outputs": [
    {
     "name": "stdout",
     "output_type": "stream",
     "text": [
      "0\n",
      "-9\n",
      "1\n",
      "-9\n",
      "2\n",
      "-7\n"
     ]
    }
   ],
   "source": [
    "for year in range(0,period):\n",
    "    for edad in range(0,df_salary_copy[year]['Edad'].shape[0]):\n",
    "        if df_salary_copy[year]['Edad'].iloc[edad] < 0:\n",
    "            print(year)\n",
    "            print(df_salary_copy[year]['Edad'].iloc[edad])"
   ]
  },
  {
   "cell_type": "code",
   "execution_count": 33,
   "id": "c4fef7f9-8dc1-496d-883b-fb75c4359bda",
   "metadata": {},
   "outputs": [],
   "source": [
    "for year in range(0,period):\n",
    "    for edad in range(0,df_salary_copy[year].shape[0]):\n",
    "        # Condición para imputar:\n",
    "        if df_salary_copy[year]['Edad'].iloc[edad] <= 0:\n",
    "            # Si no se indica si tendrá año de agencia libre:\n",
    "            if df_salary_copy[year]['Anio_de_agente_libre'].iloc[edad] == 0:\n",
    "                        ag_year = year + 2011 + 1\n",
    "            # Si tendrá año de agencia libre\n",
    "            else:\n",
    "                ag_year = df_salary_copy[year]['Anio_de_agente_libre'].iloc[edad]\n",
    "            # Get first year of contract\n",
    "            ini_year = ag_year - df_salary_copy[year]['Anios_de_contrato'].iloc[edad]\n",
    "            # Años desde el el año inicial\n",
    "            dif_years = year + 2011 - ini_year\n",
    "            # Edad en la temporada:\n",
    "            seasson_age = df_salary_copy[year]['Edad_al_firmar'].iloc[edad] + dif_years\n",
    "            # Asignación\n",
    "            df_salary_copy[year]['Edad'].iloc[edad] = seasson_age"
   ]
  },
  {
   "cell_type": "markdown",
   "id": "bb3d266e-d37d-46ae-a4a8-c921191b16cf",
   "metadata": {},
   "source": [
    "Comprobemos que no hay ninguna edad negativa"
   ]
  },
  {
   "cell_type": "code",
   "execution_count": 34,
   "id": "c82736c2-91c5-40b6-a79a-16a32d22e076",
   "metadata": {},
   "outputs": [],
   "source": [
    "for year in range(0,period):\n",
    "    for edad in range(0,df_salary_copy[year]['Edad'].shape[0]):\n",
    "        if df_salary_copy[year]['Edad'].iloc[edad] < 0:\n",
    "            print(year)\n",
    "            print(str(df_salary_copy[year]['Edad'].iloc[edad]) + ' ' + str(edad))"
   ]
  },
  {
   "cell_type": "markdown",
   "id": "bc6dc644-9e22-40d1-8256-b280eb48a6d8",
   "metadata": {},
   "source": [
    "Con la imputación de datos ya se puede crear la columna que contiene la antiguedad del agente libre bajo el contrato"
   ]
  },
  {
   "cell_type": "code",
   "execution_count": 35,
   "id": "4b5a6bfe-defe-401e-8333-155a5ddc09f2",
   "metadata": {},
   "outputs": [],
   "source": [
    "for year in range(0,period):\n",
    "    df_salary_copy[year]['Antiguedad'] = df_salary_copy[year]['Edad'] - df_salary_copy[year]['Edad_al_firmar']"
   ]
  },
  {
   "cell_type": "markdown",
   "id": "bef429ce-6b52-46c4-9b8d-dea7bac017b6",
   "metadata": {},
   "source": [
    "Por último, convirtamos la columna del año a string para que se entienda como una categoría y no una variable numérica"
   ]
  },
  {
   "cell_type": "code",
   "execution_count": 36,
   "id": "86aa61ee-c7a2-428d-bbca-f5c59c3ef667",
   "metadata": {},
   "outputs": [],
   "source": [
    "for year in range(0,period):\n",
    "    df_salary_copy[year]['Anio'] = df_salary_copy[year]['Anio'].map(str)"
   ]
  },
  {
   "cell_type": "code",
   "execution_count": 37,
   "id": "3b9b6c50-2d12-432a-be81-8e9e5ea361fe",
   "metadata": {},
   "outputs": [
    {
     "name": "stdout",
     "output_type": "stream",
     "text": [
      "<class 'pandas.core.frame.DataFrame'>\n",
      "RangeIndex: 1045 entries, 0 to 1044\n",
      "Data columns (total 20 columns):\n",
      " #   Column                   Non-Null Count  Dtype  \n",
      "---  ------                   --------------  -----  \n",
      " 0   Jugador                  1045 non-null   object \n",
      " 1   Anio                     1045 non-null   object \n",
      " 2   Posicion                 1045 non-null   object \n",
      " 3   Acronimo                 1045 non-null   object \n",
      " 4   Sueldo_base              1045 non-null   int64  \n",
      " 5   Bono_por_firma           1045 non-null   int64  \n",
      " 6   Sueldo_regular           1045 non-null   int64  \n",
      " 7   Sueldo_ajustado          1045 non-null   int64  \n",
      " 8   Sueldo_porcentual        1045 non-null   float64\n",
      " 9   Cash                     1045 non-null   object \n",
      " 10  Valor_contrato_promedio  1045 non-null   int64  \n",
      " 11  Anios_de_contrato        1045 non-null   int64  \n",
      " 12  Valor_del_contrato       1045 non-null   int64  \n",
      " 13  Ganancias                1045 non-null   int64  \n",
      " 14  Anio_de_agente_libre     1045 non-null   int64  \n",
      " 15  Edad_al_firmar           1045 non-null   int64  \n",
      " 16  Edad                     1045 non-null   int64  \n",
      " 17  Peso                     1045 non-null   int64  \n",
      " 18  Altura                   1045 non-null   float64\n",
      " 19  Antiguedad               1045 non-null   int64  \n",
      "dtypes: float64(2), int64(13), object(5)\n",
      "memory usage: 163.4+ KB\n"
     ]
    }
   ],
   "source": [
    "df_salary_copy[5].info()"
   ]
  },
  {
   "cell_type": "markdown",
   "id": "ee7ccb61-c2eb-464e-8cde-9359b22d4edb",
   "metadata": {},
   "source": [
    "#### Hitters"
   ]
  },
  {
   "cell_type": "code",
   "execution_count": 38,
   "id": "e07b7603-3038-4969-941f-3eb8484828bf",
   "metadata": {},
   "outputs": [],
   "source": [
    "for year in range(0,period):\n",
    "    # Cambio de nombres\n",
    "    df_hitting_copy[year] = df_hitting_copy[year].rename(columns = {'Player':'Jugador',\n",
    "                            'GP':'Juegos', 'GP%':'Porcentaje_juegos',\n",
    "                            'AB':'At-bats', 'H':'Bateos', 'GS':'Juegos_iniciados',\n",
    "                            'GS%':'Porcentaje_juegos_iniciados', 'RBI':'Runs-batted-in',\n",
    "                            'HR':'Home-runs', 'AVG':'Bateos_promedio',\n",
    "                            '2B':'Dobles', '3B':'Triples', 'OPS':'Porcentaje_On-base-plus-slugging',\n",
    "                            'SLG':'Porcentaje_slugging', 'OBP':'Porcentaje_on-base'})"
   ]
  },
  {
   "cell_type": "code",
   "execution_count": 39,
   "id": "9e33ae68-0347-4971-a8bb-f98442a13c6c",
   "metadata": {},
   "outputs": [
    {
     "name": "stdout",
     "output_type": "stream",
     "text": [
      "(521, 17)\n",
      "(669, 17)\n",
      "(734, 17)\n",
      "(778, 17)\n",
      "(809, 17)\n",
      "(834, 17)\n",
      "(810, 17)\n",
      "(825, 17)\n",
      "(850, 17)\n",
      "(451, 17)\n",
      "(753, 17)\n",
      "(496, 17)\n"
     ]
    }
   ],
   "source": [
    "for year in range(0,period):\n",
    "    print(df_hitting_copy[year].shape)"
   ]
  },
  {
   "cell_type": "code",
   "execution_count": 40,
   "id": "41a7f546-c942-45a9-a398-2729699174b4",
   "metadata": {},
   "outputs": [
    {
     "name": "stdout",
     "output_type": "stream",
     "text": [
      "<class 'pandas.core.frame.DataFrame'>\n",
      "RangeIndex: 834 entries, 0 to 833\n",
      "Data columns (total 17 columns):\n",
      " #   Column                            Non-Null Count  Dtype  \n",
      "---  ------                            --------------  -----  \n",
      " 0   Jugador                           834 non-null    object \n",
      " 1   Juegos                            834 non-null    int64  \n",
      " 2   Porcentaje_juegos                 834 non-null    float64\n",
      " 3   Juegos_iniciados                  834 non-null    int64  \n",
      " 4   Porcentaje_juegos_iniciados       834 non-null    float64\n",
      " 5   At-bats                           834 non-null    int64  \n",
      " 6   Bateos                            834 non-null    int64  \n",
      " 7   Dobles                            834 non-null    int64  \n",
      " 8   Triples                           834 non-null    int64  \n",
      " 9   Home-runs                         834 non-null    int64  \n",
      " 10  Runs-batted-in                    834 non-null    int64  \n",
      " 11  Bateos_promedio                   834 non-null    float64\n",
      " 12  Porcentaje_on-base                834 non-null    float64\n",
      " 13  Porcentaje_slugging               834 non-null    float64\n",
      " 14  Porcentaje_On-base-plus-slugging  834 non-null    float64\n",
      " 15  WAR                               832 non-null    float64\n",
      " 16  TVS                               834 non-null    float64\n",
      "dtypes: float64(8), int64(8), object(1)\n",
      "memory usage: 110.9+ KB\n"
     ]
    }
   ],
   "source": [
    "df_hitting_copy[5].info()"
   ]
  },
  {
   "cell_type": "code",
   "execution_count": 41,
   "id": "a0a437fc-4edf-43e9-8fe4-8eadd9111ab5",
   "metadata": {},
   "outputs": [
    {
     "data": {
      "text/plain": [
       "Index(['Jugador', 'Juegos', 'Porcentaje_juegos', 'Juegos_iniciados',\n",
       "       'Porcentaje_juegos_iniciados', 'At-bats', 'Bateos', 'Dobles', 'Triples',\n",
       "       'Home-runs', 'Runs-batted-in', 'Bateos_promedio', 'Porcentaje_on-base',\n",
       "       'Porcentaje_slugging', 'Porcentaje_On-base-plus-slugging', 'WAR',\n",
       "       'TVS'],\n",
       "      dtype='object')"
      ]
     },
     "execution_count": 41,
     "metadata": {},
     "output_type": "execute_result"
    }
   ],
   "source": [
    "df_hitting_copy[5].columns"
   ]
  },
  {
   "cell_type": "markdown",
   "id": "21d469d0-db9e-4397-a5d4-17581caf3a3e",
   "metadata": {},
   "source": [
    "#### Pitchers"
   ]
  },
  {
   "cell_type": "code",
   "execution_count": 42,
   "id": "42cc5fa2-6e74-4150-8e70-ae447fa72593",
   "metadata": {},
   "outputs": [],
   "source": [
    "for year in range(0,period):\n",
    "    # Cambio de nombres\n",
    "    df_pitching_copy[year] = df_pitching_copy[year].rename(columns = {'Player':'Jugador',\n",
    "                             'GP':'Juegos', 'GS':'Juegos_iniciados', 'IP':'Inning_pitched',\n",
    "                             'H':'Bateos', 'R':'Carreras', 'ER':'Carreras_ganadas',\n",
    "                             'BB':'Walks', 'SO':'Strike-outs', 'W':'Wins', 'L':'Losses',\n",
    "                             'SV':'Saves'})"
   ]
  },
  {
   "cell_type": "code",
   "execution_count": 43,
   "id": "7d0eec4d-76e4-41e2-a66a-d0b391769da1",
   "metadata": {},
   "outputs": [
    {
     "name": "stdout",
     "output_type": "stream",
     "text": [
      "(324, 16)\n",
      "(427, 16)\n",
      "(485, 16)\n",
      "(537, 16)\n",
      "(586, 16)\n",
      "(592, 16)\n",
      "(581, 16)\n",
      "(644, 16)\n",
      "(668, 16)\n",
      "(542, 16)\n",
      "(611, 16)\n",
      "(598, 16)\n"
     ]
    }
   ],
   "source": [
    "for year in range(0,period):\n",
    "    print(df_pitching_copy[year].shape)"
   ]
  },
  {
   "cell_type": "code",
   "execution_count": 44,
   "id": "4ac56be4-ad50-4bb6-b86a-033567c855a1",
   "metadata": {},
   "outputs": [
    {
     "name": "stdout",
     "output_type": "stream",
     "text": [
      "<class 'pandas.core.frame.DataFrame'>\n",
      "RangeIndex: 592 entries, 0 to 591\n",
      "Data columns (total 16 columns):\n",
      " #   Column            Non-Null Count  Dtype  \n",
      "---  ------            --------------  -----  \n",
      " 0   Jugador           592 non-null    object \n",
      " 1   Juegos            592 non-null    int64  \n",
      " 2   Juegos_iniciados  592 non-null    int64  \n",
      " 3   Inning_pitched    592 non-null    float64\n",
      " 4   Bateos            592 non-null    int64  \n",
      " 5   Carreras          592 non-null    int64  \n",
      " 6   Carreras_ganadas  592 non-null    int64  \n",
      " 7   Walks             592 non-null    int64  \n",
      " 8   Strike-outs       592 non-null    int64  \n",
      " 9   Wins              592 non-null    int64  \n",
      " 10  Losses            592 non-null    int64  \n",
      " 11  Saves             592 non-null    int64  \n",
      " 12  WHIP              592 non-null    float64\n",
      " 13  ERA               592 non-null    float64\n",
      " 14  WAR               587 non-null    float64\n",
      " 15  TVS               592 non-null    float64\n",
      "dtypes: float64(5), int64(10), object(1)\n",
      "memory usage: 74.1+ KB\n"
     ]
    }
   ],
   "source": [
    "df_pitching_copy[5].info()"
   ]
  },
  {
   "cell_type": "markdown",
   "id": "6694ac60-acb4-4ae5-a048-ee727e4920ef",
   "metadata": {},
   "source": [
    "## Agregación de variables sugeridas por artículos\n",
    "\n",
    "Las primeras variables que agregaremos son el cuadrado de todas las estadísticas deportivas, así como las siguientes variables:\n",
    "\n",
    "- DOMINANCE = $Strike-outs/(9*Inning \\; Pitched)$\n",
    "- CONTROL = $Walks/(9*Inning \\; Pitched)$\n",
    "- COMMAND = $Strike-outs/Walks$"
   ]
  },
  {
   "cell_type": "code",
   "execution_count": 45,
   "id": "014f35c6-d0b4-4966-b7c5-3b91be3aaefa",
   "metadata": {},
   "outputs": [],
   "source": [
    "for year in range(0,period):\n",
    "    df_pitching_copy[year]['Dominio'] = df_pitching_copy[year]['Strike-outs']/(9*df_pitching_copy[year]['Inning_pitched'])\n",
    "    df_pitching_copy[year]['Control'] = df_pitching_copy[year]['Walks']/(9*df_pitching_copy[year]['Inning_pitched'])\n",
    "    df_pitching_copy[year]['Comando'] = df_pitching_copy[year]['Strike-outs']/df_pitching_copy[year]['Walks']"
   ]
  },
  {
   "cell_type": "code",
   "execution_count": 46,
   "id": "d46561d9-a429-4e7a-948d-4cef7a646cb6",
   "metadata": {},
   "outputs": [
    {
     "name": "stdout",
     "output_type": "stream",
     "text": [
      "(324, 19)\n",
      "(427, 19)\n",
      "(485, 19)\n",
      "(537, 19)\n",
      "(586, 19)\n",
      "(592, 19)\n",
      "(581, 19)\n",
      "(644, 19)\n",
      "(668, 19)\n",
      "(542, 19)\n",
      "(611, 19)\n",
      "(598, 19)\n"
     ]
    }
   ],
   "source": [
    "for year in range(0,period):\n",
    "    print(df_pitching_copy[year].shape)"
   ]
  },
  {
   "cell_type": "code",
   "execution_count": 47,
   "id": "6d285d1d-a247-449d-805e-407cecae9c90",
   "metadata": {},
   "outputs": [
    {
     "name": "stdout",
     "output_type": "stream",
     "text": [
      "<class 'pandas.core.frame.DataFrame'>\n",
      "RangeIndex: 485 entries, 0 to 484\n",
      "Data columns (total 19 columns):\n",
      " #   Column            Non-Null Count  Dtype  \n",
      "---  ------            --------------  -----  \n",
      " 0   Jugador           485 non-null    object \n",
      " 1   Juegos            485 non-null    int64  \n",
      " 2   Juegos_iniciados  485 non-null    int64  \n",
      " 3   Inning_pitched    485 non-null    float64\n",
      " 4   Bateos            485 non-null    int64  \n",
      " 5   Carreras          485 non-null    int64  \n",
      " 6   Carreras_ganadas  485 non-null    int64  \n",
      " 7   Walks             485 non-null    int64  \n",
      " 8   Strike-outs       485 non-null    int64  \n",
      " 9   Wins              485 non-null    int64  \n",
      " 10  Losses            485 non-null    int64  \n",
      " 11  Saves             485 non-null    int64  \n",
      " 12  WHIP              485 non-null    float64\n",
      " 13  ERA               485 non-null    float64\n",
      " 14  WAR               435 non-null    float64\n",
      " 15  TVS               485 non-null    float64\n",
      " 16  Dominio           484 non-null    float64\n",
      " 17  Control           485 non-null    float64\n",
      " 18  Comando           482 non-null    float64\n",
      "dtypes: float64(8), int64(10), object(1)\n",
      "memory usage: 72.1+ KB\n"
     ]
    }
   ],
   "source": [
    "df_pitching_copy[2].info()"
   ]
  },
  {
   "cell_type": "markdown",
   "id": "a8a2f003-cb03-4240-8a15-cff4e951f03b",
   "metadata": {},
   "source": [
    "Podemos verificar qué entradas poseen valores infinitos en la base de datos"
   ]
  },
  {
   "cell_type": "code",
   "execution_count": 48,
   "id": "04ec781c-565d-45cc-af4a-202312aa7566",
   "metadata": {
    "tags": []
   },
   "outputs": [
    {
     "data": {
      "text/plain": [
       "'\\nfor year in range(0,period):\\n    print(str(2011 + year))\\n    for name in df_pitching_copy[year].columns:\\n        print(name)\\n        if type(name) != str:\\n            for element in range(0,len(df_pitching_copy[year][name])):\\n                if math.isinf(df_pitching_copy[year][name].iloc[element]) == True:\\n                    print(str(element) +  \\'  \\' + str(df_pitching_copy[year][name].iloc[element]))\\n    print(\"\")\\n'"
      ]
     },
     "execution_count": 48,
     "metadata": {},
     "output_type": "execute_result"
    }
   ],
   "source": [
    "\"\"\"\n",
    "for year in range(0,period):\n",
    "    print(str(2011 + year))\n",
    "    for name in df_pitching_copy[year].columns:\n",
    "        print(name)\n",
    "        if type(name) != str:\n",
    "            for element in range(0,len(df_pitching_copy[year][name])):\n",
    "                if math.isinf(df_pitching_copy[year][name].iloc[element]) == True:\n",
    "                    print(str(element) +  '  ' + str(df_pitching_copy[year][name].iloc[element]))\n",
    "    print(\"\")\n",
    "\"\"\""
   ]
  },
  {
   "cell_type": "markdown",
   "id": "2ec1ce41-f393-4ac7-8c40-71d50045e1f9",
   "metadata": {},
   "source": [
    "Siguiendo la sugerencia de algunos artículos, obtengamos el logaritmo de los salarios"
   ]
  },
  {
   "cell_type": "code",
   "execution_count": 49,
   "id": "802d0741-a015-44c3-9fbc-340dde2f2e43",
   "metadata": {},
   "outputs": [],
   "source": [
    "for year in range(0,period):\n",
    "    df_salary_copy[year]['ln_Sueldo_base'] = np.log(df_salary_copy[year]['Sueldo_base'])\n",
    "    df_salary_copy[year]['ln_Sueldo_ajustado'] = np.log(df_salary_copy[year]['Sueldo_ajustado'])\n",
    "    df_salary_copy[year]['ln_Sueldo_regular'] = np.log(df_salary_copy[year]['Sueldo_regular'])"
   ]
  },
  {
   "cell_type": "code",
   "execution_count": 50,
   "id": "8c2ac737-6468-41a3-abda-51714f77b373",
   "metadata": {},
   "outputs": [
    {
     "name": "stdout",
     "output_type": "stream",
     "text": [
      "<class 'pandas.core.frame.DataFrame'>\n",
      "RangeIndex: 1013 entries, 0 to 1012\n",
      "Data columns (total 23 columns):\n",
      " #   Column                   Non-Null Count  Dtype  \n",
      "---  ------                   --------------  -----  \n",
      " 0   Jugador                  1013 non-null   object \n",
      " 1   Anio                     1013 non-null   object \n",
      " 2   Posicion                 1013 non-null   object \n",
      " 3   Acronimo                 1013 non-null   object \n",
      " 4   Sueldo_base              1013 non-null   int64  \n",
      " 5   Bono_por_firma           1013 non-null   int64  \n",
      " 6   Sueldo_regular           1013 non-null   int64  \n",
      " 7   Sueldo_ajustado          1013 non-null   int64  \n",
      " 8   Sueldo_porcentual        1013 non-null   float64\n",
      " 9   Cash                     1013 non-null   object \n",
      " 10  Valor_contrato_promedio  1013 non-null   int64  \n",
      " 11  Anios_de_contrato        1013 non-null   int64  \n",
      " 12  Valor_del_contrato       1013 non-null   int64  \n",
      " 13  Ganancias                1013 non-null   int64  \n",
      " 14  Anio_de_agente_libre     1013 non-null   int64  \n",
      " 15  Edad_al_firmar           1013 non-null   int64  \n",
      " 16  Edad                     1013 non-null   int64  \n",
      " 17  Peso                     1013 non-null   int64  \n",
      " 18  Altura                   1013 non-null   float64\n",
      " 19  Antiguedad               1013 non-null   int64  \n",
      " 20  ln_Sueldo_base           1013 non-null   float64\n",
      " 21  ln_Sueldo_ajustado       1013 non-null   float64\n",
      " 22  ln_Sueldo_regular        1013 non-null   float64\n",
      "dtypes: float64(5), int64(13), object(5)\n",
      "memory usage: 182.1+ KB\n"
     ]
    }
   ],
   "source": [
    "df_salary_copy[2].info()"
   ]
  },
  {
   "cell_type": "markdown",
   "id": "263f71c5-3ae0-4e9d-8c4d-0d00c5c16f82",
   "metadata": {},
   "source": [
    "Debido a que hay columnas con datos tipo _Nan_ o _NULL_, optaremos por imputarlos.\n",
    "\n",
    "Mientras que los valores infinitos generados por las nuevas variables se sustituirán dependediendo del caso:\n",
    "\n",
    "- 0/0: 0\n",
    "- num/0: Máximo de la columna correspondientefijarán"
   ]
  },
  {
   "cell_type": "code",
   "execution_count": 51,
   "id": "bdb4c013-8d98-4950-92c7-b1d194e24756",
   "metadata": {},
   "outputs": [],
   "source": [
    "for year in range(0,period):\n",
    "    # Salaries\n",
    "    mean_hgt = df_salary_copy[year].loc[df_salary_copy[year]['Altura'] > 4.9].Altura.mean()\n",
    "    mean_wgh = df_salary_copy[year].loc[df_salary_copy[year]['Peso'] > 0].Peso.mean()\n",
    "    df_salary_copy[year]['Altura'].fillna(value = mean_hgt, inplace = True)\n",
    "    df_salary_copy[year]['Altura'].mask(df_salary_copy[year]['Altura'] <= 4.9, mean_hgt, inplace = True)\n",
    "    df_salary_copy[year]['Peso'].fillna(value = mean_wgh, inplace = True)\n",
    "    df_salary_copy[year]['Peso'].mask(df_salary_copy[year]['Peso'] <= 0, mean_wgh, inplace = True)\n",
    "    \n",
    "    # Pitchers\n",
    "    mean_war = df_pitching_copy[year].loc[df_pitching_copy[year]['WAR'] > 0].WAR.mean()\n",
    "    mean_dom = df_pitching_copy[year].loc[df_pitching_copy[year]['Dominio'] > 0].Dominio.mean()\n",
    "    mean_con = df_pitching_copy[year].loc[df_pitching_copy[year]['Control'] > 0].Control.mean()\n",
    "    mean_com = df_pitching_copy[year].loc[df_pitching_copy[year]['Comando'] > 0].Comando.mean()\n",
    "    df_pitching_copy[year]['WAR'].fillna(value = mean_war, inplace = True)\n",
    "    df_pitching_copy[year]['WAR'].mask(df_pitching_copy[year]['WAR'] <= 0, mean_war, inplace = True)\n",
    "    df_pitching_copy[year]['Dominio'].fillna(value = mean_dom, inplace = True)\n",
    "    df_pitching_copy[year]['Dominio'].mask(df_pitching_copy[year]['Dominio'] <= 0, mean_dom, inplace = True)\n",
    "    df_pitching_copy[year]['Control'].fillna(value = mean_con, inplace = True)\n",
    "    df_pitching_copy[year]['Control'].mask(df_pitching_copy[year]['Control'] <= 0, mean_con, inplace = True)\n",
    "    df_pitching_copy[year]['Comando'].fillna(value = mean_com, inplace = True)\n",
    "    df_pitching_copy[year]['Comando'].mask(df_pitching_copy[year]['Comando'] <= 0, mean_com, inplace = True)\n",
    "    \n",
    "    # Hitters\n",
    "    mean_war = df_hitting_copy[year].loc[df_hitting_copy[year]['WAR'] > 0].WAR.mean()\n",
    "    df_hitting_copy[year]['WAR'].fillna(value = mean_war, inplace = True)\n",
    "    df_hitting_copy[year]['WAR'].mask(df_hitting_copy[year]['WAR'] <= 0, mean_war, inplace = True)"
   ]
  },
  {
   "cell_type": "code",
   "execution_count": 52,
   "id": "3a58b9c8-a0a8-4ad1-bc7b-b484eb425513",
   "metadata": {},
   "outputs": [],
   "source": [
    "for year in range(0,period):   \n",
    "    # Condiciones\n",
    "    con_dom_1 = df_pitching_copy[year]['Strike-outs'] == 0\n",
    "    con_con_1 = df_pitching_copy[year]['Walks'] == 0\n",
    "    con_com_1 = df_pitching_copy[year]['Strike-outs'] == 0\n",
    "                 \n",
    "    # Imputación caso 0/0\n",
    "    df_pitching_copy[year].loc[con_dom_1, \"Dominio\"] = 0\n",
    "    df_pitching_copy[year].loc[con_con_1, \"Control\"] = 0\n",
    "    df_pitching_copy[year].loc[con_com_1, \"Comando\"] = 0"
   ]
  },
  {
   "cell_type": "code",
   "execution_count": 53,
   "id": "0cc78c79-6cc6-48b2-95a6-d9b6cb18b59d",
   "metadata": {
    "tags": []
   },
   "outputs": [],
   "source": [
    "for year in range(0,period):   \n",
    "    # Máximos\n",
    "    max_dom = df_pitching_copy[year]['Strike-outs'].max()/9\n",
    "    max_con = df_pitching_copy[year]['Walks'].max()/9\n",
    "    max_com = df_pitching_copy[year]['Strike-outs'].max()\n",
    "    \n",
    "    # Cambianfdo infinitos a NaNs\n",
    "    df_pitching_copy[year][\"Dominio\"].replace([np.inf, -np.inf], np.nan, inplace = True)\n",
    "    df_pitching_copy[year][\"Control\"].replace([np.inf, -np.inf], np.nan, inplace = True)\n",
    "    df_pitching_copy[year][\"Comando\"].replace([np.inf, -np.inf], np.nan, inplace = True)\n",
    "    \n",
    "    # Imputación\n",
    "    df_pitching_copy[year]['Dominio'].fillna(value = max_dom, inplace = True)\n",
    "    df_pitching_copy[year]['Control'].fillna(value = max_con, inplace = True)\n",
    "    df_pitching_copy[year]['Comando'].fillna(value = max_com, inplace = True)"
   ]
  },
  {
   "cell_type": "markdown",
   "id": "4d38c8fa-7f95-4fd6-9582-5f832c6a2e5c",
   "metadata": {},
   "source": [
    "Verifiquemos que ya no haya problemas con valores infinitos"
   ]
  },
  {
   "cell_type": "code",
   "execution_count": 54,
   "id": "7bb899a3-aa14-4b53-b453-97d3e33f3af5",
   "metadata": {
    "tags": []
   },
   "outputs": [
    {
     "data": {
      "text/plain": [
       "'\\nfor year in range(0,period):\\n    print(str(2011 + year))\\n    for name in df_pitching_copy[year].columns:\\n        print(name)\\n        if type(name) != str:\\n            for element in range(0,len(df_pitching_copy[year][name])):\\n                if math.isinf(df_pitching_copy[year][name].iloc[element]) == True:\\n                    print(str(element) +  \\'  \\' + str(df_pitching_copy[year][name].iloc[element]))\\n    print(\"\")\\n'"
      ]
     },
     "execution_count": 54,
     "metadata": {},
     "output_type": "execute_result"
    }
   ],
   "source": [
    "\"\"\"\n",
    "for year in range(0,period):\n",
    "    print(str(2011 + year))\n",
    "    for name in df_pitching_copy[year].columns:\n",
    "        print(name)\n",
    "        if type(name) != str:\n",
    "            for element in range(0,len(df_pitching_copy[year][name])):\n",
    "                if math.isinf(df_pitching_copy[year][name].iloc[element]) == True:\n",
    "                    print(str(element) +  '  ' + str(df_pitching_copy[year][name].iloc[element]))\n",
    "    print(\"\")\n",
    "\"\"\""
   ]
  },
  {
   "cell_type": "markdown",
   "id": "53e179e1-86f3-4b45-b687-ed312dfde827",
   "metadata": {},
   "source": [
    "Así mismo, contemos los valores *NaN* que queden presentes"
   ]
  },
  {
   "cell_type": "code",
   "execution_count": 55,
   "id": "096a81fb-4a9e-4187-b3ac-fb36efbdc386",
   "metadata": {},
   "outputs": [
    {
     "name": "stdout",
     "output_type": "stream",
     "text": [
      "Año: 2011\n",
      "Hitters:\n",
      "Pitchers:\n",
      "Free agents:\n",
      "Salaries:\n",
      "\n",
      "Año: 2012\n",
      "Hitters:\n",
      "Pitchers:\n",
      "Free agents:\n",
      "Salaries:\n",
      "\n",
      "Año: 2013\n",
      "Hitters:\n",
      "Pitchers:\n",
      "Free agents:\n",
      "Salaries:\n",
      "\n",
      "Año: 2014\n",
      "Hitters:\n",
      "Pitchers:\n",
      "Free agents:\n",
      "Salaries:\n",
      "\n",
      "Año: 2015\n",
      "Hitters:\n",
      "Pitchers:\n",
      "Free agents:\n",
      "Salaries:\n",
      "\n",
      "Año: 2016\n",
      "Hitters:\n",
      "Pitchers:\n",
      "Free agents:\n",
      "Salaries:\n",
      "\n",
      "Año: 2017\n",
      "Hitters:\n",
      "Pitchers:\n",
      "Free agents:\n",
      "Salaries:\n",
      "\n",
      "Año: 2018\n",
      "Hitters:\n",
      "Pitchers:\n",
      "Free agents:\n",
      "Salaries:\n",
      "\n",
      "Año: 2019\n",
      "Hitters:\n",
      "Pitchers:\n",
      "Free agents:\n",
      "Salaries:\n",
      "\n",
      "Año: 2020\n",
      "Hitters:\n",
      "Pitchers:\n",
      "Free agents:\n",
      "Salaries:\n",
      "\n",
      "Año: 2021\n",
      "Hitters:\n",
      "Pitchers:\n",
      "Free agents:\n",
      "Salaries:\n",
      "\n",
      "Año: 2022\n",
      "Hitters:\n",
      "Pitchers:\n",
      "Free agents:\n",
      "Salaries:\n",
      "\n"
     ]
    }
   ],
   "source": [
    "for year in range(0,period):\n",
    "    print('Año: ' + str(2011 + year))\n",
    "    print('Hitters:')\n",
    "    df_hitting_copy[year].isna().sum()\n",
    "    print('Pitchers:')\n",
    "    df_pitching_copy[year].isna().sum()\n",
    "    print('Free agents:')\n",
    "    df_free_agents_copy[year].isna().sum()\n",
    "    print('Salaries:')\n",
    "    df_salary_copy[year].isna().sum()\n",
    "    print(\"\")"
   ]
  },
  {
   "cell_type": "markdown",
   "id": "064fcd92-06b4-4653-bc82-853c58f215af",
   "metadata": {},
   "source": [
    "Ahora, repitamos este proceso para la base de datos de los salarios."
   ]
  },
  {
   "cell_type": "code",
   "execution_count": 56,
   "id": "45308b75-3b3d-48ce-a0fa-324f4e9d2c43",
   "metadata": {},
   "outputs": [],
   "source": [
    "salary_names = ['ln_Sueldo_ajustado', 'ln_Sueldo_base', 'ln_Sueldo_regular']"
   ]
  },
  {
   "cell_type": "code",
   "execution_count": 57,
   "id": "a11f3611-e628-4fbf-810b-39067a827676",
   "metadata": {},
   "outputs": [
    {
     "name": "stdout",
     "output_type": "stream",
     "text": [
      "ln_Sueldo_ajustado\n",
      "2011\n",
      "\n",
      "2012\n",
      "\n",
      "2013\n",
      "\n",
      "2014\n",
      "\n",
      "2015\n",
      "\n",
      "2016\n",
      "\n",
      "2017\n",
      "\n",
      "2018\n",
      "72  -inf\n",
      "188  -inf\n",
      "\n",
      "2019\n",
      "\n",
      "2020\n",
      "\n",
      "2021\n",
      "6  -inf\n",
      "55  -inf\n",
      "166  -inf\n",
      "274  -inf\n",
      "\n",
      "2022\n",
      "193  -inf\n",
      "\n",
      "ln_Sueldo_base\n",
      "2011\n",
      "\n",
      "2012\n",
      "\n",
      "2013\n",
      "\n",
      "2014\n",
      "\n",
      "2015\n",
      "\n",
      "2016\n",
      "\n",
      "2017\n",
      "\n",
      "2018\n",
      "\n",
      "2019\n",
      "\n",
      "2020\n",
      "\n",
      "2021\n",
      "\n",
      "2022\n",
      "\n",
      "ln_Sueldo_regular\n",
      "2011\n",
      "\n",
      "2012\n",
      "\n",
      "2013\n",
      "\n",
      "2014\n",
      "\n",
      "2015\n",
      "\n",
      "2016\n",
      "\n",
      "2017\n",
      "\n",
      "2018\n",
      "\n",
      "2019\n",
      "\n",
      "2020\n",
      "\n",
      "2021\n",
      "\n",
      "2022\n",
      "\n"
     ]
    }
   ],
   "source": [
    "for name in salary_names:\n",
    "    print(name)\n",
    "    \n",
    "    for year in range(0,period):\n",
    "        print(str(2011 + year))\n",
    "        for element in range(0,len(df_salary_copy[year][name])):\n",
    "            if df_salary_copy[year][name].iloc[element] <= 0:\n",
    "                print(str(element) +  '  ' + str(df_salary_copy[year][name].iloc[element]))\n",
    "        print(\"\")"
   ]
  },
  {
   "cell_type": "markdown",
   "id": "39c3f0e8-e43f-4007-bd91-3073de6d001c",
   "metadata": {},
   "source": [
    "Al inspecsionar los errores nos damos cuenta que solo se desconocen los salarios ajustados y los fijaron a $0$. Usaremos el logaritmo base 10 del salario regular para sustituir dicho valor."
   ]
  },
  {
   "cell_type": "code",
   "execution_count": 58,
   "id": "1e4feec9-d377-4b35-8c04-ff5f341d1684",
   "metadata": {},
   "outputs": [],
   "source": [
    "for year in range(0,period):\n",
    "    df_salary_copy[year]['ln_Sueldo_ajustado'].mask(df_salary_copy[year]['ln_Sueldo_ajustado'] < 0,\n",
    "                                                    df_salary_copy[year]['ln_Sueldo_regular'],\n",
    "                                                    inplace = True)"
   ]
  },
  {
   "cell_type": "code",
   "execution_count": 59,
   "id": "c9f3e139-a076-4d48-862f-79cdce97f365",
   "metadata": {},
   "outputs": [
    {
     "name": "stdout",
     "output_type": "stream",
     "text": [
      "2011\n",
      "\n",
      "2012\n",
      "\n",
      "2013\n",
      "\n",
      "2014\n",
      "\n",
      "2015\n",
      "\n",
      "2016\n",
      "\n",
      "2017\n",
      "\n",
      "2018\n",
      "\n",
      "2019\n",
      "\n",
      "2020\n",
      "\n",
      "2021\n",
      "\n",
      "2022\n",
      "\n"
     ]
    }
   ],
   "source": [
    "for year in range(0,period):\n",
    "    print(str(2011 + year))\n",
    "    for element in range(0,len(df_salary_copy[year]['ln_Sueldo_ajustado'])):\n",
    "        if df_salary_copy[year]['ln_Sueldo_ajustado'].iloc[element] <= 0:\n",
    "            print(str(element) +  '  ' + str(df_salary_copy[year]['ln_Sueldo_ajustado'].iloc[element]))\n",
    "    print(\"\")"
   ]
  },
  {
   "cell_type": "code",
   "execution_count": 60,
   "id": "7ec2b054-5a13-4487-b131-0f10c4483748",
   "metadata": {},
   "outputs": [
    {
     "name": "stdout",
     "output_type": "stream",
     "text": [
      "Ajustado: 13.785784770849762nRegular: 13.888874386883515\n",
      "Ajustado: 13.81181498978195nRegular: 13.90039782504837\n",
      "Ajustado: 13.54819591748778nRegular: 13.978975725734408\n",
      "Ajustado: 13.66411021920866nRegular: 14.080738990191257\n",
      "Ajustado: 13.49415866539551nRegular: 13.99344595993313\n",
      "Ajustado: 13.478992231977141nRegular: 14.0261405412466\n",
      "Ajustado: 13.575363447521962nRegular: 14.079742661574734\n",
      "Ajustado: 13.562311948859815nRegular: 14.080756222584538\n",
      "Ajustado: 13.521364643693584nRegular: 14.066559580453122\n",
      "Ajustado: 13.029458522392627nRegular: 14.216780831796356\n",
      "Ajustado: 13.70981799580226nRegular: 14.198804602895482\n",
      "Ajustado: 13.924314685157658nRegular: 14.351734783233747\n"
     ]
    }
   ],
   "source": [
    "for year in range(0,period):\n",
    "    print(\"Ajustado: \" + str(df_salary_copy[year]['ln_Sueldo_ajustado'].mean())\n",
    "          + 'n'\n",
    "          + 'Regular: ' + str(df_salary_copy[year]['ln_Sueldo_regular'].mean()))"
   ]
  },
  {
   "cell_type": "markdown",
   "id": "783abd15-e0ea-478c-8155-b6a0e9d15a24",
   "metadata": {},
   "source": [
    "En efecto, ya no hay valores _NaN_ o _infinitos_.\n",
    "\n",
    "Con el objetivo de hacer más eficiente la creación de las variables al cuadrado, lo haremos extrayendo el índice de las columnas de interés"
   ]
  },
  {
   "cell_type": "code",
   "execution_count": 61,
   "id": "7cea236e-8631-4499-b0f4-2f57ab047206",
   "metadata": {},
   "outputs": [
    {
     "data": {
      "text/plain": [
       "Index(['Jugador', 'Juegos', 'Porcentaje_juegos', 'Juegos_iniciados',\n",
       "       'Porcentaje_juegos_iniciados', 'At-bats', 'Bateos', 'Dobles', 'Triples',\n",
       "       'Home-runs', 'Runs-batted-in', 'Bateos_promedio', 'Porcentaje_on-base',\n",
       "       'Porcentaje_slugging', 'Porcentaje_On-base-plus-slugging', 'WAR',\n",
       "       'TVS'],\n",
       "      dtype='object')"
      ]
     },
     "execution_count": 61,
     "metadata": {},
     "output_type": "execute_result"
    }
   ],
   "source": [
    "df_hitting_copy[0].columns"
   ]
  },
  {
   "cell_type": "code",
   "execution_count": 62,
   "id": "0657b61c-ae68-4f99-8c7d-2d2af6e8127c",
   "metadata": {},
   "outputs": [
    {
     "data": {
      "text/plain": [
       "Index(['Jugador', 'Juegos', 'Juegos_iniciados', 'Inning_pitched', 'Bateos',\n",
       "       'Carreras', 'Carreras_ganadas', 'Walks', 'Strike-outs', 'Wins',\n",
       "       'Losses', 'Saves', 'WHIP', 'ERA', 'WAR', 'TVS', 'Dominio', 'Control',\n",
       "       'Comando'],\n",
       "      dtype='object')"
      ]
     },
     "execution_count": 62,
     "metadata": {},
     "output_type": "execute_result"
    }
   ],
   "source": [
    "df_pitching_copy[1].columns"
   ]
  },
  {
   "cell_type": "code",
   "execution_count": 63,
   "id": "8102047e-e7aa-45d3-95a6-fca9e56de2b6",
   "metadata": {},
   "outputs": [],
   "source": [
    "def get_col_indices(df, names):\n",
    "    return df.columns.get_indexer(names)"
   ]
  },
  {
   "cell_type": "code",
   "execution_count": 64,
   "id": "2c940bc0-6f1a-45ab-8a49-e14c44eb21de",
   "metadata": {},
   "outputs": [],
   "source": [
    "hitting_names = ['Juegos_iniciados', 'Porcentaje_juegos_iniciados', 'At-bats', 'Bateos',\n",
    "                  'Dobles', 'Triples', 'Home-runs', 'Runs-batted-in', 'Bateos_promedio',\n",
    "                  'Porcentaje_on-base', 'Porcentaje_slugging',\n",
    "                  'Porcentaje_On-base-plus-slugging', 'WAR']\t\n",
    "pitching_names = ['Inning_pitched', 'Bateos', 'Carreras', 'Juegos_iniciados',\n",
    "                  'Carreras_ganadas', 'Walks', 'Strike-outs', 'Wins', 'Losses',\n",
    "                  'Saves', 'WHIP', 'ERA', 'WAR', 'Dominio', 'Control',\n",
    "                  'Comando']"
   ]
  },
  {
   "cell_type": "markdown",
   "id": "09df1329-152f-4a63-8532-74fdd2b3eb42",
   "metadata": {},
   "source": [
    "Con el objetivo de simplificar el código, verifiquemos si todos los índices en cada base de datos son los mismos"
   ]
  },
  {
   "cell_type": "code",
   "execution_count": 65,
   "id": "e7b7f69b-d697-48f5-b23a-21994550ee3e",
   "metadata": {},
   "outputs": [
    {
     "name": "stdout",
     "output_type": "stream",
     "text": [
      "Hitters:\n",
      "[ 3  4  5  6  7  8  9 10 11 12 13 14 15]\n",
      "[ 3  4  5  6  7  8  9 10 11 12 13 14 15]\n",
      "[ 3  4  5  6  7  8  9 10 11 12 13 14 15]\n",
      "[ 3  4  5  6  7  8  9 10 11 12 13 14 15]\n",
      "[ 3  4  5  6  7  8  9 10 11 12 13 14 15]\n",
      "[ 3  4  5  6  7  8  9 10 11 12 13 14 15]\n",
      "[ 3  4  5  6  7  8  9 10 11 12 13 14 15]\n",
      "[ 3  4  5  6  7  8  9 10 11 12 13 14 15]\n",
      "[ 3  4  5  6  7  8  9 10 11 12 13 14 15]\n",
      "[ 3  4  5  6  7  8  9 10 11 12 13 14 15]\n",
      "[ 3  4  5  6  7  8  9 10 11 12 13 14 15]\n",
      "[ 3  4  5  6  7  8  9 10 11 12 13 14 15]\n",
      "Pitchers:\n",
      "[ 3  4  5  2  6  7  8  9 10 11 12 13 14 16 17 18]\n",
      "[ 3  4  5  2  6  7  8  9 10 11 12 13 14 16 17 18]\n",
      "[ 3  4  5  2  6  7  8  9 10 11 12 13 14 16 17 18]\n",
      "[ 3  4  5  2  6  7  8  9 10 11 12 13 14 16 17 18]\n",
      "[ 3  4  5  2  6  7  8  9 10 11 12 13 14 16 17 18]\n",
      "[ 3  4  5  2  6  7  8  9 10 11 12 13 14 16 17 18]\n",
      "[ 3  4  5  2  6  7  8  9 10 11 12 13 14 16 17 18]\n",
      "[ 3  4  5  2  6  7  8  9 10 11 12 13 14 16 17 18]\n",
      "[ 3  4  5  2  6  7  8  9 10 11 12 13 14 16 17 18]\n",
      "[ 3  4  5  2  6  7  8  9 10 11 12 13 14 16 17 18]\n",
      "[ 3  4  5  2  6  7  8  9 10 11 12 13 14 16 17 18]\n",
      "[ 3  4  5  2  6  7  8  9 10 11 12 13 14 16 17 18]\n"
     ]
    }
   ],
   "source": [
    "print('Hitters:')\n",
    "for year in range(0,period):\n",
    "    print(get_col_indices(df_hitting_copy[year], hitting_names))\n",
    "    \n",
    "print('Pitchers:')\n",
    "for year in range(0,period):\n",
    "    print(get_col_indices(df_pitching_copy[year], pitching_names))"
   ]
  },
  {
   "cell_type": "code",
   "execution_count": 66,
   "id": "a5a7923b-c40b-417b-944e-f608e25cd565",
   "metadata": {},
   "outputs": [],
   "source": [
    "hitting_indexes = list(get_col_indices(df_hitting_copy[0], hitting_names))\n",
    "pitching_indexes = list(get_col_indices(df_pitching_copy[0], pitching_names))"
   ]
  },
  {
   "cell_type": "code",
   "execution_count": 67,
   "id": "79bc129f-4c7a-4b54-a3e3-b2e1217b4e73",
   "metadata": {},
   "outputs": [],
   "source": [
    "for year in range(0,period):\n",
    "    # Hitters:\n",
    "    for hitter_name in hitting_indexes:\n",
    "        df_hitting_copy[year][df_hitting_copy[year].columns[hitter_name] + '_2'] = np.power(df_hitting_copy[year][df_hitting_copy[year].columns[hitter_name]], 2)\n",
    "    # Pitchers:\n",
    "    for pitcher_name in pitching_indexes:\n",
    "        df_pitching_copy[year][df_pitching_copy[year].columns[pitcher_name] + '_2'] = np.power(df_pitching_copy[year][df_pitching_copy[year].columns[pitcher_name]], 2)"
   ]
  },
  {
   "cell_type": "markdown",
   "id": "c2c9bde8-ecd1-46cf-acab-fe760a2a4113",
   "metadata": {},
   "source": [
    "Apreciemos el resultado final"
   ]
  },
  {
   "cell_type": "code",
   "execution_count": 68,
   "id": "2eab25d4-e52a-4338-b1f3-9885bd854742",
   "metadata": {},
   "outputs": [
    {
     "name": "stdout",
     "output_type": "stream",
     "text": [
      "<class 'pandas.core.frame.DataFrame'>\n",
      "RangeIndex: 734 entries, 0 to 733\n",
      "Data columns (total 30 columns):\n",
      " #   Column                              Non-Null Count  Dtype  \n",
      "---  ------                              --------------  -----  \n",
      " 0   Jugador                             734 non-null    object \n",
      " 1   Juegos                              734 non-null    int64  \n",
      " 2   Porcentaje_juegos                   734 non-null    float64\n",
      " 3   Juegos_iniciados                    734 non-null    int64  \n",
      " 4   Porcentaje_juegos_iniciados         734 non-null    float64\n",
      " 5   At-bats                             734 non-null    int64  \n",
      " 6   Bateos                              734 non-null    int64  \n",
      " 7   Dobles                              734 non-null    int64  \n",
      " 8   Triples                             734 non-null    int64  \n",
      " 9   Home-runs                           734 non-null    int64  \n",
      " 10  Runs-batted-in                      734 non-null    int64  \n",
      " 11  Bateos_promedio                     734 non-null    float64\n",
      " 12  Porcentaje_on-base                  734 non-null    float64\n",
      " 13  Porcentaje_slugging                 734 non-null    float64\n",
      " 14  Porcentaje_On-base-plus-slugging    734 non-null    float64\n",
      " 15  WAR                                 734 non-null    float64\n",
      " 16  TVS                                 734 non-null    float64\n",
      " 17  Juegos_iniciados_2                  734 non-null    int64  \n",
      " 18  Porcentaje_juegos_iniciados_2       734 non-null    float64\n",
      " 19  At-bats_2                           734 non-null    int64  \n",
      " 20  Bateos_2                            734 non-null    int64  \n",
      " 21  Dobles_2                            734 non-null    int64  \n",
      " 22  Triples_2                           734 non-null    int64  \n",
      " 23  Home-runs_2                         734 non-null    int64  \n",
      " 24  Runs-batted-in_2                    734 non-null    int64  \n",
      " 25  Bateos_promedio_2                   734 non-null    float64\n",
      " 26  Porcentaje_on-base_2                734 non-null    float64\n",
      " 27  Porcentaje_slugging_2               734 non-null    float64\n",
      " 28  Porcentaje_On-base-plus-slugging_2  734 non-null    float64\n",
      " 29  WAR_2                               734 non-null    float64\n",
      "dtypes: float64(14), int64(15), object(1)\n",
      "memory usage: 172.2+ KB\n"
     ]
    }
   ],
   "source": [
    "df_hitting_copy[2].info()"
   ]
  },
  {
   "cell_type": "code",
   "execution_count": 69,
   "id": "8da2756f-b881-4c66-a150-6844259de95d",
   "metadata": {},
   "outputs": [
    {
     "name": "stdout",
     "output_type": "stream",
     "text": [
      "<class 'pandas.core.frame.DataFrame'>\n",
      "RangeIndex: 485 entries, 0 to 484\n",
      "Data columns (total 35 columns):\n",
      " #   Column              Non-Null Count  Dtype  \n",
      "---  ------              --------------  -----  \n",
      " 0   Jugador             485 non-null    object \n",
      " 1   Juegos              485 non-null    int64  \n",
      " 2   Juegos_iniciados    485 non-null    int64  \n",
      " 3   Inning_pitched      485 non-null    float64\n",
      " 4   Bateos              485 non-null    int64  \n",
      " 5   Carreras            485 non-null    int64  \n",
      " 6   Carreras_ganadas    485 non-null    int64  \n",
      " 7   Walks               485 non-null    int64  \n",
      " 8   Strike-outs         485 non-null    int64  \n",
      " 9   Wins                485 non-null    int64  \n",
      " 10  Losses              485 non-null    int64  \n",
      " 11  Saves               485 non-null    int64  \n",
      " 12  WHIP                485 non-null    float64\n",
      " 13  ERA                 485 non-null    float64\n",
      " 14  WAR                 485 non-null    float64\n",
      " 15  TVS                 485 non-null    float64\n",
      " 16  Dominio             485 non-null    float64\n",
      " 17  Control             485 non-null    float64\n",
      " 18  Comando             485 non-null    float64\n",
      " 19  Inning_pitched_2    485 non-null    float64\n",
      " 20  Bateos_2            485 non-null    int64  \n",
      " 21  Carreras_2          485 non-null    int64  \n",
      " 22  Juegos_iniciados_2  485 non-null    int64  \n",
      " 23  Carreras_ganadas_2  485 non-null    int64  \n",
      " 24  Walks_2             485 non-null    int64  \n",
      " 25  Strike-outs_2       485 non-null    int64  \n",
      " 26  Wins_2              485 non-null    int64  \n",
      " 27  Losses_2            485 non-null    int64  \n",
      " 28  Saves_2             485 non-null    int64  \n",
      " 29  WHIP_2              485 non-null    float64\n",
      " 30  ERA_2               485 non-null    float64\n",
      " 31  WAR_2               485 non-null    float64\n",
      " 32  Dominio_2           485 non-null    float64\n",
      " 33  Control_2           485 non-null    float64\n",
      " 34  Comando_2           485 non-null    float64\n",
      "dtypes: float64(15), int64(19), object(1)\n",
      "memory usage: 132.7+ KB\n"
     ]
    }
   ],
   "source": [
    "df_pitching_copy[2].info()"
   ]
  },
  {
   "cell_type": "markdown",
   "id": "079302b1-145a-4850-8715-86a1dfba3390",
   "metadata": {},
   "source": [
    "## Unión de las bases de datos\n",
    "### Datos agregados por equipo\n",
    "\n",
    "Solo resta añadir los datos relevantes al equipo al que pertenece cada jugador considerando la base de datos de la cantidad de equipos por estado"
   ]
  },
  {
   "cell_type": "code",
   "execution_count": 70,
   "id": "1b812845-2e79-48df-88ed-298f3212c7bd",
   "metadata": {},
   "outputs": [
    {
     "name": "stdout",
     "output_type": "stream",
     "text": [
      "<class 'pandas.core.frame.DataFrame'>\n",
      "RangeIndex: 28 entries, 0 to 27\n",
      "Data columns (total 10 columns):\n",
      " #   Column                   Non-Null Count  Dtype  \n",
      "---  ------                   --------------  -----  \n",
      " 0   Equipo                   28 non-null     object \n",
      " 1   Cantidad_agentes_libres  28 non-null     int64  \n",
      " 2   Valor_contrato_total     28 non-null     int64  \n",
      " 3   Acronimo                 28 non-null     object \n",
      " 4   Victorias                28 non-null     int64  \n",
      " 5   Juegos totales           28 non-null     int64  \n",
      " 6   Playoffs                 28 non-null     int64  \n",
      " 7   Pennants won             28 non-null     int64  \n",
      " 8   WS ganadas               28 non-null     int64  \n",
      " 9   Promedio_victorias       28 non-null     float64\n",
      "dtypes: float64(1), int64(7), object(2)\n",
      "memory usage: 2.3+ KB\n"
     ]
    }
   ],
   "source": [
    "df_teams_copy[7].info()"
   ]
  },
  {
   "cell_type": "code",
   "execution_count": 71,
   "id": "9a38d559-c5af-4725-b21d-74cb95347d16",
   "metadata": {},
   "outputs": [
    {
     "name": "stdout",
     "output_type": "stream",
     "text": [
      "<class 'pandas.core.frame.DataFrame'>\n",
      "Int64Index: 30 entries, 0 to 29\n",
      "Data columns (total 4 columns):\n",
      " #   Column               Non-Null Count  Dtype \n",
      "---  ------               --------------  ----- \n",
      " 0   Estado               30 non-null     object\n",
      " 1   Cantidad de equipos  30 non-null     int64 \n",
      " 2   Equipo               30 non-null     object\n",
      " 3   Acronimo             30 non-null     object\n",
      "dtypes: int64(1), object(3)\n",
      "memory usage: 1.2+ KB\n"
     ]
    }
   ],
   "source": [
    "acronym_state.info()"
   ]
  },
  {
   "cell_type": "code",
   "execution_count": 72,
   "id": "97c655e3-602d-44a5-8fe9-cb9008df5f08",
   "metadata": {},
   "outputs": [],
   "source": [
    "for year in range(0,period):\n",
    "    df_teams_copy[year] = pd.merge(df_teams_copy[year], acronym_state, on = ['Equipo','Acronimo'])"
   ]
  },
  {
   "cell_type": "code",
   "execution_count": 73,
   "id": "8877b4d9-1460-4647-9af8-83b5f95f88f5",
   "metadata": {},
   "outputs": [
    {
     "name": "stdout",
     "output_type": "stream",
     "text": [
      "<class 'pandas.core.frame.DataFrame'>\n",
      "Int64Index: 28 entries, 0 to 27\n",
      "Data columns (total 12 columns):\n",
      " #   Column                   Non-Null Count  Dtype  \n",
      "---  ------                   --------------  -----  \n",
      " 0   Equipo                   28 non-null     object \n",
      " 1   Cantidad_agentes_libres  28 non-null     int64  \n",
      " 2   Valor_contrato_total     28 non-null     int64  \n",
      " 3   Acronimo                 28 non-null     object \n",
      " 4   Victorias                28 non-null     int64  \n",
      " 5   Juegos totales           28 non-null     int64  \n",
      " 6   Playoffs                 28 non-null     int64  \n",
      " 7   Pennants won             28 non-null     int64  \n",
      " 8   WS ganadas               28 non-null     int64  \n",
      " 9   Promedio_victorias       28 non-null     float64\n",
      " 10  Estado                   28 non-null     object \n",
      " 11  Cantidad de equipos      28 non-null     int64  \n",
      "dtypes: float64(1), int64(8), object(3)\n",
      "memory usage: 2.8+ KB\n"
     ]
    }
   ],
   "source": [
    "df_teams_copy[7].info()"
   ]
  },
  {
   "cell_type": "code",
   "execution_count": 74,
   "id": "50adb678-9250-4232-ac75-20452301cebd",
   "metadata": {},
   "outputs": [
    {
     "name": "stdout",
     "output_type": "stream",
     "text": [
      "<class 'pandas.core.frame.DataFrame'>\n",
      "RangeIndex: 1036 entries, 0 to 1035\n",
      "Data columns (total 23 columns):\n",
      " #   Column                   Non-Null Count  Dtype  \n",
      "---  ------                   --------------  -----  \n",
      " 0   Jugador                  1036 non-null   object \n",
      " 1   Anio                     1036 non-null   object \n",
      " 2   Posicion                 1036 non-null   object \n",
      " 3   Acronimo                 1036 non-null   object \n",
      " 4   Sueldo_base              1036 non-null   int64  \n",
      " 5   Bono_por_firma           1036 non-null   int64  \n",
      " 6   Sueldo_regular           1036 non-null   int64  \n",
      " 7   Sueldo_ajustado          1036 non-null   int64  \n",
      " 8   Sueldo_porcentual        1036 non-null   float64\n",
      " 9   Cash                     1036 non-null   object \n",
      " 10  Valor_contrato_promedio  1036 non-null   int64  \n",
      " 11  Anios_de_contrato        1036 non-null   int64  \n",
      " 12  Valor_del_contrato       1036 non-null   int64  \n",
      " 13  Ganancias                1036 non-null   int64  \n",
      " 14  Anio_de_agente_libre     1036 non-null   int64  \n",
      " 15  Edad_al_firmar           1036 non-null   int64  \n",
      " 16  Edad                     1036 non-null   int64  \n",
      " 17  Peso                     1036 non-null   float64\n",
      " 18  Altura                   1036 non-null   float64\n",
      " 19  Antiguedad               1036 non-null   int64  \n",
      " 20  ln_Sueldo_base           1036 non-null   float64\n",
      " 21  ln_Sueldo_ajustado       1036 non-null   float64\n",
      " 22  ln_Sueldo_regular        1036 non-null   float64\n",
      "dtypes: float64(6), int64(12), object(5)\n",
      "memory usage: 186.3+ KB\n"
     ]
    }
   ],
   "source": [
    "df_salary_copy[7].info()"
   ]
  },
  {
   "cell_type": "markdown",
   "id": "066e1543-bd72-4158-ba01-d251129d40a2",
   "metadata": {},
   "source": [
    "Ahora, unamos las bases de datos sobre los equipos a las bases de datos de los salarios"
   ]
  },
  {
   "cell_type": "code",
   "execution_count": 75,
   "id": "941ae6dd-caef-49eb-bc0c-04ed6027807a",
   "metadata": {},
   "outputs": [],
   "source": [
    "for year in range(0,period):\n",
    "    df_salary_copy[year] = pd.merge(df_teams_copy[year], df_salary_copy[year], on = 'Acronimo')"
   ]
  },
  {
   "cell_type": "code",
   "execution_count": 76,
   "id": "8f94e162-bc62-486c-a05a-5dac73938b2f",
   "metadata": {},
   "outputs": [
    {
     "name": "stdout",
     "output_type": "stream",
     "text": [
      "<class 'pandas.core.frame.DataFrame'>\n",
      "Int64Index: 40 entries, 0 to 39\n",
      "Data columns (total 34 columns):\n",
      " #   Column                   Non-Null Count  Dtype  \n",
      "---  ------                   --------------  -----  \n",
      " 0   Equipo                   40 non-null     object \n",
      " 1   Cantidad_agentes_libres  40 non-null     int64  \n",
      " 2   Valor_contrato_total     40 non-null     int64  \n",
      " 3   Acronimo                 40 non-null     object \n",
      " 4   Victorias                40 non-null     int64  \n",
      " 5   Juegos totales           40 non-null     int64  \n",
      " 6   Playoffs                 40 non-null     int64  \n",
      " 7   Pennants won             40 non-null     int64  \n",
      " 8   WS ganadas               40 non-null     int64  \n",
      " 9   Promedio_victorias       40 non-null     float64\n",
      " 10  Estado                   40 non-null     object \n",
      " 11  Cantidad de equipos      40 non-null     int64  \n",
      " 12  Jugador                  40 non-null     object \n",
      " 13  Anio                     40 non-null     object \n",
      " 14  Posicion                 40 non-null     object \n",
      " 15  Sueldo_base              40 non-null     int64  \n",
      " 16  Bono_por_firma           40 non-null     int64  \n",
      " 17  Sueldo_regular           40 non-null     int64  \n",
      " 18  Sueldo_ajustado          40 non-null     int64  \n",
      " 19  Sueldo_porcentual        40 non-null     float64\n",
      " 20  Cash                     40 non-null     object \n",
      " 21  Valor_contrato_promedio  40 non-null     int64  \n",
      " 22  Anios_de_contrato        40 non-null     int64  \n",
      " 23  Valor_del_contrato       40 non-null     int64  \n",
      " 24  Ganancias                40 non-null     int64  \n",
      " 25  Anio_de_agente_libre     40 non-null     int64  \n",
      " 26  Edad_al_firmar           40 non-null     int64  \n",
      " 27  Edad                     40 non-null     int64  \n",
      " 28  Peso                     40 non-null     float64\n",
      " 29  Altura                   40 non-null     float64\n",
      " 30  Antiguedad               40 non-null     int64  \n",
      " 31  ln_Sueldo_base           40 non-null     float64\n",
      " 32  ln_Sueldo_ajustado       40 non-null     float64\n",
      " 33  ln_Sueldo_regular        40 non-null     float64\n",
      "dtypes: float64(7), int64(20), object(7)\n",
      "memory usage: 10.9+ KB\n"
     ]
    }
   ],
   "source": [
    "df_salary_copy[0].info()"
   ]
  },
  {
   "cell_type": "markdown",
   "id": "feca497a-c67b-4377-a3fe-96c76206e210",
   "metadata": {},
   "source": [
    "Debido a que la mayoría de los jugadores juega tanto en la ofensiva como la defensiva es que tenemos que borrar los duplicados de la columna de la posición."
   ]
  },
  {
   "cell_type": "code",
   "execution_count": 77,
   "id": "a8a6018a-494b-475b-9ed5-fa0bcead924a",
   "metadata": {},
   "outputs": [],
   "source": [
    "for year in range(0,period):\n",
    "    df_hitting_copy[year] = pd.merge(df_hitting_copy[year], df_salary_copy[year], on = 'Jugador')\n",
    "    df_pitching_copy[year] = pd.merge(df_pitching_copy[year], df_salary_copy[year], on = 'Jugador')"
   ]
  },
  {
   "cell_type": "code",
   "execution_count": 78,
   "id": "b6eafa64-45a9-4973-9ad1-6800fa936423",
   "metadata": {},
   "outputs": [],
   "source": [
    "for year in range(0,period):\n",
    "    df_pitching_copy[year]['Porcentaje_juegos'] = df_pitching_copy[year]['Juegos']/df_pitching_copy[year]['Juegos totales']"
   ]
  },
  {
   "cell_type": "code",
   "execution_count": 79,
   "id": "04ca8f87-b95d-4ca9-98c4-34d8f39503a3",
   "metadata": {},
   "outputs": [
    {
     "name": "stdout",
     "output_type": "stream",
     "text": [
      "<class 'pandas.core.frame.DataFrame'>\n",
      "Int64Index: 667 entries, 0 to 666\n",
      "Data columns (total 63 columns):\n",
      " #   Column                              Non-Null Count  Dtype  \n",
      "---  ------                              --------------  -----  \n",
      " 0   Jugador                             667 non-null    object \n",
      " 1   Juegos                              667 non-null    int64  \n",
      " 2   Porcentaje_juegos                   667 non-null    float64\n",
      " 3   Juegos_iniciados                    667 non-null    int64  \n",
      " 4   Porcentaje_juegos_iniciados         667 non-null    float64\n",
      " 5   At-bats                             667 non-null    int64  \n",
      " 6   Bateos                              667 non-null    int64  \n",
      " 7   Dobles                              667 non-null    int64  \n",
      " 8   Triples                             667 non-null    int64  \n",
      " 9   Home-runs                           667 non-null    int64  \n",
      " 10  Runs-batted-in                      667 non-null    int64  \n",
      " 11  Bateos_promedio                     667 non-null    float64\n",
      " 12  Porcentaje_on-base                  667 non-null    float64\n",
      " 13  Porcentaje_slugging                 667 non-null    float64\n",
      " 14  Porcentaje_On-base-plus-slugging    667 non-null    float64\n",
      " 15  WAR                                 667 non-null    float64\n",
      " 16  TVS                                 667 non-null    float64\n",
      " 17  Juegos_iniciados_2                  667 non-null    int64  \n",
      " 18  Porcentaje_juegos_iniciados_2       667 non-null    float64\n",
      " 19  At-bats_2                           667 non-null    int64  \n",
      " 20  Bateos_2                            667 non-null    int64  \n",
      " 21  Dobles_2                            667 non-null    int64  \n",
      " 22  Triples_2                           667 non-null    int64  \n",
      " 23  Home-runs_2                         667 non-null    int64  \n",
      " 24  Runs-batted-in_2                    667 non-null    int64  \n",
      " 25  Bateos_promedio_2                   667 non-null    float64\n",
      " 26  Porcentaje_on-base_2                667 non-null    float64\n",
      " 27  Porcentaje_slugging_2               667 non-null    float64\n",
      " 28  Porcentaje_On-base-plus-slugging_2  667 non-null    float64\n",
      " 29  WAR_2                               667 non-null    float64\n",
      " 30  Equipo                              667 non-null    object \n",
      " 31  Cantidad_agentes_libres             667 non-null    int64  \n",
      " 32  Valor_contrato_total                667 non-null    int64  \n",
      " 33  Acronimo                            667 non-null    object \n",
      " 34  Victorias                           667 non-null    int64  \n",
      " 35  Juegos totales                      667 non-null    int64  \n",
      " 36  Playoffs                            667 non-null    int64  \n",
      " 37  Pennants won                        667 non-null    int64  \n",
      " 38  WS ganadas                          667 non-null    int64  \n",
      " 39  Promedio_victorias                  667 non-null    float64\n",
      " 40  Estado                              667 non-null    object \n",
      " 41  Cantidad de equipos                 667 non-null    int64  \n",
      " 42  Anio                                667 non-null    object \n",
      " 43  Posicion                            667 non-null    object \n",
      " 44  Sueldo_base                         667 non-null    int64  \n",
      " 45  Bono_por_firma                      667 non-null    int64  \n",
      " 46  Sueldo_regular                      667 non-null    int64  \n",
      " 47  Sueldo_ajustado                     667 non-null    int64  \n",
      " 48  Sueldo_porcentual                   667 non-null    float64\n",
      " 49  Cash                                667 non-null    object \n",
      " 50  Valor_contrato_promedio             667 non-null    int64  \n",
      " 51  Anios_de_contrato                   667 non-null    int64  \n",
      " 52  Valor_del_contrato                  667 non-null    int64  \n",
      " 53  Ganancias                           667 non-null    int64  \n",
      " 54  Anio_de_agente_libre                667 non-null    int64  \n",
      " 55  Edad_al_firmar                      667 non-null    int64  \n",
      " 56  Edad                                667 non-null    int64  \n",
      " 57  Peso                                667 non-null    float64\n",
      " 58  Altura                              667 non-null    float64\n",
      " 59  Antiguedad                          667 non-null    int64  \n",
      " 60  ln_Sueldo_base                      667 non-null    float64\n",
      " 61  ln_Sueldo_ajustado                  667 non-null    float64\n",
      " 62  ln_Sueldo_regular                   667 non-null    float64\n",
      "dtypes: float64(21), int64(35), object(7)\n",
      "memory usage: 333.5+ KB\n"
     ]
    }
   ],
   "source": [
    "df_hitting_copy[3].info()"
   ]
  },
  {
   "cell_type": "code",
   "execution_count": 80,
   "id": "2cfaba38-d0fb-4ac8-87ae-677db8edbef8",
   "metadata": {},
   "outputs": [
    {
     "name": "stdout",
     "output_type": "stream",
     "text": [
      "<class 'pandas.core.frame.DataFrame'>\n",
      "Int64Index: 497 entries, 0 to 496\n",
      "Data columns (total 69 columns):\n",
      " #   Column                   Non-Null Count  Dtype  \n",
      "---  ------                   --------------  -----  \n",
      " 0   Jugador                  497 non-null    object \n",
      " 1   Juegos                   497 non-null    int64  \n",
      " 2   Juegos_iniciados         497 non-null    int64  \n",
      " 3   Inning_pitched           497 non-null    float64\n",
      " 4   Bateos                   497 non-null    int64  \n",
      " 5   Carreras                 497 non-null    int64  \n",
      " 6   Carreras_ganadas         497 non-null    int64  \n",
      " 7   Walks                    497 non-null    int64  \n",
      " 8   Strike-outs              497 non-null    int64  \n",
      " 9   Wins                     497 non-null    int64  \n",
      " 10  Losses                   497 non-null    int64  \n",
      " 11  Saves                    497 non-null    int64  \n",
      " 12  WHIP                     497 non-null    float64\n",
      " 13  ERA                      497 non-null    float64\n",
      " 14  WAR                      497 non-null    float64\n",
      " 15  TVS                      497 non-null    float64\n",
      " 16  Dominio                  497 non-null    float64\n",
      " 17  Control                  497 non-null    float64\n",
      " 18  Comando                  497 non-null    float64\n",
      " 19  Inning_pitched_2         497 non-null    float64\n",
      " 20  Bateos_2                 497 non-null    int64  \n",
      " 21  Carreras_2               497 non-null    int64  \n",
      " 22  Juegos_iniciados_2       497 non-null    int64  \n",
      " 23  Carreras_ganadas_2       497 non-null    int64  \n",
      " 24  Walks_2                  497 non-null    int64  \n",
      " 25  Strike-outs_2            497 non-null    int64  \n",
      " 26  Wins_2                   497 non-null    int64  \n",
      " 27  Losses_2                 497 non-null    int64  \n",
      " 28  Saves_2                  497 non-null    int64  \n",
      " 29  WHIP_2                   497 non-null    float64\n",
      " 30  ERA_2                    497 non-null    float64\n",
      " 31  WAR_2                    497 non-null    float64\n",
      " 32  Dominio_2                497 non-null    float64\n",
      " 33  Control_2                497 non-null    float64\n",
      " 34  Comando_2                497 non-null    float64\n",
      " 35  Equipo                   497 non-null    object \n",
      " 36  Cantidad_agentes_libres  497 non-null    int64  \n",
      " 37  Valor_contrato_total     497 non-null    int64  \n",
      " 38  Acronimo                 497 non-null    object \n",
      " 39  Victorias                497 non-null    int64  \n",
      " 40  Juegos totales           497 non-null    int64  \n",
      " 41  Playoffs                 497 non-null    int64  \n",
      " 42  Pennants won             497 non-null    int64  \n",
      " 43  WS ganadas               497 non-null    int64  \n",
      " 44  Promedio_victorias       497 non-null    float64\n",
      " 45  Estado                   497 non-null    object \n",
      " 46  Cantidad de equipos      497 non-null    int64  \n",
      " 47  Anio                     497 non-null    object \n",
      " 48  Posicion                 497 non-null    object \n",
      " 49  Sueldo_base              497 non-null    int64  \n",
      " 50  Bono_por_firma           497 non-null    int64  \n",
      " 51  Sueldo_regular           497 non-null    int64  \n",
      " 52  Sueldo_ajustado          497 non-null    int64  \n",
      " 53  Sueldo_porcentual        497 non-null    float64\n",
      " 54  Cash                     497 non-null    object \n",
      " 55  Valor_contrato_promedio  497 non-null    int64  \n",
      " 56  Anios_de_contrato        497 non-null    int64  \n",
      " 57  Valor_del_contrato       497 non-null    int64  \n",
      " 58  Ganancias                497 non-null    int64  \n",
      " 59  Anio_de_agente_libre     497 non-null    int64  \n",
      " 60  Edad_al_firmar           497 non-null    int64  \n",
      " 61  Edad                     497 non-null    int64  \n",
      " 62  Peso                     497 non-null    float64\n",
      " 63  Altura                   497 non-null    float64\n",
      " 64  Antiguedad               497 non-null    int64  \n",
      " 65  ln_Sueldo_base           497 non-null    float64\n",
      " 66  ln_Sueldo_ajustado       497 non-null    float64\n",
      " 67  ln_Sueldo_regular        497 non-null    float64\n",
      " 68  Porcentaje_juegos        497 non-null    float64\n",
      "dtypes: float64(23), int64(39), object(7)\n",
      "memory usage: 271.8+ KB\n"
     ]
    }
   ],
   "source": [
    "df_pitching_copy[3].info()"
   ]
  },
  {
   "cell_type": "markdown",
   "id": "232a3064-8d18-481b-b554-aff041acb9ed",
   "metadata": {},
   "source": [
    "Para facilitar la observación de las trnasformaciones de manera más eficiente, ordenemos alfabéticamente la base de datos de acuerdo al nombre de las columnas."
   ]
  },
  {
   "cell_type": "code",
   "execution_count": 81,
   "id": "9011a408-8684-4022-8002-e99f9064a871",
   "metadata": {},
   "outputs": [],
   "source": [
    "for year in range(0,period):\n",
    "    # Ordenando alfabéticamente\n",
    "    df_salary_copy[year].sort_index(axis = 1, inplace = True)\n",
    "    df_hitting_copy[year].sort_index(axis = 1, inplace = True)\n",
    "    df_pitching_copy[year].sort_index(axis = 1, inplace = True)\n",
    "    df_free_agents_copy[year].sort_index(axis = 1, inplace = True)\n",
    "    \n",
    "    # Reiniciando los índices\n",
    "    df_salary_copy[year].reset_index(drop = True, inplace = True)\n",
    "    df_hitting_copy[year].reset_index(drop = True, inplace = True)\n",
    "    df_pitching_copy[year].reset_index(drop = True, inplace = True)\n",
    "    df_free_agents_copy[year].reset_index(drop = True, inplace = True)"
   ]
  },
  {
   "cell_type": "markdown",
   "id": "536912b5-3bfa-401f-933c-2d5e38575ae8",
   "metadata": {},
   "source": [
    "## Segmentación por Agentes libres\n",
    "\n",
    "Separaremos los pitchers y hitters en dos grupos:\n",
    "\n",
    "- Agentes libres.\n",
    "- No agentes libres."
   ]
  },
  {
   "cell_type": "code",
   "execution_count": 82,
   "id": "1c4e6e17-82fb-410b-af7e-84cf7943fb02",
   "metadata": {},
   "outputs": [],
   "source": [
    "for year in range(0,period):\n",
    "    # Filtrando los agentes libres\n",
    "    df_hitters_free_agents[year] = pd.merge(df_free_agents_copy[year],\n",
    "                                            df_hitting_copy[year], on = 'Jugador')\n",
    "    df_pitchers_free_agents[year] = pd.merge(df_free_agents_copy[year],\n",
    "                                             df_pitching_copy[year], on = 'Jugador')\n",
    "    # FIltrando los que no son agentes libres\n",
    "    df_hitters_no_free_agents[year] = df_hitting_copy[year][~df_hitting_copy[year].Jugador.isin(df_hitters_free_agents[year].Jugador)]\n",
    "    df_pitchers_no_free_agents[year] = df_pitching_copy[year][~df_pitching_copy[year].Jugador.isin(df_pitchers_free_agents[year].Jugador)]\n",
    "    \n",
    "    # Reiniciando el índice\n",
    "    df_hitters_free_agents[year] = df_hitters_free_agents[year].reindex(sorted(df_hitters_free_agents[year].columns), axis=1)\n",
    "    df_pitchers_free_agents[year] = df_pitchers_free_agents[year].reindex(sorted(df_pitchers_free_agents[year].columns), axis=1)\n",
    "    df_hitters_no_free_agents[year] = df_hitters_no_free_agents[year].reindex(sorted(df_hitters_no_free_agents[year].columns), axis=1)\n",
    "    df_pitchers_no_free_agents[year] = df_pitchers_no_free_agents[year].reindex(sorted(df_pitchers_no_free_agents[year].columns), axis=1)    "
   ]
  },
  {
   "cell_type": "markdown",
   "id": "3869fea0-5efc-437c-9e2b-9a6cd79ab5b2",
   "metadata": {},
   "source": [
    "Veamos los contenidos de las nuevas bases de datos"
   ]
  },
  {
   "cell_type": "code",
   "execution_count": 83,
   "id": "e0e511b7-75ae-4c60-92d8-9860390520af",
   "metadata": {},
   "outputs": [
    {
     "name": "stdout",
     "output_type": "stream",
     "text": [
      "FA - Hitters:\n",
      "<class 'pandas.core.frame.DataFrame'>\n",
      "Int64Index: 58 entries, 0 to 57\n",
      "Data columns (total 68 columns):\n",
      " #   Column                              Non-Null Count  Dtype  \n",
      "---  ------                              --------------  -----  \n",
      " 0   Acronimo                            58 non-null     object \n",
      " 1   Altura                              58 non-null     float64\n",
      " 2   Anio                                58 non-null     object \n",
      " 3   Anio_de_agente_libre                58 non-null     int64  \n",
      " 4   Anios_de_contrato_x                 58 non-null     int64  \n",
      " 5   Anios_de_contrato_y                 58 non-null     int64  \n",
      " 6   Antiguedad                          58 non-null     int64  \n",
      " 7   At-bats                             58 non-null     int64  \n",
      " 8   At-bats_2                           58 non-null     int64  \n",
      " 9   Bateos                              58 non-null     int64  \n",
      " 10  Bateos_2                            58 non-null     int64  \n",
      " 11  Bateos_promedio                     58 non-null     float64\n",
      " 12  Bateos_promedio_2                   58 non-null     float64\n",
      " 13  Bono_por_firma                      58 non-null     int64  \n",
      " 14  Cantidad de equipos                 58 non-null     int64  \n",
      " 15  Cantidad_agentes_libres             58 non-null     int64  \n",
      " 16  Cash                                58 non-null     object \n",
      " 17  Dobles                              58 non-null     int64  \n",
      " 18  Dobles_2                            58 non-null     int64  \n",
      " 19  Edad                                58 non-null     int64  \n",
      " 20  Edad_al_firmar                      58 non-null     int64  \n",
      " 21  Equipo                              58 non-null     object \n",
      " 22  Equipo_anterior                     58 non-null     object \n",
      " 23  Estado                              58 non-null     object \n",
      " 24  Ganancias                           58 non-null     int64  \n",
      " 25  Home-runs                           58 non-null     int64  \n",
      " 26  Home-runs_2                         58 non-null     int64  \n",
      " 27  Juegos                              58 non-null     int64  \n",
      " 28  Juegos totales                      58 non-null     int64  \n",
      " 29  Juegos_iniciados                    58 non-null     int64  \n",
      " 30  Juegos_iniciados_2                  58 non-null     int64  \n",
      " 31  Jugador                             58 non-null     object \n",
      " 32  Pennants won                        58 non-null     int64  \n",
      " 33  Peso                                58 non-null     int64  \n",
      " 34  Playoffs                            58 non-null     int64  \n",
      " 35  Porcentaje_On-base-plus-slugging    58 non-null     float64\n",
      " 36  Porcentaje_On-base-plus-slugging_2  58 non-null     float64\n",
      " 37  Porcentaje_juegos                   58 non-null     float64\n",
      " 38  Porcentaje_juegos_iniciados         58 non-null     float64\n",
      " 39  Porcentaje_juegos_iniciados_2       58 non-null     float64\n",
      " 40  Porcentaje_on-base                  58 non-null     float64\n",
      " 41  Porcentaje_on-base_2                58 non-null     float64\n",
      " 42  Porcentaje_slugging                 58 non-null     float64\n",
      " 43  Porcentaje_slugging_2               58 non-null     float64\n",
      " 44  Posicion                            58 non-null     object \n",
      " 45  Promedio_victorias                  58 non-null     float64\n",
      " 46  Runs-batted-in                      58 non-null     int64  \n",
      " 47  Runs-batted-in_2                    58 non-null     int64  \n",
      " 48  Status_agente_libre                 58 non-null     object \n",
      " 49  Sueldo_ajustado                     58 non-null     int64  \n",
      " 50  Sueldo_base                         58 non-null     int64  \n",
      " 51  Sueldo_porcentual                   58 non-null     float64\n",
      " 52  Sueldo_regular                      58 non-null     int64  \n",
      " 53  TVS                                 58 non-null     float64\n",
      " 54  Triples                             58 non-null     int64  \n",
      " 55  Triples_2                           58 non-null     int64  \n",
      " 56  Valor_contrato                      58 non-null     int64  \n",
      " 57  Valor_contrato_promedio             58 non-null     int64  \n",
      " 58  Valor_contrato_total                58 non-null     int64  \n",
      " 59  Valor_del_contrato                  58 non-null     int64  \n",
      " 60  Valor_promedio_contrato             58 non-null     int64  \n",
      " 61  Victorias                           58 non-null     int64  \n",
      " 62  WAR                                 58 non-null     float64\n",
      " 63  WAR_2                               58 non-null     float64\n",
      " 64  WS ganadas                          58 non-null     int64  \n",
      " 65  ln_Sueldo_ajustado                  58 non-null     float64\n",
      " 66  ln_Sueldo_base                      58 non-null     float64\n",
      " 67  ln_Sueldo_regular                   58 non-null     float64\n",
      "dtypes: float64(20), int64(39), object(9)\n",
      "memory usage: 31.3+ KB\n",
      "\n",
      " FA - Pitchers:\n",
      "<class 'pandas.core.frame.DataFrame'>\n",
      "Int64Index: 83 entries, 0 to 82\n",
      "Data columns (total 74 columns):\n",
      " #   Column                   Non-Null Count  Dtype  \n",
      "---  ------                   --------------  -----  \n",
      " 0   Acronimo                 83 non-null     object \n",
      " 1   Altura                   83 non-null     float64\n",
      " 2   Anio                     83 non-null     object \n",
      " 3   Anio_de_agente_libre     83 non-null     int64  \n",
      " 4   Anios_de_contrato_x      83 non-null     int64  \n",
      " 5   Anios_de_contrato_y      83 non-null     int64  \n",
      " 6   Antiguedad               83 non-null     int64  \n",
      " 7   Bateos                   83 non-null     int64  \n",
      " 8   Bateos_2                 83 non-null     int64  \n",
      " 9   Bono_por_firma           83 non-null     int64  \n",
      " 10  Cantidad de equipos      83 non-null     int64  \n",
      " 11  Cantidad_agentes_libres  83 non-null     int64  \n",
      " 12  Carreras                 83 non-null     int64  \n",
      " 13  Carreras_2               83 non-null     int64  \n",
      " 14  Carreras_ganadas         83 non-null     int64  \n",
      " 15  Carreras_ganadas_2       83 non-null     int64  \n",
      " 16  Cash                     83 non-null     object \n",
      " 17  Comando                  83 non-null     float64\n",
      " 18  Comando_2                83 non-null     float64\n",
      " 19  Control                  83 non-null     float64\n",
      " 20  Control_2                83 non-null     float64\n",
      " 21  Dominio                  83 non-null     float64\n",
      " 22  Dominio_2                83 non-null     float64\n",
      " 23  ERA                      83 non-null     float64\n",
      " 24  ERA_2                    83 non-null     float64\n",
      " 25  Edad                     83 non-null     int64  \n",
      " 26  Edad_al_firmar           83 non-null     int64  \n",
      " 27  Equipo                   83 non-null     object \n",
      " 28  Equipo_anterior          83 non-null     object \n",
      " 29  Estado                   83 non-null     object \n",
      " 30  Ganancias                83 non-null     int64  \n",
      " 31  Inning_pitched           83 non-null     float64\n",
      " 32  Inning_pitched_2         83 non-null     float64\n",
      " 33  Juegos                   83 non-null     int64  \n",
      " 34  Juegos totales           83 non-null     int64  \n",
      " 35  Juegos_iniciados         83 non-null     int64  \n",
      " 36  Juegos_iniciados_2       83 non-null     int64  \n",
      " 37  Jugador                  83 non-null     object \n",
      " 38  Losses                   83 non-null     int64  \n",
      " 39  Losses_2                 83 non-null     int64  \n",
      " 40  Pennants won             83 non-null     int64  \n",
      " 41  Peso                     83 non-null     int64  \n",
      " 42  Playoffs                 83 non-null     int64  \n",
      " 43  Porcentaje_juegos        83 non-null     float64\n",
      " 44  Posicion                 83 non-null     object \n",
      " 45  Promedio_victorias       83 non-null     float64\n",
      " 46  Saves                    83 non-null     int64  \n",
      " 47  Saves_2                  83 non-null     int64  \n",
      " 48  Status_agente_libre      83 non-null     object \n",
      " 49  Strike-outs              83 non-null     int64  \n",
      " 50  Strike-outs_2            83 non-null     int64  \n",
      " 51  Sueldo_ajustado          83 non-null     int64  \n",
      " 52  Sueldo_base              83 non-null     int64  \n",
      " 53  Sueldo_porcentual        83 non-null     float64\n",
      " 54  Sueldo_regular           83 non-null     int64  \n",
      " 55  TVS                      83 non-null     float64\n",
      " 56  Valor_contrato           83 non-null     int64  \n",
      " 57  Valor_contrato_promedio  83 non-null     int64  \n",
      " 58  Valor_contrato_total     83 non-null     int64  \n",
      " 59  Valor_del_contrato       83 non-null     int64  \n",
      " 60  Valor_promedio_contrato  83 non-null     int64  \n",
      " 61  Victorias                83 non-null     int64  \n",
      " 62  WAR                      83 non-null     float64\n",
      " 63  WAR_2                    83 non-null     float64\n",
      " 64  WHIP                     83 non-null     float64\n",
      " 65  WHIP_2                   83 non-null     float64\n",
      " 66  WS ganadas               83 non-null     int64  \n",
      " 67  Walks                    83 non-null     int64  \n",
      " 68  Walks_2                  83 non-null     int64  \n",
      " 69  Wins                     83 non-null     int64  \n",
      " 70  Wins_2                   83 non-null     int64  \n",
      " 71  ln_Sueldo_ajustado       83 non-null     float64\n",
      " 72  ln_Sueldo_base           83 non-null     float64\n",
      " 73  ln_Sueldo_regular        83 non-null     float64\n",
      "dtypes: float64(22), int64(43), object(9)\n",
      "memory usage: 48.6+ KB\n",
      "\n",
      " No FA - Hitters:\n",
      "<class 'pandas.core.frame.DataFrame'>\n",
      "Int64Index: 279 entries, 0 to 336\n",
      "Data columns (total 63 columns):\n",
      " #   Column                              Non-Null Count  Dtype  \n",
      "---  ------                              --------------  -----  \n",
      " 0   Acronimo                            279 non-null    object \n",
      " 1   Altura                              279 non-null    float64\n",
      " 2   Anio                                279 non-null    object \n",
      " 3   Anio_de_agente_libre                279 non-null    int64  \n",
      " 4   Anios_de_contrato                   279 non-null    int64  \n",
      " 5   Antiguedad                          279 non-null    int64  \n",
      " 6   At-bats                             279 non-null    int64  \n",
      " 7   At-bats_2                           279 non-null    int64  \n",
      " 8   Bateos                              279 non-null    int64  \n",
      " 9   Bateos_2                            279 non-null    int64  \n",
      " 10  Bateos_promedio                     279 non-null    float64\n",
      " 11  Bateos_promedio_2                   279 non-null    float64\n",
      " 12  Bono_por_firma                      279 non-null    int64  \n",
      " 13  Cantidad de equipos                 279 non-null    int64  \n",
      " 14  Cantidad_agentes_libres             279 non-null    int64  \n",
      " 15  Cash                                279 non-null    object \n",
      " 16  Dobles                              279 non-null    int64  \n",
      " 17  Dobles_2                            279 non-null    int64  \n",
      " 18  Edad                                279 non-null    int64  \n",
      " 19  Edad_al_firmar                      279 non-null    int64  \n",
      " 20  Equipo                              279 non-null    object \n",
      " 21  Estado                              279 non-null    object \n",
      " 22  Ganancias                           279 non-null    int64  \n",
      " 23  Home-runs                           279 non-null    int64  \n",
      " 24  Home-runs_2                         279 non-null    int64  \n",
      " 25  Juegos                              279 non-null    int64  \n",
      " 26  Juegos totales                      279 non-null    int64  \n",
      " 27  Juegos_iniciados                    279 non-null    int64  \n",
      " 28  Juegos_iniciados_2                  279 non-null    int64  \n",
      " 29  Jugador                             279 non-null    object \n",
      " 30  Pennants won                        279 non-null    int64  \n",
      " 31  Peso                                279 non-null    int64  \n",
      " 32  Playoffs                            279 non-null    int64  \n",
      " 33  Porcentaje_On-base-plus-slugging    279 non-null    float64\n",
      " 34  Porcentaje_On-base-plus-slugging_2  279 non-null    float64\n",
      " 35  Porcentaje_juegos                   279 non-null    float64\n",
      " 36  Porcentaje_juegos_iniciados         279 non-null    float64\n",
      " 37  Porcentaje_juegos_iniciados_2       279 non-null    float64\n",
      " 38  Porcentaje_on-base                  279 non-null    float64\n",
      " 39  Porcentaje_on-base_2                279 non-null    float64\n",
      " 40  Porcentaje_slugging                 279 non-null    float64\n",
      " 41  Porcentaje_slugging_2               279 non-null    float64\n",
      " 42  Posicion                            279 non-null    object \n",
      " 43  Promedio_victorias                  279 non-null    float64\n",
      " 44  Runs-batted-in                      279 non-null    int64  \n",
      " 45  Runs-batted-in_2                    279 non-null    int64  \n",
      " 46  Sueldo_ajustado                     279 non-null    int64  \n",
      " 47  Sueldo_base                         279 non-null    int64  \n",
      " 48  Sueldo_porcentual                   279 non-null    float64\n",
      " 49  Sueldo_regular                      279 non-null    int64  \n",
      " 50  TVS                                 279 non-null    float64\n",
      " 51  Triples                             279 non-null    int64  \n",
      " 52  Triples_2                           279 non-null    int64  \n",
      " 53  Valor_contrato_promedio             279 non-null    int64  \n",
      " 54  Valor_contrato_total                279 non-null    int64  \n",
      " 55  Valor_del_contrato                  279 non-null    int64  \n",
      " 56  Victorias                           279 non-null    int64  \n",
      " 57  WAR                                 279 non-null    float64\n",
      " 58  WAR_2                               279 non-null    float64\n",
      " 59  WS ganadas                          279 non-null    int64  \n",
      " 60  ln_Sueldo_ajustado                  279 non-null    float64\n",
      " 61  ln_Sueldo_base                      279 non-null    float64\n",
      " 62  ln_Sueldo_regular                   279 non-null    float64\n",
      "dtypes: float64(20), int64(36), object(7)\n",
      "memory usage: 139.5+ KB\n",
      "\n",
      " No FA - Hitters:\n",
      "<class 'pandas.core.frame.DataFrame'>\n",
      "Int64Index: 389 entries, 1 to 470\n",
      "Data columns (total 69 columns):\n",
      " #   Column                   Non-Null Count  Dtype  \n",
      "---  ------                   --------------  -----  \n",
      " 0   Acronimo                 389 non-null    object \n",
      " 1   Altura                   389 non-null    float64\n",
      " 2   Anio                     389 non-null    object \n",
      " 3   Anio_de_agente_libre     389 non-null    int64  \n",
      " 4   Anios_de_contrato        389 non-null    int64  \n",
      " 5   Antiguedad               389 non-null    int64  \n",
      " 6   Bateos                   389 non-null    int64  \n",
      " 7   Bateos_2                 389 non-null    int64  \n",
      " 8   Bono_por_firma           389 non-null    int64  \n",
      " 9   Cantidad de equipos      389 non-null    int64  \n",
      " 10  Cantidad_agentes_libres  389 non-null    int64  \n",
      " 11  Carreras                 389 non-null    int64  \n",
      " 12  Carreras_2               389 non-null    int64  \n",
      " 13  Carreras_ganadas         389 non-null    int64  \n",
      " 14  Carreras_ganadas_2       389 non-null    int64  \n",
      " 15  Cash                     389 non-null    object \n",
      " 16  Comando                  389 non-null    float64\n",
      " 17  Comando_2                389 non-null    float64\n",
      " 18  Control                  389 non-null    float64\n",
      " 19  Control_2                389 non-null    float64\n",
      " 20  Dominio                  389 non-null    float64\n",
      " 21  Dominio_2                389 non-null    float64\n",
      " 22  ERA                      389 non-null    float64\n",
      " 23  ERA_2                    389 non-null    float64\n",
      " 24  Edad                     389 non-null    int64  \n",
      " 25  Edad_al_firmar           389 non-null    int64  \n",
      " 26  Equipo                   389 non-null    object \n",
      " 27  Estado                   389 non-null    object \n",
      " 28  Ganancias                389 non-null    int64  \n",
      " 29  Inning_pitched           389 non-null    float64\n",
      " 30  Inning_pitched_2         389 non-null    float64\n",
      " 31  Juegos                   389 non-null    int64  \n",
      " 32  Juegos totales           389 non-null    int64  \n",
      " 33  Juegos_iniciados         389 non-null    int64  \n",
      " 34  Juegos_iniciados_2       389 non-null    int64  \n",
      " 35  Jugador                  389 non-null    object \n",
      " 36  Losses                   389 non-null    int64  \n",
      " 37  Losses_2                 389 non-null    int64  \n",
      " 38  Pennants won             389 non-null    int64  \n",
      " 39  Peso                     389 non-null    int64  \n",
      " 40  Playoffs                 389 non-null    int64  \n",
      " 41  Porcentaje_juegos        389 non-null    float64\n",
      " 42  Posicion                 389 non-null    object \n",
      " 43  Promedio_victorias       389 non-null    float64\n",
      " 44  Saves                    389 non-null    int64  \n",
      " 45  Saves_2                  389 non-null    int64  \n",
      " 46  Strike-outs              389 non-null    int64  \n",
      " 47  Strike-outs_2            389 non-null    int64  \n",
      " 48  Sueldo_ajustado          389 non-null    int64  \n",
      " 49  Sueldo_base              389 non-null    int64  \n",
      " 50  Sueldo_porcentual        389 non-null    float64\n",
      " 51  Sueldo_regular           389 non-null    int64  \n",
      " 52  TVS                      389 non-null    float64\n",
      " 53  Valor_contrato_promedio  389 non-null    int64  \n",
      " 54  Valor_contrato_total     389 non-null    int64  \n",
      " 55  Valor_del_contrato       389 non-null    int64  \n",
      " 56  Victorias                389 non-null    int64  \n",
      " 57  WAR                      389 non-null    float64\n",
      " 58  WAR_2                    389 non-null    float64\n",
      " 59  WHIP                     389 non-null    float64\n",
      " 60  WHIP_2                   389 non-null    float64\n",
      " 61  WS ganadas               389 non-null    int64  \n",
      " 62  Walks                    389 non-null    int64  \n",
      " 63  Walks_2                  389 non-null    int64  \n",
      " 64  Wins                     389 non-null    int64  \n",
      " 65  Wins_2                   389 non-null    int64  \n",
      " 66  ln_Sueldo_ajustado       389 non-null    float64\n",
      " 67  ln_Sueldo_base           389 non-null    float64\n",
      " 68  ln_Sueldo_regular        389 non-null    float64\n",
      "dtypes: float64(22), int64(40), object(7)\n",
      "memory usage: 212.7+ KB\n"
     ]
    }
   ],
   "source": [
    "print(\"FA - Hitters:\")\n",
    "df_hitters_free_agents[9].info()\n",
    "print(\"\\n FA - Pitchers:\")\n",
    "df_pitchers_free_agents[9].info()\n",
    "print(\"\\n No FA - Hitters:\")\n",
    "df_hitters_no_free_agents[9].info()\n",
    "print(\"\\n No FA - Hitters:\")\n",
    "df_pitchers_no_free_agents[9].info()"
   ]
  },
  {
   "cell_type": "code",
   "execution_count": 84,
   "id": "53d3ab3a-f783-4fe3-a0af-1771c25dc7e2",
   "metadata": {},
   "outputs": [
    {
     "name": "stdout",
     "output_type": "stream",
     "text": [
      "FA - Hitters:\n",
      "(0, 68)\n",
      "(64, 68)\n",
      "(81, 68)\n",
      "(106, 68)\n",
      "(106, 68)\n",
      "(133, 68)\n",
      "(100, 68)\n",
      "(92, 68)\n",
      "(104, 68)\n",
      "(58, 68)\n",
      "(106, 68)\n",
      "(56, 68)\n",
      "\n",
      " FA - Pitchers:\n",
      "(0, 74)\n",
      "(32, 74)\n",
      "(55, 74)\n",
      "(84, 74)\n",
      "(101, 74)\n",
      "(96, 74)\n",
      "(69, 74)\n",
      "(82, 74)\n",
      "(86, 74)\n",
      "(83, 74)\n",
      "(91, 74)\n",
      "(93, 74)\n"
     ]
    }
   ],
   "source": [
    "print(\"FA - Hitters:\")\n",
    "for year in range(0,period):\n",
    "    print(df_hitters_free_agents[year].shape)\n",
    "print(\"\\n FA - Pitchers:\")\n",
    "for year in range(0,period):\n",
    "    print(df_pitchers_free_agents[year].shape)"
   ]
  },
  {
   "cell_type": "markdown",
   "id": "f9d8381e-f47a-44c7-831a-d56b642a4544",
   "metadata": {},
   "source": [
    "Por último, para facilitar futuras aplicaciones, pasemos todos los nombres de las columnas a miníscula"
   ]
  },
  {
   "cell_type": "code",
   "execution_count": 85,
   "id": "e65ad7f5-6372-4bf6-a4fd-c0a4103c46df",
   "metadata": {},
   "outputs": [],
   "source": [
    "for year in range(0,period):\n",
    "    df_hitters_free_agents[year].rename(columns = str.lower)\n",
    "    df_pitchers_free_agents[year].rename(columns = str.lower)\n",
    "    df_hitters_no_free_agents[year].rename(columns = str.lower)\n",
    "    df_pitchers_no_free_agents[year].rename(columns = str.lower)"
   ]
  },
  {
   "cell_type": "markdown",
   "id": "50d6a026-3f9b-4adf-b766-f8dd3cc83db0",
   "metadata": {},
   "source": [
    "### Etiquetas para los agentes libres\n",
    "\n",
    "Crearemos un etiqueta para indicar si el pitcher o hitter es  un agente libre o no."
   ]
  },
  {
   "cell_type": "code",
   "execution_count": 86,
   "id": "0b5f175f-8f27-45db-9913-246361cf77cf",
   "metadata": {},
   "outputs": [],
   "source": [
    "for year in range(0,period):\n",
    "    # Condiciones\n",
    "    condicion_hitter = [df_hitting_copy[year].Jugador.isin(df_free_agents_copy[year].Jugador)]\n",
    "    condicion_pitcher = [df_pitching_copy[year].Jugador.isin(df_free_agents_copy[year].Jugador)]\n",
    "    \n",
    "    # Etiquetas\n",
    "    etiquetas = ['Si']\n",
    "    \n",
    "    df_hitting_copy[year]['Agente_libre'] = np.select(condicion_hitter, etiquetas, default = 'No')\n",
    "    df_pitching_copy[year]['Agente_libre'] = np.select(condicion_pitcher, etiquetas, default = 'No')\n",
    "    \n",
    "    df_hitting_copy[year] = df_hitting_copy[year].reindex(sorted(df_hitting_copy[year].columns), axis=1)\n",
    "    df_pitching_copy[year] = df_pitching_copy[year].reindex(sorted(df_pitching_copy[year].columns), axis=1)"
   ]
  },
  {
   "cell_type": "code",
   "execution_count": 87,
   "id": "d7ca1a18-13bd-4c63-83a2-ff969a5c1040",
   "metadata": {},
   "outputs": [],
   "source": [
    "for year in range(0,period):\n",
    "    df_hitting_copy[year].rename(columns = str.lower, inplace = True)\n",
    "    df_pitching_copy[year].rename(columns = str.lower, inplace = True)"
   ]
  },
  {
   "cell_type": "markdown",
   "id": "4f1f231e-2a29-410f-92fc-c1472368cfdc",
   "metadata": {},
   "source": [
    "## Panel Data\n",
    "\n",
    "Con el objetivo de contar con una base de datos en estructura panel, uniremos las bases de datos"
   ]
  },
  {
   "cell_type": "code",
   "execution_count": 88,
   "id": "e8c46c59-0487-40ea-aeb4-3691cf2bbd67",
   "metadata": {},
   "outputs": [],
   "source": [
    "# Inicialización del panel\n",
    "df_panel_all_hitter = df_hitting_copy[0]\n",
    "df_panel_all_pitcher = df_pitching_copy[0]\n",
    "\n",
    "for year in range(1,period):\n",
    "    # Hitter\n",
    "    df_panel_all_hitter = pd.concat([df_panel_all_hitter, df_hitting_copy[year]])\n",
    "    \n",
    "    # Pitcher\n",
    "    df_panel_all_pitcher = pd.concat([df_panel_all_pitcher, df_pitching_copy[year]])"
   ]
  },
  {
   "cell_type": "markdown",
   "id": "024233f2-5143-4482-b5a6-6c4a2515d51c",
   "metadata": {},
   "source": [
    "Veamos las estadísticas descriptivas de los panel"
   ]
  },
  {
   "cell_type": "code",
   "execution_count": 89,
   "id": "9024584a-c0a8-4fdb-a759-2a4174e8dac4",
   "metadata": {},
   "outputs": [
    {
     "data": {
      "text/html": [
       "<div>\n",
       "<style scoped>\n",
       "    .dataframe tbody tr th:only-of-type {\n",
       "        vertical-align: middle;\n",
       "    }\n",
       "\n",
       "    .dataframe tbody tr th {\n",
       "        vertical-align: top;\n",
       "    }\n",
       "\n",
       "    .dataframe thead th {\n",
       "        text-align: right;\n",
       "    }\n",
       "</style>\n",
       "<table border=\"1\" class=\"dataframe\">\n",
       "  <thead>\n",
       "    <tr style=\"text-align: right;\">\n",
       "      <th></th>\n",
       "      <th>altura</th>\n",
       "      <th>anio_de_agente_libre</th>\n",
       "      <th>anios_de_contrato</th>\n",
       "      <th>antiguedad</th>\n",
       "      <th>at-bats</th>\n",
       "      <th>at-bats_2</th>\n",
       "      <th>bateos</th>\n",
       "      <th>bateos_2</th>\n",
       "      <th>bateos_promedio</th>\n",
       "      <th>bateos_promedio_2</th>\n",
       "      <th>...</th>\n",
       "      <th>valor_contrato_promedio</th>\n",
       "      <th>valor_contrato_total</th>\n",
       "      <th>valor_del_contrato</th>\n",
       "      <th>victorias</th>\n",
       "      <th>war</th>\n",
       "      <th>war_2</th>\n",
       "      <th>ws ganadas</th>\n",
       "      <th>ln_sueldo_ajustado</th>\n",
       "      <th>ln_sueldo_base</th>\n",
       "      <th>ln_sueldo_regular</th>\n",
       "    </tr>\n",
       "  </thead>\n",
       "  <tbody>\n",
       "    <tr>\n",
       "      <th>count</th>\n",
       "      <td>7216.000000</td>\n",
       "      <td>7216.000000</td>\n",
       "      <td>7216.000000</td>\n",
       "      <td>7216.000000</td>\n",
       "      <td>7216.000000</td>\n",
       "      <td>7216.000000</td>\n",
       "      <td>7216.000000</td>\n",
       "      <td>7216.000000</td>\n",
       "      <td>7216.000000</td>\n",
       "      <td>7216.000000</td>\n",
       "      <td>...</td>\n",
       "      <td>7.216000e+03</td>\n",
       "      <td>7.216000e+03</td>\n",
       "      <td>7.216000e+03</td>\n",
       "      <td>7216.000000</td>\n",
       "      <td>7216.000000</td>\n",
       "      <td>7216.000000</td>\n",
       "      <td>7216.000000</td>\n",
       "      <td>7216.000000</td>\n",
       "      <td>7216.000000</td>\n",
       "      <td>7216.000000</td>\n",
       "    </tr>\n",
       "    <tr>\n",
       "      <th>mean</th>\n",
       "      <td>6.186035</td>\n",
       "      <td>864.827467</td>\n",
       "      <td>1.877910</td>\n",
       "      <td>0.918792</td>\n",
       "      <td>191.903271</td>\n",
       "      <td>77527.460366</td>\n",
       "      <td>48.669346</td>\n",
       "      <td>5445.230044</td>\n",
       "      <td>0.193776</td>\n",
       "      <td>0.053151</td>\n",
       "      <td>...</td>\n",
       "      <td>3.953872e+06</td>\n",
       "      <td>5.939104e+07</td>\n",
       "      <td>1.612017e+07</td>\n",
       "      <td>78.720067</td>\n",
       "      <td>1.807611</td>\n",
       "      <td>5.303025</td>\n",
       "      <td>3.854351</td>\n",
       "      <td>13.779109</td>\n",
       "      <td>14.192990</td>\n",
       "      <td>14.212471</td>\n",
       "    </tr>\n",
       "    <tr>\n",
       "      <th>std</th>\n",
       "      <td>0.213243</td>\n",
       "      <td>999.538314</td>\n",
       "      <td>1.867081</td>\n",
       "      <td>1.240706</td>\n",
       "      <td>201.757865</td>\n",
       "      <td>113174.246371</td>\n",
       "      <td>55.470273</td>\n",
       "      <td>8715.047656</td>\n",
       "      <td>0.124917</td>\n",
       "      <td>0.078600</td>\n",
       "      <td>...</td>\n",
       "      <td>6.068951e+06</td>\n",
       "      <td>7.686318e+07</td>\n",
       "      <td>4.057521e+07</td>\n",
       "      <td>16.399037</td>\n",
       "      <td>1.426832</td>\n",
       "      <td>9.424447</td>\n",
       "      <td>5.260240</td>\n",
       "      <td>1.649882</td>\n",
       "      <td>1.295369</td>\n",
       "      <td>1.308941</td>\n",
       "    </tr>\n",
       "    <tr>\n",
       "      <th>min</th>\n",
       "      <td>5.567014</td>\n",
       "      <td>0.000000</td>\n",
       "      <td>1.000000</td>\n",
       "      <td>-1.000000</td>\n",
       "      <td>1.000000</td>\n",
       "      <td>1.000000</td>\n",
       "      <td>0.000000</td>\n",
       "      <td>0.000000</td>\n",
       "      <td>0.000000</td>\n",
       "      <td>0.000000</td>\n",
       "      <td>...</td>\n",
       "      <td>0.000000e+00</td>\n",
       "      <td>0.000000e+00</td>\n",
       "      <td>0.000000e+00</td>\n",
       "      <td>19.000000</td>\n",
       "      <td>0.010000</td>\n",
       "      <td>0.000100</td>\n",
       "      <td>0.000000</td>\n",
       "      <td>8.028455</td>\n",
       "      <td>9.835744</td>\n",
       "      <td>9.835744</td>\n",
       "    </tr>\n",
       "    <tr>\n",
       "      <th>25%</th>\n",
       "      <td>6.100000</td>\n",
       "      <td>0.000000</td>\n",
       "      <td>1.000000</td>\n",
       "      <td>0.000000</td>\n",
       "      <td>12.000000</td>\n",
       "      <td>144.000000</td>\n",
       "      <td>2.000000</td>\n",
       "      <td>4.000000</td>\n",
       "      <td>0.115750</td>\n",
       "      <td>0.013398</td>\n",
       "      <td>...</td>\n",
       "      <td>5.206500e+05</td>\n",
       "      <td>1.175000e+07</td>\n",
       "      <td>5.206500e+05</td>\n",
       "      <td>70.000000</td>\n",
       "      <td>0.800000</td>\n",
       "      <td>0.640000</td>\n",
       "      <td>1.000000</td>\n",
       "      <td>12.692701</td>\n",
       "      <td>13.161584</td>\n",
       "      <td>13.163361</td>\n",
       "    </tr>\n",
       "    <tr>\n",
       "      <th>50%</th>\n",
       "      <td>6.200000</td>\n",
       "      <td>0.000000</td>\n",
       "      <td>1.000000</td>\n",
       "      <td>1.000000</td>\n",
       "      <td>105.000000</td>\n",
       "      <td>11025.000000</td>\n",
       "      <td>23.000000</td>\n",
       "      <td>529.000000</td>\n",
       "      <td>0.226000</td>\n",
       "      <td>0.051076</td>\n",
       "      <td>...</td>\n",
       "      <td>6.000000e+05</td>\n",
       "      <td>2.887500e+07</td>\n",
       "      <td>6.000000e+05</td>\n",
       "      <td>81.000000</td>\n",
       "      <td>1.737120</td>\n",
       "      <td>3.017585</td>\n",
       "      <td>2.000000</td>\n",
       "      <td>13.226723</td>\n",
       "      <td>13.292781</td>\n",
       "      <td>13.301885</td>\n",
       "    </tr>\n",
       "    <tr>\n",
       "      <th>75%</th>\n",
       "      <td>6.300000</td>\n",
       "      <td>2019.000000</td>\n",
       "      <td>1.000000</td>\n",
       "      <td>1.000000</td>\n",
       "      <td>351.000000</td>\n",
       "      <td>123201.000000</td>\n",
       "      <td>88.000000</td>\n",
       "      <td>7744.000000</td>\n",
       "      <td>0.265000</td>\n",
       "      <td>0.070225</td>\n",
       "      <td>...</td>\n",
       "      <td>5.000000e+06</td>\n",
       "      <td>7.000000e+07</td>\n",
       "      <td>8.000000e+06</td>\n",
       "      <td>91.000000</td>\n",
       "      <td>2.019977</td>\n",
       "      <td>4.080308</td>\n",
       "      <td>5.000000</td>\n",
       "      <td>15.189226</td>\n",
       "      <td>15.315410</td>\n",
       "      <td>15.341567</td>\n",
       "    </tr>\n",
       "    <tr>\n",
       "      <th>max</th>\n",
       "      <td>6.900000</td>\n",
       "      <td>2035.000000</td>\n",
       "      <td>14.000000</td>\n",
       "      <td>9.000000</td>\n",
       "      <td>684.000000</td>\n",
       "      <td>467856.000000</td>\n",
       "      <td>225.000000</td>\n",
       "      <td>50625.000000</td>\n",
       "      <td>1.000000</td>\n",
       "      <td>1.000000</td>\n",
       "      <td>...</td>\n",
       "      <td>3.554167e+07</td>\n",
       "      <td>5.807000e+08</td>\n",
       "      <td>4.265000e+08</td>\n",
       "      <td>111.000000</td>\n",
       "      <td>10.680000</td>\n",
       "      <td>114.062400</td>\n",
       "      <td>27.000000</td>\n",
       "      <td>17.440000</td>\n",
       "      <td>17.399029</td>\n",
       "      <td>17.487583</td>\n",
       "    </tr>\n",
       "  </tbody>\n",
       "</table>\n",
       "<p>8 rows × 56 columns</p>\n",
       "</div>"
      ],
      "text/plain": [
       "            altura  anio_de_agente_libre  anios_de_contrato   antiguedad  \\\n",
       "count  7216.000000           7216.000000        7216.000000  7216.000000   \n",
       "mean      6.186035            864.827467           1.877910     0.918792   \n",
       "std       0.213243            999.538314           1.867081     1.240706   \n",
       "min       5.567014              0.000000           1.000000    -1.000000   \n",
       "25%       6.100000              0.000000           1.000000     0.000000   \n",
       "50%       6.200000              0.000000           1.000000     1.000000   \n",
       "75%       6.300000           2019.000000           1.000000     1.000000   \n",
       "max       6.900000           2035.000000          14.000000     9.000000   \n",
       "\n",
       "           at-bats      at-bats_2       bateos      bateos_2  bateos_promedio  \\\n",
       "count  7216.000000    7216.000000  7216.000000   7216.000000      7216.000000   \n",
       "mean    191.903271   77527.460366    48.669346   5445.230044         0.193776   \n",
       "std     201.757865  113174.246371    55.470273   8715.047656         0.124917   \n",
       "min       1.000000       1.000000     0.000000      0.000000         0.000000   \n",
       "25%      12.000000     144.000000     2.000000      4.000000         0.115750   \n",
       "50%     105.000000   11025.000000    23.000000    529.000000         0.226000   \n",
       "75%     351.000000  123201.000000    88.000000   7744.000000         0.265000   \n",
       "max     684.000000  467856.000000   225.000000  50625.000000         1.000000   \n",
       "\n",
       "       bateos_promedio_2  ...  valor_contrato_promedio  valor_contrato_total  \\\n",
       "count        7216.000000  ...             7.216000e+03          7.216000e+03   \n",
       "mean            0.053151  ...             3.953872e+06          5.939104e+07   \n",
       "std             0.078600  ...             6.068951e+06          7.686318e+07   \n",
       "min             0.000000  ...             0.000000e+00          0.000000e+00   \n",
       "25%             0.013398  ...             5.206500e+05          1.175000e+07   \n",
       "50%             0.051076  ...             6.000000e+05          2.887500e+07   \n",
       "75%             0.070225  ...             5.000000e+06          7.000000e+07   \n",
       "max             1.000000  ...             3.554167e+07          5.807000e+08   \n",
       "\n",
       "       valor_del_contrato    victorias          war        war_2   ws ganadas  \\\n",
       "count        7.216000e+03  7216.000000  7216.000000  7216.000000  7216.000000   \n",
       "mean         1.612017e+07    78.720067     1.807611     5.303025     3.854351   \n",
       "std          4.057521e+07    16.399037     1.426832     9.424447     5.260240   \n",
       "min          0.000000e+00    19.000000     0.010000     0.000100     0.000000   \n",
       "25%          5.206500e+05    70.000000     0.800000     0.640000     1.000000   \n",
       "50%          6.000000e+05    81.000000     1.737120     3.017585     2.000000   \n",
       "75%          8.000000e+06    91.000000     2.019977     4.080308     5.000000   \n",
       "max          4.265000e+08   111.000000    10.680000   114.062400    27.000000   \n",
       "\n",
       "       ln_sueldo_ajustado  ln_sueldo_base  ln_sueldo_regular  \n",
       "count         7216.000000     7216.000000        7216.000000  \n",
       "mean            13.779109       14.192990          14.212471  \n",
       "std              1.649882        1.295369           1.308941  \n",
       "min              8.028455        9.835744           9.835744  \n",
       "25%             12.692701       13.161584          13.163361  \n",
       "50%             13.226723       13.292781          13.301885  \n",
       "75%             15.189226       15.315410          15.341567  \n",
       "max             17.440000       17.399029          17.487583  \n",
       "\n",
       "[8 rows x 56 columns]"
      ]
     },
     "execution_count": 89,
     "metadata": {},
     "output_type": "execute_result"
    }
   ],
   "source": [
    "df_panel_all_hitter.describe()"
   ]
  },
  {
   "cell_type": "code",
   "execution_count": 90,
   "id": "ec479b8f-5bcc-49fe-8539-df4ced3a7149",
   "metadata": {},
   "outputs": [
    {
     "data": {
      "text/html": [
       "<div>\n",
       "<style scoped>\n",
       "    .dataframe tbody tr th:only-of-type {\n",
       "        vertical-align: middle;\n",
       "    }\n",
       "\n",
       "    .dataframe tbody tr th {\n",
       "        vertical-align: top;\n",
       "    }\n",
       "\n",
       "    .dataframe thead th {\n",
       "        text-align: right;\n",
       "    }\n",
       "</style>\n",
       "<table border=\"1\" class=\"dataframe\">\n",
       "  <thead>\n",
       "    <tr style=\"text-align: right;\">\n",
       "      <th></th>\n",
       "      <th>altura</th>\n",
       "      <th>anio_de_agente_libre</th>\n",
       "      <th>anios_de_contrato</th>\n",
       "      <th>antiguedad</th>\n",
       "      <th>bateos</th>\n",
       "      <th>bateos_2</th>\n",
       "      <th>bono_por_firma</th>\n",
       "      <th>cantidad de equipos</th>\n",
       "      <th>cantidad_agentes_libres</th>\n",
       "      <th>carreras</th>\n",
       "      <th>...</th>\n",
       "      <th>whip</th>\n",
       "      <th>whip_2</th>\n",
       "      <th>ws ganadas</th>\n",
       "      <th>walks</th>\n",
       "      <th>walks_2</th>\n",
       "      <th>wins</th>\n",
       "      <th>wins_2</th>\n",
       "      <th>ln_sueldo_ajustado</th>\n",
       "      <th>ln_sueldo_base</th>\n",
       "      <th>ln_sueldo_regular</th>\n",
       "    </tr>\n",
       "  </thead>\n",
       "  <tbody>\n",
       "    <tr>\n",
       "      <th>count</th>\n",
       "      <td>6021.000000</td>\n",
       "      <td>6021.000000</td>\n",
       "      <td>6021.000000</td>\n",
       "      <td>6021.000000</td>\n",
       "      <td>6021.000000</td>\n",
       "      <td>6021.000000</td>\n",
       "      <td>6.021000e+03</td>\n",
       "      <td>6021.000000</td>\n",
       "      <td>6021.000000</td>\n",
       "      <td>6021.000000</td>\n",
       "      <td>...</td>\n",
       "      <td>6021.000000</td>\n",
       "      <td>6021.000000</td>\n",
       "      <td>6021.000000</td>\n",
       "      <td>6021.000000</td>\n",
       "      <td>6021.000000</td>\n",
       "      <td>6021.000000</td>\n",
       "      <td>6021.000000</td>\n",
       "      <td>6021.000000</td>\n",
       "      <td>6021.000000</td>\n",
       "      <td>6021.000000</td>\n",
       "    </tr>\n",
       "    <tr>\n",
       "      <th>mean</th>\n",
       "      <td>6.257905</td>\n",
       "      <td>843.087361</td>\n",
       "      <td>1.471849</td>\n",
       "      <td>0.722637</td>\n",
       "      <td>62.560040</td>\n",
       "      <td>7013.836240</td>\n",
       "      <td>7.734083e+04</td>\n",
       "      <td>2.125727</td>\n",
       "      <td>5.332503</td>\n",
       "      <td>31.831922</td>\n",
       "      <td>...</td>\n",
       "      <td>1.399450</td>\n",
       "      <td>2.444852</td>\n",
       "      <td>3.855838</td>\n",
       "      <td>22.499419</td>\n",
       "      <td>837.511211</td>\n",
       "      <td>3.806344</td>\n",
       "      <td>31.838233</td>\n",
       "      <td>13.502931</td>\n",
       "      <td>13.997466</td>\n",
       "      <td>14.012041</td>\n",
       "    </tr>\n",
       "    <tr>\n",
       "      <th>std</th>\n",
       "      <td>0.211507</td>\n",
       "      <td>996.339635</td>\n",
       "      <td>1.206466</td>\n",
       "      <td>0.954166</td>\n",
       "      <td>55.682965</td>\n",
       "      <td>10946.906759</td>\n",
       "      <td>4.995385e+05</td>\n",
       "      <td>1.372477</td>\n",
       "      <td>3.008082</td>\n",
       "      <td>27.776594</td>\n",
       "      <td>...</td>\n",
       "      <td>0.697475</td>\n",
       "      <td>8.707338</td>\n",
       "      <td>5.302430</td>\n",
       "      <td>18.202813</td>\n",
       "      <td>1250.556954</td>\n",
       "      <td>4.165676</td>\n",
       "      <td>61.482440</td>\n",
       "      <td>1.527574</td>\n",
       "      <td>1.149257</td>\n",
       "      <td>1.166916</td>\n",
       "    </tr>\n",
       "    <tr>\n",
       "      <th>min</th>\n",
       "      <td>5.567014</td>\n",
       "      <td>0.000000</td>\n",
       "      <td>1.000000</td>\n",
       "      <td>-1.000000</td>\n",
       "      <td>0.000000</td>\n",
       "      <td>0.000000</td>\n",
       "      <td>0.000000e+00</td>\n",
       "      <td>1.000000</td>\n",
       "      <td>1.000000</td>\n",
       "      <td>0.000000</td>\n",
       "      <td>...</td>\n",
       "      <td>0.000000</td>\n",
       "      <td>0.000000</td>\n",
       "      <td>0.000000</td>\n",
       "      <td>0.000000</td>\n",
       "      <td>0.000000</td>\n",
       "      <td>0.000000</td>\n",
       "      <td>0.000000</td>\n",
       "      <td>7.927685</td>\n",
       "      <td>9.835744</td>\n",
       "      <td>9.546813</td>\n",
       "    </tr>\n",
       "    <tr>\n",
       "      <th>25%</th>\n",
       "      <td>6.100000</td>\n",
       "      <td>0.000000</td>\n",
       "      <td>1.000000</td>\n",
       "      <td>0.000000</td>\n",
       "      <td>21.000000</td>\n",
       "      <td>441.000000</td>\n",
       "      <td>0.000000e+00</td>\n",
       "      <td>1.000000</td>\n",
       "      <td>3.000000</td>\n",
       "      <td>11.000000</td>\n",
       "      <td>...</td>\n",
       "      <td>1.150000</td>\n",
       "      <td>1.322500</td>\n",
       "      <td>1.000000</td>\n",
       "      <td>9.000000</td>\n",
       "      <td>81.000000</td>\n",
       "      <td>1.000000</td>\n",
       "      <td>1.000000</td>\n",
       "      <td>12.460362</td>\n",
       "      <td>13.180632</td>\n",
       "      <td>13.182517</td>\n",
       "    </tr>\n",
       "    <tr>\n",
       "      <th>50%</th>\n",
       "      <td>6.300000</td>\n",
       "      <td>0.000000</td>\n",
       "      <td>1.000000</td>\n",
       "      <td>1.000000</td>\n",
       "      <td>46.000000</td>\n",
       "      <td>2116.000000</td>\n",
       "      <td>0.000000e+00</td>\n",
       "      <td>2.000000</td>\n",
       "      <td>5.000000</td>\n",
       "      <td>23.000000</td>\n",
       "      <td>...</td>\n",
       "      <td>1.310000</td>\n",
       "      <td>1.716100</td>\n",
       "      <td>2.000000</td>\n",
       "      <td>18.000000</td>\n",
       "      <td>324.000000</td>\n",
       "      <td>2.000000</td>\n",
       "      <td>4.000000</td>\n",
       "      <td>13.161584</td>\n",
       "      <td>13.262125</td>\n",
       "      <td>13.262125</td>\n",
       "    </tr>\n",
       "    <tr>\n",
       "      <th>75%</th>\n",
       "      <td>6.400000</td>\n",
       "      <td>2020.000000</td>\n",
       "      <td>1.000000</td>\n",
       "      <td>1.000000</td>\n",
       "      <td>83.000000</td>\n",
       "      <td>6889.000000</td>\n",
       "      <td>0.000000e+00</td>\n",
       "      <td>2.000000</td>\n",
       "      <td>7.000000</td>\n",
       "      <td>44.000000</td>\n",
       "      <td>...</td>\n",
       "      <td>1.500000</td>\n",
       "      <td>2.250000</td>\n",
       "      <td>5.000000</td>\n",
       "      <td>32.000000</td>\n",
       "      <td>1024.000000</td>\n",
       "      <td>5.000000</td>\n",
       "      <td>25.000000</td>\n",
       "      <td>14.626441</td>\n",
       "      <td>14.827111</td>\n",
       "      <td>14.871563</td>\n",
       "    </tr>\n",
       "    <tr>\n",
       "      <th>max</th>\n",
       "      <td>6.900000</td>\n",
       "      <td>2029.000000</td>\n",
       "      <td>9.000000</td>\n",
       "      <td>8.000000</td>\n",
       "      <td>314.000000</td>\n",
       "      <td>98596.000000</td>\n",
       "      <td>1.000000e+07</td>\n",
       "      <td>5.000000</td>\n",
       "      <td>18.000000</td>\n",
       "      <td>162.000000</td>\n",
       "      <td>...</td>\n",
       "      <td>21.000000</td>\n",
       "      <td>441.000000</td>\n",
       "      <td>27.000000</td>\n",
       "      <td>106.000000</td>\n",
       "      <td>11236.000000</td>\n",
       "      <td>22.000000</td>\n",
       "      <td>484.000000</td>\n",
       "      <td>17.584433</td>\n",
       "      <td>17.584433</td>\n",
       "      <td>17.584433</td>\n",
       "    </tr>\n",
       "  </tbody>\n",
       "</table>\n",
       "<p>8 rows × 62 columns</p>\n",
       "</div>"
      ],
      "text/plain": [
       "            altura  anio_de_agente_libre  anios_de_contrato   antiguedad  \\\n",
       "count  6021.000000           6021.000000        6021.000000  6021.000000   \n",
       "mean      6.257905            843.087361           1.471849     0.722637   \n",
       "std       0.211507            996.339635           1.206466     0.954166   \n",
       "min       5.567014              0.000000           1.000000    -1.000000   \n",
       "25%       6.100000              0.000000           1.000000     0.000000   \n",
       "50%       6.300000              0.000000           1.000000     1.000000   \n",
       "75%       6.400000           2020.000000           1.000000     1.000000   \n",
       "max       6.900000           2029.000000           9.000000     8.000000   \n",
       "\n",
       "            bateos      bateos_2  bono_por_firma  cantidad de equipos  \\\n",
       "count  6021.000000   6021.000000    6.021000e+03          6021.000000   \n",
       "mean     62.560040   7013.836240    7.734083e+04             2.125727   \n",
       "std      55.682965  10946.906759    4.995385e+05             1.372477   \n",
       "min       0.000000      0.000000    0.000000e+00             1.000000   \n",
       "25%      21.000000    441.000000    0.000000e+00             1.000000   \n",
       "50%      46.000000   2116.000000    0.000000e+00             2.000000   \n",
       "75%      83.000000   6889.000000    0.000000e+00             2.000000   \n",
       "max     314.000000  98596.000000    1.000000e+07             5.000000   \n",
       "\n",
       "       cantidad_agentes_libres     carreras  ...         whip       whip_2  \\\n",
       "count              6021.000000  6021.000000  ...  6021.000000  6021.000000   \n",
       "mean                  5.332503    31.831922  ...     1.399450     2.444852   \n",
       "std                   3.008082    27.776594  ...     0.697475     8.707338   \n",
       "min                   1.000000     0.000000  ...     0.000000     0.000000   \n",
       "25%                   3.000000    11.000000  ...     1.150000     1.322500   \n",
       "50%                   5.000000    23.000000  ...     1.310000     1.716100   \n",
       "75%                   7.000000    44.000000  ...     1.500000     2.250000   \n",
       "max                  18.000000   162.000000  ...    21.000000   441.000000   \n",
       "\n",
       "        ws ganadas        walks       walks_2         wins       wins_2  \\\n",
       "count  6021.000000  6021.000000   6021.000000  6021.000000  6021.000000   \n",
       "mean      3.855838    22.499419    837.511211     3.806344    31.838233   \n",
       "std       5.302430    18.202813   1250.556954     4.165676    61.482440   \n",
       "min       0.000000     0.000000      0.000000     0.000000     0.000000   \n",
       "25%       1.000000     9.000000     81.000000     1.000000     1.000000   \n",
       "50%       2.000000    18.000000    324.000000     2.000000     4.000000   \n",
       "75%       5.000000    32.000000   1024.000000     5.000000    25.000000   \n",
       "max      27.000000   106.000000  11236.000000    22.000000   484.000000   \n",
       "\n",
       "       ln_sueldo_ajustado  ln_sueldo_base  ln_sueldo_regular  \n",
       "count         6021.000000     6021.000000        6021.000000  \n",
       "mean            13.502931       13.997466          14.012041  \n",
       "std              1.527574        1.149257           1.166916  \n",
       "min              7.927685        9.835744           9.546813  \n",
       "25%             12.460362       13.180632          13.182517  \n",
       "50%             13.161584       13.262125          13.262125  \n",
       "75%             14.626441       14.827111          14.871563  \n",
       "max             17.584433       17.584433          17.584433  \n",
       "\n",
       "[8 rows x 62 columns]"
      ]
     },
     "execution_count": 90,
     "metadata": {},
     "output_type": "execute_result"
    }
   ],
   "source": [
    "df_panel_all_pitcher.describe()"
   ]
  },
  {
   "cell_type": "code",
   "execution_count": 91,
   "id": "06b08781-7c77-43ad-823f-1f5acac46b96",
   "metadata": {},
   "outputs": [
    {
     "name": "stdout",
     "output_type": "stream",
     "text": [
      "<class 'pandas.core.frame.DataFrame'>\n",
      "Int64Index: 7216 entries, 0 to 410\n",
      "Data columns (total 64 columns):\n",
      " #   Column                              Non-Null Count  Dtype  \n",
      "---  ------                              --------------  -----  \n",
      " 0   acronimo                            7216 non-null   object \n",
      " 1   agente_libre                        7216 non-null   object \n",
      " 2   altura                              7216 non-null   float64\n",
      " 3   anio                                7216 non-null   object \n",
      " 4   anio_de_agente_libre                7216 non-null   int64  \n",
      " 5   anios_de_contrato                   7216 non-null   int64  \n",
      " 6   antiguedad                          7216 non-null   int64  \n",
      " 7   at-bats                             7216 non-null   int64  \n",
      " 8   at-bats_2                           7216 non-null   int64  \n",
      " 9   bateos                              7216 non-null   int64  \n",
      " 10  bateos_2                            7216 non-null   int64  \n",
      " 11  bateos_promedio                     7216 non-null   float64\n",
      " 12  bateos_promedio_2                   7216 non-null   float64\n",
      " 13  bono_por_firma                      7216 non-null   int64  \n",
      " 14  cantidad de equipos                 7216 non-null   int64  \n",
      " 15  cantidad_agentes_libres             7216 non-null   int64  \n",
      " 16  cash                                7216 non-null   object \n",
      " 17  dobles                              7216 non-null   int64  \n",
      " 18  dobles_2                            7216 non-null   int64  \n",
      " 19  edad                                7216 non-null   int64  \n",
      " 20  edad_al_firmar                      7216 non-null   int64  \n",
      " 21  equipo                              7216 non-null   object \n",
      " 22  estado                              7216 non-null   object \n",
      " 23  ganancias                           7216 non-null   int64  \n",
      " 24  home-runs                           7216 non-null   int64  \n",
      " 25  home-runs_2                         7216 non-null   int64  \n",
      " 26  juegos                              7216 non-null   int64  \n",
      " 27  juegos totales                      7216 non-null   int64  \n",
      " 28  juegos_iniciados                    7216 non-null   int64  \n",
      " 29  juegos_iniciados_2                  7216 non-null   int64  \n",
      " 30  jugador                             7216 non-null   object \n",
      " 31  pennants won                        7216 non-null   int64  \n",
      " 32  peso                                7216 non-null   float64\n",
      " 33  playoffs                            7216 non-null   int64  \n",
      " 34  porcentaje_on-base-plus-slugging    7216 non-null   float64\n",
      " 35  porcentaje_on-base-plus-slugging_2  7216 non-null   float64\n",
      " 36  porcentaje_juegos                   7216 non-null   float64\n",
      " 37  porcentaje_juegos_iniciados         7216 non-null   float64\n",
      " 38  porcentaje_juegos_iniciados_2       7216 non-null   float64\n",
      " 39  porcentaje_on-base                  7216 non-null   float64\n",
      " 40  porcentaje_on-base_2                7216 non-null   float64\n",
      " 41  porcentaje_slugging                 7216 non-null   float64\n",
      " 42  porcentaje_slugging_2               7216 non-null   float64\n",
      " 43  posicion                            7216 non-null   object \n",
      " 44  promedio_victorias                  7216 non-null   float64\n",
      " 45  runs-batted-in                      7216 non-null   int64  \n",
      " 46  runs-batted-in_2                    7216 non-null   int64  \n",
      " 47  sueldo_ajustado                     7216 non-null   int64  \n",
      " 48  sueldo_base                         7216 non-null   int64  \n",
      " 49  sueldo_porcentual                   7216 non-null   float64\n",
      " 50  sueldo_regular                      7216 non-null   int64  \n",
      " 51  tvs                                 7216 non-null   float64\n",
      " 52  triples                             7216 non-null   int64  \n",
      " 53  triples_2                           7216 non-null   int64  \n",
      " 54  valor_contrato_promedio             7216 non-null   int64  \n",
      " 55  valor_contrato_total                7216 non-null   int64  \n",
      " 56  valor_del_contrato                  7216 non-null   int64  \n",
      " 57  victorias                           7216 non-null   int64  \n",
      " 58  war                                 7216 non-null   float64\n",
      " 59  war_2                               7216 non-null   float64\n",
      " 60  ws ganadas                          7216 non-null   int64  \n",
      " 61  ln_sueldo_ajustado                  7216 non-null   float64\n",
      " 62  ln_sueldo_base                      7216 non-null   float64\n",
      " 63  ln_sueldo_regular                   7216 non-null   float64\n",
      "dtypes: float64(21), int64(35), object(8)\n",
      "memory usage: 3.6+ MB\n"
     ]
    }
   ],
   "source": [
    "df_panel_all_hitter.info()"
   ]
  },
  {
   "cell_type": "code",
   "execution_count": 92,
   "id": "7382b13f-9322-4da7-8f2a-d7d2f4c9be7a",
   "metadata": {},
   "outputs": [
    {
     "name": "stdout",
     "output_type": "stream",
     "text": [
      "<class 'pandas.core.frame.DataFrame'>\n",
      "Int64Index: 6021 entries, 0 to 557\n",
      "Data columns (total 70 columns):\n",
      " #   Column                   Non-Null Count  Dtype  \n",
      "---  ------                   --------------  -----  \n",
      " 0   acronimo                 6021 non-null   object \n",
      " 1   agente_libre             6021 non-null   object \n",
      " 2   altura                   6021 non-null   float64\n",
      " 3   anio                     6021 non-null   object \n",
      " 4   anio_de_agente_libre     6021 non-null   int64  \n",
      " 5   anios_de_contrato        6021 non-null   int64  \n",
      " 6   antiguedad               6021 non-null   int64  \n",
      " 7   bateos                   6021 non-null   int64  \n",
      " 8   bateos_2                 6021 non-null   int64  \n",
      " 9   bono_por_firma           6021 non-null   int64  \n",
      " 10  cantidad de equipos      6021 non-null   int64  \n",
      " 11  cantidad_agentes_libres  6021 non-null   int64  \n",
      " 12  carreras                 6021 non-null   int64  \n",
      " 13  carreras_2               6021 non-null   int64  \n",
      " 14  carreras_ganadas         6021 non-null   int64  \n",
      " 15  carreras_ganadas_2       6021 non-null   int64  \n",
      " 16  cash                     6021 non-null   object \n",
      " 17  comando                  6021 non-null   float64\n",
      " 18  comando_2                6021 non-null   float64\n",
      " 19  control                  6021 non-null   float64\n",
      " 20  control_2                6021 non-null   float64\n",
      " 21  dominio                  6021 non-null   float64\n",
      " 22  dominio_2                6021 non-null   float64\n",
      " 23  era                      6021 non-null   float64\n",
      " 24  era_2                    6021 non-null   float64\n",
      " 25  edad                     6021 non-null   int64  \n",
      " 26  edad_al_firmar           6021 non-null   int64  \n",
      " 27  equipo                   6021 non-null   object \n",
      " 28  estado                   6021 non-null   object \n",
      " 29  ganancias                6021 non-null   int64  \n",
      " 30  inning_pitched           6021 non-null   float64\n",
      " 31  inning_pitched_2         6021 non-null   float64\n",
      " 32  juegos                   6021 non-null   int64  \n",
      " 33  juegos totales           6021 non-null   int64  \n",
      " 34  juegos_iniciados         6021 non-null   int64  \n",
      " 35  juegos_iniciados_2       6021 non-null   int64  \n",
      " 36  jugador                  6021 non-null   object \n",
      " 37  losses                   6021 non-null   int64  \n",
      " 38  losses_2                 6021 non-null   int64  \n",
      " 39  pennants won             6021 non-null   int64  \n",
      " 40  peso                     6021 non-null   float64\n",
      " 41  playoffs                 6021 non-null   int64  \n",
      " 42  porcentaje_juegos        6021 non-null   float64\n",
      " 43  posicion                 6021 non-null   object \n",
      " 44  promedio_victorias       6021 non-null   float64\n",
      " 45  saves                    6021 non-null   int64  \n",
      " 46  saves_2                  6021 non-null   int64  \n",
      " 47  strike-outs              6021 non-null   int64  \n",
      " 48  strike-outs_2            6021 non-null   int64  \n",
      " 49  sueldo_ajustado          6021 non-null   int64  \n",
      " 50  sueldo_base              6021 non-null   int64  \n",
      " 51  sueldo_porcentual        6021 non-null   float64\n",
      " 52  sueldo_regular           6021 non-null   int64  \n",
      " 53  tvs                      6021 non-null   float64\n",
      " 54  valor_contrato_promedio  6021 non-null   int64  \n",
      " 55  valor_contrato_total     6021 non-null   int64  \n",
      " 56  valor_del_contrato       6021 non-null   int64  \n",
      " 57  victorias                6021 non-null   int64  \n",
      " 58  war                      6021 non-null   float64\n",
      " 59  war_2                    6021 non-null   float64\n",
      " 60  whip                     6021 non-null   float64\n",
      " 61  whip_2                   6021 non-null   float64\n",
      " 62  ws ganadas               6021 non-null   int64  \n",
      " 63  walks                    6021 non-null   int64  \n",
      " 64  walks_2                  6021 non-null   int64  \n",
      " 65  wins                     6021 non-null   int64  \n",
      " 66  wins_2                   6021 non-null   int64  \n",
      " 67  ln_sueldo_ajustado       6021 non-null   float64\n",
      " 68  ln_sueldo_base           6021 non-null   float64\n",
      " 69  ln_sueldo_regular        6021 non-null   float64\n",
      "dtypes: float64(23), int64(39), object(8)\n",
      "memory usage: 3.3+ MB\n"
     ]
    }
   ],
   "source": [
    "df_panel_all_pitcher.info()"
   ]
  },
  {
   "cell_type": "markdown",
   "id": "58398061-2ac4-4a8d-a89e-e35d6067cbfc",
   "metadata": {},
   "source": [
    "Verifquemos que no haya problemas con valores *NaN* o *infinitos*\n",
    "\n",
    "Valores *NaN*:"
   ]
  },
  {
   "cell_type": "code",
   "execution_count": 93,
   "id": "354b69a6-c6ae-4faa-97c4-25c3f01fdfeb",
   "metadata": {
    "tags": []
   },
   "outputs": [
    {
     "name": "stdout",
     "output_type": "stream",
     "text": [
      "acronimo\n",
      "agente_libre\n",
      "altura\n",
      "anio\n",
      "anio_de_agente_libre\n",
      "anios_de_contrato\n",
      "antiguedad\n",
      "at-bats\n",
      "at-bats_2\n",
      "bateos\n",
      "bateos_2\n",
      "bateos_promedio\n",
      "bateos_promedio_2\n",
      "bono_por_firma\n",
      "cantidad de equipos\n",
      "cantidad_agentes_libres\n",
      "cash\n",
      "dobles\n",
      "dobles_2\n",
      "edad\n",
      "edad_al_firmar\n",
      "equipo\n",
      "estado\n",
      "ganancias\n",
      "home-runs\n",
      "home-runs_2\n",
      "juegos\n",
      "juegos totales\n",
      "juegos_iniciados\n",
      "juegos_iniciados_2\n",
      "jugador\n",
      "pennants won\n",
      "peso\n",
      "playoffs\n",
      "porcentaje_on-base-plus-slugging\n",
      "porcentaje_on-base-plus-slugging_2\n",
      "porcentaje_juegos\n",
      "porcentaje_juegos_iniciados\n",
      "porcentaje_juegos_iniciados_2\n",
      "porcentaje_on-base\n",
      "porcentaje_on-base_2\n",
      "porcentaje_slugging\n",
      "porcentaje_slugging_2\n",
      "posicion\n",
      "promedio_victorias\n",
      "runs-batted-in\n",
      "runs-batted-in_2\n",
      "sueldo_ajustado\n",
      "sueldo_base\n",
      "sueldo_porcentual\n",
      "sueldo_regular\n",
      "tvs\n",
      "triples\n",
      "triples_2\n",
      "valor_contrato_promedio\n",
      "valor_contrato_total\n",
      "valor_del_contrato\n",
      "victorias\n",
      "war\n",
      "war_2\n",
      "ws ganadas\n",
      "ln_sueldo_ajustado\n",
      "ln_sueldo_base\n",
      "ln_sueldo_regular\n"
     ]
    }
   ],
   "source": [
    "for name in df_panel_all_hitter.columns:\n",
    "    print(name)\n",
    "    if type(name) != str:\n",
    "        for element in range(0,len(df_panel_all_hitter[name])):\n",
    "            if pd.isna(df_panel_all_hitter[name].iloc[element]) == True:\n",
    "                print(str(element) +  '  ' + str(df_panel_all_hitter[name].iloc[element]))"
   ]
  },
  {
   "cell_type": "code",
   "execution_count": 94,
   "id": "0f698c92-e7e1-4bb1-ac17-7134a78612e0",
   "metadata": {
    "tags": []
   },
   "outputs": [
    {
     "name": "stdout",
     "output_type": "stream",
     "text": [
      "acronimo\n",
      "agente_libre\n",
      "altura\n",
      "anio\n",
      "anio_de_agente_libre\n",
      "anios_de_contrato\n",
      "antiguedad\n",
      "bateos\n",
      "bateos_2\n",
      "bono_por_firma\n",
      "cantidad de equipos\n",
      "cantidad_agentes_libres\n",
      "carreras\n",
      "carreras_2\n",
      "carreras_ganadas\n",
      "carreras_ganadas_2\n",
      "cash\n",
      "comando\n",
      "comando_2\n",
      "control\n",
      "control_2\n",
      "dominio\n",
      "dominio_2\n",
      "era\n",
      "era_2\n",
      "edad\n",
      "edad_al_firmar\n",
      "equipo\n",
      "estado\n",
      "ganancias\n",
      "inning_pitched\n",
      "inning_pitched_2\n",
      "juegos\n",
      "juegos totales\n",
      "juegos_iniciados\n",
      "juegos_iniciados_2\n",
      "jugador\n",
      "losses\n",
      "losses_2\n",
      "pennants won\n",
      "peso\n",
      "playoffs\n",
      "porcentaje_juegos\n",
      "posicion\n",
      "promedio_victorias\n",
      "saves\n",
      "saves_2\n",
      "strike-outs\n",
      "strike-outs_2\n",
      "sueldo_ajustado\n",
      "sueldo_base\n",
      "sueldo_porcentual\n",
      "sueldo_regular\n",
      "tvs\n",
      "valor_contrato_promedio\n",
      "valor_contrato_total\n",
      "valor_del_contrato\n",
      "victorias\n",
      "war\n",
      "war_2\n",
      "whip\n",
      "whip_2\n",
      "ws ganadas\n",
      "walks\n",
      "walks_2\n",
      "wins\n",
      "wins_2\n",
      "ln_sueldo_ajustado\n",
      "ln_sueldo_base\n",
      "ln_sueldo_regular\n"
     ]
    }
   ],
   "source": [
    "for name in df_panel_all_pitcher.columns:\n",
    "    print(name)\n",
    "    if type(name) != str:\n",
    "        for element in range(0,len(df_panel_all_pitcher[name])):\n",
    "            if pd.isna(df_panel_all_pitcher[name].iloc[element]) == True:\n",
    "                print(str(element) +  '  ' + str(df_panel_all_pitcher[name].iloc[element]))"
   ]
  },
  {
   "cell_type": "markdown",
   "id": "cf8b64ac-d03b-443a-beed-6cab902ea50f",
   "metadata": {},
   "source": [
    "Valores *infinitos*"
   ]
  },
  {
   "cell_type": "code",
   "execution_count": 95,
   "id": "06b581ff-9434-4427-ac48-3269684d65b1",
   "metadata": {
    "tags": []
   },
   "outputs": [
    {
     "name": "stdout",
     "output_type": "stream",
     "text": [
      "acronimo\n",
      "agente_libre\n",
      "altura\n",
      "anio\n",
      "anio_de_agente_libre\n",
      "anios_de_contrato\n",
      "antiguedad\n",
      "at-bats\n",
      "at-bats_2\n",
      "bateos\n",
      "bateos_2\n",
      "bateos_promedio\n",
      "bateos_promedio_2\n",
      "bono_por_firma\n",
      "cantidad de equipos\n",
      "cantidad_agentes_libres\n",
      "cash\n",
      "dobles\n",
      "dobles_2\n",
      "edad\n",
      "edad_al_firmar\n",
      "equipo\n",
      "estado\n",
      "ganancias\n",
      "home-runs\n",
      "home-runs_2\n",
      "juegos\n",
      "juegos totales\n",
      "juegos_iniciados\n",
      "juegos_iniciados_2\n",
      "jugador\n",
      "pennants won\n",
      "peso\n",
      "playoffs\n",
      "porcentaje_on-base-plus-slugging\n",
      "porcentaje_on-base-plus-slugging_2\n",
      "porcentaje_juegos\n",
      "porcentaje_juegos_iniciados\n",
      "porcentaje_juegos_iniciados_2\n",
      "porcentaje_on-base\n",
      "porcentaje_on-base_2\n",
      "porcentaje_slugging\n",
      "porcentaje_slugging_2\n",
      "posicion\n",
      "promedio_victorias\n",
      "runs-batted-in\n",
      "runs-batted-in_2\n",
      "sueldo_ajustado\n",
      "sueldo_base\n",
      "sueldo_porcentual\n",
      "sueldo_regular\n",
      "tvs\n",
      "triples\n",
      "triples_2\n",
      "valor_contrato_promedio\n",
      "valor_contrato_total\n",
      "valor_del_contrato\n",
      "victorias\n",
      "war\n",
      "war_2\n",
      "ws ganadas\n",
      "ln_sueldo_ajustado\n",
      "ln_sueldo_base\n",
      "ln_sueldo_regular\n"
     ]
    }
   ],
   "source": [
    "for name in df_panel_all_hitter.columns:\n",
    "    print(name)\n",
    "    if type(name) != str:\n",
    "        for element in range(0,len(df_panel_all_hitter[name])):\n",
    "            if math.isinf(df_panel_all_hitter[name].iloc[element]) == True:\n",
    "                print(str(element) +  '  ' + str(df_panel_all_hitter[name].iloc[element]))"
   ]
  },
  {
   "cell_type": "code",
   "execution_count": 96,
   "id": "d6b69716-bd42-4e4c-b684-2f295ecab214",
   "metadata": {
    "tags": []
   },
   "outputs": [
    {
     "name": "stdout",
     "output_type": "stream",
     "text": [
      "acronimo\n",
      "agente_libre\n",
      "altura\n",
      "anio\n",
      "anio_de_agente_libre\n",
      "anios_de_contrato\n",
      "antiguedad\n",
      "bateos\n",
      "bateos_2\n",
      "bono_por_firma\n",
      "cantidad de equipos\n",
      "cantidad_agentes_libres\n",
      "carreras\n",
      "carreras_2\n",
      "carreras_ganadas\n",
      "carreras_ganadas_2\n",
      "cash\n",
      "comando\n",
      "comando_2\n",
      "control\n",
      "control_2\n",
      "dominio\n",
      "dominio_2\n",
      "era\n",
      "era_2\n",
      "edad\n",
      "edad_al_firmar\n",
      "equipo\n",
      "estado\n",
      "ganancias\n",
      "inning_pitched\n",
      "inning_pitched_2\n",
      "juegos\n",
      "juegos totales\n",
      "juegos_iniciados\n",
      "juegos_iniciados_2\n",
      "jugador\n",
      "losses\n",
      "losses_2\n",
      "pennants won\n",
      "peso\n",
      "playoffs\n",
      "porcentaje_juegos\n",
      "posicion\n",
      "promedio_victorias\n",
      "saves\n",
      "saves_2\n",
      "strike-outs\n",
      "strike-outs_2\n",
      "sueldo_ajustado\n",
      "sueldo_base\n",
      "sueldo_porcentual\n",
      "sueldo_regular\n",
      "tvs\n",
      "valor_contrato_promedio\n",
      "valor_contrato_total\n",
      "valor_del_contrato\n",
      "victorias\n",
      "war\n",
      "war_2\n",
      "whip\n",
      "whip_2\n",
      "ws ganadas\n",
      "walks\n",
      "walks_2\n",
      "wins\n",
      "wins_2\n",
      "ln_sueldo_ajustado\n",
      "ln_sueldo_base\n",
      "ln_sueldo_regular\n"
     ]
    }
   ],
   "source": [
    "for name in df_panel_all_pitcher.columns:\n",
    "    print(name)\n",
    "    if type(name) != str:\n",
    "        for element in range(0,len(df_panel_all_pitcher[name])):\n",
    "            if math.isinf(df_panel_all_pitcher[name].iloc[element]) == True:\n",
    "                print(str(element) +  '  ' + str(df_panel_all_pitcher[name].iloc[element]))"
   ]
  },
  {
   "cell_type": "code",
   "execution_count": 97,
   "id": "4642a0ff-2166-4733-9446-0ee561a8fd84",
   "metadata": {},
   "outputs": [],
   "source": [
    "df_panel_all_hitter.sort_index(axis = 1, inplace = True)\n",
    "df_panel_all_pitcher.sort_index(axis = 1, inplace = True)"
   ]
  },
  {
   "cell_type": "code",
   "execution_count": 98,
   "id": "2e4e506e-22a5-4ba7-8ece-58181453a86f",
   "metadata": {},
   "outputs": [
    {
     "name": "stdout",
     "output_type": "stream",
     "text": [
      "No    6223\n",
      "Si     993\n",
      "Name: agente_libre, dtype: int64\n",
      "No    5156\n",
      "Si     865\n",
      "Name: agente_libre, dtype: int64\n"
     ]
    }
   ],
   "source": [
    "# Count the number of occurrences of each category\n",
    "category_counts_hitter = df_panel_all_hitter['agente_libre'].value_counts()\n",
    "df_panel_all_pitcher = df_panel_all_pitcher['agente_libre'].value_counts()\n",
    "\n",
    "# Print the result\n",
    "print(category_counts_hitter)\n",
    "print(df_panel_all_pitcher)"
   ]
  },
  {
   "cell_type": "code",
   "execution_count": 99,
   "id": "aec43f03-0e2c-4d43-8ac4-3495c85e5c1d",
   "metadata": {},
   "outputs": [
    {
     "data": {
      "text/plain": [
       "6021"
      ]
     },
     "execution_count": 99,
     "metadata": {},
     "output_type": "execute_result"
    }
   ],
   "source": [
    "5156 + 865"
   ]
  },
  {
   "cell_type": "markdown",
   "id": "9a95fe7d-5fbe-4bc3-8c5f-54aa9c2dd806",
   "metadata": {},
   "source": [
    "Exportemos los paneles"
   ]
  },
  {
   "cell_type": "code",
   "execution_count": 100,
   "id": "1e3fbda7-8b7f-46c1-8b94-fdca8b375a92",
   "metadata": {},
   "outputs": [],
   "source": [
    "general_visual_path = 'ETL_Data/Panel/Cumulative/Visualizations/'"
   ]
  },
  {
   "cell_type": "code",
   "execution_count": 101,
   "id": "01e1a23a-a260-47e4-847a-4ee834218bf2",
   "metadata": {},
   "outputs": [],
   "source": [
    "df_panel_all_hitter.to_csv(general_visual_path + 'visual_panel' + '.csv',\n",
    "                           index = False)\n",
    "df_panel_all_pitcher.to_csv(general_visual_path + 'visual_panel' + '.csv',\n",
    "                            index = False)"
   ]
  }
 ],
 "metadata": {
  "kernelspec": {
   "display_name": "Python 3 (ipykernel)",
   "language": "python",
   "name": "python3"
  },
  "language_info": {
   "codemirror_mode": {
    "name": "ipython",
    "version": 3
   },
   "file_extension": ".py",
   "mimetype": "text/x-python",
   "name": "python",
   "nbconvert_exporter": "python",
   "pygments_lexer": "ipython3",
   "version": "3.9.16"
  }
 },
 "nbformat": 4,
 "nbformat_minor": 5
}
