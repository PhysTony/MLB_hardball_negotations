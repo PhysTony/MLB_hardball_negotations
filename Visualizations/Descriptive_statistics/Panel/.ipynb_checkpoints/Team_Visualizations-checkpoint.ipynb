{
 "cells": [
  {
   "cell_type": "markdown",
   "id": "fbec0a9f-f519-45f5-a1dd-0c5981c5f6dc",
   "metadata": {},
   "source": [
    "# Players dataframes with t-1 variables\n",
    "\n",
    "En este script nos dedicaremos a crear una base de datos limpia segmentada por hitters y pitchers. Debido a que es totalmente análogo al script para variables del mismo periodo $t$, se omitirán solo las explicaciones del código reutilizado.\n",
    "\n",
    "- **Visualización del contenido de las bases de datos.**\n",
    "- **Limpieza de la base de datos y exportación.**\n",
    "- **Creación de indicador de si el jugador es agente libre.**"
   ]
  },
  {
   "cell_type": "code",
   "execution_count": 13,
   "id": "fd1d4479-83da-4f97-9e8f-adbe85c27b80",
   "metadata": {},
   "outputs": [
    {
     "name": "stdout",
     "output_type": "stream",
     "text": [
      "Modulos importados\n"
     ]
    }
   ],
   "source": [
    "import pandas as pd\n",
    "import numpy as np\n",
    "import math\n",
    "import os\n",
    "import warnings\n",
    "import statsmodels.api as sm\n",
    "from matplotlib.colors import ListedColormap\n",
    "import matplotlib.pyplot as plt\n",
    "from matplotlib import rc, rcParams\n",
    "from matplotlib import ticker\n",
    "from matplotlib import cm\n",
    "import matplotlib.gridspec as gridspec\n",
    "import seaborn as sns\n",
    "import plotly\n",
    "from termcolor import colored\n",
    "print('Modulos importados')"
   ]
  },
  {
   "cell_type": "code",
   "execution_count": 4,
   "id": "282e7ef1-c6cf-488b-96e5-37490423ecc4",
   "metadata": {},
   "outputs": [],
   "source": [
    "# Configuraciones\n",
    "warnings.filterwarnings('ignore')"
   ]
  },
  {
   "cell_type": "code",
   "execution_count": 6,
   "id": "cbeb2c6b-6db3-45f6-b706-7e6b9bf129e6",
   "metadata": {},
   "outputs": [
    {
     "name": "stdout",
     "output_type": "stream",
     "text": [
      "Directorio de trabajo previo: C:\\Users\\metal\\Documents\\Github\\MLB_hardball_negotations\\Visualizations\\Descriptive_statistics\\Panel\n"
     ]
    }
   ],
   "source": [
    "# Directorio de trabajo\n",
    "print(\"Directorio de trabajo previo: \" + str(os.getcwd()))\n",
    "# Cambiemoslo\n",
    "os.chdir('C:/Users/metal/Documents/Github/MLB_hardball_negotations/')"
   ]
  },
  {
   "cell_type": "code",
   "execution_count": 7,
   "id": "2a55d4be-1fda-4ab2-a11a-3049bd6d5eb8",
   "metadata": {},
   "outputs": [
    {
     "name": "stdout",
     "output_type": "stream",
     "text": [
      "C:\\Users\\metal\\Documents\\Github\\MLB_hardball_negotations\n",
      "Nuevo directorio de trabajo: None\n"
     ]
    }
   ],
   "source": [
    "# Veamos el directorio actual de trabajo\n",
    "print(os.getcwd())\n",
    "# El directorio anterior es el correcto, pero si no lo fuese, hacemos lo sigueinte:\n",
    "path = \"C:/Users/metal/Documents/Github/MLB_hardball_negotations\"\n",
    "print(\"Nuevo directorio de trabajo: \" + str(os.chdir(path)))"
   ]
  },
  {
   "cell_type": "markdown",
   "id": "bd9e9480-ac24-457c-9a2c-ad8f4dc3d327",
   "metadata": {},
   "source": [
    "## Visualización de las bases de datos"
   ]
  },
  {
   "cell_type": "code",
   "execution_count": 8,
   "id": "bf45a73b-0299-4657-900b-f81186637607",
   "metadata": {},
   "outputs": [],
   "source": [
    "import_path = 'ETL_Data/Panel/General/Teams/teams_panel.csv'"
   ]
  },
  {
   "cell_type": "code",
   "execution_count": 11,
   "id": "8284e0ec-e487-4385-ad32-12165b56cf3d",
   "metadata": {},
   "outputs": [
    {
     "name": "stdout",
     "output_type": "stream",
     "text": [
      "Las dimensiones del panel son: (349, 16)\n"
     ]
    },
    {
     "data": {
      "text/html": [
       "<div>\n",
       "<style scoped>\n",
       "    .dataframe tbody tr th:only-of-type {\n",
       "        vertical-align: middle;\n",
       "    }\n",
       "\n",
       "    .dataframe tbody tr th {\n",
       "        vertical-align: top;\n",
       "    }\n",
       "\n",
       "    .dataframe thead th {\n",
       "        text-align: right;\n",
       "    }\n",
       "</style>\n",
       "<table border=\"1\" class=\"dataframe\">\n",
       "  <thead>\n",
       "    <tr style=\"text-align: right;\">\n",
       "      <th></th>\n",
       "      <th>Acronimo</th>\n",
       "      <th>Equipo</th>\n",
       "      <th>Victorias</th>\n",
       "      <th>Juegos totales</th>\n",
       "      <th>Playoffs</th>\n",
       "      <th>Pennants won</th>\n",
       "      <th>WS ganadas</th>\n",
       "      <th>Anio</th>\n",
       "      <th>Rango</th>\n",
       "      <th>Valor_Corriente</th>\n",
       "      <th>1An_Cambio_Valor%</th>\n",
       "      <th>Valor%</th>\n",
       "      <th>Ingresos_equipo</th>\n",
       "      <th>Ingresos_Operando</th>\n",
       "      <th>Estado</th>\n",
       "      <th>Cantidad de equipos</th>\n",
       "    </tr>\n",
       "  </thead>\n",
       "  <tbody>\n",
       "    <tr>\n",
       "      <th>0</th>\n",
       "      <td>ARI</td>\n",
       "      <td>Arizona Diamondbacks</td>\n",
       "      <td>94</td>\n",
       "      <td>162</td>\n",
       "      <td>5</td>\n",
       "      <td>1</td>\n",
       "      <td>1</td>\n",
       "      <td>2011</td>\n",
       "      <td>20</td>\n",
       "      <td>396.0</td>\n",
       "      <td>4.0</td>\n",
       "      <td>25.0</td>\n",
       "      <td>180</td>\n",
       "      <td>6.2</td>\n",
       "      <td>Arizona</td>\n",
       "      <td>1</td>\n",
       "    </tr>\n",
       "    <tr>\n",
       "      <th>1</th>\n",
       "      <td>ATL</td>\n",
       "      <td>Atlanta Braves</td>\n",
       "      <td>89</td>\n",
       "      <td>162</td>\n",
       "      <td>21</td>\n",
       "      <td>18</td>\n",
       "      <td>3</td>\n",
       "      <td>2011</td>\n",
       "      <td>13</td>\n",
       "      <td>482.0</td>\n",
       "      <td>7.0</td>\n",
       "      <td>0.0</td>\n",
       "      <td>201</td>\n",
       "      <td>22.2</td>\n",
       "      <td>Georgia</td>\n",
       "      <td>1</td>\n",
       "    </tr>\n",
       "    <tr>\n",
       "      <th>2</th>\n",
       "      <td>BAL</td>\n",
       "      <td>Baltimore Orioles</td>\n",
       "      <td>69</td>\n",
       "      <td>162</td>\n",
       "      <td>11</td>\n",
       "      <td>7</td>\n",
       "      <td>3</td>\n",
       "      <td>2011</td>\n",
       "      <td>18</td>\n",
       "      <td>411.0</td>\n",
       "      <td>9.0</td>\n",
       "      <td>37.0</td>\n",
       "      <td>175</td>\n",
       "      <td>25.5</td>\n",
       "      <td>Maryland</td>\n",
       "      <td>1</td>\n",
       "    </tr>\n",
       "    <tr>\n",
       "      <th>3</th>\n",
       "      <td>BOS</td>\n",
       "      <td>Boston Red Sox</td>\n",
       "      <td>90</td>\n",
       "      <td>162</td>\n",
       "      <td>20</td>\n",
       "      <td>12</td>\n",
       "      <td>7</td>\n",
       "      <td>2011</td>\n",
       "      <td>2</td>\n",
       "      <td>912.0</td>\n",
       "      <td>5.0</td>\n",
       "      <td>26.0</td>\n",
       "      <td>272</td>\n",
       "      <td>-1.1</td>\n",
       "      <td>Massachusetts</td>\n",
       "      <td>1</td>\n",
       "    </tr>\n",
       "    <tr>\n",
       "      <th>4</th>\n",
       "      <td>CHC</td>\n",
       "      <td>Chicago Cubs</td>\n",
       "      <td>71</td>\n",
       "      <td>162</td>\n",
       "      <td>16</td>\n",
       "      <td>17</td>\n",
       "      <td>2</td>\n",
       "      <td>2011</td>\n",
       "      <td>4</td>\n",
       "      <td>773.0</td>\n",
       "      <td>6.0</td>\n",
       "      <td>75.0</td>\n",
       "      <td>258</td>\n",
       "      <td>23.4</td>\n",
       "      <td>Illinois</td>\n",
       "      <td>2</td>\n",
       "    </tr>\n",
       "  </tbody>\n",
       "</table>\n",
       "</div>"
      ],
      "text/plain": [
       "  Acronimo                Equipo  Victorias  Juegos totales  Playoffs  \\\n",
       "0      ARI  Arizona Diamondbacks         94             162         5   \n",
       "1      ATL        Atlanta Braves         89             162        21   \n",
       "2      BAL     Baltimore Orioles         69             162        11   \n",
       "3      BOS        Boston Red Sox         90             162        20   \n",
       "4      CHC          Chicago Cubs         71             162        16   \n",
       "\n",
       "   Pennants won  WS ganadas  Anio  Rango  Valor_Corriente  1An_Cambio_Valor%  \\\n",
       "0             1           1  2011     20            396.0                4.0   \n",
       "1            18           3  2011     13            482.0                7.0   \n",
       "2             7           3  2011     18            411.0                9.0   \n",
       "3            12           7  2011      2            912.0                5.0   \n",
       "4            17           2  2011      4            773.0                6.0   \n",
       "\n",
       "   Valor%  Ingresos_equipo  Ingresos_Operando         Estado  \\\n",
       "0    25.0              180                6.2        Arizona   \n",
       "1     0.0              201               22.2        Georgia   \n",
       "2    37.0              175               25.5       Maryland   \n",
       "3    26.0              272               -1.1  Massachusetts   \n",
       "4    75.0              258               23.4       Illinois   \n",
       "\n",
       "   Cantidad de equipos  \n",
       "0                    1  \n",
       "1                    1  \n",
       "2                    1  \n",
       "3                    1  \n",
       "4                    2  "
      ]
     },
     "execution_count": 11,
     "metadata": {},
     "output_type": "execute_result"
    }
   ],
   "source": [
    "general_panel = pd.read_csv(import_path)\n",
    "print(\"Las dimensiones del panel son: \" + str(general_panel.shape))\n",
    "general_panel.head()"
   ]
  },
  {
   "cell_type": "code",
   "execution_count": null,
   "id": "ff273486-1675-47c7-92d3-3b2dce7d76c1",
   "metadata": {},
   "outputs": [],
   "source": [
    "column_names = ['Victorias', 'Juegos totales', 'Playoffs', 'Pennants won', 'WS ganadas', \n",
    "                'Anio', 'Rango', 'Valor_Corriente', '1An_Cambio_Valor%', 'Valor%', \n",
    "                'Ingresos_equipo']"
   ]
  },
  {
   "cell_type": "code",
   "execution_count": 15,
   "id": "d9d22fe8-c9e7-461b-a5d8-5a2389195257",
   "metadata": {},
   "outputs": [
    {
     "data": {
      "image/png": "[encoded data removed]",
      "text/plain": [
       "<Figure size 1200x800 with 1 Axes>"
      ]
     },
     "metadata": {},
     "output_type": "display_data"
    }
   ],
   "source": [
    "plt.figure(figsize=(12, 8))\n",
    "\n",
    "plt.scatter(general_panel['Ingresos_equipo'], general_panel['Victorias'], color=\"magenta\", s=50)\n",
    "plt.title(\"Wins vs Revenue\", fontsize=20, fontweight='bold', color='black')\n",
    "plt.xlabel('Wins', fontsize=16, color='black', fontweight='bold')\n",
    "plt.ylabel('Revenue', fontsize=16, color='black', fontweight='bold')\n",
    "plt.xticks(fontsize=12, color='black')\n",
    "plt.yticks(fontsize=12, color='black')\n",
    "plt.grid(False)  # Desactivar la cuadrícula\n",
    "#\n",
    "plt.show()"
   ]
  }
 ],
 "metadata": {
  "kernelspec": {
   "display_name": "Python 3 (ipykernel)",
   "language": "python",
   "name": "python3"
  },
  "language_info": {
   "codemirror_mode": {
    "name": "ipython",
    "version": 3
   },
   "file_extension": ".py",
   "mimetype": "text/x-python",
   "name": "python",
   "nbconvert_exporter": "python",
   "pygments_lexer": "ipython3",
   "version": "3.9.16"
  }
 },
 "nbformat": 4,
 "nbformat_minor": 5
}
