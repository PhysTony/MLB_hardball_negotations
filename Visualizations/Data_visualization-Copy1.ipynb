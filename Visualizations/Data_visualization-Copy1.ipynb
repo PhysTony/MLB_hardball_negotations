{
 "cells": [
  {
   "cell_type": "markdown",
   "id": "00c88690-b6f0-4432-a073-656e1c1855ca",
   "metadata": {},
   "source": [
    "# Visualizaciones\n",
    "\n",
    "En este script veremos distintos gráficos con el objetivo de ver el comportamiento de las distintas variables entre sí, así como mostrar estadísticas descriptivas."
   ]
  },
  {
   "cell_type": "code",
   "execution_count": 14,
   "id": "d66d609b-c9ad-4c0f-b49b-02f536236c06",
   "metadata": {},
   "outputs": [
    {
     "name": "stdout",
     "output_type": "stream",
     "text": [
      "Modulos importados\n"
     ]
    }
   ],
   "source": [
    "import pandas as pd\n",
    "import numpy as np\n",
    "import math\n",
    "import plotly.express as px\n",
    "import plotly.graph_objects as go\n",
    "import matplotlib as mpl\n",
    "import matplotlib.pyplot as plt\n",
    "from matplotlib import rc, rcParams\n",
    "from matplotlib import ticker\n",
    "from matplotlib import cm\n",
    "import matplotlib.gridspec as gridspec\n",
    "from matplotlib import rcParams\n",
    "import seaborn as sns\n",
    "import plotly\n",
    "import warnings\n",
    "import os\n",
    "from sklearn.impute import SimpleImputer\n",
    "from sklearn.datasets import make_blobs\n",
    "from sklearn.model_selection import train_test_split\n",
    "from sklearn import metrics\n",
    "from sklearn.preprocessing import StandardScaler\n",
    "from sklearn.linear_model import LinearRegression\n",
    "from sklearn.preprocessing import LabelEncoder, OneHotEncoder\n",
    "from sklearn.compose import ColumnTransformer\n",
    "from sklearn.neighbors import KNeighborsClassifier\n",
    "from sklearn.model_selection import cross_val_score\n",
    "from sklearn.metrics import confusion_matrix\n",
    "from matplotlib.colors import ListedColormap\n",
    "from sklearn.cluster import KMeans\n",
    "from sklearn.ensemble import RandomForestClassifier\n",
    "from sklearn.ensemble import GradientBoostingClassifier\n",
    "from sklearn.model_selection import cross_val_score\n",
    "print('Modulos importados')"
   ]
  },
  {
   "cell_type": "code",
   "execution_count": 15,
   "id": "8429cc48-a2d7-480a-8264-4808a82f3400",
   "metadata": {},
   "outputs": [],
   "source": [
    "# Configuraciones\n",
    "warnings.filterwarnings('ignore')\n",
    "# Reduzcamos el número de línea a leer\n",
    "pd.options.display.max_rows = 5"
   ]
  },
  {
   "cell_type": "code",
   "execution_count": 16,
   "id": "60c17a37-f7ea-4182-91d0-92d0e6167a2c",
   "metadata": {},
   "outputs": [
    {
     "name": "stdout",
     "output_type": "stream",
     "text": [
      "Directorio de trabajo previo: /home/usuario/Documentos/Github/Proyectos/MLB_HN\n"
     ]
    }
   ],
   "source": [
    "# Directorio de trabajo\n",
    "print(\"Directorio de trabajo previo: \" + str(os.getcwd()))\n",
    "# Cambiemoslo\n",
    "os.chdir('/home/usuario/Documentos/Github/Proyectos/MLB_HN/')"
   ]
  },
  {
   "cell_type": "code",
   "execution_count": 17,
   "id": "2b5eb8bc-9445-40f8-a4bb-cacc896b0943",
   "metadata": {},
   "outputs": [
    {
     "name": "stdout",
     "output_type": "stream",
     "text": [
      "/home/usuario/Documentos/Github/Proyectos/MLB_HN\n",
      "Nuevo directorio de trabajo: None\n"
     ]
    }
   ],
   "source": [
    "# Veamos el directorio actual de trabajo\n",
    "print(os.getcwd())\n",
    "# El directorio anterior es el correcto, pero si no lo fuese, hacemos lo sigueinte:\n",
    "path = '/home/usuario/Documentos/Github/Proyectos/MLB_HN'\n",
    "print(\"Nuevo directorio de trabajo: \" + str(os.chdir(path)))"
   ]
  },
  {
   "cell_type": "markdown",
   "id": "0c97a380-fcb1-4462-a099-0fcb062e7e00",
   "metadata": {},
   "source": [
    "## Estadísticas descriptivas pde acuerdo a la agencia libre\n",
    "\n",
    "Primero, veremos las estadísticas que engloban datos generales para observar si hay diferencia entre agentes libres y los que no lo son."
   ]
  },
  {
   "cell_type": "code",
   "execution_count": 18,
   "id": "01c54123-8c6d-4580-ac43-b6cb077ccfb7",
   "metadata": {},
   "outputs": [],
   "source": [
    "panel_hitter_path = 'ETL_Data/Agent/First_Year_Contract/Period_t/Free_Agent/Hitters/panel_hitters' + '.csv'\n",
    "panel_pitcher_path = 'ETL_Data/Agent/First_Year_Contract/Period_t/Free_Agent/Pitchers/panel_pitchers' + '.csv'"
   ]
  },
  {
   "cell_type": "code",
   "execution_count": 19,
   "id": "7010c681-a404-4177-817b-b67eeb95d763",
   "metadata": {},
   "outputs": [],
   "source": [
    "df_panel_hitter = pd.read_csv(panel_hitter_path)\n",
    "df_panel_pitcher = pd.read_csv(panel_pitcher_path)"
   ]
  },
  {
   "cell_type": "markdown",
   "id": "0e4cf674-ce31-4ec6-80fc-c19b24914a15",
   "metadata": {},
   "source": [
    "Veamos el contenido de las bases de datos"
   ]
  },
  {
   "cell_type": "code",
   "execution_count": 20,
   "id": "e8d52501-1195-4f24-b9e9-cd8ac6a0baf3",
   "metadata": {},
   "outputs": [
    {
     "name": "stdout",
     "output_type": "stream",
     "text": [
      "<class 'pandas.core.frame.DataFrame'>\n",
      "RangeIndex: 6814 entries, 0 to 6813\n",
      "Data columns (total 65 columns):\n",
      " #   Column                              Non-Null Count  Dtype  \n",
      "---  ------                              --------------  -----  \n",
      " 0   Acronimo                            6814 non-null   object \n",
      " 1   Agente_libre                        6814 non-null   object \n",
      " 2   Altura                              6814 non-null   float64\n",
      " 3   Anio                                6814 non-null   int64  \n",
      " 4   Anio_de_agente_libre                6814 non-null   int64  \n",
      " 5   Anios_de_contrato                   6814 non-null   int64  \n",
      " 6   Antiguedad                          6814 non-null   int64  \n",
      " 7   At-bats                             6814 non-null   int64  \n",
      " 8   At-bats_2                           6814 non-null   int64  \n",
      " 9   Bateos                              6814 non-null   int64  \n",
      " 10  Bateos_2                            6814 non-null   int64  \n",
      " 11  Bateos_promedio                     6814 non-null   float64\n",
      " 12  Bateos_promedio_2                   6814 non-null   float64\n",
      " 13  Bono_por_firma                      6814 non-null   int64  \n",
      " 14  Cantidad de equipos                 6814 non-null   int64  \n",
      " 15  Cantidad_agentes_libres             6814 non-null   int64  \n",
      " 16  Dobles                              6814 non-null   int64  \n",
      " 17  Dobles_2                            6814 non-null   int64  \n",
      " 18  Edad                                6814 non-null   int64  \n",
      " 19  Edad_al_firmar                      6814 non-null   int64  \n",
      " 20  Equipo                              6814 non-null   object \n",
      " 21  Estado                              6814 non-null   object \n",
      " 22  Ganancias                           6814 non-null   int64  \n",
      " 23  Home-runs                           6814 non-null   int64  \n",
      " 24  Home-runs_2                         6814 non-null   int64  \n",
      " 25  Juegos                              6814 non-null   int64  \n",
      " 26  Juegos totales                      6814 non-null   int64  \n",
      " 27  Juegos_iniciados                    6814 non-null   int64  \n",
      " 28  Juegos_iniciados_2                  6814 non-null   int64  \n",
      " 29  Jugador                             6814 non-null   object \n",
      " 30  Pago_efectivo                       6814 non-null   int64  \n",
      " 31  Pennants won                        6814 non-null   int64  \n",
      " 32  Peso                                6814 non-null   int64  \n",
      " 33  Playoffs                            6814 non-null   int64  \n",
      " 34  Porcentaje_On-base-plus-slugging    6814 non-null   float64\n",
      " 35  Porcentaje_On-base-plus-slugging_2  6814 non-null   float64\n",
      " 36  Porcentaje_juegos                   6814 non-null   float64\n",
      " 37  Porcentaje_juegos_iniciados         6814 non-null   float64\n",
      " 38  Porcentaje_juegos_iniciados_2       6814 non-null   float64\n",
      " 39  Porcentaje_on-base                  6814 non-null   float64\n",
      " 40  Porcentaje_on-base_2                6814 non-null   float64\n",
      " 41  Porcentaje_slugging                 6814 non-null   float64\n",
      " 42  Porcentaje_slugging_2               6814 non-null   float64\n",
      " 43  Posicion                            6814 non-null   object \n",
      " 44  Promedio_victorias                  6814 non-null   float64\n",
      " 45  Runs-batted-in                      6814 non-null   int64  \n",
      " 46  Runs-batted-in_2                    6814 non-null   int64  \n",
      " 47  Sueldo_ajustado                     6814 non-null   int64  \n",
      " 48  Sueldo_base                         6814 non-null   int64  \n",
      " 49  Sueldo_porcentual                   6814 non-null   float64\n",
      " 50  Sueldo_regular                      6814 non-null   int64  \n",
      " 51  TVS                                 6814 non-null   float64\n",
      " 52  TVS_2                               6814 non-null   float64\n",
      " 53  Triples                             6814 non-null   int64  \n",
      " 54  Triples_2                           6814 non-null   int64  \n",
      " 55  Valor_contrato_promedio             6814 non-null   int64  \n",
      " 56  Valor_contrato_total                6814 non-null   int64  \n",
      " 57  Valor_del_contrato                  6814 non-null   int64  \n",
      " 58  Victorias                           6814 non-null   int64  \n",
      " 59  WAR                                 6622 non-null   float64\n",
      " 60  WAR_2                               6622 non-null   float64\n",
      " 61  WS ganadas                          6814 non-null   int64  \n",
      " 62  ln_Sueldo_ajustado                  6814 non-null   float64\n",
      " 63  ln_Sueldo_base                      6814 non-null   float64\n",
      " 64  ln_Sueldo_regular                   6814 non-null   float64\n",
      "dtypes: float64(21), int64(38), object(6)\n",
      "memory usage: 3.4+ MB\n"
     ]
    }
   ],
   "source": [
    "df_panel_hitter.info()"
   ]
  },
  {
   "cell_type": "code",
   "execution_count": 10,
   "id": "5f6136b6-cfe6-462b-959d-4e3452d2fc2c",
   "metadata": {},
   "outputs": [
    {
     "name": "stdout",
     "output_type": "stream",
     "text": [
      "<class 'pandas.core.frame.DataFrame'>\n",
      "RangeIndex: 5764 entries, 0 to 5763\n",
      "Data columns (total 69 columns):\n",
      " #   Column                   Non-Null Count  Dtype  \n",
      "---  ------                   --------------  -----  \n",
      " 0   Acronimo                 5764 non-null   object \n",
      " 1   Agente_libre             5764 non-null   object \n",
      " 2   Altura                   5764 non-null   float64\n",
      " 3   Anio                     5764 non-null   int64  \n",
      " 4   Anio_de_agente_libre     5764 non-null   int64  \n",
      " 5   Anios_de_contrato        5764 non-null   int64  \n",
      " 6   Antiguedad               5764 non-null   int64  \n",
      " 7   Bateos_en_contra         5764 non-null   int64  \n",
      " 8   Bateos_en_contra_2       5764 non-null   int64  \n",
      " 9   Bono_por_firma           5764 non-null   int64  \n",
      " 10  Cantidad de equipos      5764 non-null   int64  \n",
      " 11  Cantidad_agentes_libres  5764 non-null   int64  \n",
      " 12  Carreras_en_contra       5764 non-null   int64  \n",
      " 13  Carreras_en_contra_2     5764 non-null   int64  \n",
      " 14  Carreras_ganadas         5764 non-null   int64  \n",
      " 15  Carreras_ganadas_2       5764 non-null   int64  \n",
      " 16  Comando                  5671 non-null   float64\n",
      " 17  Comando_2                5671 non-null   float64\n",
      " 18  Control                  5764 non-null   float64\n",
      " 19  Control_2                5764 non-null   float64\n",
      " 20  Dominio                  5761 non-null   float64\n",
      " 21  Dominio_2                5761 non-null   float64\n",
      " 22  ERA                      5764 non-null   float64\n",
      " 23  ERA_2                    5764 non-null   float64\n",
      " 24  Edad                     5764 non-null   int64  \n",
      " 25  Edad_al_firmar           5764 non-null   int64  \n",
      " 26  Equipo                   5764 non-null   object \n",
      " 27  Estado                   5764 non-null   object \n",
      " 28  Ganancias                5764 non-null   int64  \n",
      " 29  Inning_pitched           5764 non-null   float64\n",
      " 30  Inning_pitched_2         5764 non-null   float64\n",
      " 31  Juegos                   5764 non-null   int64  \n",
      " 32  Juegos totales           5764 non-null   int64  \n",
      " 33  Juegos_iniciados         5764 non-null   int64  \n",
      " 34  Jugador                  5764 non-null   object \n",
      " 35  Losses                   5764 non-null   int64  \n",
      " 36  Losses_2                 5764 non-null   int64  \n",
      " 37  Pago_efectivo            5764 non-null   int64  \n",
      " 38  Pennants won             5764 non-null   int64  \n",
      " 39  Peso                     5764 non-null   int64  \n",
      " 40  Playoffs                 5764 non-null   int64  \n",
      " 41  Posicion                 5764 non-null   object \n",
      " 42  Promedio_victorias       5764 non-null   float64\n",
      " 43  Saves                    5764 non-null   int64  \n",
      " 44  Saves_2                  5764 non-null   int64  \n",
      " 45  Strike-outs              5764 non-null   int64  \n",
      " 46  Strike-outs_2            5764 non-null   int64  \n",
      " 47  Sueldo_ajustado          5764 non-null   int64  \n",
      " 48  Sueldo_base              5764 non-null   int64  \n",
      " 49  Sueldo_porcentual        5764 non-null   float64\n",
      " 50  Sueldo_regular           5764 non-null   int64  \n",
      " 51  TVS                      5764 non-null   float64\n",
      " 52  TVS_2                    5764 non-null   float64\n",
      " 53  Valor_contrato_promedio  5764 non-null   int64  \n",
      " 54  Valor_contrato_total     5764 non-null   int64  \n",
      " 55  Valor_del_contrato       5764 non-null   int64  \n",
      " 56  Victorias                5764 non-null   int64  \n",
      " 57  WAR                      5615 non-null   float64\n",
      " 58  WAR_2                    5615 non-null   float64\n",
      " 59  WHIP                     5764 non-null   float64\n",
      " 60  WHIP_2                   5764 non-null   float64\n",
      " 61  WS ganadas               5764 non-null   int64  \n",
      " 62  Walks                    5764 non-null   int64  \n",
      " 63  Walks_2                  5764 non-null   int64  \n",
      " 64  Wins                     5764 non-null   int64  \n",
      " 65  Wins_2                   5764 non-null   int64  \n",
      " 66  ln_Sueldo_ajustado       5764 non-null   float64\n",
      " 67  ln_Sueldo_base           5764 non-null   float64\n",
      " 68  ln_Sueldo_regular        5764 non-null   float64\n",
      "dtypes: float64(22), int64(41), object(6)\n",
      "memory usage: 3.0+ MB\n"
     ]
    }
   ],
   "source": [
    "df_panel_pitcher.info()"
   ]
  },
  {
   "cell_type": "markdown",
   "id": "b9a669d6-194e-49fc-90cc-ca5d5c7d7d36",
   "metadata": {},
   "source": [
    "### Comparación entre jugadores normales y agentes libres\n",
    "\n",
    "Primero, indiquemos qué variables son de interes para graficar, en este caso, las estadísticas deportivas que son propias tanto de los jugadores que son agentes libres como los que no lo son. Además, son de suma importancia graficar los salarios"
   ]
  },
  {
   "cell_type": "code",
   "execution_count": 13,
   "id": "66836646-e1db-4495-9829-8273481a8151",
   "metadata": {},
   "outputs": [],
   "source": [
    "hitter_statistics = ['At-bats', 'Bateos_promedio', 'Dobles', \n",
    "                     'Home-runs', 'Porcentaje_On-base-plus-slugging',\n",
    "                     'Porcentaje_juegos', 'Porcentaje_juegos_iniciados',\n",
    "                     'Porcentaje_on-base', 'Porcentaje_slugging', 'Runs-batted-in',\n",
    "                     'Triples', 'WAR']\n",
    "pitcher_statistics = ['Bateos_en_contra', 'Carreras_en_contra', 'Carreras_ganadas',\n",
    "                      'Comando', 'Control', 'Dominio', 'ERA', 'Inning_pitched',\n",
    "                      'Porcentaje_juegos', 'Juegos_iniciados', 'Losses', 'Saves',\n",
    "                      'Strike-outs', 'WAR', 'WHIP', 'Walks', 'Wins']"
   ]
  },
  {
   "cell_type": "code",
   "execution_count": null,
   "id": "256236f7-4605-4150-9f4c-b192cfc93a6a",
   "metadata": {},
   "outputs": [],
   "source": []
  },
  {
   "cell_type": "code",
   "execution_count": null,
   "id": "4bb6ec95-9e35-4a36-b2cf-ccf8a9ddaeeb",
   "metadata": {},
   "outputs": [],
   "source": [
    "tittles_train = ['Conjunto de entrenamiento']*Num_reg\n",
    "tittles_test = ['Conjunto de prueba']*Num_reg\n",
    "labels_y = ['Expectativa de vida [años]', 'Índice de calidad de vida', 'Inflación [$\\$$]']"
   ]
  },
  {
   "cell_type": "code",
   "execution_count": null,
   "id": "0674342f-0a38-4ab5-986c-4f07116fcb31",
   "metadata": {},
   "outputs": [],
   "source": [
    "# La lógica de esta gráfica es análoga a anteriores con grid o subplots\n",
    "fig, axes = plt.subplots(3, 2, figsize=(20,20), \n",
    "                         sharey = False, sharex = False)\n",
    "fig.patch.set_facecolor('mintcream')\n",
    "fig.patch.set_alpha(0.99)\n",
    "\n",
    "for i in range(Num_reg):\n",
    "    # Conjunto de entrenamiento\n",
    "    axes[i,0].scatter(X_lr_train_list[i], y_lr_train_list[i], \n",
    "                      color = \"magenta\", s = 50)\n",
    "    axes[i,0].plot(X_lr_train_list[i], regresion_list_lr[i].predict(X_lr_train_list[i]), \n",
    "                   color = \"black\", linewidth = 4)\n",
    "    axes[i,0].set_title(tittles_train[i], \n",
    "                        fontsize = 19, fontweight = 'bold', \n",
    "                        color = 'purple')\n",
    "    axes[i,0].set_xlabel('Log(PIB per cápita)',\n",
    "                         fontsize = 16, color = 'navy',\n",
    "                         fontweight = 'bold')\n",
    "    axes[i,0].set_ylabel(labels_y[i], \n",
    "                         fontsize = 16, color = 'navy',\n",
    "                         fontweight = 'bold')\n",
    "    axes[i,0].tick_params(labelsize = 12,\n",
    "                          labelcolor = 'maroon')\n",
    "    axes[i,0].grid(color = 'royalblue', \n",
    "                   linestyle = '-', alpha = 1)\n",
    "    axes[i,0].patch.set_facecolor('cyan')\n",
    "    axes[i,0].patch.set_alpha(0.8)\n",
    "    \n",
    "    # Conjunto de prueba\n",
    "    axes[i,1].scatter(X_lr_test_list[i], y_lr_test_list[i], \n",
    "                      color = \"cyan\", s = 50)\n",
    "    axes[i,1].plot(X_lr_train_list[i], regresion_list_lr[i].predict(X_lr_train_list[i]), \n",
    "                   color = \"black\", linewidth = 4,\n",
    "                   linestyle = ':')\n",
    "    axes[i,1].set_title(tittles_test[i], \n",
    "                        fontsize = 19, fontweight = 'bold', \n",
    "                        color = 'purple')\n",
    "    axes[i,1].set_xlabel('Log(PIB per cápita)',\n",
    "                         fontsize = 16, color = 'navy',\n",
    "                         fontweight = 'bold')\n",
    "    axes[i,1].set_ylabel(labels_y[i], \n",
    "                         fontsize = 16, color = 'navy',\n",
    "                         fontweight = 'bold')\n",
    "    axes[i,1].tick_params(labelsize = 12,\n",
    "                          labelcolor = 'maroon')\n",
    "    axes[i,1].grid(color = 'yellow', \n",
    "                   linestyle = '-', alpha = 1)\n",
    "    axes[i,1].patch.set_facecolor('magenta')\n",
    "    axes[i,1].patch.set_alpha(0.8)\n",
    "\n",
    "plt.subplots_adjust(wspace = 0.18, hspace = 0.26)\n",
    "plt.savefig(path + \"Imagenes/linear_models.png\")    \n",
    "plt.show()"
   ]
  }
 ],
 "metadata": {
  "kernelspec": {
   "display_name": "Python 3",
   "language": "python",
   "name": "python3"
  },
  "language_info": {
   "codemirror_mode": {
    "name": "ipython",
    "version": 3
   },
   "file_extension": ".py",
   "mimetype": "text/x-python",
   "name": "python",
   "nbconvert_exporter": "python",
   "pygments_lexer": "ipython3",
   "version": "3.8.8"
  }
 },
 "nbformat": 4,
 "nbformat_minor": 5
}
