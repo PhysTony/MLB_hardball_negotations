{
 "cells": [
  {
   "cell_type": "markdown",
   "id": "f867cd03-6641-4138-9aa1-f66a04cecae1",
   "metadata": {},
   "source": [
    "### Estdísticas descriptivas\n",
    "\n",
    "Graficaremos el promedio de todas las variables numéricas desde el año 2011 hasta el año 2021."
   ]
  },
  {
   "cell_type": "code",
   "execution_count": 3,
   "id": "c4fa30b8-9f01-4f6a-84dd-dad1fd752c24",
   "metadata": {},
   "outputs": [
    {
     "name": "stdout",
     "output_type": "stream",
     "text": [
      "Modulos importados\n"
     ]
    }
   ],
   "source": [
    "import pandas as pd\n",
    "import numpy as np\n",
    "import math\n",
    "import plotly.express as px\n",
    "import plotly.graph_objects as go\n",
    "import matplotlib as mpl\n",
    "import matplotlib.pyplot as plt\n",
    "from matplotlib import rc, rcParams\n",
    "from matplotlib import ticker\n",
    "from matplotlib import cm\n",
    "import matplotlib.gridspec as gridspec\n",
    "import seaborn as sns\n",
    "import matplotlib.gridspec as gridspec\n",
    "import os\n",
    "from sklearn.impute import SimpleImputer\n",
    "from sklearn.datasets import make_blobs\n",
    "from sklearn.model_selection import train_test_split\n",
    "from sklearn import metrics\n",
    "from sklearn.preprocessing import StandardScaler\n",
    "from sklearn.linear_model import LinearRegression\n",
    "from sklearn.preprocessing import LabelEncoder, OneHotEncoder\n",
    "from sklearn.compose import ColumnTransformer\n",
    "from sklearn.neighbors import KNeighborsClassifier\n",
    "from sklearn.model_selection import cross_val_score\n",
    "from sklearn.metrics import confusion_matrix\n",
    "from matplotlib.colors import ListedColormap\n",
    "from sklearn.cluster import KMeans\n",
    "from sklearn.ensemble import RandomForestClassifier\n",
    "from sklearn.ensemble import GradientBoostingClassifier\n",
    "from sklearn.model_selection import cross_val_score\n",
    "print('Modulos importados')"
   ]
  },
  {
   "cell_type": "code",
   "execution_count": 4,
   "id": "17c47095-ffe5-47e2-adde-f296c04f9cc1",
   "metadata": {},
   "outputs": [
    {
     "name": "stdout",
     "output_type": "stream",
     "text": [
      "Para modificar el tamaño de todos los gráficos\n"
     ]
    }
   ],
   "source": [
    "print(\"Para modificar el tamaño de todos los gráficos\")\n",
    "from matplotlib import rcParams\n",
    "rcParams['figure.figsize'] = 15,9"
   ]
  },
  {
   "cell_type": "code",
   "execution_count": 5,
   "id": "f88945c4-2a8f-4f2b-b9d1-53b6eaa91ebc",
   "metadata": {},
   "outputs": [
    {
     "name": "stdout",
     "output_type": "stream",
     "text": [
      "Para que no nos molesten los mensajes de advertencia.\n"
     ]
    }
   ],
   "source": [
    "print(\"Para que no nos molesten los mensajes de advertencia.\")\n",
    "import warnings\n",
    "warnings.filterwarnings('ignore')"
   ]
  },
  {
   "cell_type": "code",
   "execution_count": 6,
   "id": "04aac9d4-df32-45b0-828a-38e1407c7153",
   "metadata": {},
   "outputs": [],
   "source": [
    "# Reduzcamos el número de línea a leer\n",
    "pd.options.display.max_rows = 10"
   ]
  },
  {
   "cell_type": "code",
   "execution_count": 66,
   "id": "dac403f3-623d-41af-890b-87a25e7b595a",
   "metadata": {},
   "outputs": [],
   "source": [
    "# Años:\n",
    "anios = [2011 + i for i in range(10)]\n",
    "# Promedios de agentes libres:\n",
    "promedio_valor_contrato_hitters_free_agents = [None]*10\n",
    "promedio_porcentaje_juegos_hitters_free_agents = [None]*10\n",
    "promedio_RBI_hitters_free_agents = [None]*10\n",
    "promedio_porcentaje_bateo_hitters_free_agents = [None]*10\n",
    "promedio_OPS_hitters_free_agents = [None]*10\n",
    "promedio_sueldo_hitters_free_agents = [None]*10\n",
    "promedio_valor_contrato_pitchers_free_agents = [None]*10\n",
    "promedio_juegos_pitchers_free_agents = [None]*10\n",
    "promedio_wins_pitchers_free_agents = [None]*10\n",
    "promedio_saves_pitchers_free_agents = [None]*10\n",
    "promedio_WHIP_pitchers_free_agents = [None]*10\n",
    "promedio_ERA_pitchers_free_agents = [None]*10\n",
    "promedio_sueldo_pitchers_free_agents = [None]*10\n",
    "# Promedios de no agentes libres:\n",
    "promedio_valor_contrato_hitters_no_free_agents = [None]*10\n",
    "promedio_porcentaje_juegos_hitters_no_free_agents = [None]*10\n",
    "promedio_RBI_hitters_no_free_agents = [None]*10\n",
    "promedio_porcentaje_bateo_hitters_no_free_agents = [None]*10\n",
    "promedio_OPS_hitters_no_free_agents = [None]*10\n",
    "promedio_sueldo_hitters_no_free_agents = [None]*10\n",
    "promedio_valor_contrato_pitchers_no_free_agents = [None]*10\n",
    "promedio_juegos_pitchers_no_free_agents = [None]*10\n",
    "promedio_wins_pitchers_no_free_agents = [None]*10\n",
    "promedio_saves_pitchers_no_free_agents = [None]*10\n",
    "promedio_WHIP_pitchers_no_free_agents = [None]*10\n",
    "promedio_ERA_pitchers_no_free_agents = [None]*10\n",
    "promedio_sueldo_pitchers_no_free_agents = [None]*10"
   ]
  },
  {
   "cell_type": "code",
   "execution_count": 67,
   "id": "450a2ef7-2de9-4fce-bf49-b0c6a7ec2ea2",
   "metadata": {},
   "outputs": [],
   "source": [
    "for i in range(0,10):\n",
    "    # Promedios de agentes libres:\n",
    "    promedio_valor_contrato_hitters_free_agents[i] = df_hitters_free_agents[i]['Valor_contrato_' + str(2011 + i)].mean(axis = 0, skipna = True)\n",
    "    promedio_porcentaje_juegos_hitters_free_agents[i] = df_hitters_free_agents[i]['Porcetnaje_juegos_' + str(2011 + i)].mean(axis = 0, skipna = True)\n",
    "    promedio_RBI_hitters_free_agents[i] = df_hitters_free_agents[i]['RBI_' + str(2011 + i)].mean(axis = 0, skipna = True)\n",
    "    promedio_porcentaje_bateo_hitters_free_agents[i] = df_hitters_free_agents[i]['Porcentaje_bateo_' + str(2011 + i)].mean(axis = 0, skipna = True)\n",
    "    promedio_OPS_hitters_free_agents[i] = df_hitters_free_agents[i]['OPS_' + str(2011 + i)].mean(axis = 0, skipna = True)\n",
    "    promedio_sueldo_hitters_free_agents[i] = df_hitters_free_agents[i]['Sueldo_' + str(2011 + i)].mean(axis = 0, skipna = True)\n",
    "    promedio_valor_contrato_pitchers_free_agents[i] = df_pitchers_free_agents[i]['Valor_contrato_' + str(2011 + i)].mean(axis = 0, skipna = True)\n",
    "    promedio_juegos_pitchers_free_agents[i] = df_pitchers_free_agents[i]['Juegos_' + str(2011 + i)].mean(axis = 0, skipna = True)\n",
    "    promedio_wins_pitchers_free_agents[i] = df_pitchers_free_agents[i]['Wins_' + str(2011 + i)].mean(axis = 0, skipna = True)\n",
    "    promedio_saves_pitchers_free_agents[i] = df_pitchers_free_agents[i]['Saves_' + str(2011 + i)].mean(axis = 0, skipna = True)\n",
    "    promedio_WHIP_pitchers_free_agents[i] = df_pitchers_free_agents[i]['WHIP_' + str(2011 + i)].mean(axis = 0, skipna = True)\n",
    "    promedio_ERA_pitchers_free_agents[i] = df_pitchers_free_agents[i]['ERA_' + str(2011 + i)].mean(axis = 0, skipna = True)\n",
    "    promedio_sueldo_pitchers_free_agents[i] = df_pitchers_free_agents[i]['Sueldo_' + str(2011 + i)].mean(axis = 0, skipna = True)\n",
    "    \n",
    "    # Promedios de no agentes libres:\n",
    "    promedio_porcentaje_juegos_hitters_no_free_agents[i] = df_hitters_no_free_agents[i]['Porcetnaje_juegos_' + str(2011 + i)].mean(axis = 0, skipna = True)\n",
    "    promedio_RBI_hitters_no_free_agents[i] = df_hitters_no_free_agents[i]['RBI_' + str(2011 + i)].mean(axis = 0, skipna = True)\n",
    "    promedio_porcentaje_bateo_hitters_no_free_agents[i] = df_hitters_no_free_agents[i]['Porcentaje_bateo_' + str(2011 + i)].mean(axis = 0, skipna = True)\n",
    "    promedio_OPS_hitters_no_free_agents[i] = df_hitters_no_free_agents[i]['OPS_' + str(2011 + i)].mean(axis = 0, skipna = True)\n",
    "    promedio_sueldo_hitters_no_free_agents[i] = df_hitters_no_free_agents[i]['Sueldo_' + str(2011 + i)].mean(axis = 0, skipna = True)\n",
    "    promedio_juegos_pitchers_no_free_agents[i] = df_pitchers_no_free_agents[i]['Juegos_' + str(2011 + i)].mean(axis = 0, skipna = True)\n",
    "    promedio_wins_pitchers_no_free_agents[i] = df_pitchers_no_free_agents[i]['Wins_' + str(2011 + i)].mean(axis = 0, skipna = True)\n",
    "    promedio_saves_pitchers_no_free_agents[i] = df_pitchers_no_free_agents[i]['Saves_' + str(2011 + i)].mean(axis = 0, skipna = True)\n",
    "    promedio_WHIP_pitchers_no_free_agents[i] = df_pitchers_no_free_agents[i]['WHIP_' + str(2011 + i)].mean(axis = 0, skipna = True)\n",
    "    promedio_ERA_pitchers_no_free_agents[i] = df_pitchers_no_free_agents[i]['ERA_' + str(2011 + i)].mean(axis = 0, skipna = True)\n",
    "    promedio_sueldo_pitchers_no_free_agents[i] = df_pitchers_no_free_agents[i]['Sueldo_' + str(2011 + i)].mean(axis = 0, skipna = True)"
   ]
  },
  {
   "cell_type": "code",
   "execution_count": null,
   "id": "9848f65c-92ab-4dd8-9e14-db8b78e8f04a",
   "metadata": {},
   "outputs": [],
   "source": []
  }
 ],
 "metadata": {
  "kernelspec": {
   "display_name": "Python 3",
   "language": "python",
   "name": "python3"
  },
  "language_info": {
   "codemirror_mode": {
    "name": "ipython",
    "version": 3
   },
   "file_extension": ".py",
   "mimetype": "text/x-python",
   "name": "python",
   "nbconvert_exporter": "python",
   "pygments_lexer": "ipython3",
   "version": "3.8.8"
  }
 },
 "nbformat": 4,
 "nbformat_minor": 5
}
