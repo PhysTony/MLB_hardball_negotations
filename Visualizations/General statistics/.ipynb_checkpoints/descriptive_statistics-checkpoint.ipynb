{
 "cells": [
  {
   "cell_type": "markdown",
   "id": "f867cd03-6641-4138-9aa1-f66a04cecae1",
   "metadata": {},
   "source": [
    "### Estdísticas descriptivas\n",
    "\n",
    "Graficaremos el promedio de todas las variables numéricas desde el año 2011 hasta el año 2021."
   ]
  },
  {
   "cell_type": "code",
   "execution_count": 2,
   "id": "c4fa30b8-9f01-4f6a-84dd-dad1fd752c24",
   "metadata": {},
   "outputs": [
    {
     "name": "stdout",
     "output_type": "stream",
     "text": [
      "Modulos importados\n"
     ]
    }
   ],
   "source": [
    "import pandas as pd\n",
    "import numpy as np\n",
    "import math\n",
    "import plotly.express as px\n",
    "import plotly.graph_objects as go\n",
    "import matplotlib as mpl\n",
    "import matplotlib.pyplot as plt\n",
    "from matplotlib import rc, rcParams\n",
    "from matplotlib import ticker\n",
    "from matplotlib import cm\n",
    "import matplotlib.gridspec as gridspec\n",
    "import seaborn as sns\n",
    "import matplotlib.gridspec as gridspec\n",
    "import os\n",
    "from sklearn.impute import SimpleImputer\n",
    "from sklearn.datasets import make_blobs\n",
    "from sklearn.model_selection import train_test_split\n",
    "from sklearn import metrics\n",
    "from sklearn.preprocessing import StandardScaler\n",
    "from sklearn.linear_model import LinearRegression\n",
    "from sklearn.preprocessing import LabelEncoder, OneHotEncoder\n",
    "from sklearn.compose import ColumnTransformer\n",
    "from sklearn.neighbors import KNeighborsClassifier\n",
    "from sklearn.model_selection import cross_val_score\n",
    "from sklearn.metrics import confusion_matrix\n",
    "from matplotlib.colors import ListedColormap\n",
    "from sklearn.cluster import KMeans\n",
    "from sklearn.ensemble import RandomForestClassifier\n",
    "from sklearn.ensemble import GradientBoostingClassifier\n",
    "from sklearn.model_selection import cross_val_score\n",
    "print('Modulos importados')"
   ]
  },
  {
   "cell_type": "code",
   "execution_count": 3,
   "id": "17c47095-ffe5-47e2-adde-f296c04f9cc1",
   "metadata": {},
   "outputs": [
    {
     "name": "stdout",
     "output_type": "stream",
     "text": [
      "Para modificar el tamaño de todos los gráficos\n"
     ]
    }
   ],
   "source": [
    "print(\"Para modificar el tamaño de todos los gráficos\")\n",
    "from matplotlib import rcParams\n",
    "rcParams['figure.figsize'] = 15,9"
   ]
  },
  {
   "cell_type": "code",
   "execution_count": 4,
   "id": "f88945c4-2a8f-4f2b-b9d1-53b6eaa91ebc",
   "metadata": {},
   "outputs": [
    {
     "name": "stdout",
     "output_type": "stream",
     "text": [
      "Para que no nos molesten los mensajes de advertencia.\n"
     ]
    }
   ],
   "source": [
    "print(\"Para que no nos molesten los mensajes de advertencia.\")\n",
    "import warnings\n",
    "warnings.filterwarnings('ignore')"
   ]
  },
  {
   "cell_type": "code",
   "execution_count": 8,
   "id": "c56cf357-9988-4ae7-ab37-1008b108b23c",
   "metadata": {},
   "outputs": [
    {
     "name": "stdout",
     "output_type": "stream",
     "text": [
      "/home/usuario/Documentos/Github/Proyectos/MLB_HN/Visualizations/General statistics\n",
      "Nuevo directorio de trabajo: None\n"
     ]
    }
   ],
   "source": [
    "# Veamos el directorio actual de trabajo\n",
    "print(os.getcwd())\n",
    "# El directorio anterior es el correcto, pero si no lo fuese, hacemos lo sigueinte:\n",
    "path = '/home/usuario/Documentos/Github/Proyectos/MLB_HN'\n",
    "print(\"Nuevo directorio de trabajo: \" + str(os.chdir(path)))"
   ]
  },
  {
   "cell_type": "code",
   "execution_count": 9,
   "id": "9f15efad-c952-4b0c-adc4-5d3e76c32a77",
   "metadata": {},
   "outputs": [],
   "source": [
    "# Auxiliares:\n",
    "hitters_free_agents = 'ETL_data/Period_t/Free_Agent/Hitters/free_agents_batters_'\n",
    "pitchers_free_agents = 'ETL_data/Period_t/Free_Agent/Pitchers/free_agents_pitchers_'\n",
    "hitters_no_free_agents = 'ETL_data/Period_t/No_Free_Agent/Hitters/no_free_agents_batters_'\n",
    "pitchers_no_free_agents = 'ETL_data/Period_t/No_Free_Agent/Pitchers/no_free_agents_pitchers_'\n",
    "csv = '.csv'\n",
    "period = 11\n",
    "# Originales:\n",
    "df_pitchers_free_agents = [None]*period\n",
    "df_hitters_free_agents = [None]*period\n",
    "df_pitchers_no_free_agents = [None]*period\n",
    "df_hitters_no_free_agents = [None]*period"
   ]
  },
  {
   "cell_type": "code",
   "execution_count": 10,
   "id": "af8e92fb-2941-400d-ad6f-7745a86690f4",
   "metadata": {
    "tags": []
   },
   "outputs": [],
   "source": [
    "for i in range(0,period):    \n",
    "    df_pitchers_free_agents[i] = pd.read_csv(pitchers_free_agents + str(2011 + i) + csv)\n",
    "    df_hitters_free_agents[i] = pd.read_csv(hitters_free_agents + str(2011 + i) + csv)\n",
    "    df_pitchers_no_free_agents[i] = pd.read_csv(pitchers_no_free_agents + str(2011 + i) + csv)\n",
    "    df_hitters_no_free_agents[i] = pd.read_csv(hitters_no_free_agents + str(2011 + i) + csv)"
   ]
  },
  {
   "cell_type": "code",
   "execution_count": 13,
   "id": "563117f7-fa05-4e78-b1b4-e2c2943388af",
   "metadata": {},
   "outputs": [
    {
     "data": {
      "text/plain": [
       "Index(['Acronimo', 'Altura', 'Anio_x', 'Anio_y', 'Anios_contrato',\n",
       "       'Bateos_pitcher', 'Bateos_pitcher_2', 'Cantidad de equipos',\n",
       "       'Cantidad_agentes_libres', 'Carreras', 'Carreras_2', 'Carreras_ganadas',\n",
       "       'Carreras_ganadas_2', 'Comando', 'Comando_2', 'Control', 'Control_2',\n",
       "       'Dominio', 'Dominio_2', 'ERA', 'ERA_2', 'Edad', 'Equipo',\n",
       "       'Equipo_anterior', 'Estado', 'Inning_pitched', 'Inning_pitched_2',\n",
       "       'Juegos', 'Juegos totales', 'Juegos_2', 'Juegos_iniciados',\n",
       "       'Juegos_iniciados_2', 'Jugador', 'Losses', 'Losses_2', 'Pennants won',\n",
       "       'Peso', 'Playoffs', 'Posicion', 'Promedio_victorias', 'Saves',\n",
       "       'Saves_2', 'Status', 'Strike-outs', 'Strike-outs_2', 'Sueldo',\n",
       "       'Sueldo_base', 'Sueldo_regular', 'TVS', 'TVS_2', 'Valor_contrato',\n",
       "       'Valor_contrato_total', 'Valor_promedio_contrato', 'Victorias', 'WAR',\n",
       "       'WAR_2', 'WHIP', 'WHIP_2', 'WS ganadas', 'Walks', 'Walks_2', 'Wins',\n",
       "       'Wins_2', 'ln_Sueldo', 'ln_Sueldo_base', 'ln_Sueldo_regular'],\n",
       "      dtype='object')"
      ]
     },
     "execution_count": 13,
     "metadata": {},
     "output_type": "execute_result"
    }
   ],
   "source": [
    "df_pitchers_free_agents[0].columns"
   ]
  },
  {
   "cell_type": "code",
   "execution_count": null,
   "id": "268cec8f-37d5-4dc7-9677-8c44e36b9a8c",
   "metadata": {},
   "outputs": [],
   "source": []
  },
  {
   "cell_type": "markdown",
   "id": "274a9ff4-5637-48a5-94d9-1a7c715aa78e",
   "metadata": {},
   "source": [
    "Creemos las variables donde se guardaran los puntos a graficar"
   ]
  },
  {
   "cell_type": "code",
   "execution_count": 11,
   "id": "dac403f3-623d-41af-890b-87a25e7b595a",
   "metadata": {},
   "outputs": [],
   "source": [
    "# Años:\n",
    "anios = [2011 + i for i in range(10)]\n",
    "# Promedios de agentes libres:\n",
    "promedio_valor_contrato_hitters_free_agents = [None]*10\n",
    "promedio_porcentaje_juegos_hitters_free_agents = [None]*10\n",
    "promedio_RBI_hitters_free_agents = [None]*10\n",
    "promedio_porcentaje_bateo_hitters_free_agents = [None]*10\n",
    "promedio_OPS_hitters_free_agents = [None]*10\n",
    "promedio_sueldo_hitters_free_agents = [None]*10\n",
    "promedio_valor_contrato_pitchers_free_agents = [None]*10\n",
    "promedio_juegos_pitchers_free_agents = [None]*10\n",
    "promedio_wins_pitchers_free_agents = [None]*10\n",
    "promedio_saves_pitchers_free_agents = [None]*10\n",
    "promedio_WHIP_pitchers_free_agents = [None]*10\n",
    "promedio_ERA_pitchers_free_agents = [None]*10\n",
    "promedio_sueldo_pitchers_free_agents = [None]*10\n",
    "# Promedios de no agentes libres:\n",
    "promedio_valor_contrato_hitters_no_free_agents = [None]*10\n",
    "promedio_porcentaje_juegos_hitters_no_free_agents = [None]*10\n",
    "promedio_RBI_hitters_no_free_agents = [None]*10\n",
    "promedio_porcentaje_bateo_hitters_no_free_agents = [None]*10\n",
    "promedio_OPS_hitters_no_free_agents = [None]*10\n",
    "promedio_sueldo_hitters_no_free_agents = [None]*10\n",
    "promedio_valor_contrato_pitchers_no_free_agents = [None]*10\n",
    "promedio_juegos_pitchers_no_free_agents = [None]*10\n",
    "promedio_wins_pitchers_no_free_agents = [None]*10\n",
    "promedio_saves_pitchers_no_free_agents = [None]*10\n",
    "promedio_WHIP_pitchers_no_free_agents = [None]*10\n",
    "promedio_ERA_pitchers_no_free_agents = [None]*10\n",
    "promedio_sueldo_pitchers_no_free_agents = [None]*10"
   ]
  },
  {
   "cell_type": "code",
   "execution_count": 14,
   "id": "450a2ef7-2de9-4fce-bf49-b0c6a7ec2ea2",
   "metadata": {},
   "outputs": [
    {
     "ename": "KeyError",
     "evalue": "'Valor_contrato2011'",
     "output_type": "error",
     "traceback": [
      "\u001b[0;31m---------------------------------------------------------------------------\u001b[0m",
      "\u001b[0;31mKeyError\u001b[0m                                  Traceback (most recent call last)",
      "\u001b[0;32m~/anaconda3/lib/python3.8/site-packages/pandas/core/indexes/base.py\u001b[0m in \u001b[0;36mget_loc\u001b[0;34m(self, key, method, tolerance)\u001b[0m\n\u001b[1;32m   3079\u001b[0m             \u001b[0;32mtry\u001b[0m\u001b[0;34m:\u001b[0m\u001b[0;34m\u001b[0m\u001b[0;34m\u001b[0m\u001b[0m\n\u001b[0;32m-> 3080\u001b[0;31m                 \u001b[0;32mreturn\u001b[0m \u001b[0mself\u001b[0m\u001b[0;34m.\u001b[0m\u001b[0m_engine\u001b[0m\u001b[0;34m.\u001b[0m\u001b[0mget_loc\u001b[0m\u001b[0;34m(\u001b[0m\u001b[0mcasted_key\u001b[0m\u001b[0;34m)\u001b[0m\u001b[0;34m\u001b[0m\u001b[0;34m\u001b[0m\u001b[0m\n\u001b[0m\u001b[1;32m   3081\u001b[0m             \u001b[0;32mexcept\u001b[0m \u001b[0mKeyError\u001b[0m \u001b[0;32mas\u001b[0m \u001b[0merr\u001b[0m\u001b[0;34m:\u001b[0m\u001b[0;34m\u001b[0m\u001b[0;34m\u001b[0m\u001b[0m\n",
      "\u001b[0;32mpandas/_libs/index.pyx\u001b[0m in \u001b[0;36mpandas._libs.index.IndexEngine.get_loc\u001b[0;34m()\u001b[0m\n",
      "\u001b[0;32mpandas/_libs/index.pyx\u001b[0m in \u001b[0;36mpandas._libs.index.IndexEngine.get_loc\u001b[0;34m()\u001b[0m\n",
      "\u001b[0;32mpandas/_libs/hashtable_class_helper.pxi\u001b[0m in \u001b[0;36mpandas._libs.hashtable.PyObjectHashTable.get_item\u001b[0;34m()\u001b[0m\n",
      "\u001b[0;32mpandas/_libs/hashtable_class_helper.pxi\u001b[0m in \u001b[0;36mpandas._libs.hashtable.PyObjectHashTable.get_item\u001b[0;34m()\u001b[0m\n",
      "\u001b[0;31mKeyError\u001b[0m: 'Valor_contrato2011'",
      "\nThe above exception was the direct cause of the following exception:\n",
      "\u001b[0;31mKeyError\u001b[0m                                  Traceback (most recent call last)",
      "\u001b[0;32m<ipython-input-14-36e65ac07ee1>\u001b[0m in \u001b[0;36m<module>\u001b[0;34m\u001b[0m\n\u001b[1;32m      1\u001b[0m \u001b[0;32mfor\u001b[0m \u001b[0mi\u001b[0m \u001b[0;32min\u001b[0m \u001b[0mrange\u001b[0m\u001b[0;34m(\u001b[0m\u001b[0;36m0\u001b[0m\u001b[0;34m,\u001b[0m\u001b[0;36m10\u001b[0m\u001b[0;34m)\u001b[0m\u001b[0;34m:\u001b[0m\u001b[0;34m\u001b[0m\u001b[0;34m\u001b[0m\u001b[0m\n\u001b[1;32m      2\u001b[0m     \u001b[0;31m# Promedios de agentes libres:\u001b[0m\u001b[0;34m\u001b[0m\u001b[0;34m\u001b[0m\u001b[0;34m\u001b[0m\u001b[0m\n\u001b[0;32m----> 3\u001b[0;31m     \u001b[0mpromedio_valor_contrato_hitters_free_agents\u001b[0m\u001b[0;34m[\u001b[0m\u001b[0mi\u001b[0m\u001b[0;34m]\u001b[0m \u001b[0;34m=\u001b[0m \u001b[0mdf_hitters_free_agents\u001b[0m\u001b[0;34m[\u001b[0m\u001b[0mi\u001b[0m\u001b[0;34m]\u001b[0m\u001b[0;34m[\u001b[0m\u001b[0;34m'Valor_contrato'\u001b[0m \u001b[0;34m+\u001b[0m \u001b[0mstr\u001b[0m\u001b[0;34m(\u001b[0m\u001b[0;36m2011\u001b[0m \u001b[0;34m+\u001b[0m \u001b[0mi\u001b[0m\u001b[0;34m)\u001b[0m\u001b[0;34m]\u001b[0m\u001b[0;34m.\u001b[0m\u001b[0mmean\u001b[0m\u001b[0;34m(\u001b[0m\u001b[0maxis\u001b[0m \u001b[0;34m=\u001b[0m \u001b[0;36m0\u001b[0m\u001b[0;34m,\u001b[0m \u001b[0mskipna\u001b[0m \u001b[0;34m=\u001b[0m \u001b[0;32mTrue\u001b[0m\u001b[0;34m)\u001b[0m\u001b[0;34m\u001b[0m\u001b[0;34m\u001b[0m\u001b[0m\n\u001b[0m\u001b[1;32m      4\u001b[0m     \u001b[0mpromedio_porcentaje_juegos_hitters_free_agents\u001b[0m\u001b[0;34m[\u001b[0m\u001b[0mi\u001b[0m\u001b[0;34m]\u001b[0m \u001b[0;34m=\u001b[0m \u001b[0mdf_hitters_free_agents\u001b[0m\u001b[0;34m[\u001b[0m\u001b[0mi\u001b[0m\u001b[0;34m]\u001b[0m\u001b[0;34m[\u001b[0m\u001b[0;34m'Porcetnaje_juegos_'\u001b[0m \u001b[0;34m+\u001b[0m \u001b[0mstr\u001b[0m\u001b[0;34m(\u001b[0m\u001b[0;36m2011\u001b[0m \u001b[0;34m+\u001b[0m \u001b[0mi\u001b[0m\u001b[0;34m)\u001b[0m\u001b[0;34m]\u001b[0m\u001b[0;34m.\u001b[0m\u001b[0mmean\u001b[0m\u001b[0;34m(\u001b[0m\u001b[0maxis\u001b[0m \u001b[0;34m=\u001b[0m \u001b[0;36m0\u001b[0m\u001b[0;34m,\u001b[0m \u001b[0mskipna\u001b[0m \u001b[0;34m=\u001b[0m \u001b[0;32mTrue\u001b[0m\u001b[0;34m)\u001b[0m\u001b[0;34m\u001b[0m\u001b[0;34m\u001b[0m\u001b[0m\n\u001b[1;32m      5\u001b[0m     \u001b[0mpromedio_RBI_hitters_free_agents\u001b[0m\u001b[0;34m[\u001b[0m\u001b[0mi\u001b[0m\u001b[0;34m]\u001b[0m \u001b[0;34m=\u001b[0m \u001b[0mdf_hitters_free_agents\u001b[0m\u001b[0;34m[\u001b[0m\u001b[0mi\u001b[0m\u001b[0;34m]\u001b[0m\u001b[0;34m[\u001b[0m\u001b[0;34m'RBI_'\u001b[0m \u001b[0;34m+\u001b[0m \u001b[0mstr\u001b[0m\u001b[0;34m(\u001b[0m\u001b[0;36m2011\u001b[0m \u001b[0;34m+\u001b[0m \u001b[0mi\u001b[0m\u001b[0;34m)\u001b[0m\u001b[0;34m]\u001b[0m\u001b[0;34m.\u001b[0m\u001b[0mmean\u001b[0m\u001b[0;34m(\u001b[0m\u001b[0maxis\u001b[0m \u001b[0;34m=\u001b[0m \u001b[0;36m0\u001b[0m\u001b[0;34m,\u001b[0m \u001b[0mskipna\u001b[0m \u001b[0;34m=\u001b[0m \u001b[0;32mTrue\u001b[0m\u001b[0;34m)\u001b[0m\u001b[0;34m\u001b[0m\u001b[0;34m\u001b[0m\u001b[0m\n",
      "\u001b[0;32m~/anaconda3/lib/python3.8/site-packages/pandas/core/frame.py\u001b[0m in \u001b[0;36m__getitem__\u001b[0;34m(self, key)\u001b[0m\n\u001b[1;32m   3022\u001b[0m             \u001b[0;32mif\u001b[0m \u001b[0mself\u001b[0m\u001b[0;34m.\u001b[0m\u001b[0mcolumns\u001b[0m\u001b[0;34m.\u001b[0m\u001b[0mnlevels\u001b[0m \u001b[0;34m>\u001b[0m \u001b[0;36m1\u001b[0m\u001b[0;34m:\u001b[0m\u001b[0;34m\u001b[0m\u001b[0;34m\u001b[0m\u001b[0m\n\u001b[1;32m   3023\u001b[0m                 \u001b[0;32mreturn\u001b[0m \u001b[0mself\u001b[0m\u001b[0;34m.\u001b[0m\u001b[0m_getitem_multilevel\u001b[0m\u001b[0;34m(\u001b[0m\u001b[0mkey\u001b[0m\u001b[0;34m)\u001b[0m\u001b[0;34m\u001b[0m\u001b[0;34m\u001b[0m\u001b[0m\n\u001b[0;32m-> 3024\u001b[0;31m             \u001b[0mindexer\u001b[0m \u001b[0;34m=\u001b[0m \u001b[0mself\u001b[0m\u001b[0;34m.\u001b[0m\u001b[0mcolumns\u001b[0m\u001b[0;34m.\u001b[0m\u001b[0mget_loc\u001b[0m\u001b[0;34m(\u001b[0m\u001b[0mkey\u001b[0m\u001b[0;34m)\u001b[0m\u001b[0;34m\u001b[0m\u001b[0;34m\u001b[0m\u001b[0m\n\u001b[0m\u001b[1;32m   3025\u001b[0m             \u001b[0;32mif\u001b[0m \u001b[0mis_integer\u001b[0m\u001b[0;34m(\u001b[0m\u001b[0mindexer\u001b[0m\u001b[0;34m)\u001b[0m\u001b[0;34m:\u001b[0m\u001b[0;34m\u001b[0m\u001b[0;34m\u001b[0m\u001b[0m\n\u001b[1;32m   3026\u001b[0m                 \u001b[0mindexer\u001b[0m \u001b[0;34m=\u001b[0m \u001b[0;34m[\u001b[0m\u001b[0mindexer\u001b[0m\u001b[0;34m]\u001b[0m\u001b[0;34m\u001b[0m\u001b[0;34m\u001b[0m\u001b[0m\n",
      "\u001b[0;32m~/anaconda3/lib/python3.8/site-packages/pandas/core/indexes/base.py\u001b[0m in \u001b[0;36mget_loc\u001b[0;34m(self, key, method, tolerance)\u001b[0m\n\u001b[1;32m   3080\u001b[0m                 \u001b[0;32mreturn\u001b[0m \u001b[0mself\u001b[0m\u001b[0;34m.\u001b[0m\u001b[0m_engine\u001b[0m\u001b[0;34m.\u001b[0m\u001b[0mget_loc\u001b[0m\u001b[0;34m(\u001b[0m\u001b[0mcasted_key\u001b[0m\u001b[0;34m)\u001b[0m\u001b[0;34m\u001b[0m\u001b[0;34m\u001b[0m\u001b[0m\n\u001b[1;32m   3081\u001b[0m             \u001b[0;32mexcept\u001b[0m \u001b[0mKeyError\u001b[0m \u001b[0;32mas\u001b[0m \u001b[0merr\u001b[0m\u001b[0;34m:\u001b[0m\u001b[0;34m\u001b[0m\u001b[0;34m\u001b[0m\u001b[0m\n\u001b[0;32m-> 3082\u001b[0;31m                 \u001b[0;32mraise\u001b[0m \u001b[0mKeyError\u001b[0m\u001b[0;34m(\u001b[0m\u001b[0mkey\u001b[0m\u001b[0;34m)\u001b[0m \u001b[0;32mfrom\u001b[0m \u001b[0merr\u001b[0m\u001b[0;34m\u001b[0m\u001b[0;34m\u001b[0m\u001b[0m\n\u001b[0m\u001b[1;32m   3083\u001b[0m \u001b[0;34m\u001b[0m\u001b[0m\n\u001b[1;32m   3084\u001b[0m         \u001b[0;32mif\u001b[0m \u001b[0mtolerance\u001b[0m \u001b[0;32mis\u001b[0m \u001b[0;32mnot\u001b[0m \u001b[0;32mNone\u001b[0m\u001b[0;34m:\u001b[0m\u001b[0;34m\u001b[0m\u001b[0;34m\u001b[0m\u001b[0m\n",
      "\u001b[0;31mKeyError\u001b[0m: 'Valor_contrato2011'"
     ]
    }
   ],
   "source": [
    "for i in range(0,10):\n",
    "    # Promedios de agentes libres:\n",
    "    promedio_valor_contrato_hitters_free_agents[i] = df_hitters_free_agents[i]['Valor_contrato' + str(2011 + i)].mean(axis = 0, skipna = True)\n",
    "    promedio_porcentaje_juegos_hitters_free_agents[i] = df_hitters_free_agents[i]['Porcetnaje_juegos_' + str(2011 + i)].mean(axis = 0, skipna = True)\n",
    "    promedio_RBI_hitters_free_agents[i] = df_hitters_free_agents[i]['RBI_' + str(2011 + i)].mean(axis = 0, skipna = True)\n",
    "    promedio_porcentaje_bateo_hitters_free_agents[i] = df_hitters_free_agents[i]['Porcentaje_bateo_' + str(2011 + i)].mean(axis = 0, skipna = True)\n",
    "    promedio_OPS_hitters_free_agents[i] = df_hitters_free_agents[i]['OPS_' + str(2011 + i)].mean(axis = 0, skipna = True)\n",
    "    promedio_sueldo_hitters_free_agents[i] = df_hitters_free_agents[i]['Sueldo_' + str(2011 + i)].mean(axis = 0, skipna = True)\n",
    "    promedio_valor_contrato_pitchers_free_agents[i] = df_pitchers_free_agents[i]['Valor_contrato_' + str(2011 + i)].mean(axis = 0, skipna = True)\n",
    "    promedio_juegos_pitchers_free_agents[i] = df_pitchers_free_agents[i]['Juegos_' + str(2011 + i)].mean(axis = 0, skipna = True)\n",
    "    promedio_wins_pitchers_free_agents[i] = df_pitchers_free_agents[i]['Wins_' + str(2011 + i)].mean(axis = 0, skipna = True)\n",
    "    promedio_saves_pitchers_free_agents[i] = df_pitchers_free_agents[i]['Saves_' + str(2011 + i)].mean(axis = 0, skipna = True)\n",
    "    promedio_WHIP_pitchers_free_agents[i] = df_pitchers_free_agents[i]['WHIP_' + str(2011 + i)].mean(axis = 0, skipna = True)\n",
    "    promedio_ERA_pitchers_free_agents[i] = df_pitchers_free_agents[i]['ERA_' + str(2011 + i)].mean(axis = 0, skipna = True)\n",
    "    promedio_sueldo_pitchers_free_agents[i] = df_pitchers_free_agents[i]['Sueldo_' + str(2011 + i)].mean(axis = 0, skipna = True)\n",
    "    \n",
    "    # Promedios de no agentes libres:\n",
    "    promedio_porcentaje_juegos_hitters_no_free_agents[i] = df_hitters_no_free_agents[i]['Porcetnaje_juegos_' + str(2011 + i)].mean(axis = 0, skipna = True)\n",
    "    promedio_RBI_hitters_no_free_agents[i] = df_hitters_no_free_agents[i]['RBI_' + str(2011 + i)].mean(axis = 0, skipna = True)\n",
    "    promedio_porcentaje_bateo_hitters_no_free_agents[i] = df_hitters_no_free_agents[i]['Porcentaje_bateo_' + str(2011 + i)].mean(axis = 0, skipna = True)\n",
    "    promedio_OPS_hitters_no_free_agents[i] = df_hitters_no_free_agents[i]['OPS_' + str(2011 + i)].mean(axis = 0, skipna = True)\n",
    "    promedio_sueldo_hitters_no_free_agents[i] = df_hitters_no_free_agents[i]['Sueldo_' + str(2011 + i)].mean(axis = 0, skipna = True)\n",
    "    promedio_juegos_pitchers_no_free_agents[i] = df_pitchers_no_free_agents[i]['Juegos_' + str(2011 + i)].mean(axis = 0, skipna = True)\n",
    "    promedio_wins_pitchers_no_free_agents[i] = df_pitchers_no_free_agents[i]['Wins_' + str(2011 + i)].mean(axis = 0, skipna = True)\n",
    "    promedio_saves_pitchers_no_free_agents[i] = df_pitchers_no_free_agents[i]['Saves_' + str(2011 + i)].mean(axis = 0, skipna = True)\n",
    "    promedio_WHIP_pitchers_no_free_agents[i] = df_pitchers_no_free_agents[i]['WHIP_' + str(2011 + i)].mean(axis = 0, skipna = True)\n",
    "    promedio_ERA_pitchers_no_free_agents[i] = df_pitchers_no_free_agents[i]['ERA_' + str(2011 + i)].mean(axis = 0, skipna = True)\n",
    "    promedio_sueldo_pitchers_no_free_agents[i] = df_pitchers_no_free_agents[i]['Sueldo_' + str(2011 + i)].mean(axis = 0, skipna = True)"
   ]
  },
  {
   "cell_type": "code",
   "execution_count": null,
   "id": "9848f65c-92ab-4dd8-9e14-db8b78e8f04a",
   "metadata": {},
   "outputs": [],
   "source": []
  }
 ],
 "metadata": {
  "kernelspec": {
   "display_name": "Python 3",
   "language": "python",
   "name": "python3"
  },
  "language_info": {
   "codemirror_mode": {
    "name": "ipython",
    "version": 3
   },
   "file_extension": ".py",
   "mimetype": "text/x-python",
   "name": "python",
   "nbconvert_exporter": "python",
   "pygments_lexer": "ipython3",
   "version": "3.8.8"
  }
 },
 "nbformat": 4,
 "nbformat_minor": 5
}
