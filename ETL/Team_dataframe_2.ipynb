{
 "cells": [
  {
   "cell_type": "markdown",
   "id": "645dee07-f525-4e79-ad68-d72ec2d581af",
   "metadata": {},
   "source": [
    "# Team dataframes\n",
    "\n",
    "En este apartado creamos la base de datos de los agente libres, pero agregada por equipo. Las secciones mostradas tienen los siguientes propósitos:\n",
    "- Visualización de las bases de datos creadas manualmente.\n",
    "    - Acrónimos de los equipos.\n",
    "    - Victorias anuales\n",
    "- Creación de la base de datos de corte transversal con datos generales del equipo."
   ]
  },
  {
   "cell_type": "markdown",
   "id": "59ced6d8-1e0f-4564-b090-f31d7e061e86",
   "metadata": {},
   "source": [
    "Importemos los modulos necesarios así como especificar la configuración deseada."
   ]
  },
  {
   "cell_type": "code",
   "execution_count": 1,
   "id": "e6fe22e8-28fe-44e0-80c1-2b82952b481b",
   "metadata": {},
   "outputs": [
    {
     "name": "stdout",
     "output_type": "stream",
     "text": [
      "Modulos importados\n"
     ]
    }
   ],
   "source": [
    "import pandas as pd\n",
    "import numpy as np\n",
    "import math\n",
    "import os\n",
    "import warnings\n",
    "print('Modulos importados')"
   ]
  },
  {
   "cell_type": "code",
   "execution_count": 2,
   "id": "b0494034-36fc-4249-a681-39bf89f6d635",
   "metadata": {},
   "outputs": [],
   "source": [
    "# Configuraciones\n",
    "warnings.filterwarnings('ignore')\n",
    "# Reduzcamos el número de línea a leer\n",
    "pd.options.display.max_rows = 5"
   ]
  },
  {
   "cell_type": "code",
   "execution_count": 11,
   "id": "0cda9487-4b12-475b-b393-c799ea2c9c56",
   "metadata": {},
   "outputs": [
    {
     "name": "stdout",
     "output_type": "stream",
     "text": [
      "/home/usuario/Documentos/Github/Proyectos/MLB_HN\n"
     ]
    }
   ],
   "source": [
    "# Veamos el directorio actual de trabajo\n",
    "print(os.getcwd())\n",
    "# El directorio anterior es el correcto, pero si no lo fuese, hacemos lo sigueinte:\n",
    "path = '/home/usuario/Documentos/Github/Proyectos/MLB_HN'\n",
    "os.chdir(path)"
   ]
  },
  {
   "cell_type": "markdown",
   "id": "36899655-f3f9-4cad-9a0c-c80939c218da",
   "metadata": {},
   "source": [
    ":Lo que se hará ahora es crear listas donde guardaremos los datos de interes de las bases de datos a lo largo del periodo de interes."
   ]
  },
  {
   "cell_type": "code",
   "execution_count": 5,
   "id": "207f9bd9-76f5-44a3-8844-67b29ca5aee6",
   "metadata": {},
   "outputs": [],
   "source": [
    "# Años de análisis\n",
    "csv = '.csv'\n",
    "period = 11\n",
    "team_path = 'Data/Free_Agent_Team_Salary/team_salary_'\n",
    "# Equipos\n",
    "teams = []\n",
    "# Originales:\n",
    "df_team = [None]*period"
   ]
  },
  {
   "cell_type": "markdown",
   "id": "37d1241a-1b90-4f14-b7cb-7afa815f67bb",
   "metadata": {},
   "source": [
    "### Acrónimos de los equipos\n",
    "\n",
    "Se obtendrán los equipos que están solo en las bases de datos para reducir el número de equipos y tiempo de análisis a lo largo del trabajo."
   ]
  },
  {
   "cell_type": "code",
   "execution_count": 6,
   "id": "315a84b9-1188-41cc-baa1-e603e82ee0e7",
   "metadata": {},
   "outputs": [],
   "source": [
    "for i in range(0,period):    \n",
    "    df_team[i] = pd.read_csv(team_path + str(2011 + i) + csv)\n",
    "    values = df_team[i].Team.unique().tolist()\n",
    "    \n",
    "    teams.append(values)"
   ]
  },
  {
   "cell_type": "markdown",
   "id": "3ff2bd50-7041-48ec-b140-79135fc6fd6b",
   "metadata": {},
   "source": [
    "Ya se guardaron en cada entrada de lista *teams* cada una de las listas que contiene los nombres (sin repetir) de los equipos en las distintas bases de datos. Ahora se tiene que pasar a una lista plana que no contenga listas, sino solo el contenido de todas estas"
   ]
  },
  {
   "cell_type": "code",
   "execution_count": 61,
   "id": "3e6ca518-5356-4f56-97cf-9dfc9e9e5078",
   "metadata": {},
   "outputs": [
    {
     "data": {
      "text/plain": [
       "(11,)"
      ]
     },
     "execution_count": 61,
     "metadata": {},
     "output_type": "execute_result"
    }
   ],
   "source": [
    "# Veamos que la dimensión de la lista es igual al número de bases de datos\n",
    "np.shape(teams)"
   ]
  },
  {
   "cell_type": "code",
   "execution_count": 29,
   "id": "c41ed97a-3210-4fcc-831d-1c957b3d88a4",
   "metadata": {},
   "outputs": [],
   "source": [
    "# Guardaremos el contenido de todas las listas en otra lista\n",
    "# Esta lista solo contendrá valores númericos y no listas\n",
    "all_teams = [name for team in teams for name in team]"
   ]
  },
  {
   "cell_type": "markdown",
   "id": "4b1412f9-2bf9-4dbf-8034-23b55c8dbb69",
   "metadata": {},
   "source": [
    "Nótese que ahora incrementa el número de entradas en la lista como e ra de esperarse"
   ]
  },
  {
   "cell_type": "code",
   "execution_count": 30,
   "id": "5af07cec-0c25-48db-a2b0-6685951da7cc",
   "metadata": {},
   "outputs": [
    {
     "data": {
      "text/plain": [
       "(285,)"
      ]
     },
     "execution_count": 30,
     "metadata": {},
     "output_type": "execute_result"
    }
   ],
   "source": [
    "np.shape(all_teams)"
   ]
  },
  {
   "cell_type": "markdown",
   "id": "52e63c74-571f-4996-ac51-d3c36936f40c",
   "metadata": {},
   "source": [
    "Para contruir la base de datos de los acrónimos tenemos que auxiliarnos solo de los equipos que están en nuestras bases de datos ya que han existido muchos acrónimos y equipos a lo largo de la historia y no necesariamente todos los equipos actuales están en nuestras bases de datos. Por otro lado, nos serviría de guía para crear de manera eficiente la base de datos de los acrónimos."
   ]
  },
  {
   "cell_type": "code",
   "execution_count": 31,
   "id": "263ceb8d-7b7a-4766-979e-37157b0fbc26",
   "metadata": {},
   "outputs": [
    {
     "name": "stdout",
     "output_type": "stream",
     "text": [
      "['Arizona Diamondbacks' 'Atlanta Braves' 'Baltimore Orioles'\n",
      " 'Boston Red Sox' 'Chicago Cubs' 'Chicago White Sox' 'Cincinnati Reds'\n",
      " 'Colorado Rockies' 'Detroit Tigers' 'Houston Astros' 'Kansas City Royals'\n",
      " 'Los Angeles Angels' 'Los Angeles Dodgers' 'Miami Marlins'\n",
      " 'Milwaukee Brewers' 'Minnesota Twins' 'New York Mets' 'New York Yankees'\n",
      " 'Oakland Athletics' 'Philadelphia Phillies' 'Pittsburgh Pirates'\n",
      " 'San Diego Padres' 'San Francisco Giants' 'Seattle Mariners'\n",
      " 'St. Louis Cardinals' 'Tampa Bay Rays' 'Texas Rangers'\n",
      " 'Toronto Blue Jays' 'Washington Nationals']\n"
     ]
    }
   ],
   "source": [
    "unique_teams = np.unique(np.array(all_teams))\n",
    "print(unique_teams)"
   ]
  },
  {
   "cell_type": "code",
   "execution_count": 32,
   "id": "758a5df2-c9f1-4dfe-8d53-acad9cc1b2f9",
   "metadata": {},
   "outputs": [
    {
     "name": "stdout",
     "output_type": "stream",
     "text": [
      "(29,)\n"
     ]
    }
   ],
   "source": [
    "# Cuya dimensión es\n",
    "print(np.shape(unique_teams))"
   ]
  },
  {
   "cell_type": "markdown",
   "id": "26a32e74-871b-4e5e-9fdb-6693ae071b86",
   "metadata": {},
   "source": [
    "Por otro lado, hay equipos que no han tenido el mismo acrónimo a lo largo de los años, por lo que repetiremos el proceso anterior para los acrónimos contenidos en las bases de datos que contiene a todos los jugadores. Esta se creo en el *script* llamado *Players.ipynb*."
   ]
  },
  {
   "cell_type": "code",
   "execution_count": 33,
   "id": "668ede3d-9a1b-42f3-9699-7793e9c62a49",
   "metadata": {},
   "outputs": [],
   "source": [
    "# Auxiliares\n",
    "csv = '.csv'\n",
    "# Jugadores\n",
    "hitters = []\n",
    "pitchers = []\n",
    "# Originales:\n",
    "df_total_hitters = [None]*period\n",
    "df_total_pitchers = [None]*period"
   ]
  },
  {
   "cell_type": "markdown",
   "id": "d7ece993-8cde-46f0-a076-8e7700df09c6",
   "metadata": {},
   "source": [
    "El proceso que se muestra a continuación es totalmente análogo al que se hizo para obtener los acrónimos de los equipos en las bases de datos con prefijo \"team_salary\"."
   ]
  },
  {
   "cell_type": "code",
   "execution_count": 35,
   "id": "cc8112d5-2f2a-41b2-8a2e-fc66542ab961",
   "metadata": {},
   "outputs": [],
   "source": [
    "for i in range(0,period):\n",
    "    total_hitters = 'Data/New_Data/Hitters/All_Hitters/hitters_'\n",
    "    total_pitchers = 'Data/New_Data/Pitchers/All_Pitchers/pitchers_'\n",
    "    \n",
    "    df_total_hitters[i] = pd.read_csv(total_hitters + str(2011 + i) + csv)\n",
    "    df_total_pitchers[i] = pd.read_csv(total_pitchers + str(2011 + i) + csv)\n",
    "    values_1 = df_total_hitters[i]['Equipo'].unique().tolist()\n",
    "    values_2 = df_total_pitchers[i]['Equipo'].unique().tolist()\n",
    "    \n",
    "    hitters.append(values_1)\n",
    "    pitchers.append(values_2)"
   ]
  },
  {
   "cell_type": "code",
   "execution_count": 36,
   "id": "04fa7521-57cd-43b2-9d4c-80a6eee9d8eb",
   "metadata": {},
   "outputs": [],
   "source": [
    "# Ahora obtendremos el total de acrónimos relacionados a los jugadores\n",
    "all_hitters = [name for hitter in hitters for name in hitter]\n",
    "all_pitchers = [name for pitcher in pitchers for name in pitcher]\n",
    "players = [all_hitters, all_pitchers]\n",
    "all_players = [name for player in players for name in player]\n",
    "unique_players = np.unique(np.array(all_players))"
   ]
  },
  {
   "cell_type": "code",
   "execution_count": 37,
   "id": "828ca50f-0961-4bf2-9d2b-418f0b1d34d9",
   "metadata": {},
   "outputs": [
    {
     "name": "stdout",
     "output_type": "stream",
     "text": [
      "(29,)\n",
      "['ARI' 'ATL' 'BAL' 'BOS' 'CHC' 'CHW' 'CIN' 'COL' 'DET' 'HOU' 'KC' 'LAA'\n",
      " 'LAD' 'MIA' 'MIL' 'MIN' 'NYM' 'NYY' 'OAK' 'PHI' 'PIT' 'SD' 'SEA' 'SF'\n",
      " 'STL' 'TB' 'TEX' 'TOR' 'WSH']\n"
     ]
    }
   ],
   "source": [
    "# Chequemos la dimensión y valores\n",
    "print(np.shape(unique_players))\n",
    "print(unique_players)"
   ]
  },
  {
   "cell_type": "markdown",
   "id": "c12da598-2dac-433a-b7ea-69380148e1be",
   "metadata": {},
   "source": [
    "Se aprecia que tienen el mismo número de acrónimos que equipos en ambas listas obtenidas con valores únicos. Falta ver que sí correspondan los acrónimos a los equipos en las distintas bases de datos.\n",
    "\n",
    "Debido a que no hay una base de datos con los acrónimos de los equipos, el nombre usual de los equipos y las victorias; se tendrá que construir manuealmente, lo cual se hará fuera de este *script*.\n",
    "\n",
    "El resultado obtenido fue el siguiente:"
   ]
  },
  {
   "cell_type": "code",
   "execution_count": 38,
   "id": "8818e8d5-f501-4125-8ee4-3a23e6eb9014",
   "metadata": {},
   "outputs": [],
   "source": [
    "acronym_path = 'Data/Teams/team_acronym.csv'\n",
    "acronyms = pd.read_csv(acronym_path)"
   ]
  },
  {
   "cell_type": "code",
   "execution_count": 39,
   "id": "fd942bc6-1461-4d3b-97bb-713b3e9c2df6",
   "metadata": {},
   "outputs": [
    {
     "data": {
      "text/html": [
       "<div>\n",
       "<style scoped>\n",
       "    .dataframe tbody tr th:only-of-type {\n",
       "        vertical-align: middle;\n",
       "    }\n",
       "\n",
       "    .dataframe tbody tr th {\n",
       "        vertical-align: top;\n",
       "    }\n",
       "\n",
       "    .dataframe thead th {\n",
       "        text-align: right;\n",
       "    }\n",
       "</style>\n",
       "<table border=\"1\" class=\"dataframe\">\n",
       "  <thead>\n",
       "    <tr style=\"text-align: right;\">\n",
       "      <th></th>\n",
       "      <th>Acronimo</th>\n",
       "      <th>Equipo</th>\n",
       "    </tr>\n",
       "  </thead>\n",
       "  <tbody>\n",
       "    <tr>\n",
       "      <th>0</th>\n",
       "      <td>ARI</td>\n",
       "      <td>Arizona Diamondbacks</td>\n",
       "    </tr>\n",
       "    <tr>\n",
       "      <th>1</th>\n",
       "      <td>ATL</td>\n",
       "      <td>Atlanta Braves</td>\n",
       "    </tr>\n",
       "    <tr>\n",
       "      <th>2</th>\n",
       "      <td>BAL</td>\n",
       "      <td>Baltimore Orioles</td>\n",
       "    </tr>\n",
       "    <tr>\n",
       "      <th>3</th>\n",
       "      <td>BOS</td>\n",
       "      <td>Boston Red Sox</td>\n",
       "    </tr>\n",
       "    <tr>\n",
       "      <th>4</th>\n",
       "      <td>CHC</td>\n",
       "      <td>Chicago Cubs</td>\n",
       "    </tr>\n",
       "  </tbody>\n",
       "</table>\n",
       "</div>"
      ],
      "text/plain": [
       "  Acronimo                Equipo\n",
       "0      ARI  Arizona Diamondbacks\n",
       "1      ATL        Atlanta Braves\n",
       "2      BAL     Baltimore Orioles\n",
       "3      BOS        Boston Red Sox\n",
       "4      CHC          Chicago Cubs"
      ]
     },
     "execution_count": 39,
     "metadata": {},
     "output_type": "execute_result"
    }
   ],
   "source": [
    "acronyms.head()"
   ]
  },
  {
   "cell_type": "markdown",
   "id": "8a039331-8fbe-4c5f-8bca-4ac17ea644a8",
   "metadata": {},
   "source": [
    "### Victorias anuales de  los equipos\n",
    "\n",
    "Con el mismo formato se crearán bases de datos que correspondan a los mismo años y que contengas las victorias de cada equipo en cada año.\n",
    "\n",
    "Veamos el resultados final"
   ]
  },
  {
   "cell_type": "code",
   "execution_count": 40,
   "id": "1e73707b-90b1-477b-a16c-af19832f02e4",
   "metadata": {},
   "outputs": [],
   "source": [
    "victory_path = 'Data/Teams/team_victories_2011.csv'\n",
    "victory_2011 = pd.read_csv(victory_path)"
   ]
  },
  {
   "cell_type": "code",
   "execution_count": 41,
   "id": "46e0bab8-182c-44be-bfdd-796dde105f56",
   "metadata": {},
   "outputs": [
    {
     "data": {
      "text/html": [
       "<div>\n",
       "<style scoped>\n",
       "    .dataframe tbody tr th:only-of-type {\n",
       "        vertical-align: middle;\n",
       "    }\n",
       "\n",
       "    .dataframe tbody tr th {\n",
       "        vertical-align: top;\n",
       "    }\n",
       "\n",
       "    .dataframe thead th {\n",
       "        text-align: right;\n",
       "    }\n",
       "</style>\n",
       "<table border=\"1\" class=\"dataframe\">\n",
       "  <thead>\n",
       "    <tr style=\"text-align: right;\">\n",
       "      <th></th>\n",
       "      <th>Acronimo</th>\n",
       "      <th>Equipo</th>\n",
       "      <th>Victorias</th>\n",
       "      <th>Juegos totales</th>\n",
       "    </tr>\n",
       "  </thead>\n",
       "  <tbody>\n",
       "    <tr>\n",
       "      <th>0</th>\n",
       "      <td>ARI</td>\n",
       "      <td>Arizona Diamondbacks</td>\n",
       "      <td>94</td>\n",
       "      <td>162</td>\n",
       "    </tr>\n",
       "    <tr>\n",
       "      <th>1</th>\n",
       "      <td>ATL</td>\n",
       "      <td>Atlanta Braves</td>\n",
       "      <td>89</td>\n",
       "      <td>162</td>\n",
       "    </tr>\n",
       "    <tr>\n",
       "      <th>2</th>\n",
       "      <td>BAL</td>\n",
       "      <td>Baltimore Orioles</td>\n",
       "      <td>69</td>\n",
       "      <td>162</td>\n",
       "    </tr>\n",
       "    <tr>\n",
       "      <th>3</th>\n",
       "      <td>BOS</td>\n",
       "      <td>Boston Red Sox</td>\n",
       "      <td>90</td>\n",
       "      <td>162</td>\n",
       "    </tr>\n",
       "    <tr>\n",
       "      <th>4</th>\n",
       "      <td>CHC</td>\n",
       "      <td>Chicago Cubs</td>\n",
       "      <td>71</td>\n",
       "      <td>162</td>\n",
       "    </tr>\n",
       "  </tbody>\n",
       "</table>\n",
       "</div>"
      ],
      "text/plain": [
       "  Acronimo                Equipo  Victorias  Juegos totales\n",
       "0      ARI  Arizona Diamondbacks         94             162\n",
       "1      ATL        Atlanta Braves         89             162\n",
       "2      BAL     Baltimore Orioles         69             162\n",
       "3      BOS        Boston Red Sox         90             162\n",
       "4      CHC          Chicago Cubs         71             162"
      ]
     },
     "execution_count": 41,
     "metadata": {},
     "output_type": "execute_result"
    }
   ],
   "source": [
    "victory_2011.head()"
   ]
  },
  {
   "cell_type": "markdown",
   "id": "46b19684-c5c4-4686-9320-af956ace0cec",
   "metadata": {},
   "source": [
    "## Creación del dataframe\n",
    "\n",
    "Debido a que se modelarán series de tiempo, se crearán bases de datos de corte transversal que contenga los salarios, la cantidad de agentes libres y las victorias de cada equipo."
   ]
  },
  {
   "cell_type": "code",
   "execution_count": 49,
   "id": "974b512a-5c51-448d-9771-3c468e63e024",
   "metadata": {},
   "outputs": [],
   "source": [
    "# Auxiliares\n",
    "period = 11\n",
    "csv = '.csv'\n",
    "path_team_salaries = 'Data/Free_Agent_Team_Salary/team_salary_'\n",
    "path_team_victories = 'Data/Teams/team_victories_'\n",
    "# Originales:\n",
    "df_team_victories = [None]*period\n",
    "df_team_salaries = [None]*period\n",
    "# Copias:\n",
    "df_team_victories_copy = [None]*period\n",
    "df_team_salaries_copy = [None]*period\n",
    "# Producto final:\n",
    "df_team = [None]*period"
   ]
  },
  {
   "cell_type": "markdown",
   "id": "0f16255c-50c2-4d30-88fc-0412a41f1bb1",
   "metadata": {},
   "source": [
    "Veamos lo que contienen las bases de datos sobre los salarios de los equipos"
   ]
  },
  {
   "cell_type": "code",
   "execution_count": 50,
   "id": "af558230-775c-4469-8fca-71c118de4748",
   "metadata": {},
   "outputs": [
    {
     "data": {
      "text/html": [
       "<div>\n",
       "<style scoped>\n",
       "    .dataframe tbody tr th:only-of-type {\n",
       "        vertical-align: middle;\n",
       "    }\n",
       "\n",
       "    .dataframe tbody tr th {\n",
       "        vertical-align: top;\n",
       "    }\n",
       "\n",
       "    .dataframe thead th {\n",
       "        text-align: right;\n",
       "    }\n",
       "</style>\n",
       "<table border=\"1\" class=\"dataframe\">\n",
       "  <thead>\n",
       "    <tr style=\"text-align: right;\">\n",
       "      <th></th>\n",
       "      <th>Rank</th>\n",
       "      <th>Team</th>\n",
       "      <th>Players</th>\n",
       "      <th>YRS</th>\n",
       "      <th>Value</th>\n",
       "      <th>AAV</th>\n",
       "    </tr>\n",
       "  </thead>\n",
       "  <tbody>\n",
       "    <tr>\n",
       "      <th>0</th>\n",
       "      <td>NaN</td>\n",
       "      <td>Los Angeles Angels</td>\n",
       "      <td>8</td>\n",
       "      <td>14</td>\n",
       "      <td>$153,500,000</td>\n",
       "      <td>$10,964,286</td>\n",
       "    </tr>\n",
       "    <tr>\n",
       "      <th>1</th>\n",
       "      <td>NaN</td>\n",
       "      <td>Los Angeles Dodgers</td>\n",
       "      <td>7</td>\n",
       "      <td>12</td>\n",
       "      <td>$150,850,000</td>\n",
       "      <td>$12,570,833</td>\n",
       "    </tr>\n",
       "    <tr>\n",
       "      <th>2</th>\n",
       "      <td>NaN</td>\n",
       "      <td>Boston Red Sox</td>\n",
       "      <td>10</td>\n",
       "      <td>16</td>\n",
       "      <td>$130,700,000</td>\n",
       "      <td>$8,168,750</td>\n",
       "    </tr>\n",
       "    <tr>\n",
       "      <th>3</th>\n",
       "      <td>NaN</td>\n",
       "      <td>Detroit Tigers</td>\n",
       "      <td>4</td>\n",
       "      <td>9</td>\n",
       "      <td>$107,775,000</td>\n",
       "      <td>$11,975,000</td>\n",
       "    </tr>\n",
       "    <tr>\n",
       "      <th>4</th>\n",
       "      <td>NaN</td>\n",
       "      <td>San Francisco Giants</td>\n",
       "      <td>6</td>\n",
       "      <td>13</td>\n",
       "      <td>$80,750,000</td>\n",
       "      <td>$6,211,538</td>\n",
       "    </tr>\n",
       "  </tbody>\n",
       "</table>\n",
       "</div>"
      ],
      "text/plain": [
       "   Rank                  Team  Players  YRS         Value          AAV\n",
       "0   NaN    Los Angeles Angels        8   14  $153,500,000  $10,964,286\n",
       "1   NaN   Los Angeles Dodgers        7   12  $150,850,000  $12,570,833\n",
       "2   NaN        Boston Red Sox       10   16  $130,700,000   $8,168,750\n",
       "3   NaN        Detroit Tigers        4    9  $107,775,000  $11,975,000\n",
       "4   NaN  San Francisco Giants        6   13   $80,750,000   $6,211,538"
      ]
     },
     "execution_count": 50,
     "metadata": {},
     "output_type": "execute_result"
    }
   ],
   "source": [
    "pd.read_csv(path_team_salaries + str(2013) + csv). head()"
   ]
  },
  {
   "cell_type": "markdown",
   "id": "94199411-80f2-401f-9270-3825fbdc16e0",
   "metadata": {},
   "source": [
    "De estos dataframes nos quedaremos con el nombre de los equipos, la cantidad de agentes libres y el valor total de los salarios de estos, es decir, las columnas *Team*, *Players* y *Value*. No nos quedaremos con el promedio de los salarios puesto que no nos interesa una medida de tendencia central ya que no nos da información sobre los valores extremos."
   ]
  },
  {
   "cell_type": "code",
   "execution_count": 53,
   "id": "0e6d9ae1-bac4-40a2-b617-f2b3ab1290c7",
   "metadata": {},
   "outputs": [],
   "source": [
    "for i in range(0,period):      \n",
    "    df_team_victories[i] = pd.read_csv(path_team_victories + str(2011 + i) + csv)\n",
    "    df_team_salaries[i] = pd.read_csv(path_team_salaries + str(2011 + i) + csv)\n",
    "    \n",
    "    df_team_victories_copy[i] = df_team_victories[i].copy()\n",
    "    df_team_salaries_copy[i] = df_team_salaries[i].copy()\n",
    "    \n",
    "    df_team_salaries_copy[i]  = df_team_salaries_copy[i][['Team', 'Players', 'Value']]\n",
    "    df_team_salaries_names  = ['Equipo', 'Cantidad_agentes_libres', 'Valor_contrato']\n",
    "    df_team_salaries_copy[i].columns = df_team_salaries_names\n",
    "\n",
    "    team_salaries_aux_1 = df_team_salaries_copy[i]['Valor_contrato'].str.replace(\"$\",\"\")\n",
    "    team_salaries_aux_2 = team_salaries_aux_1.str.replace(\",\",\"\")\n",
    "    df_team_salaries_copy[i]['Valor_contrato'] = team_salaries_aux_2\n",
    "    \n",
    "    df_team_salaries_copy[i]['Valor_contrato'] = pd.to_numeric(df_team_salaries_copy[i]['Valor_contrato'])\n",
    "        \n",
    "    df_team[i] = pd.merge(df_team_salaries_copy[i], df_team_victories_copy[i], on = 'Equipo')\n",
    "    df_team[i]['Promedio_victorias'] = df_team[i]['Victorias']/df_team[i]['Juegos totales']\n",
    "    \n",
    "    # Exportemos los dataframes por separado\n",
    "    df_team[i].to_csv('Data/New_Data/Teams/free_agents_team_' + str(2011 + i) + '.csv', index = False)"
   ]
  },
  {
   "cell_type": "markdown",
   "id": "977b1992-06e2-48f8-a514-4d8a7a89388b",
   "metadata": {},
   "source": [
    "Veamos algunos de los productos finales"
   ]
  },
  {
   "cell_type": "code",
   "execution_count": 54,
   "id": "4f5bc6d2-10bd-4f7f-957a-81147d6535fb",
   "metadata": {},
   "outputs": [
    {
     "data": {
      "text/html": [
       "<div>\n",
       "<style scoped>\n",
       "    .dataframe tbody tr th:only-of-type {\n",
       "        vertical-align: middle;\n",
       "    }\n",
       "\n",
       "    .dataframe tbody tr th {\n",
       "        vertical-align: top;\n",
       "    }\n",
       "\n",
       "    .dataframe thead th {\n",
       "        text-align: right;\n",
       "    }\n",
       "</style>\n",
       "<table border=\"1\" class=\"dataframe\">\n",
       "  <thead>\n",
       "    <tr style=\"text-align: right;\">\n",
       "      <th></th>\n",
       "      <th>Equipo</th>\n",
       "      <th>Cantidad_agentes_libres</th>\n",
       "      <th>Valor_contrato</th>\n",
       "      <th>Acronimo</th>\n",
       "      <th>Victorias</th>\n",
       "      <th>Juegos totales</th>\n",
       "      <th>Promedio_victorias</th>\n",
       "    </tr>\n",
       "  </thead>\n",
       "  <tbody>\n",
       "    <tr>\n",
       "      <th>0</th>\n",
       "      <td>New York Yankees</td>\n",
       "      <td>2</td>\n",
       "      <td>336500000</td>\n",
       "      <td>NYY</td>\n",
       "      <td>33</td>\n",
       "      <td>60</td>\n",
       "      <td>0.550000</td>\n",
       "    </tr>\n",
       "    <tr>\n",
       "      <th>1</th>\n",
       "      <td>Washington Nationals</td>\n",
       "      <td>10</td>\n",
       "      <td>316750000</td>\n",
       "      <td>WSH</td>\n",
       "      <td>26</td>\n",
       "      <td>62</td>\n",
       "      <td>0.419355</td>\n",
       "    </tr>\n",
       "    <tr>\n",
       "      <th>2</th>\n",
       "      <td>Los Angeles Angels</td>\n",
       "      <td>3</td>\n",
       "      <td>260850000</td>\n",
       "      <td>LAA</td>\n",
       "      <td>26</td>\n",
       "      <td>60</td>\n",
       "      <td>0.433333</td>\n",
       "    </tr>\n",
       "    <tr>\n",
       "      <th>3</th>\n",
       "      <td>Chicago White Sox</td>\n",
       "      <td>5</td>\n",
       "      <td>151500000</td>\n",
       "      <td>CHW</td>\n",
       "      <td>35</td>\n",
       "      <td>60</td>\n",
       "      <td>0.583333</td>\n",
       "    </tr>\n",
       "    <tr>\n",
       "      <th>4</th>\n",
       "      <td>Cincinnati Reds</td>\n",
       "      <td>4</td>\n",
       "      <td>144825000</td>\n",
       "      <td>CIN</td>\n",
       "      <td>31</td>\n",
       "      <td>59</td>\n",
       "      <td>0.525424</td>\n",
       "    </tr>\n",
       "  </tbody>\n",
       "</table>\n",
       "</div>"
      ],
      "text/plain": [
       "                 Equipo  Cantidad_agentes_libres  Valor_contrato Acronimo  \\\n",
       "0      New York Yankees                        2       336500000      NYY   \n",
       "1  Washington Nationals                       10       316750000      WSH   \n",
       "2    Los Angeles Angels                        3       260850000      LAA   \n",
       "3     Chicago White Sox                        5       151500000      CHW   \n",
       "4       Cincinnati Reds                        4       144825000      CIN   \n",
       "\n",
       "   Victorias  Juegos totales  Promedio_victorias  \n",
       "0         33              60            0.550000  \n",
       "1         26              62            0.419355  \n",
       "2         26              60            0.433333  \n",
       "3         35              60            0.583333  \n",
       "4         31              59            0.525424  "
      ]
     },
     "execution_count": 54,
     "metadata": {},
     "output_type": "execute_result"
    }
   ],
   "source": [
    "df_team[9].head()"
   ]
  }
 ],
 "metadata": {
  "kernelspec": {
   "display_name": "Python 3",
   "language": "python",
   "name": "python3"
  },
  "language_info": {
   "codemirror_mode": {
    "name": "ipython",
    "version": 3
   },
   "file_extension": ".py",
   "mimetype": "text/x-python",
   "name": "python",
   "nbconvert_exporter": "python",
   "pygments_lexer": "ipython3",
   "version": "3.8.8"
  }
 },
 "nbformat": 4,
 "nbformat_minor": 5
}
