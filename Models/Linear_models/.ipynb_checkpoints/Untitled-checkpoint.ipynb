{
 "cells": [
  {
   "cell_type": "markdown",
   "id": "177de4ad-204d-4828-a33f-7e1021dea35f",
   "metadata": {},
   "source": [
    "# Modelo lineal del artículo\n",
    "\n",
    "En este modelo que es de la siguiente forma:\n",
    "\n",
    "necesitaremos la base de datos que contruimos con toda la información relevante de los equipos!"
   ]
  },
  {
   "cell_type": "code",
   "execution_count": 1,
   "id": "3b27c018-18a4-4e0e-a0ce-870c5b54e120",
   "metadata": {},
   "outputs": [
    {
     "name": "stdout",
     "output_type": "stream",
     "text": [
      "Modulos importados\n"
     ]
    }
   ],
   "source": [
    "from sklearn.preprocessing import StandardScaler\n",
    "import statsmodels.api as sm\n",
    "import pandas as pd\n",
    "import numpy as np\n",
    "import math\n",
    "import os\n",
    "import warnings\n",
    "print('Modulos importados')"
   ]
  },
  {
   "cell_type": "code",
   "execution_count": 2,
   "id": "dafb1e9f-e7dc-4a96-a936-2583543122a5",
   "metadata": {},
   "outputs": [],
   "source": [
    "# Configuraciones\n",
    "warnings.filterwarnings('ignore')\n",
    "# Reduzcamos el número de línea a leer\n",
    "pd.options.display.max_rows = 5"
   ]
  },
  {
   "cell_type": "code",
   "execution_count": 3,
   "id": "4de8558f-cc19-4791-b776-dc28d76eafee",
   "metadata": {},
   "outputs": [
    {
     "name": "stdout",
     "output_type": "stream",
     "text": [
      "/home/usuario/Documentos/Github/Proyectos/MLB_HN/Models/Linear_models\n"
     ]
    }
   ],
   "source": [
    "# Veamos el directorio actual de trabajo\n",
    "print(os.getcwd())\n",
    "# El directorio anterior es el correcto, pero si no lo fuese, hacemos lo sigueinte:\n",
    "path = '/home/usuario/Documentos/Github/Proyectos/MLB_HN'\n",
    "os.chdir(path)"
   ]
  },
  {
   "cell_type": "markdown",
   "id": "67620056-0358-4be0-87ea-f4d977938bda",
   "metadata": {},
   "source": [
    "Leamos los archivos correspondientes"
   ]
  },
  {
   "cell_type": "code",
   "execution_count": 35,
   "id": "4a3eef80-4073-417b-a4ad-7cc0b78730fd",
   "metadata": {},
   "outputs": [],
   "source": [
    "# Años de análisis\n",
    "period = 11\n",
    "csv = '.csv'\n",
    "# Directorios\n",
    "teams_path = 'Data/New_Data/Teams/free_agents_team_'\n",
    "names_path = 'Data/Teams/team_acronym'\n",
    "# Originales:\n",
    "names = pd.read_csv(names_path + csv)\n",
    "df_team = [None]*period\n",
    "df_team_copy = [None]*period"
   ]
  },
  {
   "cell_type": "code",
   "execution_count": 36,
   "id": "636af8ff-3e49-46ba-8527-729ed941c0bc",
   "metadata": {},
   "outputs": [],
   "source": [
    "for i in range(0,period):\n",
    "    df_team[i] = pd.read_csv(teams_path + str(2011 + i) + csv)\n",
    "    df_team_copy[i] = df_team[i].copy()"
   ]
  },
  {
   "cell_type": "markdown",
   "id": "79074fd2-cc44-42f7-a655-07949d46c142",
   "metadata": {},
   "source": [
    "Observemos el contenido de las bases de datos"
   ]
  },
  {
   "cell_type": "code",
   "execution_count": 37,
   "id": "26185503-cbb1-498e-90b3-4797210df2c4",
   "metadata": {},
   "outputs": [
    {
     "data": {
      "text/html": [
       "<div>\n",
       "<style scoped>\n",
       "    .dataframe tbody tr th:only-of-type {\n",
       "        vertical-align: middle;\n",
       "    }\n",
       "\n",
       "    .dataframe tbody tr th {\n",
       "        vertical-align: top;\n",
       "    }\n",
       "\n",
       "    .dataframe thead th {\n",
       "        text-align: right;\n",
       "    }\n",
       "</style>\n",
       "<table border=\"1\" class=\"dataframe\">\n",
       "  <thead>\n",
       "    <tr style=\"text-align: right;\">\n",
       "      <th></th>\n",
       "      <th>Acronimo</th>\n",
       "      <th>Equipo</th>\n",
       "    </tr>\n",
       "  </thead>\n",
       "  <tbody>\n",
       "    <tr>\n",
       "      <th>0</th>\n",
       "      <td>ARI</td>\n",
       "      <td>Arizona Diamondbacks</td>\n",
       "    </tr>\n",
       "    <tr>\n",
       "      <th>1</th>\n",
       "      <td>ATL</td>\n",
       "      <td>Atlanta Braves</td>\n",
       "    </tr>\n",
       "    <tr>\n",
       "      <th>2</th>\n",
       "      <td>BAL</td>\n",
       "      <td>Baltimore Orioles</td>\n",
       "    </tr>\n",
       "    <tr>\n",
       "      <th>3</th>\n",
       "      <td>BOS</td>\n",
       "      <td>Boston Red Sox</td>\n",
       "    </tr>\n",
       "    <tr>\n",
       "      <th>4</th>\n",
       "      <td>CHC</td>\n",
       "      <td>Chicago Cubs</td>\n",
       "    </tr>\n",
       "  </tbody>\n",
       "</table>\n",
       "</div>"
      ],
      "text/plain": [
       "  Acronimo                Equipo\n",
       "0      ARI  Arizona Diamondbacks\n",
       "1      ATL        Atlanta Braves\n",
       "2      BAL     Baltimore Orioles\n",
       "3      BOS        Boston Red Sox\n",
       "4      CHC          Chicago Cubs"
      ]
     },
     "execution_count": 37,
     "metadata": {},
     "output_type": "execute_result"
    }
   ],
   "source": [
    "names.head()"
   ]
  },
  {
   "cell_type": "code",
   "execution_count": 38,
   "id": "0f9b980c-73e0-4d3f-b291-15235b6cec28",
   "metadata": {},
   "outputs": [
    {
     "data": {
      "text/html": [
       "<div>\n",
       "<style scoped>\n",
       "    .dataframe tbody tr th:only-of-type {\n",
       "        vertical-align: middle;\n",
       "    }\n",
       "\n",
       "    .dataframe tbody tr th {\n",
       "        vertical-align: top;\n",
       "    }\n",
       "\n",
       "    .dataframe thead th {\n",
       "        text-align: right;\n",
       "    }\n",
       "</style>\n",
       "<table border=\"1\" class=\"dataframe\">\n",
       "  <thead>\n",
       "    <tr style=\"text-align: right;\">\n",
       "      <th></th>\n",
       "      <th>Equipo</th>\n",
       "      <th>Cantidad_agentes_libres</th>\n",
       "      <th>Valor_contrato</th>\n",
       "      <th>Acronimo</th>\n",
       "      <th>Victorias</th>\n",
       "      <th>Juegos totales</th>\n",
       "      <th>Promedio_victorias</th>\n",
       "    </tr>\n",
       "  </thead>\n",
       "  <tbody>\n",
       "    <tr>\n",
       "      <th>0</th>\n",
       "      <td>New York Yankees</td>\n",
       "      <td>2</td>\n",
       "      <td>336500000</td>\n",
       "      <td>NYY</td>\n",
       "      <td>33</td>\n",
       "      <td>60</td>\n",
       "      <td>0.550000</td>\n",
       "    </tr>\n",
       "    <tr>\n",
       "      <th>1</th>\n",
       "      <td>Washington Nationals</td>\n",
       "      <td>10</td>\n",
       "      <td>316750000</td>\n",
       "      <td>WSH</td>\n",
       "      <td>26</td>\n",
       "      <td>62</td>\n",
       "      <td>0.419355</td>\n",
       "    </tr>\n",
       "    <tr>\n",
       "      <th>2</th>\n",
       "      <td>Los Angeles Angels</td>\n",
       "      <td>3</td>\n",
       "      <td>260850000</td>\n",
       "      <td>LAA</td>\n",
       "      <td>26</td>\n",
       "      <td>60</td>\n",
       "      <td>0.433333</td>\n",
       "    </tr>\n",
       "    <tr>\n",
       "      <th>3</th>\n",
       "      <td>Chicago White Sox</td>\n",
       "      <td>5</td>\n",
       "      <td>151500000</td>\n",
       "      <td>CHW</td>\n",
       "      <td>35</td>\n",
       "      <td>60</td>\n",
       "      <td>0.583333</td>\n",
       "    </tr>\n",
       "    <tr>\n",
       "      <th>4</th>\n",
       "      <td>Cincinnati Reds</td>\n",
       "      <td>4</td>\n",
       "      <td>144825000</td>\n",
       "      <td>CIN</td>\n",
       "      <td>31</td>\n",
       "      <td>59</td>\n",
       "      <td>0.525424</td>\n",
       "    </tr>\n",
       "  </tbody>\n",
       "</table>\n",
       "</div>"
      ],
      "text/plain": [
       "                 Equipo  Cantidad_agentes_libres  Valor_contrato Acronimo  \\\n",
       "0      New York Yankees                        2       336500000      NYY   \n",
       "1  Washington Nationals                       10       316750000      WSH   \n",
       "2    Los Angeles Angels                        3       260850000      LAA   \n",
       "3     Chicago White Sox                        5       151500000      CHW   \n",
       "4       Cincinnati Reds                        4       144825000      CIN   \n",
       "\n",
       "   Victorias  Juegos totales  Promedio_victorias  \n",
       "0         33              60            0.550000  \n",
       "1         26              62            0.419355  \n",
       "2         26              60            0.433333  \n",
       "3         35              60            0.583333  \n",
       "4         31              59            0.525424  "
      ]
     },
     "execution_count": 38,
     "metadata": {},
     "output_type": "execute_result"
    }
   ],
   "source": [
    "df_team_copy[9].head()"
   ]
  },
  {
   "cell_type": "markdown",
   "id": "5f83bb5a-5508-492a-8538-b06f47541ff8",
   "metadata": {},
   "source": [
    "## Construcción de la base de datos para el modelo\n",
    "\n",
    "Primero, tenemos que determinar cuál es el mínimo y máximo del promedio de victorias de cada equipo a lo largo del periodo de análisis. Primero, creemos un diccionario que guarde en una lista ambos valores cuya llave asociada sea el nombre del equipo. Se tomará el promedio y no el número de victorias puesto que no todos los equipos juegan la misma cantidad de partidos en una temporada y habría fallos en el análisis en años como el 2020 por la pandemia que provocó que la cantidad de juegos por temporada fuiera mucho menor  a la usual, siendo alrededor de 60 juegos en dicha temporada.\n",
    "\n",
    "Para crear este diccionario usaremos la base de datos de los acrónimos puesto que contiene todos los equipos que puedan haber en las bases de datos de los equipos en el periodo de análisis"
   ]
  },
  {
   "cell_type": "code",
   "execution_count": 43,
   "id": "a98b11a0-bb66-4711-8333-f5bf3c386552",
   "metadata": {},
   "outputs": [],
   "source": [
    "minmax_victories = {}\n",
    "length_names = len(names['Equipo'])\n",
    "# CReemos las llaves con los nombres de los equipos\n",
    "for i in range(0,length_names):\n",
    "    minmax_victories[str(names['Equipo'].iloc[i])] = [None]*2"
   ]
  },
  {
   "cell_type": "markdown",
   "id": "2ee6dd1d-b078-4da9-9d2e-4fa641d2c9ae",
   "metadata": {},
   "source": [
    "Como valores de comparación para las victorias usaremos cualquier base de datos que contenga la misma cantidad de filas que la base de datos *names*. Obtengamos el índice de las bases de datos que cumplan esa condición."
   ]
  },
  {
   "cell_type": "code",
   "execution_count": 44,
   "id": "69039712-2811-4943-ad09-cd45d84b5189",
   "metadata": {},
   "outputs": [
    {
     "name": "stdout",
     "output_type": "stream",
     "text": [
      "2\n",
      "3\n",
      "4\n",
      "5\n",
      "6\n",
      "8\n",
      "10\n"
     ]
    }
   ],
   "source": [
    "for i in range(0,period):\n",
    "    if len(df_team_copy[i]['Equipo']) == length_names:\n",
    "        print(i)"
   ]
  },
  {
   "cell_type": "code",
   "execution_count": 71,
   "id": "93b3c16b-d42b-4564-9f03-bd745605ce68",
   "metadata": {},
   "outputs": [],
   "source": [
    "# Usaremos la tercera base de datos\n",
    "team_name = list(minmax_victories.keys())\n",
    "for i in range(length_names):\n",
    "    for j in range(length_names):\n",
    "        if team_name[i] == df_team_copy[2]['Equipo'].iloc[j]:\n",
    "            minmax_victories[team_name[i]][0] = df_team_copy[2]['Promedio_victorias'].iloc[j]\n",
    "            minmax_victories[team_name[i]][1] = df_team_copy[2]['Promedio_victorias'].iloc[j]"
   ]
  },
  {
   "cell_type": "markdown",
   "id": "094a87d4-2697-4112-bd97-7c58f392f738",
   "metadata": {},
   "source": [
    "Ahora, recorreremos el promedio de victorias de todas las bases de datos para hallar el menor y mayor número de victorias que ha tenido cada equipo en el periodo de análisis."
   ]
  },
  {
   "cell_type": "code",
   "execution_count": 73,
   "id": "f5234e45-5e4c-47c0-aa76-0dc2b6539967",
   "metadata": {},
   "outputs": [],
   "source": [
    "for year in range(period):\n",
    "    # Nombres de los equipos en la base de datos\n",
    "    team_year_name = list(df_team_copy[year]['Equipo'])\n",
    "    \n",
    "    for i in range(length_names):\n",
    "        # Mínimo actual\n",
    "        min_victory = minmax_victories[team_name[i]][0]\n",
    "        # Máximo actual:\n",
    "        max_victory = minmax_victories[team_name[i]][1]\n",
    "        \n",
    "        for j in range(len(team_year_name)):\n",
    "            \n",
    "            if team_name[i] == team_year_name[j]:\n",
    "                year_victory = df_team_copy[year]['Promedio_victorias'].iloc[j]\n",
    "                \n",
    "                # Mínimo nuevo:\n",
    "                if year_victory < min_victory:\n",
    "                    minmax_victories[team_name[i]][0] = year_victory\n",
    "                # Máximo nuevo:\n",
    "                elif year_victory > max_victory:\n",
    "                    minmax_victories[team_name[i]][1] = year_victory"
   ]
  },
  {
   "cell_type": "markdown",
   "id": "e053bf91-d89d-4ec1-bca9-2be78e9c1da7",
   "metadata": {},
   "source": [
    "Los valores de la lista ahora son de la siguiente forma:"
   ]
  },
  {
   "cell_type": "code",
   "execution_count": 75,
   "id": "fe947972-48e6-47e6-b5d2-b7bfb8331a6a",
   "metadata": {},
   "outputs": [
    {
     "name": "stdout",
     "output_type": "stream",
     "text": [
      "[0.40625, 0.6024844720496895]\n"
     ]
    }
   ],
   "source": [
    "print(minmax_victories[team_name[1]])"
   ]
  },
  {
   "cell_type": "markdown",
   "id": "3458d386-9d22-4c57-93f6-9875c1a5feec",
   "metadata": {},
   "source": [
    "A continuación, se creará una columna que indique si la victoria de la temporada -correspondiente a la base de datos donde se situe- está más cercana del promedio más alto de victorias o del menor. 1 indicará que está más cercano a la mayor victoria, y 0 en otro caso -en caso de empate, se eligirá al 1."
   ]
  },
  {
   "cell_type": "code",
   "execution_count": 93,
   "id": "4d0ff43b-d00b-45fe-8811-023ca0e987d4",
   "metadata": {},
   "outputs": [],
   "source": [
    "for year in range(period):\n",
    "    # Nombres de los equipos en la base de datos\n",
    "    team_year_name = list(df_team_copy[year]['Equipo'])\n",
    "    # COlumna dummy:\n",
    "    df_team_copy[year]['Dummy'] = -1\n",
    "    \n",
    "    for i in range(length_names):\n",
    "        # Mínimo actual\n",
    "        min_victory = minmax_victories[team_name[i]][0]\n",
    "        # Máximo actual:\n",
    "        max_victory = minmax_victories[team_name[i]][1]\n",
    "        \n",
    "        for j in range(len(team_year_name)):\n",
    "            \n",
    "            if team_name[i] == team_year_name[j]:\n",
    "                year_victory = df_team_copy[year]['Promedio_victorias'].iloc[j]\n",
    "                \n",
    "                # Distancia al mínimo:\n",
    "                dist_min = year_victory - min_victory\n",
    "                # Distancia al máximo:\n",
    "                dist_max = max_victory - year_victory\n",
    "                \n",
    "                # Mínimo nuevo:\n",
    "                if dist_min < dist_max:\n",
    "                    df_team_copy[year]['Dummy'].iloc[j] = 0\n",
    "                # Máximo nuevo\n",
    "                else:  \n",
    "                    df_team_copy[year]['Dummy'].iloc[j] = 1"
   ]
  },
  {
   "cell_type": "code",
   "execution_count": 95,
   "id": "8906bf84-26d6-4b81-82df-8b18d04c2e6c",
   "metadata": {},
   "outputs": [
    {
     "data": {
      "text/html": [
       "<div>\n",
       "<style scoped>\n",
       "    .dataframe tbody tr th:only-of-type {\n",
       "        vertical-align: middle;\n",
       "    }\n",
       "\n",
       "    .dataframe tbody tr th {\n",
       "        vertical-align: top;\n",
       "    }\n",
       "\n",
       "    .dataframe thead th {\n",
       "        text-align: right;\n",
       "    }\n",
       "</style>\n",
       "<table border=\"1\" class=\"dataframe\">\n",
       "  <thead>\n",
       "    <tr style=\"text-align: right;\">\n",
       "      <th></th>\n",
       "      <th>Equipo</th>\n",
       "      <th>Cantidad_agentes_libres</th>\n",
       "      <th>Valor_contrato</th>\n",
       "      <th>Acronimo</th>\n",
       "      <th>Victorias</th>\n",
       "      <th>Juegos totales</th>\n",
       "      <th>Promedio_victorias</th>\n",
       "      <th>Dummy</th>\n",
       "    </tr>\n",
       "  </thead>\n",
       "  <tbody>\n",
       "    <tr>\n",
       "      <th>24</th>\n",
       "      <td>Milwaukee Brewers</td>\n",
       "      <td>3</td>\n",
       "      <td>7550000</td>\n",
       "      <td>MIL</td>\n",
       "      <td>86</td>\n",
       "      <td>162</td>\n",
       "      <td>0.530864</td>\n",
       "      <td>1</td>\n",
       "    </tr>\n",
       "    <tr>\n",
       "      <th>25</th>\n",
       "      <td>Chicago White Sox</td>\n",
       "      <td>1</td>\n",
       "      <td>6000000</td>\n",
       "      <td>CHW</td>\n",
       "      <td>67</td>\n",
       "      <td>162</td>\n",
       "      <td>0.413580</td>\n",
       "      <td>0</td>\n",
       "    </tr>\n",
       "    <tr>\n",
       "      <th>26</th>\n",
       "      <td>Boston Red Sox</td>\n",
       "      <td>1</td>\n",
       "      <td>5500000</td>\n",
       "      <td>BOS</td>\n",
       "      <td>93</td>\n",
       "      <td>162</td>\n",
       "      <td>0.574074</td>\n",
       "      <td>1</td>\n",
       "    </tr>\n",
       "    <tr>\n",
       "      <th>27</th>\n",
       "      <td>Cincinnati Reds</td>\n",
       "      <td>2</td>\n",
       "      <td>5300000</td>\n",
       "      <td>CIN</td>\n",
       "      <td>68</td>\n",
       "      <td>162</td>\n",
       "      <td>0.419753</td>\n",
       "      <td>0</td>\n",
       "    </tr>\n",
       "    <tr>\n",
       "      <th>28</th>\n",
       "      <td>Detroit Tigers</td>\n",
       "      <td>1</td>\n",
       "      <td>2000000</td>\n",
       "      <td>DET</td>\n",
       "      <td>64</td>\n",
       "      <td>162</td>\n",
       "      <td>0.395062</td>\n",
       "      <td>0</td>\n",
       "    </tr>\n",
       "  </tbody>\n",
       "</table>\n",
       "</div>"
      ],
      "text/plain": [
       "               Equipo  Cantidad_agentes_libres  Valor_contrato Acronimo  \\\n",
       "24  Milwaukee Brewers                        3         7550000      MIL   \n",
       "25  Chicago White Sox                        1         6000000      CHW   \n",
       "26     Boston Red Sox                        1         5500000      BOS   \n",
       "27    Cincinnati Reds                        2         5300000      CIN   \n",
       "28     Detroit Tigers                        1         2000000      DET   \n",
       "\n",
       "    Victorias  Juegos totales  Promedio_victorias  Dummy  \n",
       "24         86             162            0.530864      1  \n",
       "25         67             162            0.413580      0  \n",
       "26         93             162            0.574074      1  \n",
       "27         68             162            0.419753      0  \n",
       "28         64             162            0.395062      0  "
      ]
     },
     "execution_count": 95,
     "metadata": {},
     "output_type": "execute_result"
    }
   ],
   "source": [
    "df_team_copy[6].tail()"
   ]
  },
  {
   "cell_type": "markdown",
   "id": "7ca85b4d-da51-4129-8833-1f7777364197",
   "metadata": {},
   "source": [
    "Usemos la variable dummy para crear la columna que contenga el siguiente dato:\n",
    "\n",
    "$$\n",
    "\\left( -1 \\right)^{I_{t}^{-}}\\frac{y_{t}}{\\sqrt{y_H}}\n",
    "$$"
   ]
  },
  {
   "cell_type": "code",
   "execution_count": 106,
   "id": "37aa675a-b572-4359-b840-e5ebed521601",
   "metadata": {},
   "outputs": [],
   "source": [
    "for year in range(period):\n",
    "    # Nombres de los equipos en la base de datos\n",
    "    team_year_name = list(df_team_copy[year]['Equipo'])\n",
    "    # Columna de la nueva variable\n",
    "    df_team_copy[year]['X_dummy'] = -1\n",
    "    \n",
    "    for i in range(length_names):        \n",
    "        for j in range(len(team_year_name)):\n",
    "            \n",
    "            if team_name[i] == team_year_name[j]:\n",
    "                # Variables auxiliares\n",
    "                mean_victory = df_team_copy[year]['Promedio_victorias'].iloc[j]\n",
    "                dummy = df_team_copy[year]['Dummy'].iloc[j]\n",
    "                s_max_victory = np.power(minmax_victories[team_name[i]][1],0.5)\n",
    "                if dummy == 0:\n",
    "                    parity = 1\n",
    "                else:\n",
    "                    parity = -1\n",
    "                \n",
    "                # Variable dummy nueva\n",
    "                df_team_copy[year]['X_dummy'].iloc[j] = parity*mean_victory/s_max_victory"
   ]
  },
  {
   "cell_type": "code",
   "execution_count": 107,
   "id": "0965b937-e73e-4804-be10-e0a646c1ec0f",
   "metadata": {},
   "outputs": [
    {
     "data": {
      "text/html": [
       "<div>\n",
       "<style scoped>\n",
       "    .dataframe tbody tr th:only-of-type {\n",
       "        vertical-align: middle;\n",
       "    }\n",
       "\n",
       "    .dataframe tbody tr th {\n",
       "        vertical-align: top;\n",
       "    }\n",
       "\n",
       "    .dataframe thead th {\n",
       "        text-align: right;\n",
       "    }\n",
       "</style>\n",
       "<table border=\"1\" class=\"dataframe\">\n",
       "  <thead>\n",
       "    <tr style=\"text-align: right;\">\n",
       "      <th></th>\n",
       "      <th>Equipo</th>\n",
       "      <th>Cantidad_agentes_libres</th>\n",
       "      <th>Valor_contrato</th>\n",
       "      <th>Acronimo</th>\n",
       "      <th>Victorias</th>\n",
       "      <th>Juegos totales</th>\n",
       "      <th>Promedio_victorias</th>\n",
       "      <th>Dummy</th>\n",
       "      <th>X_dummy</th>\n",
       "    </tr>\n",
       "  </thead>\n",
       "  <tbody>\n",
       "    <tr>\n",
       "      <th>24</th>\n",
       "      <td>Milwaukee Brewers</td>\n",
       "      <td>3</td>\n",
       "      <td>7550000</td>\n",
       "      <td>MIL</td>\n",
       "      <td>86</td>\n",
       "      <td>162</td>\n",
       "      <td>0.530864</td>\n",
       "      <td>1</td>\n",
       "      <td>-0.689613</td>\n",
       "    </tr>\n",
       "    <tr>\n",
       "      <th>25</th>\n",
       "      <td>Chicago White Sox</td>\n",
       "      <td>1</td>\n",
       "      <td>6000000</td>\n",
       "      <td>CHW</td>\n",
       "      <td>67</td>\n",
       "      <td>162</td>\n",
       "      <td>0.413580</td>\n",
       "      <td>0</td>\n",
       "      <td>0.541504</td>\n",
       "    </tr>\n",
       "    <tr>\n",
       "      <th>26</th>\n",
       "      <td>Boston Red Sox</td>\n",
       "      <td>1</td>\n",
       "      <td>5500000</td>\n",
       "      <td>BOS</td>\n",
       "      <td>93</td>\n",
       "      <td>162</td>\n",
       "      <td>0.574074</td>\n",
       "      <td>1</td>\n",
       "      <td>-0.703094</td>\n",
       "    </tr>\n",
       "    <tr>\n",
       "      <th>27</th>\n",
       "      <td>Cincinnati Reds</td>\n",
       "      <td>2</td>\n",
       "      <td>5300000</td>\n",
       "      <td>CIN</td>\n",
       "      <td>68</td>\n",
       "      <td>162</td>\n",
       "      <td>0.419753</td>\n",
       "      <td>0</td>\n",
       "      <td>0.542457</td>\n",
       "    </tr>\n",
       "    <tr>\n",
       "      <th>28</th>\n",
       "      <td>Detroit Tigers</td>\n",
       "      <td>1</td>\n",
       "      <td>2000000</td>\n",
       "      <td>DET</td>\n",
       "      <td>64</td>\n",
       "      <td>162</td>\n",
       "      <td>0.395062</td>\n",
       "      <td>0</td>\n",
       "      <td>0.521412</td>\n",
       "    </tr>\n",
       "  </tbody>\n",
       "</table>\n",
       "</div>"
      ],
      "text/plain": [
       "               Equipo  Cantidad_agentes_libres  Valor_contrato Acronimo  \\\n",
       "24  Milwaukee Brewers                        3         7550000      MIL   \n",
       "25  Chicago White Sox                        1         6000000      CHW   \n",
       "26     Boston Red Sox                        1         5500000      BOS   \n",
       "27    Cincinnati Reds                        2         5300000      CIN   \n",
       "28     Detroit Tigers                        1         2000000      DET   \n",
       "\n",
       "    Victorias  Juegos totales  Promedio_victorias  Dummy   X_dummy  \n",
       "24         86             162            0.530864      1 -0.689613  \n",
       "25         67             162            0.413580      0  0.541504  \n",
       "26         93             162            0.574074      1 -0.703094  \n",
       "27         68             162            0.419753      0  0.542457  \n",
       "28         64             162            0.395062      0  0.521412  "
      ]
     },
     "execution_count": 107,
     "metadata": {},
     "output_type": "execute_result"
    }
   ],
   "source": [
    "df_team_copy[6].tail()"
   ]
  },
  {
   "cell_type": "code",
   "execution_count": 19,
   "id": "2505c860-76f0-4a84-83ff-e30e392e0ff7",
   "metadata": {},
   "outputs": [
    {
     "data": {
      "text/plain": [
       "[None, None]"
      ]
     },
     "execution_count": 19,
     "metadata": {},
     "output_type": "execute_result"
    }
   ],
   "source": [
    "[None]*2"
   ]
  },
  {
   "cell_type": "code",
   "execution_count": 20,
   "id": "35069452-54da-4579-94e3-14cfdfb59b8c",
   "metadata": {},
   "outputs": [
    {
     "data": {
      "text/plain": [
       "29"
      ]
     },
     "execution_count": 20,
     "metadata": {},
     "output_type": "execute_result"
    }
   ],
   "source": [
    "len(names['Equipo'])"
   ]
  },
  {
   "cell_type": "code",
   "execution_count": 58,
   "id": "954ecb8f-2890-4e22-9f3e-1d1d519e786a",
   "metadata": {},
   "outputs": [
    {
     "data": {
      "text/plain": [
       "'Chicago Cubs'"
      ]
     },
     "execution_count": 58,
     "metadata": {},
     "output_type": "execute_result"
    }
   ],
   "source": [
    "str(names['Equipo'].iloc[4])"
   ]
  },
  {
   "cell_type": "code",
   "execution_count": null,
   "id": "6ab1cf33-5f90-417c-adbf-5049bb677a04",
   "metadata": {},
   "outputs": [],
   "source": []
  }
 ],
 "metadata": {
  "kernelspec": {
   "display_name": "Python 3",
   "language": "python",
   "name": "python3"
  },
  "language_info": {
   "codemirror_mode": {
    "name": "ipython",
    "version": 3
   },
   "file_extension": ".py",
   "mimetype": "text/x-python",
   "name": "python",
   "nbconvert_exporter": "python",
   "pygments_lexer": "ipython3",
   "version": "3.8.8"
  }
 },
 "nbformat": 4,
 "nbformat_minor": 5
}
